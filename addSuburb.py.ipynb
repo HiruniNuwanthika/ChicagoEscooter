{
 "cells": [
  {
   "cell_type": "code",
   "execution_count": 1,
   "id": "96eceb77",
   "metadata": {},
   "outputs": [],
   "source": [
    "from geopy.geocoders import Nominatim\n",
    "import pandas as pd"
   ]
  },
  {
   "cell_type": "code",
   "execution_count": 16,
   "id": "d4eb0caa",
   "metadata": {},
   "outputs": [],
   "source": [
    "def addSuburb(inName, outName):\n",
    "   # df=pd.read_csv(r'C:\\Melbourne_Escooter\\RealDataset\\FinalResults\\August\\Started\\PerDay\\1\\AllHour.csv')\n",
    "    #df=pd.read_csv(r'C:\\Melbourne_Escooter\\RealDataset\\FinalResults\\August\\Started\\Hourly\\1_0.csv')\n",
    "    df=pd.read_csv(inName)\n",
    "    category_list=[]\n",
    "    suburb_list=[]\n",
    "    geolocator = Nominatim(user_agent=\"geoapiExercises\")\n",
    "    for i,row in df.iterrows():\n",
    "        lat=row['latitude']\n",
    "        lon=row['longitude']\n",
    "        location = geolocator.reverse(str(lat)+\",\"+str(lon))\n",
    "        address = location.raw['address']\n",
    "        category=list(address.keys())[0]\n",
    "        suburb=address['suburb']\n",
    "        category_list.append(category)\n",
    "        suburb_list.append(suburb)\n",
    "    df_suburb=pd.DataFrame(suburb_list)\n",
    "    df_category=pd.DataFrame(category_list)\n",
    "    df_all=pd.concat([df,df_suburb,df_category], axis=1)\n",
    "    df_all.columns=['bike_id', 'latitude','longitude','range','datetime','suburb','category']\n",
    "    df_all.to_csv(outName)"
   ]
  },
  {
   "cell_type": "code",
   "execution_count": 17,
   "id": "2b9b9cd8",
   "metadata": {},
   "outputs": [],
   "source": [
    "addSuburb(r'C:\\Melbourne_Escooter\\RealDataset\\FinalResults\\August\\Started\\Hourly\\1_0.csv',r'C:\\Melbourne_Escooter\\RealDataset\\FinalResults\\August\\Started\\Hourly\\1_0withSuburbTTT.csv')"
   ]
  },
  {
   "cell_type": "code",
   "execution_count": null,
   "id": "0321c155",
   "metadata": {},
   "outputs": [],
   "source": []
  }
 ],
 "metadata": {
  "kernelspec": {
   "display_name": "geo_env",
   "language": "python",
   "name": "geo_env"
  },
  "language_info": {
   "codemirror_mode": {
    "name": "ipython",
    "version": 3
   },
   "file_extension": ".py",
   "mimetype": "text/x-python",
   "name": "python",
   "nbconvert_exporter": "python",
   "pygments_lexer": "ipython3",
   "version": "3.10.5"
  }
 },
 "nbformat": 4,
 "nbformat_minor": 5
}
