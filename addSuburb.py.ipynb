{
 "cells": [
  {
   "cell_type": "code",
   "execution_count": 1,
   "id": "7e87f71b",
   "metadata": {},
   "outputs": [],
   "source": [
    "from geopy.geocoders import Nominatim\n",
    "import pandas as pd"
   ]
  },
  {
   "cell_type": "code",
   "execution_count": 19,
   "id": "e0a437d0",
   "metadata": {},
   "outputs": [],
   "source": [
    "def addSuburb(inName, outName):\n",
    "    df=pd.read_csv(inName)\n",
    "    category_list=[]\n",
    "    suburb_list=[]\n",
    "    geolocator = Nominatim(user_agent=\"geoapiExercises\")\n",
    "    for i,row in df.iterrows():\n",
    "        lat=row['latitude']\n",
    "        lon=row['longitude']\n",
    "        location = geolocator.reverse(str(lat)+\",\"+str(lon))\n",
    "        address = location.raw['address']\n",
    "        category=list(address.keys())[0]\n",
    "        suburb=address['suburb']\n",
    "        category_list.append(category)\n",
    "        suburb_list.append(suburb)\n",
    "    df_suburb=pd.DataFrame(suburb_list)\n",
    "    df_category=pd.DataFrame(category_list)\n",
    "    df_all=pd.concat([df,df_suburb,df_category], axis=1)\n",
    "    df_all.columns=['index','bike_id', 'latitude','longitude','range','datetime','suburb','category']\n",
    "    df_all.to_csv(outName)"
   ]
  },
  {
   "cell_type": "markdown",
   "id": "93eca899",
   "metadata": {},
   "source": [
    "loop row by row the dataframe and find suburb relevant to each lat, lon values. merge suburb column to DF.\n",
    "Find the category of location from each row and merge values."
   ]
  },
  {
   "cell_type": "code",
   "execution_count": 20,
   "id": "48ee85b6",
   "metadata": {},
   "outputs": [],
   "source": [
    "addSuburb(r'C:\\Melbourne_Escooter\\RealDataset\\FinalResults\\August\\Started\\PerDay\\1\\1AugHour0_00-5_59.csv',r'C:\\Melbourne_Escooter\\RealDataset\\FinalResults\\August\\Started\\PerDay\\1\\withSuburb\\start_1Aug_0_00-5_59.csv')"
   ]
  },
  {
   "cell_type": "code",
   "execution_count": 21,
   "id": "227bc41b",
   "metadata": {},
   "outputs": [],
   "source": [
    "addSuburb(r'C:\\Melbourne_Escooter\\RealDataset\\FinalResults\\August\\Stopped\\PerDay\\1\\1AugHour0_00-5_59.csv',r'C:\\Melbourne_Escooter\\RealDataset\\FinalResults\\August\\Stopped\\PerDay\\1\\withSuburb\\stop_1Aug_0_00-5_59.csv')"
   ]
  },
  {
   "cell_type": "code",
   "execution_count": 22,
   "id": "90bc4d45",
   "metadata": {},
   "outputs": [],
   "source": [
    "addSuburb(r'C:\\Melbourne_Escooter\\RealDataset\\FinalResults\\August\\Started\\PerDay\\1\\1AugHour6_00-10_59.csv',r'C:\\Melbourne_Escooter\\RealDataset\\FinalResults\\August\\Started\\PerDay\\1\\withSuburb\\start_1Aug_6_00-10_59.csv')"
   ]
  },
  {
   "cell_type": "code",
   "execution_count": null,
   "id": "c2376b72",
   "metadata": {},
   "outputs": [],
   "source": [
    "addSuburb(r'C:\\Melbourne_Escooter\\RealDataset\\FinalResults\\August\\Stopped\\PerDay\\1\\1AugHour6_00-10_59.csv',r'C:\\Melbourne_Escooter\\RealDataset\\FinalResults\\August\\Stopped\\PerDay\\1\\withSuburb\\stop_1Aug_6_00-10_59.csv')"
   ]
  }
 ],
 "metadata": {
  "kernelspec": {
   "display_name": "geo_env",
   "language": "python",
   "name": "geo_env"
  },
  "language_info": {
   "codemirror_mode": {
    "name": "ipython",
    "version": 3
   },
   "file_extension": ".py",
   "mimetype": "text/x-python",
   "name": "python",
   "nbconvert_exporter": "python",
   "pygments_lexer": "ipython3",
   "version": "3.10.5"
  }
 },
 "nbformat": 4,
 "nbformat_minor": 5
}
