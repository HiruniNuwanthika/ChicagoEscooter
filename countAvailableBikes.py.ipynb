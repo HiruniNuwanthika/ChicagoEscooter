{
 "cells": [
  {
   "cell_type": "code",
   "execution_count": 1,
   "id": "bc713ee9",
   "metadata": {},
   "outputs": [],
   "source": [
    "import pandas as pd"
   ]
  },
  {
   "cell_type": "code",
   "execution_count": 18,
   "id": "d62edc56",
   "metadata": {},
   "outputs": [],
   "source": [
    "df=pd.read_csv(r'C:\\Melbourne_Escooter\\RealDataset\\Results\\August\\1_0hour_part2.csv')"
   ]
  },
  {
   "cell_type": "code",
   "execution_count": 19,
   "id": "0f557eea",
   "metadata": {},
   "outputs": [],
   "source": [
    "xtrain = df[df.notna().all(axis=1)==True]"
   ]
  },
  {
   "cell_type": "code",
   "execution_count": 35,
   "id": "c352d6dd",
   "metadata": {},
   "outputs": [],
   "source": [
    "def availableBikes(day,part):\n",
    "    for hour in range(0,24):\n",
    "#1-15 minutes dataset\n",
    "        try:\n",
    "            df=pd.read_csv(r'C:\\Melbourne_Escooter\\RealDataset\\Results\\August\\{}_{}hour_part{}.csv'.format(day,hour,part))\n",
    "        except FileNotFoundError:\n",
    "            continue\n",
    "        new_df = df[df.notna().all(axis=1)==True]\n",
    "        df=new_df.iloc[:,:4]\n",
    "        df.to_csv(r'C:\\Melbourne_Escooter\\RealDataset\\Results\\August\\Available\\{}_{}hour_part{}.csv'.format(day,hour,part),index=False)"
   ]
  },
  {
   "cell_type": "markdown",
   "id": "db82fa64",
   "metadata": {},
   "source": [
    "Take all for records which has no null cell and crearte new df. Then select 1 set of lat,long, range"
   ]
  },
  {
   "cell_type": "code",
   "execution_count": 37,
   "id": "d8a896ac",
   "metadata": {},
   "outputs": [],
   "source": [
    "for part in range (1,5):\n",
    "    availableBikes(1,part)"
   ]
  },
  {
   "cell_type": "markdown",
   "id": "1083ebd6",
   "metadata": {},
   "source": [
    "# Merge available records of 1hour"
   ]
  },
  {
   "cell_type": "code",
   "execution_count": 53,
   "id": "483fb079",
   "metadata": {},
   "outputs": [],
   "source": [
    "def mergeAvailableBikesPerDay(day):\n",
    "    df_list=[]\n",
    "    for hour in range(0,24): \n",
    "        for part in range (1,5):\n",
    "            df=pd.read_csv(r'C:\\Melbourne_Escooter\\RealDataset\\Results\\August\\Available\\{}_{}hour_part{}.csv'.format(day,hour,part))\n",
    "            df.columns = ['bike_id', 'lat', 'lon', 'range']\n",
    "            df_list.append(df)\n",
    "        df_new=pd.concat(df_list, ignore_index=True)\n",
    "        df_new.to_csv(r'C:\\Melbourne_Escooter\\RealDataset\\Results\\August\\Available\\MergedByDay\\{}_hour{}.csv'.format(day,hour), index=False)\n",
    "    \n",
    "        "
   ]
  },
  {
   "cell_type": "code",
   "execution_count": 54,
   "id": "7e0eb19b",
   "metadata": {},
   "outputs": [],
   "source": [
    "mergeAvailableBikesPerDay(1)"
   ]
  },
  {
   "cell_type": "code",
   "execution_count": 136,
   "id": "c862f1ff",
   "metadata": {},
   "outputs": [],
   "source": [
    "def Average(lst):\n",
    "    return sum(lst) / len(lst)\n",
    "def countAvailableStartStop15Minutes(day):\n",
    "    row=[]\n",
    "    for hour in range(0,24):\n",
    "        available_list=[]\n",
    "        start_list=[]\n",
    "        stop_list=[]\n",
    "        for part in range(1,5):\n",
    "            df_ava=pd.read_csv(r'C:\\Melbourne_Escooter\\RealDataset\\Results\\August\\Available\\{}_{}hour_part{}.csv'.format(day,hour,part))\n",
    "            available=df_ava.count()[0]\n",
    "            available_list.append(available)\n",
    "            df_star=pd.read_csv(r'C:\\Melbourne_Escooter\\RealDataset\\Results\\August\\Started\\Filtered_starts\\{}_{}hour_part{}.csv'.format(day,hour,part))\n",
    "            start=df_star.count()[0]\n",
    "            start_list.append(start)\n",
    "            #print('start_list= '+str(start_list))\n",
    "            df_stop=pd.read_csv(r'C:\\Melbourne_Escooter\\RealDataset\\Results\\August\\Stopped\\Filtered_stops\\{}_{}hour_part{}.csv'.format(day,hour,part))\n",
    "            stop=df_stop.count()[0]\n",
    "            stop_list.append(stop)\n",
    "        avg_start=Average(start_list)\n",
    "        #print('average start= '+str(avg_start))\n",
    "        avg_stop=Average(stop_list)\n",
    "        avg_available=Average(available_list)\n",
    "        row.append((avg_start,avg_stop,avg_available,hour))\n",
    "    df_new=pd.DataFrame(row)\n",
    "    df_new.columns=['start','stop','available','hour']\n",
    "    df_new.to_csv(r'C:\\Melbourne_Escooter\\RealDataset\\FinalResults\\Trip Counts\\August\\{}.csv'.format(day),index=False)\n",
    "\n",
    "\n",
    "\n",
    "   # percentile_list = pd.concat([available_list,stop_list,start_list], axis=1)\n"
   ]
  },
  {
   "cell_type": "markdown",
   "id": "6e113114",
   "metadata": {},
   "source": [
    "count trip_start number, trip_end number and available bike number every 15 minutes and take average of 4 chuncks as 1 hour count. \n",
    "If we take count for all 4 hours, we might count the same bike ID several times, it the bike was dwelling for more than 15 minutes as the bikeID change over time."
   ]
  },
  {
   "cell_type": "code",
   "execution_count": 137,
   "id": "14e255c1",
   "metadata": {},
   "outputs": [],
   "source": [
    "countAvailableStartStop15Minutes(1)"
   ]
  },
  {
   "cell_type": "code",
   "execution_count": 59,
   "id": "fc7f13d3",
   "metadata": {},
   "outputs": [
    {
     "data": {
      "text/plain": [
       "435"
      ]
     },
     "execution_count": 59,
     "metadata": {},
     "output_type": "execute_result"
    }
   ],
   "source": [
    "df_ava=pd.read_csv(r'C:\\Melbourne_Escooter\\RealDataset\\Results\\August\\Available\\1_4hour_part1.csv')\n",
    "df_ava.count()[0]"
   ]
  },
  {
   "cell_type": "code",
   "execution_count": null,
   "id": "92666dec",
   "metadata": {},
   "outputs": [],
   "source": []
  },
  {
   "cell_type": "code",
   "execution_count": 42,
   "id": "f4092454",
   "metadata": {},
   "outputs": [],
   "source": [
    "df=pd.concat([df1,df2], ignore_index=True)"
   ]
  },
  {
   "cell_type": "code",
   "execution_count": 43,
   "id": "d7debc33",
   "metadata": {},
   "outputs": [
    {
     "data": {
      "text/html": [
       "<div>\n",
       "<style scoped>\n",
       "    .dataframe tbody tr th:only-of-type {\n",
       "        vertical-align: middle;\n",
       "    }\n",
       "\n",
       "    .dataframe tbody tr th {\n",
       "        vertical-align: top;\n",
       "    }\n",
       "\n",
       "    .dataframe thead th {\n",
       "        text-align: right;\n",
       "    }\n",
       "</style>\n",
       "<table border=\"1\" class=\"dataframe\">\n",
       "  <thead>\n",
       "    <tr style=\"text-align: right;\">\n",
       "      <th></th>\n",
       "      <th>bike_id</th>\n",
       "      <th>lat</th>\n",
       "      <th>lon</th>\n",
       "      <th>range</th>\n",
       "    </tr>\n",
       "  </thead>\n",
       "  <tbody>\n",
       "    <tr>\n",
       "      <th>0</th>\n",
       "      <td>384dd65e-8487-4052-924c-8b1162f1859d</td>\n",
       "      <td>-37.914226</td>\n",
       "      <td>145.267072</td>\n",
       "      <td>11964.0</td>\n",
       "    </tr>\n",
       "    <tr>\n",
       "      <th>1</th>\n",
       "      <td>62ba10a6-8993-4d72-8587-3221efdd834e</td>\n",
       "      <td>-37.913863</td>\n",
       "      <td>145.266385</td>\n",
       "      <td>14722.0</td>\n",
       "    </tr>\n",
       "    <tr>\n",
       "      <th>2</th>\n",
       "      <td>2ce47582-77dc-4e63-96c6-3ac81160d950</td>\n",
       "      <td>-37.933659</td>\n",
       "      <td>145.034912</td>\n",
       "      <td>2969.0</td>\n",
       "    </tr>\n",
       "    <tr>\n",
       "      <th>3</th>\n",
       "      <td>95d3d47c-fd57-4ac9-a642-e1b3fe626f5d</td>\n",
       "      <td>-37.878568</td>\n",
       "      <td>144.997037</td>\n",
       "      <td>5456.0</td>\n",
       "    </tr>\n",
       "    <tr>\n",
       "      <th>4</th>\n",
       "      <td>234fd602-246f-472c-b48f-e7a74cab573a</td>\n",
       "      <td>-37.880805</td>\n",
       "      <td>144.991254</td>\n",
       "      <td>5456.0</td>\n",
       "    </tr>\n",
       "    <tr>\n",
       "      <th>...</th>\n",
       "      <td>...</td>\n",
       "      <td>...</td>\n",
       "      <td>...</td>\n",
       "      <td>...</td>\n",
       "    </tr>\n",
       "    <tr>\n",
       "      <th>384</th>\n",
       "      <td>93a41f5c-d45d-49de-bb80-75295b6e4094</td>\n",
       "      <td>-37.792058</td>\n",
       "      <td>144.926246</td>\n",
       "      <td>8522.0</td>\n",
       "    </tr>\n",
       "    <tr>\n",
       "      <th>385</th>\n",
       "      <td>90e8ddf2-9aa0-4ca0-9f47-c9275a1aafd9</td>\n",
       "      <td>-37.790012</td>\n",
       "      <td>144.922566</td>\n",
       "      <td>8318.0</td>\n",
       "    </tr>\n",
       "    <tr>\n",
       "      <th>386</th>\n",
       "      <td>0bdad535-ff9d-4fb2-ac88-821166fba27d</td>\n",
       "      <td>-37.781109</td>\n",
       "      <td>144.910781</td>\n",
       "      <td>8318.0</td>\n",
       "    </tr>\n",
       "    <tr>\n",
       "      <th>387</th>\n",
       "      <td>d8e6ffcb-387e-42af-aa0a-ea6bda18b96c</td>\n",
       "      <td>-37.806730</td>\n",
       "      <td>144.908956</td>\n",
       "      <td>4249.0</td>\n",
       "    </tr>\n",
       "    <tr>\n",
       "      <th>388</th>\n",
       "      <td>f8885c03-5af6-41ef-8559-35145327319f</td>\n",
       "      <td>-37.787951</td>\n",
       "      <td>144.905934</td>\n",
       "      <td>5456.0</td>\n",
       "    </tr>\n",
       "  </tbody>\n",
       "</table>\n",
       "<p>389 rows × 4 columns</p>\n",
       "</div>"
      ],
      "text/plain": [
       "                                  bike_id        lat         lon    range\n",
       "0    384dd65e-8487-4052-924c-8b1162f1859d -37.914226  145.267072  11964.0\n",
       "1    62ba10a6-8993-4d72-8587-3221efdd834e -37.913863  145.266385  14722.0\n",
       "2    2ce47582-77dc-4e63-96c6-3ac81160d950 -37.933659  145.034912   2969.0\n",
       "3    95d3d47c-fd57-4ac9-a642-e1b3fe626f5d -37.878568  144.997037   5456.0\n",
       "4    234fd602-246f-472c-b48f-e7a74cab573a -37.880805  144.991254   5456.0\n",
       "..                                    ...        ...         ...      ...\n",
       "384  93a41f5c-d45d-49de-bb80-75295b6e4094 -37.792058  144.926246   8522.0\n",
       "385  90e8ddf2-9aa0-4ca0-9f47-c9275a1aafd9 -37.790012  144.922566   8318.0\n",
       "386  0bdad535-ff9d-4fb2-ac88-821166fba27d -37.781109  144.910781   8318.0\n",
       "387  d8e6ffcb-387e-42af-aa0a-ea6bda18b96c -37.806730  144.908956   4249.0\n",
       "388  f8885c03-5af6-41ef-8559-35145327319f -37.787951  144.905934   5456.0\n",
       "\n",
       "[389 rows x 4 columns]"
      ]
     },
     "execution_count": 43,
     "metadata": {},
     "output_type": "execute_result"
    }
   ],
   "source": [
    "df"
   ]
  },
  {
   "cell_type": "code",
   "execution_count": null,
   "id": "04586ede",
   "metadata": {},
   "outputs": [],
   "source": []
  },
  {
   "cell_type": "markdown",
   "id": "73c0cc1a",
   "metadata": {},
   "source": [
    "# count started, stopped and  available counts"
   ]
  },
  {
   "cell_type": "code",
   "execution_count": null,
   "id": "36fd526b",
   "metadata": {},
   "outputs": [],
   "source": [
    "df_start=pd.read_csv()"
   ]
  }
 ],
 "metadata": {
  "kernelspec": {
   "display_name": "Python 3 (ipykernel)",
   "language": "python",
   "name": "python3"
  },
  "language_info": {
   "codemirror_mode": {
    "name": "ipython",
    "version": 3
   },
   "file_extension": ".py",
   "mimetype": "text/x-python",
   "name": "python",
   "nbconvert_exporter": "python",
   "pygments_lexer": "ipython3",
   "version": "3.7.13"
  }
 },
 "nbformat": 4,
 "nbformat_minor": 5
}
