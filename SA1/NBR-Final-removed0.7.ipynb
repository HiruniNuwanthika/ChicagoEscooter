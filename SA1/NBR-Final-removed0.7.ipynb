{
 "cells": [
  {
   "cell_type": "code",
   "execution_count": 2,
   "id": "20381fbf",
   "metadata": {},
   "outputs": [],
   "source": [
    "import pandas as pd\n",
    "import numpy as np\n",
    "\n",
    "from patsy import dmatrices\n",
    "\n",
    "import matplotlib.pyplot as plt\n",
    "import seaborn as sns\n",
    "\n",
    "from sklearn.preprocessing import StandardScaler\n",
    "from sklearn.model_selection import train_test_split\n",
    "from sklearn.model_selection import cross_val_score\n",
    "\n",
    "import statsmodels.api as sm\n",
    "from statsmodels.formula.api import glm\n",
    "\n",
    "from sklearn.metrics import mean_absolute_error,mean_squared_error, accuracy_score,f1_score\n",
    "from sklearn.metrics import f1_score\n",
    "from sklearn.model_selection import KFold"
   ]
  },
  {
   "cell_type": "code",
   "execution_count": 3,
   "id": "53629d9b",
   "metadata": {},
   "outputs": [],
   "source": [
    "df=pd.read_csv(r'C:\\Melbourne_Escooter\\RealDataset\\FinalResults\\SA1\\Features-trips\\Final\\AllFeatures-original - wholeNumberDensity -removed0.7.csv')"
   ]
  },
  {
   "cell_type": "code",
   "execution_count": 4,
   "id": "17b5d289",
   "metadata": {},
   "outputs": [
    {
     "data": {
      "text/html": [
       "<div>\n",
       "<style scoped>\n",
       "    .dataframe tbody tr th:only-of-type {\n",
       "        vertical-align: middle;\n",
       "    }\n",
       "\n",
       "    .dataframe tbody tr th {\n",
       "        vertical-align: top;\n",
       "    }\n",
       "\n",
       "    .dataframe thead th {\n",
       "        text-align: right;\n",
       "    }\n",
       "</style>\n",
       "<table border=\"1\" class=\"dataframe\">\n",
       "  <thead>\n",
       "    <tr style=\"text-align: right;\">\n",
       "      <th></th>\n",
       "      <th>SA1_CODE21</th>\n",
       "      <th>tripDensity</th>\n",
       "      <th>date</th>\n",
       "      <th>hour</th>\n",
       "      <th>trainDensity</th>\n",
       "      <th>busDensity</th>\n",
       "      <th>tramDensity</th>\n",
       "      <th>Cafe perc</th>\n",
       "      <th>Office perc</th>\n",
       "      <th>Shops perc</th>\n",
       "      <th>mxi</th>\n",
       "      <th>recreationCount</th>\n",
       "      <th>campusCount</th>\n",
       "      <th>5-14 %</th>\n",
       "      <th>40-49 %</th>\n",
       "      <th>50-64 %</th>\n",
       "      <th>male%</th>\n",
       "      <th>Population density 2021</th>\n",
       "      <th>rainfall</th>\n",
       "      <th>min_temp</th>\n",
       "    </tr>\n",
       "  </thead>\n",
       "  <tbody>\n",
       "    <tr>\n",
       "      <th>0</th>\n",
       "      <td>20604111702</td>\n",
       "      <td>0</td>\n",
       "      <td>1</td>\n",
       "      <td>0</td>\n",
       "      <td>0.0</td>\n",
       "      <td>38.68472</td>\n",
       "      <td>19.34236</td>\n",
       "      <td>0.576336</td>\n",
       "      <td>0.022901</td>\n",
       "      <td>0.030534</td>\n",
       "      <td>12.977099</td>\n",
       "      <td>0</td>\n",
       "      <td>0</td>\n",
       "      <td>3.536138</td>\n",
       "      <td>7.422579</td>\n",
       "      <td>8.152377</td>\n",
       "      <td>49.511571</td>\n",
       "      <td>9456.2</td>\n",
       "      <td>0</td>\n",
       "      <td>7.4</td>\n",
       "    </tr>\n",
       "    <tr>\n",
       "      <th>1</th>\n",
       "      <td>20604111702</td>\n",
       "      <td>0</td>\n",
       "      <td>1</td>\n",
       "      <td>1</td>\n",
       "      <td>0.0</td>\n",
       "      <td>38.68472</td>\n",
       "      <td>19.34236</td>\n",
       "      <td>0.576336</td>\n",
       "      <td>0.022901</td>\n",
       "      <td>0.030534</td>\n",
       "      <td>12.977099</td>\n",
       "      <td>0</td>\n",
       "      <td>0</td>\n",
       "      <td>3.536138</td>\n",
       "      <td>7.422579</td>\n",
       "      <td>8.152377</td>\n",
       "      <td>49.511571</td>\n",
       "      <td>9456.2</td>\n",
       "      <td>0</td>\n",
       "      <td>7.4</td>\n",
       "    </tr>\n",
       "    <tr>\n",
       "      <th>2</th>\n",
       "      <td>20604111702</td>\n",
       "      <td>19</td>\n",
       "      <td>1</td>\n",
       "      <td>2</td>\n",
       "      <td>0.0</td>\n",
       "      <td>38.68472</td>\n",
       "      <td>19.34236</td>\n",
       "      <td>0.576336</td>\n",
       "      <td>0.022901</td>\n",
       "      <td>0.030534</td>\n",
       "      <td>12.977099</td>\n",
       "      <td>0</td>\n",
       "      <td>0</td>\n",
       "      <td>3.536138</td>\n",
       "      <td>7.422579</td>\n",
       "      <td>8.152377</td>\n",
       "      <td>49.511571</td>\n",
       "      <td>9456.2</td>\n",
       "      <td>0</td>\n",
       "      <td>7.4</td>\n",
       "    </tr>\n",
       "    <tr>\n",
       "      <th>3</th>\n",
       "      <td>20604111702</td>\n",
       "      <td>0</td>\n",
       "      <td>1</td>\n",
       "      <td>3</td>\n",
       "      <td>0.0</td>\n",
       "      <td>38.68472</td>\n",
       "      <td>19.34236</td>\n",
       "      <td>0.576336</td>\n",
       "      <td>0.022901</td>\n",
       "      <td>0.030534</td>\n",
       "      <td>12.977099</td>\n",
       "      <td>0</td>\n",
       "      <td>0</td>\n",
       "      <td>3.536138</td>\n",
       "      <td>7.422579</td>\n",
       "      <td>8.152377</td>\n",
       "      <td>49.511571</td>\n",
       "      <td>9456.2</td>\n",
       "      <td>0</td>\n",
       "      <td>7.4</td>\n",
       "    </tr>\n",
       "    <tr>\n",
       "      <th>4</th>\n",
       "      <td>20604111702</td>\n",
       "      <td>0</td>\n",
       "      <td>1</td>\n",
       "      <td>4</td>\n",
       "      <td>0.0</td>\n",
       "      <td>38.68472</td>\n",
       "      <td>19.34236</td>\n",
       "      <td>0.576336</td>\n",
       "      <td>0.022901</td>\n",
       "      <td>0.030534</td>\n",
       "      <td>12.977099</td>\n",
       "      <td>0</td>\n",
       "      <td>0</td>\n",
       "      <td>3.536138</td>\n",
       "      <td>7.422579</td>\n",
       "      <td>8.152377</td>\n",
       "      <td>49.511571</td>\n",
       "      <td>9456.2</td>\n",
       "      <td>0</td>\n",
       "      <td>7.4</td>\n",
       "    </tr>\n",
       "  </tbody>\n",
       "</table>\n",
       "</div>"
      ],
      "text/plain": [
       "    SA1_CODE21  tripDensity  date  hour  trainDensity  busDensity  \\\n",
       "0  20604111702            0     1     0           0.0    38.68472   \n",
       "1  20604111702            0     1     1           0.0    38.68472   \n",
       "2  20604111702           19     1     2           0.0    38.68472   \n",
       "3  20604111702            0     1     3           0.0    38.68472   \n",
       "4  20604111702            0     1     4           0.0    38.68472   \n",
       "\n",
       "   tramDensity  Cafe perc  Office perc  Shops perc        mxi  \\\n",
       "0     19.34236   0.576336     0.022901    0.030534  12.977099   \n",
       "1     19.34236   0.576336     0.022901    0.030534  12.977099   \n",
       "2     19.34236   0.576336     0.022901    0.030534  12.977099   \n",
       "3     19.34236   0.576336     0.022901    0.030534  12.977099   \n",
       "4     19.34236   0.576336     0.022901    0.030534  12.977099   \n",
       "\n",
       "   recreationCount  campusCount    5-14 %   40-49 %   50-64 %      male%  \\\n",
       "0                0            0  3.536138  7.422579  8.152377  49.511571   \n",
       "1                0            0  3.536138  7.422579  8.152377  49.511571   \n",
       "2                0            0  3.536138  7.422579  8.152377  49.511571   \n",
       "3                0            0  3.536138  7.422579  8.152377  49.511571   \n",
       "4                0            0  3.536138  7.422579  8.152377  49.511571   \n",
       "\n",
       "   Population density 2021  rainfall  min_temp  \n",
       "0                   9456.2         0       7.4  \n",
       "1                   9456.2         0       7.4  \n",
       "2                   9456.2         0       7.4  \n",
       "3                   9456.2         0       7.4  \n",
       "4                   9456.2         0       7.4  "
      ]
     },
     "execution_count": 4,
     "metadata": {},
     "output_type": "execute_result"
    }
   ],
   "source": [
    "df.head()"
   ]
  },
  {
   "cell_type": "code",
   "execution_count": 5,
   "id": "2f67bf57",
   "metadata": {},
   "outputs": [
    {
     "name": "stdout",
     "output_type": "stream",
     "text": [
      "<class 'pandas.core.frame.DataFrame'>\n",
      "RangeIndex: 56616 entries, 0 to 56615\n",
      "Data columns (total 20 columns):\n",
      " #   Column                   Non-Null Count  Dtype  \n",
      "---  ------                   --------------  -----  \n",
      " 0   SA1_CODE21               56616 non-null  int64  \n",
      " 1   tripDensity              56616 non-null  int64  \n",
      " 2   date                     56616 non-null  int64  \n",
      " 3   hour                     56616 non-null  int64  \n",
      " 4   trainDensity             56616 non-null  float64\n",
      " 5   busDensity               56616 non-null  float64\n",
      " 6   tramDensity              56616 non-null  float64\n",
      " 7   Cafe perc                56616 non-null  float64\n",
      " 8   Office perc              56616 non-null  float64\n",
      " 9   Shops perc               56616 non-null  float64\n",
      " 10  mxi                      56616 non-null  float64\n",
      " 11  recreationCount          56616 non-null  int64  \n",
      " 12  campusCount              56616 non-null  int64  \n",
      " 13  5-14 %                   56616 non-null  float64\n",
      " 14  40-49 %                  56616 non-null  float64\n",
      " 15  50-64 %                  56616 non-null  float64\n",
      " 16  male%                    56616 non-null  float64\n",
      " 17  Population density 2021  56616 non-null  float64\n",
      " 18  rainfall                 56616 non-null  int64  \n",
      " 19  min_temp                 56616 non-null  float64\n",
      "dtypes: float64(13), int64(7)\n",
      "memory usage: 8.6 MB\n"
     ]
    }
   ],
   "source": [
    "df.info()"
   ]
  },
  {
   "cell_type": "code",
   "execution_count": 6,
   "id": "7678498a",
   "metadata": {
    "scrolled": true
   },
   "outputs": [
    {
     "data": {
      "text/html": [
       "<div>\n",
       "<style scoped>\n",
       "    .dataframe tbody tr th:only-of-type {\n",
       "        vertical-align: middle;\n",
       "    }\n",
       "\n",
       "    .dataframe tbody tr th {\n",
       "        vertical-align: top;\n",
       "    }\n",
       "\n",
       "    .dataframe thead th {\n",
       "        text-align: right;\n",
       "    }\n",
       "</style>\n",
       "<table border=\"1\" class=\"dataframe\">\n",
       "  <thead>\n",
       "    <tr style=\"text-align: right;\">\n",
       "      <th></th>\n",
       "      <th>SA1_CODE21</th>\n",
       "      <th>date</th>\n",
       "      <th>hour</th>\n",
       "      <th>trainDensity</th>\n",
       "      <th>busDensity</th>\n",
       "      <th>tramDensity</th>\n",
       "      <th>Cafe perc</th>\n",
       "      <th>Office perc</th>\n",
       "      <th>Shops perc</th>\n",
       "      <th>mxi</th>\n",
       "      <th>recreationCount</th>\n",
       "      <th>campusCount</th>\n",
       "      <th>5-14 %</th>\n",
       "      <th>40-49 %</th>\n",
       "      <th>50-64 %</th>\n",
       "      <th>male%</th>\n",
       "      <th>Population density 2021</th>\n",
       "      <th>rainfall</th>\n",
       "      <th>min_temp</th>\n",
       "    </tr>\n",
       "  </thead>\n",
       "  <tbody>\n",
       "    <tr>\n",
       "      <th>0</th>\n",
       "      <td>20604111702</td>\n",
       "      <td>1</td>\n",
       "      <td>0</td>\n",
       "      <td>0.0</td>\n",
       "      <td>38.684720</td>\n",
       "      <td>19.34236</td>\n",
       "      <td>0.576336</td>\n",
       "      <td>0.022901</td>\n",
       "      <td>0.030534</td>\n",
       "      <td>12.977099</td>\n",
       "      <td>0</td>\n",
       "      <td>0</td>\n",
       "      <td>3.536138</td>\n",
       "      <td>7.422579</td>\n",
       "      <td>8.152377</td>\n",
       "      <td>49.511571</td>\n",
       "      <td>9456.2</td>\n",
       "      <td>0</td>\n",
       "      <td>7.4</td>\n",
       "    </tr>\n",
       "    <tr>\n",
       "      <th>1</th>\n",
       "      <td>20604111702</td>\n",
       "      <td>1</td>\n",
       "      <td>1</td>\n",
       "      <td>0.0</td>\n",
       "      <td>38.684720</td>\n",
       "      <td>19.34236</td>\n",
       "      <td>0.576336</td>\n",
       "      <td>0.022901</td>\n",
       "      <td>0.030534</td>\n",
       "      <td>12.977099</td>\n",
       "      <td>0</td>\n",
       "      <td>0</td>\n",
       "      <td>3.536138</td>\n",
       "      <td>7.422579</td>\n",
       "      <td>8.152377</td>\n",
       "      <td>49.511571</td>\n",
       "      <td>9456.2</td>\n",
       "      <td>0</td>\n",
       "      <td>7.4</td>\n",
       "    </tr>\n",
       "    <tr>\n",
       "      <th>2</th>\n",
       "      <td>20604111702</td>\n",
       "      <td>1</td>\n",
       "      <td>2</td>\n",
       "      <td>0.0</td>\n",
       "      <td>38.684720</td>\n",
       "      <td>19.34236</td>\n",
       "      <td>0.576336</td>\n",
       "      <td>0.022901</td>\n",
       "      <td>0.030534</td>\n",
       "      <td>12.977099</td>\n",
       "      <td>0</td>\n",
       "      <td>0</td>\n",
       "      <td>3.536138</td>\n",
       "      <td>7.422579</td>\n",
       "      <td>8.152377</td>\n",
       "      <td>49.511571</td>\n",
       "      <td>9456.2</td>\n",
       "      <td>0</td>\n",
       "      <td>7.4</td>\n",
       "    </tr>\n",
       "    <tr>\n",
       "      <th>3</th>\n",
       "      <td>20604111702</td>\n",
       "      <td>1</td>\n",
       "      <td>3</td>\n",
       "      <td>0.0</td>\n",
       "      <td>38.684720</td>\n",
       "      <td>19.34236</td>\n",
       "      <td>0.576336</td>\n",
       "      <td>0.022901</td>\n",
       "      <td>0.030534</td>\n",
       "      <td>12.977099</td>\n",
       "      <td>0</td>\n",
       "      <td>0</td>\n",
       "      <td>3.536138</td>\n",
       "      <td>7.422579</td>\n",
       "      <td>8.152377</td>\n",
       "      <td>49.511571</td>\n",
       "      <td>9456.2</td>\n",
       "      <td>0</td>\n",
       "      <td>7.4</td>\n",
       "    </tr>\n",
       "    <tr>\n",
       "      <th>4</th>\n",
       "      <td>20604111702</td>\n",
       "      <td>1</td>\n",
       "      <td>4</td>\n",
       "      <td>0.0</td>\n",
       "      <td>38.684720</td>\n",
       "      <td>19.34236</td>\n",
       "      <td>0.576336</td>\n",
       "      <td>0.022901</td>\n",
       "      <td>0.030534</td>\n",
       "      <td>12.977099</td>\n",
       "      <td>0</td>\n",
       "      <td>0</td>\n",
       "      <td>3.536138</td>\n",
       "      <td>7.422579</td>\n",
       "      <td>8.152377</td>\n",
       "      <td>49.511571</td>\n",
       "      <td>9456.2</td>\n",
       "      <td>0</td>\n",
       "      <td>7.4</td>\n",
       "    </tr>\n",
       "    <tr>\n",
       "      <th>...</th>\n",
       "      <td>...</td>\n",
       "      <td>...</td>\n",
       "      <td>...</td>\n",
       "      <td>...</td>\n",
       "      <td>...</td>\n",
       "      <td>...</td>\n",
       "      <td>...</td>\n",
       "      <td>...</td>\n",
       "      <td>...</td>\n",
       "      <td>...</td>\n",
       "      <td>...</td>\n",
       "      <td>...</td>\n",
       "      <td>...</td>\n",
       "      <td>...</td>\n",
       "      <td>...</td>\n",
       "      <td>...</td>\n",
       "      <td>...</td>\n",
       "      <td>...</td>\n",
       "      <td>...</td>\n",
       "    </tr>\n",
       "    <tr>\n",
       "      <th>56611</th>\n",
       "      <td>20604151016</td>\n",
       "      <td>7</td>\n",
       "      <td>19</td>\n",
       "      <td>0.0</td>\n",
       "      <td>46.728972</td>\n",
       "      <td>0.00000</td>\n",
       "      <td>0.803571</td>\n",
       "      <td>0.071429</td>\n",
       "      <td>0.035714</td>\n",
       "      <td>41.071429</td>\n",
       "      <td>0</td>\n",
       "      <td>0</td>\n",
       "      <td>1.813717</td>\n",
       "      <td>13.562667</td>\n",
       "      <td>0.000000</td>\n",
       "      <td>51.647198</td>\n",
       "      <td>9238.5</td>\n",
       "      <td>1</td>\n",
       "      <td>8.0</td>\n",
       "    </tr>\n",
       "    <tr>\n",
       "      <th>56612</th>\n",
       "      <td>20604151016</td>\n",
       "      <td>7</td>\n",
       "      <td>20</td>\n",
       "      <td>0.0</td>\n",
       "      <td>46.728972</td>\n",
       "      <td>0.00000</td>\n",
       "      <td>0.803571</td>\n",
       "      <td>0.071429</td>\n",
       "      <td>0.035714</td>\n",
       "      <td>41.071429</td>\n",
       "      <td>0</td>\n",
       "      <td>0</td>\n",
       "      <td>1.813717</td>\n",
       "      <td>13.562667</td>\n",
       "      <td>0.000000</td>\n",
       "      <td>51.647198</td>\n",
       "      <td>9238.5</td>\n",
       "      <td>1</td>\n",
       "      <td>8.0</td>\n",
       "    </tr>\n",
       "    <tr>\n",
       "      <th>56613</th>\n",
       "      <td>20604151016</td>\n",
       "      <td>7</td>\n",
       "      <td>21</td>\n",
       "      <td>0.0</td>\n",
       "      <td>46.728972</td>\n",
       "      <td>0.00000</td>\n",
       "      <td>0.803571</td>\n",
       "      <td>0.071429</td>\n",
       "      <td>0.035714</td>\n",
       "      <td>41.071429</td>\n",
       "      <td>0</td>\n",
       "      <td>0</td>\n",
       "      <td>1.813717</td>\n",
       "      <td>13.562667</td>\n",
       "      <td>0.000000</td>\n",
       "      <td>51.647198</td>\n",
       "      <td>9238.5</td>\n",
       "      <td>1</td>\n",
       "      <td>8.0</td>\n",
       "    </tr>\n",
       "    <tr>\n",
       "      <th>56614</th>\n",
       "      <td>20604151016</td>\n",
       "      <td>7</td>\n",
       "      <td>22</td>\n",
       "      <td>0.0</td>\n",
       "      <td>46.728972</td>\n",
       "      <td>0.00000</td>\n",
       "      <td>0.803571</td>\n",
       "      <td>0.071429</td>\n",
       "      <td>0.035714</td>\n",
       "      <td>41.071429</td>\n",
       "      <td>0</td>\n",
       "      <td>0</td>\n",
       "      <td>1.813717</td>\n",
       "      <td>13.562667</td>\n",
       "      <td>0.000000</td>\n",
       "      <td>51.647198</td>\n",
       "      <td>9238.5</td>\n",
       "      <td>1</td>\n",
       "      <td>8.0</td>\n",
       "    </tr>\n",
       "    <tr>\n",
       "      <th>56615</th>\n",
       "      <td>20604151016</td>\n",
       "      <td>7</td>\n",
       "      <td>23</td>\n",
       "      <td>0.0</td>\n",
       "      <td>46.728972</td>\n",
       "      <td>0.00000</td>\n",
       "      <td>0.803571</td>\n",
       "      <td>0.071429</td>\n",
       "      <td>0.035714</td>\n",
       "      <td>41.071429</td>\n",
       "      <td>0</td>\n",
       "      <td>0</td>\n",
       "      <td>1.813717</td>\n",
       "      <td>13.562667</td>\n",
       "      <td>0.000000</td>\n",
       "      <td>51.647198</td>\n",
       "      <td>9238.5</td>\n",
       "      <td>1</td>\n",
       "      <td>8.0</td>\n",
       "    </tr>\n",
       "  </tbody>\n",
       "</table>\n",
       "<p>56616 rows × 19 columns</p>\n",
       "</div>"
      ],
      "text/plain": [
       "        SA1_CODE21  date  hour  trainDensity  busDensity  tramDensity  \\\n",
       "0      20604111702     1     0           0.0   38.684720     19.34236   \n",
       "1      20604111702     1     1           0.0   38.684720     19.34236   \n",
       "2      20604111702     1     2           0.0   38.684720     19.34236   \n",
       "3      20604111702     1     3           0.0   38.684720     19.34236   \n",
       "4      20604111702     1     4           0.0   38.684720     19.34236   \n",
       "...            ...   ...   ...           ...         ...          ...   \n",
       "56611  20604151016     7    19           0.0   46.728972      0.00000   \n",
       "56612  20604151016     7    20           0.0   46.728972      0.00000   \n",
       "56613  20604151016     7    21           0.0   46.728972      0.00000   \n",
       "56614  20604151016     7    22           0.0   46.728972      0.00000   \n",
       "56615  20604151016     7    23           0.0   46.728972      0.00000   \n",
       "\n",
       "       Cafe perc  Office perc  Shops perc        mxi  recreationCount  \\\n",
       "0       0.576336     0.022901    0.030534  12.977099                0   \n",
       "1       0.576336     0.022901    0.030534  12.977099                0   \n",
       "2       0.576336     0.022901    0.030534  12.977099                0   \n",
       "3       0.576336     0.022901    0.030534  12.977099                0   \n",
       "4       0.576336     0.022901    0.030534  12.977099                0   \n",
       "...          ...          ...         ...        ...              ...   \n",
       "56611   0.803571     0.071429    0.035714  41.071429                0   \n",
       "56612   0.803571     0.071429    0.035714  41.071429                0   \n",
       "56613   0.803571     0.071429    0.035714  41.071429                0   \n",
       "56614   0.803571     0.071429    0.035714  41.071429                0   \n",
       "56615   0.803571     0.071429    0.035714  41.071429                0   \n",
       "\n",
       "       campusCount    5-14 %    40-49 %   50-64 %      male%  \\\n",
       "0                0  3.536138   7.422579  8.152377  49.511571   \n",
       "1                0  3.536138   7.422579  8.152377  49.511571   \n",
       "2                0  3.536138   7.422579  8.152377  49.511571   \n",
       "3                0  3.536138   7.422579  8.152377  49.511571   \n",
       "4                0  3.536138   7.422579  8.152377  49.511571   \n",
       "...            ...       ...        ...       ...        ...   \n",
       "56611            0  1.813717  13.562667  0.000000  51.647198   \n",
       "56612            0  1.813717  13.562667  0.000000  51.647198   \n",
       "56613            0  1.813717  13.562667  0.000000  51.647198   \n",
       "56614            0  1.813717  13.562667  0.000000  51.647198   \n",
       "56615            0  1.813717  13.562667  0.000000  51.647198   \n",
       "\n",
       "       Population density 2021  rainfall  min_temp  \n",
       "0                       9456.2         0       7.4  \n",
       "1                       9456.2         0       7.4  \n",
       "2                       9456.2         0       7.4  \n",
       "3                       9456.2         0       7.4  \n",
       "4                       9456.2         0       7.4  \n",
       "...                        ...       ...       ...  \n",
       "56611                   9238.5         1       8.0  \n",
       "56612                   9238.5         1       8.0  \n",
       "56613                   9238.5         1       8.0  \n",
       "56614                   9238.5         1       8.0  \n",
       "56615                   9238.5         1       8.0  \n",
       "\n",
       "[56616 rows x 19 columns]"
      ]
     },
     "execution_count": 6,
     "metadata": {},
     "output_type": "execute_result"
    }
   ],
   "source": [
    "column=['tripDensity']\n",
    "df_depe=df.drop(column, axis=1)\n",
    "df_depe"
   ]
  },
  {
   "cell_type": "code",
   "execution_count": 7,
   "id": "c54318e1",
   "metadata": {},
   "outputs": [],
   "source": [
    "df_depe=df_depe.drop(['SA1_CODE21'], axis=1)"
   ]
  },
  {
   "cell_type": "code",
   "execution_count": 7,
   "id": "7bb4ee86",
   "metadata": {},
   "outputs": [],
   "source": [
    "#df_depe=df_depe.drop(['female%'], axis=1)"
   ]
  },
  {
   "cell_type": "code",
   "execution_count": null,
   "id": "bbfb1375",
   "metadata": {},
   "outputs": [],
   "source": []
  },
  {
   "cell_type": "code",
   "execution_count": 8,
   "id": "2ae94d76",
   "metadata": {},
   "outputs": [],
   "source": [
    "df_depe[\"hour\"].replace({0:1,1:1,2:1,3:2,4:2,5:2,6:3,7:3,8:3,9:4,10:4,11:4,12:5,13:5,14:5,15:6,16:6,17:6,18:7,19:7,20:7,21:8,22:8,23:8}, inplace=True)"
   ]
  },
  {
   "cell_type": "code",
   "execution_count": 9,
   "id": "d493f50d",
   "metadata": {},
   "outputs": [],
   "source": [
    "df_depe[\"date\"].replace({1:1, 2: 1, 3: 1,4: 1,5: 1,6: 2,7: 2}, inplace=True)"
   ]
  },
  {
   "cell_type": "code",
   "execution_count": 10,
   "id": "313d4ec2",
   "metadata": {},
   "outputs": [],
   "source": [
    "df_depe['trainDensity'] = df['trainDensity'].map(lambda x: 1 if x>0 else 0)"
   ]
  },
  {
   "cell_type": "code",
   "execution_count": 11,
   "id": "dcec598d",
   "metadata": {},
   "outputs": [],
   "source": [
    "categorical =['hour','date','rainfall','trainDensity']\n",
    "for col in categorical:\n",
    "    df_depe[col]=df_depe[col].astype('category')\n",
    "#df_depe['rainfall']=df_depe['rainfall'].astype('category')"
   ]
  },
  {
   "cell_type": "code",
   "execution_count": 12,
   "id": "7a6ce557",
   "metadata": {},
   "outputs": [],
   "source": [
    "#df=pd.get_dummies(df, drop_first=True )\n",
    "df_depe=pd.get_dummies(df_depe, drop_first=True)"
   ]
  },
  {
   "cell_type": "code",
   "execution_count": 13,
   "id": "badcdaeb",
   "metadata": {},
   "outputs": [
    {
     "data": {
      "text/plain": [
       "Index(['busDensity', 'tramDensity', 'Cafe perc', 'Office perc', 'Shops perc',\n",
       "       'mxi', 'recreationCount', 'campusCount', '5-14 %', '40-49 %', '50-64 %',\n",
       "       'male%', 'Population density 2021', 'min_temp', 'date_2', 'hour_2',\n",
       "       'hour_3', 'hour_4', 'hour_5', 'hour_6', 'hour_7', 'hour_8',\n",
       "       'trainDensity_1', 'rainfall_1'],\n",
       "      dtype='object')"
      ]
     },
     "execution_count": 13,
     "metadata": {},
     "output_type": "execute_result"
    }
   ],
   "source": [
    "df_depe.columns\n"
   ]
  },
  {
   "cell_type": "code",
   "execution_count": 14,
   "id": "fb10cee9",
   "metadata": {},
   "outputs": [],
   "source": [
    "scale= StandardScaler()"
   ]
  },
  {
   "cell_type": "code",
   "execution_count": 15,
   "id": "b8cd4c7a",
   "metadata": {},
   "outputs": [],
   "source": [
    "df_sc= scale.fit_transform(df_depe)\n",
    "df_sc=pd.DataFrame(df_sc, columns=df_depe.columns)"
   ]
  },
  {
   "cell_type": "code",
   "execution_count": 16,
   "id": "75f71bca",
   "metadata": {},
   "outputs": [],
   "source": [
    "y=df['tripDensity']\n",
    "X=df_sc"
   ]
  },
  {
   "cell_type": "code",
   "execution_count": 17,
   "id": "24983660",
   "metadata": {},
   "outputs": [],
   "source": [
    "X_train, X_test, y_train, y_test = train_test_split(X, y, test_size=0.2,random_state=24)"
   ]
  },
  {
   "cell_type": "code",
   "execution_count": 18,
   "id": "1ec427a1",
   "metadata": {},
   "outputs": [],
   "source": [
    "NB=sm.GLM(y_train,X_train, family=sm.families.NegativeBinomial(alpha=0.981766))"
   ]
  },
  {
   "cell_type": "code",
   "execution_count": 19,
   "id": "9d612312",
   "metadata": {},
   "outputs": [
    {
     "name": "stderr",
     "output_type": "stream",
     "text": [
      "C:\\ProgramData\\Anaconda3\\lib\\site-packages\\statsmodels\\base\\model.py:127: ValueWarning: unknown kwargs ['loglike_method']\n",
      "  warnings.warn(msg, ValueWarning)\n"
     ]
    }
   ],
   "source": [
    "nb_training_results=sm.GLM(y_train,X_train, loglike_method='geometric',family=sm.families.NegativeBinomial(alpha=0.981766)).fit(method='powell')"
   ]
  },
  {
   "cell_type": "code",
   "execution_count": 20,
   "id": "d65da1f6",
   "metadata": {},
   "outputs": [
    {
     "name": "stdout",
     "output_type": "stream",
     "text": [
      "                 Generalized Linear Model Regression Results                  \n",
      "==============================================================================\n",
      "Dep. Variable:            tripDensity   No. Observations:                45292\n",
      "Model:                            GLM   Df Residuals:                    45268\n",
      "Model Family:        NegativeBinomial   Df Model:                           23\n",
      "Link Function:                    Log   Scale:                          1.0000\n",
      "Method:                        powell   Log-Likelihood:            -6.7913e+05\n",
      "Date:                Thu, 22 Sep 2022   Deviance:                   1.1895e+06\n",
      "Time:                        11:05:22   Pearson chi2:                 1.00e+09\n",
      "No. Iterations:                    14   Pseudo R-squ. (CS):         -7.047e+08\n",
      "Covariance Type:            nonrobust                                         \n",
      "===========================================================================================\n",
      "                              coef    std err          z      P>|z|      [0.025      0.975]\n",
      "-------------------------------------------------------------------------------------------\n",
      "busDensity                 -0.1171      0.002    -50.699      0.000      -0.122      -0.113\n",
      "tramDensity                 0.2612      0.003     95.934      0.000       0.256       0.267\n",
      "Cafe perc                   0.2146      0.002     89.591      0.000       0.210       0.219\n",
      "Office perc                 0.0097      0.002      5.848      0.000       0.006       0.013\n",
      "Shops perc                  0.1561      0.002     72.535      0.000       0.152       0.160\n",
      "mxi                         0.1332      0.003     40.912      0.000       0.127       0.140\n",
      "recreationCount            -0.4208      0.005    -77.992      0.000      -0.431      -0.410\n",
      "campusCount                -0.1704      0.003    -66.610      0.000      -0.175      -0.165\n",
      "5-14 %                     -0.0790      0.005    -16.684      0.000      -0.088      -0.070\n",
      "40-49 %                    -0.7060      0.004   -168.455      0.000      -0.714      -0.698\n",
      "50-64 %                     0.0148      0.004      3.856      0.000       0.007       0.022\n",
      "male%                       1.4769      0.004    351.582      0.000       1.469       1.485\n",
      "Population density 2021     0.6929      0.004    180.629      0.000       0.685       0.700\n",
      "min_temp                    0.1446      0.003     47.087      0.000       0.139       0.151\n",
      "date_2                      0.4730      0.003    141.667      0.000       0.467       0.480\n",
      "hour_2                     -0.4530      0.003   -150.641      0.000      -0.459      -0.447\n",
      "hour_3                     -0.0722      0.003    -23.998      0.000      -0.078      -0.066\n",
      "hour_4                      0.0307      0.003     10.479      0.000       0.025       0.036\n",
      "hour_5                      0.1934      0.003     67.073      0.000       0.188       0.199\n",
      "hour_6                      0.3313      0.003    114.179      0.000       0.326       0.337\n",
      "hour_7                      0.2740      0.003     96.171      0.000       0.268       0.280\n",
      "hour_8                      0.2614      0.003     93.493      0.000       0.256       0.267\n",
      "trainDensity_1             -0.2055      0.003    -79.689      0.000      -0.211      -0.200\n",
      "rainfall_1                 -0.1523      0.003    -58.015      0.000      -0.157      -0.147\n",
      "===========================================================================================\n"
     ]
    }
   ],
   "source": [
    "print(nb_training_results.summary())"
   ]
  },
  {
   "cell_type": "code",
   "execution_count": 21,
   "id": "c7387aff",
   "metadata": {
    "scrolled": true
   },
   "outputs": [
    {
     "name": "stdout",
     "output_type": "stream",
     "text": [
      "            mean   mean_se  mean_ci_lower  mean_ci_upper\n",
      "6147    0.014060  0.000184       0.013705       0.014424\n",
      "4864   21.675211  0.210076      21.267355      22.090889\n",
      "25971   1.389596  0.013987       1.362450       1.417282\n",
      "15102   2.175504  0.023627       2.129687       2.222308\n",
      "32708   1.967026  0.020571       1.927118       2.007760\n",
      "...          ...       ...            ...            ...\n",
      "21633  11.231210  0.095797      11.045011      11.420548\n",
      "19857   1.464138  0.011757       1.441275       1.487363\n",
      "14528   0.036926  0.000436       0.036081       0.037791\n",
      "899     1.313101  0.014329       1.285315       1.341488\n",
      "45474  33.197210  0.272782      32.666849      33.736181\n",
      "\n",
      "[45292 rows x 4 columns]\n"
     ]
    }
   ],
   "source": [
    "nb_prediction_train=nb_training_results.get_prediction(X_train)\n",
    "nb_summary_frame_train=nb_prediction_train.summary_frame()\n",
    "print(nb_summary_frame_train)"
   ]
  },
  {
   "cell_type": "code",
   "execution_count": 22,
   "id": "859cdbed",
   "metadata": {},
   "outputs": [
    {
     "data": {
      "text/plain": [
       "6147      0.014060\n",
       "4864     21.675211\n",
       "25971     1.389596\n",
       "15102     2.175504\n",
       "32708     1.967026\n",
       "           ...    \n",
       "21633    11.231210\n",
       "19857     1.464138\n",
       "14528     0.036926\n",
       "899       1.313101\n",
       "45474    33.197210\n",
       "Name: mean, Length: 45292, dtype: float64"
      ]
     },
     "execution_count": 22,
     "metadata": {},
     "output_type": "execute_result"
    }
   ],
   "source": [
    "predicted_train_count=nb_summary_frame_train['mean']\n",
    "predicted_train_count"
   ]
  },
  {
   "cell_type": "code",
   "execution_count": 23,
   "id": "706fea5f",
   "metadata": {},
   "outputs": [
    {
     "name": "stdout",
     "output_type": "stream",
     "text": [
      "            mean   mean_se  mean_ci_lower  mean_ci_upper\n",
      "37096  30.499259  0.298791      29.919226      31.090536\n",
      "32405   0.375299  0.003687       0.368143       0.382595\n",
      "29630   5.154698  0.088488       4.984149       5.331082\n",
      "5114    8.461738  0.073038       8.319791       8.606107\n",
      "4064    2.431575  0.021857       2.389111       2.474794\n",
      "...          ...       ...            ...            ...\n",
      "31875   1.604247  0.013788       1.577449       1.631501\n",
      "35947  16.603325  0.180112      16.254038      16.960118\n",
      "35391   0.195822  0.002804       0.190403       0.201396\n",
      "38042   0.100697  0.001246       0.098284       0.103170\n",
      "12791   4.220689  0.101427       4.026506       4.424238\n",
      "\n",
      "[11324 rows x 4 columns]\n"
     ]
    }
   ],
   "source": [
    "nb_prediction_test=nb_training_results.get_prediction(X_test)\n",
    "nb_summary_frame_test=nb_prediction_test.summary_frame()\n",
    "print(nb_summary_frame_test)"
   ]
  },
  {
   "cell_type": "code",
   "execution_count": 24,
   "id": "6b662d4a",
   "metadata": {},
   "outputs": [
    {
     "data": {
      "text/plain": [
       "37096    30.499259\n",
       "32405     0.375299\n",
       "29630     5.154698\n",
       "5114      8.461738\n",
       "4064      2.431575\n",
       "           ...    \n",
       "31875     1.604247\n",
       "35947    16.603325\n",
       "35391     0.195822\n",
       "38042     0.100697\n",
       "12791     4.220689\n",
       "Name: mean, Length: 11324, dtype: float64"
      ]
     },
     "execution_count": 24,
     "metadata": {},
     "output_type": "execute_result"
    }
   ],
   "source": [
    "predicted_test_count=nb_summary_frame_test['mean']\n",
    "predicted_test_count"
   ]
  },
  {
   "cell_type": "code",
   "execution_count": 25,
   "id": "c4881c71",
   "metadata": {},
   "outputs": [
    {
     "name": "stdout",
     "output_type": "stream",
     "text": [
      "MAE 41.809417\n"
     ]
    }
   ],
   "source": [
    "print(\"MAE %f\" %mean_absolute_error(y_test, predicted_test_count))"
   ]
  },
  {
   "cell_type": "code",
   "execution_count": 26,
   "id": "70a74495",
   "metadata": {},
   "outputs": [
    {
     "name": "stdout",
     "output_type": "stream",
     "text": [
      "MSE  17059.831266\n"
     ]
    }
   ],
   "source": [
    "print(\"MSE  %f\" %mean_squared_error(y_test, predicted_test_count))"
   ]
  },
  {
   "cell_type": "code",
   "execution_count": 27,
   "id": "92f7c87e",
   "metadata": {},
   "outputs": [
    {
     "name": "stdout",
     "output_type": "stream",
     "text": [
      "RMSE  130.613289\n"
     ]
    }
   ],
   "source": [
    "import numpy as np\n",
    "print(\"RMSE  %f\" %np.sqrt(mean_squared_error(y_test, predicted_test_count)))"
   ]
  },
  {
   "cell_type": "code",
   "execution_count": 44,
   "id": "848fda97",
   "metadata": {},
   "outputs": [],
   "source": [
    "# cross validation"
   ]
  },
  {
   "cell_type": "code",
   "execution_count": 45,
   "id": "138de970",
   "metadata": {},
   "outputs": [],
   "source": [
    "y=df['tripDensity']\n",
    "X=df_sc"
   ]
  },
  {
   "cell_type": "code",
   "execution_count": 49,
   "id": "b05b7daf",
   "metadata": {},
   "outputs": [],
   "source": [
    "data=pd.concat([y,X],axis=1)"
   ]
  },
  {
   "cell_type": "code",
   "execution_count": 74,
   "id": "dfaf0deb",
   "metadata": {},
   "outputs": [],
   "source": [
    "y=data['tripDensity'].values\n",
    "X=data.drop(['tripDensity'], axis=1).values"
   ]
  },
  {
   "cell_type": "code",
   "execution_count": 46,
   "id": "f5b295c4",
   "metadata": {},
   "outputs": [],
   "source": [
    "preds, scores = [], []"
   ]
  },
  {
   "cell_type": "code",
   "execution_count": 48,
   "id": "955a7d33",
   "metadata": {},
   "outputs": [],
   "source": [
    "kfold = KFold(n_splits=5, shuffle=True, random_state=1)"
   ]
  },
  {
   "cell_type": "code",
   "execution_count": null,
   "id": "47e8373d",
   "metadata": {},
   "outputs": [],
   "source": []
  }
 ],
 "metadata": {
  "kernelspec": {
   "display_name": "Python 3 (ipykernel)",
   "language": "python",
   "name": "python3"
  },
  "language_info": {
   "codemirror_mode": {
    "name": "ipython",
    "version": 3
   },
   "file_extension": ".py",
   "mimetype": "text/x-python",
   "name": "python",
   "nbconvert_exporter": "python",
   "pygments_lexer": "ipython3",
   "version": "3.7.13"
  }
 },
 "nbformat": 4,
 "nbformat_minor": 5
}
