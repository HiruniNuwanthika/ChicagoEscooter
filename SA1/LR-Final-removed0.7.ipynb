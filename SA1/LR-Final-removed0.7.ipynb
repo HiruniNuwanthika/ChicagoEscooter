{
 "cells": [
  {
   "cell_type": "code",
   "execution_count": 24,
   "id": "20381fbf",
   "metadata": {},
   "outputs": [],
   "source": [
    "import pandas as pd\n",
    "import numpy as np\n",
    "\n",
    "from sklearn.preprocessing import StandardScaler\n",
    "\n",
    "import statsmodels.api as sm\n",
    "from statsmodels.formula.api import glm\n",
    "\n",
    "from sklearn.metrics import mean_absolute_error,mean_squared_error, accuracy_score\n",
    "from sklearn.metrics import r2_score\n",
    "from sklearn.metrics import f1_score\n",
    "from sklearn.metrics import roc_auc_score\n",
    "\n",
    "from sklearn.linear_model import LogisticRegression\n",
    "from sklearn.model_selection import cross_val_score\n",
    "from sklearn.model_selection import train_test_split"
   ]
  },
  {
   "cell_type": "markdown",
   "id": "48bc0a32",
   "metadata": {},
   "source": [
    "#### correlated feature removed "
   ]
  },
  {
   "cell_type": "code",
   "execution_count": 3,
   "id": "bf4a662f",
   "metadata": {},
   "outputs": [],
   "source": [
    "df=pd.read_csv(r'C:\\Melbourne_Escooter\\RealDataset\\FinalResults\\SA1\\Features-trips\\Final\\AllFeatures-original - wholeNumberDensity -removed0.7.csv')"
   ]
  },
  {
   "cell_type": "code",
   "execution_count": 4,
   "id": "85f34d90",
   "metadata": {},
   "outputs": [
    {
     "data": {
      "text/html": [
       "<div>\n",
       "<style scoped>\n",
       "    .dataframe tbody tr th:only-of-type {\n",
       "        vertical-align: middle;\n",
       "    }\n",
       "\n",
       "    .dataframe tbody tr th {\n",
       "        vertical-align: top;\n",
       "    }\n",
       "\n",
       "    .dataframe thead th {\n",
       "        text-align: right;\n",
       "    }\n",
       "</style>\n",
       "<table border=\"1\" class=\"dataframe\">\n",
       "  <thead>\n",
       "    <tr style=\"text-align: right;\">\n",
       "      <th></th>\n",
       "      <th>SA1_CODE21</th>\n",
       "      <th>date</th>\n",
       "      <th>hour</th>\n",
       "      <th>trainDensity</th>\n",
       "      <th>busDensity</th>\n",
       "      <th>tramDensity</th>\n",
       "      <th>Cafe perc</th>\n",
       "      <th>Office perc</th>\n",
       "      <th>Shops perc</th>\n",
       "      <th>mxi</th>\n",
       "      <th>recreationCount</th>\n",
       "      <th>campusCount</th>\n",
       "      <th>5-14 %</th>\n",
       "      <th>40-49 %</th>\n",
       "      <th>50-64 %</th>\n",
       "      <th>male%</th>\n",
       "      <th>Population density 2021</th>\n",
       "      <th>rainfall</th>\n",
       "      <th>min_temp</th>\n",
       "    </tr>\n",
       "  </thead>\n",
       "  <tbody>\n",
       "    <tr>\n",
       "      <th>0</th>\n",
       "      <td>20604111702</td>\n",
       "      <td>1</td>\n",
       "      <td>0</td>\n",
       "      <td>0.0</td>\n",
       "      <td>38.684720</td>\n",
       "      <td>19.34236</td>\n",
       "      <td>0.576336</td>\n",
       "      <td>0.022901</td>\n",
       "      <td>0.030534</td>\n",
       "      <td>12.977099</td>\n",
       "      <td>0</td>\n",
       "      <td>0</td>\n",
       "      <td>3.536138</td>\n",
       "      <td>7.422579</td>\n",
       "      <td>8.152377</td>\n",
       "      <td>49.511571</td>\n",
       "      <td>9456.2</td>\n",
       "      <td>0</td>\n",
       "      <td>7.4</td>\n",
       "    </tr>\n",
       "    <tr>\n",
       "      <th>1</th>\n",
       "      <td>20604111702</td>\n",
       "      <td>1</td>\n",
       "      <td>1</td>\n",
       "      <td>0.0</td>\n",
       "      <td>38.684720</td>\n",
       "      <td>19.34236</td>\n",
       "      <td>0.576336</td>\n",
       "      <td>0.022901</td>\n",
       "      <td>0.030534</td>\n",
       "      <td>12.977099</td>\n",
       "      <td>0</td>\n",
       "      <td>0</td>\n",
       "      <td>3.536138</td>\n",
       "      <td>7.422579</td>\n",
       "      <td>8.152377</td>\n",
       "      <td>49.511571</td>\n",
       "      <td>9456.2</td>\n",
       "      <td>0</td>\n",
       "      <td>7.4</td>\n",
       "    </tr>\n",
       "    <tr>\n",
       "      <th>2</th>\n",
       "      <td>20604111702</td>\n",
       "      <td>1</td>\n",
       "      <td>2</td>\n",
       "      <td>0.0</td>\n",
       "      <td>38.684720</td>\n",
       "      <td>19.34236</td>\n",
       "      <td>0.576336</td>\n",
       "      <td>0.022901</td>\n",
       "      <td>0.030534</td>\n",
       "      <td>12.977099</td>\n",
       "      <td>0</td>\n",
       "      <td>0</td>\n",
       "      <td>3.536138</td>\n",
       "      <td>7.422579</td>\n",
       "      <td>8.152377</td>\n",
       "      <td>49.511571</td>\n",
       "      <td>9456.2</td>\n",
       "      <td>0</td>\n",
       "      <td>7.4</td>\n",
       "    </tr>\n",
       "    <tr>\n",
       "      <th>3</th>\n",
       "      <td>20604111702</td>\n",
       "      <td>1</td>\n",
       "      <td>3</td>\n",
       "      <td>0.0</td>\n",
       "      <td>38.684720</td>\n",
       "      <td>19.34236</td>\n",
       "      <td>0.576336</td>\n",
       "      <td>0.022901</td>\n",
       "      <td>0.030534</td>\n",
       "      <td>12.977099</td>\n",
       "      <td>0</td>\n",
       "      <td>0</td>\n",
       "      <td>3.536138</td>\n",
       "      <td>7.422579</td>\n",
       "      <td>8.152377</td>\n",
       "      <td>49.511571</td>\n",
       "      <td>9456.2</td>\n",
       "      <td>0</td>\n",
       "      <td>7.4</td>\n",
       "    </tr>\n",
       "    <tr>\n",
       "      <th>4</th>\n",
       "      <td>20604111702</td>\n",
       "      <td>1</td>\n",
       "      <td>4</td>\n",
       "      <td>0.0</td>\n",
       "      <td>38.684720</td>\n",
       "      <td>19.34236</td>\n",
       "      <td>0.576336</td>\n",
       "      <td>0.022901</td>\n",
       "      <td>0.030534</td>\n",
       "      <td>12.977099</td>\n",
       "      <td>0</td>\n",
       "      <td>0</td>\n",
       "      <td>3.536138</td>\n",
       "      <td>7.422579</td>\n",
       "      <td>8.152377</td>\n",
       "      <td>49.511571</td>\n",
       "      <td>9456.2</td>\n",
       "      <td>0</td>\n",
       "      <td>7.4</td>\n",
       "    </tr>\n",
       "    <tr>\n",
       "      <th>...</th>\n",
       "      <td>...</td>\n",
       "      <td>...</td>\n",
       "      <td>...</td>\n",
       "      <td>...</td>\n",
       "      <td>...</td>\n",
       "      <td>...</td>\n",
       "      <td>...</td>\n",
       "      <td>...</td>\n",
       "      <td>...</td>\n",
       "      <td>...</td>\n",
       "      <td>...</td>\n",
       "      <td>...</td>\n",
       "      <td>...</td>\n",
       "      <td>...</td>\n",
       "      <td>...</td>\n",
       "      <td>...</td>\n",
       "      <td>...</td>\n",
       "      <td>...</td>\n",
       "      <td>...</td>\n",
       "    </tr>\n",
       "    <tr>\n",
       "      <th>56611</th>\n",
       "      <td>20604151016</td>\n",
       "      <td>7</td>\n",
       "      <td>19</td>\n",
       "      <td>0.0</td>\n",
       "      <td>46.728972</td>\n",
       "      <td>0.00000</td>\n",
       "      <td>0.803571</td>\n",
       "      <td>0.071429</td>\n",
       "      <td>0.035714</td>\n",
       "      <td>41.071429</td>\n",
       "      <td>0</td>\n",
       "      <td>0</td>\n",
       "      <td>1.813717</td>\n",
       "      <td>13.562667</td>\n",
       "      <td>0.000000</td>\n",
       "      <td>51.647198</td>\n",
       "      <td>9238.5</td>\n",
       "      <td>1</td>\n",
       "      <td>8.0</td>\n",
       "    </tr>\n",
       "    <tr>\n",
       "      <th>56612</th>\n",
       "      <td>20604151016</td>\n",
       "      <td>7</td>\n",
       "      <td>20</td>\n",
       "      <td>0.0</td>\n",
       "      <td>46.728972</td>\n",
       "      <td>0.00000</td>\n",
       "      <td>0.803571</td>\n",
       "      <td>0.071429</td>\n",
       "      <td>0.035714</td>\n",
       "      <td>41.071429</td>\n",
       "      <td>0</td>\n",
       "      <td>0</td>\n",
       "      <td>1.813717</td>\n",
       "      <td>13.562667</td>\n",
       "      <td>0.000000</td>\n",
       "      <td>51.647198</td>\n",
       "      <td>9238.5</td>\n",
       "      <td>1</td>\n",
       "      <td>8.0</td>\n",
       "    </tr>\n",
       "    <tr>\n",
       "      <th>56613</th>\n",
       "      <td>20604151016</td>\n",
       "      <td>7</td>\n",
       "      <td>21</td>\n",
       "      <td>0.0</td>\n",
       "      <td>46.728972</td>\n",
       "      <td>0.00000</td>\n",
       "      <td>0.803571</td>\n",
       "      <td>0.071429</td>\n",
       "      <td>0.035714</td>\n",
       "      <td>41.071429</td>\n",
       "      <td>0</td>\n",
       "      <td>0</td>\n",
       "      <td>1.813717</td>\n",
       "      <td>13.562667</td>\n",
       "      <td>0.000000</td>\n",
       "      <td>51.647198</td>\n",
       "      <td>9238.5</td>\n",
       "      <td>1</td>\n",
       "      <td>8.0</td>\n",
       "    </tr>\n",
       "    <tr>\n",
       "      <th>56614</th>\n",
       "      <td>20604151016</td>\n",
       "      <td>7</td>\n",
       "      <td>22</td>\n",
       "      <td>0.0</td>\n",
       "      <td>46.728972</td>\n",
       "      <td>0.00000</td>\n",
       "      <td>0.803571</td>\n",
       "      <td>0.071429</td>\n",
       "      <td>0.035714</td>\n",
       "      <td>41.071429</td>\n",
       "      <td>0</td>\n",
       "      <td>0</td>\n",
       "      <td>1.813717</td>\n",
       "      <td>13.562667</td>\n",
       "      <td>0.000000</td>\n",
       "      <td>51.647198</td>\n",
       "      <td>9238.5</td>\n",
       "      <td>1</td>\n",
       "      <td>8.0</td>\n",
       "    </tr>\n",
       "    <tr>\n",
       "      <th>56615</th>\n",
       "      <td>20604151016</td>\n",
       "      <td>7</td>\n",
       "      <td>23</td>\n",
       "      <td>0.0</td>\n",
       "      <td>46.728972</td>\n",
       "      <td>0.00000</td>\n",
       "      <td>0.803571</td>\n",
       "      <td>0.071429</td>\n",
       "      <td>0.035714</td>\n",
       "      <td>41.071429</td>\n",
       "      <td>0</td>\n",
       "      <td>0</td>\n",
       "      <td>1.813717</td>\n",
       "      <td>13.562667</td>\n",
       "      <td>0.000000</td>\n",
       "      <td>51.647198</td>\n",
       "      <td>9238.5</td>\n",
       "      <td>1</td>\n",
       "      <td>8.0</td>\n",
       "    </tr>\n",
       "  </tbody>\n",
       "</table>\n",
       "<p>56616 rows × 19 columns</p>\n",
       "</div>"
      ],
      "text/plain": [
       "        SA1_CODE21  date  hour  trainDensity  busDensity  tramDensity  \\\n",
       "0      20604111702     1     0           0.0   38.684720     19.34236   \n",
       "1      20604111702     1     1           0.0   38.684720     19.34236   \n",
       "2      20604111702     1     2           0.0   38.684720     19.34236   \n",
       "3      20604111702     1     3           0.0   38.684720     19.34236   \n",
       "4      20604111702     1     4           0.0   38.684720     19.34236   \n",
       "...            ...   ...   ...           ...         ...          ...   \n",
       "56611  20604151016     7    19           0.0   46.728972      0.00000   \n",
       "56612  20604151016     7    20           0.0   46.728972      0.00000   \n",
       "56613  20604151016     7    21           0.0   46.728972      0.00000   \n",
       "56614  20604151016     7    22           0.0   46.728972      0.00000   \n",
       "56615  20604151016     7    23           0.0   46.728972      0.00000   \n",
       "\n",
       "       Cafe perc  Office perc  Shops perc        mxi  recreationCount  \\\n",
       "0       0.576336     0.022901    0.030534  12.977099                0   \n",
       "1       0.576336     0.022901    0.030534  12.977099                0   \n",
       "2       0.576336     0.022901    0.030534  12.977099                0   \n",
       "3       0.576336     0.022901    0.030534  12.977099                0   \n",
       "4       0.576336     0.022901    0.030534  12.977099                0   \n",
       "...          ...          ...         ...        ...              ...   \n",
       "56611   0.803571     0.071429    0.035714  41.071429                0   \n",
       "56612   0.803571     0.071429    0.035714  41.071429                0   \n",
       "56613   0.803571     0.071429    0.035714  41.071429                0   \n",
       "56614   0.803571     0.071429    0.035714  41.071429                0   \n",
       "56615   0.803571     0.071429    0.035714  41.071429                0   \n",
       "\n",
       "       campusCount    5-14 %    40-49 %   50-64 %      male%  \\\n",
       "0                0  3.536138   7.422579  8.152377  49.511571   \n",
       "1                0  3.536138   7.422579  8.152377  49.511571   \n",
       "2                0  3.536138   7.422579  8.152377  49.511571   \n",
       "3                0  3.536138   7.422579  8.152377  49.511571   \n",
       "4                0  3.536138   7.422579  8.152377  49.511571   \n",
       "...            ...       ...        ...       ...        ...   \n",
       "56611            0  1.813717  13.562667  0.000000  51.647198   \n",
       "56612            0  1.813717  13.562667  0.000000  51.647198   \n",
       "56613            0  1.813717  13.562667  0.000000  51.647198   \n",
       "56614            0  1.813717  13.562667  0.000000  51.647198   \n",
       "56615            0  1.813717  13.562667  0.000000  51.647198   \n",
       "\n",
       "       Population density 2021  rainfall  min_temp  \n",
       "0                       9456.2         0       7.4  \n",
       "1                       9456.2         0       7.4  \n",
       "2                       9456.2         0       7.4  \n",
       "3                       9456.2         0       7.4  \n",
       "4                       9456.2         0       7.4  \n",
       "...                        ...       ...       ...  \n",
       "56611                   9238.5         1       8.0  \n",
       "56612                   9238.5         1       8.0  \n",
       "56613                   9238.5         1       8.0  \n",
       "56614                   9238.5         1       8.0  \n",
       "56615                   9238.5         1       8.0  \n",
       "\n",
       "[56616 rows x 19 columns]"
      ]
     },
     "execution_count": 4,
     "metadata": {},
     "output_type": "execute_result"
    }
   ],
   "source": [
    "column=['tripDensity']\n",
    "df_depe=df.drop(column, axis=1)\n",
    "df_depe"
   ]
  },
  {
   "cell_type": "code",
   "execution_count": 5,
   "id": "aeacad11",
   "metadata": {},
   "outputs": [],
   "source": [
    "df_depe=df_depe.drop(['SA1_CODE21'], axis=1)"
   ]
  },
  {
   "cell_type": "code",
   "execution_count": 6,
   "id": "d4229bb8",
   "metadata": {},
   "outputs": [],
   "source": [
    "df_depe[\"hour\"].replace({0:1,1:1,2:1,3:2,4:2,5:2,6:3,7:3,8:3,9:4,10:4,11:4,12:5,13:5,14:5,15:6,16:6,17:6,18:7,19:7,20:7,21:8,22:8,23:8}, inplace=True)\n",
    "df_depe[\"date\"].replace({1:1,2: 1, 3: 1,4: 1,5: 1,6: 2,7: 2}, inplace=True)\n",
    "df_depe['trainDensity'] = df['trainDensity'].map(lambda x: 1 if x>0 else 0)"
   ]
  },
  {
   "cell_type": "code",
   "execution_count": 7,
   "id": "2e1cb078",
   "metadata": {},
   "outputs": [],
   "source": [
    "categorical =['hour','date','rainfall','trainDensity']\n",
    "for col in categorical:\n",
    "    df_depe[col]=df_depe[col].astype('category')"
   ]
  },
  {
   "cell_type": "code",
   "execution_count": 8,
   "id": "75b6e3e0",
   "metadata": {},
   "outputs": [
    {
     "data": {
      "text/plain": [
       "Index(['busDensity', 'tramDensity', 'Cafe perc', 'Office perc', 'Shops perc',\n",
       "       'mxi', 'recreationCount', 'campusCount', '5-14 %', '40-49 %', '50-64 %',\n",
       "       'male%', 'Population density 2021', 'min_temp', 'date_2', 'hour_2',\n",
       "       'hour_3', 'hour_4', 'hour_5', 'hour_6', 'hour_7', 'hour_8',\n",
       "       'trainDensity_1', 'rainfall_1'],\n",
       "      dtype='object')"
      ]
     },
     "execution_count": 8,
     "metadata": {},
     "output_type": "execute_result"
    }
   ],
   "source": [
    "df_depe=pd.get_dummies(df_depe, drop_first=True)\n",
    "df_depe.columns"
   ]
  },
  {
   "cell_type": "code",
   "execution_count": 9,
   "id": "77cd87b3",
   "metadata": {},
   "outputs": [],
   "source": [
    "scale= StandardScaler()\n",
    "df_sc= scale.fit_transform(df_depe)\n",
    "df_sc=pd.DataFrame(df_sc, columns=df_depe.columns)"
   ]
  },
  {
   "cell_type": "code",
   "execution_count": 10,
   "id": "7e0522e4",
   "metadata": {},
   "outputs": [],
   "source": [
    "df['tripDensity'] = df['tripDensity'].map(lambda x: 1 if x>49.0 else 0)\n",
    "df['tripDensity']=df['tripDensity'].astype('category')"
   ]
  },
  {
   "cell_type": "code",
   "execution_count": 11,
   "id": "516687e6",
   "metadata": {},
   "outputs": [],
   "source": [
    "y=df['tripDensity']\n",
    "X=df_sc"
   ]
  },
  {
   "cell_type": "code",
   "execution_count": 12,
   "id": "27bd1ced",
   "metadata": {},
   "outputs": [],
   "source": [
    "from sklearn.model_selection import train_test_split\n",
    "X_train, X_test, y_train, y_test = train_test_split(X, y, test_size=0.2)"
   ]
  },
  {
   "cell_type": "code",
   "execution_count": 31,
   "id": "014a3b57",
   "metadata": {},
   "outputs": [],
   "source": [
    "from sklearn.linear_model import LogisticRegression\n",
    "clf = LogisticRegression(C=1,random_state=42,max_iter=1000)"
   ]
  },
  {
   "cell_type": "code",
   "execution_count": 32,
   "id": "e4f5d669",
   "metadata": {},
   "outputs": [],
   "source": [
    "model = clf.fit(X_train, y_train)"
   ]
  },
  {
   "cell_type": "code",
   "execution_count": 15,
   "id": "8ab2d04d",
   "metadata": {},
   "outputs": [],
   "source": [
    "ypredict = clf.predict(X_test)"
   ]
  },
  {
   "cell_type": "code",
   "execution_count": 16,
   "id": "c5a49e1d",
   "metadata": {},
   "outputs": [
    {
     "name": "stdout",
     "output_type": "stream",
     "text": [
      "MAE 0.197015\n"
     ]
    }
   ],
   "source": [
    "print(\"MAE %f\" %mean_absolute_error(y_test, ypredict))\n"
   ]
  },
  {
   "cell_type": "code",
   "execution_count": 17,
   "id": "7cd7808e",
   "metadata": {},
   "outputs": [
    {
     "name": "stdout",
     "output_type": "stream",
     "text": [
      "MSE  0.197015\n"
     ]
    }
   ],
   "source": [
    "print(\"MSE  %f\" %mean_squared_error(y_test, ypredict))"
   ]
  },
  {
   "cell_type": "code",
   "execution_count": 19,
   "id": "87671a5c",
   "metadata": {},
   "outputs": [
    {
     "name": "stdout",
     "output_type": "stream",
     "text": [
      "RMSE  0.443864\n"
     ]
    }
   ],
   "source": [
    "import numpy as np\n",
    "print(\"RMSE  %f\" %np.sqrt(mean_squared_error(y_test, ypredict)))"
   ]
  },
  {
   "cell_type": "code",
   "execution_count": 21,
   "id": "f2acf02d",
   "metadata": {},
   "outputs": [
    {
     "data": {
      "text/plain": [
       "0.231484671029969"
      ]
     },
     "execution_count": 21,
     "metadata": {},
     "output_type": "execute_result"
    }
   ],
   "source": [
    "f1_score(y_test, ypredict)"
   ]
  },
  {
   "cell_type": "code",
   "execution_count": 25,
   "id": "3101f89d",
   "metadata": {},
   "outputs": [
    {
     "name": "stdout",
     "output_type": "stream",
     "text": [
      "0.7807389646753395\n"
     ]
    }
   ],
   "source": [
    "y_pred_proba = clf.predict_proba(X_test)[::,1]\n",
    "auc =roc_auc_score(y_test, y_pred_proba)\n",
    "print(auc)"
   ]
  },
  {
   "cell_type": "code",
   "execution_count": 26,
   "id": "fe145e02",
   "metadata": {},
   "outputs": [],
   "source": [
    "import statsmodels.api as sm\n",
    "X_train =sm.add_constant(X_train)"
   ]
  },
  {
   "cell_type": "code",
   "execution_count": 27,
   "id": "c4cc22a2",
   "metadata": {},
   "outputs": [],
   "source": [
    "model=sm.Logit(y_train,X_train)"
   ]
  },
  {
   "cell_type": "code",
   "execution_count": 28,
   "id": "050a45d0",
   "metadata": {},
   "outputs": [
    {
     "name": "stdout",
     "output_type": "stream",
     "text": [
      "Optimization terminated successfully.\n",
      "         Current function value: 0.411080\n",
      "         Iterations 7\n"
     ]
    }
   ],
   "source": [
    "result = model.fit()"
   ]
  },
  {
   "cell_type": "code",
   "execution_count": 29,
   "id": "90f1dca9",
   "metadata": {},
   "outputs": [
    {
     "data": {
      "text/html": [
       "<table class=\"simpletable\">\n",
       "<caption>Logit Regression Results</caption>\n",
       "<tr>\n",
       "  <th>Dep. Variable:</th>      <td>tripDensity</td>   <th>  No. Observations:  </th>  <td> 45292</td> \n",
       "</tr>\n",
       "<tr>\n",
       "  <th>Model:</th>                 <td>Logit</td>      <th>  Df Residuals:      </th>  <td> 45267</td> \n",
       "</tr>\n",
       "<tr>\n",
       "  <th>Method:</th>                 <td>MLE</td>       <th>  Df Model:          </th>  <td>    24</td> \n",
       "</tr>\n",
       "<tr>\n",
       "  <th>Date:</th>            <td>Thu, 22 Sep 2022</td> <th>  Pseudo R-squ.:     </th>  <td>0.1749</td> \n",
       "</tr>\n",
       "<tr>\n",
       "  <th>Time:</th>                <td>11:23:12</td>     <th>  Log-Likelihood:    </th> <td> -18619.</td>\n",
       "</tr>\n",
       "<tr>\n",
       "  <th>converged:</th>             <td>True</td>       <th>  LL-Null:           </th> <td> -22565.</td>\n",
       "</tr>\n",
       "<tr>\n",
       "  <th>Covariance Type:</th>     <td>nonrobust</td>    <th>  LLR p-value:       </th>  <td> 0.000</td> \n",
       "</tr>\n",
       "</table>\n",
       "<table class=\"simpletable\">\n",
       "<tr>\n",
       "             <td></td>                <th>coef</th>     <th>std err</th>      <th>z</th>      <th>P>|z|</th>  <th>[0.025</th>    <th>0.975]</th>  \n",
       "</tr>\n",
       "<tr>\n",
       "  <th>const</th>                   <td>   -1.8517</td> <td>    0.017</td> <td> -107.478</td> <td> 0.000</td> <td>   -1.885</td> <td>   -1.818</td>\n",
       "</tr>\n",
       "<tr>\n",
       "  <th>busDensity</th>              <td>   -0.1110</td> <td>    0.014</td> <td>   -7.880</td> <td> 0.000</td> <td>   -0.139</td> <td>   -0.083</td>\n",
       "</tr>\n",
       "<tr>\n",
       "  <th>tramDensity</th>             <td>    0.1892</td> <td>    0.015</td> <td>   12.928</td> <td> 0.000</td> <td>    0.160</td> <td>    0.218</td>\n",
       "</tr>\n",
       "<tr>\n",
       "  <th>Cafe perc</th>               <td>    0.3764</td> <td>    0.016</td> <td>   23.367</td> <td> 0.000</td> <td>    0.345</td> <td>    0.408</td>\n",
       "</tr>\n",
       "<tr>\n",
       "  <th>Office perc</th>             <td>    0.1284</td> <td>    0.011</td> <td>   11.638</td> <td> 0.000</td> <td>    0.107</td> <td>    0.150</td>\n",
       "</tr>\n",
       "<tr>\n",
       "  <th>Shops perc</th>              <td>    0.1312</td> <td>    0.012</td> <td>   11.319</td> <td> 0.000</td> <td>    0.108</td> <td>    0.154</td>\n",
       "</tr>\n",
       "<tr>\n",
       "  <th>mxi</th>                     <td>    0.2070</td> <td>    0.019</td> <td>   10.687</td> <td> 0.000</td> <td>    0.169</td> <td>    0.245</td>\n",
       "</tr>\n",
       "<tr>\n",
       "  <th>recreationCount</th>         <td>   -0.2205</td> <td>    0.029</td> <td>   -7.704</td> <td> 0.000</td> <td>   -0.277</td> <td>   -0.164</td>\n",
       "</tr>\n",
       "<tr>\n",
       "  <th>campusCount</th>             <td>   -0.0380</td> <td>    0.013</td> <td>   -2.863</td> <td> 0.004</td> <td>   -0.064</td> <td>   -0.012</td>\n",
       "</tr>\n",
       "<tr>\n",
       "  <th>5-14 %</th>                  <td>   -0.1989</td> <td>    0.024</td> <td>   -8.245</td> <td> 0.000</td> <td>   -0.246</td> <td>   -0.152</td>\n",
       "</tr>\n",
       "<tr>\n",
       "  <th>40-49 %</th>                 <td>   -0.3537</td> <td>    0.024</td> <td>  -14.524</td> <td> 0.000</td> <td>   -0.401</td> <td>   -0.306</td>\n",
       "</tr>\n",
       "<tr>\n",
       "  <th>50-64 %</th>                 <td>    0.1005</td> <td>    0.022</td> <td>    4.480</td> <td> 0.000</td> <td>    0.057</td> <td>    0.144</td>\n",
       "</tr>\n",
       "<tr>\n",
       "  <th>male%</th>                   <td>    0.5454</td> <td>    0.019</td> <td>   28.029</td> <td> 0.000</td> <td>    0.507</td> <td>    0.584</td>\n",
       "</tr>\n",
       "<tr>\n",
       "  <th>Population density 2021</th> <td>    0.1999</td> <td>    0.020</td> <td>   10.032</td> <td> 0.000</td> <td>    0.161</td> <td>    0.239</td>\n",
       "</tr>\n",
       "<tr>\n",
       "  <th>min_temp</th>                <td>    0.1790</td> <td>    0.018</td> <td>    9.880</td> <td> 0.000</td> <td>    0.143</td> <td>    0.214</td>\n",
       "</tr>\n",
       "<tr>\n",
       "  <th>date_2</th>                  <td>    0.3914</td> <td>    0.020</td> <td>   20.025</td> <td> 0.000</td> <td>    0.353</td> <td>    0.430</td>\n",
       "</tr>\n",
       "<tr>\n",
       "  <th>hour_2</th>                  <td>   -0.3035</td> <td>    0.020</td> <td>  -15.051</td> <td> 0.000</td> <td>   -0.343</td> <td>   -0.264</td>\n",
       "</tr>\n",
       "<tr>\n",
       "  <th>hour_3</th>                  <td>   -0.1857</td> <td>    0.019</td> <td>   -9.895</td> <td> 0.000</td> <td>   -0.223</td> <td>   -0.149</td>\n",
       "</tr>\n",
       "<tr>\n",
       "  <th>hour_4</th>                  <td>   -0.0079</td> <td>    0.017</td> <td>   -0.453</td> <td> 0.650</td> <td>   -0.042</td> <td>    0.026</td>\n",
       "</tr>\n",
       "<tr>\n",
       "  <th>hour_5</th>                  <td>    0.1170</td> <td>    0.017</td> <td>    6.991</td> <td> 0.000</td> <td>    0.084</td> <td>    0.150</td>\n",
       "</tr>\n",
       "<tr>\n",
       "  <th>hour_6</th>                  <td>    0.2180</td> <td>    0.016</td> <td>   13.304</td> <td> 0.000</td> <td>    0.186</td> <td>    0.250</td>\n",
       "</tr>\n",
       "<tr>\n",
       "  <th>hour_7</th>                  <td>    0.1769</td> <td>    0.016</td> <td>   10.736</td> <td> 0.000</td> <td>    0.145</td> <td>    0.209</td>\n",
       "</tr>\n",
       "<tr>\n",
       "  <th>hour_8</th>                  <td>    0.1592</td> <td>    0.017</td> <td>    9.610</td> <td> 0.000</td> <td>    0.127</td> <td>    0.192</td>\n",
       "</tr>\n",
       "<tr>\n",
       "  <th>trainDensity_1</th>          <td>   -0.0614</td> <td>    0.015</td> <td>   -4.125</td> <td> 0.000</td> <td>   -0.091</td> <td>   -0.032</td>\n",
       "</tr>\n",
       "<tr>\n",
       "  <th>rainfall_1</th>              <td>   -0.1428</td> <td>    0.015</td> <td>   -9.254</td> <td> 0.000</td> <td>   -0.173</td> <td>   -0.113</td>\n",
       "</tr>\n",
       "</table>"
      ],
      "text/plain": [
       "<class 'statsmodels.iolib.summary.Summary'>\n",
       "\"\"\"\n",
       "                           Logit Regression Results                           \n",
       "==============================================================================\n",
       "Dep. Variable:            tripDensity   No. Observations:                45292\n",
       "Model:                          Logit   Df Residuals:                    45267\n",
       "Method:                           MLE   Df Model:                           24\n",
       "Date:                Thu, 22 Sep 2022   Pseudo R-squ.:                  0.1749\n",
       "Time:                        11:23:12   Log-Likelihood:                -18619.\n",
       "converged:                       True   LL-Null:                       -22565.\n",
       "Covariance Type:            nonrobust   LLR p-value:                     0.000\n",
       "===========================================================================================\n",
       "                              coef    std err          z      P>|z|      [0.025      0.975]\n",
       "-------------------------------------------------------------------------------------------\n",
       "const                      -1.8517      0.017   -107.478      0.000      -1.885      -1.818\n",
       "busDensity                 -0.1110      0.014     -7.880      0.000      -0.139      -0.083\n",
       "tramDensity                 0.1892      0.015     12.928      0.000       0.160       0.218\n",
       "Cafe perc                   0.3764      0.016     23.367      0.000       0.345       0.408\n",
       "Office perc                 0.1284      0.011     11.638      0.000       0.107       0.150\n",
       "Shops perc                  0.1312      0.012     11.319      0.000       0.108       0.154\n",
       "mxi                         0.2070      0.019     10.687      0.000       0.169       0.245\n",
       "recreationCount            -0.2205      0.029     -7.704      0.000      -0.277      -0.164\n",
       "campusCount                -0.0380      0.013     -2.863      0.004      -0.064      -0.012\n",
       "5-14 %                     -0.1989      0.024     -8.245      0.000      -0.246      -0.152\n",
       "40-49 %                    -0.3537      0.024    -14.524      0.000      -0.401      -0.306\n",
       "50-64 %                     0.1005      0.022      4.480      0.000       0.057       0.144\n",
       "male%                       0.5454      0.019     28.029      0.000       0.507       0.584\n",
       "Population density 2021     0.1999      0.020     10.032      0.000       0.161       0.239\n",
       "min_temp                    0.1790      0.018      9.880      0.000       0.143       0.214\n",
       "date_2                      0.3914      0.020     20.025      0.000       0.353       0.430\n",
       "hour_2                     -0.3035      0.020    -15.051      0.000      -0.343      -0.264\n",
       "hour_3                     -0.1857      0.019     -9.895      0.000      -0.223      -0.149\n",
       "hour_4                     -0.0079      0.017     -0.453      0.650      -0.042       0.026\n",
       "hour_5                      0.1170      0.017      6.991      0.000       0.084       0.150\n",
       "hour_6                      0.2180      0.016     13.304      0.000       0.186       0.250\n",
       "hour_7                      0.1769      0.016     10.736      0.000       0.145       0.209\n",
       "hour_8                      0.1592      0.017      9.610      0.000       0.127       0.192\n",
       "trainDensity_1             -0.0614      0.015     -4.125      0.000      -0.091      -0.032\n",
       "rainfall_1                 -0.1428      0.015     -9.254      0.000      -0.173      -0.113\n",
       "===========================================================================================\n",
       "\"\"\""
      ]
     },
     "execution_count": 29,
     "metadata": {},
     "output_type": "execute_result"
    }
   ],
   "source": [
    "result.summary()"
   ]
  },
  {
   "cell_type": "code",
   "execution_count": 29,
   "id": "61c8d116",
   "metadata": {},
   "outputs": [],
   "source": [
    "# cross validation"
   ]
  },
  {
   "cell_type": "code",
   "execution_count": 33,
   "id": "04535ea5",
   "metadata": {},
   "outputs": [],
   "source": [
    "test_score= cross_val_score(model, X_test, y_test, scoring='neg_mean_squared_error') #run sklearn model again to override statmodel model"
   ]
  },
  {
   "cell_type": "code",
   "execution_count": 34,
   "id": "30c93e04",
   "metadata": {},
   "outputs": [
    {
     "data": {
      "text/plain": [
       "0.19754471563740744"
      ]
     },
     "execution_count": 34,
     "metadata": {},
     "output_type": "execute_result"
    }
   ],
   "source": [
    "np.mean(np.absolute(test_score))"
   ]
  },
  {
   "cell_type": "code",
   "execution_count": null,
   "id": "2d0824fa",
   "metadata": {},
   "outputs": [],
   "source": []
  }
 ],
 "metadata": {
  "kernelspec": {
   "display_name": "Python 3 (ipykernel)",
   "language": "python",
   "name": "python3"
  },
  "language_info": {
   "codemirror_mode": {
    "name": "ipython",
    "version": 3
   },
   "file_extension": ".py",
   "mimetype": "text/x-python",
   "name": "python",
   "nbconvert_exporter": "python",
   "pygments_lexer": "ipython3",
   "version": "3.7.13"
  }
 },
 "nbformat": 4,
 "nbformat_minor": 5
}
