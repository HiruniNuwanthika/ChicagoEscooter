{
 "cells": [
  {
   "cell_type": "code",
   "execution_count": 36,
   "id": "fd557502",
   "metadata": {},
   "outputs": [],
   "source": [
    "from sklearn.ensemble import RandomForestRegressor\n",
    "from sklearn.datasets import load_boston\n",
    "from sklearn.datasets import make_regression\n",
    "\n",
    "from sklearn.preprocessing import scale\n",
    "from sklearn.model_selection import train_test_split\n",
    "from sklearn.model_selection import cross_val_score\n",
    "\n",
    "import matplotlib.pyplot as plt\n",
    "from sklearn import set_config \n",
    "import pandas as pd\n",
    "import numpy as np"
   ]
  },
  {
   "cell_type": "code",
   "execution_count": 16,
   "id": "04a5d687",
   "metadata": {},
   "outputs": [],
   "source": [
    "df=pd.read_csv(r'C:\\Melbourne_Escooter\\RealDataset\\FinalResults\\SA1\\Features-trips\\Final\\AllFeatures-original - wholeNumberDensity - Copy.csv')"
   ]
  },
  {
   "cell_type": "code",
   "execution_count": 17,
   "id": "6689527a",
   "metadata": {},
   "outputs": [],
   "source": [
    "df=df.drop(['SA1_CODE21'], axis=1)"
   ]
  },
  {
   "cell_type": "code",
   "execution_count": 18,
   "id": "914fd478",
   "metadata": {},
   "outputs": [],
   "source": [
    "df[\"hour\"].replace({0:1,1:1,2:1,3:2,4:2,5:2,6:3,7:3,8:3,9:4,10:4,11:4,12:5,13:5,14:5,15:6,16:6,17:6,18:7,19:7,20:7,21:8,22:8,23:8}, inplace=True)"
   ]
  },
  {
   "cell_type": "code",
   "execution_count": 19,
   "id": "bf7a0226",
   "metadata": {},
   "outputs": [],
   "source": [
    "df[\"date\"].replace({1:1,2: 1, 3: 1,4: 1,5: 1,6: 2,7: 2}, inplace=True)"
   ]
  },
  {
   "cell_type": "code",
   "execution_count": 20,
   "id": "d3c61938",
   "metadata": {},
   "outputs": [],
   "source": [
    "df['trainDensity'] = df['trainDensity'].map(lambda x: 1 if x>0 else 0)"
   ]
  },
  {
   "cell_type": "code",
   "execution_count": 21,
   "id": "373f5672",
   "metadata": {},
   "outputs": [],
   "source": [
    "categorical =['hour','date','rainfall','trainDensity']\n",
    "for col in categorical:\n",
    "    df[col]=df[col].astype('category')"
   ]
  },
  {
   "cell_type": "code",
   "execution_count": 22,
   "id": "2dbf458b",
   "metadata": {},
   "outputs": [],
   "source": [
    "df=pd.get_dummies(df, drop_first=False)"
   ]
  },
  {
   "cell_type": "code",
   "execution_count": 23,
   "id": "3b23acb9",
   "metadata": {},
   "outputs": [
    {
     "data": {
      "text/plain": [
       "Index(['tripDensity', 'busDensity', 'tramDensity', 'House perc', 'Cafe perc',\n",
       "       'Office perc', 'Shops perc', 'entropy', 'mxi', 'recreationCount',\n",
       "       'campusCount', '5-14 %', '15-29 %', '30-39 %', '40-49 %', '50-64 %',\n",
       "       'above65 %', 'female%', 'male%', 'Population density 2021', 'min_temp',\n",
       "       'date_1', 'date_2', 'hour_1', 'hour_2', 'hour_3', 'hour_4', 'hour_5',\n",
       "       'hour_6', 'hour_7', 'hour_8', 'trainDensity_0', 'trainDensity_1',\n",
       "       'rainfall_0', 'rainfall_1'],\n",
       "      dtype='object')"
      ]
     },
     "execution_count": 23,
     "metadata": {},
     "output_type": "execute_result"
    }
   ],
   "source": [
    "df.columns"
   ]
  },
  {
   "cell_type": "code",
   "execution_count": 26,
   "id": "e4a9f25f",
   "metadata": {},
   "outputs": [
    {
     "name": "stdout",
     "output_type": "stream",
     "text": [
      "35\n"
     ]
    }
   ],
   "source": [
    "print(len(df.columns))"
   ]
  },
  {
   "cell_type": "code",
   "execution_count": 27,
   "id": "b5723ef1",
   "metadata": {},
   "outputs": [],
   "source": [
    "y=df['tripDensity']\n",
    "\n",
    "X=df.drop(['tripDensity'], axis=1)"
   ]
  },
  {
   "cell_type": "code",
   "execution_count": 28,
   "id": "435d0a4b",
   "metadata": {},
   "outputs": [],
   "source": [
    "X_train, X_test, y_train, y_test = train_test_split(X, y, test_size=0.2,random_state=24)"
   ]
  },
  {
   "cell_type": "code",
   "execution_count": 29,
   "id": "8696c9cd",
   "metadata": {},
   "outputs": [],
   "source": [
    "model = RandomForestRegressor(n_estimators=300, random_state=24,max_features=6) "
   ]
  },
  {
   "cell_type": "code",
   "execution_count": 30,
   "id": "c87b084e",
   "metadata": {},
   "outputs": [],
   "source": [
    "LL_rf=model.fit(X_train, y_train)"
   ]
  },
  {
   "cell_type": "code",
   "execution_count": 14,
   "id": "faabc48c",
   "metadata": {},
   "outputs": [
    {
     "name": "stdout",
     "output_type": "stream",
     "text": [
      "R-squared: 0.4572682447928683\n"
     ]
    }
   ],
   "source": [
    "score = LL_rf.score(X_train, y_train)\n",
    "print(\"R-squared:\", score)"
   ]
  },
  {
   "cell_type": "code",
   "execution_count": 33,
   "id": "ce7ee377",
   "metadata": {},
   "outputs": [],
   "source": [
    "from sklearn.metrics import mean_absolute_error, mean_squared_error, explained_variance_score, r2_score"
   ]
  },
  {
   "cell_type": "code",
   "execution_count": 16,
   "id": "20dd6c71",
   "metadata": {},
   "outputs": [],
   "source": [
    "ypred = LL_rf.predict(X_train)"
   ]
  },
  {
   "cell_type": "code",
   "execution_count": 17,
   "id": "09d92f33",
   "metadata": {},
   "outputs": [
    {
     "name": "stdout",
     "output_type": "stream",
     "text": [
      "MAE is: 34.332880\n",
      "MSE is: 9605.255451\n"
     ]
    }
   ],
   "source": [
    "print(\"MAE is: %f\" %mean_absolute_error(y_train, ypred))\n",
    "print(\"MSE is: %f\" %mean_squared_error(y_train, ypred))"
   ]
  },
  {
   "cell_type": "code",
   "execution_count": 18,
   "id": "a144504d",
   "metadata": {},
   "outputs": [
    {
     "name": "stdout",
     "output_type": "stream",
     "text": [
      "RMSE is: 98.006405\n"
     ]
    }
   ],
   "source": [
    "import numpy as np\n",
    "print(\"RMSE is: %f\" %np.sqrt(mean_squared_error(y_train, ypred)))"
   ]
  },
  {
   "cell_type": "code",
   "execution_count": 19,
   "id": "0e016ccb",
   "metadata": {},
   "outputs": [
    {
     "name": "stdout",
     "output_type": "stream",
     "text": [
      "EVS is: 0.457282\n"
     ]
    }
   ],
   "source": [
    "print(\"EVS is: %f\" %explained_variance_score(y_train, ypred))"
   ]
  },
  {
   "cell_type": "code",
   "execution_count": 31,
   "id": "77020312",
   "metadata": {},
   "outputs": [],
   "source": [
    "ypred_test= LL_rf.predict(X_test)"
   ]
  },
  {
   "cell_type": "code",
   "execution_count": 21,
   "id": "f6158afb",
   "metadata": {},
   "outputs": [
    {
     "name": "stdout",
     "output_type": "stream",
     "text": [
      "Testinf set R2 is: 0.017915\n"
     ]
    }
   ],
   "source": [
    "print(\"Testinf set R2 is: %f\" %r2_score(y_test, ypred_test))"
   ]
  },
  {
   "cell_type": "code",
   "execution_count": 34,
   "id": "5ffde50c",
   "metadata": {},
   "outputs": [
    {
     "name": "stdout",
     "output_type": "stream",
     "text": [
      "MAE is: 48.624765\n",
      "MSE is: 15904.905290\n"
     ]
    }
   ],
   "source": [
    "print(\"MAE is: %f\" %mean_absolute_error(y_test, ypred_test))\n",
    "print(\"MSE is: %f\" %mean_squared_error(y_test, ypred_test))"
   ]
  },
  {
   "cell_type": "code",
   "execution_count": 37,
   "id": "34e2ee77",
   "metadata": {},
   "outputs": [
    {
     "name": "stdout",
     "output_type": "stream",
     "text": [
      "RMSE is: 126.114651\n",
      "EVS is: 0.030073\n"
     ]
    }
   ],
   "source": [
    "print(\"RMSE is: %f\" %np.sqrt(mean_squared_error(y_test, ypred_test)))\n",
    "print(\"EVS is: %f\" %explained_variance_score(y_test, ypred_test))"
   ]
  },
  {
   "cell_type": "code",
   "execution_count": 30,
   "id": "cd436087",
   "metadata": {},
   "outputs": [],
   "source": [
    "# cross validation"
   ]
  },
  {
   "cell_type": "code",
   "execution_count": 38,
   "id": "29985496",
   "metadata": {},
   "outputs": [],
   "source": [
    "test_score= cross_val_score(LL_rf, X_test, y_test, scoring='neg_mean_squared_error')"
   ]
  },
  {
   "cell_type": "code",
   "execution_count": 39,
   "id": "ab78e0af",
   "metadata": {},
   "outputs": [
    {
     "data": {
      "text/plain": [
       "16158.069708541685"
      ]
     },
     "execution_count": 39,
     "metadata": {},
     "output_type": "execute_result"
    }
   ],
   "source": [
    "np.mean(np.absolute(test_score))"
   ]
  },
  {
   "cell_type": "code",
   "execution_count": 35,
   "id": "276688bd",
   "metadata": {},
   "outputs": [],
   "source": [
    "#feature ranking"
   ]
  },
  {
   "cell_type": "code",
   "execution_count": 40,
   "id": "93dc1c83",
   "metadata": {},
   "outputs": [],
   "source": [
    "from sklearn.pipeline import Pipeline"
   ]
  },
  {
   "cell_type": "code",
   "execution_count": 41,
   "id": "d640b4e7",
   "metadata": {},
   "outputs": [],
   "source": [
    "feature_list=list(X.columns)"
   ]
  },
  {
   "cell_type": "code",
   "execution_count": 42,
   "id": "140bd360",
   "metadata": {},
   "outputs": [],
   "source": [
    "feature_importance = pd.Series(LL_rf.feature_importances_, index=feature_list).sort_values(ascending=False)"
   ]
  },
  {
   "cell_type": "code",
   "execution_count": 43,
   "id": "e64f6f7f",
   "metadata": {},
   "outputs": [
    {
     "name": "stdout",
     "output_type": "stream",
     "text": [
      "min_temp                   0.229069\n",
      "Cafe perc                  0.051780\n",
      "tramDensity                0.044261\n",
      "mxi                        0.042845\n",
      "House perc                 0.042815\n",
      "entropy                    0.042400\n",
      "hour_1                     0.041922\n",
      "hour_5                     0.040827\n",
      "hour_7                     0.037392\n",
      "hour_8                     0.036772\n",
      "busDensity                 0.035048\n",
      "hour_6                     0.034604\n",
      "hour_4                     0.030896\n",
      "hour_3                     0.029767\n",
      "hour_2                     0.024697\n",
      "date_1                     0.023384\n",
      "date_2                     0.022460\n",
      "above65 %                  0.021161\n",
      "rainfall_1                 0.019834\n",
      "rainfall_0                 0.019273\n",
      "Office perc                0.018971\n",
      "5-14 %                     0.017783\n",
      "female%                    0.017607\n",
      "Population density 2021    0.017124\n",
      "male%                      0.015549\n",
      "15-29 %                    0.009241\n",
      "Shops perc                 0.008610\n",
      "50-64 %                    0.008229\n",
      "40-49 %                    0.007229\n",
      "30-39 %                    0.006622\n",
      "recreationCount            0.000963\n",
      "trainDensity_1             0.000344\n",
      "trainDensity_0             0.000269\n",
      "campusCount                0.000252\n",
      "dtype: float64\n"
     ]
    }
   ],
   "source": [
    "print(feature_importance)"
   ]
  },
  {
   "cell_type": "code",
   "execution_count": null,
   "id": "909d71a8",
   "metadata": {},
   "outputs": [],
   "source": []
  }
 ],
 "metadata": {
  "kernelspec": {
   "display_name": "Python 3 (ipykernel)",
   "language": "python",
   "name": "python3"
  },
  "language_info": {
   "codemirror_mode": {
    "name": "ipython",
    "version": 3
   },
   "file_extension": ".py",
   "mimetype": "text/x-python",
   "name": "python",
   "nbconvert_exporter": "python",
   "pygments_lexer": "ipython3",
   "version": "3.7.13"
  }
 },
 "nbformat": 4,
 "nbformat_minor": 5
}
