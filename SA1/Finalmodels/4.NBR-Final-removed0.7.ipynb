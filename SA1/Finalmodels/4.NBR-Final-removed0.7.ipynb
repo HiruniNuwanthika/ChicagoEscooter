{
 "cells": [
  {
   "cell_type": "code",
   "execution_count": 1,
   "id": "20381fbf",
   "metadata": {},
   "outputs": [],
   "source": [
    "import pandas as pd\n",
    "import numpy as np\n",
    "\n",
    "from patsy import dmatrices\n",
    "\n",
    "import matplotlib.pyplot as plt\n",
    "import seaborn as sns\n",
    "\n",
    "from sklearn.preprocessing import StandardScaler\n",
    "from sklearn.model_selection import train_test_split\n",
    "from sklearn.model_selection import cross_val_score\n",
    "\n",
    "import statsmodels.api as sm\n",
    "from statsmodels.formula.api import glm\n",
    "\n",
    "from sklearn.metrics import mean_absolute_error,mean_squared_error, accuracy_score,f1_score\n",
    "from sklearn.metrics import f1_score\n",
    "from sklearn.model_selection import KFold"
   ]
  },
  {
   "cell_type": "code",
   "execution_count": 2,
   "id": "53629d9b",
   "metadata": {},
   "outputs": [],
   "source": [
    "df=pd.read_csv(r'C:\\Melbourne_Escooter\\RealDataset\\FinalResults\\SA1\\Features-trips\\Final\\final version\\AllFeatures-original2.csv')"
   ]
  },
  {
   "cell_type": "code",
   "execution_count": 3,
   "id": "3a47151f",
   "metadata": {},
   "outputs": [
    {
     "data": {
      "text/plain": [
       "SA1_CODE21                     0\n",
       "tripDensity                    0\n",
       "date                           0\n",
       "hour                           0\n",
       "trainDensity                   0\n",
       "busDensity                     0\n",
       "tramDensity                    0\n",
       "House perc                     0\n",
       "Cafe perc                      0\n",
       "Office perc                    0\n",
       "Shops perc                     0\n",
       "entropy                        0\n",
       "mxi                            0\n",
       "recreationCount                0\n",
       "campusCount                    0\n",
       "5-14 %                       168\n",
       "15-29 %                      168\n",
       "30-39 %                      168\n",
       "40-49 %                      168\n",
       "50-64 %                      168\n",
       "above65 %                    168\n",
       "female%                        0\n",
       "male%                          0\n",
       "Population density 2021        0\n",
       "car owner %                    0\n",
       "no_childern Sa1                0\n",
       "with u 15 children sa1         0\n",
       "with no u 15 children sa1      0\n",
       "rainfall                       0\n",
       "min_temp                       0\n",
       "dtype: int64"
      ]
     },
     "execution_count": 3,
     "metadata": {},
     "output_type": "execute_result"
    }
   ],
   "source": [
    "df.isna().sum()"
   ]
  },
  {
   "cell_type": "code",
   "execution_count": 4,
   "id": "0670b12a",
   "metadata": {},
   "outputs": [],
   "source": [
    "df.fillna(0, inplace=True)\n"
   ]
  },
  {
   "cell_type": "markdown",
   "id": "60d18040",
   "metadata": {},
   "source": [
    "convert trip density to int coz NBR is run on whole numbers"
   ]
  },
  {
   "cell_type": "code",
   "execution_count": 5,
   "id": "17b5d289",
   "metadata": {},
   "outputs": [
    {
     "name": "stdout",
     "output_type": "stream",
     "text": [
      "<class 'pandas.core.frame.DataFrame'>\n",
      "RangeIndex: 56784 entries, 0 to 56783\n",
      "Data columns (total 30 columns):\n",
      " #   Column                     Non-Null Count  Dtype  \n",
      "---  ------                     --------------  -----  \n",
      " 0   SA1_CODE21                 56784 non-null  int64  \n",
      " 1   tripDensity                56784 non-null  int64  \n",
      " 2   date                       56784 non-null  int64  \n",
      " 3   hour                       56784 non-null  int64  \n",
      " 4   trainDensity               56784 non-null  float64\n",
      " 5   busDensity                 56784 non-null  float64\n",
      " 6   tramDensity                56784 non-null  float64\n",
      " 7   House perc                 56784 non-null  float64\n",
      " 8   Cafe perc                  56784 non-null  float64\n",
      " 9   Office perc                56784 non-null  float64\n",
      " 10  Shops perc                 56784 non-null  float64\n",
      " 11  entropy                    56784 non-null  float64\n",
      " 12  mxi                        56784 non-null  float64\n",
      " 13  recreationCount            56784 non-null  int64  \n",
      " 14  campusCount                56784 non-null  int64  \n",
      " 15  5-14 %                     56784 non-null  float64\n",
      " 16  15-29 %                    56784 non-null  float64\n",
      " 17  30-39 %                    56784 non-null  float64\n",
      " 18  40-49 %                    56784 non-null  float64\n",
      " 19  50-64 %                    56784 non-null  float64\n",
      " 20  above65 %                  56784 non-null  float64\n",
      " 21  female%                    56784 non-null  float64\n",
      " 22  male%                      56784 non-null  float64\n",
      " 23  Population density 2021    56784 non-null  float64\n",
      " 24  car owner %                56784 non-null  float64\n",
      " 25  no_childern Sa1            56784 non-null  float64\n",
      " 26  with u 15 children sa1     56784 non-null  float64\n",
      " 27  with no u 15 children sa1  56784 non-null  float64\n",
      " 28  rainfall                   56784 non-null  int64  \n",
      " 29  min_temp                   56784 non-null  float64\n",
      "dtypes: float64(23), int64(7)\n",
      "memory usage: 13.0 MB\n"
     ]
    }
   ],
   "source": [
    "df.info()"
   ]
  },
  {
   "cell_type": "code",
   "execution_count": 6,
   "id": "7678498a",
   "metadata": {
    "scrolled": true
   },
   "outputs": [
    {
     "data": {
      "text/html": [
       "<div>\n",
       "<style scoped>\n",
       "    .dataframe tbody tr th:only-of-type {\n",
       "        vertical-align: middle;\n",
       "    }\n",
       "\n",
       "    .dataframe tbody tr th {\n",
       "        vertical-align: top;\n",
       "    }\n",
       "\n",
       "    .dataframe thead th {\n",
       "        text-align: right;\n",
       "    }\n",
       "</style>\n",
       "<table border=\"1\" class=\"dataframe\">\n",
       "  <thead>\n",
       "    <tr style=\"text-align: right;\">\n",
       "      <th></th>\n",
       "      <th>SA1_CODE21</th>\n",
       "      <th>date</th>\n",
       "      <th>hour</th>\n",
       "      <th>trainDensity</th>\n",
       "      <th>busDensity</th>\n",
       "      <th>tramDensity</th>\n",
       "      <th>Cafe perc</th>\n",
       "      <th>Office perc</th>\n",
       "      <th>Shops perc</th>\n",
       "      <th>mxi</th>\n",
       "      <th>recreationCount</th>\n",
       "      <th>campusCount</th>\n",
       "      <th>5-14 %</th>\n",
       "      <th>30-39 %</th>\n",
       "      <th>40-49 %</th>\n",
       "      <th>50-64 %</th>\n",
       "      <th>Population density 2021</th>\n",
       "      <th>rainfall</th>\n",
       "      <th>min_temp</th>\n",
       "    </tr>\n",
       "  </thead>\n",
       "  <tbody>\n",
       "    <tr>\n",
       "      <th>0</th>\n",
       "      <td>20604111702</td>\n",
       "      <td>1</td>\n",
       "      <td>0</td>\n",
       "      <td>0.0</td>\n",
       "      <td>38.684720</td>\n",
       "      <td>19.34236</td>\n",
       "      <td>0.576336</td>\n",
       "      <td>0.022901</td>\n",
       "      <td>0.030534</td>\n",
       "      <td>12.977099</td>\n",
       "      <td>0</td>\n",
       "      <td>0</td>\n",
       "      <td>3.536138</td>\n",
       "      <td>19.330746</td>\n",
       "      <td>7.422579</td>\n",
       "      <td>8.152377</td>\n",
       "      <td>9456.2</td>\n",
       "      <td>0</td>\n",
       "      <td>7.4</td>\n",
       "    </tr>\n",
       "    <tr>\n",
       "      <th>1</th>\n",
       "      <td>20604111702</td>\n",
       "      <td>1</td>\n",
       "      <td>1</td>\n",
       "      <td>0.0</td>\n",
       "      <td>38.684720</td>\n",
       "      <td>19.34236</td>\n",
       "      <td>0.576336</td>\n",
       "      <td>0.022901</td>\n",
       "      <td>0.030534</td>\n",
       "      <td>12.977099</td>\n",
       "      <td>0</td>\n",
       "      <td>0</td>\n",
       "      <td>3.536138</td>\n",
       "      <td>19.330746</td>\n",
       "      <td>7.422579</td>\n",
       "      <td>8.152377</td>\n",
       "      <td>9456.2</td>\n",
       "      <td>0</td>\n",
       "      <td>7.4</td>\n",
       "    </tr>\n",
       "    <tr>\n",
       "      <th>2</th>\n",
       "      <td>20604111702</td>\n",
       "      <td>1</td>\n",
       "      <td>2</td>\n",
       "      <td>0.0</td>\n",
       "      <td>38.684720</td>\n",
       "      <td>19.34236</td>\n",
       "      <td>0.576336</td>\n",
       "      <td>0.022901</td>\n",
       "      <td>0.030534</td>\n",
       "      <td>12.977099</td>\n",
       "      <td>0</td>\n",
       "      <td>0</td>\n",
       "      <td>3.536138</td>\n",
       "      <td>19.330746</td>\n",
       "      <td>7.422579</td>\n",
       "      <td>8.152377</td>\n",
       "      <td>9456.2</td>\n",
       "      <td>0</td>\n",
       "      <td>7.4</td>\n",
       "    </tr>\n",
       "    <tr>\n",
       "      <th>3</th>\n",
       "      <td>20604111702</td>\n",
       "      <td>1</td>\n",
       "      <td>3</td>\n",
       "      <td>0.0</td>\n",
       "      <td>38.684720</td>\n",
       "      <td>19.34236</td>\n",
       "      <td>0.576336</td>\n",
       "      <td>0.022901</td>\n",
       "      <td>0.030534</td>\n",
       "      <td>12.977099</td>\n",
       "      <td>0</td>\n",
       "      <td>0</td>\n",
       "      <td>3.536138</td>\n",
       "      <td>19.330746</td>\n",
       "      <td>7.422579</td>\n",
       "      <td>8.152377</td>\n",
       "      <td>9456.2</td>\n",
       "      <td>0</td>\n",
       "      <td>7.4</td>\n",
       "    </tr>\n",
       "    <tr>\n",
       "      <th>4</th>\n",
       "      <td>20604111702</td>\n",
       "      <td>1</td>\n",
       "      <td>4</td>\n",
       "      <td>0.0</td>\n",
       "      <td>38.684720</td>\n",
       "      <td>19.34236</td>\n",
       "      <td>0.576336</td>\n",
       "      <td>0.022901</td>\n",
       "      <td>0.030534</td>\n",
       "      <td>12.977099</td>\n",
       "      <td>0</td>\n",
       "      <td>0</td>\n",
       "      <td>3.536138</td>\n",
       "      <td>19.330746</td>\n",
       "      <td>7.422579</td>\n",
       "      <td>8.152377</td>\n",
       "      <td>9456.2</td>\n",
       "      <td>0</td>\n",
       "      <td>7.4</td>\n",
       "    </tr>\n",
       "    <tr>\n",
       "      <th>...</th>\n",
       "      <td>...</td>\n",
       "      <td>...</td>\n",
       "      <td>...</td>\n",
       "      <td>...</td>\n",
       "      <td>...</td>\n",
       "      <td>...</td>\n",
       "      <td>...</td>\n",
       "      <td>...</td>\n",
       "      <td>...</td>\n",
       "      <td>...</td>\n",
       "      <td>...</td>\n",
       "      <td>...</td>\n",
       "      <td>...</td>\n",
       "      <td>...</td>\n",
       "      <td>...</td>\n",
       "      <td>...</td>\n",
       "      <td>...</td>\n",
       "      <td>...</td>\n",
       "      <td>...</td>\n",
       "    </tr>\n",
       "    <tr>\n",
       "      <th>56779</th>\n",
       "      <td>20604151016</td>\n",
       "      <td>7</td>\n",
       "      <td>19</td>\n",
       "      <td>0.0</td>\n",
       "      <td>46.728972</td>\n",
       "      <td>0.00000</td>\n",
       "      <td>0.803571</td>\n",
       "      <td>0.071429</td>\n",
       "      <td>0.035714</td>\n",
       "      <td>41.071429</td>\n",
       "      <td>0</td>\n",
       "      <td>0</td>\n",
       "      <td>1.813717</td>\n",
       "      <td>34.053583</td>\n",
       "      <td>13.562667</td>\n",
       "      <td>0.000000</td>\n",
       "      <td>9238.5</td>\n",
       "      <td>1</td>\n",
       "      <td>8.0</td>\n",
       "    </tr>\n",
       "    <tr>\n",
       "      <th>56780</th>\n",
       "      <td>20604151016</td>\n",
       "      <td>7</td>\n",
       "      <td>20</td>\n",
       "      <td>0.0</td>\n",
       "      <td>46.728972</td>\n",
       "      <td>0.00000</td>\n",
       "      <td>0.803571</td>\n",
       "      <td>0.071429</td>\n",
       "      <td>0.035714</td>\n",
       "      <td>41.071429</td>\n",
       "      <td>0</td>\n",
       "      <td>0</td>\n",
       "      <td>1.813717</td>\n",
       "      <td>34.053583</td>\n",
       "      <td>13.562667</td>\n",
       "      <td>0.000000</td>\n",
       "      <td>9238.5</td>\n",
       "      <td>1</td>\n",
       "      <td>8.0</td>\n",
       "    </tr>\n",
       "    <tr>\n",
       "      <th>56781</th>\n",
       "      <td>20604151016</td>\n",
       "      <td>7</td>\n",
       "      <td>21</td>\n",
       "      <td>0.0</td>\n",
       "      <td>46.728972</td>\n",
       "      <td>0.00000</td>\n",
       "      <td>0.803571</td>\n",
       "      <td>0.071429</td>\n",
       "      <td>0.035714</td>\n",
       "      <td>41.071429</td>\n",
       "      <td>0</td>\n",
       "      <td>0</td>\n",
       "      <td>1.813717</td>\n",
       "      <td>34.053583</td>\n",
       "      <td>13.562667</td>\n",
       "      <td>0.000000</td>\n",
       "      <td>9238.5</td>\n",
       "      <td>1</td>\n",
       "      <td>8.0</td>\n",
       "    </tr>\n",
       "    <tr>\n",
       "      <th>56782</th>\n",
       "      <td>20604151016</td>\n",
       "      <td>7</td>\n",
       "      <td>22</td>\n",
       "      <td>0.0</td>\n",
       "      <td>46.728972</td>\n",
       "      <td>0.00000</td>\n",
       "      <td>0.803571</td>\n",
       "      <td>0.071429</td>\n",
       "      <td>0.035714</td>\n",
       "      <td>41.071429</td>\n",
       "      <td>0</td>\n",
       "      <td>0</td>\n",
       "      <td>1.813717</td>\n",
       "      <td>34.053583</td>\n",
       "      <td>13.562667</td>\n",
       "      <td>0.000000</td>\n",
       "      <td>9238.5</td>\n",
       "      <td>1</td>\n",
       "      <td>8.0</td>\n",
       "    </tr>\n",
       "    <tr>\n",
       "      <th>56783</th>\n",
       "      <td>20604151016</td>\n",
       "      <td>7</td>\n",
       "      <td>23</td>\n",
       "      <td>0.0</td>\n",
       "      <td>46.728972</td>\n",
       "      <td>0.00000</td>\n",
       "      <td>0.803571</td>\n",
       "      <td>0.071429</td>\n",
       "      <td>0.035714</td>\n",
       "      <td>41.071429</td>\n",
       "      <td>0</td>\n",
       "      <td>0</td>\n",
       "      <td>1.813717</td>\n",
       "      <td>34.053583</td>\n",
       "      <td>13.562667</td>\n",
       "      <td>0.000000</td>\n",
       "      <td>9238.5</td>\n",
       "      <td>1</td>\n",
       "      <td>8.0</td>\n",
       "    </tr>\n",
       "  </tbody>\n",
       "</table>\n",
       "<p>56784 rows × 19 columns</p>\n",
       "</div>"
      ],
      "text/plain": [
       "        SA1_CODE21  date  hour  trainDensity  busDensity  tramDensity  \\\n",
       "0      20604111702     1     0           0.0   38.684720     19.34236   \n",
       "1      20604111702     1     1           0.0   38.684720     19.34236   \n",
       "2      20604111702     1     2           0.0   38.684720     19.34236   \n",
       "3      20604111702     1     3           0.0   38.684720     19.34236   \n",
       "4      20604111702     1     4           0.0   38.684720     19.34236   \n",
       "...            ...   ...   ...           ...         ...          ...   \n",
       "56779  20604151016     7    19           0.0   46.728972      0.00000   \n",
       "56780  20604151016     7    20           0.0   46.728972      0.00000   \n",
       "56781  20604151016     7    21           0.0   46.728972      0.00000   \n",
       "56782  20604151016     7    22           0.0   46.728972      0.00000   \n",
       "56783  20604151016     7    23           0.0   46.728972      0.00000   \n",
       "\n",
       "       Cafe perc  Office perc  Shops perc        mxi  recreationCount  \\\n",
       "0       0.576336     0.022901    0.030534  12.977099                0   \n",
       "1       0.576336     0.022901    0.030534  12.977099                0   \n",
       "2       0.576336     0.022901    0.030534  12.977099                0   \n",
       "3       0.576336     0.022901    0.030534  12.977099                0   \n",
       "4       0.576336     0.022901    0.030534  12.977099                0   \n",
       "...          ...          ...         ...        ...              ...   \n",
       "56779   0.803571     0.071429    0.035714  41.071429                0   \n",
       "56780   0.803571     0.071429    0.035714  41.071429                0   \n",
       "56781   0.803571     0.071429    0.035714  41.071429                0   \n",
       "56782   0.803571     0.071429    0.035714  41.071429                0   \n",
       "56783   0.803571     0.071429    0.035714  41.071429                0   \n",
       "\n",
       "       campusCount    5-14 %    30-39 %    40-49 %   50-64 %  \\\n",
       "0                0  3.536138  19.330746   7.422579  8.152377   \n",
       "1                0  3.536138  19.330746   7.422579  8.152377   \n",
       "2                0  3.536138  19.330746   7.422579  8.152377   \n",
       "3                0  3.536138  19.330746   7.422579  8.152377   \n",
       "4                0  3.536138  19.330746   7.422579  8.152377   \n",
       "...            ...       ...        ...        ...       ...   \n",
       "56779            0  1.813717  34.053583  13.562667  0.000000   \n",
       "56780            0  1.813717  34.053583  13.562667  0.000000   \n",
       "56781            0  1.813717  34.053583  13.562667  0.000000   \n",
       "56782            0  1.813717  34.053583  13.562667  0.000000   \n",
       "56783            0  1.813717  34.053583  13.562667  0.000000   \n",
       "\n",
       "       Population density 2021  rainfall  min_temp  \n",
       "0                       9456.2         0       7.4  \n",
       "1                       9456.2         0       7.4  \n",
       "2                       9456.2         0       7.4  \n",
       "3                       9456.2         0       7.4  \n",
       "4                       9456.2         0       7.4  \n",
       "...                        ...       ...       ...  \n",
       "56779                   9238.5         1       8.0  \n",
       "56780                   9238.5         1       8.0  \n",
       "56781                   9238.5         1       8.0  \n",
       "56782                   9238.5         1       8.0  \n",
       "56783                   9238.5         1       8.0  \n",
       "\n",
       "[56784 rows x 19 columns]"
      ]
     },
     "execution_count": 6,
     "metadata": {},
     "output_type": "execute_result"
    }
   ],
   "source": [
    "column=['tripDensity','House perc','entropy','15-29 %','above65 %','female%','car owner %','male%','with no u 15 children sa1','with u 15 children sa1','no_childern Sa1']\n",
    "df_depe=df.drop(column, axis=1)\n",
    "df_depe"
   ]
  },
  {
   "cell_type": "code",
   "execution_count": 7,
   "id": "c54318e1",
   "metadata": {},
   "outputs": [],
   "source": [
    "df_depe=df_depe.drop(['SA1_CODE21'], axis=1)"
   ]
  },
  {
   "cell_type": "code",
   "execution_count": 8,
   "id": "7bb4ee86",
   "metadata": {},
   "outputs": [],
   "source": [
    "#df_depe=df_depe.drop(['female%'], axis=1)"
   ]
  },
  {
   "cell_type": "code",
   "execution_count": null,
   "id": "bbfb1375",
   "metadata": {},
   "outputs": [],
   "source": []
  },
  {
   "cell_type": "code",
   "execution_count": 9,
   "id": "2ae94d76",
   "metadata": {},
   "outputs": [],
   "source": [
    "df_depe[\"hour\"].replace({0:1,1:1,2:1,3:2,4:2,5:2,6:3,7:3,8:3,9:4,10:4,11:4,12:5,13:5,14:5,15:6,16:6,17:6,18:7,19:7,20:7,21:8,22:8,23:8}, inplace=True)"
   ]
  },
  {
   "cell_type": "code",
   "execution_count": 10,
   "id": "d493f50d",
   "metadata": {},
   "outputs": [],
   "source": [
    "df_depe[\"date\"].replace({1:1, 2: 1, 3: 1,4: 1,5: 1,6: 2,7: 2}, inplace=True)"
   ]
  },
  {
   "cell_type": "code",
   "execution_count": 11,
   "id": "313d4ec2",
   "metadata": {},
   "outputs": [],
   "source": [
    "df_depe['trainDensity'] = df['trainDensity'].map(lambda x: 1 if x>0 else 0)"
   ]
  },
  {
   "cell_type": "code",
   "execution_count": 12,
   "id": "dcec598d",
   "metadata": {},
   "outputs": [],
   "source": [
    "categorical =['hour','date','rainfall','trainDensity']\n",
    "for col in categorical:\n",
    "    df_depe[col]=df_depe[col].astype('category')\n",
    "#df_depe['rainfall']=df_depe['rainfall'].astype('category')"
   ]
  },
  {
   "cell_type": "code",
   "execution_count": 13,
   "id": "7a6ce557",
   "metadata": {},
   "outputs": [],
   "source": [
    "#df=pd.get_dummies(df, drop_first=True )\n",
    "df_depe=pd.get_dummies(df_depe, drop_first=True)"
   ]
  },
  {
   "cell_type": "code",
   "execution_count": 14,
   "id": "badcdaeb",
   "metadata": {},
   "outputs": [
    {
     "data": {
      "text/plain": [
       "Index(['busDensity', 'tramDensity', 'Cafe perc', 'Office perc', 'Shops perc',\n",
       "       'mxi', 'recreationCount', 'campusCount', '5-14 %', '30-39 %', '40-49 %',\n",
       "       '50-64 %', 'Population density 2021', 'min_temp', 'date_2', 'hour_2',\n",
       "       'hour_3', 'hour_4', 'hour_5', 'hour_6', 'hour_7', 'hour_8',\n",
       "       'trainDensity_1', 'rainfall_1'],\n",
       "      dtype='object')"
      ]
     },
     "execution_count": 14,
     "metadata": {},
     "output_type": "execute_result"
    }
   ],
   "source": [
    "df_depe.columns\n"
   ]
  },
  {
   "cell_type": "code",
   "execution_count": 15,
   "id": "fb10cee9",
   "metadata": {},
   "outputs": [],
   "source": [
    "scale= StandardScaler()"
   ]
  },
  {
   "cell_type": "code",
   "execution_count": 16,
   "id": "b8cd4c7a",
   "metadata": {},
   "outputs": [],
   "source": [
    "df_sc= scale.fit_transform(df_depe)\n",
    "df_sc=pd.DataFrame(df_sc, columns=df_depe.columns)"
   ]
  },
  {
   "cell_type": "code",
   "execution_count": 17,
   "id": "75f71bca",
   "metadata": {},
   "outputs": [],
   "source": [
    "y=df['tripDensity']\n",
    "X=df_sc"
   ]
  },
  {
   "cell_type": "code",
   "execution_count": 18,
   "id": "24983660",
   "metadata": {},
   "outputs": [],
   "source": [
    "X_train, X_test, y_train, y_test = train_test_split(X, y, test_size=0.2,random_state=24)"
   ]
  },
  {
   "cell_type": "code",
   "execution_count": 19,
   "id": "1ec427a1",
   "metadata": {},
   "outputs": [],
   "source": [
    "NB=sm.GLM(y_train,X_train, family=sm.families.NegativeBinomial(alpha=0.981766))"
   ]
  },
  {
   "cell_type": "code",
   "execution_count": 20,
   "id": "9d612312",
   "metadata": {},
   "outputs": [
    {
     "name": "stderr",
     "output_type": "stream",
     "text": [
      "C:\\ProgramData\\Anaconda3\\lib\\site-packages\\statsmodels\\base\\model.py:127: ValueWarning: unknown kwargs ['loglike_method']\n",
      "  warnings.warn(msg, ValueWarning)\n"
     ]
    }
   ],
   "source": [
    "nb_training_results=sm.GLM(y_train,X_train, loglike_method='geometric',family=sm.families.NegativeBinomial(alpha=0.981766)).fit(method='bfgs')"
   ]
  },
  {
   "cell_type": "code",
   "execution_count": 21,
   "id": "d65da1f6",
   "metadata": {},
   "outputs": [
    {
     "name": "stdout",
     "output_type": "stream",
     "text": [
      "                 Generalized Linear Model Regression Results                  \n",
      "==============================================================================\n",
      "Dep. Variable:            tripDensity   No. Observations:                45427\n",
      "Model:                            GLM   Df Residuals:                    45403\n",
      "Model Family:        NegativeBinomial   Df Model:                           23\n",
      "Link Function:                    Log   Scale:                          1.0000\n",
      "Method:                          bfgs   Log-Likelihood:            -7.2780e+05\n",
      "Date:                Sat, 24 Sep 2022   Deviance:                   1.2862e+06\n",
      "Time:                        13:12:24   Pearson chi2:                 1.71e+10\n",
      "No. Iterations:                     0   Pseudo R-squ. (CS):         -5.664e+09\n",
      "Covariance Type:            nonrobust                                         \n",
      "===========================================================================================\n",
      "                              coef    std err          z      P>|z|      [0.025      0.975]\n",
      "-------------------------------------------------------------------------------------------\n",
      "busDensity                 -0.2216      0.002   -101.717      0.000      -0.226      -0.217\n",
      "tramDensity                 0.3405      0.003    132.435      0.000       0.335       0.346\n",
      "Cafe perc                   0.3194      0.002    143.857      0.000       0.315       0.324\n",
      "Office perc                 0.0152      0.002      9.331      0.000       0.012       0.018\n",
      "Shops perc                  0.1900      0.002     97.991      0.000       0.186       0.194\n",
      "mxi                         0.2580      0.003     88.288      0.000       0.252       0.264\n",
      "recreationCount            -0.7766      0.006   -139.132      0.000      -0.788      -0.766\n",
      "campusCount                -0.2348      0.002   -101.155      0.000      -0.239      -0.230\n",
      "5-14 %                     -0.5026      0.004   -127.289      0.000      -0.510      -0.495\n",
      "30-39 %                     1.0060      0.004    273.994      0.000       0.999       1.013\n",
      "40-49 %                    -1.0151      0.005   -190.467      0.000      -1.026      -1.005\n",
      "50-64 %                    -0.1470      0.004    -40.030      0.000      -0.154      -0.140\n",
      "Population density 2021     0.3112      0.004     86.127      0.000       0.304       0.318\n",
      "min_temp                    0.1813      0.003     61.853      0.000       0.176       0.187\n",
      "date_2                      0.5159      0.003    161.920      0.000       0.510       0.522\n",
      "hour_2                     -0.5031      0.003   -167.322      0.000      -0.509      -0.497\n",
      "hour_3                     -0.1098      0.003    -37.640      0.000      -0.116      -0.104\n",
      "hour_4                      0.0413      0.003     14.727      0.000       0.036       0.047\n",
      "hour_5                      0.1783      0.003     64.613      0.000       0.173       0.184\n",
      "hour_6                      0.3306      0.003    120.778      0.000       0.325       0.336\n",
      "hour_7                      0.2886      0.003    105.990      0.000       0.283       0.294\n",
      "hour_8                      0.2592      0.003     96.983      0.000       0.254       0.264\n",
      "trainDensity_1             -0.2420      0.002    -97.160      0.000      -0.247      -0.237\n",
      "rainfall_1                 -0.1889      0.003    -74.937      0.000      -0.194      -0.184\n",
      "===========================================================================================\n"
     ]
    }
   ],
   "source": [
    "print(nb_training_results.summary())"
   ]
  },
  {
   "cell_type": "code",
   "execution_count": 22,
   "id": "c7387aff",
   "metadata": {
    "scrolled": true
   },
   "outputs": [],
   "source": [
    "#nb_prediction_train=nb_training_results.get_prediction(X_train)\n",
    "#nb_summary_frame_train=nb_prediction_train.summary_frame()\n",
    "#print(nb_summary_frame_train)"
   ]
  },
  {
   "cell_type": "code",
   "execution_count": 23,
   "id": "859cdbed",
   "metadata": {},
   "outputs": [],
   "source": [
    "#predicted_train_count=nb_summary_frame_train['mean']\n",
    "#predicted_train_count"
   ]
  },
  {
   "cell_type": "code",
   "execution_count": 24,
   "id": "706fea5f",
   "metadata": {},
   "outputs": [
    {
     "name": "stdout",
     "output_type": "stream",
     "text": [
      "            mean   mean_se  mean_ci_lower  mean_ci_upper\n",
      "10411   0.031325  0.000381       0.030588       0.032080\n",
      "43393   0.448104  0.005433       0.437580       0.458881\n",
      "3391    0.161456  0.001618       0.158316       0.164659\n",
      "23737   3.473294  0.029701       3.415567       3.531997\n",
      "43043   0.062157  0.000717       0.060767       0.063579\n",
      "...          ...       ...            ...            ...\n",
      "22295   0.104062  0.001035       0.102053       0.106111\n",
      "46469   0.041647  0.000443       0.040787       0.042525\n",
      "12137   3.263089  0.023622       3.217117       3.309717\n",
      "45108  15.279401  0.143479      15.000759      15.563218\n",
      "27044   1.139938  0.011778       1.117087       1.163257\n",
      "\n",
      "[11357 rows x 4 columns]\n"
     ]
    }
   ],
   "source": [
    "nb_prediction_test=nb_training_results.get_prediction(X_test)\n",
    "nb_summary_frame_test=nb_prediction_test.summary_frame()\n",
    "print(nb_summary_frame_test)"
   ]
  },
  {
   "cell_type": "code",
   "execution_count": 25,
   "id": "6b662d4a",
   "metadata": {},
   "outputs": [
    {
     "data": {
      "text/plain": [
       "10411     0.031325\n",
       "43393     0.448104\n",
       "3391      0.161456\n",
       "23737     3.473294\n",
       "43043     0.062157\n",
       "           ...    \n",
       "22295     0.104062\n",
       "46469     0.041647\n",
       "12137     3.263089\n",
       "45108    15.279401\n",
       "27044     1.139938\n",
       "Name: mean, Length: 11357, dtype: float64"
      ]
     },
     "execution_count": 25,
     "metadata": {},
     "output_type": "execute_result"
    }
   ],
   "source": [
    "predicted_test_count=nb_summary_frame_test['mean']\n",
    "predicted_test_count"
   ]
  },
  {
   "cell_type": "code",
   "execution_count": 26,
   "id": "c4881c71",
   "metadata": {},
   "outputs": [
    {
     "name": "stdout",
     "output_type": "stream",
     "text": [
      "MAE 43.904925\n"
     ]
    }
   ],
   "source": [
    "print(\"MAE %f\" %mean_absolute_error(y_test, predicted_test_count))"
   ]
  },
  {
   "cell_type": "code",
   "execution_count": 27,
   "id": "70a74495",
   "metadata": {},
   "outputs": [
    {
     "name": "stdout",
     "output_type": "stream",
     "text": [
      "MSE  21687.023912\n"
     ]
    }
   ],
   "source": [
    "print(\"MSE  %f\" %mean_squared_error(y_test, predicted_test_count))"
   ]
  },
  {
   "cell_type": "code",
   "execution_count": 28,
   "id": "92f7c87e",
   "metadata": {},
   "outputs": [
    {
     "name": "stdout",
     "output_type": "stream",
     "text": [
      "RMSE  147.265148\n"
     ]
    }
   ],
   "source": [
    "import numpy as np\n",
    "print(\"RMSE  %f\" %np.sqrt(mean_squared_error(y_test, predicted_test_count)))"
   ]
  },
  {
   "cell_type": "code",
   "execution_count": 29,
   "id": "848fda97",
   "metadata": {},
   "outputs": [],
   "source": [
    "# cross validation"
   ]
  },
  {
   "cell_type": "code",
   "execution_count": 30,
   "id": "138de970",
   "metadata": {},
   "outputs": [],
   "source": [
    "y=df['tripDensity']\n",
    "X=df_sc"
   ]
  },
  {
   "cell_type": "code",
   "execution_count": 31,
   "id": "b05b7daf",
   "metadata": {},
   "outputs": [],
   "source": [
    "data=pd.concat([y,X],axis=1)"
   ]
  },
  {
   "cell_type": "code",
   "execution_count": 32,
   "id": "dfaf0deb",
   "metadata": {},
   "outputs": [],
   "source": [
    "y=data['tripDensity'].values\n",
    "X=data.drop(['tripDensity'], axis=1).values"
   ]
  },
  {
   "cell_type": "code",
   "execution_count": 33,
   "id": "f5b295c4",
   "metadata": {},
   "outputs": [],
   "source": [
    "preds, scores = [], []"
   ]
  },
  {
   "cell_type": "code",
   "execution_count": 34,
   "id": "955a7d33",
   "metadata": {},
   "outputs": [],
   "source": [
    "kfold = KFold(n_splits=5, shuffle=True, random_state=1)"
   ]
  },
  {
   "cell_type": "code",
   "execution_count": null,
   "id": "47e8373d",
   "metadata": {},
   "outputs": [],
   "source": []
  }
 ],
 "metadata": {
  "kernelspec": {
   "display_name": "Python 3 (ipykernel)",
   "language": "python",
   "name": "python3"
  },
  "language_info": {
   "codemirror_mode": {
    "name": "ipython",
    "version": 3
   },
   "file_extension": ".py",
   "mimetype": "text/x-python",
   "name": "python",
   "nbconvert_exporter": "python",
   "pygments_lexer": "ipython3",
   "version": "3.7.13"
  }
 },
 "nbformat": 4,
 "nbformat_minor": 5
}
