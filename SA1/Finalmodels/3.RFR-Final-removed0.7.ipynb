{
 "cells": [
  {
   "cell_type": "code",
   "execution_count": 1,
   "id": "fd557502",
   "metadata": {},
   "outputs": [],
   "source": [
    "from sklearn.ensemble import RandomForestRegressor\n",
    "from sklearn.datasets import load_boston\n",
    "from sklearn.datasets import make_regression\n",
    "\n",
    "from sklearn.preprocessing import scale\n",
    "from sklearn.model_selection import train_test_split\n",
    "from sklearn.model_selection import cross_val_score\n",
    "\n",
    "import matplotlib.pyplot as plt\n",
    "from sklearn import set_config \n",
    "import pandas as pd"
   ]
  },
  {
   "cell_type": "code",
   "execution_count": 40,
   "id": "04a5d687",
   "metadata": {},
   "outputs": [],
   "source": [
    "df=pd.read_csv(r'C:\\Melbourne_Escooter\\RealDataset\\FinalResults\\SA1\\Features-trips\\Final\\final version\\AllFeatures-original2.csv')"
   ]
  },
  {
   "cell_type": "code",
   "execution_count": 41,
   "id": "94f4e296",
   "metadata": {},
   "outputs": [],
   "source": [
    "df.fillna(0, inplace=True)\n"
   ]
  },
  {
   "cell_type": "code",
   "execution_count": 42,
   "id": "6689527a",
   "metadata": {},
   "outputs": [],
   "source": [
    "df=df.drop(['SA1_CODE21'], axis=1)"
   ]
  },
  {
   "cell_type": "code",
   "execution_count": 43,
   "id": "16f88263",
   "metadata": {},
   "outputs": [
    {
     "data": {
      "text/plain": [
       "tripDensity                  0\n",
       "date                         0\n",
       "hour                         0\n",
       "trainDensity                 0\n",
       "busDensity                   0\n",
       "tramDensity                  0\n",
       "House perc                   0\n",
       "Cafe perc                    0\n",
       "Office perc                  0\n",
       "Shops perc                   0\n",
       "entropy                      0\n",
       "mxi                          0\n",
       "recreationCount              0\n",
       "campusCount                  0\n",
       "5-14 %                       0\n",
       "15-29 %                      0\n",
       "30-39 %                      0\n",
       "40-49 %                      0\n",
       "50-64 %                      0\n",
       "above65 %                    0\n",
       "female%                      0\n",
       "male%                        0\n",
       "Population density 2021      0\n",
       "car owner %                  0\n",
       "no_childern Sa1              0\n",
       "with u 15 children sa1       0\n",
       "with no u 15 children sa1    0\n",
       "rainfall                     0\n",
       "min_temp                     0\n",
       "dtype: int64"
      ]
     },
     "execution_count": 43,
     "metadata": {},
     "output_type": "execute_result"
    }
   ],
   "source": [
    "df.isna().sum()"
   ]
  },
  {
   "cell_type": "code",
   "execution_count": 44,
   "id": "3bc1699f",
   "metadata": {},
   "outputs": [
    {
     "data": {
      "text/html": [
       "<div>\n",
       "<style scoped>\n",
       "    .dataframe tbody tr th:only-of-type {\n",
       "        vertical-align: middle;\n",
       "    }\n",
       "\n",
       "    .dataframe tbody tr th {\n",
       "        vertical-align: top;\n",
       "    }\n",
       "\n",
       "    .dataframe thead th {\n",
       "        text-align: right;\n",
       "    }\n",
       "</style>\n",
       "<table border=\"1\" class=\"dataframe\">\n",
       "  <thead>\n",
       "    <tr style=\"text-align: right;\">\n",
       "      <th></th>\n",
       "      <th>tripDensity</th>\n",
       "      <th>date</th>\n",
       "      <th>hour</th>\n",
       "      <th>trainDensity</th>\n",
       "      <th>busDensity</th>\n",
       "      <th>tramDensity</th>\n",
       "      <th>Cafe perc</th>\n",
       "      <th>Office perc</th>\n",
       "      <th>Shops perc</th>\n",
       "      <th>mxi</th>\n",
       "      <th>recreationCount</th>\n",
       "      <th>campusCount</th>\n",
       "      <th>5-14 %</th>\n",
       "      <th>30-39 %</th>\n",
       "      <th>40-49 %</th>\n",
       "      <th>50-64 %</th>\n",
       "      <th>Population density 2021</th>\n",
       "      <th>rainfall</th>\n",
       "      <th>min_temp</th>\n",
       "    </tr>\n",
       "  </thead>\n",
       "  <tbody>\n",
       "    <tr>\n",
       "      <th>0</th>\n",
       "      <td>0</td>\n",
       "      <td>1</td>\n",
       "      <td>0</td>\n",
       "      <td>0.0</td>\n",
       "      <td>38.684720</td>\n",
       "      <td>19.34236</td>\n",
       "      <td>0.576336</td>\n",
       "      <td>0.022901</td>\n",
       "      <td>0.030534</td>\n",
       "      <td>12.977099</td>\n",
       "      <td>0</td>\n",
       "      <td>0</td>\n",
       "      <td>3.536138</td>\n",
       "      <td>19.330746</td>\n",
       "      <td>7.422579</td>\n",
       "      <td>8.152377</td>\n",
       "      <td>9456.2</td>\n",
       "      <td>0</td>\n",
       "      <td>7.4</td>\n",
       "    </tr>\n",
       "    <tr>\n",
       "      <th>1</th>\n",
       "      <td>0</td>\n",
       "      <td>1</td>\n",
       "      <td>1</td>\n",
       "      <td>0.0</td>\n",
       "      <td>38.684720</td>\n",
       "      <td>19.34236</td>\n",
       "      <td>0.576336</td>\n",
       "      <td>0.022901</td>\n",
       "      <td>0.030534</td>\n",
       "      <td>12.977099</td>\n",
       "      <td>0</td>\n",
       "      <td>0</td>\n",
       "      <td>3.536138</td>\n",
       "      <td>19.330746</td>\n",
       "      <td>7.422579</td>\n",
       "      <td>8.152377</td>\n",
       "      <td>9456.2</td>\n",
       "      <td>0</td>\n",
       "      <td>7.4</td>\n",
       "    </tr>\n",
       "    <tr>\n",
       "      <th>2</th>\n",
       "      <td>19</td>\n",
       "      <td>1</td>\n",
       "      <td>2</td>\n",
       "      <td>0.0</td>\n",
       "      <td>38.684720</td>\n",
       "      <td>19.34236</td>\n",
       "      <td>0.576336</td>\n",
       "      <td>0.022901</td>\n",
       "      <td>0.030534</td>\n",
       "      <td>12.977099</td>\n",
       "      <td>0</td>\n",
       "      <td>0</td>\n",
       "      <td>3.536138</td>\n",
       "      <td>19.330746</td>\n",
       "      <td>7.422579</td>\n",
       "      <td>8.152377</td>\n",
       "      <td>9456.2</td>\n",
       "      <td>0</td>\n",
       "      <td>7.4</td>\n",
       "    </tr>\n",
       "    <tr>\n",
       "      <th>3</th>\n",
       "      <td>0</td>\n",
       "      <td>1</td>\n",
       "      <td>3</td>\n",
       "      <td>0.0</td>\n",
       "      <td>38.684720</td>\n",
       "      <td>19.34236</td>\n",
       "      <td>0.576336</td>\n",
       "      <td>0.022901</td>\n",
       "      <td>0.030534</td>\n",
       "      <td>12.977099</td>\n",
       "      <td>0</td>\n",
       "      <td>0</td>\n",
       "      <td>3.536138</td>\n",
       "      <td>19.330746</td>\n",
       "      <td>7.422579</td>\n",
       "      <td>8.152377</td>\n",
       "      <td>9456.2</td>\n",
       "      <td>0</td>\n",
       "      <td>7.4</td>\n",
       "    </tr>\n",
       "    <tr>\n",
       "      <th>4</th>\n",
       "      <td>0</td>\n",
       "      <td>1</td>\n",
       "      <td>4</td>\n",
       "      <td>0.0</td>\n",
       "      <td>38.684720</td>\n",
       "      <td>19.34236</td>\n",
       "      <td>0.576336</td>\n",
       "      <td>0.022901</td>\n",
       "      <td>0.030534</td>\n",
       "      <td>12.977099</td>\n",
       "      <td>0</td>\n",
       "      <td>0</td>\n",
       "      <td>3.536138</td>\n",
       "      <td>19.330746</td>\n",
       "      <td>7.422579</td>\n",
       "      <td>8.152377</td>\n",
       "      <td>9456.2</td>\n",
       "      <td>0</td>\n",
       "      <td>7.4</td>\n",
       "    </tr>\n",
       "    <tr>\n",
       "      <th>...</th>\n",
       "      <td>...</td>\n",
       "      <td>...</td>\n",
       "      <td>...</td>\n",
       "      <td>...</td>\n",
       "      <td>...</td>\n",
       "      <td>...</td>\n",
       "      <td>...</td>\n",
       "      <td>...</td>\n",
       "      <td>...</td>\n",
       "      <td>...</td>\n",
       "      <td>...</td>\n",
       "      <td>...</td>\n",
       "      <td>...</td>\n",
       "      <td>...</td>\n",
       "      <td>...</td>\n",
       "      <td>...</td>\n",
       "      <td>...</td>\n",
       "      <td>...</td>\n",
       "      <td>...</td>\n",
       "    </tr>\n",
       "    <tr>\n",
       "      <th>56779</th>\n",
       "      <td>0</td>\n",
       "      <td>7</td>\n",
       "      <td>19</td>\n",
       "      <td>0.0</td>\n",
       "      <td>46.728972</td>\n",
       "      <td>0.00000</td>\n",
       "      <td>0.803571</td>\n",
       "      <td>0.071429</td>\n",
       "      <td>0.035714</td>\n",
       "      <td>41.071429</td>\n",
       "      <td>0</td>\n",
       "      <td>0</td>\n",
       "      <td>1.813717</td>\n",
       "      <td>34.053583</td>\n",
       "      <td>13.562667</td>\n",
       "      <td>0.000000</td>\n",
       "      <td>9238.5</td>\n",
       "      <td>1</td>\n",
       "      <td>8.0</td>\n",
       "    </tr>\n",
       "    <tr>\n",
       "      <th>56780</th>\n",
       "      <td>0</td>\n",
       "      <td>7</td>\n",
       "      <td>20</td>\n",
       "      <td>0.0</td>\n",
       "      <td>46.728972</td>\n",
       "      <td>0.00000</td>\n",
       "      <td>0.803571</td>\n",
       "      <td>0.071429</td>\n",
       "      <td>0.035714</td>\n",
       "      <td>41.071429</td>\n",
       "      <td>0</td>\n",
       "      <td>0</td>\n",
       "      <td>1.813717</td>\n",
       "      <td>34.053583</td>\n",
       "      <td>13.562667</td>\n",
       "      <td>0.000000</td>\n",
       "      <td>9238.5</td>\n",
       "      <td>1</td>\n",
       "      <td>8.0</td>\n",
       "    </tr>\n",
       "    <tr>\n",
       "      <th>56781</th>\n",
       "      <td>0</td>\n",
       "      <td>7</td>\n",
       "      <td>21</td>\n",
       "      <td>0.0</td>\n",
       "      <td>46.728972</td>\n",
       "      <td>0.00000</td>\n",
       "      <td>0.803571</td>\n",
       "      <td>0.071429</td>\n",
       "      <td>0.035714</td>\n",
       "      <td>41.071429</td>\n",
       "      <td>0</td>\n",
       "      <td>0</td>\n",
       "      <td>1.813717</td>\n",
       "      <td>34.053583</td>\n",
       "      <td>13.562667</td>\n",
       "      <td>0.000000</td>\n",
       "      <td>9238.5</td>\n",
       "      <td>1</td>\n",
       "      <td>8.0</td>\n",
       "    </tr>\n",
       "    <tr>\n",
       "      <th>56782</th>\n",
       "      <td>0</td>\n",
       "      <td>7</td>\n",
       "      <td>22</td>\n",
       "      <td>0.0</td>\n",
       "      <td>46.728972</td>\n",
       "      <td>0.00000</td>\n",
       "      <td>0.803571</td>\n",
       "      <td>0.071429</td>\n",
       "      <td>0.035714</td>\n",
       "      <td>41.071429</td>\n",
       "      <td>0</td>\n",
       "      <td>0</td>\n",
       "      <td>1.813717</td>\n",
       "      <td>34.053583</td>\n",
       "      <td>13.562667</td>\n",
       "      <td>0.000000</td>\n",
       "      <td>9238.5</td>\n",
       "      <td>1</td>\n",
       "      <td>8.0</td>\n",
       "    </tr>\n",
       "    <tr>\n",
       "      <th>56783</th>\n",
       "      <td>0</td>\n",
       "      <td>7</td>\n",
       "      <td>23</td>\n",
       "      <td>0.0</td>\n",
       "      <td>46.728972</td>\n",
       "      <td>0.00000</td>\n",
       "      <td>0.803571</td>\n",
       "      <td>0.071429</td>\n",
       "      <td>0.035714</td>\n",
       "      <td>41.071429</td>\n",
       "      <td>0</td>\n",
       "      <td>0</td>\n",
       "      <td>1.813717</td>\n",
       "      <td>34.053583</td>\n",
       "      <td>13.562667</td>\n",
       "      <td>0.000000</td>\n",
       "      <td>9238.5</td>\n",
       "      <td>1</td>\n",
       "      <td>8.0</td>\n",
       "    </tr>\n",
       "  </tbody>\n",
       "</table>\n",
       "<p>56784 rows × 19 columns</p>\n",
       "</div>"
      ],
      "text/plain": [
       "       tripDensity  date  hour  trainDensity  busDensity  tramDensity  \\\n",
       "0                0     1     0           0.0   38.684720     19.34236   \n",
       "1                0     1     1           0.0   38.684720     19.34236   \n",
       "2               19     1     2           0.0   38.684720     19.34236   \n",
       "3                0     1     3           0.0   38.684720     19.34236   \n",
       "4                0     1     4           0.0   38.684720     19.34236   \n",
       "...            ...   ...   ...           ...         ...          ...   \n",
       "56779            0     7    19           0.0   46.728972      0.00000   \n",
       "56780            0     7    20           0.0   46.728972      0.00000   \n",
       "56781            0     7    21           0.0   46.728972      0.00000   \n",
       "56782            0     7    22           0.0   46.728972      0.00000   \n",
       "56783            0     7    23           0.0   46.728972      0.00000   \n",
       "\n",
       "       Cafe perc  Office perc  Shops perc        mxi  recreationCount  \\\n",
       "0       0.576336     0.022901    0.030534  12.977099                0   \n",
       "1       0.576336     0.022901    0.030534  12.977099                0   \n",
       "2       0.576336     0.022901    0.030534  12.977099                0   \n",
       "3       0.576336     0.022901    0.030534  12.977099                0   \n",
       "4       0.576336     0.022901    0.030534  12.977099                0   \n",
       "...          ...          ...         ...        ...              ...   \n",
       "56779   0.803571     0.071429    0.035714  41.071429                0   \n",
       "56780   0.803571     0.071429    0.035714  41.071429                0   \n",
       "56781   0.803571     0.071429    0.035714  41.071429                0   \n",
       "56782   0.803571     0.071429    0.035714  41.071429                0   \n",
       "56783   0.803571     0.071429    0.035714  41.071429                0   \n",
       "\n",
       "       campusCount    5-14 %    30-39 %    40-49 %   50-64 %  \\\n",
       "0                0  3.536138  19.330746   7.422579  8.152377   \n",
       "1                0  3.536138  19.330746   7.422579  8.152377   \n",
       "2                0  3.536138  19.330746   7.422579  8.152377   \n",
       "3                0  3.536138  19.330746   7.422579  8.152377   \n",
       "4                0  3.536138  19.330746   7.422579  8.152377   \n",
       "...            ...       ...        ...        ...       ...   \n",
       "56779            0  1.813717  34.053583  13.562667  0.000000   \n",
       "56780            0  1.813717  34.053583  13.562667  0.000000   \n",
       "56781            0  1.813717  34.053583  13.562667  0.000000   \n",
       "56782            0  1.813717  34.053583  13.562667  0.000000   \n",
       "56783            0  1.813717  34.053583  13.562667  0.000000   \n",
       "\n",
       "       Population density 2021  rainfall  min_temp  \n",
       "0                       9456.2         0       7.4  \n",
       "1                       9456.2         0       7.4  \n",
       "2                       9456.2         0       7.4  \n",
       "3                       9456.2         0       7.4  \n",
       "4                       9456.2         0       7.4  \n",
       "...                        ...       ...       ...  \n",
       "56779                   9238.5         1       8.0  \n",
       "56780                   9238.5         1       8.0  \n",
       "56781                   9238.5         1       8.0  \n",
       "56782                   9238.5         1       8.0  \n",
       "56783                   9238.5         1       8.0  \n",
       "\n",
       "[56784 rows x 19 columns]"
      ]
     },
     "execution_count": 44,
     "metadata": {},
     "output_type": "execute_result"
    }
   ],
   "source": [
    "column=['House perc','entropy','15-29 %','above65 %','female%','car owner %','male%','with no u 15 children sa1','with u 15 children sa1','no_childern Sa1']\n",
    "df=df.drop(column, axis=1)\n",
    "df"
   ]
  },
  {
   "cell_type": "code",
   "execution_count": 45,
   "id": "914fd478",
   "metadata": {},
   "outputs": [],
   "source": [
    "df[\"hour\"].replace({0:1,1:1,2:1,3:2,4:2,5:2,6:3,7:3,8:3,9:4,10:4,11:4,12:5,13:5,14:5,15:6,16:6,17:6,18:7,19:7,20:7,21:8,22:8,23:8}, inplace=True)"
   ]
  },
  {
   "cell_type": "code",
   "execution_count": 46,
   "id": "bf7a0226",
   "metadata": {},
   "outputs": [],
   "source": [
    "df[\"date\"].replace({1:1,2: 1, 3: 1,4: 1,5: 1,6: 2,7: 2}, inplace=True)"
   ]
  },
  {
   "cell_type": "code",
   "execution_count": 47,
   "id": "d3c61938",
   "metadata": {},
   "outputs": [],
   "source": [
    "df['trainDensity'] = df['trainDensity'].map(lambda x: 1 if x>0 else 0)"
   ]
  },
  {
   "cell_type": "code",
   "execution_count": 48,
   "id": "373f5672",
   "metadata": {},
   "outputs": [],
   "source": [
    "categorical =['hour','date','rainfall','trainDensity']\n",
    "for col in categorical:\n",
    "    df[col]=df[col].astype('category')"
   ]
  },
  {
   "cell_type": "code",
   "execution_count": 49,
   "id": "2dbf458b",
   "metadata": {},
   "outputs": [],
   "source": [
    "df=pd.get_dummies(df, drop_first=True)\n",
    "#df=pd.get_dummies(df, drop_first=False)"
   ]
  },
  {
   "cell_type": "code",
   "execution_count": 50,
   "id": "8dbbfcca",
   "metadata": {},
   "outputs": [
    {
     "name": "stdout",
     "output_type": "stream",
     "text": [
      "25\n"
     ]
    }
   ],
   "source": [
    "print(len(df.columns))"
   ]
  },
  {
   "cell_type": "code",
   "execution_count": 51,
   "id": "b5723ef1",
   "metadata": {},
   "outputs": [],
   "source": [
    "y=df['tripDensity']\n",
    "\n",
    "X=df.drop(['tripDensity'], axis=1)"
   ]
  },
  {
   "cell_type": "code",
   "execution_count": 52,
   "id": "435d0a4b",
   "metadata": {},
   "outputs": [],
   "source": [
    "X_train, X_test, y_train, y_test = train_test_split(X, y, test_size=0.2,random_state=24)"
   ]
  },
  {
   "cell_type": "code",
   "execution_count": 53,
   "id": "8696c9cd",
   "metadata": {},
   "outputs": [],
   "source": [
    "model = RandomForestRegressor(n_estimators=500, random_state=24,max_features=5) "
   ]
  },
  {
   "cell_type": "code",
   "execution_count": 54,
   "id": "c87b084e",
   "metadata": {},
   "outputs": [],
   "source": [
    "LL_rf=model.fit(X_train, y_train)"
   ]
  },
  {
   "cell_type": "code",
   "execution_count": 55,
   "id": "faabc48c",
   "metadata": {},
   "outputs": [
    {
     "name": "stdout",
     "output_type": "stream",
     "text": [
      "R-squared: 0.47429337236712665\n"
     ]
    }
   ],
   "source": [
    "score = LL_rf.score(X_train, y_train)\n",
    "print(\"R-squared:\", score)"
   ]
  },
  {
   "cell_type": "code",
   "execution_count": 56,
   "id": "ce7ee377",
   "metadata": {},
   "outputs": [],
   "source": [
    "from sklearn.metrics import mean_absolute_error, mean_squared_error, explained_variance_score, r2_score"
   ]
  },
  {
   "cell_type": "code",
   "execution_count": 57,
   "id": "20dd6c71",
   "metadata": {},
   "outputs": [],
   "source": [
    "ypred = LL_rf.predict(X_train)"
   ]
  },
  {
   "cell_type": "code",
   "execution_count": 20,
   "id": "09d92f33",
   "metadata": {},
   "outputs": [
    {
     "name": "stdout",
     "output_type": "stream",
     "text": [
      "MAE is: 33.514399\n",
      "MSE is: 8695.519979\n"
     ]
    }
   ],
   "source": [
    "print(\"MAE is: %f\" %mean_absolute_error(y_train, ypred))\n",
    "print(\"MSE is: %f\" %mean_squared_error(y_train, ypred))"
   ]
  },
  {
   "cell_type": "code",
   "execution_count": 21,
   "id": "a144504d",
   "metadata": {},
   "outputs": [
    {
     "name": "stdout",
     "output_type": "stream",
     "text": [
      "RMSE is: 93.249772\n"
     ]
    }
   ],
   "source": [
    "import numpy as np\n",
    "print(\"RMSE is: %f\" %np.sqrt(mean_squared_error(y_train, ypred)))"
   ]
  },
  {
   "cell_type": "code",
   "execution_count": 22,
   "id": "0e016ccb",
   "metadata": {},
   "outputs": [
    {
     "name": "stdout",
     "output_type": "stream",
     "text": [
      "EVS is: 0.474259\n"
     ]
    }
   ],
   "source": [
    "print(\"EVS is: %f\" %explained_variance_score(y_train, ypred))"
   ]
  },
  {
   "cell_type": "code",
   "execution_count": 58,
   "id": "77020312",
   "metadata": {},
   "outputs": [],
   "source": [
    "ypred_test= LL_rf.predict(X_test)"
   ]
  },
  {
   "cell_type": "code",
   "execution_count": 59,
   "id": "f6158afb",
   "metadata": {},
   "outputs": [
    {
     "name": "stdout",
     "output_type": "stream",
     "text": [
      "Testinf set R2 is: 0.026166\n"
     ]
    }
   ],
   "source": [
    "print(\"Testinf set R2 is: %f\" %r2_score(y_test, ypred_test))"
   ]
  },
  {
   "cell_type": "code",
   "execution_count": 60,
   "id": "5ffde50c",
   "metadata": {},
   "outputs": [
    {
     "name": "stdout",
     "output_type": "stream",
     "text": [
      "MAE is: 50.265076\n",
      "MSE is: 20252.486035\n"
     ]
    }
   ],
   "source": [
    "print(\"MAE is: %f\" %mean_absolute_error(y_test, ypred_test))\n",
    "print(\"MSE is: %f\" %mean_squared_error(y_test, ypred_test))"
   ]
  },
  {
   "cell_type": "code",
   "execution_count": 61,
   "id": "34e2ee77",
   "metadata": {},
   "outputs": [
    {
     "name": "stdout",
     "output_type": "stream",
     "text": [
      "RMSE is: 142.311229\n",
      "EVS is: 0.026429\n"
     ]
    }
   ],
   "source": [
    "print(\"RMSE is: %f\" %np.sqrt(mean_squared_error(y_test, ypred_test)))\n",
    "print(\"EVS is: %f\" %explained_variance_score(y_test, ypred_test))"
   ]
  },
  {
   "cell_type": "code",
   "execution_count": 27,
   "id": "cd436087",
   "metadata": {},
   "outputs": [],
   "source": [
    "# cross validation"
   ]
  },
  {
   "cell_type": "code",
   "execution_count": 62,
   "id": "29985496",
   "metadata": {},
   "outputs": [],
   "source": [
    "test_score= cross_val_score(LL_rf, X_test, y_test, scoring='neg_mean_squared_error')"
   ]
  },
  {
   "cell_type": "code",
   "execution_count": 63,
   "id": "ab78e0af",
   "metadata": {},
   "outputs": [],
   "source": [
    "cv_MSE=np.mean(np.absolute(test_score))"
   ]
  },
  {
   "cell_type": "code",
   "execution_count": 64,
   "id": "55529955",
   "metadata": {},
   "outputs": [
    {
     "data": {
      "text/plain": [
       "151.47"
      ]
     },
     "execution_count": 64,
     "metadata": {},
     "output_type": "execute_result"
    }
   ],
   "source": [
    "round(np.sqrt(cv_MSE),2)"
   ]
  },
  {
   "cell_type": "code",
   "execution_count": null,
   "id": "4633271f",
   "metadata": {},
   "outputs": [],
   "source": []
  },
  {
   "cell_type": "code",
   "execution_count": null,
   "id": "0f883a66",
   "metadata": {},
   "outputs": [],
   "source": []
  },
  {
   "cell_type": "code",
   "execution_count": 31,
   "id": "276688bd",
   "metadata": {},
   "outputs": [],
   "source": [
    "#feature ranking"
   ]
  },
  {
   "cell_type": "code",
   "execution_count": 32,
   "id": "93dc1c83",
   "metadata": {},
   "outputs": [],
   "source": [
    "from sklearn.pipeline import Pipeline"
   ]
  },
  {
   "cell_type": "code",
   "execution_count": 65,
   "id": "d640b4e7",
   "metadata": {},
   "outputs": [],
   "source": [
    "feature_list=list(X.columns)"
   ]
  },
  {
   "cell_type": "code",
   "execution_count": 66,
   "id": "140bd360",
   "metadata": {},
   "outputs": [],
   "source": [
    "feature_importance = pd.Series(LL_rf.feature_importances_, index=feature_list).sort_values(ascending=False)"
   ]
  },
  {
   "cell_type": "code",
   "execution_count": 67,
   "id": "e64f6f7f",
   "metadata": {},
   "outputs": [
    {
     "name": "stdout",
     "output_type": "stream",
     "text": [
      "min_temp                   0.209799\n",
      "Cafe perc                  0.097395\n",
      "mxi                        0.085058\n",
      "tramDensity                0.054346\n",
      "busDensity                 0.049641\n",
      "hour_8                     0.044458\n",
      "hour_6                     0.043791\n",
      "date_2                     0.042179\n",
      "hour_7                     0.041890\n",
      "hour_5                     0.040984\n",
      "Population density 2021    0.034767\n",
      "hour_4                     0.034620\n",
      "rainfall_1                 0.033453\n",
      "hour_3                     0.033111\n",
      "hour_2                     0.029151\n",
      "Office perc                0.028766\n",
      "5-14 %                     0.028629\n",
      "50-64 %                    0.018594\n",
      "40-49 %                    0.017610\n",
      "30-39 %                    0.015540\n",
      "Shops perc                 0.013552\n",
      "recreationCount            0.001816\n",
      "trainDensity_1             0.000515\n",
      "campusCount                0.000336\n",
      "dtype: float64\n"
     ]
    }
   ],
   "source": [
    "print(feature_importance)"
   ]
  },
  {
   "cell_type": "code",
   "execution_count": null,
   "id": "909d71a8",
   "metadata": {},
   "outputs": [],
   "source": []
  }
 ],
 "metadata": {
  "kernelspec": {
   "display_name": "Python 3 (ipykernel)",
   "language": "python",
   "name": "python3"
  },
  "language_info": {
   "codemirror_mode": {
    "name": "ipython",
    "version": 3
   },
   "file_extension": ".py",
   "mimetype": "text/x-python",
   "name": "python",
   "nbconvert_exporter": "python",
   "pygments_lexer": "ipython3",
   "version": "3.7.13"
  }
 },
 "nbformat": 4,
 "nbformat_minor": 5
}
