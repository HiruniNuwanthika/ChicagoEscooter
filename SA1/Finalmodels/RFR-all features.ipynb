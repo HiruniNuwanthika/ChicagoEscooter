{
 "cells": [
  {
   "cell_type": "code",
   "execution_count": 53,
   "id": "5bcf6d55",
   "metadata": {},
   "outputs": [],
   "source": [
    "import pandas as pd\n",
    "import numpy as np\n",
    "\n",
    "\n",
    "from sklearn.ensemble import RandomForestRegressor\n",
    "\n",
    "from sklearn.preprocessing import StandardScaler\n",
    "from sklearn.preprocessing import scale\n",
    "from sklearn.model_selection import train_test_split\n",
    "from sklearn.model_selection import cross_val_score\n",
    "\n",
    "from sklearn.metrics import mean_absolute_error,mean_squared_error, accuracy_score,f1_score"
   ]
  },
  {
   "cell_type": "code",
   "execution_count": 54,
   "id": "a6b614d1",
   "metadata": {},
   "outputs": [],
   "source": [
    "df=pd.read_csv(r'C:\\Melbourne_Escooter\\RealDataset\\FinalResults\\SA1\\Features-trips\\Final\\final version\\DATASET_allfeatures.csv')"
   ]
  },
  {
   "cell_type": "code",
   "execution_count": 55,
   "id": "a3c4801e",
   "metadata": {},
   "outputs": [],
   "source": [
    "column=['SA1_CODE21']\n",
    "df=df.drop(column, axis=1)"
   ]
  },
  {
   "cell_type": "code",
   "execution_count": 56,
   "id": "2bd632ec",
   "metadata": {},
   "outputs": [],
   "source": [
    "scale= StandardScaler()"
   ]
  },
  {
   "cell_type": "code",
   "execution_count": 57,
   "id": "512aeb3c",
   "metadata": {},
   "outputs": [],
   "source": [
    "df_sc= scale.fit_transform(df)\n",
    "df_sc=pd.DataFrame(df_sc, columns=df.columns)"
   ]
  },
  {
   "cell_type": "code",
   "execution_count": 64,
   "id": "4db54b15",
   "metadata": {},
   "outputs": [],
   "source": [
    "#df[\"hour\"].replace({0:1,1:1,2:1,3:2,4:2,5:2,6:3,7:3,8:3,9:4,10:4,11:4,12:5,13:5,14:5,15:6,16:6,17:6,18:7,19:7,20:7,21:8,22:8,23:8}, inplace=True)\n",
    "#df[\"date\"].replace({1:1,2: 1, 3: 1,4: 1,5: 1,6: 2,7: 2}, inplace=True)\n",
    "#df['trainDensity'] = df['trainDensity'].map(lambda x: 1 if x>0 else 0)"
   ]
  },
  {
   "cell_type": "code",
   "execution_count": 65,
   "id": "6ce537e7",
   "metadata": {},
   "outputs": [],
   "source": [
    "#categorical =['hour','date','rainfall','trainDensity']\n",
    "#for col in categorical:\n",
    " #   df[col]=df[col].astype('category')"
   ]
  },
  {
   "cell_type": "code",
   "execution_count": 89,
   "id": "1ca03839",
   "metadata": {},
   "outputs": [],
   "source": [
    "#df=pd.get_dummies(df, drop_first=False)"
   ]
  },
  {
   "cell_type": "code",
   "execution_count": 58,
   "id": "9744c301",
   "metadata": {},
   "outputs": [
    {
     "data": {
      "text/plain": [
       "Index(['tripDensity', 'date', 'hour', 'rainfall', 'min_temp', 'trainDensity',\n",
       "       'busDensity', 'tramDensity', 'House perc', 'Cafe perc', 'Office perc',\n",
       "       'Shops perc', 'entropy', 'mxi', 'recreationCount', 'campusCount',\n",
       "       'female%', 'male%', 'car owner %', 'no_childern Sa1',\n",
       "       'with u 15 children sa1', 'with no u 15 children sa1',\n",
       "       'populationDensity', '5_14', '15_29', '30_39', '40_49', '50_64',\n",
       "       'abv65'],\n",
       "      dtype='object')"
      ]
     },
     "execution_count": 58,
     "metadata": {},
     "output_type": "execute_result"
    }
   ],
   "source": [
    "df.columns"
   ]
  },
  {
   "cell_type": "code",
   "execution_count": 59,
   "id": "767d4962",
   "metadata": {},
   "outputs": [
    {
     "name": "stdout",
     "output_type": "stream",
     "text": [
      "29\n"
     ]
    }
   ],
   "source": [
    "print(len(df.columns))"
   ]
  },
  {
   "cell_type": "code",
   "execution_count": 60,
   "id": "540ef2f3",
   "metadata": {},
   "outputs": [],
   "source": [
    "y=df_sc['tripDensity']\n",
    "X=df_sc.drop(['tripDensity'], axis=1)"
   ]
  },
  {
   "cell_type": "code",
   "execution_count": 61,
   "id": "999df78f",
   "metadata": {},
   "outputs": [],
   "source": [
    "X_train, X_test, y_train, y_test = train_test_split(X, y, test_size=0.2,random_state=24)"
   ]
  },
  {
   "cell_type": "code",
   "execution_count": 62,
   "id": "b2e04888",
   "metadata": {},
   "outputs": [],
   "source": [
    "model = RandomForestRegressor(n_estimators=1000, criterion=\"squared_error\", min_samples_leaf=8, min_samples_split=19, max_depth=20, max_features=7) "
   ]
  },
  {
   "cell_type": "code",
   "execution_count": 63,
   "id": "bf2ea049",
   "metadata": {},
   "outputs": [],
   "source": [
    "LL_rf=model.fit(X_train, y_train)"
   ]
  },
  {
   "cell_type": "code",
   "execution_count": 64,
   "id": "90491c1b",
   "metadata": {},
   "outputs": [
    {
     "data": {
      "text/plain": [
       "0.31652962293347964"
      ]
     },
     "execution_count": 64,
     "metadata": {},
     "output_type": "execute_result"
    }
   ],
   "source": [
    "score = LL_rf.score(X_train, y_train)\n",
    "score"
   ]
  },
  {
   "cell_type": "code",
   "execution_count": 65,
   "id": "c8331f4a",
   "metadata": {},
   "outputs": [],
   "source": [
    "ypred = LL_rf.predict(X_test)"
   ]
  },
  {
   "cell_type": "code",
   "execution_count": 66,
   "id": "0a892c6d",
   "metadata": {},
   "outputs": [
    {
     "data": {
      "text/plain": [
       "0.2159258053423434"
      ]
     },
     "execution_count": 66,
     "metadata": {},
     "output_type": "execute_result"
    }
   ],
   "source": [
    "test_score=LL_rf.score(X_test, y_test)\n",
    "test_score"
   ]
  },
  {
   "cell_type": "code",
   "execution_count": 67,
   "id": "10c84ed5",
   "metadata": {},
   "outputs": [
    {
     "data": {
      "text/plain": [
       "0.3571226917374796"
      ]
     },
     "execution_count": 67,
     "metadata": {},
     "output_type": "execute_result"
    }
   ],
   "source": [
    "mae =mean_absolute_error(y_test, ypred)\n",
    "mae"
   ]
  },
  {
   "cell_type": "code",
   "execution_count": 68,
   "id": "6d6143d0",
   "metadata": {},
   "outputs": [
    {
     "data": {
      "text/plain": [
       "0.6906238985532631"
      ]
     },
     "execution_count": 68,
     "metadata": {},
     "output_type": "execute_result"
    }
   ],
   "source": [
    "mse =mean_squared_error(y_test, ypred)\n",
    "mse"
   ]
  },
  {
   "cell_type": "code",
   "execution_count": 69,
   "id": "1f2ab136",
   "metadata": {},
   "outputs": [
    {
     "data": {
      "text/plain": [
       "0.8310378442365084"
      ]
     },
     "execution_count": 69,
     "metadata": {},
     "output_type": "execute_result"
    }
   ],
   "source": [
    "rmse=np.sqrt(mse)\n",
    "rmse"
   ]
  },
  {
   "cell_type": "code",
   "execution_count": null,
   "id": "b23bec3f",
   "metadata": {},
   "outputs": [],
   "source": []
  },
  {
   "cell_type": "code",
   "execution_count": 13,
   "id": "aac0b5cc",
   "metadata": {},
   "outputs": [],
   "source": [
    "from sklearn.pipeline import Pipeline"
   ]
  },
  {
   "cell_type": "code",
   "execution_count": 47,
   "id": "1b634919",
   "metadata": {},
   "outputs": [
    {
     "name": "stdout",
     "output_type": "stream",
     "text": [
      "hour                         0.192445\n",
      "populationDensity            0.150927\n",
      "date                         0.092211\n",
      "min_temp                     0.074281\n",
      "tramDensity                  0.056030\n",
      "Cafe perc                    0.049294\n",
      "busDensity                   0.046458\n",
      "House perc                   0.039848\n",
      "car owner %                  0.034914\n",
      "mxi                          0.034676\n",
      "entropy                      0.034385\n",
      "5_14                         0.033373\n",
      "15_29                        0.025589\n",
      "male%                        0.018765\n",
      "abv65                        0.018117\n",
      "Office perc                  0.015212\n",
      "female%                      0.015134\n",
      "rainfall                     0.014728\n",
      "30_39                        0.012905\n",
      "Shops perc                   0.008700\n",
      "with no u 15 children sa1    0.007537\n",
      "no_childern Sa1              0.007240\n",
      "50_64                        0.005727\n",
      "with u 15 children sa1       0.005713\n",
      "40_49                        0.004486\n",
      "recreationCount              0.000644\n",
      "trainDensity                 0.000561\n",
      "campusCount                  0.000103\n",
      "dtype: float64\n"
     ]
    }
   ],
   "source": [
    "feature_list=list(X.columns)\n",
    "feature_importance = pd.Series(LL_rf.feature_importances_, index=feature_list).sort_values(ascending=False)\n",
    "print(feature_importance)"
   ]
  },
  {
   "cell_type": "code",
   "execution_count": 109,
   "id": "8bbb95ab",
   "metadata": {},
   "outputs": [],
   "source": [
    "### parameter tuning"
   ]
  },
  {
   "cell_type": "code",
   "execution_count": 18,
   "id": "beafc736",
   "metadata": {},
   "outputs": [],
   "source": [
    "from sklearn.model_selection import GridSearchCV"
   ]
  },
  {
   "cell_type": "code",
   "execution_count": 27,
   "id": "e6820dc3",
   "metadata": {},
   "outputs": [],
   "source": [
    "param_grid={\n",
    "    'bootstrap': [True],\n",
    "    'max_depth': [20, 30],\n",
    "    'max_features': [5,6, 7],\n",
    "    'min_samples_leaf': [6,7,8],\n",
    "    'min_samples_split': [14,16,18],\n",
    "    'n_estimators': [1000]\n",
    "}"
   ]
  },
  {
   "cell_type": "code",
   "execution_count": 28,
   "id": "f5e66ad8",
   "metadata": {},
   "outputs": [],
   "source": [
    "rf = RandomForestRegressor()"
   ]
  },
  {
   "cell_type": "code",
   "execution_count": 29,
   "id": "2b901dce",
   "metadata": {},
   "outputs": [],
   "source": [
    "grid_search = GridSearchCV(estimator = rf, param_grid = param_grid, cv = 5, n_jobs = -1, verbose = 2)"
   ]
  },
  {
   "cell_type": "code",
   "execution_count": 30,
   "id": "87efed45",
   "metadata": {},
   "outputs": [
    {
     "name": "stdout",
     "output_type": "stream",
     "text": [
      "Fitting 5 folds for each of 54 candidates, totalling 270 fits\n"
     ]
    },
    {
     "data": {
      "text/plain": [
       "GridSearchCV(cv=5, estimator=RandomForestRegressor(), n_jobs=-1,\n",
       "             param_grid={'bootstrap': [True], 'max_depth': [20, 30],\n",
       "                         'max_features': [5, 6, 7],\n",
       "                         'min_samples_leaf': [6, 7, 8],\n",
       "                         'min_samples_split': [14, 16, 18],\n",
       "                         'n_estimators': [1000]},\n",
       "             verbose=2)"
      ]
     },
     "execution_count": 30,
     "metadata": {},
     "output_type": "execute_result"
    }
   ],
   "source": [
    "grid_search.fit(X_train, y_train)"
   ]
  },
  {
   "cell_type": "code",
   "execution_count": 31,
   "id": "27f078f9",
   "metadata": {},
   "outputs": [
    {
     "data": {
      "text/plain": [
       "{'bootstrap': True,\n",
       " 'max_depth': 20,\n",
       " 'max_features': 7,\n",
       " 'min_samples_leaf': 8,\n",
       " 'min_samples_split': 18,\n",
       " 'n_estimators': 1000}"
      ]
     },
     "execution_count": 31,
     "metadata": {},
     "output_type": "execute_result"
    }
   ],
   "source": [
    "grid_search.best_params_"
   ]
  },
  {
   "cell_type": "code",
   "execution_count": 153,
   "id": "65c70f8f",
   "metadata": {},
   "outputs": [],
   "source": [
    "# cross val"
   ]
  },
  {
   "cell_type": "code",
   "execution_count": 154,
   "id": "f6035f10",
   "metadata": {},
   "outputs": [],
   "source": [
    "test_score= cross_val_score(LL_rf, X_test, y_test, scoring='r2')"
   ]
  },
  {
   "cell_type": "code",
   "execution_count": 51,
   "id": "f1b47dc9",
   "metadata": {},
   "outputs": [],
   "source": [
    "cv_r2=test_score.mean()\n"
   ]
  },
  {
   "cell_type": "code",
   "execution_count": 52,
   "id": "22ac2159",
   "metadata": {},
   "outputs": [
    {
     "data": {
      "text/plain": [
       "0.2154155655718697"
      ]
     },
     "execution_count": 52,
     "metadata": {},
     "output_type": "execute_result"
    }
   ],
   "source": [
    "cv_r2"
   ]
  },
  {
   "cell_type": "code",
   "execution_count": null,
   "id": "62193ee9",
   "metadata": {},
   "outputs": [],
   "source": []
  }
 ],
 "metadata": {
  "kernelspec": {
   "display_name": "Python 3 (ipykernel)",
   "language": "python",
   "name": "python3"
  },
  "language_info": {
   "codemirror_mode": {
    "name": "ipython",
    "version": 3
   },
   "file_extension": ".py",
   "mimetype": "text/x-python",
   "name": "python",
   "nbconvert_exporter": "python",
   "pygments_lexer": "ipython3",
   "version": "3.7.13"
  }
 },
 "nbformat": 4,
 "nbformat_minor": 5
}
