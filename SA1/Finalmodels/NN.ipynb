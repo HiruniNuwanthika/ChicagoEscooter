{
 "cells": [
  {
   "cell_type": "code",
   "execution_count": 36,
   "id": "d8c74581",
   "metadata": {},
   "outputs": [],
   "source": [
    "import pandas as pd\n",
    "import numpy as np\n",
    "\n",
    "from sklearn.preprocessing import StandardScaler\n",
    "from sklearn.model_selection import train_test_split\n",
    "\n",
    "from sklearn.metrics import mean_absolute_error,mean_squared_error, accuracy_score,r2_score"
   ]
  },
  {
   "cell_type": "code",
   "execution_count": 113,
   "id": "a1f0fa4d",
   "metadata": {},
   "outputs": [],
   "source": [
    "df=pd.read_csv(r'C:\\Melbourne_Escooter\\RealDataset\\FinalResults\\SA1\\Features-trips\\Final\\final version\\DATASET.csv')"
   ]
  },
  {
   "cell_type": "code",
   "execution_count": 114,
   "id": "59f664c5",
   "metadata": {},
   "outputs": [],
   "source": [
    "column=['SA1_CODE21']\n",
    "df=df.drop(column, axis=1)"
   ]
  },
  {
   "cell_type": "code",
   "execution_count": 115,
   "id": "c0faf77f",
   "metadata": {},
   "outputs": [],
   "source": [
    "scale= StandardScaler()"
   ]
  },
  {
   "cell_type": "code",
   "execution_count": 116,
   "id": "cc8ec2b1",
   "metadata": {},
   "outputs": [],
   "source": [
    "df_sc= scale.fit_transform(df)\n",
    "df_sc=pd.DataFrame(df_sc, columns=df.columns)"
   ]
  },
  {
   "cell_type": "code",
   "execution_count": 117,
   "id": "f3233c79",
   "metadata": {},
   "outputs": [
    {
     "data": {
      "text/plain": [
       "Index(['tripDensity', 'date', 'hour', 'rainfall', 'min_temp', 'trainDensity',\n",
       "       'busDensity', 'tramDensity', 'Cafe perc', 'Office perc', 'Shops perc',\n",
       "       'mxi', 'recreationCount', 'campusCount', 'female%', 'male%',\n",
       "       'populationDensity', '5_14', '15_29', '30_39', '40_49'],\n",
       "      dtype='object')"
      ]
     },
     "execution_count": 117,
     "metadata": {},
     "output_type": "execute_result"
    }
   ],
   "source": [
    "df.columns"
   ]
  },
  {
   "cell_type": "code",
   "execution_count": 118,
   "id": "f9d06c3b",
   "metadata": {},
   "outputs": [],
   "source": [
    "y=df_sc['tripDensity']\n",
    "X=df_sc.drop(['tripDensity'], axis=1)"
   ]
  },
  {
   "cell_type": "code",
   "execution_count": 119,
   "id": "5558aa8d",
   "metadata": {},
   "outputs": [],
   "source": [
    "X_train, X_test, y_train, y_test = train_test_split(X, y, test_size=0.2,random_state=24)"
   ]
  },
  {
   "cell_type": "code",
   "execution_count": 120,
   "id": "61c56c5c",
   "metadata": {},
   "outputs": [
    {
     "name": "stdout",
     "output_type": "stream",
     "text": [
      "(45830, 20)\n"
     ]
    }
   ],
   "source": [
    "print(X_train.shape)"
   ]
  },
  {
   "cell_type": "code",
   "execution_count": 105,
   "id": "13f0fb77",
   "metadata": {},
   "outputs": [],
   "source": [
    "from tensorflow.keras.models import Sequential\n",
    "from tensorflow.keras.layers import Dense"
   ]
  },
  {
   "cell_type": "code",
   "execution_count": 128,
   "id": "7729d1d8",
   "metadata": {},
   "outputs": [],
   "source": [
    "model=Sequential()"
   ]
  },
  {
   "cell_type": "code",
   "execution_count": 129,
   "id": "43160a2d",
   "metadata": {},
   "outputs": [],
   "source": [
    "model.add(Dense(units=14, input_dim=20,kernel_initializer='normal',activation='relu'))"
   ]
  },
  {
   "cell_type": "code",
   "execution_count": 130,
   "id": "5c250ffa",
   "metadata": {},
   "outputs": [],
   "source": [
    "model.add(Dense(units=14, kernel_initializer='normal',activation='tanh'))"
   ]
  },
  {
   "cell_type": "code",
   "execution_count": 131,
   "id": "dbb13658",
   "metadata": {},
   "outputs": [],
   "source": [
    "model.add(Dense(1, kernel_initializer='normal'))"
   ]
  },
  {
   "cell_type": "code",
   "execution_count": 132,
   "id": "1a66a108",
   "metadata": {},
   "outputs": [],
   "source": [
    "model.compile(loss='mean_squared_error', optimizer='adam')"
   ]
  },
  {
   "cell_type": "code",
   "execution_count": 133,
   "id": "542f2960",
   "metadata": {},
   "outputs": [
    {
     "name": "stdout",
     "output_type": "stream",
     "text": [
      "Epoch 1/40\n",
      "45830/45830 [==============================] - 4s 88us/sample - loss: 0.9316\n",
      "Epoch 2/40\n",
      "45830/45830 [==============================] - 3s 61us/sample - loss: 0.91141s - los\n",
      "Epoch 3/40\n",
      "45830/45830 [==============================] - 3s 62us/sample - loss: 0.90481s -\n",
      "Epoch 4/40\n",
      "45830/45830 [==============================] - 3s 60us/sample - loss: 0.9011\n",
      "Epoch 5/40\n",
      "45830/45830 [==============================] - 3s 67us/sample - loss: 0.9008\n",
      "Epoch 6/40\n",
      "45830/45830 [==============================] - 3s 58us/sample - loss: 0.8966\n",
      "Epoch 7/40\n",
      "45830/45830 [==============================] - 3s 64us/sample - loss: 0.8959\n",
      "Epoch 8/40\n",
      "45830/45830 [==============================] - 3s 61us/sample - loss: 0.8921\n",
      "Epoch 9/40\n",
      "45830/45830 [==============================] - 3s 68us/sample - loss: 0.8893\n",
      "Epoch 10/40\n",
      "45830/45830 [==============================] - 3s 65us/sample - loss: 0.8901\n",
      "Epoch 11/40\n",
      "45830/45830 [==============================] - 3s 63us/sample - loss: 0.88750s\n",
      "Epoch 12/40\n",
      "45830/45830 [==============================] - 3s 62us/sample - loss: 0.8850\n",
      "Epoch 13/40\n",
      "45830/45830 [==============================] - 3s 66us/sample - loss: 0.88470s - loss: \n",
      "Epoch 14/40\n",
      "45830/45830 [==============================] - 3s 58us/sample - loss: 0.8828\n",
      "Epoch 15/40\n",
      "45830/45830 [==============================] - 3s 70us/sample - loss: 0.8824\n",
      "Epoch 16/40\n",
      "45830/45830 [==============================] - 3s 67us/sample - loss: 0.87790s - loss: 0.\n",
      "Epoch 17/40\n",
      "45830/45830 [==============================] - 3s 68us/sample - loss: 0.8797\n",
      "Epoch 18/40\n",
      "45830/45830 [==============================] - 3s 62us/sample - loss: 0.8755\n",
      "Epoch 19/40\n",
      "45830/45830 [==============================] - 3s 62us/sample - loss: 0.8762\n",
      "Epoch 20/40\n",
      "45830/45830 [==============================] - 3s 65us/sample - loss: 0.8739\n",
      "Epoch 21/40\n",
      "45830/45830 [==============================] - 3s 63us/sample - loss: 0.8750\n",
      "Epoch 22/40\n",
      "45830/45830 [==============================] - 3s 64us/sample - loss: 0.8717\n",
      "Epoch 23/40\n",
      "45830/45830 [==============================] - 3s 66us/sample - loss: 0.8716\n",
      "Epoch 24/40\n",
      "45830/45830 [==============================] - 3s 64us/sample - loss: 0.8690\n",
      "Epoch 25/40\n",
      "45830/45830 [==============================] - 3s 64us/sample - loss: 0.8711\n",
      "Epoch 26/40\n",
      "45830/45830 [==============================] - 3s 60us/sample - loss: 0.8678\n",
      "Epoch 27/40\n",
      "45830/45830 [==============================] - 3s 66us/sample - loss: 0.8629\n",
      "Epoch 28/40\n",
      "45830/45830 [==============================] - 3s 62us/sample - loss: 0.8650\n",
      "Epoch 29/40\n",
      "45830/45830 [==============================] - 3s 64us/sample - loss: 0.8627\n",
      "Epoch 30/40\n",
      "45830/45830 [==============================] - 3s 69us/sample - loss: 0.8610\n",
      "Epoch 31/40\n",
      "45830/45830 [==============================] - 3s 70us/sample - loss: 0.8622\n",
      "Epoch 32/40\n",
      "45830/45830 [==============================] - 3s 67us/sample - loss: 0.86190s - lo\n",
      "Epoch 33/40\n",
      "45830/45830 [==============================] - 3s 63us/sample - loss: 0.8567\n",
      "Epoch 34/40\n",
      "45830/45830 [==============================] - 3s 63us/sample - loss: 0.8580\n",
      "Epoch 35/40\n",
      "45830/45830 [==============================] - 3s 60us/sample - loss: 0.8587\n",
      "Epoch 36/40\n",
      "45830/45830 [==============================] - 3s 67us/sample - loss: 0.8566\n",
      "Epoch 37/40\n",
      "45830/45830 [==============================] - 3s 66us/sample - loss: 0.8542\n",
      "Epoch 38/40\n",
      "45830/45830 [==============================] - 3s 62us/sample - loss: 0.8555\n",
      "Epoch 39/40\n",
      "45830/45830 [==============================] - 3s 64us/sample - loss: 0.8547\n",
      "Epoch 40/40\n",
      "45830/45830 [==============================] - 3s 62us/sample - loss: 0.85310s - loss: 0.857\n"
     ]
    },
    {
     "data": {
      "text/plain": [
       "<tensorflow.python.keras.callbacks.History at 0x199a989eb88>"
      ]
     },
     "execution_count": 133,
     "metadata": {},
     "output_type": "execute_result"
    }
   ],
   "source": [
    "model.fit(X_train, y_train, batch_size=30, epochs=40, verbose=1)"
   ]
  },
  {
   "cell_type": "code",
   "execution_count": 111,
   "id": "cf856fb1",
   "metadata": {},
   "outputs": [
    {
     "data": {
      "text/plain": [
       "array([[-0.41932654],\n",
       "       [-0.26911128],\n",
       "       [-0.2592455 ],\n",
       "       ...,\n",
       "       [-0.18386877],\n",
       "       [-0.26302707],\n",
       "       [-0.27661988]], dtype=float32)"
      ]
     },
     "execution_count": 111,
     "metadata": {},
     "output_type": "execute_result"
    }
   ],
   "source": [
    "model.predict(X_test)"
   ]
  },
  {
   "cell_type": "code",
   "execution_count": 134,
   "id": "88095ae3",
   "metadata": {},
   "outputs": [
    {
     "data": {
      "text/plain": [
       "0.16453933515487973"
      ]
     },
     "execution_count": 134,
     "metadata": {},
     "output_type": "execute_result"
    }
   ],
   "source": [
    "r2_score(y_test,model.predict(X_test))"
   ]
  },
  {
   "cell_type": "code",
   "execution_count": 135,
   "id": "db5e4a7a",
   "metadata": {},
   "outputs": [
    {
     "name": "stdout",
     "output_type": "stream",
     "text": [
      "MAE 0.368380\n"
     ]
    }
   ],
   "source": [
    "print(\"MAE %f\" %mean_absolute_error(y_test,model.predict(X_test)))"
   ]
  },
  {
   "cell_type": "code",
   "execution_count": 38,
   "id": "45ad3ff1",
   "metadata": {},
   "outputs": [],
   "source": [
    "###### tuning params"
   ]
  },
  {
   "cell_type": "code",
   "execution_count": 94,
   "id": "e455e67f",
   "metadata": {},
   "outputs": [],
   "source": [
    "def FunctionFindBestParams(X_train, y_train, X_test, y_test):\n",
    "    batch_size_list=[30,40,50]\n",
    "    epoch_list=[30,40,50]\n",
    "    unit_list=[10,12,14]\n",
    "    \n",
    "    import pandas as pd\n",
    "    SearchResultsData=pd.DataFrame(columns=['TrialNumber', 'Parameters', 'MAE'])\n",
    "    \n",
    "    TrailNum=0\n",
    "    for batch_size_trial in batch_size_list:\n",
    "        for epoch_trial in epoch_list:\n",
    "            for unit_trial in unit_list:\n",
    "                TrailNum+=1\n",
    "                model=Sequential()\n",
    "                model.add(Dense(units=unit_trial, input_dim=20,kernel_initializer='normal',activation='relu'))\n",
    "                model.add(Dense(units=unit_trial, kernel_initializer='normal',activation='relu'))\n",
    "                model.add(Dense(1, kernel_initializer='normal'))\n",
    "                model.compile(loss='mean_squared_error', optimizer='adam')\n",
    "                model.fit(X_train, y_train, batch_size=batch_size_trial, epochs=epoch_trial, verbose=0)\n",
    "                #y_test=y_test.to_numpy()\n",
    "                MAPE = r2_score(y_test,model.predict(X_test))\n",
    "                print(TrailNum, 'Parameters:','batch_size:', batch_size_trial,'-', 'epochs:',epoch_trial, 'R2:', MAPE)\n",
    "                SearchResultsData=SearchResultsData.append(pd.DataFrame(data=[[TrailNum, str(unit_trial)+'-'+str(batch_size_trial)+'-'+str(epoch_trial), MAPE]],columns=['TrialNumber', 'Parameters', 'MAE'] ))\n",
    "    return(SearchResultsData)"
   ]
  },
  {
   "cell_type": "code",
   "execution_count": 95,
   "id": "c6323bba",
   "metadata": {},
   "outputs": [
    {
     "name": "stdout",
     "output_type": "stream",
     "text": [
      "1 Parameters: batch_size: 30 - epochs: 30 R2: 0.17686423666173556\n",
      "2 Parameters: batch_size: 30 - epochs: 30 R2: 0.17439818897824877\n",
      "3 Parameters: batch_size: 30 - epochs: 30 R2: 0.18564119180658067\n",
      "4 Parameters: batch_size: 30 - epochs: 40 R2: 0.17375577912429152\n",
      "5 Parameters: batch_size: 30 - epochs: 40 R2: 0.17321365024858792\n",
      "6 Parameters: batch_size: 30 - epochs: 40 R2: 0.19621709288193556\n",
      "7 Parameters: batch_size: 30 - epochs: 50 R2: 0.1869466015486866\n",
      "8 Parameters: batch_size: 30 - epochs: 50 R2: 0.18255960912459002\n",
      "9 Parameters: batch_size: 30 - epochs: 50 R2: 0.18509444749581805\n",
      "10 Parameters: batch_size: 40 - epochs: 30 R2: 0.16509989543038228\n",
      "11 Parameters: batch_size: 40 - epochs: 30 R2: 0.18073645782523595\n",
      "12 Parameters: batch_size: 40 - epochs: 30 R2: 0.19004382203412928\n",
      "13 Parameters: batch_size: 40 - epochs: 40 R2: 0.17858481343158172\n",
      "14 Parameters: batch_size: 40 - epochs: 40 R2: 0.17700806786674939\n",
      "15 Parameters: batch_size: 40 - epochs: 40 R2: 0.17445005883304587\n",
      "16 Parameters: batch_size: 40 - epochs: 50 R2: 0.17287761864523266\n",
      "17 Parameters: batch_size: 40 - epochs: 50 R2: 0.17061074383265007\n",
      "18 Parameters: batch_size: 40 - epochs: 50 R2: 0.15977040891511196\n",
      "19 Parameters: batch_size: 50 - epochs: 30 R2: 0.1664373107364332\n",
      "20 Parameters: batch_size: 50 - epochs: 30 R2: 0.17955910906713735\n",
      "21 Parameters: batch_size: 50 - epochs: 30 R2: 0.17492397696250483\n",
      "22 Parameters: batch_size: 50 - epochs: 40 R2: 0.16773578737097783\n",
      "23 Parameters: batch_size: 50 - epochs: 40 R2: 0.17260644397090918\n",
      "24 Parameters: batch_size: 50 - epochs: 40 R2: 0.17401860373177647\n",
      "25 Parameters: batch_size: 50 - epochs: 50 R2: 0.14864241483622365\n",
      "26 Parameters: batch_size: 50 - epochs: 50 R2: 0.1720556048596602\n",
      "27 Parameters: batch_size: 50 - epochs: 50 R2: 0.18870296421587052\n"
     ]
    }
   ],
   "source": [
    "ResultsData=FunctionFindBestParams(X_train, y_train, X_test, y_test)"
   ]
  },
  {
   "cell_type": "code",
   "execution_count": 96,
   "id": "27536c06",
   "metadata": {},
   "outputs": [
    {
     "data": {
      "text/plain": [
       "<AxesSubplot:xlabel='Parameters'>"
      ]
     },
     "execution_count": 96,
     "metadata": {},
     "output_type": "execute_result"
    },
    {
     "data": {
      "image/png": "[encoded data removed]",
      "text/plain": [
       "<Figure size 1080x288 with 1 Axes>"
      ]
     },
     "metadata": {
      "needs_background": "light"
     },
     "output_type": "display_data"
    }
   ],
   "source": [
    "%matplotlib inline\n",
    "ResultsData.plot(x='Parameters', y='MAE', figsize=(15,4), kind='line')"
   ]
  },
  {
   "cell_type": "code",
   "execution_count": null,
   "id": "fdde5481",
   "metadata": {},
   "outputs": [],
   "source": []
  }
 ],
 "metadata": {
  "kernelspec": {
   "display_name": "Python 3 (ipykernel)",
   "language": "python",
   "name": "python3"
  },
  "language_info": {
   "codemirror_mode": {
    "name": "ipython",
    "version": 3
   },
   "file_extension": ".py",
   "mimetype": "text/x-python",
   "name": "python",
   "nbconvert_exporter": "python",
   "pygments_lexer": "ipython3",
   "version": "3.7.13"
  }
 },
 "nbformat": 4,
 "nbformat_minor": 5
}
