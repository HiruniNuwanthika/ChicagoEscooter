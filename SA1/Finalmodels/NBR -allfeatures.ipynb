{
 "cells": [
  {
   "cell_type": "code",
   "execution_count": 1,
   "id": "d35cff50",
   "metadata": {},
   "outputs": [],
   "source": [
    "import pandas as pd\n",
    "import numpy as np\n",
    "\n",
    "import statsmodels.api as sm\n",
    "from statsmodels.formula.api import glm\n",
    "\n",
    "\n",
    "from sklearn.preprocessing import StandardScaler\n",
    "from sklearn.model_selection import cross_val_score\n",
    "from sklearn.model_selection import train_test_split\n",
    "\n",
    "from sklearn.metrics import r2_score,mean_absolute_error,mean_squared_error"
   ]
  },
  {
   "cell_type": "code",
   "execution_count": null,
   "id": "5147c9f6",
   "metadata": {},
   "outputs": [],
   "source": [
    "# without weather and time"
   ]
  },
  {
   "cell_type": "code",
   "execution_count": 2,
   "id": "e1a93c50",
   "metadata": {},
   "outputs": [],
   "source": [
    "df=pd.read_csv(r'C:\\Melbourne_Escooter\\RealDataset\\FinalResults\\SA1\\Features-trips\\Final\\final version\\DATASET_allfeatures.csv')"
   ]
  },
  {
   "cell_type": "code",
   "execution_count": 3,
   "id": "e80063a2",
   "metadata": {},
   "outputs": [],
   "source": [
    "column=['SA1_CODE21']\n",
    "df=df.drop(column, axis=1)"
   ]
  },
  {
   "cell_type": "code",
   "execution_count": 4,
   "id": "5f8bbd7f",
   "metadata": {},
   "outputs": [
    {
     "data": {
      "text/plain": [
       "Index(['tripDensity', 'date', 'hour', 'rainfall', 'min_temp', 'trainDensity',\n",
       "       'busDensity', 'tramDensity', 'House perc', 'Cafe perc', 'Office perc',\n",
       "       'Shops perc', 'entropy', 'mxi', 'recreationCount', 'campusCount',\n",
       "       'female%', 'male%', 'car owner %', 'no_childern Sa1',\n",
       "       'with u 15 children sa1', 'with no u 15 children sa1',\n",
       "       'populationDensity', '5_14', '15_29', '30_39', '40_49', '50_64',\n",
       "       'abv65'],\n",
       "      dtype='object')"
      ]
     },
     "execution_count": 4,
     "metadata": {},
     "output_type": "execute_result"
    }
   ],
   "source": [
    "df.columns"
   ]
  },
  {
   "cell_type": "code",
   "execution_count": 5,
   "id": "e0433c71",
   "metadata": {},
   "outputs": [],
   "source": [
    "scale= StandardScaler()"
   ]
  },
  {
   "cell_type": "code",
   "execution_count": 6,
   "id": "fe96dd2f",
   "metadata": {},
   "outputs": [],
   "source": [
    "df_sc= scale.fit_transform(df)\n",
    "df_sc=pd.DataFrame(df_sc, columns=df.columns)"
   ]
  },
  {
   "cell_type": "code",
   "execution_count": 7,
   "id": "5812990a",
   "metadata": {},
   "outputs": [],
   "source": [
    "y=df_sc['tripDensity']\n",
    "X=df_sc.drop(['tripDensity'], axis=1)"
   ]
  },
  {
   "cell_type": "code",
   "execution_count": 8,
   "id": "b5a8c3ae",
   "metadata": {},
   "outputs": [],
   "source": [
    "X_train, X_test, y_train, y_test = train_test_split(X, y, test_size=0.2,random_state=24)"
   ]
  },
  {
   "cell_type": "code",
   "execution_count": 9,
   "id": "3050703e",
   "metadata": {},
   "outputs": [
    {
     "name": "stderr",
     "output_type": "stream",
     "text": [
      "C:\\ProgramData\\Anaconda3\\lib\\site-packages\\statsmodels\\genmod\\families\\family.py:1342: RuntimeWarning: divide by zero encountered in true_divide\n",
      "  endog_mu = self._clean(endog / mu)\n"
     ]
    }
   ],
   "source": [
    "nb_training_results=sm.GLM(y_train,X_train,family=sm.families.NegativeBinomial(alpha=0.981766)).fit( method='bfgs',maxiter=10000)"
   ]
  },
  {
   "cell_type": "code",
   "execution_count": 10,
   "id": "83cba20d",
   "metadata": {},
   "outputs": [
    {
     "name": "stdout",
     "output_type": "stream",
     "text": [
      "                 Generalized Linear Model Regression Results                  \n",
      "==============================================================================\n",
      "Dep. Variable:            tripDensity   No. Observations:                45830\n",
      "Model:                            GLM   Df Residuals:                    45802\n",
      "Model Family:        NegativeBinomial   Df Model:                           27\n",
      "Link Function:                    Log   Scale:                          1.0000\n",
      "Method:                          bfgs   Log-Likelihood:                -30328.\n",
      "Date:                Wed, 28 Sep 2022   Deviance:                   8.1228e+05\n",
      "Time:                        21:44:24   Pearson chi2:                 3.51e+04\n",
      "No. Iterations:                     0   Pseudo R-squ. (CS):                nan\n",
      "Covariance Type:            nonrobust                                         \n",
      "=============================================================================================\n",
      "                                coef    std err          z      P>|z|      [0.025      0.975]\n",
      "---------------------------------------------------------------------------------------------\n",
      "date                          0.1078      0.010     10.617      0.000       0.088       0.128\n",
      "hour                          0.1410      0.010     14.721      0.000       0.122       0.160\n",
      "rainfall                     -0.0221      0.010     -2.163      0.031      -0.042      -0.002\n",
      "min_temp                     -0.0424      0.010     -4.387      0.000      -0.061      -0.023\n",
      "trainDensity                 -0.0076      0.009     -0.859      0.390      -0.025       0.010\n",
      "busDensity                    0.0108      0.011      1.010      0.313      -0.010       0.032\n",
      "tramDensity                   0.0978      0.012      7.885      0.000       0.073       0.122\n",
      "House perc                   -0.2173      0.045     -4.791      0.000      -0.306      -0.128\n",
      "Cafe perc                    -0.1518      0.045     -3.408      0.001      -0.239      -0.065\n",
      "Office perc                  -0.0075      0.011     -0.681      0.496      -0.029       0.014\n",
      "Shops perc                    0.0038      0.010      0.368      0.713      -0.017       0.024\n",
      "entropy                      -0.1144      0.018     -6.230      0.000      -0.150      -0.078\n",
      "mxi                          -0.0878      0.018     -4.930      0.000      -0.123      -0.053\n",
      "recreationCount              -0.0195      0.013     -1.511      0.131      -0.045       0.006\n",
      "campusCount                  -0.0188      0.011     -1.793      0.073      -0.039       0.002\n",
      "female%                       0.8450      0.100      8.413      0.000       0.648       1.042\n",
      "male%                         0.8288      0.140      5.904      0.000       0.554       1.104\n",
      "car owner %                  -0.7851      0.073    -10.764      0.000      -0.928      -0.642\n",
      "no_childern Sa1               1.2568      0.168      7.502      0.000       0.928       1.585\n",
      "with u 15 children sa1        5.9163      0.663      8.926      0.000       4.617       7.215\n",
      "with no u 15 children sa1    -2.5261      0.345     -7.318      0.000      -3.203      -1.849\n",
      "populationDensity             0.1470      0.011     13.497      0.000       0.126       0.168\n",
      "5_14                         -0.3120      0.155     -2.018      0.044      -0.615      -0.009\n",
      "15_29                        -3.9277      0.458     -8.577      0.000      -4.825      -3.030\n",
      "30_39                         0.5077      0.109      4.642      0.000       0.293       0.722\n",
      "40_49                        -3.8552      0.488     -7.905      0.000      -4.811      -2.899\n",
      "50_64                        -2.4496      0.296     -8.282      0.000      -3.029      -1.870\n",
      "abv65                        -1.4162      0.153     -9.257      0.000      -1.716      -1.116\n",
      "=============================================================================================\n"
     ]
    },
    {
     "name": "stderr",
     "output_type": "stream",
     "text": [
      "C:\\ProgramData\\Anaconda3\\lib\\site-packages\\statsmodels\\genmod\\families\\family.py:1394: RuntimeWarning: invalid value encountered in log\n",
      "  ll_obs = endog * np.log(self.alpha * mu)\n"
     ]
    }
   ],
   "source": [
    "print(nb_training_results.summary())"
   ]
  },
  {
   "cell_type": "code",
   "execution_count": 11,
   "id": "fd4ec7ae",
   "metadata": {},
   "outputs": [
    {
     "data": {
      "text/plain": [
       "1751     0.825494\n",
       "17875    0.528990\n",
       "14155    0.558417\n",
       "21455    0.761416\n",
       "48542    1.709464\n",
       "           ...   \n",
       "47747    1.121159\n",
       "42168    0.422422\n",
       "25104    1.150999\n",
       "42167    0.896121\n",
       "46817    0.494496\n",
       "Name: mean, Length: 11458, dtype: float64"
      ]
     },
     "execution_count": 11,
     "metadata": {},
     "output_type": "execute_result"
    }
   ],
   "source": [
    "nb_prediction_test=nb_training_results.get_prediction(X_test)\n",
    "nb_summary_frame_test=nb_prediction_test.summary_frame()\n",
    "predicted_test_count=nb_summary_frame_test['mean']\n",
    "predicted_test_count"
   ]
  },
  {
   "cell_type": "code",
   "execution_count": 12,
   "id": "ea7fe656",
   "metadata": {},
   "outputs": [
    {
     "name": "stdout",
     "output_type": "stream",
     "text": [
      "MAE 1.296636\n"
     ]
    }
   ],
   "source": [
    "print(\"MAE %f\" %mean_absolute_error(y_test, predicted_test_count))"
   ]
  },
  {
   "cell_type": "code",
   "execution_count": 13,
   "id": "38fda81f",
   "metadata": {},
   "outputs": [
    {
     "name": "stdout",
     "output_type": "stream",
     "text": [
      "MSE  2.453070\n"
     ]
    }
   ],
   "source": [
    "print(\"MSE  %f\" %mean_squared_error(y_test, predicted_test_count))"
   ]
  },
  {
   "cell_type": "code",
   "execution_count": 14,
   "id": "9b730eea",
   "metadata": {},
   "outputs": [
    {
     "name": "stdout",
     "output_type": "stream",
     "text": [
      "RMSE  1.566228\n"
     ]
    }
   ],
   "source": [
    "import numpy as np\n",
    "print(\"RMSE  %f\" %np.sqrt(mean_squared_error(y_test, predicted_test_count)))"
   ]
  },
  {
   "cell_type": "code",
   "execution_count": 15,
   "id": "c45221c0",
   "metadata": {},
   "outputs": [
    {
     "name": "stdout",
     "output_type": "stream",
     "text": [
      "r2 test -1.785001\n"
     ]
    }
   ],
   "source": [
    "print(\"r2 test %f\" %r2_score(y_test,predicted_test_count))"
   ]
  },
  {
   "cell_type": "code",
   "execution_count": 28,
   "id": "46ab9638",
   "metadata": {},
   "outputs": [],
   "source": [
    "################# with time and weather"
   ]
  }
 ],
 "metadata": {
  "kernelspec": {
   "display_name": "Python 3 (ipykernel)",
   "language": "python",
   "name": "python3"
  },
  "language_info": {
   "codemirror_mode": {
    "name": "ipython",
    "version": 3
   },
   "file_extension": ".py",
   "mimetype": "text/x-python",
   "name": "python",
   "nbconvert_exporter": "python",
   "pygments_lexer": "ipython3",
   "version": "3.7.13"
  }
 },
 "nbformat": 4,
 "nbformat_minor": 5
}
