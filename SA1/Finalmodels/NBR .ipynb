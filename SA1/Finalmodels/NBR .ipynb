{
 "cells": [
  {
   "cell_type": "code",
   "execution_count": 144,
   "id": "d35cff50",
   "metadata": {},
   "outputs": [],
   "source": [
    "import pandas as pd\n",
    "import numpy as np\n",
    "\n",
    "import statsmodels.api as sm\n",
    "from statsmodels.formula.api import glm\n",
    "\n",
    "\n",
    "from sklearn.preprocessing import StandardScaler\n",
    "from sklearn.model_selection import cross_val_score\n",
    "from sklearn.model_selection import train_test_split\n",
    "\n",
    "from sklearn.metrics import r2_score,mean_absolute_error,mean_squared_error\n",
    "\n",
    "\n"
   ]
  },
  {
   "cell_type": "code",
   "execution_count": null,
   "id": "5147c9f6",
   "metadata": {},
   "outputs": [],
   "source": [
    "# without weather and time"
   ]
  },
  {
   "cell_type": "code",
   "execution_count": 145,
   "id": "e1a93c50",
   "metadata": {},
   "outputs": [],
   "source": [
    "df=pd.read_csv(r'C:\\Melbourne_Escooter\\RealDataset\\FinalResults\\SA1\\Features-trips\\Final\\final version\\DATASET_forNBR.csv')"
   ]
  },
  {
   "cell_type": "code",
   "execution_count": 146,
   "id": "e80063a2",
   "metadata": {},
   "outputs": [],
   "source": [
    "column=['SA1_CODE21']\n",
    "df=df.drop(column, axis=1)"
   ]
  },
  {
   "cell_type": "code",
   "execution_count": 147,
   "id": "5f8bbd7f",
   "metadata": {},
   "outputs": [
    {
     "data": {
      "text/plain": [
       "Index(['tripDensity', 'date', 'hour', 'rainfall', 'min_temp', 'trainDensity',\n",
       "       'busDensity', 'tramDensity', 'Cafe perc', 'Office perc', 'Shops perc',\n",
       "       'mxi', 'recreationCount', 'campusCount', 'female%', 'male%',\n",
       "       'populationDensity', '5_14', '15_29', '30_39', '40_49'],\n",
       "      dtype='object')"
      ]
     },
     "execution_count": 147,
     "metadata": {},
     "output_type": "execute_result"
    }
   ],
   "source": [
    "df.columns"
   ]
  },
  {
   "cell_type": "code",
   "execution_count": 148,
   "id": "e0433c71",
   "metadata": {},
   "outputs": [],
   "source": [
    "scale= StandardScaler()"
   ]
  },
  {
   "cell_type": "code",
   "execution_count": 149,
   "id": "fe96dd2f",
   "metadata": {},
   "outputs": [],
   "source": [
    "df_sc= scale.fit_transform(df)\n",
    "df_sc=pd.DataFrame(df_sc, columns=df.columns)"
   ]
  },
  {
   "cell_type": "code",
   "execution_count": 150,
   "id": "5812990a",
   "metadata": {},
   "outputs": [],
   "source": [
    "y=df_sc['tripDensity']\n",
    "X=df_sc.drop(['tripDensity'], axis=1)"
   ]
  },
  {
   "cell_type": "code",
   "execution_count": 151,
   "id": "b5a8c3ae",
   "metadata": {},
   "outputs": [],
   "source": [
    "X_train, X_test, y_train, y_test = train_test_split(X, y, test_size=0.2,random_state=24)"
   ]
  },
  {
   "cell_type": "code",
   "execution_count": 158,
   "id": "3050703e",
   "metadata": {},
   "outputs": [],
   "source": [
    "nb_training_results=sm.GLM(y_train,X_train,family=sm.families.NegativeBinomial(alpha=0.981766)).fit( method='bfgs',maxiter=10000)"
   ]
  },
  {
   "cell_type": "code",
   "execution_count": 159,
   "id": "83cba20d",
   "metadata": {},
   "outputs": [
    {
     "name": "stdout",
     "output_type": "stream",
     "text": [
      "                 Generalized Linear Model Regression Results                  \n",
      "==============================================================================\n",
      "Dep. Variable:            tripDensity   No. Observations:                45830\n",
      "Model:                            GLM   Df Residuals:                    45810\n",
      "Model Family:        NegativeBinomial   Df Model:                           19\n",
      "Link Function:                    Log   Scale:                          1.0000\n",
      "Method:                          bfgs   Log-Likelihood:                -30446.\n",
      "Date:                Wed, 28 Sep 2022   Deviance:                   8.1247e+05\n",
      "Time:                        21:33:08   Pearson chi2:                 3.53e+04\n",
      "No. Iterations:                     0   Pseudo R-squ. (CS):                nan\n",
      "Covariance Type:            nonrobust                                         \n",
      "=====================================================================================\n",
      "                        coef    std err          z      P>|z|      [0.025      0.975]\n",
      "-------------------------------------------------------------------------------------\n",
      "date                  0.1087      0.010     10.738      0.000       0.089       0.129\n",
      "hour                  0.1437      0.010     15.050      0.000       0.125       0.162\n",
      "rainfall             -0.0217      0.010     -2.127      0.033      -0.042      -0.002\n",
      "min_temp             -0.0434      0.010     -4.508      0.000      -0.062      -0.025\n",
      "trainDensity         -0.0051      0.009     -0.578      0.563      -0.022       0.012\n",
      "busDensity           -0.0050      0.010     -0.486      0.627      -0.025       0.015\n",
      "tramDensity           0.0917      0.012      7.889      0.000       0.069       0.114\n",
      "Cafe perc             0.0710      0.011      6.267      0.000       0.049       0.093\n",
      "Office perc           0.0178      0.009      2.100      0.036       0.001       0.035\n",
      "Shops perc            0.0290      0.010      3.024      0.002       0.010       0.048\n",
      "mxi                   0.0300      0.011      2.622      0.009       0.008       0.052\n",
      "recreationCount      -0.0438      0.012     -3.514      0.000      -0.068      -0.019\n",
      "campusCount          -0.0249      0.010     -2.435      0.015      -0.045      -0.005\n",
      "female%              -0.1023      0.023     -4.406      0.000      -0.148      -0.057\n",
      "male%                 0.0736      0.028      2.635      0.008       0.019       0.128\n",
      "populationDensity     0.1867      0.011     17.213      0.000       0.165       0.208\n",
      "5_14                 -0.3985      0.034    -11.781      0.000      -0.465      -0.332\n",
      "15_29                 0.3430      0.030     11.330      0.000       0.284       0.402\n",
      "30_39                -0.3189      0.043     -7.470      0.000      -0.403      -0.235\n",
      "40_49                 0.5006      0.061      8.231      0.000       0.381       0.620\n",
      "=====================================================================================\n"
     ]
    },
    {
     "name": "stderr",
     "output_type": "stream",
     "text": [
      "C:\\ProgramData\\Anaconda3\\lib\\site-packages\\statsmodels\\genmod\\families\\family.py:1394: RuntimeWarning: invalid value encountered in log\n",
      "  ll_obs = endog * np.log(self.alpha * mu)\n"
     ]
    }
   ],
   "source": [
    "print(nb_training_results.summary())"
   ]
  },
  {
   "cell_type": "code",
   "execution_count": 160,
   "id": "fd4ec7ae",
   "metadata": {},
   "outputs": [
    {
     "data": {
      "text/plain": [
       "1751     0.837196\n",
       "17875    0.548386\n",
       "14155    0.702179\n",
       "21455    0.925057\n",
       "48542    1.339913\n",
       "           ...   \n",
       "47747    0.863307\n",
       "42168    0.369961\n",
       "25104    1.049062\n",
       "42167    0.820481\n",
       "46817    0.488738\n",
       "Name: mean, Length: 11458, dtype: float64"
      ]
     },
     "execution_count": 160,
     "metadata": {},
     "output_type": "execute_result"
    }
   ],
   "source": [
    "nb_prediction_test=nb_training_results.get_prediction(X_test)\n",
    "nb_summary_frame_test=nb_prediction_test.summary_frame()\n",
    "predicted_test_count=nb_summary_frame_test['mean']\n",
    "predicted_test_count"
   ]
  },
  {
   "cell_type": "code",
   "execution_count": 161,
   "id": "ea7fe656",
   "metadata": {},
   "outputs": [
    {
     "name": "stdout",
     "output_type": "stream",
     "text": [
      "MAE 1.296247\n"
     ]
    }
   ],
   "source": [
    "print(\"MAE %f\" %mean_absolute_error(y_test, predicted_test_count))"
   ]
  },
  {
   "cell_type": "code",
   "execution_count": 162,
   "id": "38fda81f",
   "metadata": {},
   "outputs": [
    {
     "name": "stdout",
     "output_type": "stream",
     "text": [
      "MSE  2.627030\n"
     ]
    }
   ],
   "source": [
    "print(\"MSE  %f\" %mean_squared_error(y_test, predicted_test_count))"
   ]
  },
  {
   "cell_type": "code",
   "execution_count": 163,
   "id": "9b730eea",
   "metadata": {},
   "outputs": [
    {
     "name": "stdout",
     "output_type": "stream",
     "text": [
      "RMSE  1.620812\n"
     ]
    }
   ],
   "source": [
    "import numpy as np\n",
    "print(\"RMSE  %f\" %np.sqrt(mean_squared_error(y_test, predicted_test_count)))"
   ]
  },
  {
   "cell_type": "code",
   "execution_count": 164,
   "id": "c45221c0",
   "metadata": {},
   "outputs": [
    {
     "name": "stdout",
     "output_type": "stream",
     "text": [
      "r2 test -1.982582\n"
     ]
    }
   ],
   "source": [
    "print(\"r2 test %f\" %r2_score(y_test,predicted_test_count))"
   ]
  },
  {
   "cell_type": "code",
   "execution_count": 28,
   "id": "46ab9638",
   "metadata": {},
   "outputs": [],
   "source": [
    "################# with time and weather"
   ]
  },
  {
   "cell_type": "code",
   "execution_count": 101,
   "id": "80f9dfc6",
   "metadata": {},
   "outputs": [],
   "source": [
    "df=pd.read_csv(r'C:\\Melbourne_Escooter\\RealDataset\\FinalResults\\SA1\\Features-trips\\Final\\final version\\DATASET_forNBR.csv')"
   ]
  },
  {
   "cell_type": "code",
   "execution_count": 102,
   "id": "63dc92b6",
   "metadata": {},
   "outputs": [
    {
     "data": {
      "text/html": [
       "<div>\n",
       "<style scoped>\n",
       "    .dataframe tbody tr th:only-of-type {\n",
       "        vertical-align: middle;\n",
       "    }\n",
       "\n",
       "    .dataframe tbody tr th {\n",
       "        vertical-align: top;\n",
       "    }\n",
       "\n",
       "    .dataframe thead th {\n",
       "        text-align: right;\n",
       "    }\n",
       "</style>\n",
       "<table border=\"1\" class=\"dataframe\">\n",
       "  <thead>\n",
       "    <tr style=\"text-align: right;\">\n",
       "      <th></th>\n",
       "      <th>tripDensity</th>\n",
       "      <th>date</th>\n",
       "      <th>hour</th>\n",
       "      <th>rainfall</th>\n",
       "      <th>min_temp</th>\n",
       "      <th>trainDensity</th>\n",
       "      <th>busDensity</th>\n",
       "      <th>tramDensity</th>\n",
       "      <th>Cafe perc</th>\n",
       "      <th>Office perc</th>\n",
       "      <th>...</th>\n",
       "      <th>mxi</th>\n",
       "      <th>recreationCount</th>\n",
       "      <th>campusCount</th>\n",
       "      <th>female%</th>\n",
       "      <th>male%</th>\n",
       "      <th>populationDensity</th>\n",
       "      <th>5_14</th>\n",
       "      <th>15_29</th>\n",
       "      <th>30_39</th>\n",
       "      <th>40_49</th>\n",
       "    </tr>\n",
       "  </thead>\n",
       "  <tbody>\n",
       "    <tr>\n",
       "      <th>0</th>\n",
       "      <td>0</td>\n",
       "      <td>1</td>\n",
       "      <td>0</td>\n",
       "      <td>0</td>\n",
       "      <td>7.4</td>\n",
       "      <td>0.0</td>\n",
       "      <td>38.684720</td>\n",
       "      <td>19.34236</td>\n",
       "      <td>0.576336</td>\n",
       "      <td>0.022901</td>\n",
       "      <td>...</td>\n",
       "      <td>12.977099</td>\n",
       "      <td>0</td>\n",
       "      <td>0</td>\n",
       "      <td>50.488429</td>\n",
       "      <td>49.511571</td>\n",
       "      <td>7736.044263</td>\n",
       "      <td>14</td>\n",
       "      <td>209</td>\n",
       "      <td>76</td>\n",
       "      <td>29</td>\n",
       "    </tr>\n",
       "    <tr>\n",
       "      <th>1</th>\n",
       "      <td>0</td>\n",
       "      <td>1</td>\n",
       "      <td>1</td>\n",
       "      <td>0</td>\n",
       "      <td>7.4</td>\n",
       "      <td>0.0</td>\n",
       "      <td>38.684720</td>\n",
       "      <td>19.34236</td>\n",
       "      <td>0.576336</td>\n",
       "      <td>0.022901</td>\n",
       "      <td>...</td>\n",
       "      <td>12.977099</td>\n",
       "      <td>0</td>\n",
       "      <td>0</td>\n",
       "      <td>50.488429</td>\n",
       "      <td>49.511571</td>\n",
       "      <td>7736.044263</td>\n",
       "      <td>14</td>\n",
       "      <td>209</td>\n",
       "      <td>76</td>\n",
       "      <td>29</td>\n",
       "    </tr>\n",
       "    <tr>\n",
       "      <th>2</th>\n",
       "      <td>19</td>\n",
       "      <td>1</td>\n",
       "      <td>2</td>\n",
       "      <td>0</td>\n",
       "      <td>7.4</td>\n",
       "      <td>0.0</td>\n",
       "      <td>38.684720</td>\n",
       "      <td>19.34236</td>\n",
       "      <td>0.576336</td>\n",
       "      <td>0.022901</td>\n",
       "      <td>...</td>\n",
       "      <td>12.977099</td>\n",
       "      <td>0</td>\n",
       "      <td>0</td>\n",
       "      <td>50.488429</td>\n",
       "      <td>49.511571</td>\n",
       "      <td>7736.044263</td>\n",
       "      <td>14</td>\n",
       "      <td>209</td>\n",
       "      <td>76</td>\n",
       "      <td>29</td>\n",
       "    </tr>\n",
       "    <tr>\n",
       "      <th>3</th>\n",
       "      <td>0</td>\n",
       "      <td>1</td>\n",
       "      <td>3</td>\n",
       "      <td>0</td>\n",
       "      <td>7.4</td>\n",
       "      <td>0.0</td>\n",
       "      <td>38.684720</td>\n",
       "      <td>19.34236</td>\n",
       "      <td>0.576336</td>\n",
       "      <td>0.022901</td>\n",
       "      <td>...</td>\n",
       "      <td>12.977099</td>\n",
       "      <td>0</td>\n",
       "      <td>0</td>\n",
       "      <td>50.488429</td>\n",
       "      <td>49.511571</td>\n",
       "      <td>7736.044263</td>\n",
       "      <td>14</td>\n",
       "      <td>209</td>\n",
       "      <td>76</td>\n",
       "      <td>29</td>\n",
       "    </tr>\n",
       "    <tr>\n",
       "      <th>4</th>\n",
       "      <td>0</td>\n",
       "      <td>1</td>\n",
       "      <td>4</td>\n",
       "      <td>0</td>\n",
       "      <td>7.4</td>\n",
       "      <td>0.0</td>\n",
       "      <td>38.684720</td>\n",
       "      <td>19.34236</td>\n",
       "      <td>0.576336</td>\n",
       "      <td>0.022901</td>\n",
       "      <td>...</td>\n",
       "      <td>12.977099</td>\n",
       "      <td>0</td>\n",
       "      <td>0</td>\n",
       "      <td>50.488429</td>\n",
       "      <td>49.511571</td>\n",
       "      <td>7736.044263</td>\n",
       "      <td>14</td>\n",
       "      <td>209</td>\n",
       "      <td>76</td>\n",
       "      <td>29</td>\n",
       "    </tr>\n",
       "    <tr>\n",
       "      <th>...</th>\n",
       "      <td>...</td>\n",
       "      <td>...</td>\n",
       "      <td>...</td>\n",
       "      <td>...</td>\n",
       "      <td>...</td>\n",
       "      <td>...</td>\n",
       "      <td>...</td>\n",
       "      <td>...</td>\n",
       "      <td>...</td>\n",
       "      <td>...</td>\n",
       "      <td>...</td>\n",
       "      <td>...</td>\n",
       "      <td>...</td>\n",
       "      <td>...</td>\n",
       "      <td>...</td>\n",
       "      <td>...</td>\n",
       "      <td>...</td>\n",
       "      <td>...</td>\n",
       "      <td>...</td>\n",
       "      <td>...</td>\n",
       "      <td>...</td>\n",
       "    </tr>\n",
       "    <tr>\n",
       "      <th>57283</th>\n",
       "      <td>0</td>\n",
       "      <td>7</td>\n",
       "      <td>19</td>\n",
       "      <td>1</td>\n",
       "      <td>8.0</td>\n",
       "      <td>0.0</td>\n",
       "      <td>46.728972</td>\n",
       "      <td>0.00000</td>\n",
       "      <td>0.803571</td>\n",
       "      <td>0.071429</td>\n",
       "      <td>...</td>\n",
       "      <td>41.071429</td>\n",
       "      <td>0</td>\n",
       "      <td>0</td>\n",
       "      <td>48.352802</td>\n",
       "      <td>51.647198</td>\n",
       "      <td>22251.752340</td>\n",
       "      <td>20</td>\n",
       "      <td>185</td>\n",
       "      <td>138</td>\n",
       "      <td>55</td>\n",
       "    </tr>\n",
       "    <tr>\n",
       "      <th>57284</th>\n",
       "      <td>0</td>\n",
       "      <td>7</td>\n",
       "      <td>20</td>\n",
       "      <td>1</td>\n",
       "      <td>8.0</td>\n",
       "      <td>0.0</td>\n",
       "      <td>46.728972</td>\n",
       "      <td>0.00000</td>\n",
       "      <td>0.803571</td>\n",
       "      <td>0.071429</td>\n",
       "      <td>...</td>\n",
       "      <td>41.071429</td>\n",
       "      <td>0</td>\n",
       "      <td>0</td>\n",
       "      <td>48.352802</td>\n",
       "      <td>51.647198</td>\n",
       "      <td>22251.752340</td>\n",
       "      <td>20</td>\n",
       "      <td>185</td>\n",
       "      <td>138</td>\n",
       "      <td>55</td>\n",
       "    </tr>\n",
       "    <tr>\n",
       "      <th>57285</th>\n",
       "      <td>0</td>\n",
       "      <td>7</td>\n",
       "      <td>21</td>\n",
       "      <td>1</td>\n",
       "      <td>8.0</td>\n",
       "      <td>0.0</td>\n",
       "      <td>46.728972</td>\n",
       "      <td>0.00000</td>\n",
       "      <td>0.803571</td>\n",
       "      <td>0.071429</td>\n",
       "      <td>...</td>\n",
       "      <td>41.071429</td>\n",
       "      <td>0</td>\n",
       "      <td>0</td>\n",
       "      <td>48.352802</td>\n",
       "      <td>51.647198</td>\n",
       "      <td>22251.752340</td>\n",
       "      <td>20</td>\n",
       "      <td>185</td>\n",
       "      <td>138</td>\n",
       "      <td>55</td>\n",
       "    </tr>\n",
       "    <tr>\n",
       "      <th>57286</th>\n",
       "      <td>0</td>\n",
       "      <td>7</td>\n",
       "      <td>22</td>\n",
       "      <td>1</td>\n",
       "      <td>8.0</td>\n",
       "      <td>0.0</td>\n",
       "      <td>46.728972</td>\n",
       "      <td>0.00000</td>\n",
       "      <td>0.803571</td>\n",
       "      <td>0.071429</td>\n",
       "      <td>...</td>\n",
       "      <td>41.071429</td>\n",
       "      <td>0</td>\n",
       "      <td>0</td>\n",
       "      <td>48.352802</td>\n",
       "      <td>51.647198</td>\n",
       "      <td>22251.752340</td>\n",
       "      <td>20</td>\n",
       "      <td>185</td>\n",
       "      <td>138</td>\n",
       "      <td>55</td>\n",
       "    </tr>\n",
       "    <tr>\n",
       "      <th>57287</th>\n",
       "      <td>0</td>\n",
       "      <td>7</td>\n",
       "      <td>23</td>\n",
       "      <td>1</td>\n",
       "      <td>8.0</td>\n",
       "      <td>0.0</td>\n",
       "      <td>46.728972</td>\n",
       "      <td>0.00000</td>\n",
       "      <td>0.803571</td>\n",
       "      <td>0.071429</td>\n",
       "      <td>...</td>\n",
       "      <td>41.071429</td>\n",
       "      <td>0</td>\n",
       "      <td>0</td>\n",
       "      <td>48.352802</td>\n",
       "      <td>51.647198</td>\n",
       "      <td>22251.752340</td>\n",
       "      <td>20</td>\n",
       "      <td>185</td>\n",
       "      <td>138</td>\n",
       "      <td>55</td>\n",
       "    </tr>\n",
       "  </tbody>\n",
       "</table>\n",
       "<p>57288 rows × 21 columns</p>\n",
       "</div>"
      ],
      "text/plain": [
       "       tripDensity  date  hour  rainfall  min_temp  trainDensity  busDensity  \\\n",
       "0                0     1     0         0       7.4           0.0   38.684720   \n",
       "1                0     1     1         0       7.4           0.0   38.684720   \n",
       "2               19     1     2         0       7.4           0.0   38.684720   \n",
       "3                0     1     3         0       7.4           0.0   38.684720   \n",
       "4                0     1     4         0       7.4           0.0   38.684720   \n",
       "...            ...   ...   ...       ...       ...           ...         ...   \n",
       "57283            0     7    19         1       8.0           0.0   46.728972   \n",
       "57284            0     7    20         1       8.0           0.0   46.728972   \n",
       "57285            0     7    21         1       8.0           0.0   46.728972   \n",
       "57286            0     7    22         1       8.0           0.0   46.728972   \n",
       "57287            0     7    23         1       8.0           0.0   46.728972   \n",
       "\n",
       "       tramDensity  Cafe perc  Office perc  ...        mxi  recreationCount  \\\n",
       "0         19.34236   0.576336     0.022901  ...  12.977099                0   \n",
       "1         19.34236   0.576336     0.022901  ...  12.977099                0   \n",
       "2         19.34236   0.576336     0.022901  ...  12.977099                0   \n",
       "3         19.34236   0.576336     0.022901  ...  12.977099                0   \n",
       "4         19.34236   0.576336     0.022901  ...  12.977099                0   \n",
       "...            ...        ...          ...  ...        ...              ...   \n",
       "57283      0.00000   0.803571     0.071429  ...  41.071429                0   \n",
       "57284      0.00000   0.803571     0.071429  ...  41.071429                0   \n",
       "57285      0.00000   0.803571     0.071429  ...  41.071429                0   \n",
       "57286      0.00000   0.803571     0.071429  ...  41.071429                0   \n",
       "57287      0.00000   0.803571     0.071429  ...  41.071429                0   \n",
       "\n",
       "       campusCount    female%      male%  populationDensity  5_14  15_29  \\\n",
       "0                0  50.488429  49.511571        7736.044263    14    209   \n",
       "1                0  50.488429  49.511571        7736.044263    14    209   \n",
       "2                0  50.488429  49.511571        7736.044263    14    209   \n",
       "3                0  50.488429  49.511571        7736.044263    14    209   \n",
       "4                0  50.488429  49.511571        7736.044263    14    209   \n",
       "...            ...        ...        ...                ...   ...    ...   \n",
       "57283            0  48.352802  51.647198       22251.752340    20    185   \n",
       "57284            0  48.352802  51.647198       22251.752340    20    185   \n",
       "57285            0  48.352802  51.647198       22251.752340    20    185   \n",
       "57286            0  48.352802  51.647198       22251.752340    20    185   \n",
       "57287            0  48.352802  51.647198       22251.752340    20    185   \n",
       "\n",
       "       30_39  40_49  \n",
       "0         76     29  \n",
       "1         76     29  \n",
       "2         76     29  \n",
       "3         76     29  \n",
       "4         76     29  \n",
       "...      ...    ...  \n",
       "57283    138     55  \n",
       "57284    138     55  \n",
       "57285    138     55  \n",
       "57286    138     55  \n",
       "57287    138     55  \n",
       "\n",
       "[57288 rows x 21 columns]"
      ]
     },
     "execution_count": 102,
     "metadata": {},
     "output_type": "execute_result"
    }
   ],
   "source": [
    "column=['SA1_CODE21']\n",
    "df_depe=df.drop(column, axis=1)\n",
    "df_depe"
   ]
  },
  {
   "cell_type": "code",
   "execution_count": 103,
   "id": "877b266f",
   "metadata": {},
   "outputs": [],
   "source": [
    "df[\"hour\"].replace({0:1,1:1,2:1,3:2,4:2,5:2,6:3,7:3,8:3,9:4,10:4,11:4,12:5,13:5,14:5,15:6,16:6,17:6,18:7,19:7,20:7,21:8,22:8,23:8}, inplace=True)\n",
    "df[\"date\"].replace({1:1, 2: 1, 3: 1,4: 1,5: 1,6: 2,7: 2}, inplace=True)\n",
    "df['trainDensity'] = df['trainDensity'].map(lambda x: 1 if x>0 else 0)\n",
    "df['campusCount'] = df['campusCount'].map(lambda x: 1 if x>0 else 0)\n",
    "df['recreationCount'] = df['recreationCount'].map(lambda x: 1 if x>0 else 0)\n",
    "df[\"tripDensity\"].replace({0:1}, inplace=True)"
   ]
  },
  {
   "cell_type": "code",
   "execution_count": 93,
   "id": "12d618c4",
   "metadata": {},
   "outputs": [],
   "source": [
    "categorical =['hour','date','rainfall','trainDensity','campusCount','recreationCount']\n",
    "for col in categorical:\n",
    "    df_depe[col]=df_depe[col].astype('category')"
   ]
  },
  {
   "cell_type": "code",
   "execution_count": 94,
   "id": "38e4efe3",
   "metadata": {},
   "outputs": [
    {
     "data": {
      "text/plain": [
       "Index(['date', 'hour', 'rainfall', 'min_temp', 'trainDensity', 'busDensity',\n",
       "       'tramDensity', 'Cafe perc', 'Office perc', 'Shops perc', 'mxi',\n",
       "       'recreationCount', 'campusCount', 'male%', 'populationDensity', '5_14',\n",
       "       '15_29', '30_39', '40_49'],\n",
       "      dtype='object')"
      ]
     },
     "execution_count": 94,
     "metadata": {},
     "output_type": "execute_result"
    }
   ],
   "source": [
    "df_depe.columns"
   ]
  },
  {
   "cell_type": "code",
   "execution_count": 95,
   "id": "865fd47b",
   "metadata": {},
   "outputs": [],
   "source": [
    "df_depe=pd.get_dummies(df_depe, drop_first=True)"
   ]
  },
  {
   "cell_type": "code",
   "execution_count": 96,
   "id": "815aaff1",
   "metadata": {},
   "outputs": [],
   "source": [
    "scale= StandardScaler()\n",
    "df_sc= scale.fit_transform(df_depe)\n",
    "df_sc=pd.DataFrame(df_sc, columns=df_depe.columns)"
   ]
  },
  {
   "cell_type": "code",
   "execution_count": 97,
   "id": "661e15cb",
   "metadata": {},
   "outputs": [],
   "source": [
    "y=df['tripDensity']\n",
    "X=df_sc"
   ]
  },
  {
   "cell_type": "code",
   "execution_count": 98,
   "id": "5849b4b4",
   "metadata": {},
   "outputs": [],
   "source": [
    "X_train, X_test, y_train, y_test = train_test_split(X, y, test_size=0.2,random_state=24)"
   ]
  },
  {
   "cell_type": "code",
   "execution_count": 99,
   "id": "1fed750e",
   "metadata": {},
   "outputs": [
    {
     "name": "stderr",
     "output_type": "stream",
     "text": [
      "C:\\ProgramData\\Anaconda3\\lib\\site-packages\\statsmodels\\genmod\\families\\family.py:1342: RuntimeWarning: divide by zero encountered in true_divide\n",
      "  endog_mu = self._clean(endog / mu)\n"
     ]
    }
   ],
   "source": [
    "nb_training_results=sm.GLM(y_train,X_train,family=sm.families.NegativeBinomial(alpha=1)).fit()"
   ]
  },
  {
   "cell_type": "code",
   "execution_count": 100,
   "id": "6b9a1ee7",
   "metadata": {},
   "outputs": [
    {
     "name": "stdout",
     "output_type": "stream",
     "text": [
      "                 Generalized Linear Model Regression Results                  \n",
      "==============================================================================\n",
      "Dep. Variable:            tripDensity   No. Observations:                45830\n",
      "Model:                            GLM   Df Residuals:                    45805\n",
      "Model Family:        NegativeBinomial   Df Model:                           24\n",
      "Link Function:                    Log   Scale:                          1.0000\n",
      "Method:                          IRLS   Log-Likelihood:                   -inf\n",
      "Date:                Wed, 28 Sep 2022   Deviance:                          inf\n",
      "Time:                        11:38:56   Pearson chi2:                 7.31e+21\n",
      "No. Iterations:                     4   Pseudo R-squ. (CS):               -inf\n",
      "Covariance Type:            nonrobust                                         \n",
      "=====================================================================================\n",
      "                        coef    std err          z      P>|z|      [0.025      0.975]\n",
      "-------------------------------------------------------------------------------------\n",
      "min_temp              1.0497      0.008    127.506      0.000       1.034       1.066\n",
      "busDensity            1.8253      0.007    280.479      0.000       1.813       1.838\n",
      "tramDensity          -0.2081      0.007    -31.356      0.000      -0.221      -0.195\n",
      "Cafe perc             4.5937      0.007    618.628      0.000       4.579       4.608\n",
      "Office perc           3.1336      0.005    628.829      0.000       3.124       3.143\n",
      "Shops perc            0.5343      0.005    104.907      0.000       0.524       0.544\n",
      "mxi                  -4.6510      0.007   -626.887      0.000      -4.666      -4.637\n",
      "male%               122.4031      0.032   3769.692      0.000     122.339     122.467\n",
      "populationDensity    25.8294      0.006   4644.600      0.000      25.818      25.840\n",
      "5_14                 57.1746      0.021   2699.473      0.000      57.133      57.216\n",
      "15_29               -38.5801      0.024  -1623.734      0.000     -38.627     -38.534\n",
      "30_39                38.1007      0.030   1275.707      0.000      38.042      38.159\n",
      "40_49              -120.0425      0.039  -3098.722      0.000    -120.118    -119.967\n",
      "date_2                3.1920      0.009    357.107      0.000       3.175       3.210\n",
      "hour_2               -1.8188      0.008   -220.190      0.000      -1.835      -1.803\n",
      "hour_3               -0.2965      0.008    -36.350      0.000      -0.313      -0.281\n",
      "hour_4                1.4802      0.008    186.035      0.000       1.465       1.496\n",
      "hour_5                1.9074      0.008    238.863      0.000       1.892       1.923\n",
      "hour_6                3.0816      0.008    389.568      0.000       3.066       3.097\n",
      "hour_7                2.7236      0.008    342.245      0.000       2.708       2.739\n",
      "hour_8                1.7961      0.008    223.743      0.000       1.780       1.812\n",
      "rainfall_1           -0.5043      0.007    -71.687      0.000      -0.518      -0.491\n",
      "trainDensity_1        4.2978      0.008    545.200      0.000       4.282       4.313\n",
      "recreationCount_1     3.7313      0.006    599.449      0.000       3.719       3.744\n",
      "campusCount_1         1.3089      0.006    227.626      0.000       1.298       1.320\n",
      "=====================================================================================\n"
     ]
    },
    {
     "name": "stderr",
     "output_type": "stream",
     "text": [
      "C:\\ProgramData\\Anaconda3\\lib\\site-packages\\statsmodels\\genmod\\families\\family.py:1394: RuntimeWarning: divide by zero encountered in log\n",
      "  ll_obs = endog * np.log(self.alpha * mu)\n"
     ]
    }
   ],
   "source": [
    "print(nb_training_results.summary())"
   ]
  },
  {
   "cell_type": "code",
   "execution_count": null,
   "id": "8256f6a8",
   "metadata": {},
   "outputs": [],
   "source": []
  }
 ],
 "metadata": {
  "kernelspec": {
   "display_name": "Python 3 (ipykernel)",
   "language": "python",
   "name": "python3"
  },
  "language_info": {
   "codemirror_mode": {
    "name": "ipython",
    "version": 3
   },
   "file_extension": ".py",
   "mimetype": "text/x-python",
   "name": "python",
   "nbconvert_exporter": "python",
   "pygments_lexer": "ipython3",
   "version": "3.7.13"
  }
 },
 "nbformat": 4,
 "nbformat_minor": 5
}
