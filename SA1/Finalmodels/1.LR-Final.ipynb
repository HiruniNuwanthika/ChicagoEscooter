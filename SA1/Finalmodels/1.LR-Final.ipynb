{
 "cells": [
  {
   "cell_type": "code",
   "execution_count": 29,
   "id": "20381fbf",
   "metadata": {},
   "outputs": [],
   "source": [
    "import pandas as pd\n",
    "import numpy as np\n",
    "\n",
    "from sklearn.preprocessing import StandardScaler\n",
    "\n",
    "import statsmodels.api as sm\n",
    "from statsmodels.formula.api import glm\n",
    "\n",
    "from sklearn.metrics import mean_absolute_error,mean_squared_error, accuracy_score\n",
    "from sklearn.metrics import r2_score\n",
    "from sklearn.metrics import f1_score, roc_auc_score\n",
    "\n",
    "from sklearn.linear_model import LogisticRegression\n",
    "from sklearn.model_selection import cross_val_score\n",
    "from sklearn.model_selection import train_test_split"
   ]
  },
  {
   "cell_type": "markdown",
   "id": "48bc0a32",
   "metadata": {},
   "source": [
    "#### correlated feature removed "
   ]
  },
  {
   "cell_type": "code",
   "execution_count": 30,
   "id": "bf4a662f",
   "metadata": {},
   "outputs": [],
   "source": [
    "df=pd.read_csv(r'C:\\Melbourne_Escooter\\RealDataset\\FinalResults\\SA1\\Features-trips\\Final\\final version\\AllFeatures-original2.csv')"
   ]
  },
  {
   "cell_type": "code",
   "execution_count": 31,
   "id": "770cfeb8",
   "metadata": {},
   "outputs": [],
   "source": [
    "df.fillna(0, inplace=True)"
   ]
  },
  {
   "cell_type": "code",
   "execution_count": 32,
   "id": "2de13002",
   "metadata": {},
   "outputs": [
    {
     "data": {
      "text/html": [
       "<div>\n",
       "<style scoped>\n",
       "    .dataframe tbody tr th:only-of-type {\n",
       "        vertical-align: middle;\n",
       "    }\n",
       "\n",
       "    .dataframe tbody tr th {\n",
       "        vertical-align: top;\n",
       "    }\n",
       "\n",
       "    .dataframe thead th {\n",
       "        text-align: right;\n",
       "    }\n",
       "</style>\n",
       "<table border=\"1\" class=\"dataframe\">\n",
       "  <thead>\n",
       "    <tr style=\"text-align: right;\">\n",
       "      <th></th>\n",
       "      <th>SA1_CODE21</th>\n",
       "      <th>date</th>\n",
       "      <th>hour</th>\n",
       "      <th>trainDensity</th>\n",
       "      <th>busDensity</th>\n",
       "      <th>tramDensity</th>\n",
       "      <th>Cafe perc</th>\n",
       "      <th>Office perc</th>\n",
       "      <th>Shops perc</th>\n",
       "      <th>mxi</th>\n",
       "      <th>recreationCount</th>\n",
       "      <th>campusCount</th>\n",
       "      <th>5-14 %</th>\n",
       "      <th>30-39 %</th>\n",
       "      <th>40-49 %</th>\n",
       "      <th>50-64 %</th>\n",
       "      <th>Population density 2021</th>\n",
       "      <th>rainfall</th>\n",
       "      <th>min_temp</th>\n",
       "    </tr>\n",
       "  </thead>\n",
       "  <tbody>\n",
       "    <tr>\n",
       "      <th>0</th>\n",
       "      <td>20604111702</td>\n",
       "      <td>1</td>\n",
       "      <td>0</td>\n",
       "      <td>0.0</td>\n",
       "      <td>38.684720</td>\n",
       "      <td>19.34236</td>\n",
       "      <td>0.576336</td>\n",
       "      <td>0.022901</td>\n",
       "      <td>0.030534</td>\n",
       "      <td>12.977099</td>\n",
       "      <td>0</td>\n",
       "      <td>0</td>\n",
       "      <td>3.536138</td>\n",
       "      <td>19.330746</td>\n",
       "      <td>7.422579</td>\n",
       "      <td>8.152377</td>\n",
       "      <td>9456.2</td>\n",
       "      <td>0</td>\n",
       "      <td>7.4</td>\n",
       "    </tr>\n",
       "    <tr>\n",
       "      <th>1</th>\n",
       "      <td>20604111702</td>\n",
       "      <td>1</td>\n",
       "      <td>1</td>\n",
       "      <td>0.0</td>\n",
       "      <td>38.684720</td>\n",
       "      <td>19.34236</td>\n",
       "      <td>0.576336</td>\n",
       "      <td>0.022901</td>\n",
       "      <td>0.030534</td>\n",
       "      <td>12.977099</td>\n",
       "      <td>0</td>\n",
       "      <td>0</td>\n",
       "      <td>3.536138</td>\n",
       "      <td>19.330746</td>\n",
       "      <td>7.422579</td>\n",
       "      <td>8.152377</td>\n",
       "      <td>9456.2</td>\n",
       "      <td>0</td>\n",
       "      <td>7.4</td>\n",
       "    </tr>\n",
       "    <tr>\n",
       "      <th>2</th>\n",
       "      <td>20604111702</td>\n",
       "      <td>1</td>\n",
       "      <td>2</td>\n",
       "      <td>0.0</td>\n",
       "      <td>38.684720</td>\n",
       "      <td>19.34236</td>\n",
       "      <td>0.576336</td>\n",
       "      <td>0.022901</td>\n",
       "      <td>0.030534</td>\n",
       "      <td>12.977099</td>\n",
       "      <td>0</td>\n",
       "      <td>0</td>\n",
       "      <td>3.536138</td>\n",
       "      <td>19.330746</td>\n",
       "      <td>7.422579</td>\n",
       "      <td>8.152377</td>\n",
       "      <td>9456.2</td>\n",
       "      <td>0</td>\n",
       "      <td>7.4</td>\n",
       "    </tr>\n",
       "    <tr>\n",
       "      <th>3</th>\n",
       "      <td>20604111702</td>\n",
       "      <td>1</td>\n",
       "      <td>3</td>\n",
       "      <td>0.0</td>\n",
       "      <td>38.684720</td>\n",
       "      <td>19.34236</td>\n",
       "      <td>0.576336</td>\n",
       "      <td>0.022901</td>\n",
       "      <td>0.030534</td>\n",
       "      <td>12.977099</td>\n",
       "      <td>0</td>\n",
       "      <td>0</td>\n",
       "      <td>3.536138</td>\n",
       "      <td>19.330746</td>\n",
       "      <td>7.422579</td>\n",
       "      <td>8.152377</td>\n",
       "      <td>9456.2</td>\n",
       "      <td>0</td>\n",
       "      <td>7.4</td>\n",
       "    </tr>\n",
       "    <tr>\n",
       "      <th>4</th>\n",
       "      <td>20604111702</td>\n",
       "      <td>1</td>\n",
       "      <td>4</td>\n",
       "      <td>0.0</td>\n",
       "      <td>38.684720</td>\n",
       "      <td>19.34236</td>\n",
       "      <td>0.576336</td>\n",
       "      <td>0.022901</td>\n",
       "      <td>0.030534</td>\n",
       "      <td>12.977099</td>\n",
       "      <td>0</td>\n",
       "      <td>0</td>\n",
       "      <td>3.536138</td>\n",
       "      <td>19.330746</td>\n",
       "      <td>7.422579</td>\n",
       "      <td>8.152377</td>\n",
       "      <td>9456.2</td>\n",
       "      <td>0</td>\n",
       "      <td>7.4</td>\n",
       "    </tr>\n",
       "    <tr>\n",
       "      <th>...</th>\n",
       "      <td>...</td>\n",
       "      <td>...</td>\n",
       "      <td>...</td>\n",
       "      <td>...</td>\n",
       "      <td>...</td>\n",
       "      <td>...</td>\n",
       "      <td>...</td>\n",
       "      <td>...</td>\n",
       "      <td>...</td>\n",
       "      <td>...</td>\n",
       "      <td>...</td>\n",
       "      <td>...</td>\n",
       "      <td>...</td>\n",
       "      <td>...</td>\n",
       "      <td>...</td>\n",
       "      <td>...</td>\n",
       "      <td>...</td>\n",
       "      <td>...</td>\n",
       "      <td>...</td>\n",
       "    </tr>\n",
       "    <tr>\n",
       "      <th>56779</th>\n",
       "      <td>20604151016</td>\n",
       "      <td>7</td>\n",
       "      <td>19</td>\n",
       "      <td>0.0</td>\n",
       "      <td>46.728972</td>\n",
       "      <td>0.00000</td>\n",
       "      <td>0.803571</td>\n",
       "      <td>0.071429</td>\n",
       "      <td>0.035714</td>\n",
       "      <td>41.071429</td>\n",
       "      <td>0</td>\n",
       "      <td>0</td>\n",
       "      <td>1.813717</td>\n",
       "      <td>34.053583</td>\n",
       "      <td>13.562667</td>\n",
       "      <td>0.000000</td>\n",
       "      <td>9238.5</td>\n",
       "      <td>1</td>\n",
       "      <td>8.0</td>\n",
       "    </tr>\n",
       "    <tr>\n",
       "      <th>56780</th>\n",
       "      <td>20604151016</td>\n",
       "      <td>7</td>\n",
       "      <td>20</td>\n",
       "      <td>0.0</td>\n",
       "      <td>46.728972</td>\n",
       "      <td>0.00000</td>\n",
       "      <td>0.803571</td>\n",
       "      <td>0.071429</td>\n",
       "      <td>0.035714</td>\n",
       "      <td>41.071429</td>\n",
       "      <td>0</td>\n",
       "      <td>0</td>\n",
       "      <td>1.813717</td>\n",
       "      <td>34.053583</td>\n",
       "      <td>13.562667</td>\n",
       "      <td>0.000000</td>\n",
       "      <td>9238.5</td>\n",
       "      <td>1</td>\n",
       "      <td>8.0</td>\n",
       "    </tr>\n",
       "    <tr>\n",
       "      <th>56781</th>\n",
       "      <td>20604151016</td>\n",
       "      <td>7</td>\n",
       "      <td>21</td>\n",
       "      <td>0.0</td>\n",
       "      <td>46.728972</td>\n",
       "      <td>0.00000</td>\n",
       "      <td>0.803571</td>\n",
       "      <td>0.071429</td>\n",
       "      <td>0.035714</td>\n",
       "      <td>41.071429</td>\n",
       "      <td>0</td>\n",
       "      <td>0</td>\n",
       "      <td>1.813717</td>\n",
       "      <td>34.053583</td>\n",
       "      <td>13.562667</td>\n",
       "      <td>0.000000</td>\n",
       "      <td>9238.5</td>\n",
       "      <td>1</td>\n",
       "      <td>8.0</td>\n",
       "    </tr>\n",
       "    <tr>\n",
       "      <th>56782</th>\n",
       "      <td>20604151016</td>\n",
       "      <td>7</td>\n",
       "      <td>22</td>\n",
       "      <td>0.0</td>\n",
       "      <td>46.728972</td>\n",
       "      <td>0.00000</td>\n",
       "      <td>0.803571</td>\n",
       "      <td>0.071429</td>\n",
       "      <td>0.035714</td>\n",
       "      <td>41.071429</td>\n",
       "      <td>0</td>\n",
       "      <td>0</td>\n",
       "      <td>1.813717</td>\n",
       "      <td>34.053583</td>\n",
       "      <td>13.562667</td>\n",
       "      <td>0.000000</td>\n",
       "      <td>9238.5</td>\n",
       "      <td>1</td>\n",
       "      <td>8.0</td>\n",
       "    </tr>\n",
       "    <tr>\n",
       "      <th>56783</th>\n",
       "      <td>20604151016</td>\n",
       "      <td>7</td>\n",
       "      <td>23</td>\n",
       "      <td>0.0</td>\n",
       "      <td>46.728972</td>\n",
       "      <td>0.00000</td>\n",
       "      <td>0.803571</td>\n",
       "      <td>0.071429</td>\n",
       "      <td>0.035714</td>\n",
       "      <td>41.071429</td>\n",
       "      <td>0</td>\n",
       "      <td>0</td>\n",
       "      <td>1.813717</td>\n",
       "      <td>34.053583</td>\n",
       "      <td>13.562667</td>\n",
       "      <td>0.000000</td>\n",
       "      <td>9238.5</td>\n",
       "      <td>1</td>\n",
       "      <td>8.0</td>\n",
       "    </tr>\n",
       "  </tbody>\n",
       "</table>\n",
       "<p>56784 rows × 19 columns</p>\n",
       "</div>"
      ],
      "text/plain": [
       "        SA1_CODE21  date  hour  trainDensity  busDensity  tramDensity  \\\n",
       "0      20604111702     1     0           0.0   38.684720     19.34236   \n",
       "1      20604111702     1     1           0.0   38.684720     19.34236   \n",
       "2      20604111702     1     2           0.0   38.684720     19.34236   \n",
       "3      20604111702     1     3           0.0   38.684720     19.34236   \n",
       "4      20604111702     1     4           0.0   38.684720     19.34236   \n",
       "...            ...   ...   ...           ...         ...          ...   \n",
       "56779  20604151016     7    19           0.0   46.728972      0.00000   \n",
       "56780  20604151016     7    20           0.0   46.728972      0.00000   \n",
       "56781  20604151016     7    21           0.0   46.728972      0.00000   \n",
       "56782  20604151016     7    22           0.0   46.728972      0.00000   \n",
       "56783  20604151016     7    23           0.0   46.728972      0.00000   \n",
       "\n",
       "       Cafe perc  Office perc  Shops perc        mxi  recreationCount  \\\n",
       "0       0.576336     0.022901    0.030534  12.977099                0   \n",
       "1       0.576336     0.022901    0.030534  12.977099                0   \n",
       "2       0.576336     0.022901    0.030534  12.977099                0   \n",
       "3       0.576336     0.022901    0.030534  12.977099                0   \n",
       "4       0.576336     0.022901    0.030534  12.977099                0   \n",
       "...          ...          ...         ...        ...              ...   \n",
       "56779   0.803571     0.071429    0.035714  41.071429                0   \n",
       "56780   0.803571     0.071429    0.035714  41.071429                0   \n",
       "56781   0.803571     0.071429    0.035714  41.071429                0   \n",
       "56782   0.803571     0.071429    0.035714  41.071429                0   \n",
       "56783   0.803571     0.071429    0.035714  41.071429                0   \n",
       "\n",
       "       campusCount    5-14 %    30-39 %    40-49 %   50-64 %  \\\n",
       "0                0  3.536138  19.330746   7.422579  8.152377   \n",
       "1                0  3.536138  19.330746   7.422579  8.152377   \n",
       "2                0  3.536138  19.330746   7.422579  8.152377   \n",
       "3                0  3.536138  19.330746   7.422579  8.152377   \n",
       "4                0  3.536138  19.330746   7.422579  8.152377   \n",
       "...            ...       ...        ...        ...       ...   \n",
       "56779            0  1.813717  34.053583  13.562667  0.000000   \n",
       "56780            0  1.813717  34.053583  13.562667  0.000000   \n",
       "56781            0  1.813717  34.053583  13.562667  0.000000   \n",
       "56782            0  1.813717  34.053583  13.562667  0.000000   \n",
       "56783            0  1.813717  34.053583  13.562667  0.000000   \n",
       "\n",
       "       Population density 2021  rainfall  min_temp  \n",
       "0                       9456.2         0       7.4  \n",
       "1                       9456.2         0       7.4  \n",
       "2                       9456.2         0       7.4  \n",
       "3                       9456.2         0       7.4  \n",
       "4                       9456.2         0       7.4  \n",
       "...                        ...       ...       ...  \n",
       "56779                   9238.5         1       8.0  \n",
       "56780                   9238.5         1       8.0  \n",
       "56781                   9238.5         1       8.0  \n",
       "56782                   9238.5         1       8.0  \n",
       "56783                   9238.5         1       8.0  \n",
       "\n",
       "[56784 rows x 19 columns]"
      ]
     },
     "execution_count": 32,
     "metadata": {},
     "output_type": "execute_result"
    }
   ],
   "source": [
    "column=['tripDensity','House perc','entropy','15-29 %','above65 %','female%','car owner %','male%','with no u 15 children sa1','with u 15 children sa1','no_childern Sa1']\n",
    "df_depe=df.drop(column, axis=1)\n",
    "df_depe"
   ]
  },
  {
   "cell_type": "code",
   "execution_count": 33,
   "id": "aeacad11",
   "metadata": {},
   "outputs": [],
   "source": [
    "df_depe=df_depe.drop(['SA1_CODE21'], axis=1)"
   ]
  },
  {
   "cell_type": "code",
   "execution_count": 34,
   "id": "d4229bb8",
   "metadata": {},
   "outputs": [],
   "source": [
    "df_depe[\"hour\"].replace({0:1,1:1,2:1,3:2,4:2,5:2,6:3,7:3,8:3,9:4,10:4,11:4,12:5,13:5,14:5,15:6,16:6,17:6,18:7,19:7,20:7,21:8,22:8,23:8}, inplace=True)\n",
    "df_depe[\"date\"].replace({1:1,2: 1, 3: 1,4: 1,5: 1,6: 2,7: 2}, inplace=True)\n",
    "df_depe['trainDensity'] = df['trainDensity'].map(lambda x: 1 if x>0 else 0)"
   ]
  },
  {
   "cell_type": "code",
   "execution_count": 35,
   "id": "2e1cb078",
   "metadata": {},
   "outputs": [],
   "source": [
    "categorical =['hour','date','rainfall','trainDensity']\n",
    "for col in categorical:\n",
    "    df_depe[col]=df_depe[col].astype('category')"
   ]
  },
  {
   "cell_type": "code",
   "execution_count": 36,
   "id": "75b6e3e0",
   "metadata": {},
   "outputs": [],
   "source": [
    "df_depe=pd.get_dummies(df_depe, drop_first=True)\n"
   ]
  },
  {
   "cell_type": "code",
   "execution_count": 37,
   "id": "dffa5987",
   "metadata": {},
   "outputs": [
    {
     "data": {
      "text/plain": [
       "Index(['busDensity', 'tramDensity', 'Cafe perc', 'Office perc', 'Shops perc',\n",
       "       'mxi', 'recreationCount', 'campusCount', '5-14 %', '30-39 %', '40-49 %',\n",
       "       '50-64 %', 'Population density 2021', 'min_temp', 'date_2', 'hour_2',\n",
       "       'hour_3', 'hour_4', 'hour_5', 'hour_6', 'hour_7', 'hour_8',\n",
       "       'trainDensity_1', 'rainfall_1'],\n",
       "      dtype='object')"
      ]
     },
     "execution_count": 37,
     "metadata": {},
     "output_type": "execute_result"
    }
   ],
   "source": [
    "df_depe.columns"
   ]
  },
  {
   "cell_type": "code",
   "execution_count": 38,
   "id": "77cd87b3",
   "metadata": {},
   "outputs": [],
   "source": [
    "scale= StandardScaler()\n",
    "df_sc= scale.fit_transform(df_depe)\n",
    "df_sc=pd.DataFrame(df_sc, columns=df_depe.columns)"
   ]
  },
  {
   "cell_type": "code",
   "execution_count": 39,
   "id": "7e0522e4",
   "metadata": {},
   "outputs": [],
   "source": [
    "df['tripDensity'] = df['tripDensity'].map(lambda x: 1 if x>49.0 else 0)\n",
    "df['tripDensity']=df['tripDensity'].astype('category')"
   ]
  },
  {
   "cell_type": "code",
   "execution_count": 40,
   "id": "516687e6",
   "metadata": {},
   "outputs": [],
   "source": [
    "y=df['tripDensity']\n",
    "X=df_sc"
   ]
  },
  {
   "cell_type": "code",
   "execution_count": 54,
   "id": "27bd1ced",
   "metadata": {},
   "outputs": [],
   "source": [
    "from sklearn.model_selection import train_test_split\n",
    "X_train, X_test, y_train, y_test = train_test_split(X, y, test_size=0.2)"
   ]
  },
  {
   "cell_type": "code",
   "execution_count": 55,
   "id": "014a3b57",
   "metadata": {},
   "outputs": [],
   "source": [
    "from sklearn.linear_model import LogisticRegression\n",
    "clf = LogisticRegression(C=1,random_state=42,max_iter=1000)"
   ]
  },
  {
   "cell_type": "code",
   "execution_count": 56,
   "id": "e4f5d669",
   "metadata": {},
   "outputs": [],
   "source": [
    "model = clf.fit(X_train, y_train)"
   ]
  },
  {
   "cell_type": "code",
   "execution_count": 44,
   "id": "8ab2d04d",
   "metadata": {},
   "outputs": [],
   "source": [
    "ypredict = clf.predict(X_test)"
   ]
  },
  {
   "cell_type": "code",
   "execution_count": 45,
   "id": "c5a49e1d",
   "metadata": {},
   "outputs": [
    {
     "name": "stdout",
     "output_type": "stream",
     "text": [
      "MAE 0.197059\n"
     ]
    }
   ],
   "source": [
    "print(\"MAE %f\" %mean_absolute_error(y_test, ypredict))\n"
   ]
  },
  {
   "cell_type": "code",
   "execution_count": 46,
   "id": "7cd7808e",
   "metadata": {},
   "outputs": [
    {
     "name": "stdout",
     "output_type": "stream",
     "text": [
      "MSE  0.197059\n"
     ]
    }
   ],
   "source": [
    "print(\"MSE  %f\" %mean_squared_error(y_test, ypredict))"
   ]
  },
  {
   "cell_type": "code",
   "execution_count": 47,
   "id": "87671a5c",
   "metadata": {},
   "outputs": [
    {
     "name": "stdout",
     "output_type": "stream",
     "text": [
      "RMSE  0.443913\n"
     ]
    }
   ],
   "source": [
    "import numpy as np\n",
    "print(\"RMSE  %f\" %np.sqrt(mean_squared_error(y_test, ypredict)))"
   ]
  },
  {
   "cell_type": "code",
   "execution_count": 48,
   "id": "f2acf02d",
   "metadata": {},
   "outputs": [
    {
     "data": {
      "text/plain": [
       "0.2428958051420839"
      ]
     },
     "execution_count": 48,
     "metadata": {},
     "output_type": "execute_result"
    }
   ],
   "source": [
    "f1_score(y_test, ypredict)"
   ]
  },
  {
   "cell_type": "code",
   "execution_count": 49,
   "id": "3101f89d",
   "metadata": {},
   "outputs": [
    {
     "name": "stdout",
     "output_type": "stream",
     "text": [
      "0.7758328461054573\n"
     ]
    }
   ],
   "source": [
    "y_pred_proba = clf.predict_proba(X_test)[::,1]\n",
    "auc = roc_auc_score(y_test, y_pred_proba)\n",
    "print(auc)"
   ]
  },
  {
   "cell_type": "code",
   "execution_count": 50,
   "id": "fe145e02",
   "metadata": {},
   "outputs": [],
   "source": [
    "import statsmodels.api as sm\n",
    "X_train =sm.add_constant(X_train)"
   ]
  },
  {
   "cell_type": "code",
   "execution_count": 51,
   "id": "c4cc22a2",
   "metadata": {},
   "outputs": [],
   "source": [
    "model=sm.Logit(y_train,X_train)"
   ]
  },
  {
   "cell_type": "code",
   "execution_count": 52,
   "id": "050a45d0",
   "metadata": {},
   "outputs": [
    {
     "name": "stdout",
     "output_type": "stream",
     "text": [
      "Optimization terminated successfully.\n",
      "         Current function value: 0.415796\n",
      "         Iterations 7\n"
     ]
    }
   ],
   "source": [
    "result = model.fit()"
   ]
  },
  {
   "cell_type": "code",
   "execution_count": 53,
   "id": "90f1dca9",
   "metadata": {},
   "outputs": [
    {
     "data": {
      "text/html": [
       "<table class=\"simpletable\">\n",
       "<caption>Logit Regression Results</caption>\n",
       "<tr>\n",
       "  <th>Dep. Variable:</th>      <td>tripDensity</td>   <th>  No. Observations:  </th>  <td> 45427</td> \n",
       "</tr>\n",
       "<tr>\n",
       "  <th>Model:</th>                 <td>Logit</td>      <th>  Df Residuals:      </th>  <td> 45402</td> \n",
       "</tr>\n",
       "<tr>\n",
       "  <th>Method:</th>                 <td>MLE</td>       <th>  Df Model:          </th>  <td>    24</td> \n",
       "</tr>\n",
       "<tr>\n",
       "  <th>Date:</th>            <td>Sat, 24 Sep 2022</td> <th>  Pseudo R-squ.:     </th>  <td>0.1614</td> \n",
       "</tr>\n",
       "<tr>\n",
       "  <th>Time:</th>                <td>16:14:17</td>     <th>  Log-Likelihood:    </th> <td> -18888.</td>\n",
       "</tr>\n",
       "<tr>\n",
       "  <th>converged:</th>             <td>True</td>       <th>  LL-Null:           </th> <td> -22523.</td>\n",
       "</tr>\n",
       "<tr>\n",
       "  <th>Covariance Type:</th>     <td>nonrobust</td>    <th>  LLR p-value:       </th>  <td> 0.000</td> \n",
       "</tr>\n",
       "</table>\n",
       "<table class=\"simpletable\">\n",
       "<tr>\n",
       "             <td></td>                <th>coef</th>     <th>std err</th>      <th>z</th>      <th>P>|z|</th>  <th>[0.025</th>    <th>0.975]</th>  \n",
       "</tr>\n",
       "<tr>\n",
       "  <th>const</th>                   <td>   -1.7993</td> <td>    0.016</td> <td> -110.446</td> <td> 0.000</td> <td>   -1.831</td> <td>   -1.767</td>\n",
       "</tr>\n",
       "<tr>\n",
       "  <th>busDensity</th>              <td>   -0.1458</td> <td>    0.014</td> <td>  -10.318</td> <td> 0.000</td> <td>   -0.173</td> <td>   -0.118</td>\n",
       "</tr>\n",
       "<tr>\n",
       "  <th>tramDensity</th>             <td>    0.2196</td> <td>    0.015</td> <td>   15.023</td> <td> 0.000</td> <td>    0.191</td> <td>    0.248</td>\n",
       "</tr>\n",
       "<tr>\n",
       "  <th>Cafe perc</th>               <td>    0.4131</td> <td>    0.016</td> <td>   26.133</td> <td> 0.000</td> <td>    0.382</td> <td>    0.444</td>\n",
       "</tr>\n",
       "<tr>\n",
       "  <th>Office perc</th>             <td>    0.1330</td> <td>    0.011</td> <td>   12.013</td> <td> 0.000</td> <td>    0.111</td> <td>    0.155</td>\n",
       "</tr>\n",
       "<tr>\n",
       "  <th>Shops perc</th>              <td>    0.1542</td> <td>    0.011</td> <td>   13.431</td> <td> 0.000</td> <td>    0.132</td> <td>    0.177</td>\n",
       "</tr>\n",
       "<tr>\n",
       "  <th>mxi</th>                     <td>    0.2661</td> <td>    0.019</td> <td>   13.979</td> <td> 0.000</td> <td>    0.229</td> <td>    0.303</td>\n",
       "</tr>\n",
       "<tr>\n",
       "  <th>recreationCount</th>         <td>   -0.2826</td> <td>    0.029</td> <td>   -9.831</td> <td> 0.000</td> <td>   -0.339</td> <td>   -0.226</td>\n",
       "</tr>\n",
       "<tr>\n",
       "  <th>campusCount</th>             <td>   -0.0560</td> <td>    0.013</td> <td>   -4.380</td> <td> 0.000</td> <td>   -0.081</td> <td>   -0.031</td>\n",
       "</tr>\n",
       "<tr>\n",
       "  <th>5-14 %</th>                  <td>   -0.2369</td> <td>    0.023</td> <td>  -10.340</td> <td> 0.000</td> <td>   -0.282</td> <td>   -0.192</td>\n",
       "</tr>\n",
       "<tr>\n",
       "  <th>30-39 %</th>                 <td>    0.3681</td> <td>    0.021</td> <td>   17.880</td> <td> 0.000</td> <td>    0.328</td> <td>    0.408</td>\n",
       "</tr>\n",
       "<tr>\n",
       "  <th>40-49 %</th>                 <td>   -0.3941</td> <td>    0.031</td> <td>  -12.726</td> <td> 0.000</td> <td>   -0.455</td> <td>   -0.333</td>\n",
       "</tr>\n",
       "<tr>\n",
       "  <th>50-64 %</th>                 <td>   -0.0213</td> <td>    0.021</td> <td>   -1.023</td> <td> 0.306</td> <td>   -0.062</td> <td>    0.020</td>\n",
       "</tr>\n",
       "<tr>\n",
       "  <th>Population density 2021</th> <td>    0.1083</td> <td>    0.019</td> <td>    5.612</td> <td> 0.000</td> <td>    0.070</td> <td>    0.146</td>\n",
       "</tr>\n",
       "<tr>\n",
       "  <th>min_temp</th>                <td>    0.1703</td> <td>    0.018</td> <td>    9.407</td> <td> 0.000</td> <td>    0.135</td> <td>    0.206</td>\n",
       "</tr>\n",
       "<tr>\n",
       "  <th>date_2</th>                  <td>    0.3835</td> <td>    0.019</td> <td>   19.719</td> <td> 0.000</td> <td>    0.345</td> <td>    0.422</td>\n",
       "</tr>\n",
       "<tr>\n",
       "  <th>hour_2</th>                  <td>   -0.2909</td> <td>    0.020</td> <td>  -14.313</td> <td> 0.000</td> <td>   -0.331</td> <td>   -0.251</td>\n",
       "</tr>\n",
       "<tr>\n",
       "  <th>hour_3</th>                  <td>   -0.1682</td> <td>    0.019</td> <td>   -8.906</td> <td> 0.000</td> <td>   -0.205</td> <td>   -0.131</td>\n",
       "</tr>\n",
       "<tr>\n",
       "  <th>hour_4</th>                  <td>    0.0170</td> <td>    0.017</td> <td>    0.981</td> <td> 0.327</td> <td>   -0.017</td> <td>    0.051</td>\n",
       "</tr>\n",
       "<tr>\n",
       "  <th>hour_5</th>                  <td>    0.1295</td> <td>    0.017</td> <td>    7.724</td> <td> 0.000</td> <td>    0.097</td> <td>    0.162</td>\n",
       "</tr>\n",
       "<tr>\n",
       "  <th>hour_6</th>                  <td>    0.2282</td> <td>    0.016</td> <td>   13.928</td> <td> 0.000</td> <td>    0.196</td> <td>    0.260</td>\n",
       "</tr>\n",
       "<tr>\n",
       "  <th>hour_7</th>                  <td>    0.1798</td> <td>    0.017</td> <td>   10.831</td> <td> 0.000</td> <td>    0.147</td> <td>    0.212</td>\n",
       "</tr>\n",
       "<tr>\n",
       "  <th>hour_8</th>                  <td>    0.1801</td> <td>    0.016</td> <td>   10.918</td> <td> 0.000</td> <td>    0.148</td> <td>    0.212</td>\n",
       "</tr>\n",
       "<tr>\n",
       "  <th>trainDensity_1</th>          <td>   -0.0748</td> <td>    0.015</td> <td>   -5.040</td> <td> 0.000</td> <td>   -0.104</td> <td>   -0.046</td>\n",
       "</tr>\n",
       "<tr>\n",
       "  <th>rainfall_1</th>              <td>   -0.1312</td> <td>    0.015</td> <td>   -8.518</td> <td> 0.000</td> <td>   -0.161</td> <td>   -0.101</td>\n",
       "</tr>\n",
       "</table>"
      ],
      "text/plain": [
       "<class 'statsmodels.iolib.summary.Summary'>\n",
       "\"\"\"\n",
       "                           Logit Regression Results                           \n",
       "==============================================================================\n",
       "Dep. Variable:            tripDensity   No. Observations:                45427\n",
       "Model:                          Logit   Df Residuals:                    45402\n",
       "Method:                           MLE   Df Model:                           24\n",
       "Date:                Sat, 24 Sep 2022   Pseudo R-squ.:                  0.1614\n",
       "Time:                        16:14:17   Log-Likelihood:                -18888.\n",
       "converged:                       True   LL-Null:                       -22523.\n",
       "Covariance Type:            nonrobust   LLR p-value:                     0.000\n",
       "===========================================================================================\n",
       "                              coef    std err          z      P>|z|      [0.025      0.975]\n",
       "-------------------------------------------------------------------------------------------\n",
       "const                      -1.7993      0.016   -110.446      0.000      -1.831      -1.767\n",
       "busDensity                 -0.1458      0.014    -10.318      0.000      -0.173      -0.118\n",
       "tramDensity                 0.2196      0.015     15.023      0.000       0.191       0.248\n",
       "Cafe perc                   0.4131      0.016     26.133      0.000       0.382       0.444\n",
       "Office perc                 0.1330      0.011     12.013      0.000       0.111       0.155\n",
       "Shops perc                  0.1542      0.011     13.431      0.000       0.132       0.177\n",
       "mxi                         0.2661      0.019     13.979      0.000       0.229       0.303\n",
       "recreationCount            -0.2826      0.029     -9.831      0.000      -0.339      -0.226\n",
       "campusCount                -0.0560      0.013     -4.380      0.000      -0.081      -0.031\n",
       "5-14 %                     -0.2369      0.023    -10.340      0.000      -0.282      -0.192\n",
       "30-39 %                     0.3681      0.021     17.880      0.000       0.328       0.408\n",
       "40-49 %                    -0.3941      0.031    -12.726      0.000      -0.455      -0.333\n",
       "50-64 %                    -0.0213      0.021     -1.023      0.306      -0.062       0.020\n",
       "Population density 2021     0.1083      0.019      5.612      0.000       0.070       0.146\n",
       "min_temp                    0.1703      0.018      9.407      0.000       0.135       0.206\n",
       "date_2                      0.3835      0.019     19.719      0.000       0.345       0.422\n",
       "hour_2                     -0.2909      0.020    -14.313      0.000      -0.331      -0.251\n",
       "hour_3                     -0.1682      0.019     -8.906      0.000      -0.205      -0.131\n",
       "hour_4                      0.0170      0.017      0.981      0.327      -0.017       0.051\n",
       "hour_5                      0.1295      0.017      7.724      0.000       0.097       0.162\n",
       "hour_6                      0.2282      0.016     13.928      0.000       0.196       0.260\n",
       "hour_7                      0.1798      0.017     10.831      0.000       0.147       0.212\n",
       "hour_8                      0.1801      0.016     10.918      0.000       0.148       0.212\n",
       "trainDensity_1             -0.0748      0.015     -5.040      0.000      -0.104      -0.046\n",
       "rainfall_1                 -0.1312      0.015     -8.518      0.000      -0.161      -0.101\n",
       "===========================================================================================\n",
       "\"\"\""
      ]
     },
     "execution_count": 53,
     "metadata": {},
     "output_type": "execute_result"
    }
   ],
   "source": [
    "result.summary()"
   ]
  },
  {
   "cell_type": "code",
   "execution_count": null,
   "id": "61c8d116",
   "metadata": {},
   "outputs": [],
   "source": [
    "# cross validation"
   ]
  },
  {
   "cell_type": "code",
   "execution_count": 57,
   "id": "04535ea5",
   "metadata": {},
   "outputs": [],
   "source": [
    "test_score= cross_val_score(model, X_test, y_test, scoring='neg_mean_squared_error')"
   ]
  },
  {
   "cell_type": "code",
   "execution_count": 60,
   "id": "30c93e04",
   "metadata": {},
   "outputs": [],
   "source": [
    "cv_mse=np.mean(np.absolute(test_score))"
   ]
  },
  {
   "cell_type": "code",
   "execution_count": 61,
   "id": "2d0824fa",
   "metadata": {},
   "outputs": [
    {
     "data": {
      "text/plain": [
       "0.44"
      ]
     },
     "execution_count": 61,
     "metadata": {},
     "output_type": "execute_result"
    }
   ],
   "source": [
    "round(np.sqrt(cv_mse),2)"
   ]
  },
  {
   "cell_type": "code",
   "execution_count": null,
   "id": "3461ccf2",
   "metadata": {},
   "outputs": [],
   "source": []
  }
 ],
 "metadata": {
  "kernelspec": {
   "display_name": "Python 3 (ipykernel)",
   "language": "python",
   "name": "python3"
  },
  "language_info": {
   "codemirror_mode": {
    "name": "ipython",
    "version": 3
   },
   "file_extension": ".py",
   "mimetype": "text/x-python",
   "name": "python",
   "nbconvert_exporter": "python",
   "pygments_lexer": "ipython3",
   "version": "3.7.13"
  }
 },
 "nbformat": 4,
 "nbformat_minor": 5
}
