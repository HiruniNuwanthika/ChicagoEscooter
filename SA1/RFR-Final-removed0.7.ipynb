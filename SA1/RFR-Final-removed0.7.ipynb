{
 "cells": [
  {
   "cell_type": "code",
   "execution_count": 1,
   "id": "fd557502",
   "metadata": {},
   "outputs": [],
   "source": [
    "from sklearn.ensemble import RandomForestRegressor\n",
    "from sklearn.datasets import load_boston\n",
    "from sklearn.datasets import make_regression\n",
    "\n",
    "from sklearn.preprocessing import scale\n",
    "from sklearn.model_selection import train_test_split\n",
    "from sklearn.model_selection import cross_val_score\n",
    "\n",
    "import matplotlib.pyplot as plt\n",
    "from sklearn import set_config \n",
    "import pandas as pd"
   ]
  },
  {
   "cell_type": "code",
   "execution_count": 2,
   "id": "04a5d687",
   "metadata": {},
   "outputs": [],
   "source": [
    "df=pd.read_csv(r'C:\\Melbourne_Escooter\\RealDataset\\FinalResults\\SA1\\Features-trips\\Final\\AllFeatures-original - wholeNumberDensity -removed0.7.csv')"
   ]
  },
  {
   "cell_type": "code",
   "execution_count": 3,
   "id": "6689527a",
   "metadata": {},
   "outputs": [],
   "source": [
    "df=df.drop(['SA1_CODE21'], axis=1)"
   ]
  },
  {
   "cell_type": "code",
   "execution_count": 4,
   "id": "914fd478",
   "metadata": {},
   "outputs": [],
   "source": [
    "df[\"hour\"].replace({0:1,1:1,2:1,3:2,4:2,5:2,6:3,7:3,8:3,9:4,10:4,11:4,12:5,13:5,14:5,15:6,16:6,17:6,18:7,19:7,20:7,21:8,22:8,23:8}, inplace=True)"
   ]
  },
  {
   "cell_type": "code",
   "execution_count": 5,
   "id": "bf7a0226",
   "metadata": {},
   "outputs": [],
   "source": [
    "df[\"date\"].replace({1:1,2: 1, 3: 1,4: 1,5: 1,6: 2,7: 2}, inplace=True)"
   ]
  },
  {
   "cell_type": "code",
   "execution_count": 6,
   "id": "d3c61938",
   "metadata": {},
   "outputs": [],
   "source": [
    "df['trainDensity'] = df['trainDensity'].map(lambda x: 1 if x>0 else 0)"
   ]
  },
  {
   "cell_type": "code",
   "execution_count": 7,
   "id": "373f5672",
   "metadata": {},
   "outputs": [],
   "source": [
    "categorical =['hour','date','rainfall','trainDensity']\n",
    "for col in categorical:\n",
    "    df[col]=df[col].astype('category')"
   ]
  },
  {
   "cell_type": "code",
   "execution_count": 8,
   "id": "2dbf458b",
   "metadata": {},
   "outputs": [],
   "source": [
    "df=pd.get_dummies(df, drop_first=True)"
   ]
  },
  {
   "cell_type": "code",
   "execution_count": 9,
   "id": "8dbbfcca",
   "metadata": {},
   "outputs": [
    {
     "name": "stdout",
     "output_type": "stream",
     "text": [
      "25\n"
     ]
    }
   ],
   "source": [
    "print(len(df.columns))"
   ]
  },
  {
   "cell_type": "code",
   "execution_count": 11,
   "id": "b5723ef1",
   "metadata": {},
   "outputs": [],
   "source": [
    "y=df['tripDensity']\n",
    "\n",
    "X=df.drop(['tripDensity'], axis=1)"
   ]
  },
  {
   "cell_type": "code",
   "execution_count": 12,
   "id": "435d0a4b",
   "metadata": {},
   "outputs": [],
   "source": [
    "X_train, X_test, y_train, y_test = train_test_split(X, y, test_size=0.2,random_state=24)"
   ]
  },
  {
   "cell_type": "code",
   "execution_count": 13,
   "id": "8696c9cd",
   "metadata": {},
   "outputs": [],
   "source": [
    "model = RandomForestRegressor(n_estimators=300, random_state=24,max_features=5) "
   ]
  },
  {
   "cell_type": "code",
   "execution_count": 14,
   "id": "c87b084e",
   "metadata": {},
   "outputs": [],
   "source": [
    "LL_rf=model.fit(X_train, y_train)"
   ]
  },
  {
   "cell_type": "code",
   "execution_count": 15,
   "id": "faabc48c",
   "metadata": {},
   "outputs": [
    {
     "name": "stdout",
     "output_type": "stream",
     "text": [
      "R-squared: 0.46448424949476164\n"
     ]
    }
   ],
   "source": [
    "score = LL_rf.score(X_train, y_train)\n",
    "print(\"R-squared:\", score)"
   ]
  },
  {
   "cell_type": "code",
   "execution_count": 16,
   "id": "ce7ee377",
   "metadata": {},
   "outputs": [],
   "source": [
    "from sklearn.metrics import mean_absolute_error, mean_squared_error, explained_variance_score, r2_score"
   ]
  },
  {
   "cell_type": "code",
   "execution_count": 17,
   "id": "20dd6c71",
   "metadata": {},
   "outputs": [],
   "source": [
    "ypred = LL_rf.predict(X_train)"
   ]
  },
  {
   "cell_type": "code",
   "execution_count": 18,
   "id": "09d92f33",
   "metadata": {},
   "outputs": [
    {
     "name": "stdout",
     "output_type": "stream",
     "text": [
      "MAE is: 34.103798\n",
      "MSE is: 9477.546748\n"
     ]
    }
   ],
   "source": [
    "print(\"MAE is: %f\" %mean_absolute_error(y_train, ypred))\n",
    "print(\"MSE is: %f\" %mean_squared_error(y_train, ypred))"
   ]
  },
  {
   "cell_type": "code",
   "execution_count": 19,
   "id": "a144504d",
   "metadata": {},
   "outputs": [
    {
     "name": "stdout",
     "output_type": "stream",
     "text": [
      "RMSE is: 97.352693\n"
     ]
    }
   ],
   "source": [
    "import numpy as np\n",
    "print(\"RMSE is: %f\" %np.sqrt(mean_squared_error(y_train, ypred)))"
   ]
  },
  {
   "cell_type": "code",
   "execution_count": 19,
   "id": "0e016ccb",
   "metadata": {},
   "outputs": [
    {
     "name": "stdout",
     "output_type": "stream",
     "text": [
      "EVS is: 0.457282\n"
     ]
    }
   ],
   "source": [
    "print(\"EVS is: %f\" %explained_variance_score(y_train, ypred))"
   ]
  },
  {
   "cell_type": "code",
   "execution_count": 21,
   "id": "77020312",
   "metadata": {},
   "outputs": [],
   "source": [
    "ypred_test= LL_rf.predict(X_test)"
   ]
  },
  {
   "cell_type": "code",
   "execution_count": 22,
   "id": "f6158afb",
   "metadata": {},
   "outputs": [
    {
     "name": "stdout",
     "output_type": "stream",
     "text": [
      "Testinf set R2 is: 0.034058\n"
     ]
    }
   ],
   "source": [
    "print(\"Testinf set R2 is: %f\" %r2_score(y_test, ypred_test))"
   ]
  },
  {
   "cell_type": "code",
   "execution_count": 23,
   "id": "5ffde50c",
   "metadata": {},
   "outputs": [
    {
     "name": "stdout",
     "output_type": "stream",
     "text": [
      "MAE is: 48.592540\n",
      "MSE is: 15839.538676\n"
     ]
    }
   ],
   "source": [
    "print(\"MAE is: %f\" %mean_absolute_error(y_test, ypred_test))\n",
    "print(\"MSE is: %f\" %mean_squared_error(y_test, ypred_test))"
   ]
  },
  {
   "cell_type": "code",
   "execution_count": 24,
   "id": "34e2ee77",
   "metadata": {},
   "outputs": [
    {
     "name": "stdout",
     "output_type": "stream",
     "text": [
      "RMSE is: 125.855229\n",
      "EVS is: 0.034059\n"
     ]
    }
   ],
   "source": [
    "print(\"RMSE is: %f\" %np.sqrt(mean_squared_error(y_test, ypred_test)))\n",
    "print(\"EVS is: %f\" %explained_variance_score(y_test, ypred_test))"
   ]
  },
  {
   "cell_type": "code",
   "execution_count": 30,
   "id": "cd436087",
   "metadata": {},
   "outputs": [],
   "source": [
    "# cross validation"
   ]
  },
  {
   "cell_type": "code",
   "execution_count": 32,
   "id": "29985496",
   "metadata": {},
   "outputs": [],
   "source": [
    "test_score= cross_val_score(LL_rf, X_test, y_test, scoring='neg_mean_squared_error')"
   ]
  },
  {
   "cell_type": "code",
   "execution_count": 33,
   "id": "ab78e0af",
   "metadata": {},
   "outputs": [
    {
     "data": {
      "text/plain": [
       "16586.868036569467"
      ]
     },
     "execution_count": 33,
     "metadata": {},
     "output_type": "execute_result"
    }
   ],
   "source": [
    "np.mean(np.absolute(test_score))"
   ]
  },
  {
   "cell_type": "code",
   "execution_count": 35,
   "id": "276688bd",
   "metadata": {},
   "outputs": [],
   "source": [
    "#feature ranking"
   ]
  },
  {
   "cell_type": "code",
   "execution_count": 27,
   "id": "93dc1c83",
   "metadata": {},
   "outputs": [],
   "source": [
    "from sklearn.pipeline import Pipeline"
   ]
  },
  {
   "cell_type": "code",
   "execution_count": 28,
   "id": "d640b4e7",
   "metadata": {},
   "outputs": [],
   "source": [
    "feature_list=list(X.columns)"
   ]
  },
  {
   "cell_type": "code",
   "execution_count": 29,
   "id": "140bd360",
   "metadata": {},
   "outputs": [],
   "source": [
    "feature_importance = pd.Series(LL_rf.feature_importances_, index=feature_list).sort_values(ascending=False)"
   ]
  },
  {
   "cell_type": "code",
   "execution_count": 30,
   "id": "e64f6f7f",
   "metadata": {},
   "outputs": [
    {
     "name": "stdout",
     "output_type": "stream",
     "text": [
      "min_temp                   0.215450\n",
      "Cafe perc                  0.099484\n",
      "mxi                        0.087982\n",
      "hour_5                     0.048668\n",
      "tramDensity                0.048346\n",
      "busDensity                 0.045763\n",
      "hour_7                     0.041680\n",
      "date_2                     0.041082\n",
      "hour_6                     0.039479\n",
      "hour_8                     0.038420\n",
      "hour_4                     0.037616\n",
      "rainfall_1                 0.035052\n",
      "hour_3                     0.032206\n",
      "Population density 2021    0.029976\n",
      "Office perc                0.028942\n",
      "5-14 %                     0.027605\n",
      "hour_2                     0.027320\n",
      "male%                      0.026619\n",
      "50-64 %                    0.016724\n",
      "40-49 %                    0.016262\n",
      "Shops perc                 0.012932\n",
      "recreationCount            0.001621\n",
      "trainDensity_1             0.000438\n",
      "campusCount                0.000333\n",
      "dtype: float64\n"
     ]
    }
   ],
   "source": [
    "print(feature_importance)"
   ]
  },
  {
   "cell_type": "code",
   "execution_count": null,
   "id": "909d71a8",
   "metadata": {},
   "outputs": [],
   "source": []
  }
 ],
 "metadata": {
  "kernelspec": {
   "display_name": "Python 3 (ipykernel)",
   "language": "python",
   "name": "python3"
  },
  "language_info": {
   "codemirror_mode": {
    "name": "ipython",
    "version": 3
   },
   "file_extension": ".py",
   "mimetype": "text/x-python",
   "name": "python",
   "nbconvert_exporter": "python",
   "pygments_lexer": "ipython3",
   "version": "3.7.13"
  }
 },
 "nbformat": 4,
 "nbformat_minor": 5
}
