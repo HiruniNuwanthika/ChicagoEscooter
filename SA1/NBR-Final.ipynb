{
 "cells": [
  {
   "cell_type": "code",
   "execution_count": 47,
   "id": "20381fbf",
   "metadata": {},
   "outputs": [],
   "source": [
    "import pandas as pd\n",
    "import numpy as np\n",
    "\n",
    "from patsy import dmatrices\n",
    "\n",
    "import matplotlib.pyplot as plt\n",
    "import seaborn as sns\n",
    "\n",
    "from sklearn.preprocessing import StandardScaler\n",
    "from sklearn.model_selection import train_test_split\n",
    "from sklearn.model_selection import cross_val_score\n",
    "\n",
    "import statsmodels.api as sm\n",
    "from statsmodels.formula.api import glm\n",
    "\n",
    "from sklearn.metrics import mean_absolute_error,mean_squared_error, accuracy_score,f1_score\n",
    "from sklearn.metrics import f1_score\n",
    "from sklearn.model_selection import KFold"
   ]
  },
  {
   "cell_type": "code",
   "execution_count": 2,
   "id": "53629d9b",
   "metadata": {},
   "outputs": [],
   "source": [
    "df=pd.read_csv(r'C:\\Melbourne_Escooter\\RealDataset\\FinalResults\\SA1\\Features-trips\\Final\\AllFeatures-original - wholeNumberDensity - removed_female_50-64_40-49_house - Copy.csv')"
   ]
  },
  {
   "cell_type": "code",
   "execution_count": 3,
   "id": "17b5d289",
   "metadata": {},
   "outputs": [
    {
     "data": {
      "text/html": [
       "<div>\n",
       "<style scoped>\n",
       "    .dataframe tbody tr th:only-of-type {\n",
       "        vertical-align: middle;\n",
       "    }\n",
       "\n",
       "    .dataframe tbody tr th {\n",
       "        vertical-align: top;\n",
       "    }\n",
       "\n",
       "    .dataframe thead th {\n",
       "        text-align: right;\n",
       "    }\n",
       "</style>\n",
       "<table border=\"1\" class=\"dataframe\">\n",
       "  <thead>\n",
       "    <tr style=\"text-align: right;\">\n",
       "      <th></th>\n",
       "      <th>SA1_CODE21</th>\n",
       "      <th>tripDensity</th>\n",
       "      <th>date</th>\n",
       "      <th>hour</th>\n",
       "      <th>trainDensity</th>\n",
       "      <th>busDensity</th>\n",
       "      <th>tramDensity</th>\n",
       "      <th>Cafe perc</th>\n",
       "      <th>Office perc</th>\n",
       "      <th>Shops perc</th>\n",
       "      <th>...</th>\n",
       "      <th>recreationCount</th>\n",
       "      <th>campusCount</th>\n",
       "      <th>5-14 %</th>\n",
       "      <th>15-29 %</th>\n",
       "      <th>30-39 %</th>\n",
       "      <th>above65 %</th>\n",
       "      <th>male%</th>\n",
       "      <th>Population density 2021</th>\n",
       "      <th>rainfall</th>\n",
       "      <th>min_temp</th>\n",
       "    </tr>\n",
       "  </thead>\n",
       "  <tbody>\n",
       "    <tr>\n",
       "      <th>0</th>\n",
       "      <td>20604111702</td>\n",
       "      <td>0</td>\n",
       "      <td>1</td>\n",
       "      <td>0</td>\n",
       "      <td>0.0</td>\n",
       "      <td>38.68472</td>\n",
       "      <td>19.34236</td>\n",
       "      <td>0.576336</td>\n",
       "      <td>0.022901</td>\n",
       "      <td>0.030534</td>\n",
       "      <td>...</td>\n",
       "      <td>0</td>\n",
       "      <td>0</td>\n",
       "      <td>3.536138</td>\n",
       "      <td>53.39985</td>\n",
       "      <td>19.330746</td>\n",
       "      <td>8.15831</td>\n",
       "      <td>49.511571</td>\n",
       "      <td>9456.2</td>\n",
       "      <td>0</td>\n",
       "      <td>7.4</td>\n",
       "    </tr>\n",
       "    <tr>\n",
       "      <th>1</th>\n",
       "      <td>20604111702</td>\n",
       "      <td>0</td>\n",
       "      <td>1</td>\n",
       "      <td>1</td>\n",
       "      <td>0.0</td>\n",
       "      <td>38.68472</td>\n",
       "      <td>19.34236</td>\n",
       "      <td>0.576336</td>\n",
       "      <td>0.022901</td>\n",
       "      <td>0.030534</td>\n",
       "      <td>...</td>\n",
       "      <td>0</td>\n",
       "      <td>0</td>\n",
       "      <td>3.536138</td>\n",
       "      <td>53.39985</td>\n",
       "      <td>19.330746</td>\n",
       "      <td>8.15831</td>\n",
       "      <td>49.511571</td>\n",
       "      <td>9456.2</td>\n",
       "      <td>0</td>\n",
       "      <td>7.4</td>\n",
       "    </tr>\n",
       "    <tr>\n",
       "      <th>2</th>\n",
       "      <td>20604111702</td>\n",
       "      <td>19</td>\n",
       "      <td>1</td>\n",
       "      <td>2</td>\n",
       "      <td>0.0</td>\n",
       "      <td>38.68472</td>\n",
       "      <td>19.34236</td>\n",
       "      <td>0.576336</td>\n",
       "      <td>0.022901</td>\n",
       "      <td>0.030534</td>\n",
       "      <td>...</td>\n",
       "      <td>0</td>\n",
       "      <td>0</td>\n",
       "      <td>3.536138</td>\n",
       "      <td>53.39985</td>\n",
       "      <td>19.330746</td>\n",
       "      <td>8.15831</td>\n",
       "      <td>49.511571</td>\n",
       "      <td>9456.2</td>\n",
       "      <td>0</td>\n",
       "      <td>7.4</td>\n",
       "    </tr>\n",
       "    <tr>\n",
       "      <th>3</th>\n",
       "      <td>20604111702</td>\n",
       "      <td>0</td>\n",
       "      <td>1</td>\n",
       "      <td>3</td>\n",
       "      <td>0.0</td>\n",
       "      <td>38.68472</td>\n",
       "      <td>19.34236</td>\n",
       "      <td>0.576336</td>\n",
       "      <td>0.022901</td>\n",
       "      <td>0.030534</td>\n",
       "      <td>...</td>\n",
       "      <td>0</td>\n",
       "      <td>0</td>\n",
       "      <td>3.536138</td>\n",
       "      <td>53.39985</td>\n",
       "      <td>19.330746</td>\n",
       "      <td>8.15831</td>\n",
       "      <td>49.511571</td>\n",
       "      <td>9456.2</td>\n",
       "      <td>0</td>\n",
       "      <td>7.4</td>\n",
       "    </tr>\n",
       "    <tr>\n",
       "      <th>4</th>\n",
       "      <td>20604111702</td>\n",
       "      <td>0</td>\n",
       "      <td>1</td>\n",
       "      <td>4</td>\n",
       "      <td>0.0</td>\n",
       "      <td>38.68472</td>\n",
       "      <td>19.34236</td>\n",
       "      <td>0.576336</td>\n",
       "      <td>0.022901</td>\n",
       "      <td>0.030534</td>\n",
       "      <td>...</td>\n",
       "      <td>0</td>\n",
       "      <td>0</td>\n",
       "      <td>3.536138</td>\n",
       "      <td>53.39985</td>\n",
       "      <td>19.330746</td>\n",
       "      <td>8.15831</td>\n",
       "      <td>49.511571</td>\n",
       "      <td>9456.2</td>\n",
       "      <td>0</td>\n",
       "      <td>7.4</td>\n",
       "    </tr>\n",
       "  </tbody>\n",
       "</table>\n",
       "<p>5 rows × 22 columns</p>\n",
       "</div>"
      ],
      "text/plain": [
       "    SA1_CODE21  tripDensity  date  hour  trainDensity  busDensity  \\\n",
       "0  20604111702            0     1     0           0.0    38.68472   \n",
       "1  20604111702            0     1     1           0.0    38.68472   \n",
       "2  20604111702           19     1     2           0.0    38.68472   \n",
       "3  20604111702            0     1     3           0.0    38.68472   \n",
       "4  20604111702            0     1     4           0.0    38.68472   \n",
       "\n",
       "   tramDensity  Cafe perc  Office perc  Shops perc  ...  recreationCount  \\\n",
       "0     19.34236   0.576336     0.022901    0.030534  ...                0   \n",
       "1     19.34236   0.576336     0.022901    0.030534  ...                0   \n",
       "2     19.34236   0.576336     0.022901    0.030534  ...                0   \n",
       "3     19.34236   0.576336     0.022901    0.030534  ...                0   \n",
       "4     19.34236   0.576336     0.022901    0.030534  ...                0   \n",
       "\n",
       "   campusCount    5-14 %   15-29 %    30-39 %  above65 %      male%  \\\n",
       "0            0  3.536138  53.39985  19.330746    8.15831  49.511571   \n",
       "1            0  3.536138  53.39985  19.330746    8.15831  49.511571   \n",
       "2            0  3.536138  53.39985  19.330746    8.15831  49.511571   \n",
       "3            0  3.536138  53.39985  19.330746    8.15831  49.511571   \n",
       "4            0  3.536138  53.39985  19.330746    8.15831  49.511571   \n",
       "\n",
       "   Population density 2021  rainfall  min_temp  \n",
       "0                   9456.2         0       7.4  \n",
       "1                   9456.2         0       7.4  \n",
       "2                   9456.2         0       7.4  \n",
       "3                   9456.2         0       7.4  \n",
       "4                   9456.2         0       7.4  \n",
       "\n",
       "[5 rows x 22 columns]"
      ]
     },
     "execution_count": 3,
     "metadata": {},
     "output_type": "execute_result"
    }
   ],
   "source": [
    "df.head()"
   ]
  },
  {
   "cell_type": "code",
   "execution_count": 4,
   "id": "2f67bf57",
   "metadata": {},
   "outputs": [
    {
     "name": "stdout",
     "output_type": "stream",
     "text": [
      "<class 'pandas.core.frame.DataFrame'>\n",
      "RangeIndex: 56616 entries, 0 to 56615\n",
      "Data columns (total 22 columns):\n",
      " #   Column                   Non-Null Count  Dtype  \n",
      "---  ------                   --------------  -----  \n",
      " 0   SA1_CODE21               56616 non-null  int64  \n",
      " 1   tripDensity              56616 non-null  int64  \n",
      " 2   date                     56616 non-null  int64  \n",
      " 3   hour                     56616 non-null  int64  \n",
      " 4   trainDensity             56616 non-null  float64\n",
      " 5   busDensity               56616 non-null  float64\n",
      " 6   tramDensity              56616 non-null  float64\n",
      " 7   Cafe perc                56616 non-null  float64\n",
      " 8   Office perc              56616 non-null  float64\n",
      " 9   Shops perc               56616 non-null  float64\n",
      " 10  entropy                  56616 non-null  float64\n",
      " 11  mxi                      56616 non-null  float64\n",
      " 12  recreationCount          56616 non-null  int64  \n",
      " 13  campusCount              56616 non-null  int64  \n",
      " 14  5-14 %                   56616 non-null  float64\n",
      " 15  15-29 %                  56616 non-null  float64\n",
      " 16  30-39 %                  56616 non-null  float64\n",
      " 17  above65 %                56616 non-null  float64\n",
      " 18  male%                    56616 non-null  float64\n",
      " 19  Population density 2021  56616 non-null  float64\n",
      " 20  rainfall                 56616 non-null  int64  \n",
      " 21  min_temp                 56616 non-null  float64\n",
      "dtypes: float64(15), int64(7)\n",
      "memory usage: 9.5 MB\n"
     ]
    }
   ],
   "source": [
    "df.info()"
   ]
  },
  {
   "cell_type": "code",
   "execution_count": 5,
   "id": "7678498a",
   "metadata": {
    "scrolled": true
   },
   "outputs": [
    {
     "data": {
      "text/html": [
       "<div>\n",
       "<style scoped>\n",
       "    .dataframe tbody tr th:only-of-type {\n",
       "        vertical-align: middle;\n",
       "    }\n",
       "\n",
       "    .dataframe tbody tr th {\n",
       "        vertical-align: top;\n",
       "    }\n",
       "\n",
       "    .dataframe thead th {\n",
       "        text-align: right;\n",
       "    }\n",
       "</style>\n",
       "<table border=\"1\" class=\"dataframe\">\n",
       "  <thead>\n",
       "    <tr style=\"text-align: right;\">\n",
       "      <th></th>\n",
       "      <th>SA1_CODE21</th>\n",
       "      <th>date</th>\n",
       "      <th>hour</th>\n",
       "      <th>trainDensity</th>\n",
       "      <th>busDensity</th>\n",
       "      <th>tramDensity</th>\n",
       "      <th>Cafe perc</th>\n",
       "      <th>Office perc</th>\n",
       "      <th>Shops perc</th>\n",
       "      <th>entropy</th>\n",
       "      <th>...</th>\n",
       "      <th>recreationCount</th>\n",
       "      <th>campusCount</th>\n",
       "      <th>5-14 %</th>\n",
       "      <th>15-29 %</th>\n",
       "      <th>30-39 %</th>\n",
       "      <th>above65 %</th>\n",
       "      <th>male%</th>\n",
       "      <th>Population density 2021</th>\n",
       "      <th>rainfall</th>\n",
       "      <th>min_temp</th>\n",
       "    </tr>\n",
       "  </thead>\n",
       "  <tbody>\n",
       "    <tr>\n",
       "      <th>0</th>\n",
       "      <td>20604111702</td>\n",
       "      <td>1</td>\n",
       "      <td>0</td>\n",
       "      <td>0.0</td>\n",
       "      <td>38.684720</td>\n",
       "      <td>19.34236</td>\n",
       "      <td>0.576336</td>\n",
       "      <td>0.022901</td>\n",
       "      <td>0.030534</td>\n",
       "      <td>1.352866</td>\n",
       "      <td>...</td>\n",
       "      <td>0</td>\n",
       "      <td>0</td>\n",
       "      <td>3.536138</td>\n",
       "      <td>53.399850</td>\n",
       "      <td>19.330746</td>\n",
       "      <td>8.158310</td>\n",
       "      <td>49.511571</td>\n",
       "      <td>9456.2</td>\n",
       "      <td>0</td>\n",
       "      <td>7.4</td>\n",
       "    </tr>\n",
       "    <tr>\n",
       "      <th>1</th>\n",
       "      <td>20604111702</td>\n",
       "      <td>1</td>\n",
       "      <td>1</td>\n",
       "      <td>0.0</td>\n",
       "      <td>38.684720</td>\n",
       "      <td>19.34236</td>\n",
       "      <td>0.576336</td>\n",
       "      <td>0.022901</td>\n",
       "      <td>0.030534</td>\n",
       "      <td>1.352866</td>\n",
       "      <td>...</td>\n",
       "      <td>0</td>\n",
       "      <td>0</td>\n",
       "      <td>3.536138</td>\n",
       "      <td>53.399850</td>\n",
       "      <td>19.330746</td>\n",
       "      <td>8.158310</td>\n",
       "      <td>49.511571</td>\n",
       "      <td>9456.2</td>\n",
       "      <td>0</td>\n",
       "      <td>7.4</td>\n",
       "    </tr>\n",
       "    <tr>\n",
       "      <th>2</th>\n",
       "      <td>20604111702</td>\n",
       "      <td>1</td>\n",
       "      <td>2</td>\n",
       "      <td>0.0</td>\n",
       "      <td>38.684720</td>\n",
       "      <td>19.34236</td>\n",
       "      <td>0.576336</td>\n",
       "      <td>0.022901</td>\n",
       "      <td>0.030534</td>\n",
       "      <td>1.352866</td>\n",
       "      <td>...</td>\n",
       "      <td>0</td>\n",
       "      <td>0</td>\n",
       "      <td>3.536138</td>\n",
       "      <td>53.399850</td>\n",
       "      <td>19.330746</td>\n",
       "      <td>8.158310</td>\n",
       "      <td>49.511571</td>\n",
       "      <td>9456.2</td>\n",
       "      <td>0</td>\n",
       "      <td>7.4</td>\n",
       "    </tr>\n",
       "    <tr>\n",
       "      <th>3</th>\n",
       "      <td>20604111702</td>\n",
       "      <td>1</td>\n",
       "      <td>3</td>\n",
       "      <td>0.0</td>\n",
       "      <td>38.684720</td>\n",
       "      <td>19.34236</td>\n",
       "      <td>0.576336</td>\n",
       "      <td>0.022901</td>\n",
       "      <td>0.030534</td>\n",
       "      <td>1.352866</td>\n",
       "      <td>...</td>\n",
       "      <td>0</td>\n",
       "      <td>0</td>\n",
       "      <td>3.536138</td>\n",
       "      <td>53.399850</td>\n",
       "      <td>19.330746</td>\n",
       "      <td>8.158310</td>\n",
       "      <td>49.511571</td>\n",
       "      <td>9456.2</td>\n",
       "      <td>0</td>\n",
       "      <td>7.4</td>\n",
       "    </tr>\n",
       "    <tr>\n",
       "      <th>4</th>\n",
       "      <td>20604111702</td>\n",
       "      <td>1</td>\n",
       "      <td>4</td>\n",
       "      <td>0.0</td>\n",
       "      <td>38.684720</td>\n",
       "      <td>19.34236</td>\n",
       "      <td>0.576336</td>\n",
       "      <td>0.022901</td>\n",
       "      <td>0.030534</td>\n",
       "      <td>1.352866</td>\n",
       "      <td>...</td>\n",
       "      <td>0</td>\n",
       "      <td>0</td>\n",
       "      <td>3.536138</td>\n",
       "      <td>53.399850</td>\n",
       "      <td>19.330746</td>\n",
       "      <td>8.158310</td>\n",
       "      <td>49.511571</td>\n",
       "      <td>9456.2</td>\n",
       "      <td>0</td>\n",
       "      <td>7.4</td>\n",
       "    </tr>\n",
       "    <tr>\n",
       "      <th>...</th>\n",
       "      <td>...</td>\n",
       "      <td>...</td>\n",
       "      <td>...</td>\n",
       "      <td>...</td>\n",
       "      <td>...</td>\n",
       "      <td>...</td>\n",
       "      <td>...</td>\n",
       "      <td>...</td>\n",
       "      <td>...</td>\n",
       "      <td>...</td>\n",
       "      <td>...</td>\n",
       "      <td>...</td>\n",
       "      <td>...</td>\n",
       "      <td>...</td>\n",
       "      <td>...</td>\n",
       "      <td>...</td>\n",
       "      <td>...</td>\n",
       "      <td>...</td>\n",
       "      <td>...</td>\n",
       "      <td>...</td>\n",
       "      <td>...</td>\n",
       "    </tr>\n",
       "    <tr>\n",
       "      <th>56611</th>\n",
       "      <td>20604151016</td>\n",
       "      <td>7</td>\n",
       "      <td>19</td>\n",
       "      <td>0.0</td>\n",
       "      <td>46.728972</td>\n",
       "      <td>0.00000</td>\n",
       "      <td>0.803571</td>\n",
       "      <td>0.071429</td>\n",
       "      <td>0.035714</td>\n",
       "      <td>1.118100</td>\n",
       "      <td>...</td>\n",
       "      <td>0</td>\n",
       "      <td>0</td>\n",
       "      <td>1.813717</td>\n",
       "      <td>45.837792</td>\n",
       "      <td>34.053583</td>\n",
       "      <td>4.732242</td>\n",
       "      <td>51.647198</td>\n",
       "      <td>9238.5</td>\n",
       "      <td>1</td>\n",
       "      <td>8.0</td>\n",
       "    </tr>\n",
       "    <tr>\n",
       "      <th>56612</th>\n",
       "      <td>20604151016</td>\n",
       "      <td>7</td>\n",
       "      <td>20</td>\n",
       "      <td>0.0</td>\n",
       "      <td>46.728972</td>\n",
       "      <td>0.00000</td>\n",
       "      <td>0.803571</td>\n",
       "      <td>0.071429</td>\n",
       "      <td>0.035714</td>\n",
       "      <td>1.118100</td>\n",
       "      <td>...</td>\n",
       "      <td>0</td>\n",
       "      <td>0</td>\n",
       "      <td>1.813717</td>\n",
       "      <td>45.837792</td>\n",
       "      <td>34.053583</td>\n",
       "      <td>4.732242</td>\n",
       "      <td>51.647198</td>\n",
       "      <td>9238.5</td>\n",
       "      <td>1</td>\n",
       "      <td>8.0</td>\n",
       "    </tr>\n",
       "    <tr>\n",
       "      <th>56613</th>\n",
       "      <td>20604151016</td>\n",
       "      <td>7</td>\n",
       "      <td>21</td>\n",
       "      <td>0.0</td>\n",
       "      <td>46.728972</td>\n",
       "      <td>0.00000</td>\n",
       "      <td>0.803571</td>\n",
       "      <td>0.071429</td>\n",
       "      <td>0.035714</td>\n",
       "      <td>1.118100</td>\n",
       "      <td>...</td>\n",
       "      <td>0</td>\n",
       "      <td>0</td>\n",
       "      <td>1.813717</td>\n",
       "      <td>45.837792</td>\n",
       "      <td>34.053583</td>\n",
       "      <td>4.732242</td>\n",
       "      <td>51.647198</td>\n",
       "      <td>9238.5</td>\n",
       "      <td>1</td>\n",
       "      <td>8.0</td>\n",
       "    </tr>\n",
       "    <tr>\n",
       "      <th>56614</th>\n",
       "      <td>20604151016</td>\n",
       "      <td>7</td>\n",
       "      <td>22</td>\n",
       "      <td>0.0</td>\n",
       "      <td>46.728972</td>\n",
       "      <td>0.00000</td>\n",
       "      <td>0.803571</td>\n",
       "      <td>0.071429</td>\n",
       "      <td>0.035714</td>\n",
       "      <td>1.118100</td>\n",
       "      <td>...</td>\n",
       "      <td>0</td>\n",
       "      <td>0</td>\n",
       "      <td>1.813717</td>\n",
       "      <td>45.837792</td>\n",
       "      <td>34.053583</td>\n",
       "      <td>4.732242</td>\n",
       "      <td>51.647198</td>\n",
       "      <td>9238.5</td>\n",
       "      <td>1</td>\n",
       "      <td>8.0</td>\n",
       "    </tr>\n",
       "    <tr>\n",
       "      <th>56615</th>\n",
       "      <td>20604151016</td>\n",
       "      <td>7</td>\n",
       "      <td>23</td>\n",
       "      <td>0.0</td>\n",
       "      <td>46.728972</td>\n",
       "      <td>0.00000</td>\n",
       "      <td>0.803571</td>\n",
       "      <td>0.071429</td>\n",
       "      <td>0.035714</td>\n",
       "      <td>1.118100</td>\n",
       "      <td>...</td>\n",
       "      <td>0</td>\n",
       "      <td>0</td>\n",
       "      <td>1.813717</td>\n",
       "      <td>45.837792</td>\n",
       "      <td>34.053583</td>\n",
       "      <td>4.732242</td>\n",
       "      <td>51.647198</td>\n",
       "      <td>9238.5</td>\n",
       "      <td>1</td>\n",
       "      <td>8.0</td>\n",
       "    </tr>\n",
       "  </tbody>\n",
       "</table>\n",
       "<p>56616 rows × 21 columns</p>\n",
       "</div>"
      ],
      "text/plain": [
       "        SA1_CODE21  date  hour  trainDensity  busDensity  tramDensity  \\\n",
       "0      20604111702     1     0           0.0   38.684720     19.34236   \n",
       "1      20604111702     1     1           0.0   38.684720     19.34236   \n",
       "2      20604111702     1     2           0.0   38.684720     19.34236   \n",
       "3      20604111702     1     3           0.0   38.684720     19.34236   \n",
       "4      20604111702     1     4           0.0   38.684720     19.34236   \n",
       "...            ...   ...   ...           ...         ...          ...   \n",
       "56611  20604151016     7    19           0.0   46.728972      0.00000   \n",
       "56612  20604151016     7    20           0.0   46.728972      0.00000   \n",
       "56613  20604151016     7    21           0.0   46.728972      0.00000   \n",
       "56614  20604151016     7    22           0.0   46.728972      0.00000   \n",
       "56615  20604151016     7    23           0.0   46.728972      0.00000   \n",
       "\n",
       "       Cafe perc  Office perc  Shops perc   entropy  ...  recreationCount  \\\n",
       "0       0.576336     0.022901    0.030534  1.352866  ...                0   \n",
       "1       0.576336     0.022901    0.030534  1.352866  ...                0   \n",
       "2       0.576336     0.022901    0.030534  1.352866  ...                0   \n",
       "3       0.576336     0.022901    0.030534  1.352866  ...                0   \n",
       "4       0.576336     0.022901    0.030534  1.352866  ...                0   \n",
       "...          ...          ...         ...       ...  ...              ...   \n",
       "56611   0.803571     0.071429    0.035714  1.118100  ...                0   \n",
       "56612   0.803571     0.071429    0.035714  1.118100  ...                0   \n",
       "56613   0.803571     0.071429    0.035714  1.118100  ...                0   \n",
       "56614   0.803571     0.071429    0.035714  1.118100  ...                0   \n",
       "56615   0.803571     0.071429    0.035714  1.118100  ...                0   \n",
       "\n",
       "       campusCount    5-14 %    15-29 %    30-39 %  above65 %      male%  \\\n",
       "0                0  3.536138  53.399850  19.330746   8.158310  49.511571   \n",
       "1                0  3.536138  53.399850  19.330746   8.158310  49.511571   \n",
       "2                0  3.536138  53.399850  19.330746   8.158310  49.511571   \n",
       "3                0  3.536138  53.399850  19.330746   8.158310  49.511571   \n",
       "4                0  3.536138  53.399850  19.330746   8.158310  49.511571   \n",
       "...            ...       ...        ...        ...        ...        ...   \n",
       "56611            0  1.813717  45.837792  34.053583   4.732242  51.647198   \n",
       "56612            0  1.813717  45.837792  34.053583   4.732242  51.647198   \n",
       "56613            0  1.813717  45.837792  34.053583   4.732242  51.647198   \n",
       "56614            0  1.813717  45.837792  34.053583   4.732242  51.647198   \n",
       "56615            0  1.813717  45.837792  34.053583   4.732242  51.647198   \n",
       "\n",
       "       Population density 2021  rainfall  min_temp  \n",
       "0                       9456.2         0       7.4  \n",
       "1                       9456.2         0       7.4  \n",
       "2                       9456.2         0       7.4  \n",
       "3                       9456.2         0       7.4  \n",
       "4                       9456.2         0       7.4  \n",
       "...                        ...       ...       ...  \n",
       "56611                   9238.5         1       8.0  \n",
       "56612                   9238.5         1       8.0  \n",
       "56613                   9238.5         1       8.0  \n",
       "56614                   9238.5         1       8.0  \n",
       "56615                   9238.5         1       8.0  \n",
       "\n",
       "[56616 rows x 21 columns]"
      ]
     },
     "execution_count": 5,
     "metadata": {},
     "output_type": "execute_result"
    }
   ],
   "source": [
    "column=['tripDensity']\n",
    "df_depe=df.drop(column, axis=1)\n",
    "df_depe"
   ]
  },
  {
   "cell_type": "code",
   "execution_count": 6,
   "id": "c54318e1",
   "metadata": {},
   "outputs": [],
   "source": [
    "df_depe=df_depe.drop(['SA1_CODE21'], axis=1)"
   ]
  },
  {
   "cell_type": "code",
   "execution_count": 7,
   "id": "7bb4ee86",
   "metadata": {},
   "outputs": [],
   "source": [
    "#df_depe=df_depe.drop(['female%'], axis=1)"
   ]
  },
  {
   "cell_type": "code",
   "execution_count": null,
   "id": "bbfb1375",
   "metadata": {},
   "outputs": [],
   "source": []
  },
  {
   "cell_type": "code",
   "execution_count": 7,
   "id": "2ae94d76",
   "metadata": {},
   "outputs": [],
   "source": [
    "df_depe[\"hour\"].replace({0:1,1:1,2:1,3:2,4:2,5:2,6:3,7:3,8:3,9:4,10:4,11:4,12:5,13:5,14:5,15:6,16:6,17:6,18:7,19:7,20:7,21:8,22:8,23:8}, inplace=True)"
   ]
  },
  {
   "cell_type": "code",
   "execution_count": 8,
   "id": "d493f50d",
   "metadata": {},
   "outputs": [],
   "source": [
    "df_depe[\"date\"].replace({1:1, 2: 1, 3: 1,4: 1,5: 1,6: 2,7: 2}, inplace=True)"
   ]
  },
  {
   "cell_type": "code",
   "execution_count": 9,
   "id": "313d4ec2",
   "metadata": {},
   "outputs": [],
   "source": [
    "df_depe['trainDensity'] = df['trainDensity'].map(lambda x: 1 if x>0 else 0)"
   ]
  },
  {
   "cell_type": "code",
   "execution_count": 10,
   "id": "dcec598d",
   "metadata": {},
   "outputs": [],
   "source": [
    "categorical =['hour','date','rainfall','trainDensity']\n",
    "for col in categorical:\n",
    "    df_depe[col]=df_depe[col].astype('category')\n",
    "#df_depe['rainfall']=df_depe['rainfall'].astype('category')"
   ]
  },
  {
   "cell_type": "code",
   "execution_count": 11,
   "id": "7a6ce557",
   "metadata": {},
   "outputs": [],
   "source": [
    "#df=pd.get_dummies(df, drop_first=True )\n",
    "df_depe=pd.get_dummies(df_depe, drop_first=True)"
   ]
  },
  {
   "cell_type": "code",
   "execution_count": 12,
   "id": "badcdaeb",
   "metadata": {},
   "outputs": [
    {
     "data": {
      "text/plain": [
       "Index(['busDensity', 'tramDensity', 'Cafe perc', 'Office perc', 'Shops perc',\n",
       "       'entropy', 'mxi', 'recreationCount', 'campusCount', '5-14 %', '15-29 %',\n",
       "       '30-39 %', 'above65 %', 'male%', 'Population density 2021', 'min_temp',\n",
       "       'date_2', 'hour_2', 'hour_3', 'hour_4', 'hour_5', 'hour_6', 'hour_7',\n",
       "       'hour_8', 'trainDensity_1', 'rainfall_1'],\n",
       "      dtype='object')"
      ]
     },
     "execution_count": 12,
     "metadata": {},
     "output_type": "execute_result"
    }
   ],
   "source": [
    "df_depe.columns\n"
   ]
  },
  {
   "cell_type": "code",
   "execution_count": 13,
   "id": "fb10cee9",
   "metadata": {},
   "outputs": [],
   "source": [
    "scale= StandardScaler()"
   ]
  },
  {
   "cell_type": "code",
   "execution_count": 14,
   "id": "b8cd4c7a",
   "metadata": {},
   "outputs": [],
   "source": [
    "df_sc= scale.fit_transform(df_depe)\n",
    "df_sc=pd.DataFrame(df_sc, columns=df_depe.columns)"
   ]
  },
  {
   "cell_type": "code",
   "execution_count": 15,
   "id": "75f71bca",
   "metadata": {},
   "outputs": [],
   "source": [
    "y=df['tripDensity']\n",
    "X=df_sc"
   ]
  },
  {
   "cell_type": "code",
   "execution_count": 16,
   "id": "24983660",
   "metadata": {},
   "outputs": [],
   "source": [
    "X_train, X_test, y_train, y_test = train_test_split(X, y, test_size=0.2,random_state=24)"
   ]
  },
  {
   "cell_type": "code",
   "execution_count": 42,
   "id": "1ec427a1",
   "metadata": {},
   "outputs": [],
   "source": [
    "NB=sm.GLM(y_train,X_train, family=sm.families.NegativeBinomial(alpha=0.981766))"
   ]
  },
  {
   "cell_type": "code",
   "execution_count": 37,
   "id": "9d612312",
   "metadata": {},
   "outputs": [],
   "source": [
    "nb_training_results=sm.GLM(y_train,X_train, family=sm.families.NegativeBinomial(alpha=0.981766)).fit(method='powell')"
   ]
  },
  {
   "cell_type": "code",
   "execution_count": 38,
   "id": "d65da1f6",
   "metadata": {},
   "outputs": [
    {
     "name": "stdout",
     "output_type": "stream",
     "text": [
      "                 Generalized Linear Model Regression Results                  \n",
      "==============================================================================\n",
      "Dep. Variable:            tripDensity   No. Observations:                45292\n",
      "Model:                            GLM   Df Residuals:                    45266\n",
      "Model Family:        NegativeBinomial   Df Model:                           25\n",
      "Link Function:                    Log   Scale:                          1.0000\n",
      "Method:                        powell   Log-Likelihood:            -6.6352e+05\n",
      "Date:                Tue, 20 Sep 2022   Deviance:                   1.1583e+06\n",
      "Time:                        10:50:30   Pearson chi2:                 7.13e+08\n",
      "No. Iterations:                    31   Pseudo R-squ. (CS):         -3.537e+08\n",
      "Covariance Type:            nonrobust                                         \n",
      "===========================================================================================\n",
      "                              coef    std err          z      P>|z|      [0.025      0.975]\n",
      "-------------------------------------------------------------------------------------------\n",
      "busDensity                 -0.0303      0.002    -12.138      0.000      -0.035      -0.025\n",
      "tramDensity                 0.2264      0.003     79.800      0.000       0.221       0.232\n",
      "Cafe perc                   0.1681      0.002     67.621      0.000       0.163       0.173\n",
      "Office perc                 0.0685      0.002     35.347      0.000       0.065       0.072\n",
      "Shops perc                  0.1433      0.002     59.471      0.000       0.139       0.148\n",
      "entropy                    -0.2753      0.004    -66.836      0.000      -0.283      -0.267\n",
      "mxi                        -0.1814      0.005    -39.309      0.000      -0.190      -0.172\n",
      "recreationCount            -0.2864      0.006    -50.858      0.000      -0.297      -0.275\n",
      "campusCount                -0.1076      0.003    -39.895      0.000      -0.113      -0.102\n",
      "5-14 %                     -0.2744      0.006    -43.355      0.000      -0.287      -0.262\n",
      "15-29 %                    -0.5553      0.013    -41.731      0.000      -0.581      -0.529\n",
      "30-39 %                    -1.3240      0.009   -141.692      0.000      -1.342      -1.306\n",
      "above65 %                  -1.1568      0.018    -63.164      0.000      -1.193      -1.121\n",
      "male%                       2.0224      0.010    212.218      0.000       2.004       2.041\n",
      "Population density 2021     0.6701      0.006    107.541      0.000       0.658       0.682\n",
      "min_temp                    0.1613      0.003     51.871      0.000       0.155       0.167\n",
      "date_2                      0.4771      0.003    140.565      0.000       0.470       0.484\n",
      "hour_2                     -0.4333      0.003   -142.342      0.000      -0.439      -0.427\n",
      "hour_3                     -0.0438      0.003    -14.369      0.000      -0.050      -0.038\n",
      "hour_4                      0.0332      0.003     11.181      0.000       0.027       0.039\n",
      "hour_5                      0.1796      0.003     60.977      0.000       0.174       0.185\n",
      "hour_6                      0.3224      0.003    108.985      0.000       0.317       0.328\n",
      "hour_7                      0.2669      0.003     91.779      0.000       0.261       0.273\n",
      "hour_8                      0.2483      0.003     86.852      0.000       0.243       0.254\n",
      "trainDensity_1             -0.1705      0.003    -62.916      0.000      -0.176      -0.165\n",
      "rainfall_1                 -0.1585      0.003    -59.450      0.000      -0.164      -0.153\n",
      "===========================================================================================\n"
     ]
    }
   ],
   "source": [
    "print(nb_training_results.summary())"
   ]
  },
  {
   "cell_type": "code",
   "execution_count": 24,
   "id": "c7387aff",
   "metadata": {
    "scrolled": true
   },
   "outputs": [
    {
     "name": "stdout",
     "output_type": "stream",
     "text": [
      "            mean   mean_se  mean_ci_lower  mean_ci_upper\n",
      "6147    0.026199  0.000365       0.025493       0.026924\n",
      "4864   23.621387  0.232431      23.170195      24.081364\n",
      "25971   1.466418  0.014901       1.437502       1.495916\n",
      "15102   1.470329  0.017437       1.436546       1.504905\n",
      "32708   1.453285  0.020604       1.413458       1.494233\n",
      "...          ...       ...            ...            ...\n",
      "21633   8.691651  0.083410       8.529698       8.856679\n",
      "19857   3.996610  0.038406       3.922041       4.072597\n",
      "14528   0.081655  0.001071       0.079582       0.083782\n",
      "899     1.220486  0.014153       1.193061       1.248543\n",
      "45474  25.850273  0.234853      25.394043      26.314700\n",
      "\n",
      "[45292 rows x 4 columns]\n"
     ]
    }
   ],
   "source": [
    "nb_prediction_train=nb_training_results.get_prediction(X_train)\n",
    "nb_summary_frame_train=nb_prediction_train.summary_frame()\n",
    "print(nb_summary_frame_train)"
   ]
  },
  {
   "cell_type": "code",
   "execution_count": 25,
   "id": "859cdbed",
   "metadata": {},
   "outputs": [
    {
     "data": {
      "text/plain": [
       "6147      0.026199\n",
       "4864     23.621387\n",
       "25971     1.466418\n",
       "15102     1.470329\n",
       "32708     1.453285\n",
       "           ...    \n",
       "21633     8.691651\n",
       "19857     3.996610\n",
       "14528     0.081655\n",
       "899       1.220486\n",
       "45474    25.850273\n",
       "Name: mean, Length: 45292, dtype: float64"
      ]
     },
     "execution_count": 25,
     "metadata": {},
     "output_type": "execute_result"
    }
   ],
   "source": [
    "predicted_train_count=nb_summary_frame_train['mean']\n",
    "predicted_train_count"
   ]
  },
  {
   "cell_type": "code",
   "execution_count": 24,
   "id": "706fea5f",
   "metadata": {},
   "outputs": [
    {
     "name": "stdout",
     "output_type": "stream",
     "text": [
      "            mean   mean_se  mean_ci_lower  mean_ci_upper\n",
      "37096  30.570432  0.310006      29.968829      31.184111\n",
      "32405   0.445477  0.004594       0.436564       0.454573\n",
      "29630   4.594579  0.082296       4.436080       4.758740\n",
      "5114    6.272888  0.059759       6.156848       6.391114\n",
      "4064    5.800916  0.057625       5.689066       5.914965\n",
      "...          ...       ...            ...            ...\n",
      "31875   0.938284  0.008712       0.921363       0.955517\n",
      "35947  31.847091  0.364796      31.140071      32.570164\n",
      "35391   0.163993  0.002757       0.158676       0.169487\n",
      "38042   0.136528  0.001790       0.133065       0.140081\n",
      "12791   6.303101  0.159502       5.998109       6.623601\n",
      "\n",
      "[11324 rows x 4 columns]\n"
     ]
    }
   ],
   "source": [
    "nb_prediction_test=nb_training_results.get_prediction(X_test)\n",
    "nb_summary_frame_test=nb_prediction_test.summary_frame()\n",
    "print(nb_summary_frame_test)"
   ]
  },
  {
   "cell_type": "code",
   "execution_count": 31,
   "id": "6b662d4a",
   "metadata": {},
   "outputs": [
    {
     "data": {
      "text/plain": [
       "37096    30.570432\n",
       "32405     0.445477\n",
       "29630     4.594579\n",
       "5114      6.272888\n",
       "4064      5.800916\n",
       "           ...    \n",
       "31875     0.938284\n",
       "35947    31.847091\n",
       "35391     0.163993\n",
       "38042     0.136528\n",
       "12791     6.303101\n",
       "Name: mean, Length: 11324, dtype: float64"
      ]
     },
     "execution_count": 31,
     "metadata": {},
     "output_type": "execute_result"
    }
   ],
   "source": [
    "predicted_test_count=nb_summary_frame_test['mean']\n",
    "predicted_test_count"
   ]
  },
  {
   "cell_type": "code",
   "execution_count": 30,
   "id": "c4881c71",
   "metadata": {},
   "outputs": [
    {
     "name": "stdout",
     "output_type": "stream",
     "text": [
      "MAE 41.651503\n"
     ]
    }
   ],
   "source": [
    "print(\"MAE %f\" %mean_absolute_error(y_test, predicted_test_count))"
   ]
  },
  {
   "cell_type": "code",
   "execution_count": 32,
   "id": "70a74495",
   "metadata": {},
   "outputs": [
    {
     "name": "stdout",
     "output_type": "stream",
     "text": [
      "MSE  16954.343341\n"
     ]
    }
   ],
   "source": [
    "print(\"MSE  %f\" %mean_squared_error(y_test, predicted_test_count))"
   ]
  },
  {
   "cell_type": "code",
   "execution_count": 39,
   "id": "92f7c87e",
   "metadata": {},
   "outputs": [
    {
     "name": "stdout",
     "output_type": "stream",
     "text": [
      "RMSE  130.208845\n"
     ]
    }
   ],
   "source": [
    "import numpy as np\n",
    "print(\"RMSE  %f\" %np.sqrt(mean_squared_error(y_test, predicted_test_count)))"
   ]
  },
  {
   "cell_type": "code",
   "execution_count": 44,
   "id": "848fda97",
   "metadata": {},
   "outputs": [],
   "source": [
    "# cross validation"
   ]
  },
  {
   "cell_type": "code",
   "execution_count": 45,
   "id": "138de970",
   "metadata": {},
   "outputs": [],
   "source": [
    "y=df['tripDensity']\n",
    "X=df_sc"
   ]
  },
  {
   "cell_type": "code",
   "execution_count": 49,
   "id": "b05b7daf",
   "metadata": {},
   "outputs": [],
   "source": [
    "data=pd.concat([y,X],axis=1)"
   ]
  },
  {
   "cell_type": "code",
   "execution_count": 74,
   "id": "dfaf0deb",
   "metadata": {},
   "outputs": [],
   "source": [
    "y=data['tripDensity'].values\n",
    "X=data.drop(['tripDensity'], axis=1).values"
   ]
  },
  {
   "cell_type": "code",
   "execution_count": 46,
   "id": "f5b295c4",
   "metadata": {},
   "outputs": [],
   "source": [
    "preds, scores = [], []"
   ]
  },
  {
   "cell_type": "code",
   "execution_count": 48,
   "id": "955a7d33",
   "metadata": {},
   "outputs": [],
   "source": [
    "kfold = KFold(n_splits=5, shuffle=True, random_state=1)"
   ]
  },
  {
   "cell_type": "code",
   "execution_count": 77,
   "id": "e044d7c9",
   "metadata": {},
   "outputs": [
    {
     "ename": "ValueError",
     "evalue": "endog and exog matrices are different sizes",
     "output_type": "error",
     "traceback": [
      "\u001b[1;31m---------------------------------------------------------------------------\u001b[0m",
      "\u001b[1;31mValueError\u001b[0m                                Traceback (most recent call last)",
      "\u001b[1;32m~\\AppData\\Local\\Temp\\ipykernel_10104\\2567282743.py\u001b[0m in \u001b[0;36m<module>\u001b[1;34m\u001b[0m\n\u001b[0;32m      2\u001b[0m     \u001b[0mX_train\u001b[0m\u001b[1;33m,\u001b[0m \u001b[0mX_test\u001b[0m \u001b[1;33m=\u001b[0m \u001b[0mX\u001b[0m\u001b[1;33m[\u001b[0m\u001b[0mtrain_idx\u001b[0m\u001b[1;33m]\u001b[0m\u001b[1;33m,\u001b[0m \u001b[0mX\u001b[0m\u001b[1;33m[\u001b[0m\u001b[0mtest_idx\u001b[0m\u001b[1;33m]\u001b[0m\u001b[1;33m\u001b[0m\u001b[1;33m\u001b[0m\u001b[0m\n\u001b[0;32m      3\u001b[0m     \u001b[0my_test\u001b[0m \u001b[1;33m=\u001b[0m \u001b[0my\u001b[0m\u001b[1;33m[\u001b[0m\u001b[0mtest_idx\u001b[0m\u001b[1;33m]\u001b[0m\u001b[1;33m\u001b[0m\u001b[1;33m\u001b[0m\u001b[0m\n\u001b[1;32m----> 4\u001b[1;33m     \u001b[0mmodel\u001b[0m\u001b[1;33m=\u001b[0m\u001b[0msm\u001b[0m\u001b[1;33m.\u001b[0m\u001b[0mGLM\u001b[0m\u001b[1;33m(\u001b[0m\u001b[0my_train\u001b[0m\u001b[1;33m,\u001b[0m\u001b[0mX_train\u001b[0m\u001b[1;33m,\u001b[0m \u001b[0mfamily\u001b[0m\u001b[1;33m=\u001b[0m\u001b[0msm\u001b[0m\u001b[1;33m.\u001b[0m\u001b[0mfamilies\u001b[0m\u001b[1;33m.\u001b[0m\u001b[0mNegativeBinomial\u001b[0m\u001b[1;33m(\u001b[0m\u001b[0malpha\u001b[0m\u001b[1;33m=\u001b[0m\u001b[1;36m0.981766\u001b[0m\u001b[1;33m)\u001b[0m\u001b[1;33m)\u001b[0m\u001b[1;33m.\u001b[0m\u001b[0mfit\u001b[0m\u001b[1;33m(\u001b[0m\u001b[0mmethod\u001b[0m\u001b[1;33m=\u001b[0m\u001b[1;34m'bfgs'\u001b[0m\u001b[1;33m)\u001b[0m\u001b[1;33m\u001b[0m\u001b[1;33m\u001b[0m\u001b[0m\n\u001b[0m\u001b[0;32m      5\u001b[0m     \u001b[0mpreds\u001b[0m\u001b[1;33m.\u001b[0m\u001b[0mappend\u001b[0m\u001b[1;33m(\u001b[0m\u001b[0mmodel\u001b[0m\u001b[1;33m.\u001b[0m\u001b[0mget_prediction\u001b[0m\u001b[1;33m(\u001b[0m\u001b[0mX_test\u001b[0m\u001b[1;33m)\u001b[0m\u001b[1;33m)\u001b[0m\u001b[1;33m\u001b[0m\u001b[1;33m\u001b[0m\u001b[0m\n\u001b[0;32m      6\u001b[0m     \u001b[1;31m#scores.append(model.score(X_test, y_test))\u001b[0m\u001b[1;33m\u001b[0m\u001b[1;33m\u001b[0m\u001b[1;33m\u001b[0m\u001b[0m\n",
      "\u001b[1;32mC:\\ProgramData\\Anaconda3\\lib\\site-packages\\statsmodels\\genmod\\generalized_linear_model.py\u001b[0m in \u001b[0;36m__init__\u001b[1;34m(self, endog, exog, family, offset, exposure, freq_weights, var_weights, missing, **kwargs)\u001b[0m\n\u001b[0;32m    317\u001b[0m                                   \u001b[0moffset\u001b[0m\u001b[1;33m=\u001b[0m\u001b[0moffset\u001b[0m\u001b[1;33m,\u001b[0m \u001b[0mexposure\u001b[0m\u001b[1;33m=\u001b[0m\u001b[0mexposure\u001b[0m\u001b[1;33m,\u001b[0m\u001b[1;33m\u001b[0m\u001b[1;33m\u001b[0m\u001b[0m\n\u001b[0;32m    318\u001b[0m                                   \u001b[0mfreq_weights\u001b[0m\u001b[1;33m=\u001b[0m\u001b[0mfreq_weights\u001b[0m\u001b[1;33m,\u001b[0m\u001b[1;33m\u001b[0m\u001b[1;33m\u001b[0m\u001b[0m\n\u001b[1;32m--> 319\u001b[1;33m                                   var_weights=var_weights, **kwargs)\n\u001b[0m\u001b[0;32m    320\u001b[0m         self._check_inputs(family, self.offset, self.exposure, self.endog,\n\u001b[0;32m    321\u001b[0m                            self.freq_weights, self.var_weights)\n",
      "\u001b[1;32mC:\\ProgramData\\Anaconda3\\lib\\site-packages\\statsmodels\\base\\model.py\u001b[0m in \u001b[0;36m__init__\u001b[1;34m(self, endog, exog, **kwargs)\u001b[0m\n\u001b[0;32m    265\u001b[0m \u001b[1;33m\u001b[0m\u001b[0m\n\u001b[0;32m    266\u001b[0m     \u001b[1;32mdef\u001b[0m \u001b[0m__init__\u001b[0m\u001b[1;33m(\u001b[0m\u001b[0mself\u001b[0m\u001b[1;33m,\u001b[0m \u001b[0mendog\u001b[0m\u001b[1;33m,\u001b[0m \u001b[0mexog\u001b[0m\u001b[1;33m=\u001b[0m\u001b[1;32mNone\u001b[0m\u001b[1;33m,\u001b[0m \u001b[1;33m**\u001b[0m\u001b[0mkwargs\u001b[0m\u001b[1;33m)\u001b[0m\u001b[1;33m:\u001b[0m\u001b[1;33m\u001b[0m\u001b[1;33m\u001b[0m\u001b[0m\n\u001b[1;32m--> 267\u001b[1;33m         \u001b[0msuper\u001b[0m\u001b[1;33m(\u001b[0m\u001b[1;33m)\u001b[0m\u001b[1;33m.\u001b[0m\u001b[0m__init__\u001b[0m\u001b[1;33m(\u001b[0m\u001b[0mendog\u001b[0m\u001b[1;33m,\u001b[0m \u001b[0mexog\u001b[0m\u001b[1;33m,\u001b[0m \u001b[1;33m**\u001b[0m\u001b[0mkwargs\u001b[0m\u001b[1;33m)\u001b[0m\u001b[1;33m\u001b[0m\u001b[1;33m\u001b[0m\u001b[0m\n\u001b[0m\u001b[0;32m    268\u001b[0m         \u001b[0mself\u001b[0m\u001b[1;33m.\u001b[0m\u001b[0minitialize\u001b[0m\u001b[1;33m(\u001b[0m\u001b[1;33m)\u001b[0m\u001b[1;33m\u001b[0m\u001b[1;33m\u001b[0m\u001b[0m\n\u001b[0;32m    269\u001b[0m \u001b[1;33m\u001b[0m\u001b[0m\n",
      "\u001b[1;32mC:\\ProgramData\\Anaconda3\\lib\\site-packages\\statsmodels\\base\\model.py\u001b[0m in \u001b[0;36m__init__\u001b[1;34m(self, endog, exog, **kwargs)\u001b[0m\n\u001b[0;32m     91\u001b[0m         \u001b[0mhasconst\u001b[0m \u001b[1;33m=\u001b[0m \u001b[0mkwargs\u001b[0m\u001b[1;33m.\u001b[0m\u001b[0mpop\u001b[0m\u001b[1;33m(\u001b[0m\u001b[1;34m'hasconst'\u001b[0m\u001b[1;33m,\u001b[0m \u001b[1;32mNone\u001b[0m\u001b[1;33m)\u001b[0m\u001b[1;33m\u001b[0m\u001b[1;33m\u001b[0m\u001b[0m\n\u001b[0;32m     92\u001b[0m         self.data = self._handle_data(endog, exog, missing, hasconst,\n\u001b[1;32m---> 93\u001b[1;33m                                       **kwargs)\n\u001b[0m\u001b[0;32m     94\u001b[0m         \u001b[0mself\u001b[0m\u001b[1;33m.\u001b[0m\u001b[0mk_constant\u001b[0m \u001b[1;33m=\u001b[0m \u001b[0mself\u001b[0m\u001b[1;33m.\u001b[0m\u001b[0mdata\u001b[0m\u001b[1;33m.\u001b[0m\u001b[0mk_constant\u001b[0m\u001b[1;33m\u001b[0m\u001b[1;33m\u001b[0m\u001b[0m\n\u001b[0;32m     95\u001b[0m         \u001b[0mself\u001b[0m\u001b[1;33m.\u001b[0m\u001b[0mexog\u001b[0m \u001b[1;33m=\u001b[0m \u001b[0mself\u001b[0m\u001b[1;33m.\u001b[0m\u001b[0mdata\u001b[0m\u001b[1;33m.\u001b[0m\u001b[0mexog\u001b[0m\u001b[1;33m\u001b[0m\u001b[1;33m\u001b[0m\u001b[0m\n",
      "\u001b[1;32mC:\\ProgramData\\Anaconda3\\lib\\site-packages\\statsmodels\\base\\model.py\u001b[0m in \u001b[0;36m_handle_data\u001b[1;34m(self, endog, exog, missing, hasconst, **kwargs)\u001b[0m\n\u001b[0;32m    130\u001b[0m \u001b[1;33m\u001b[0m\u001b[0m\n\u001b[0;32m    131\u001b[0m     \u001b[1;32mdef\u001b[0m \u001b[0m_handle_data\u001b[0m\u001b[1;33m(\u001b[0m\u001b[0mself\u001b[0m\u001b[1;33m,\u001b[0m \u001b[0mendog\u001b[0m\u001b[1;33m,\u001b[0m \u001b[0mexog\u001b[0m\u001b[1;33m,\u001b[0m \u001b[0mmissing\u001b[0m\u001b[1;33m,\u001b[0m \u001b[0mhasconst\u001b[0m\u001b[1;33m,\u001b[0m \u001b[1;33m**\u001b[0m\u001b[0mkwargs\u001b[0m\u001b[1;33m)\u001b[0m\u001b[1;33m:\u001b[0m\u001b[1;33m\u001b[0m\u001b[1;33m\u001b[0m\u001b[0m\n\u001b[1;32m--> 132\u001b[1;33m         \u001b[0mdata\u001b[0m \u001b[1;33m=\u001b[0m \u001b[0mhandle_data\u001b[0m\u001b[1;33m(\u001b[0m\u001b[0mendog\u001b[0m\u001b[1;33m,\u001b[0m \u001b[0mexog\u001b[0m\u001b[1;33m,\u001b[0m \u001b[0mmissing\u001b[0m\u001b[1;33m,\u001b[0m \u001b[0mhasconst\u001b[0m\u001b[1;33m,\u001b[0m \u001b[1;33m**\u001b[0m\u001b[0mkwargs\u001b[0m\u001b[1;33m)\u001b[0m\u001b[1;33m\u001b[0m\u001b[1;33m\u001b[0m\u001b[0m\n\u001b[0m\u001b[0;32m    133\u001b[0m         \u001b[1;31m# kwargs arrays could have changed, easier to just attach here\u001b[0m\u001b[1;33m\u001b[0m\u001b[1;33m\u001b[0m\u001b[1;33m\u001b[0m\u001b[0m\n\u001b[0;32m    134\u001b[0m         \u001b[1;32mfor\u001b[0m \u001b[0mkey\u001b[0m \u001b[1;32min\u001b[0m \u001b[0mkwargs\u001b[0m\u001b[1;33m:\u001b[0m\u001b[1;33m\u001b[0m\u001b[1;33m\u001b[0m\u001b[0m\n",
      "\u001b[1;32mC:\\ProgramData\\Anaconda3\\lib\\site-packages\\statsmodels\\base\\data.py\u001b[0m in \u001b[0;36mhandle_data\u001b[1;34m(endog, exog, missing, hasconst, **kwargs)\u001b[0m\n\u001b[0;32m    672\u001b[0m     \u001b[0mklass\u001b[0m \u001b[1;33m=\u001b[0m \u001b[0mhandle_data_class_factory\u001b[0m\u001b[1;33m(\u001b[0m\u001b[0mendog\u001b[0m\u001b[1;33m,\u001b[0m \u001b[0mexog\u001b[0m\u001b[1;33m)\u001b[0m\u001b[1;33m\u001b[0m\u001b[1;33m\u001b[0m\u001b[0m\n\u001b[0;32m    673\u001b[0m     return klass(endog, exog=exog, missing=missing, hasconst=hasconst,\n\u001b[1;32m--> 674\u001b[1;33m                  **kwargs)\n\u001b[0m",
      "\u001b[1;32mC:\\ProgramData\\Anaconda3\\lib\\site-packages\\statsmodels\\base\\data.py\u001b[0m in \u001b[0;36m__init__\u001b[1;34m(self, endog, exog, missing, hasconst, **kwargs)\u001b[0m\n\u001b[0;32m     85\u001b[0m         \u001b[0mself\u001b[0m\u001b[1;33m.\u001b[0m\u001b[0mk_constant\u001b[0m \u001b[1;33m=\u001b[0m \u001b[1;36m0\u001b[0m\u001b[1;33m\u001b[0m\u001b[1;33m\u001b[0m\u001b[0m\n\u001b[0;32m     86\u001b[0m         \u001b[0mself\u001b[0m\u001b[1;33m.\u001b[0m\u001b[0m_handle_constant\u001b[0m\u001b[1;33m(\u001b[0m\u001b[0mhasconst\u001b[0m\u001b[1;33m)\u001b[0m\u001b[1;33m\u001b[0m\u001b[1;33m\u001b[0m\u001b[0m\n\u001b[1;32m---> 87\u001b[1;33m         \u001b[0mself\u001b[0m\u001b[1;33m.\u001b[0m\u001b[0m_check_integrity\u001b[0m\u001b[1;33m(\u001b[0m\u001b[1;33m)\u001b[0m\u001b[1;33m\u001b[0m\u001b[1;33m\u001b[0m\u001b[0m\n\u001b[0m\u001b[0;32m     88\u001b[0m         \u001b[0mself\u001b[0m\u001b[1;33m.\u001b[0m\u001b[0m_cache\u001b[0m \u001b[1;33m=\u001b[0m \u001b[1;33m{\u001b[0m\u001b[1;33m}\u001b[0m\u001b[1;33m\u001b[0m\u001b[1;33m\u001b[0m\u001b[0m\n\u001b[0;32m     89\u001b[0m \u001b[1;33m\u001b[0m\u001b[0m\n",
      "\u001b[1;32mC:\\ProgramData\\Anaconda3\\lib\\site-packages\\statsmodels\\base\\data.py\u001b[0m in \u001b[0;36m_check_integrity\u001b[1;34m(self)\u001b[0m\n\u001b[0;32m    530\u001b[0m                 not self.orig_endog.index.equals(self.orig_exog.index)):\n\u001b[0;32m    531\u001b[0m             \u001b[1;32mraise\u001b[0m \u001b[0mValueError\u001b[0m\u001b[1;33m(\u001b[0m\u001b[1;34m\"The indices for endog and exog are not aligned\"\u001b[0m\u001b[1;33m)\u001b[0m\u001b[1;33m\u001b[0m\u001b[1;33m\u001b[0m\u001b[0m\n\u001b[1;32m--> 532\u001b[1;33m         \u001b[0msuper\u001b[0m\u001b[1;33m(\u001b[0m\u001b[0mPandasData\u001b[0m\u001b[1;33m,\u001b[0m \u001b[0mself\u001b[0m\u001b[1;33m)\u001b[0m\u001b[1;33m.\u001b[0m\u001b[0m_check_integrity\u001b[0m\u001b[1;33m(\u001b[0m\u001b[1;33m)\u001b[0m\u001b[1;33m\u001b[0m\u001b[1;33m\u001b[0m\u001b[0m\n\u001b[0m\u001b[0;32m    533\u001b[0m \u001b[1;33m\u001b[0m\u001b[0m\n\u001b[0;32m    534\u001b[0m     \u001b[1;32mdef\u001b[0m \u001b[0m_get_row_labels\u001b[0m\u001b[1;33m(\u001b[0m\u001b[0mself\u001b[0m\u001b[1;33m,\u001b[0m \u001b[0marr\u001b[0m\u001b[1;33m)\u001b[0m\u001b[1;33m:\u001b[0m\u001b[1;33m\u001b[0m\u001b[1;33m\u001b[0m\u001b[0m\n",
      "\u001b[1;32mC:\\ProgramData\\Anaconda3\\lib\\site-packages\\statsmodels\\base\\data.py\u001b[0m in \u001b[0;36m_check_integrity\u001b[1;34m(self)\u001b[0m\n\u001b[0;32m    432\u001b[0m         \u001b[1;32mif\u001b[0m \u001b[0mself\u001b[0m\u001b[1;33m.\u001b[0m\u001b[0mexog\u001b[0m \u001b[1;32mis\u001b[0m \u001b[1;32mnot\u001b[0m \u001b[1;32mNone\u001b[0m\u001b[1;33m:\u001b[0m\u001b[1;33m\u001b[0m\u001b[1;33m\u001b[0m\u001b[0m\n\u001b[0;32m    433\u001b[0m             \u001b[1;32mif\u001b[0m \u001b[0mlen\u001b[0m\u001b[1;33m(\u001b[0m\u001b[0mself\u001b[0m\u001b[1;33m.\u001b[0m\u001b[0mexog\u001b[0m\u001b[1;33m)\u001b[0m \u001b[1;33m!=\u001b[0m \u001b[0mlen\u001b[0m\u001b[1;33m(\u001b[0m\u001b[0mself\u001b[0m\u001b[1;33m.\u001b[0m\u001b[0mendog\u001b[0m\u001b[1;33m)\u001b[0m\u001b[1;33m:\u001b[0m\u001b[1;33m\u001b[0m\u001b[1;33m\u001b[0m\u001b[0m\n\u001b[1;32m--> 434\u001b[1;33m                 \u001b[1;32mraise\u001b[0m \u001b[0mValueError\u001b[0m\u001b[1;33m(\u001b[0m\u001b[1;34m\"endog and exog matrices are different sizes\"\u001b[0m\u001b[1;33m)\u001b[0m\u001b[1;33m\u001b[0m\u001b[1;33m\u001b[0m\u001b[0m\n\u001b[0m\u001b[0;32m    435\u001b[0m \u001b[1;33m\u001b[0m\u001b[0m\n\u001b[0;32m    436\u001b[0m     \u001b[1;32mdef\u001b[0m \u001b[0mwrap_output\u001b[0m\u001b[1;33m(\u001b[0m\u001b[0mself\u001b[0m\u001b[1;33m,\u001b[0m \u001b[0mobj\u001b[0m\u001b[1;33m,\u001b[0m \u001b[0mhow\u001b[0m\u001b[1;33m=\u001b[0m\u001b[1;34m'columns'\u001b[0m\u001b[1;33m,\u001b[0m \u001b[0mnames\u001b[0m\u001b[1;33m=\u001b[0m\u001b[1;32mNone\u001b[0m\u001b[1;33m)\u001b[0m\u001b[1;33m:\u001b[0m\u001b[1;33m\u001b[0m\u001b[1;33m\u001b[0m\u001b[0m\n",
      "\u001b[1;31mValueError\u001b[0m: endog and exog matrices are different sizes"
     ]
    }
   ],
   "source": [
    "for train_idx, test_idx in kfold.split(data):\n",
    "    X_train, X_test = X[train_idx], X[test_idx]\n",
    "    y_test = y[test_idx]\n",
    "    model=sm.GLM(y_train,X_train, family=sm.families.NegativeBinomial(alpha=0.981766)).fit(method='bfgs')\n",
    "    preds.append(model.get_prediction(X_test))\n",
    "    #scores.append(model.score(X_test, y_test))\n",
    "print(preds)"
   ]
  },
  {
   "cell_type": "code",
   "execution_count": null,
   "id": "47e8373d",
   "metadata": {},
   "outputs": [],
   "source": []
  }
 ],
 "metadata": {
  "kernelspec": {
   "display_name": "Python 3 (ipykernel)",
   "language": "python",
   "name": "python3"
  },
  "language_info": {
   "codemirror_mode": {
    "name": "ipython",
    "version": 3
   },
   "file_extension": ".py",
   "mimetype": "text/x-python",
   "name": "python",
   "nbconvert_exporter": "python",
   "pygments_lexer": "ipython3",
   "version": "3.7.13"
  }
 },
 "nbformat": 4,
 "nbformat_minor": 5
}
