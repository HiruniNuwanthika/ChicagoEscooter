{
 "cells": [
  {
   "cell_type": "code",
   "execution_count": 32,
   "id": "fd557502",
   "metadata": {},
   "outputs": [],
   "source": [
    "from sklearn.ensemble import RandomForestRegressor\n",
    "from sklearn.datasets import load_boston\n",
    "from sklearn.datasets import make_regression\n",
    "\n",
    "from sklearn.preprocessing import scale\n",
    "from sklearn.model_selection import train_test_split\n",
    "from sklearn.model_selection import cross_val_score\n",
    "\n",
    "import matplotlib.pyplot as plt\n",
    "from sklearn import set_config \n",
    "import pandas as pd"
   ]
  },
  {
   "cell_type": "code",
   "execution_count": 2,
   "id": "04a5d687",
   "metadata": {},
   "outputs": [],
   "source": [
    "df=pd.read_csv(r'C:\\Melbourne_Escooter\\RealDataset\\FinalResults\\SA1\\Features-trips\\Final\\AllFeatures-original - wholeNumberDensity - Copy.csv')"
   ]
  },
  {
   "cell_type": "code",
   "execution_count": 3,
   "id": "6689527a",
   "metadata": {},
   "outputs": [],
   "source": [
    "df=df.drop(['SA1_CODE21'], axis=1)"
   ]
  },
  {
   "cell_type": "code",
   "execution_count": 4,
   "id": "914fd478",
   "metadata": {},
   "outputs": [],
   "source": [
    "df[\"hour\"].replace({0:1,1:1,2:1,3:2,4:2,5:2,6:3,7:3,8:3,9:4,10:4,11:4,12:5,13:5,14:5,15:6,16:6,17:6,18:7,19:7,20:7,21:8,22:8,23:8}, inplace=True)"
   ]
  },
  {
   "cell_type": "code",
   "execution_count": 5,
   "id": "bf7a0226",
   "metadata": {},
   "outputs": [],
   "source": [
    "df[\"date\"].replace({1:1,2: 1, 3: 1,4: 1,5: 1,6: 2,7: 2}, inplace=True)"
   ]
  },
  {
   "cell_type": "code",
   "execution_count": 6,
   "id": "d3c61938",
   "metadata": {},
   "outputs": [],
   "source": [
    "df['trainDensity'] = df['trainDensity'].map(lambda x: 1 if x>0 else 0)"
   ]
  },
  {
   "cell_type": "code",
   "execution_count": 7,
   "id": "373f5672",
   "metadata": {},
   "outputs": [],
   "source": [
    "categorical =['hour','date','rainfall','trainDensity']\n",
    "for col in categorical:\n",
    "    df[col]=df[col].astype('category')"
   ]
  },
  {
   "cell_type": "code",
   "execution_count": 8,
   "id": "2dbf458b",
   "metadata": {},
   "outputs": [],
   "source": [
    "df=pd.get_dummies(df, drop_first=True)"
   ]
  },
  {
   "cell_type": "code",
   "execution_count": 42,
   "id": "63fe96e9",
   "metadata": {},
   "outputs": [
    {
     "name": "stdout",
     "output_type": "stream",
     "text": [
      "31\n"
     ]
    }
   ],
   "source": [
    "print(len(df.columns))"
   ]
  },
  {
   "cell_type": "code",
   "execution_count": 9,
   "id": "b5723ef1",
   "metadata": {},
   "outputs": [],
   "source": [
    "y=df['tripDensity']\n",
    "\n",
    "X=df.drop(['tripDensity'], axis=1)"
   ]
  },
  {
   "cell_type": "code",
   "execution_count": 10,
   "id": "a4f69162",
   "metadata": {},
   "outputs": [
    {
     "data": {
      "text/html": [
       "<div>\n",
       "<style scoped>\n",
       "    .dataframe tbody tr th:only-of-type {\n",
       "        vertical-align: middle;\n",
       "    }\n",
       "\n",
       "    .dataframe tbody tr th {\n",
       "        vertical-align: top;\n",
       "    }\n",
       "\n",
       "    .dataframe thead th {\n",
       "        text-align: right;\n",
       "    }\n",
       "</style>\n",
       "<table border=\"1\" class=\"dataframe\">\n",
       "  <thead>\n",
       "    <tr style=\"text-align: right;\">\n",
       "      <th></th>\n",
       "      <th>busDensity</th>\n",
       "      <th>tramDensity</th>\n",
       "      <th>House perc</th>\n",
       "      <th>Cafe perc</th>\n",
       "      <th>Office perc</th>\n",
       "      <th>Shops perc</th>\n",
       "      <th>entropy</th>\n",
       "      <th>mxi</th>\n",
       "      <th>recreationCount</th>\n",
       "      <th>campusCount</th>\n",
       "      <th>...</th>\n",
       "      <th>date_2</th>\n",
       "      <th>hour_2</th>\n",
       "      <th>hour_3</th>\n",
       "      <th>hour_4</th>\n",
       "      <th>hour_5</th>\n",
       "      <th>hour_6</th>\n",
       "      <th>hour_7</th>\n",
       "      <th>hour_8</th>\n",
       "      <th>trainDensity_1</th>\n",
       "      <th>rainfall_1</th>\n",
       "    </tr>\n",
       "  </thead>\n",
       "  <tbody>\n",
       "    <tr>\n",
       "      <th>0</th>\n",
       "      <td>38.684720</td>\n",
       "      <td>19.34236</td>\n",
       "      <td>0.370229</td>\n",
       "      <td>0.576336</td>\n",
       "      <td>0.022901</td>\n",
       "      <td>0.030534</td>\n",
       "      <td>1.352866</td>\n",
       "      <td>12.977099</td>\n",
       "      <td>0</td>\n",
       "      <td>0</td>\n",
       "      <td>...</td>\n",
       "      <td>0</td>\n",
       "      <td>0</td>\n",
       "      <td>0</td>\n",
       "      <td>0</td>\n",
       "      <td>0</td>\n",
       "      <td>0</td>\n",
       "      <td>0</td>\n",
       "      <td>0</td>\n",
       "      <td>0</td>\n",
       "      <td>0</td>\n",
       "    </tr>\n",
       "    <tr>\n",
       "      <th>1</th>\n",
       "      <td>38.684720</td>\n",
       "      <td>19.34236</td>\n",
       "      <td>0.370229</td>\n",
       "      <td>0.576336</td>\n",
       "      <td>0.022901</td>\n",
       "      <td>0.030534</td>\n",
       "      <td>1.352866</td>\n",
       "      <td>12.977099</td>\n",
       "      <td>0</td>\n",
       "      <td>0</td>\n",
       "      <td>...</td>\n",
       "      <td>0</td>\n",
       "      <td>0</td>\n",
       "      <td>0</td>\n",
       "      <td>0</td>\n",
       "      <td>0</td>\n",
       "      <td>0</td>\n",
       "      <td>0</td>\n",
       "      <td>0</td>\n",
       "      <td>0</td>\n",
       "      <td>0</td>\n",
       "    </tr>\n",
       "    <tr>\n",
       "      <th>2</th>\n",
       "      <td>38.684720</td>\n",
       "      <td>19.34236</td>\n",
       "      <td>0.370229</td>\n",
       "      <td>0.576336</td>\n",
       "      <td>0.022901</td>\n",
       "      <td>0.030534</td>\n",
       "      <td>1.352866</td>\n",
       "      <td>12.977099</td>\n",
       "      <td>0</td>\n",
       "      <td>0</td>\n",
       "      <td>...</td>\n",
       "      <td>0</td>\n",
       "      <td>0</td>\n",
       "      <td>0</td>\n",
       "      <td>0</td>\n",
       "      <td>0</td>\n",
       "      <td>0</td>\n",
       "      <td>0</td>\n",
       "      <td>0</td>\n",
       "      <td>0</td>\n",
       "      <td>0</td>\n",
       "    </tr>\n",
       "    <tr>\n",
       "      <th>3</th>\n",
       "      <td>38.684720</td>\n",
       "      <td>19.34236</td>\n",
       "      <td>0.370229</td>\n",
       "      <td>0.576336</td>\n",
       "      <td>0.022901</td>\n",
       "      <td>0.030534</td>\n",
       "      <td>1.352866</td>\n",
       "      <td>12.977099</td>\n",
       "      <td>0</td>\n",
       "      <td>0</td>\n",
       "      <td>...</td>\n",
       "      <td>0</td>\n",
       "      <td>1</td>\n",
       "      <td>0</td>\n",
       "      <td>0</td>\n",
       "      <td>0</td>\n",
       "      <td>0</td>\n",
       "      <td>0</td>\n",
       "      <td>0</td>\n",
       "      <td>0</td>\n",
       "      <td>0</td>\n",
       "    </tr>\n",
       "    <tr>\n",
       "      <th>4</th>\n",
       "      <td>38.684720</td>\n",
       "      <td>19.34236</td>\n",
       "      <td>0.370229</td>\n",
       "      <td>0.576336</td>\n",
       "      <td>0.022901</td>\n",
       "      <td>0.030534</td>\n",
       "      <td>1.352866</td>\n",
       "      <td>12.977099</td>\n",
       "      <td>0</td>\n",
       "      <td>0</td>\n",
       "      <td>...</td>\n",
       "      <td>0</td>\n",
       "      <td>1</td>\n",
       "      <td>0</td>\n",
       "      <td>0</td>\n",
       "      <td>0</td>\n",
       "      <td>0</td>\n",
       "      <td>0</td>\n",
       "      <td>0</td>\n",
       "      <td>0</td>\n",
       "      <td>0</td>\n",
       "    </tr>\n",
       "    <tr>\n",
       "      <th>...</th>\n",
       "      <td>...</td>\n",
       "      <td>...</td>\n",
       "      <td>...</td>\n",
       "      <td>...</td>\n",
       "      <td>...</td>\n",
       "      <td>...</td>\n",
       "      <td>...</td>\n",
       "      <td>...</td>\n",
       "      <td>...</td>\n",
       "      <td>...</td>\n",
       "      <td>...</td>\n",
       "      <td>...</td>\n",
       "      <td>...</td>\n",
       "      <td>...</td>\n",
       "      <td>...</td>\n",
       "      <td>...</td>\n",
       "      <td>...</td>\n",
       "      <td>...</td>\n",
       "      <td>...</td>\n",
       "      <td>...</td>\n",
       "      <td>...</td>\n",
       "    </tr>\n",
       "    <tr>\n",
       "      <th>56611</th>\n",
       "      <td>46.728972</td>\n",
       "      <td>0.00000</td>\n",
       "      <td>0.089286</td>\n",
       "      <td>0.803571</td>\n",
       "      <td>0.071429</td>\n",
       "      <td>0.035714</td>\n",
       "      <td>1.118100</td>\n",
       "      <td>41.071429</td>\n",
       "      <td>0</td>\n",
       "      <td>0</td>\n",
       "      <td>...</td>\n",
       "      <td>1</td>\n",
       "      <td>0</td>\n",
       "      <td>0</td>\n",
       "      <td>0</td>\n",
       "      <td>0</td>\n",
       "      <td>0</td>\n",
       "      <td>1</td>\n",
       "      <td>0</td>\n",
       "      <td>0</td>\n",
       "      <td>1</td>\n",
       "    </tr>\n",
       "    <tr>\n",
       "      <th>56612</th>\n",
       "      <td>46.728972</td>\n",
       "      <td>0.00000</td>\n",
       "      <td>0.089286</td>\n",
       "      <td>0.803571</td>\n",
       "      <td>0.071429</td>\n",
       "      <td>0.035714</td>\n",
       "      <td>1.118100</td>\n",
       "      <td>41.071429</td>\n",
       "      <td>0</td>\n",
       "      <td>0</td>\n",
       "      <td>...</td>\n",
       "      <td>1</td>\n",
       "      <td>0</td>\n",
       "      <td>0</td>\n",
       "      <td>0</td>\n",
       "      <td>0</td>\n",
       "      <td>0</td>\n",
       "      <td>1</td>\n",
       "      <td>0</td>\n",
       "      <td>0</td>\n",
       "      <td>1</td>\n",
       "    </tr>\n",
       "    <tr>\n",
       "      <th>56613</th>\n",
       "      <td>46.728972</td>\n",
       "      <td>0.00000</td>\n",
       "      <td>0.089286</td>\n",
       "      <td>0.803571</td>\n",
       "      <td>0.071429</td>\n",
       "      <td>0.035714</td>\n",
       "      <td>1.118100</td>\n",
       "      <td>41.071429</td>\n",
       "      <td>0</td>\n",
       "      <td>0</td>\n",
       "      <td>...</td>\n",
       "      <td>1</td>\n",
       "      <td>0</td>\n",
       "      <td>0</td>\n",
       "      <td>0</td>\n",
       "      <td>0</td>\n",
       "      <td>0</td>\n",
       "      <td>0</td>\n",
       "      <td>1</td>\n",
       "      <td>0</td>\n",
       "      <td>1</td>\n",
       "    </tr>\n",
       "    <tr>\n",
       "      <th>56614</th>\n",
       "      <td>46.728972</td>\n",
       "      <td>0.00000</td>\n",
       "      <td>0.089286</td>\n",
       "      <td>0.803571</td>\n",
       "      <td>0.071429</td>\n",
       "      <td>0.035714</td>\n",
       "      <td>1.118100</td>\n",
       "      <td>41.071429</td>\n",
       "      <td>0</td>\n",
       "      <td>0</td>\n",
       "      <td>...</td>\n",
       "      <td>1</td>\n",
       "      <td>0</td>\n",
       "      <td>0</td>\n",
       "      <td>0</td>\n",
       "      <td>0</td>\n",
       "      <td>0</td>\n",
       "      <td>0</td>\n",
       "      <td>1</td>\n",
       "      <td>0</td>\n",
       "      <td>1</td>\n",
       "    </tr>\n",
       "    <tr>\n",
       "      <th>56615</th>\n",
       "      <td>46.728972</td>\n",
       "      <td>0.00000</td>\n",
       "      <td>0.089286</td>\n",
       "      <td>0.803571</td>\n",
       "      <td>0.071429</td>\n",
       "      <td>0.035714</td>\n",
       "      <td>1.118100</td>\n",
       "      <td>41.071429</td>\n",
       "      <td>0</td>\n",
       "      <td>0</td>\n",
       "      <td>...</td>\n",
       "      <td>1</td>\n",
       "      <td>0</td>\n",
       "      <td>0</td>\n",
       "      <td>0</td>\n",
       "      <td>0</td>\n",
       "      <td>0</td>\n",
       "      <td>0</td>\n",
       "      <td>1</td>\n",
       "      <td>0</td>\n",
       "      <td>1</td>\n",
       "    </tr>\n",
       "  </tbody>\n",
       "</table>\n",
       "<p>56616 rows × 30 columns</p>\n",
       "</div>"
      ],
      "text/plain": [
       "       busDensity  tramDensity  House perc  Cafe perc  Office perc  \\\n",
       "0       38.684720     19.34236    0.370229   0.576336     0.022901   \n",
       "1       38.684720     19.34236    0.370229   0.576336     0.022901   \n",
       "2       38.684720     19.34236    0.370229   0.576336     0.022901   \n",
       "3       38.684720     19.34236    0.370229   0.576336     0.022901   \n",
       "4       38.684720     19.34236    0.370229   0.576336     0.022901   \n",
       "...           ...          ...         ...        ...          ...   \n",
       "56611   46.728972      0.00000    0.089286   0.803571     0.071429   \n",
       "56612   46.728972      0.00000    0.089286   0.803571     0.071429   \n",
       "56613   46.728972      0.00000    0.089286   0.803571     0.071429   \n",
       "56614   46.728972      0.00000    0.089286   0.803571     0.071429   \n",
       "56615   46.728972      0.00000    0.089286   0.803571     0.071429   \n",
       "\n",
       "       Shops perc   entropy        mxi  recreationCount  campusCount  ...  \\\n",
       "0        0.030534  1.352866  12.977099                0            0  ...   \n",
       "1        0.030534  1.352866  12.977099                0            0  ...   \n",
       "2        0.030534  1.352866  12.977099                0            0  ...   \n",
       "3        0.030534  1.352866  12.977099                0            0  ...   \n",
       "4        0.030534  1.352866  12.977099                0            0  ...   \n",
       "...           ...       ...        ...              ...          ...  ...   \n",
       "56611    0.035714  1.118100  41.071429                0            0  ...   \n",
       "56612    0.035714  1.118100  41.071429                0            0  ...   \n",
       "56613    0.035714  1.118100  41.071429                0            0  ...   \n",
       "56614    0.035714  1.118100  41.071429                0            0  ...   \n",
       "56615    0.035714  1.118100  41.071429                0            0  ...   \n",
       "\n",
       "       date_2  hour_2  hour_3  hour_4  hour_5  hour_6  hour_7  hour_8  \\\n",
       "0           0       0       0       0       0       0       0       0   \n",
       "1           0       0       0       0       0       0       0       0   \n",
       "2           0       0       0       0       0       0       0       0   \n",
       "3           0       1       0       0       0       0       0       0   \n",
       "4           0       1       0       0       0       0       0       0   \n",
       "...       ...     ...     ...     ...     ...     ...     ...     ...   \n",
       "56611       1       0       0       0       0       0       1       0   \n",
       "56612       1       0       0       0       0       0       1       0   \n",
       "56613       1       0       0       0       0       0       0       1   \n",
       "56614       1       0       0       0       0       0       0       1   \n",
       "56615       1       0       0       0       0       0       0       1   \n",
       "\n",
       "       trainDensity_1  rainfall_1  \n",
       "0                   0           0  \n",
       "1                   0           0  \n",
       "2                   0           0  \n",
       "3                   0           0  \n",
       "4                   0           0  \n",
       "...               ...         ...  \n",
       "56611               0           1  \n",
       "56612               0           1  \n",
       "56613               0           1  \n",
       "56614               0           1  \n",
       "56615               0           1  \n",
       "\n",
       "[56616 rows x 30 columns]"
      ]
     },
     "execution_count": 10,
     "metadata": {},
     "output_type": "execute_result"
    }
   ],
   "source": [
    "X"
   ]
  },
  {
   "cell_type": "code",
   "execution_count": 11,
   "id": "435d0a4b",
   "metadata": {},
   "outputs": [],
   "source": [
    "X_train, X_test, y_train, y_test = train_test_split(X, y, test_size=0.2,random_state=24)"
   ]
  },
  {
   "cell_type": "code",
   "execution_count": 77,
   "id": "8696c9cd",
   "metadata": {},
   "outputs": [],
   "source": [
    "model = RandomForestRegressor(n_estimators=200, random_state=24, max_features=6) "
   ]
  },
  {
   "cell_type": "code",
   "execution_count": 78,
   "id": "c87b084e",
   "metadata": {},
   "outputs": [],
   "source": [
    "LL_rf=model.fit(X_train, y_train)"
   ]
  },
  {
   "cell_type": "code",
   "execution_count": 62,
   "id": "4fd4f28d",
   "metadata": {},
   "outputs": [
    {
     "name": "stdout",
     "output_type": "stream",
     "text": [
      "R-squared: 0.4642170064163532\n"
     ]
    }
   ],
   "source": [
    "score = LL_rf.score(X_train, y_train)\n",
    "print(\"R-squared:\", score)"
   ]
  },
  {
   "cell_type": "code",
   "execution_count": 19,
   "id": "a9fd65ce",
   "metadata": {},
   "outputs": [],
   "source": [
    "from sklearn.metrics import mean_absolute_error, mean_squared_error, explained_variance_score, r2_score"
   ]
  },
  {
   "cell_type": "code",
   "execution_count": 17,
   "id": "20dd6c71",
   "metadata": {},
   "outputs": [],
   "source": [
    "ypred = LL_rf.predict(X_train)"
   ]
  },
  {
   "cell_type": "code",
   "execution_count": 51,
   "id": "90ac2768",
   "metadata": {},
   "outputs": [
    {
     "name": "stdout",
     "output_type": "stream",
     "text": [
      "MAE is: 34.312250\n",
      "MSE is: 9604.019118\n"
     ]
    }
   ],
   "source": [
    "print(\"MAE is: %f\" %mean_absolute_error(y_train, ypred))\n",
    "print(\"MSE is: %f\" %mean_squared_error(y_train, ypred))"
   ]
  },
  {
   "cell_type": "code",
   "execution_count": 52,
   "id": "d00d9b69",
   "metadata": {},
   "outputs": [
    {
     "name": "stdout",
     "output_type": "stream",
     "text": [
      "RMSE is: 98.000098\n"
     ]
    }
   ],
   "source": [
    "import numpy as np\n",
    "print(\"RMSE is: %f\" %np.sqrt(mean_squared_error(y_train, ypred)))"
   ]
  },
  {
   "cell_type": "code",
   "execution_count": 53,
   "id": "77d66b77",
   "metadata": {},
   "outputs": [
    {
     "name": "stdout",
     "output_type": "stream",
     "text": [
      "EVS is: 0.457351\n"
     ]
    }
   ],
   "source": [
    "print(\"EVS is: %f\" %explained_variance_score(y_train, ypred))"
   ]
  },
  {
   "cell_type": "code",
   "execution_count": 79,
   "id": "77020312",
   "metadata": {},
   "outputs": [],
   "source": [
    "ypred_test= LL_rf.predict(X_test)"
   ]
  },
  {
   "cell_type": "code",
   "execution_count": 55,
   "id": "f6158afb",
   "metadata": {},
   "outputs": [
    {
     "name": "stdout",
     "output_type": "stream",
     "text": [
      "Testinf set R2 is: 0.035088\n"
     ]
    }
   ],
   "source": [
    "print(\"Testinf set R2 is: %f\" %r2_score(y_test, ypred_test))"
   ]
  },
  {
   "cell_type": "code",
   "execution_count": 80,
   "id": "5ffde50c",
   "metadata": {},
   "outputs": [
    {
     "name": "stdout",
     "output_type": "stream",
     "text": [
      "MAE is: 48.638568\n",
      "MSE is: 15899.478111\n"
     ]
    }
   ],
   "source": [
    "print(\"MAE is: %f\" %mean_absolute_error(y_test, ypred_test))\n",
    "print(\"MSE is: %f\" %mean_squared_error(y_test, ypred_test))"
   ]
  },
  {
   "cell_type": "code",
   "execution_count": 81,
   "id": "d4dce620",
   "metadata": {},
   "outputs": [
    {
     "name": "stdout",
     "output_type": "stream",
     "text": [
      "RMSE is: 126.093133\n",
      "EVS is: 0.030403\n"
     ]
    }
   ],
   "source": [
    "print(\"RMSE is: %f\" %np.sqrt(mean_squared_error(y_test, ypred_test)))\n",
    "print(\"EVS is: %f\" %explained_variance_score(y_test, ypred_test))"
   ]
  },
  {
   "cell_type": "code",
   "execution_count": 30,
   "id": "8cd3d3cd",
   "metadata": {},
   "outputs": [],
   "source": [
    "# cross validation"
   ]
  },
  {
   "cell_type": "code",
   "execution_count": 58,
   "id": "5f252aef",
   "metadata": {},
   "outputs": [],
   "source": [
    "test_score= cross_val_score(LL_rf, X_test, y_test, scoring='neg_mean_squared_error')"
   ]
  },
  {
   "cell_type": "code",
   "execution_count": 59,
   "id": "e1f3c6d7",
   "metadata": {},
   "outputs": [
    {
     "data": {
      "text/plain": [
       "16727.235784356104"
      ]
     },
     "execution_count": 59,
     "metadata": {},
     "output_type": "execute_result"
    }
   ],
   "source": [
    "np.mean(np.absolute(test_score))"
   ]
  },
  {
   "cell_type": "code",
   "execution_count": 35,
   "id": "bbe48ca4",
   "metadata": {},
   "outputs": [],
   "source": [
    "#feature ranking"
   ]
  },
  {
   "cell_type": "code",
   "execution_count": 37,
   "id": "6005a6bd",
   "metadata": {},
   "outputs": [],
   "source": [
    "from sklearn.pipeline import Pipeline"
   ]
  },
  {
   "cell_type": "code",
   "execution_count": 82,
   "id": "82d6c00f",
   "metadata": {},
   "outputs": [],
   "source": [
    "feature_list=list(X.columns)"
   ]
  },
  {
   "cell_type": "code",
   "execution_count": 83,
   "id": "df3f25ab",
   "metadata": {},
   "outputs": [],
   "source": [
    "feature_importance = pd.Series(LL_rf.feature_importances_, index=feature_list).sort_values(ascending=False)"
   ]
  },
  {
   "cell_type": "code",
   "execution_count": 84,
   "id": "62ebd8c9",
   "metadata": {},
   "outputs": [
    {
     "name": "stdout",
     "output_type": "stream",
     "text": [
      "min_temp                   0.237706\n",
      "hour_5                     0.058378\n",
      "Cafe perc                  0.047511\n",
      "hour_7                     0.046651\n",
      "hour_6                     0.044131\n",
      "tramDensity                0.042601\n",
      "hour_8                     0.042576\n",
      "date_2                     0.042508\n",
      "hour_4                     0.041336\n",
      "mxi                        0.039433\n",
      "rainfall_1                 0.037979\n",
      "House perc                 0.037432\n",
      "entropy                    0.036870\n",
      "busDensity                 0.034890\n",
      "hour_3                     0.034460\n",
      "hour_2                     0.029304\n",
      "5-14 %                     0.021046\n",
      "above65 %                  0.018371\n",
      "male%                      0.017939\n",
      "Office perc                0.016933\n",
      "Population density 2021    0.016375\n",
      "female%                    0.014133\n",
      "15-29 %                    0.008912\n",
      "50-64 %                    0.008563\n",
      "30-39 %                    0.008248\n",
      "Shops perc                 0.007593\n",
      "40-49 %                    0.006867\n",
      "recreationCount            0.000821\n",
      "trainDensity_1             0.000296\n",
      "campusCount                0.000135\n",
      "dtype: float64\n"
     ]
    }
   ],
   "source": [
    "print(feature_importance)"
   ]
  },
  {
   "cell_type": "code",
   "execution_count": null,
   "id": "569139a2",
   "metadata": {},
   "outputs": [],
   "source": []
  }
 ],
 "metadata": {
  "kernelspec": {
   "display_name": "Python 3 (ipykernel)",
   "language": "python",
   "name": "python3"
  },
  "language_info": {
   "codemirror_mode": {
    "name": "ipython",
    "version": 3
   },
   "file_extension": ".py",
   "mimetype": "text/x-python",
   "name": "python",
   "nbconvert_exporter": "python",
   "pygments_lexer": "ipython3",
   "version": "3.7.13"
  }
 },
 "nbformat": 4,
 "nbformat_minor": 5
}
