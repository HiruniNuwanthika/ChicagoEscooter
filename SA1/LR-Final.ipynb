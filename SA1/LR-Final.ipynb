{
 "cells": [
  {
   "cell_type": "code",
   "execution_count": 28,
   "id": "20381fbf",
   "metadata": {},
   "outputs": [],
   "source": [
    "import pandas as pd\n",
    "import numpy as np\n",
    "\n",
    "from sklearn.preprocessing import StandardScaler\n",
    "\n",
    "import statsmodels.api as sm\n",
    "from statsmodels.formula.api import glm\n",
    "\n",
    "from sklearn.metrics import mean_absolute_error,mean_squared_error, accuracy_score\n",
    "from sklearn.metrics import r2_score\n",
    "from sklearn.metrics import f1_score\n",
    "\n",
    "from sklearn.linear_model import LogisticRegression\n",
    "from sklearn.model_selection import cross_val_score\n",
    "from sklearn.model_selection import train_test_split"
   ]
  },
  {
   "cell_type": "markdown",
   "id": "48bc0a32",
   "metadata": {},
   "source": [
    "#### correlated feature removed "
   ]
  },
  {
   "cell_type": "code",
   "execution_count": 5,
   "id": "bf4a662f",
   "metadata": {},
   "outputs": [],
   "source": [
    "df=pd.read_csv(r'C:\\Melbourne_Escooter\\RealDataset\\FinalResults\\SA1\\Features-trips\\Final\\AllFeatures-original - wholeNumberDensity - removed_female_50-64_40-49_house - Copy.csv')"
   ]
  },
  {
   "cell_type": "code",
   "execution_count": 6,
   "id": "85f34d90",
   "metadata": {},
   "outputs": [
    {
     "data": {
      "text/html": [
       "<div>\n",
       "<style scoped>\n",
       "    .dataframe tbody tr th:only-of-type {\n",
       "        vertical-align: middle;\n",
       "    }\n",
       "\n",
       "    .dataframe tbody tr th {\n",
       "        vertical-align: top;\n",
       "    }\n",
       "\n",
       "    .dataframe thead th {\n",
       "        text-align: right;\n",
       "    }\n",
       "</style>\n",
       "<table border=\"1\" class=\"dataframe\">\n",
       "  <thead>\n",
       "    <tr style=\"text-align: right;\">\n",
       "      <th></th>\n",
       "      <th>SA1_CODE21</th>\n",
       "      <th>date</th>\n",
       "      <th>hour</th>\n",
       "      <th>trainDensity</th>\n",
       "      <th>busDensity</th>\n",
       "      <th>tramDensity</th>\n",
       "      <th>Cafe perc</th>\n",
       "      <th>Office perc</th>\n",
       "      <th>Shops perc</th>\n",
       "      <th>entropy</th>\n",
       "      <th>...</th>\n",
       "      <th>recreationCount</th>\n",
       "      <th>campusCount</th>\n",
       "      <th>5-14 %</th>\n",
       "      <th>15-29 %</th>\n",
       "      <th>30-39 %</th>\n",
       "      <th>above65 %</th>\n",
       "      <th>male%</th>\n",
       "      <th>Population density 2021</th>\n",
       "      <th>rainfall</th>\n",
       "      <th>min_temp</th>\n",
       "    </tr>\n",
       "  </thead>\n",
       "  <tbody>\n",
       "    <tr>\n",
       "      <th>0</th>\n",
       "      <td>20604111702</td>\n",
       "      <td>1</td>\n",
       "      <td>0</td>\n",
       "      <td>0.0</td>\n",
       "      <td>38.684720</td>\n",
       "      <td>19.34236</td>\n",
       "      <td>0.576336</td>\n",
       "      <td>0.022901</td>\n",
       "      <td>0.030534</td>\n",
       "      <td>1.352866</td>\n",
       "      <td>...</td>\n",
       "      <td>0</td>\n",
       "      <td>0</td>\n",
       "      <td>3.536138</td>\n",
       "      <td>53.399850</td>\n",
       "      <td>19.330746</td>\n",
       "      <td>8.158310</td>\n",
       "      <td>49.511571</td>\n",
       "      <td>9456.2</td>\n",
       "      <td>0</td>\n",
       "      <td>7.4</td>\n",
       "    </tr>\n",
       "    <tr>\n",
       "      <th>1</th>\n",
       "      <td>20604111702</td>\n",
       "      <td>1</td>\n",
       "      <td>1</td>\n",
       "      <td>0.0</td>\n",
       "      <td>38.684720</td>\n",
       "      <td>19.34236</td>\n",
       "      <td>0.576336</td>\n",
       "      <td>0.022901</td>\n",
       "      <td>0.030534</td>\n",
       "      <td>1.352866</td>\n",
       "      <td>...</td>\n",
       "      <td>0</td>\n",
       "      <td>0</td>\n",
       "      <td>3.536138</td>\n",
       "      <td>53.399850</td>\n",
       "      <td>19.330746</td>\n",
       "      <td>8.158310</td>\n",
       "      <td>49.511571</td>\n",
       "      <td>9456.2</td>\n",
       "      <td>0</td>\n",
       "      <td>7.4</td>\n",
       "    </tr>\n",
       "    <tr>\n",
       "      <th>2</th>\n",
       "      <td>20604111702</td>\n",
       "      <td>1</td>\n",
       "      <td>2</td>\n",
       "      <td>0.0</td>\n",
       "      <td>38.684720</td>\n",
       "      <td>19.34236</td>\n",
       "      <td>0.576336</td>\n",
       "      <td>0.022901</td>\n",
       "      <td>0.030534</td>\n",
       "      <td>1.352866</td>\n",
       "      <td>...</td>\n",
       "      <td>0</td>\n",
       "      <td>0</td>\n",
       "      <td>3.536138</td>\n",
       "      <td>53.399850</td>\n",
       "      <td>19.330746</td>\n",
       "      <td>8.158310</td>\n",
       "      <td>49.511571</td>\n",
       "      <td>9456.2</td>\n",
       "      <td>0</td>\n",
       "      <td>7.4</td>\n",
       "    </tr>\n",
       "    <tr>\n",
       "      <th>3</th>\n",
       "      <td>20604111702</td>\n",
       "      <td>1</td>\n",
       "      <td>3</td>\n",
       "      <td>0.0</td>\n",
       "      <td>38.684720</td>\n",
       "      <td>19.34236</td>\n",
       "      <td>0.576336</td>\n",
       "      <td>0.022901</td>\n",
       "      <td>0.030534</td>\n",
       "      <td>1.352866</td>\n",
       "      <td>...</td>\n",
       "      <td>0</td>\n",
       "      <td>0</td>\n",
       "      <td>3.536138</td>\n",
       "      <td>53.399850</td>\n",
       "      <td>19.330746</td>\n",
       "      <td>8.158310</td>\n",
       "      <td>49.511571</td>\n",
       "      <td>9456.2</td>\n",
       "      <td>0</td>\n",
       "      <td>7.4</td>\n",
       "    </tr>\n",
       "    <tr>\n",
       "      <th>4</th>\n",
       "      <td>20604111702</td>\n",
       "      <td>1</td>\n",
       "      <td>4</td>\n",
       "      <td>0.0</td>\n",
       "      <td>38.684720</td>\n",
       "      <td>19.34236</td>\n",
       "      <td>0.576336</td>\n",
       "      <td>0.022901</td>\n",
       "      <td>0.030534</td>\n",
       "      <td>1.352866</td>\n",
       "      <td>...</td>\n",
       "      <td>0</td>\n",
       "      <td>0</td>\n",
       "      <td>3.536138</td>\n",
       "      <td>53.399850</td>\n",
       "      <td>19.330746</td>\n",
       "      <td>8.158310</td>\n",
       "      <td>49.511571</td>\n",
       "      <td>9456.2</td>\n",
       "      <td>0</td>\n",
       "      <td>7.4</td>\n",
       "    </tr>\n",
       "    <tr>\n",
       "      <th>...</th>\n",
       "      <td>...</td>\n",
       "      <td>...</td>\n",
       "      <td>...</td>\n",
       "      <td>...</td>\n",
       "      <td>...</td>\n",
       "      <td>...</td>\n",
       "      <td>...</td>\n",
       "      <td>...</td>\n",
       "      <td>...</td>\n",
       "      <td>...</td>\n",
       "      <td>...</td>\n",
       "      <td>...</td>\n",
       "      <td>...</td>\n",
       "      <td>...</td>\n",
       "      <td>...</td>\n",
       "      <td>...</td>\n",
       "      <td>...</td>\n",
       "      <td>...</td>\n",
       "      <td>...</td>\n",
       "      <td>...</td>\n",
       "      <td>...</td>\n",
       "    </tr>\n",
       "    <tr>\n",
       "      <th>56611</th>\n",
       "      <td>20604151016</td>\n",
       "      <td>7</td>\n",
       "      <td>19</td>\n",
       "      <td>0.0</td>\n",
       "      <td>46.728972</td>\n",
       "      <td>0.00000</td>\n",
       "      <td>0.803571</td>\n",
       "      <td>0.071429</td>\n",
       "      <td>0.035714</td>\n",
       "      <td>1.118100</td>\n",
       "      <td>...</td>\n",
       "      <td>0</td>\n",
       "      <td>0</td>\n",
       "      <td>1.813717</td>\n",
       "      <td>45.837792</td>\n",
       "      <td>34.053583</td>\n",
       "      <td>4.732242</td>\n",
       "      <td>51.647198</td>\n",
       "      <td>9238.5</td>\n",
       "      <td>1</td>\n",
       "      <td>8.0</td>\n",
       "    </tr>\n",
       "    <tr>\n",
       "      <th>56612</th>\n",
       "      <td>20604151016</td>\n",
       "      <td>7</td>\n",
       "      <td>20</td>\n",
       "      <td>0.0</td>\n",
       "      <td>46.728972</td>\n",
       "      <td>0.00000</td>\n",
       "      <td>0.803571</td>\n",
       "      <td>0.071429</td>\n",
       "      <td>0.035714</td>\n",
       "      <td>1.118100</td>\n",
       "      <td>...</td>\n",
       "      <td>0</td>\n",
       "      <td>0</td>\n",
       "      <td>1.813717</td>\n",
       "      <td>45.837792</td>\n",
       "      <td>34.053583</td>\n",
       "      <td>4.732242</td>\n",
       "      <td>51.647198</td>\n",
       "      <td>9238.5</td>\n",
       "      <td>1</td>\n",
       "      <td>8.0</td>\n",
       "    </tr>\n",
       "    <tr>\n",
       "      <th>56613</th>\n",
       "      <td>20604151016</td>\n",
       "      <td>7</td>\n",
       "      <td>21</td>\n",
       "      <td>0.0</td>\n",
       "      <td>46.728972</td>\n",
       "      <td>0.00000</td>\n",
       "      <td>0.803571</td>\n",
       "      <td>0.071429</td>\n",
       "      <td>0.035714</td>\n",
       "      <td>1.118100</td>\n",
       "      <td>...</td>\n",
       "      <td>0</td>\n",
       "      <td>0</td>\n",
       "      <td>1.813717</td>\n",
       "      <td>45.837792</td>\n",
       "      <td>34.053583</td>\n",
       "      <td>4.732242</td>\n",
       "      <td>51.647198</td>\n",
       "      <td>9238.5</td>\n",
       "      <td>1</td>\n",
       "      <td>8.0</td>\n",
       "    </tr>\n",
       "    <tr>\n",
       "      <th>56614</th>\n",
       "      <td>20604151016</td>\n",
       "      <td>7</td>\n",
       "      <td>22</td>\n",
       "      <td>0.0</td>\n",
       "      <td>46.728972</td>\n",
       "      <td>0.00000</td>\n",
       "      <td>0.803571</td>\n",
       "      <td>0.071429</td>\n",
       "      <td>0.035714</td>\n",
       "      <td>1.118100</td>\n",
       "      <td>...</td>\n",
       "      <td>0</td>\n",
       "      <td>0</td>\n",
       "      <td>1.813717</td>\n",
       "      <td>45.837792</td>\n",
       "      <td>34.053583</td>\n",
       "      <td>4.732242</td>\n",
       "      <td>51.647198</td>\n",
       "      <td>9238.5</td>\n",
       "      <td>1</td>\n",
       "      <td>8.0</td>\n",
       "    </tr>\n",
       "    <tr>\n",
       "      <th>56615</th>\n",
       "      <td>20604151016</td>\n",
       "      <td>7</td>\n",
       "      <td>23</td>\n",
       "      <td>0.0</td>\n",
       "      <td>46.728972</td>\n",
       "      <td>0.00000</td>\n",
       "      <td>0.803571</td>\n",
       "      <td>0.071429</td>\n",
       "      <td>0.035714</td>\n",
       "      <td>1.118100</td>\n",
       "      <td>...</td>\n",
       "      <td>0</td>\n",
       "      <td>0</td>\n",
       "      <td>1.813717</td>\n",
       "      <td>45.837792</td>\n",
       "      <td>34.053583</td>\n",
       "      <td>4.732242</td>\n",
       "      <td>51.647198</td>\n",
       "      <td>9238.5</td>\n",
       "      <td>1</td>\n",
       "      <td>8.0</td>\n",
       "    </tr>\n",
       "  </tbody>\n",
       "</table>\n",
       "<p>56616 rows × 21 columns</p>\n",
       "</div>"
      ],
      "text/plain": [
       "        SA1_CODE21  date  hour  trainDensity  busDensity  tramDensity  \\\n",
       "0      20604111702     1     0           0.0   38.684720     19.34236   \n",
       "1      20604111702     1     1           0.0   38.684720     19.34236   \n",
       "2      20604111702     1     2           0.0   38.684720     19.34236   \n",
       "3      20604111702     1     3           0.0   38.684720     19.34236   \n",
       "4      20604111702     1     4           0.0   38.684720     19.34236   \n",
       "...            ...   ...   ...           ...         ...          ...   \n",
       "56611  20604151016     7    19           0.0   46.728972      0.00000   \n",
       "56612  20604151016     7    20           0.0   46.728972      0.00000   \n",
       "56613  20604151016     7    21           0.0   46.728972      0.00000   \n",
       "56614  20604151016     7    22           0.0   46.728972      0.00000   \n",
       "56615  20604151016     7    23           0.0   46.728972      0.00000   \n",
       "\n",
       "       Cafe perc  Office perc  Shops perc   entropy  ...  recreationCount  \\\n",
       "0       0.576336     0.022901    0.030534  1.352866  ...                0   \n",
       "1       0.576336     0.022901    0.030534  1.352866  ...                0   \n",
       "2       0.576336     0.022901    0.030534  1.352866  ...                0   \n",
       "3       0.576336     0.022901    0.030534  1.352866  ...                0   \n",
       "4       0.576336     0.022901    0.030534  1.352866  ...                0   \n",
       "...          ...          ...         ...       ...  ...              ...   \n",
       "56611   0.803571     0.071429    0.035714  1.118100  ...                0   \n",
       "56612   0.803571     0.071429    0.035714  1.118100  ...                0   \n",
       "56613   0.803571     0.071429    0.035714  1.118100  ...                0   \n",
       "56614   0.803571     0.071429    0.035714  1.118100  ...                0   \n",
       "56615   0.803571     0.071429    0.035714  1.118100  ...                0   \n",
       "\n",
       "       campusCount    5-14 %    15-29 %    30-39 %  above65 %      male%  \\\n",
       "0                0  3.536138  53.399850  19.330746   8.158310  49.511571   \n",
       "1                0  3.536138  53.399850  19.330746   8.158310  49.511571   \n",
       "2                0  3.536138  53.399850  19.330746   8.158310  49.511571   \n",
       "3                0  3.536138  53.399850  19.330746   8.158310  49.511571   \n",
       "4                0  3.536138  53.399850  19.330746   8.158310  49.511571   \n",
       "...            ...       ...        ...        ...        ...        ...   \n",
       "56611            0  1.813717  45.837792  34.053583   4.732242  51.647198   \n",
       "56612            0  1.813717  45.837792  34.053583   4.732242  51.647198   \n",
       "56613            0  1.813717  45.837792  34.053583   4.732242  51.647198   \n",
       "56614            0  1.813717  45.837792  34.053583   4.732242  51.647198   \n",
       "56615            0  1.813717  45.837792  34.053583   4.732242  51.647198   \n",
       "\n",
       "       Population density 2021  rainfall  min_temp  \n",
       "0                       9456.2         0       7.4  \n",
       "1                       9456.2         0       7.4  \n",
       "2                       9456.2         0       7.4  \n",
       "3                       9456.2         0       7.4  \n",
       "4                       9456.2         0       7.4  \n",
       "...                        ...       ...       ...  \n",
       "56611                   9238.5         1       8.0  \n",
       "56612                   9238.5         1       8.0  \n",
       "56613                   9238.5         1       8.0  \n",
       "56614                   9238.5         1       8.0  \n",
       "56615                   9238.5         1       8.0  \n",
       "\n",
       "[56616 rows x 21 columns]"
      ]
     },
     "execution_count": 6,
     "metadata": {},
     "output_type": "execute_result"
    }
   ],
   "source": [
    "column=['tripDensity']\n",
    "df_depe=df.drop(column, axis=1)\n",
    "df_depe"
   ]
  },
  {
   "cell_type": "code",
   "execution_count": 7,
   "id": "aeacad11",
   "metadata": {},
   "outputs": [],
   "source": [
    "df_depe=df_depe.drop(['SA1_CODE21'], axis=1)"
   ]
  },
  {
   "cell_type": "code",
   "execution_count": 8,
   "id": "d4229bb8",
   "metadata": {},
   "outputs": [],
   "source": [
    "df_depe[\"hour\"].replace({0:1,1:1,2:1,3:2,4:2,5:2,6:3,7:3,8:3,9:4,10:4,11:4,12:5,13:5,14:5,15:6,16:6,17:6,18:7,19:7,20:7,21:8,22:8,23:8}, inplace=True)\n",
    "df_depe[\"date\"].replace({1:1,2: 1, 3: 1,4: 1,5: 1,6: 2,7: 2}, inplace=True)\n",
    "df_depe['trainDensity'] = df['trainDensity'].map(lambda x: 1 if x>0 else 0)"
   ]
  },
  {
   "cell_type": "code",
   "execution_count": 9,
   "id": "2e1cb078",
   "metadata": {},
   "outputs": [],
   "source": [
    "categorical =['hour','date','rainfall','trainDensity']\n",
    "for col in categorical:\n",
    "    df_depe[col]=df_depe[col].astype('category')"
   ]
  },
  {
   "cell_type": "code",
   "execution_count": 10,
   "id": "75b6e3e0",
   "metadata": {},
   "outputs": [
    {
     "data": {
      "text/plain": [
       "Index(['busDensity', 'tramDensity', 'Cafe perc', 'Office perc', 'Shops perc',\n",
       "       'entropy', 'mxi', 'recreationCount', 'campusCount', '5-14 %', '15-29 %',\n",
       "       '30-39 %', 'above65 %', 'male%', 'Population density 2021', 'min_temp',\n",
       "       'date_2', 'hour_2', 'hour_3', 'hour_4', 'hour_5', 'hour_6', 'hour_7',\n",
       "       'hour_8', 'trainDensity_1', 'rainfall_1'],\n",
       "      dtype='object')"
      ]
     },
     "execution_count": 10,
     "metadata": {},
     "output_type": "execute_result"
    }
   ],
   "source": [
    "df_depe=pd.get_dummies(df_depe, drop_first=True)\n",
    "df_depe.columns"
   ]
  },
  {
   "cell_type": "code",
   "execution_count": 11,
   "id": "77cd87b3",
   "metadata": {},
   "outputs": [],
   "source": [
    "scale= StandardScaler()\n",
    "df_sc= scale.fit_transform(df_depe)\n",
    "df_sc=pd.DataFrame(df_sc, columns=df_depe.columns)"
   ]
  },
  {
   "cell_type": "code",
   "execution_count": 12,
   "id": "7e0522e4",
   "metadata": {},
   "outputs": [],
   "source": [
    "df['tripDensity'] = df['tripDensity'].map(lambda x: 1 if x>49.0 else 0)\n",
    "df['tripDensity']=df['tripDensity'].astype('category')"
   ]
  },
  {
   "cell_type": "code",
   "execution_count": 13,
   "id": "516687e6",
   "metadata": {},
   "outputs": [],
   "source": [
    "y=df['tripDensity']\n",
    "X=df_sc"
   ]
  },
  {
   "cell_type": "code",
   "execution_count": 14,
   "id": "27bd1ced",
   "metadata": {},
   "outputs": [],
   "source": [
    "from sklearn.model_selection import train_test_split\n",
    "X_train, X_test, y_train, y_test = train_test_split(X, y, test_size=0.2)"
   ]
  },
  {
   "cell_type": "code",
   "execution_count": 15,
   "id": "014a3b57",
   "metadata": {},
   "outputs": [],
   "source": [
    "from sklearn.linear_model import LogisticRegression\n",
    "clf = LogisticRegression(C=1,random_state=42,max_iter=1000)"
   ]
  },
  {
   "cell_type": "code",
   "execution_count": 16,
   "id": "e4f5d669",
   "metadata": {},
   "outputs": [],
   "source": [
    "model = clf.fit(X_train, y_train)"
   ]
  },
  {
   "cell_type": "code",
   "execution_count": 17,
   "id": "8ab2d04d",
   "metadata": {},
   "outputs": [],
   "source": [
    "ypredict = clf.predict(X_test)"
   ]
  },
  {
   "cell_type": "code",
   "execution_count": 37,
   "id": "c5a49e1d",
   "metadata": {},
   "outputs": [
    {
     "name": "stdout",
     "output_type": "stream",
     "text": [
      "MAE 0.189597\n"
     ]
    }
   ],
   "source": [
    "print(\"MAE %f\" %mean_absolute_error(y_test, ypredict))\n"
   ]
  },
  {
   "cell_type": "code",
   "execution_count": 36,
   "id": "7cd7808e",
   "metadata": {},
   "outputs": [
    {
     "name": "stdout",
     "output_type": "stream",
     "text": [
      "MSE  0.189597\n"
     ]
    }
   ],
   "source": [
    "print(\"MSE  %f\" %mean_squared_error(y_test, ypredict))"
   ]
  },
  {
   "cell_type": "code",
   "execution_count": 22,
   "id": "87671a5c",
   "metadata": {},
   "outputs": [
    {
     "name": "stdout",
     "output_type": "stream",
     "text": [
      "RMSE  0.435428\n"
     ]
    }
   ],
   "source": [
    "import numpy as np\n",
    "print(\"RMSE  %f\" %np.sqrt(mean_squared_error(y_test, ypredict)))"
   ]
  },
  {
   "cell_type": "code",
   "execution_count": 116,
   "id": "f2acf02d",
   "metadata": {},
   "outputs": [
    {
     "data": {
      "text/plain": [
       "0.29768392370572205"
      ]
     },
     "execution_count": 116,
     "metadata": {},
     "output_type": "execute_result"
    }
   ],
   "source": [
    "metrics.f1_score(y_test, ypredict)"
   ]
  },
  {
   "cell_type": "code",
   "execution_count": 117,
   "id": "3101f89d",
   "metadata": {},
   "outputs": [
    {
     "name": "stdout",
     "output_type": "stream",
     "text": [
      "0.7893516893546624\n"
     ]
    }
   ],
   "source": [
    "y_pred_proba = clf.predict_proba(X_test)[::,1]\n",
    "auc = metrics.roc_auc_score(y_test, y_pred_proba)\n",
    "print(auc)"
   ]
  },
  {
   "cell_type": "code",
   "execution_count": 118,
   "id": "fe145e02",
   "metadata": {},
   "outputs": [],
   "source": [
    "import statsmodels.api as sm\n",
    "X_train =sm.add_constant(X_train)"
   ]
  },
  {
   "cell_type": "code",
   "execution_count": 119,
   "id": "c4cc22a2",
   "metadata": {},
   "outputs": [],
   "source": [
    "model=sm.Logit(y_train,X_train)"
   ]
  },
  {
   "cell_type": "code",
   "execution_count": 120,
   "id": "050a45d0",
   "metadata": {},
   "outputs": [
    {
     "name": "stdout",
     "output_type": "stream",
     "text": [
      "Optimization terminated successfully.\n",
      "         Current function value: 0.408887\n",
      "         Iterations 7\n"
     ]
    }
   ],
   "source": [
    "result = model.fit()"
   ]
  },
  {
   "cell_type": "code",
   "execution_count": 121,
   "id": "90f1dca9",
   "metadata": {},
   "outputs": [
    {
     "data": {
      "text/html": [
       "<table class=\"simpletable\">\n",
       "<caption>Logit Regression Results</caption>\n",
       "<tr>\n",
       "  <th>Dep. Variable:</th>      <td>tripDensity</td>   <th>  No. Observations:  </th>  <td> 45292</td> \n",
       "</tr>\n",
       "<tr>\n",
       "  <th>Model:</th>                 <td>Logit</td>      <th>  Df Residuals:      </th>  <td> 45265</td> \n",
       "</tr>\n",
       "<tr>\n",
       "  <th>Method:</th>                 <td>MLE</td>       <th>  Df Model:          </th>  <td>    26</td> \n",
       "</tr>\n",
       "<tr>\n",
       "  <th>Date:</th>            <td>Mon, 19 Sep 2022</td> <th>  Pseudo R-squ.:     </th>  <td>0.1807</td> \n",
       "</tr>\n",
       "<tr>\n",
       "  <th>Time:</th>                <td>11:02:42</td>     <th>  Log-Likelihood:    </th> <td> -18519.</td>\n",
       "</tr>\n",
       "<tr>\n",
       "  <th>converged:</th>             <td>True</td>       <th>  LL-Null:           </th> <td> -22604.</td>\n",
       "</tr>\n",
       "<tr>\n",
       "  <th>Covariance Type:</th>     <td>nonrobust</td>    <th>  LLR p-value:       </th>  <td> 0.000</td> \n",
       "</tr>\n",
       "</table>\n",
       "<table class=\"simpletable\">\n",
       "<tr>\n",
       "             <td></td>                <th>coef</th>     <th>std err</th>      <th>z</th>      <th>P>|z|</th>  <th>[0.025</th>    <th>0.975]</th>  \n",
       "</tr>\n",
       "<tr>\n",
       "  <th>const</th>                   <td>   -1.8680</td> <td>    0.018</td> <td> -105.849</td> <td> 0.000</td> <td>   -1.903</td> <td>   -1.833</td>\n",
       "</tr>\n",
       "<tr>\n",
       "  <th>busDensity</th>              <td>   -0.0644</td> <td>    0.014</td> <td>   -4.502</td> <td> 0.000</td> <td>   -0.092</td> <td>   -0.036</td>\n",
       "</tr>\n",
       "<tr>\n",
       "  <th>tramDensity</th>             <td>    0.1728</td> <td>    0.015</td> <td>   11.365</td> <td> 0.000</td> <td>    0.143</td> <td>    0.203</td>\n",
       "</tr>\n",
       "<tr>\n",
       "  <th>Cafe perc</th>               <td>    0.3401</td> <td>    0.016</td> <td>   21.006</td> <td> 0.000</td> <td>    0.308</td> <td>    0.372</td>\n",
       "</tr>\n",
       "<tr>\n",
       "  <th>Office perc</th>             <td>    0.1624</td> <td>    0.011</td> <td>   14.145</td> <td> 0.000</td> <td>    0.140</td> <td>    0.185</td>\n",
       "</tr>\n",
       "<tr>\n",
       "  <th>Shops perc</th>              <td>    0.1019</td> <td>    0.011</td> <td>    8.903</td> <td> 0.000</td> <td>    0.079</td> <td>    0.124</td>\n",
       "</tr>\n",
       "<tr>\n",
       "  <th>entropy</th>                 <td>   -0.0890</td> <td>    0.024</td> <td>   -3.653</td> <td> 0.000</td> <td>   -0.137</td> <td>   -0.041</td>\n",
       "</tr>\n",
       "<tr>\n",
       "  <th>mxi</th>                     <td>    0.0970</td> <td>    0.028</td> <td>    3.517</td> <td> 0.000</td> <td>    0.043</td> <td>    0.151</td>\n",
       "</tr>\n",
       "<tr>\n",
       "  <th>recreationCount</th>         <td>   -0.1794</td> <td>    0.029</td> <td>   -6.260</td> <td> 0.000</td> <td>   -0.236</td> <td>   -0.123</td>\n",
       "</tr>\n",
       "<tr>\n",
       "  <th>campusCount</th>             <td>   -0.0271</td> <td>    0.013</td> <td>   -2.015</td> <td> 0.044</td> <td>   -0.053</td> <td>   -0.001</td>\n",
       "</tr>\n",
       "<tr>\n",
       "  <th>5-14 %</th>                  <td>   -0.5335</td> <td>    0.036</td> <td>  -14.892</td> <td> 0.000</td> <td>   -0.604</td> <td>   -0.463</td>\n",
       "</tr>\n",
       "<tr>\n",
       "  <th>15-29 %</th>                 <td>   -0.6888</td> <td>    0.073</td> <td>   -9.432</td> <td> 0.000</td> <td>   -0.832</td> <td>   -0.546</td>\n",
       "</tr>\n",
       "<tr>\n",
       "  <th>30-39 %</th>                 <td>   -0.8215</td> <td>    0.050</td> <td>  -16.481</td> <td> 0.000</td> <td>   -0.919</td> <td>   -0.724</td>\n",
       "</tr>\n",
       "<tr>\n",
       "  <th>above65 %</th>               <td>   -0.8831</td> <td>    0.085</td> <td>  -10.379</td> <td> 0.000</td> <td>   -1.050</td> <td>   -0.716</td>\n",
       "</tr>\n",
       "<tr>\n",
       "  <th>male%</th>                   <td>    0.6799</td> <td>    0.047</td> <td>   14.610</td> <td> 0.000</td> <td>    0.589</td> <td>    0.771</td>\n",
       "</tr>\n",
       "<tr>\n",
       "  <th>Population density 2021</th> <td>    0.1609</td> <td>    0.027</td> <td>    5.856</td> <td> 0.000</td> <td>    0.107</td> <td>    0.215</td>\n",
       "</tr>\n",
       "<tr>\n",
       "  <th>min_temp</th>                <td>    0.1858</td> <td>    0.018</td> <td>   10.210</td> <td> 0.000</td> <td>    0.150</td> <td>    0.221</td>\n",
       "</tr>\n",
       "<tr>\n",
       "  <th>date_2</th>                  <td>    0.3908</td> <td>    0.020</td> <td>   19.977</td> <td> 0.000</td> <td>    0.352</td> <td>    0.429</td>\n",
       "</tr>\n",
       "<tr>\n",
       "  <th>hour_2</th>                  <td>   -0.2983</td> <td>    0.020</td> <td>  -14.658</td> <td> 0.000</td> <td>   -0.338</td> <td>   -0.258</td>\n",
       "</tr>\n",
       "<tr>\n",
       "  <th>hour_3</th>                  <td>   -0.1731</td> <td>    0.019</td> <td>   -9.173</td> <td> 0.000</td> <td>   -0.210</td> <td>   -0.136</td>\n",
       "</tr>\n",
       "<tr>\n",
       "  <th>hour_4</th>                  <td>    0.0089</td> <td>    0.017</td> <td>    0.510</td> <td> 0.610</td> <td>   -0.025</td> <td>    0.043</td>\n",
       "</tr>\n",
       "<tr>\n",
       "  <th>hour_5</th>                  <td>    0.1240</td> <td>    0.017</td> <td>    7.399</td> <td> 0.000</td> <td>    0.091</td> <td>    0.157</td>\n",
       "</tr>\n",
       "<tr>\n",
       "  <th>hour_6</th>                  <td>    0.2296</td> <td>    0.016</td> <td>   13.947</td> <td> 0.000</td> <td>    0.197</td> <td>    0.262</td>\n",
       "</tr>\n",
       "<tr>\n",
       "  <th>hour_7</th>                  <td>    0.1828</td> <td>    0.017</td> <td>   11.030</td> <td> 0.000</td> <td>    0.150</td> <td>    0.215</td>\n",
       "</tr>\n",
       "<tr>\n",
       "  <th>hour_8</th>                  <td>    0.1816</td> <td>    0.017</td> <td>   10.947</td> <td> 0.000</td> <td>    0.149</td> <td>    0.214</td>\n",
       "</tr>\n",
       "<tr>\n",
       "  <th>trainDensity_1</th>          <td>   -0.0428</td> <td>    0.015</td> <td>   -2.844</td> <td> 0.004</td> <td>   -0.072</td> <td>   -0.013</td>\n",
       "</tr>\n",
       "<tr>\n",
       "  <th>rainfall_1</th>              <td>   -0.1328</td> <td>    0.015</td> <td>   -8.621</td> <td> 0.000</td> <td>   -0.163</td> <td>   -0.103</td>\n",
       "</tr>\n",
       "</table>"
      ],
      "text/plain": [
       "<class 'statsmodels.iolib.summary.Summary'>\n",
       "\"\"\"\n",
       "                           Logit Regression Results                           \n",
       "==============================================================================\n",
       "Dep. Variable:            tripDensity   No. Observations:                45292\n",
       "Model:                          Logit   Df Residuals:                    45265\n",
       "Method:                           MLE   Df Model:                           26\n",
       "Date:                Mon, 19 Sep 2022   Pseudo R-squ.:                  0.1807\n",
       "Time:                        11:02:42   Log-Likelihood:                -18519.\n",
       "converged:                       True   LL-Null:                       -22604.\n",
       "Covariance Type:            nonrobust   LLR p-value:                     0.000\n",
       "===========================================================================================\n",
       "                              coef    std err          z      P>|z|      [0.025      0.975]\n",
       "-------------------------------------------------------------------------------------------\n",
       "const                      -1.8680      0.018   -105.849      0.000      -1.903      -1.833\n",
       "busDensity                 -0.0644      0.014     -4.502      0.000      -0.092      -0.036\n",
       "tramDensity                 0.1728      0.015     11.365      0.000       0.143       0.203\n",
       "Cafe perc                   0.3401      0.016     21.006      0.000       0.308       0.372\n",
       "Office perc                 0.1624      0.011     14.145      0.000       0.140       0.185\n",
       "Shops perc                  0.1019      0.011      8.903      0.000       0.079       0.124\n",
       "entropy                    -0.0890      0.024     -3.653      0.000      -0.137      -0.041\n",
       "mxi                         0.0970      0.028      3.517      0.000       0.043       0.151\n",
       "recreationCount            -0.1794      0.029     -6.260      0.000      -0.236      -0.123\n",
       "campusCount                -0.0271      0.013     -2.015      0.044      -0.053      -0.001\n",
       "5-14 %                     -0.5335      0.036    -14.892      0.000      -0.604      -0.463\n",
       "15-29 %                    -0.6888      0.073     -9.432      0.000      -0.832      -0.546\n",
       "30-39 %                    -0.8215      0.050    -16.481      0.000      -0.919      -0.724\n",
       "above65 %                  -0.8831      0.085    -10.379      0.000      -1.050      -0.716\n",
       "male%                       0.6799      0.047     14.610      0.000       0.589       0.771\n",
       "Population density 2021     0.1609      0.027      5.856      0.000       0.107       0.215\n",
       "min_temp                    0.1858      0.018     10.210      0.000       0.150       0.221\n",
       "date_2                      0.3908      0.020     19.977      0.000       0.352       0.429\n",
       "hour_2                     -0.2983      0.020    -14.658      0.000      -0.338      -0.258\n",
       "hour_3                     -0.1731      0.019     -9.173      0.000      -0.210      -0.136\n",
       "hour_4                      0.0089      0.017      0.510      0.610      -0.025       0.043\n",
       "hour_5                      0.1240      0.017      7.399      0.000       0.091       0.157\n",
       "hour_6                      0.2296      0.016     13.947      0.000       0.197       0.262\n",
       "hour_7                      0.1828      0.017     11.030      0.000       0.150       0.215\n",
       "hour_8                      0.1816      0.017     10.947      0.000       0.149       0.214\n",
       "trainDensity_1             -0.0428      0.015     -2.844      0.004      -0.072      -0.013\n",
       "rainfall_1                 -0.1328      0.015     -8.621      0.000      -0.163      -0.103\n",
       "===========================================================================================\n",
       "\"\"\""
      ]
     },
     "execution_count": 121,
     "metadata": {},
     "output_type": "execute_result"
    }
   ],
   "source": [
    "result.summary()"
   ]
  },
  {
   "cell_type": "code",
   "execution_count": 29,
   "id": "61c8d116",
   "metadata": {},
   "outputs": [],
   "source": [
    "# cross validation"
   ]
  },
  {
   "cell_type": "code",
   "execution_count": 31,
   "id": "04535ea5",
   "metadata": {},
   "outputs": [],
   "source": [
    "test_score= cross_val_score(model, X_test, y_test, scoring='neg_mean_squared_error')"
   ]
  },
  {
   "cell_type": "code",
   "execution_count": 35,
   "id": "30c93e04",
   "metadata": {},
   "outputs": [
    {
     "data": {
      "text/plain": [
       "0.18933252209455614"
      ]
     },
     "execution_count": 35,
     "metadata": {},
     "output_type": "execute_result"
    }
   ],
   "source": [
    "np.mean(np.absolute(test_score))"
   ]
  },
  {
   "cell_type": "code",
   "execution_count": null,
   "id": "2d0824fa",
   "metadata": {},
   "outputs": [],
   "source": []
  }
 ],
 "metadata": {
  "kernelspec": {
   "display_name": "Python 3 (ipykernel)",
   "language": "python",
   "name": "python3"
  },
  "language_info": {
   "codemirror_mode": {
    "name": "ipython",
    "version": 3
   },
   "file_extension": ".py",
   "mimetype": "text/x-python",
   "name": "python",
   "nbconvert_exporter": "python",
   "pygments_lexer": "ipython3",
   "version": "3.7.13"
  }
 },
 "nbformat": 4,
 "nbformat_minor": 5
}
