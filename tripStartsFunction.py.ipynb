{
 "cells": [
  {
   "cell_type": "code",
   "execution_count": 1,
   "id": "7ab9f60c",
   "metadata": {},
   "outputs": [],
   "source": [
    "import pandas as pd"
   ]
  },
  {
   "cell_type": "code",
   "execution_count": 4,
   "id": "1e176d95",
   "metadata": {},
   "outputs": [],
   "source": [
    "def tripStarts(day):\n",
    "    for hour in range(0,24):  \n",
    "#1-15 minutes dataset\n",
    "        try:\n",
    "            df1=pd.read_csv(r'C:\\Melbourne_Escooter\\RealDataset\\Results\\July\\{}_{}hour_part1.csv'.format(day,hour))\n",
    "        except FileNotFoundError:\n",
    "            continue\n",
    "        started_list1=[]\n",
    "        for i in range(1,16):\n",
    "            if 'lat_%s' %(i+1) in df1.columns:\n",
    "                started=df1[(df1['lat_%s' %i].isnull()==False) & (df1['lat_%s' %(i+1)].isnull()==True)]\n",
    "                started_list1.append(started)\n",
    "        started_df1= pd.DataFrame()\n",
    "        for item in started_list1:\n",
    "            started_df1 =  started_df1.append(item, ignore_index=True)\n",
    "        started_df1.to_csv(r'C:\\Melbourne_Escooter\\RealDataset\\Results\\July\\Started\\{}_{}hour_part1.csv'.format(day,hour),index=False)\n",
    "#16-30 minutes dataset\n",
    "        try:\n",
    "            df2=pd.read_csv(r'C:\\Melbourne_Escooter\\RealDataset\\Results\\July\\{}_{}hour_part2.csv'.format(day,hour))\n",
    "        except FileNotFoundError:\n",
    "            continue\n",
    "        started_list2=[]\n",
    "        for i in range(16,31):\n",
    "            if 'lat_%s' %(i+1) in df2.columns:\n",
    "                started=df2[(df2['lat_%s' %i].isnull()==True) & (df2['lat_%s' %(i+1)].isnull()==False)]\n",
    "                started_list2.append(started)\n",
    "        started_df2= pd.DataFrame()\n",
    "        for item in started_list2:\n",
    "            started_df2 =  started_df2.append(item, ignore_index=True)\n",
    "        started_df2.to_csv(r'C:\\Melbourne_Escooter\\RealDataset\\Results\\July\\Started\\{}_{}hour_part2.csv'.format(day,hour),index=False)\n",
    "#31-45 minutes dataset\n",
    "        try:\n",
    "            df3=pd.read_csv(r'C:\\Melbourne_Escooter\\RealDataset\\Results\\July\\{}_{}hour_part3.csv'.format(day,hour))\n",
    "        except FileNotFoundError:\n",
    "            continue\n",
    "        started_list3=[]\n",
    "        for i in range(31,46):\n",
    "            if 'lat_%s' %(i+1) in df3.columns:\n",
    "                started=df3[(df3['lat_%s' %i].isnull()==True) & (df3['lat_%s' %(i+1)].isnull()==False)]\n",
    "                started_list3.append(started)\n",
    "        started_df3= pd.DataFrame()\n",
    "        for item in started_list3:\n",
    "            started_df3 =  started_df3.append(item, ignore_index=True)\n",
    "        started_df3.to_csv(r'C:\\Melbourne_Escooter\\RealDataset\\Results\\July\\Started\\{}_{}hour_part3.csv'.format(day,hour),index=False)\n",
    "#46-00 minutes dataset\n",
    "        try:\n",
    "            df4=pd.read_csv(r'C:\\Melbourne_Escooter\\RealDataset\\Results\\July\\{}_{}hour_part4.csv'.format(day,hour))\n",
    "        except FileNotFoundError:\n",
    "            continue\n",
    "        started_list4=[]\n",
    "        for i in range(46,60):\n",
    "            if 'lat_%s' %(i+1) in df4.columns:\n",
    "                started=df4[(df4['lat_%s' %i].isnull()==True) & (df4['lat_%s' %(i+1)].isnull()==False)]\n",
    "                started_list4.append(started)\n",
    "        started_df4= pd.DataFrame()\n",
    "        for item in started_list4:\n",
    "            started_df4 =  started_df4.append(item, ignore_index=True)\n",
    "        started_df4.to_csv(r'C:\\Melbourne_Escooter\\RealDataset\\Results\\July\\Started\\{}_{}hour_part4.csv'.format(day,hour),index=False)"
   ]
  },
  {
   "cell_type": "code",
   "execution_count": 5,
   "id": "921310d4",
   "metadata": {},
   "outputs": [],
   "source": [
    "tripStarts(29)"
   ]
  },
  {
   "cell_type": "code",
   "execution_count": null,
   "id": "16d9a644",
   "metadata": {},
   "outputs": [],
   "source": []
  }
 ],
 "metadata": {
  "kernelspec": {
   "display_name": "Python 3 (ipykernel)",
   "language": "python",
   "name": "python3"
  },
  "language_info": {
   "codemirror_mode": {
    "name": "ipython",
    "version": 3
   },
   "file_extension": ".py",
   "mimetype": "text/x-python",
   "name": "python",
   "nbconvert_exporter": "python",
   "pygments_lexer": "ipython3",
   "version": "3.7.13"
  }
 },
 "nbformat": 4,
 "nbformat_minor": 5
}
