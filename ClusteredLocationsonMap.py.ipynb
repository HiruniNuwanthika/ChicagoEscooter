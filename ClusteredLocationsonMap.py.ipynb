{
 "cells": [
  {
   "cell_type": "code",
   "execution_count": 1,
   "id": "1617b896",
   "metadata": {},
   "outputs": [],
   "source": [
    "import pandas as pd\n",
    "import folium\n",
    "import folium.plugins as plugins"
   ]
  },
  {
   "cell_type": "code",
   "execution_count": 2,
   "id": "229f9067",
   "metadata": {},
   "outputs": [],
   "source": [
    "df_start=pd.read_csv(r'C:\\Melbourne_Escooter\\RealDataset\\FinalResults\\August\\Started\\PerDay\\1\\withSuburb\\start_1Aug_0_00-5_59.csv')"
   ]
  },
  {
   "cell_type": "markdown",
   "id": "dbfd2811",
   "metadata": {},
   "source": [
    "Read csv with suburn column"
   ]
  },
  {
   "cell_type": "code",
   "execution_count": 3,
   "id": "bbc7862f",
   "metadata": {},
   "outputs": [],
   "source": [
    "m = folium.Map([-37.7911, 144.9705], zoom_start=5,width=\"%100\",height=\"%100\")\n",
    "locations = list(zip(df_start.latitude, df_start.longitude))\n",
    "cluster = plugins.MarkerCluster(locations=locations,                     \n",
    "               popups=df_start[\"suburb\"].tolist()) "
   ]
  },
  {
   "cell_type": "markdown",
   "id": "a04d30c6",
   "metadata": {},
   "source": [
    "make lat,lon tuple. clusted locations based on suburb "
   ]
  },
  {
   "cell_type": "code",
   "execution_count": 5,
   "id": "3cebbc55",
   "metadata": {},
   "outputs": [],
   "source": [
    "ma=m.add_child(cluster)"
   ]
  },
  {
   "cell_type": "code",
   "execution_count": 7,
   "id": "0d0fc441",
   "metadata": {},
   "outputs": [],
   "source": [
    "ma.save(r'C:\\Melbourne_Escooter\\RealDataset\\FinalResults\\August\\Stopped\\PerDay\\1\\withSuburb\\stop_1Aug_0_00-5_59.html')"
   ]
  },
  {
   "cell_type": "markdown",
   "id": "9c927953",
   "metadata": {},
   "source": [
    "add cluster on map"
   ]
  }
 ],
 "metadata": {
  "kernelspec": {
   "display_name": "geo_env",
   "language": "python",
   "name": "geo_env"
  },
  "language_info": {
   "codemirror_mode": {
    "name": "ipython",
    "version": 3
   },
   "file_extension": ".py",
   "mimetype": "text/x-python",
   "name": "python",
   "nbconvert_exporter": "python",
   "pygments_lexer": "ipython3",
   "version": "3.10.5"
  }
 },
 "nbformat": 4,
 "nbformat_minor": 5
}
