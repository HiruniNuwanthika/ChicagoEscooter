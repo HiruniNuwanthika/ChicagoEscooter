{
 "cells": [
  {
   "cell_type": "code",
   "execution_count": 29,
   "id": "a514a856",
   "metadata": {},
   "outputs": [],
   "source": [
    "import pandas as pd\n",
    "import folium\n",
    "import folium.plugins as plugins"
   ]
  },
  {
   "cell_type": "code",
   "execution_count": 30,
   "id": "38af6e16",
   "metadata": {},
   "outputs": [],
   "source": [
    "m = folium.Map([-37.7911, 144.9705], zoom_start=5,width=\"%100\",height=\"%100\")"
   ]
  },
  {
   "cell_type": "code",
   "execution_count": 67,
   "id": "d1792647",
   "metadata": {},
   "outputs": [],
   "source": [
    "df1=pd.read_csv(r'C:\\Melbourne_Escooter\\RealDataset\\FinalResults\\August\\Started\\PerDay\\1\\withSuburb\\start_1Aug_0_00-5_59.csv')"
   ]
  },
  {
   "cell_type": "code",
   "execution_count": 68,
   "id": "e62d8f35",
   "metadata": {},
   "outputs": [],
   "source": [
    "df2=pd.read_csv(r'C:\\Melbourne_Escooter\\RealDataset\\FinalResults\\August\\Started\\PerDay\\1\\withSuburb\\start_1Aug_6_00-10_59.csv')"
   ]
  },
  {
   "cell_type": "code",
   "execution_count": 69,
   "id": "98fa94b8",
   "metadata": {},
   "outputs": [],
   "source": [
    "df3=pd.read_csv(r'C:\\Melbourne_Escooter\\RealDataset\\FinalResults\\August\\Started\\PerDay\\1\\withSuburb\\start_1Aug_11_00-15_59.csv')"
   ]
  },
  {
   "cell_type": "code",
   "execution_count": 71,
   "id": "0bfd7d92",
   "metadata": {},
   "outputs": [],
   "source": [
    "df4=pd.read_csv(r'C:\\Melbourne_Escooter\\RealDataset\\FinalResults\\August\\Started\\PerDay\\1\\withSuburb\\start_1Aug_16_00-18_59.csv')"
   ]
  },
  {
   "cell_type": "code",
   "execution_count": 72,
   "id": "4226a9df",
   "metadata": {},
   "outputs": [],
   "source": [
    "df5=pd.read_csv(r'C:\\Melbourne_Escooter\\RealDataset\\FinalResults\\August\\Started\\PerDay\\1\\withSuburb\\start_1Aug_19_00-23_59.csv')"
   ]
  },
  {
   "cell_type": "code",
   "execution_count": 73,
   "id": "44eab10a",
   "metadata": {},
   "outputs": [],
   "source": [
    "df1_ =df1.groupby(['suburb'])['suburb'].count()"
   ]
  },
  {
   "cell_type": "code",
   "execution_count": 74,
   "id": "78cb2e1c",
   "metadata": {},
   "outputs": [],
   "source": [
    "df2_ =df2.groupby(['suburb'])['suburb'].count()"
   ]
  },
  {
   "cell_type": "code",
   "execution_count": 75,
   "id": "b2e8552b",
   "metadata": {},
   "outputs": [],
   "source": [
    "df3_ =df3.groupby(['suburb'])['suburb'].count()"
   ]
  },
  {
   "cell_type": "code",
   "execution_count": 76,
   "id": "85ce0dcc",
   "metadata": {},
   "outputs": [],
   "source": [
    "df4_ =df4.groupby(['suburb'])['suburb'].count()"
   ]
  },
  {
   "cell_type": "code",
   "execution_count": 77,
   "id": "bd9ec14c",
   "metadata": {},
   "outputs": [],
   "source": [
    "df5_ =df5.groupby(['suburb'])['suburb'].count()"
   ]
  },
  {
   "cell_type": "code",
   "execution_count": 78,
   "id": "73242345",
   "metadata": {},
   "outputs": [],
   "source": [
    "s1=df1_.add(df2_, fill_value=0, axis=0)"
   ]
  },
  {
   "cell_type": "code",
   "execution_count": 82,
   "id": "753fa810",
   "metadata": {},
   "outputs": [],
   "source": [
    "s2=(df1_.add(df2_, fill_value=0, axis=0)).add(df3_, fill_value=0, axis=0)"
   ]
  },
  {
   "cell_type": "code",
   "execution_count": 85,
   "id": "0001f083",
   "metadata": {},
   "outputs": [],
   "source": [
    "s3=s2.add(df4_, fill_value=0, axis=0)"
   ]
  },
  {
   "cell_type": "code",
   "execution_count": 84,
   "id": "cfff309d",
   "metadata": {},
   "outputs": [],
   "source": [
    "s3=((df1_.add(df2_, fill_value=0, axis=0)).add(df3_, fill_value=0, axis=0)).add(df4_, fill_value=0, axis=0)"
   ]
  },
  {
   "cell_type": "code",
   "execution_count": 86,
   "id": "60d60b9f",
   "metadata": {},
   "outputs": [],
   "source": [
    "s4=(((df1_.add(df2_, fill_value=0, axis=0)).add(df3_, fill_value=0, axis=0)).add(df4_, fill_value=0, axis=0)).add(df5_, fill_value=0, axis=0)"
   ]
  },
  {
   "cell_type": "code",
   "execution_count": 94,
   "id": "77bfeb66",
   "metadata": {},
   "outputs": [],
   "source": [
    "s4.to_csv(r'C:\\Melbourne_Escooter\\RealDataset\\FinalResults\\August\\Started\\PerDay\\1\\withSuburb\\start_counts_by_suburb.csv')"
   ]
  },
  {
   "cell_type": "code",
   "execution_count": 100,
   "id": "1f46ab28",
   "metadata": {},
   "outputs": [],
   "source": [
    "def startCountsBySuburb():\n",
    "    df1=pd.read_csv(r'C:\\Melbourne_Escooter\\RealDataset\\FinalResults\\August\\Started\\PerDay\\1\\withSuburb\\start_1Aug_0_00-5_59.csv')\n",
    "    df2=pd.read_csv(r'C:\\Melbourne_Escooter\\RealDataset\\FinalResults\\August\\Started\\PerDay\\1\\withSuburb\\start_1Aug_6_00-10_59.csv')\n",
    "    df3=pd.read_csv(r'C:\\Melbourne_Escooter\\RealDataset\\FinalResults\\August\\Started\\PerDay\\1\\withSuburb\\start_1Aug_11_00-15_59.csv')\n",
    "    df4=pd.read_csv(r'C:\\Melbourne_Escooter\\RealDataset\\FinalResults\\August\\Started\\PerDay\\1\\withSuburb\\start_1Aug_16_00-18_59.csv')\n",
    "    df5=pd.read_csv(r'C:\\Melbourne_Escooter\\RealDataset\\FinalResults\\August\\Started\\PerDay\\1\\withSuburb\\start_1Aug_19_00-23_59.csv')\n",
    "    df1_ =df1.groupby(['suburb'])['suburb'].count()\n",
    "    df2_ =df2.groupby(['suburb'])['suburb'].count()\n",
    "    df3_ =df3.groupby(['suburb'])['suburb'].count()\n",
    "    df4_ =df4.groupby(['suburb'])['suburb'].count()\n",
    "    df5_ =df5.groupby(['suburb'])['suburb'].count()\n",
    "    s=(((df1_.add(df2_, fill_value=0, axis=0)).add(df3_, fill_value=0, axis=0)).add(df4_, fill_value=0, axis=0)).add(df5_, fill_value=0, axis=0)\n",
    "    #df_all=pd.DataFrame(s, columns=['suburbName', 'count'])\n",
    "    s.to_csv(r'C:\\Melbourne_Escooter\\RealDataset\\FinalResults\\August\\Started\\PerDay\\1\\withSuburb\\start_counts_by_suburb.csv')"
   ]
  },
  {
   "cell_type": "code",
   "execution_count": 101,
   "id": "4f55cbe3",
   "metadata": {},
   "outputs": [],
   "source": [
    "startCountsBySuburb()"
   ]
  },
  {
   "cell_type": "code",
   "execution_count": null,
   "id": "f45ac2eb",
   "metadata": {},
   "outputs": [],
   "source": []
  }
 ],
 "metadata": {
  "kernelspec": {
   "display_name": "geo_env",
   "language": "python",
   "name": "geo_env"
  },
  "language_info": {
   "codemirror_mode": {
    "name": "ipython",
    "version": 3
   },
   "file_extension": ".py",
   "mimetype": "text/x-python",
   "name": "python",
   "nbconvert_exporter": "python",
   "pygments_lexer": "ipython3",
   "version": "3.10.5"
  }
 },
 "nbformat": 4,
 "nbformat_minor": 5
}
