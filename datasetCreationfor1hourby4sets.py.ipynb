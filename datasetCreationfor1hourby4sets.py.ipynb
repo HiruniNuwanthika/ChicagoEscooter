{
 "cells": [
  {
   "cell_type": "code",
   "execution_count": 1,
   "id": "c9e337dd",
   "metadata": {},
   "outputs": [],
   "source": [
    "import pandas as pd\n",
    "import json\n",
    "from functools import reduce"
   ]
  },
  {
   "cell_type": "code",
   "execution_count": 60,
   "id": "6a7304f4",
   "metadata": {},
   "outputs": [
    {
     "name": "stderr",
     "output_type": "stream",
     "text": [
      "C:\\ProgramData\\Anaconda3\\lib\\site-packages\\pandas\\core\\frame.py:4913: SettingWithCopyWarning: \n",
      "A value is trying to be set on a copy of a slice from a DataFrame\n",
      "\n",
      "See the caveats in the documentation: https://pandas.pydata.org/pandas-docs/stable/user_guide/indexing.html#returning-a-view-versus-a-copy\n",
      "  errors=errors,\n",
      "C:\\ProgramData\\Anaconda3\\lib\\site-packages\\ipykernel_launcher.py:16: FutureWarning: Passing 'suffixes' which cause duplicate columns {'lon_a', 'lat_a', 'current_range_meters_a'} in the result is deprecated and will raise a MergeError in a future version.\n",
      "  app.launch_new_instance()\n"
     ]
    }
   ],
   "source": [
    "data_frames = []\n",
    "files=[]\n",
    "for i in range(1,16):\n",
    "    try:\n",
    "        with open(r'C:\\Melbourne_Escooter\\Lime\\Scheduled_downloads\\Test\\7_31_16hour\\7_31t16_{}.json'.format(i),'r') as f:\n",
    "            data = json.loads(f.read())\n",
    "        df_normalized=pd.json_normalize(data, ['data', 'bikes'])\n",
    "        df_normalized_escooter=df_normalized[df_normalized['vehicle_type']=='scooter']\n",
    "        df_normalized_escooter.drop(['is_reserved', 'is_disabled','vehicle_type_id','pricing_plan_id','last_reported','vehicle_type'], axis=1, inplace=True)\n",
    "        df=pd.DataFrame(df_normalized_escooter)\n",
    "        data_frames.append(df)\n",
    "        files.append(i)\n",
    "    except FileNotFoundError:\n",
    "        continue\n",
    "df_merged = reduce(lambda  left,right: pd.merge(left,right,on=['bike_id'],suffixes=('_a', '_b'),\n",
    "                                            how='outer'), data_frames)"
   ]
  },
  {
   "cell_type": "markdown",
   "id": "831fd0e1",
   "metadata": {},
   "source": [
    "loop through 1-15 and create df-1"
   ]
  },
  {
   "cell_type": "code",
   "execution_count": 61,
   "id": "784b0dbd",
   "metadata": {},
   "outputs": [
    {
     "name": "stdout",
     "output_type": "stream",
     "text": [
      "['bike_id', 'lat_1', 'lon_1', 'range_1', 'lat_2', 'lon_2', 'range_2', 'lat_3', 'lon_3', 'range_3', 'lat_4', 'lon_4', 'range_4', 'lat_5', 'lon_5', 'range_5', 'lat_6', 'lon_6', 'range_6', 'lat_7', 'lon_7', 'range_7', 'lat_8', 'lon_8', 'range_8', 'lat_9', 'lon_9', 'range_9', 'lat_10', 'lon_10', 'range_10', 'lat_11', 'lon_11', 'range_11', 'lat_12', 'lon_12', 'range_12', 'lat_13', 'lon_13', 'range_13', 'lat_14', 'lon_14', 'range_14', 'lat_15', 'lon_15', 'range_15']\n"
     ]
    }
   ],
   "source": [
    "files\n",
    "columns=['bike_id']\n",
    "for i in files:\n",
    "    #print (i)\n",
    "    columns.append('lat_%s' %i)\n",
    "    columns.append('lon_%s' %i)\n",
    "    columns.append('range_%s' %i)\n",
    "#columns.append(files)\n",
    "print(columns)\n",
    "#df_merged.columns = ['bike_id', 'lat_1', 'lon_1', 'range_1', 'lat_2', 'lon_2', 'range_2', 'lat_3', 'lon_3', 'range_3', 'lat_4', 'lon_4', 'range_4', 'lat_5', 'lon_5', 'range_5', 'lat_6', 'lon_6', 'range_6', 'lat_7', 'lon_7', 'range_7', 'lat_8', 'lon_8', 'range_8', 'lat_9', 'lon_9', 'range_9', 'lat_10', 'lon_10', 'range_10', 'lat_11', 'lon_11', 'range_11', 'lat_12', 'lon_12', 'range_12', 'lat_13', 'lon_13', 'range_13', 'lat_14', 'lon_14', 'range_14', 'lat_15', 'lon_15', 'range_15']"
   ]
  },
  {
   "cell_type": "markdown",
   "id": "b661c22b",
   "metadata": {},
   "source": [
    "Create column names dynamically"
   ]
  },
  {
   "cell_type": "code",
   "execution_count": 62,
   "id": "3d6d3bc0",
   "metadata": {},
   "outputs": [],
   "source": [
    "df_merged.columns = columns"
   ]
  },
  {
   "cell_type": "markdown",
   "id": "5d6e151a",
   "metadata": {},
   "source": [
    "rename columns"
   ]
  },
  {
   "cell_type": "code",
   "execution_count": 63,
   "id": "fd0b668f",
   "metadata": {},
   "outputs": [],
   "source": [
    "df_merged.to_csv(r'C:\\Melbourne_Escooter\\Lime\\Scheduled_downloads\\Test\\7_31_16hour\\16hour_1.csv', index=False)"
   ]
  },
  {
   "cell_type": "markdown",
   "id": "dc9e0daf",
   "metadata": {},
   "source": [
    "save 1st set as csv"
   ]
  },
  {
   "cell_type": "code",
   "execution_count": 64,
   "id": "3ef46845",
   "metadata": {},
   "outputs": [
    {
     "name": "stderr",
     "output_type": "stream",
     "text": [
      "C:\\ProgramData\\Anaconda3\\lib\\site-packages\\ipykernel_launcher.py:16: FutureWarning: Passing 'suffixes' which cause duplicate columns {'lon_a', 'lat_a', 'current_range_meters_a'} in the result is deprecated and will raise a MergeError in a future version.\n",
      "  app.launch_new_instance()\n"
     ]
    }
   ],
   "source": [
    "data_frames = []\n",
    "files=[]\n",
    "for i in range(16,31):\n",
    "    try:\n",
    "        with open(r'C:\\Melbourne_Escooter\\Lime\\Scheduled_downloads\\Test\\7_31_16hour\\7_31t16_{}.json'.format(i),'r') as f:\n",
    "            data = json.loads(f.read())\n",
    "        df_normalized=pd.json_normalize(data, ['data', 'bikes'])\n",
    "        df_normalized_escooter=df_normalized[df_normalized['vehicle_type']=='scooter']\n",
    "        df_normalized_escooter.drop(['is_reserved', 'is_disabled','vehicle_type_id','pricing_plan_id','last_reported','vehicle_type'], axis=1, inplace=True)\n",
    "        df=pd.DataFrame(df_normalized_escooter)\n",
    "        data_frames.append(df)\n",
    "        files.append(i)\n",
    "    except FileNotFoundError:\n",
    "        continue\n",
    "df_merged = reduce(lambda  left,right: pd.merge(left,right,on=['bike_id'],suffixes=('_a', '_b'),\n",
    "                                            how='outer'), data_frames)"
   ]
  },
  {
   "cell_type": "code",
   "execution_count": 65,
   "id": "b43ee34b",
   "metadata": {},
   "outputs": [
    {
     "name": "stdout",
     "output_type": "stream",
     "text": [
      "['bike_id', 'lat_16', 'lon_16', 'range_16', 'lat_17', 'lon_17', 'range_17', 'lat_18', 'lon_18', 'range_18', 'lat_19', 'lon_19', 'range_19', 'lat_20', 'lon_20', 'range_20', 'lat_21', 'lon_21', 'range_21', 'lat_22', 'lon_22', 'range_22', 'lat_23', 'lon_23', 'range_23', 'lat_24', 'lon_24', 'range_24', 'lat_25', 'lon_25', 'range_25', 'lat_26', 'lon_26', 'range_26', 'lat_27', 'lon_27', 'range_27', 'lat_28', 'lon_28', 'range_28', 'lat_29', 'lon_29', 'range_29', 'lat_30', 'lon_30', 'range_30']\n"
     ]
    }
   ],
   "source": [
    "files\n",
    "columns=['bike_id']\n",
    "for i in files:\n",
    "    #print (i)\n",
    "    columns.append('lat_%s' %i)\n",
    "    columns.append('lon_%s' %i)\n",
    "    columns.append('range_%s' %i)\n",
    "#columns.append(files)\n",
    "print(columns)\n",
    "\n",
    "#df_merged.columns = ['bike_id','lat_16', 'lon_16', 'range_16', 'lat_17', 'lon_17', 'range_17', 'lat_18', 'lon_18', 'range_18', 'lat_19', 'lon_19', 'range_19', 'lat_20', 'lon_20', 'range_20', 'lat_21', 'lon_21', 'range_21', 'lat_22', 'lon_22', 'range_22', 'lat_23', 'lon_23', 'range_23', 'lat_24', 'lon_24', 'range_24', 'lat_25', 'lon_25', 'range_25', 'lat_26', 'lon_26', 'range_26', 'lat_27', 'lon_27', 'range_27', 'lat_28', 'lon_28', 'range_28', 'lat_29', 'lon_29', 'range_29', 'lat_30', 'lon_30', 'range_30']"
   ]
  },
  {
   "cell_type": "code",
   "execution_count": 66,
   "id": "78560af5",
   "metadata": {},
   "outputs": [],
   "source": [
    "df_merged.columns = columns"
   ]
  },
  {
   "cell_type": "code",
   "execution_count": 67,
   "id": "006e2cde",
   "metadata": {},
   "outputs": [],
   "source": [
    "df_merged.to_csv(r'C:\\Melbourne_Escooter\\Lime\\Scheduled_downloads\\Test\\7_31_16hour\\16hour_2.csv', index=False)"
   ]
  },
  {
   "cell_type": "code",
   "execution_count": 68,
   "id": "173607c0",
   "metadata": {
    "scrolled": true
   },
   "outputs": [
    {
     "name": "stderr",
     "output_type": "stream",
     "text": [
      "C:\\ProgramData\\Anaconda3\\lib\\site-packages\\ipykernel_launcher.py:16: FutureWarning: Passing 'suffixes' which cause duplicate columns {'lon_a', 'lat_a', 'current_range_meters_a'} in the result is deprecated and will raise a MergeError in a future version.\n",
      "  app.launch_new_instance()\n"
     ]
    }
   ],
   "source": [
    "data_frames = []\n",
    "files=[]\n",
    "for i in range(31,46):\n",
    "    try:\n",
    "        with open(r'C:\\Melbourne_Escooter\\Lime\\Scheduled_downloads\\Test\\7_31_16hour\\7_31t16_{}.json'.format(i),'r') as f:\n",
    "            data = json.loads(f.read())\n",
    "        df_normalized=pd.json_normalize(data, ['data', 'bikes'])\n",
    "        df_normalized_escooter=df_normalized[df_normalized['vehicle_type']=='scooter']\n",
    "        df_normalized_escooter.drop(['is_reserved', 'is_disabled','vehicle_type_id','pricing_plan_id','last_reported','vehicle_type'], axis=1, inplace=True)\n",
    "        df=pd.DataFrame(df_normalized_escooter)\n",
    "        data_frames.append(df)\n",
    "        files.append(i)\n",
    "    except FileNotFountError:\n",
    "        continue\n",
    "df_merged = reduce(lambda  left,right: pd.merge(left,right,on=['bike_id'],suffixes=('_a', '_b'),\n",
    "                                            how='outer'), data_frames)"
   ]
  },
  {
   "cell_type": "code",
   "execution_count": 69,
   "id": "994b004e",
   "metadata": {},
   "outputs": [
    {
     "name": "stdout",
     "output_type": "stream",
     "text": [
      "['bike_id', 'lat_31', 'lon_31', 'range_31', 'lat_32', 'lon_32', 'range_32', 'lat_33', 'lon_33', 'range_33', 'lat_34', 'lon_34', 'range_34', 'lat_35', 'lon_35', 'range_35', 'lat_36', 'lon_36', 'range_36', 'lat_37', 'lon_37', 'range_37', 'lat_38', 'lon_38', 'range_38', 'lat_39', 'lon_39', 'range_39', 'lat_40', 'lon_40', 'range_40', 'lat_41', 'lon_41', 'range_41', 'lat_42', 'lon_42', 'range_42', 'lat_43', 'lon_43', 'range_43', 'lat_44', 'lon_44', 'range_44', 'lat_45', 'lon_45', 'range_45']\n"
     ]
    }
   ],
   "source": [
    "files\n",
    "columns=['bike_id']\n",
    "for i in files:\n",
    "    #print (i)\n",
    "    columns.append('lat_%s' %i)\n",
    "    columns.append('lon_%s' %i)\n",
    "    columns.append('range_%s' %i)\n",
    "#columns.append(files)\n",
    "print(columns)\n",
    "\n",
    "#df_merged.columns = ['bike_id','lat_16', 'lon_16', 'range_16', 'lat_17', 'lon_17', 'range_17', 'lat_18', 'lon_18', 'range_18', 'lat_19', 'lon_19', 'range_19', 'lat_20', 'lon_20', 'range_20', 'lat_21', 'lon_21', 'range_21', 'lat_22', 'lon_22', 'range_22', 'lat_23', 'lon_23', 'range_23', 'lat_24', 'lon_24', 'range_24', 'lat_25', 'lon_25', 'range_25', 'lat_26', 'lon_26', 'range_26', 'lat_27', 'lon_27', 'range_27', 'lat_28', 'lon_28', 'range_28', 'lat_29', 'lon_29', 'range_29', 'lat_30', 'lon_30', 'range_30']"
   ]
  },
  {
   "cell_type": "code",
   "execution_count": 70,
   "id": "beddc323",
   "metadata": {},
   "outputs": [],
   "source": [
    "df_merged.columns = columns"
   ]
  },
  {
   "cell_type": "code",
   "execution_count": 71,
   "id": "c1ae1dcb",
   "metadata": {},
   "outputs": [],
   "source": [
    "df_merged.to_csv(r'C:\\Melbourne_Escooter\\Lime\\Scheduled_downloads\\Test\\7_31_16hour\\16hour_3.csv', index=False)"
   ]
  },
  {
   "cell_type": "code",
   "execution_count": 72,
   "id": "344d714d",
   "metadata": {
    "scrolled": true
   },
   "outputs": [
    {
     "name": "stderr",
     "output_type": "stream",
     "text": [
      "C:\\ProgramData\\Anaconda3\\lib\\site-packages\\ipykernel_launcher.py:16: FutureWarning: Passing 'suffixes' which cause duplicate columns {'lon_a', 'lat_a', 'current_range_meters_a'} in the result is deprecated and will raise a MergeError in a future version.\n",
      "  app.launch_new_instance()\n"
     ]
    }
   ],
   "source": [
    "data_frames = []\n",
    "files=[]\n",
    "for i in range(46,60):\n",
    "    try:\n",
    "        with open(r'C:\\Melbourne_Escooter\\Lime\\Scheduled_downloads\\Test\\7_31_16hour\\7_31t16_{}.json'.format(i),'r') as f:\n",
    "            data = json.loads(f.read())\n",
    "        df_normalized=pd.json_normalize(data, ['data', 'bikes'])\n",
    "        df_normalized_escooter=df_normalized[df_normalized['vehicle_type']=='scooter']\n",
    "        df_normalized_escooter.drop(['is_reserved', 'is_disabled','vehicle_type_id','pricing_plan_id','last_reported','vehicle_type'], axis=1, inplace=True)\n",
    "        df=pd.DataFrame(df_normalized_escooter)\n",
    "        data_frames.append(df)\n",
    "        files.append(i)\n",
    "    except FileNotFoundError:\n",
    "        continue\n",
    "df_merged = reduce(lambda  left,right: pd.merge(left,right,on=['bike_id'],suffixes=('_a', '_b'),\n",
    "                                            how='outer'), data_frames)"
   ]
  },
  {
   "cell_type": "code",
   "execution_count": 73,
   "id": "4012e87b",
   "metadata": {},
   "outputs": [
    {
     "name": "stdout",
     "output_type": "stream",
     "text": [
      "['bike_id', 'lat_46', 'lon_46', 'range_46', 'lat_47', 'lon_47', 'range_47', 'lat_48', 'lon_48', 'range_48', 'lat_49', 'lon_49', 'range_49', 'lat_50', 'lon_50', 'range_50', 'lat_51', 'lon_51', 'range_51', 'lat_52', 'lon_52', 'range_52', 'lat_53', 'lon_53', 'range_53', 'lat_54', 'lon_54', 'range_54', 'lat_55', 'lon_55', 'range_55', 'lat_56', 'lon_56', 'range_56', 'lat_57', 'lon_57', 'range_57', 'lat_58', 'lon_58', 'range_58', 'lat_59', 'lon_59', 'range_59']\n"
     ]
    }
   ],
   "source": [
    "files\n",
    "columns=['bike_id']\n",
    "for i in files:\n",
    "    #print (i)\n",
    "    columns.append('lat_%s' %i)\n",
    "    columns.append('lon_%s' %i)\n",
    "    columns.append('range_%s' %i)\n",
    "#columns.append(files)\n",
    "print(columns)\n",
    "\n",
    "#df_merged.columns = ['bike_id','lat_16', 'lon_16', 'range_16', 'lat_17', 'lon_17', 'range_17', 'lat_18', 'lon_18', 'range_18', 'lat_19', 'lon_19', 'range_19', 'lat_20', 'lon_20', 'range_20', 'lat_21', 'lon_21', 'range_21', 'lat_22', 'lon_22', 'range_22', 'lat_23', 'lon_23', 'range_23', 'lat_24', 'lon_24', 'range_24', 'lat_25', 'lon_25', 'range_25', 'lat_26', 'lon_26', 'range_26', 'lat_27', 'lon_27', 'range_27', 'lat_28', 'lon_28', 'range_28', 'lat_29', 'lon_29', 'range_29', 'lat_30', 'lon_30', 'range_30']"
   ]
  },
  {
   "cell_type": "code",
   "execution_count": 74,
   "id": "640e36d5",
   "metadata": {},
   "outputs": [],
   "source": [
    "df_merged.columns = columns"
   ]
  },
  {
   "cell_type": "code",
   "execution_count": 75,
   "id": "d52376f6",
   "metadata": {},
   "outputs": [],
   "source": [
    "df_merged.to_csv(r'C:\\Melbourne_Escooter\\Lime\\Scheduled_downloads\\Test\\7_31_16hour\\16hour_4.csv', index=False)"
   ]
  },
  {
   "cell_type": "code",
   "execution_count": 76,
   "id": "d3487d28",
   "metadata": {},
   "outputs": [],
   "source": [
    "with open(r'C:\\Melbourne_Escooter\\Lime\\Scheduled_downloads\\Test\\7_31_16hour\\7_31t17_0.json','r') as f:\n",
    "    data = json.loads(f.read())\n",
    "df_normalized=pd.json_normalize(data, ['data', 'bikes'])\n",
    "df_normalized_escooter=df_normalized[df_normalized['vehicle_type']=='scooter']\n",
    "df_normalized_escooter.drop(['is_reserved', 'is_disabled','vehicle_type_id','pricing_plan_id','last_reported','vehicle_type'], axis=1, inplace=True)\n",
    "df=pd.DataFrame(df_normalized_escooter)"
   ]
  },
  {
   "cell_type": "code",
   "execution_count": 77,
   "id": "3c1e68e5",
   "metadata": {},
   "outputs": [],
   "source": [
    "df.columns = ['bike_id', 'lat_60', 'lon_60', 'range_60']"
   ]
  },
  {
   "cell_type": "code",
   "execution_count": 78,
   "id": "5b8f4cdd",
   "metadata": {},
   "outputs": [],
   "source": [
    "df_4=df_merged.merge(df, how='outer', on='bike_id')"
   ]
  },
  {
   "cell_type": "code",
   "execution_count": 79,
   "id": "ad52d42a",
   "metadata": {},
   "outputs": [],
   "source": [
    "df_4.to_csv(r'C:\\Melbourne_Escooter\\Lime\\Scheduled_downloads\\Test\\7_31_16hour\\16hour_4.csv', index=False)"
   ]
  },
  {
   "cell_type": "code",
   "execution_count": null,
   "id": "8e6ba04e",
   "metadata": {},
   "outputs": [],
   "source": []
  }
 ],
 "metadata": {
  "kernelspec": {
   "display_name": "Python 3 (ipykernel)",
   "language": "python",
   "name": "python3"
  },
  "language_info": {
   "codemirror_mode": {
    "name": "ipython",
    "version": 3
   },
   "file_extension": ".py",
   "mimetype": "text/x-python",
   "name": "python",
   "nbconvert_exporter": "python",
   "pygments_lexer": "ipython3",
   "version": "3.7.13"
  }
 },
 "nbformat": 4,
 "nbformat_minor": 5
}
