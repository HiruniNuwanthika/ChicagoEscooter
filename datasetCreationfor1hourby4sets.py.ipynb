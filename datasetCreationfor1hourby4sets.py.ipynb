{
 "cells": [
  {
   "cell_type": "code",
   "execution_count": 1,
   "id": "10581d17",
   "metadata": {},
   "outputs": [],
   "source": [
    "import pandas as pd\n",
    "import json\n",
    "from functools import reduce"
   ]
  },
  {
   "cell_type": "code",
   "execution_count": 41,
   "id": "5fa2cc56",
   "metadata": {},
   "outputs": [
    {
     "name": "stdout",
     "output_type": "stream",
     "text": [
      "[1, 2, 3, 4, 5, 6, 7, 8, 9, 10, 11, 12, 13, 14, 15]\n"
     ]
    },
    {
     "name": "stderr",
     "output_type": "stream",
     "text": [
      "C:\\ProgramData\\Anaconda3\\lib\\site-packages\\ipykernel_launcher.py:14: FutureWarning: Passing 'suffixes' which cause duplicate columns {'lon_a', 'lat_a', 'current_range_meters_a'} in the result is deprecated and will raise a MergeError in a future version.\n",
      "  \n"
     ]
    }
   ],
   "source": [
    "data_frames = []\n",
    "files=[]\n",
    "for i in range(1,16):\n",
    "    with open(r'C:\\Melbourne_Escooter\\Lime\\Scheduled_downloads\\Test\\7_31_16hour\\7_31t16_{}.json'.format(i),'r') as f:\n",
    "        data = json.loads(f.read())\n",
    "    df_normalized=pd.json_normalize(data, ['data', 'bikes'])\n",
    "    df_normalized_escooter=df_normalized[df_normalized['vehicle_type']=='scooter']\n",
    "    df_normalized_escooter.drop(['is_reserved', 'is_disabled','vehicle_type_id','pricing_plan_id','last_reported','vehicle_type'], axis=1, inplace=True)\n",
    "    df=pd.DataFrame(df_normalized_escooter)\n",
    "    data_frames.append(df)\n",
    "    files.append(i)\n",
    "print(files)\n",
    "df_merged = reduce(lambda  left,right: pd.merge(left,right,on=['bike_id'],suffixes=('_a', '_b'),\n",
    "                                            how='outer'), data_frames)"
   ]
  },
  {
   "cell_type": "markdown",
   "id": "459d1c12",
   "metadata": {},
   "source": [
    "loop through 1-15 and create df-1"
   ]
  },
  {
   "cell_type": "code",
   "execution_count": 42,
   "id": "eaac97aa",
   "metadata": {},
   "outputs": [],
   "source": [
    "df_merged.columns = ['bike_id', 'lat_1', 'lon_1', 'range_1', 'lat_2', 'lon_2', 'range_2', 'lat_3', 'lon_3', 'range_3', 'lat_4', 'lon_4', 'range_4', 'lat_5', 'lon_5', 'range_5', 'lat_6', 'lon_6', 'range_6', 'lat_7', 'lon_7', 'range_7', 'lat_8', 'lon_8', 'range_8', 'lat_9', 'lon_9', 'range_9', 'lat_10', 'lon_10', 'range_10', 'lat_11', 'lon_11', 'range_11', 'lat_12', 'lon_12', 'range_12', 'lat_13', 'lon_13', 'range_13', 'lat_14', 'lon_14', 'range_14', 'lat_15', 'lon_15', 'range_15']"
   ]
  },
  {
   "cell_type": "markdown",
   "id": "62a10bdd",
   "metadata": {},
   "source": [
    "rename columns"
   ]
  },
  {
   "cell_type": "code",
   "execution_count": 43,
   "id": "b8ec6792",
   "metadata": {},
   "outputs": [],
   "source": [
    "df_merged.to_csv(r'C:\\Melbourne_Escooter\\Lime\\Scheduled_downloads\\Test\\7_31_16hour\\16hour_1.csv', index=False)"
   ]
  },
  {
   "cell_type": "markdown",
   "id": "e8029f65",
   "metadata": {},
   "source": [
    "save 1st set as csv"
   ]
  },
  {
   "cell_type": "code",
   "execution_count": 44,
   "id": "0667307d",
   "metadata": {},
   "outputs": [
    {
     "name": "stdout",
     "output_type": "stream",
     "text": [
      "[16, 17, 18, 19, 20, 21, 22, 23, 24, 25, 26, 27, 28, 29, 30]\n"
     ]
    },
    {
     "name": "stderr",
     "output_type": "stream",
     "text": [
      "C:\\ProgramData\\Anaconda3\\lib\\site-packages\\ipykernel_launcher.py:14: FutureWarning: Passing 'suffixes' which cause duplicate columns {'lon_a', 'lat_a', 'current_range_meters_a'} in the result is deprecated and will raise a MergeError in a future version.\n",
      "  \n"
     ]
    }
   ],
   "source": [
    "data_frames = []\n",
    "files=[]\n",
    "for i in range(16,31):\n",
    "    with open(r'C:\\Melbourne_Escooter\\Lime\\Scheduled_downloads\\Test\\7_31_16hour\\7_31t16_{}.json'.format(i),'r') as f:\n",
    "        data = json.loads(f.read())\n",
    "    df_normalized=pd.json_normalize(data, ['data', 'bikes'])\n",
    "    df_normalized_escooter=df_normalized[df_normalized['vehicle_type']=='scooter']\n",
    "    df_normalized_escooter.drop(['is_reserved', 'is_disabled','vehicle_type_id','pricing_plan_id','last_reported','vehicle_type'], axis=1, inplace=True)\n",
    "    df=pd.DataFrame(df_normalized_escooter)\n",
    "    data_frames.append(df)\n",
    "    files.append(i)\n",
    "print(files)\n",
    "df_merged = reduce(lambda  left,right: pd.merge(left,right,on=['bike_id'],suffixes=('_a', '_b'),\n",
    "                                            how='outer'), data_frames)"
   ]
  },
  {
   "cell_type": "code",
   "execution_count": 45,
   "id": "ab659e6a",
   "metadata": {},
   "outputs": [],
   "source": [
    "df_merged.columns = ['bike_id','lat_16', 'lon_16', 'range_16', 'lat_17', 'lon_17', 'range_17', 'lat_18', 'lon_18', 'range_18', 'lat_19', 'lon_19', 'range_19', 'lat_20', 'lon_20', 'range_20', 'lat_21', 'lon_21', 'range_21', 'lat_22', 'lon_22', 'range_22', 'lat_23', 'lon_23', 'range_23', 'lat_24', 'lon_24', 'range_24', 'lat_25', 'lon_25', 'range_25', 'lat_26', 'lon_26', 'range_26', 'lat_27', 'lon_27', 'range_27', 'lat_28', 'lon_28', 'range_28', 'lat_29', 'lon_29', 'range_29', 'lat_30', 'lon_30', 'range_30']"
   ]
  },
  {
   "cell_type": "code",
   "execution_count": 46,
   "id": "526c1819",
   "metadata": {},
   "outputs": [],
   "source": [
    "df_merged.to_csv(r'C:\\Melbourne_Escooter\\Lime\\Scheduled_downloads\\Test\\7_31_16hour\\16hour_2.csv', index=False)"
   ]
  },
  {
   "cell_type": "code",
   "execution_count": 47,
   "id": "f3d58132",
   "metadata": {
    "scrolled": true
   },
   "outputs": [
    {
     "name": "stdout",
     "output_type": "stream",
     "text": [
      "[31, 32, 33, 34, 35, 36, 37, 38, 39, 40, 41, 42, 43, 44, 45]\n"
     ]
    },
    {
     "name": "stderr",
     "output_type": "stream",
     "text": [
      "C:\\ProgramData\\Anaconda3\\lib\\site-packages\\ipykernel_launcher.py:14: FutureWarning: Passing 'suffixes' which cause duplicate columns {'lon_a', 'lat_a', 'current_range_meters_a'} in the result is deprecated and will raise a MergeError in a future version.\n",
      "  \n"
     ]
    }
   ],
   "source": [
    "data_frames = []\n",
    "files=[]\n",
    "for i in range(31,46):\n",
    "    with open(r'C:\\Melbourne_Escooter\\Lime\\Scheduled_downloads\\Test\\7_31_16hour\\7_31t16_{}.json'.format(i),'r') as f:\n",
    "        data = json.loads(f.read())\n",
    "    df_normalized=pd.json_normalize(data, ['data', 'bikes'])\n",
    "    df_normalized_escooter=df_normalized[df_normalized['vehicle_type']=='scooter']\n",
    "    df_normalized_escooter.drop(['is_reserved', 'is_disabled','vehicle_type_id','pricing_plan_id','last_reported','vehicle_type'], axis=1, inplace=True)\n",
    "    df=pd.DataFrame(df_normalized_escooter)\n",
    "    data_frames.append(df)\n",
    "    files.append(i)\n",
    "print(files)\n",
    "df_merged = reduce(lambda  left,right: pd.merge(left,right,on=['bike_id'],suffixes=('_a', '_b'),\n",
    "                                            how='outer'), data_frames)"
   ]
  },
  {
   "cell_type": "code",
   "execution_count": 48,
   "id": "804cadc5",
   "metadata": {},
   "outputs": [],
   "source": [
    "df_merged.columns = ['bike_id', 'lat_31', 'lon_31', 'range_31', 'lat_32', 'lon_32', 'range_32', 'lat_33', 'lon_33', 'range_33', 'lat_34', 'lon_34', 'range_34', 'lat_35', 'lon_35', 'range_35', 'lat_36', 'lon_36', 'range_36', 'lat_37', 'lon_37', 'range_37', 'lat_38', 'lon_38', 'range_38', 'lat_39', 'lon_39', 'range_39', 'lat_40', 'lon_40', 'range_40', 'lat_41', 'lon_41', 'range_41', 'lat_42', 'lon_42', 'range_42', 'lat_43', 'lon_43', 'range_43', 'lat_44', 'lon_44', 'range_44', 'lat_45', 'lon_45', 'range_45']"
   ]
  },
  {
   "cell_type": "code",
   "execution_count": 49,
   "id": "094bb98b",
   "metadata": {},
   "outputs": [],
   "source": [
    "df_merged.to_csv(r'C:\\Melbourne_Escooter\\Lime\\Scheduled_downloads\\Test\\7_31_16hour\\16hour_3.csv', index=False)"
   ]
  },
  {
   "cell_type": "code",
   "execution_count": 50,
   "id": "64f0c574",
   "metadata": {
    "scrolled": true
   },
   "outputs": [
    {
     "name": "stdout",
     "output_type": "stream",
     "text": [
      "[46, 47, 48, 49, 50, 51, 52, 53, 54, 55, 56, 57, 58, 59]\n"
     ]
    },
    {
     "name": "stderr",
     "output_type": "stream",
     "text": [
      "C:\\ProgramData\\Anaconda3\\lib\\site-packages\\ipykernel_launcher.py:14: FutureWarning: Passing 'suffixes' which cause duplicate columns {'lon_a', 'lat_a', 'current_range_meters_a'} in the result is deprecated and will raise a MergeError in a future version.\n",
      "  \n"
     ]
    }
   ],
   "source": [
    "data_frames = []\n",
    "files=[]\n",
    "for i in range(46,60):\n",
    "    with open(r'C:\\Melbourne_Escooter\\Lime\\Scheduled_downloads\\Test\\7_31_16hour\\7_31t16_{}.json'.format(i),'r') as f:\n",
    "        data = json.loads(f.read())\n",
    "    df_normalized=pd.json_normalize(data, ['data', 'bikes'])\n",
    "    df_normalized_escooter=df_normalized[df_normalized['vehicle_type']=='scooter']\n",
    "    df_normalized_escooter.drop(['is_reserved', 'is_disabled','vehicle_type_id','pricing_plan_id','last_reported','vehicle_type'], axis=1, inplace=True)\n",
    "    df=pd.DataFrame(df_normalized_escooter)\n",
    "    data_frames.append(df)\n",
    "    files.append(i)\n",
    "print(files)\n",
    "df_merged = reduce(lambda  left,right: pd.merge(left,right,on=['bike_id'],suffixes=('_a', '_b'),\n",
    "                                            how='outer'), data_frames)"
   ]
  },
  {
   "cell_type": "code",
   "execution_count": 51,
   "id": "14bcda3f",
   "metadata": {},
   "outputs": [],
   "source": [
    "df_merged.columns = ['bike_id', 'lat_46', 'lon_46', 'range_46', 'lat_47', 'lon_47', 'range_47', 'lat_48', 'lon_48', 'range_48', 'lat_49', 'lon_49', 'range_49', 'lat_50', 'lon_50', 'range_50', 'lat_51', 'lon_51', 'range_51', 'lat_52', 'lon_52', 'range_52', 'lat_53', 'lon_53', 'range_53', 'lat_54', 'lon_54', 'range_54', 'lat_55', 'lon_55', 'range_55', 'lat_56', 'lon_56', 'range_56', 'lat_57', 'lon_57', 'range_57', 'lat_58', 'lon_58', 'range_58', 'lat_59', 'lon_59', 'range_59']"
   ]
  },
  {
   "cell_type": "code",
   "execution_count": 52,
   "id": "0bdcff7f",
   "metadata": {},
   "outputs": [],
   "source": [
    "df_merged.to_csv(r'C:\\Melbourne_Escooter\\Lime\\Scheduled_downloads\\Test\\7_31_16hour\\16hour_4.csv', index=False)"
   ]
  },
  {
   "cell_type": "code",
   "execution_count": 54,
   "id": "77d78dd9",
   "metadata": {},
   "outputs": [],
   "source": [
    "with open(r'C:\\Melbourne_Escooter\\Lime\\Scheduled_downloads\\Test\\7_31_16hour\\7_31t17_0.json','r') as f:\n",
    "    data = json.loads(f.read())\n",
    "df_normalized=pd.json_normalize(data, ['data', 'bikes'])\n",
    "df_normalized_escooter=df_normalized[df_normalized['vehicle_type']=='scooter']\n",
    "df_normalized_escooter.drop(['is_reserved', 'is_disabled','vehicle_type_id','pricing_plan_id','last_reported','vehicle_type'], axis=1, inplace=True)\n",
    "df=pd.DataFrame(df_normalized_escooter)"
   ]
  },
  {
   "cell_type": "code",
   "execution_count": 56,
   "id": "6e60cb1c",
   "metadata": {},
   "outputs": [],
   "source": [
    "df.columns = ['bike_id', 'lat_60', 'lon_60', 'range_60']"
   ]
  },
  {
   "cell_type": "code",
   "execution_count": 57,
   "id": "0b106fbe",
   "metadata": {},
   "outputs": [],
   "source": [
    "df_4=df_merged.merge(df, how='outer', on='bike_id')"
   ]
  },
  {
   "cell_type": "code",
   "execution_count": 59,
   "id": "708e7bb3",
   "metadata": {},
   "outputs": [],
   "source": [
    "df_4.to_csv(r'C:\\Melbourne_Escooter\\Lime\\Scheduled_downloads\\Test\\7_31_16hour\\16hour_4.csv', index=False)"
   ]
  },
  {
   "cell_type": "code",
   "execution_count": null,
   "id": "2247c15b",
   "metadata": {},
   "outputs": [],
   "source": []
  }
 ],
 "metadata": {
  "kernelspec": {
   "display_name": "Python 3 (ipykernel)",
   "language": "python",
   "name": "python3"
  },
  "language_info": {
   "codemirror_mode": {
    "name": "ipython",
    "version": 3
   },
   "file_extension": ".py",
   "mimetype": "text/x-python",
   "name": "python",
   "nbconvert_exporter": "python",
   "pygments_lexer": "ipython3",
   "version": "3.7.13"
  }
 },
 "nbformat": 4,
 "nbformat_minor": 5
}
