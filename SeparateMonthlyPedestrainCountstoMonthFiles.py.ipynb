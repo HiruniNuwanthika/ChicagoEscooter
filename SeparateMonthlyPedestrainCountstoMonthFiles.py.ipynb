{
 "cells": [
  {
   "cell_type": "code",
   "execution_count": 1,
   "id": "20b10a3f",
   "metadata": {},
   "outputs": [],
   "source": [
    "import pandas as pd"
   ]
  },
  {
   "cell_type": "code",
   "execution_count": 2,
   "id": "7b5c2d15",
   "metadata": {},
   "outputs": [],
   "source": [
    "df=pd.read_csv(r'\\\\rmit.internal\\USRHome\\sl0\\s3923410\\Dataset\\Melbourne-Test\\Pedestrian_Counting_System_-_Monthly__counts_per_hour_.csv')"
   ]
  },
  {
   "cell_type": "markdown",
   "id": "48494c0a",
   "metadata": {},
   "source": [
    "read pedestrain counts csv"
   ]
  },
  {
   "cell_type": "code",
   "execution_count": 3,
   "id": "468ff213",
   "metadata": {},
   "outputs": [
    {
     "data": {
      "text/html": [
       "<div>\n",
       "<style scoped>\n",
       "    .dataframe tbody tr th:only-of-type {\n",
       "        vertical-align: middle;\n",
       "    }\n",
       "\n",
       "    .dataframe tbody tr th {\n",
       "        vertical-align: top;\n",
       "    }\n",
       "\n",
       "    .dataframe thead th {\n",
       "        text-align: right;\n",
       "    }\n",
       "</style>\n",
       "<table border=\"1\" class=\"dataframe\">\n",
       "  <thead>\n",
       "    <tr style=\"text-align: right;\">\n",
       "      <th></th>\n",
       "      <th>ID</th>\n",
       "      <th>Date_Time</th>\n",
       "      <th>Year</th>\n",
       "      <th>Month</th>\n",
       "      <th>Mdate</th>\n",
       "      <th>Day</th>\n",
       "      <th>Time</th>\n",
       "      <th>Sensor_ID</th>\n",
       "      <th>Sensor_Name</th>\n",
       "      <th>Hourly_Counts</th>\n",
       "    </tr>\n",
       "  </thead>\n",
       "  <tbody>\n",
       "    <tr>\n",
       "      <th>0</th>\n",
       "      <td>2887628</td>\n",
       "      <td>November 01, 2019 05:00:00 PM</td>\n",
       "      <td>2019</td>\n",
       "      <td>November</td>\n",
       "      <td>1</td>\n",
       "      <td>Friday</td>\n",
       "      <td>17</td>\n",
       "      <td>34</td>\n",
       "      <td>Flinders St-Spark La</td>\n",
       "      <td>300</td>\n",
       "    </tr>\n",
       "    <tr>\n",
       "      <th>1</th>\n",
       "      <td>2887629</td>\n",
       "      <td>November 01, 2019 05:00:00 PM</td>\n",
       "      <td>2019</td>\n",
       "      <td>November</td>\n",
       "      <td>1</td>\n",
       "      <td>Friday</td>\n",
       "      <td>17</td>\n",
       "      <td>39</td>\n",
       "      <td>Alfred Place</td>\n",
       "      <td>604</td>\n",
       "    </tr>\n",
       "    <tr>\n",
       "      <th>2</th>\n",
       "      <td>2887630</td>\n",
       "      <td>November 01, 2019 05:00:00 PM</td>\n",
       "      <td>2019</td>\n",
       "      <td>November</td>\n",
       "      <td>1</td>\n",
       "      <td>Friday</td>\n",
       "      <td>17</td>\n",
       "      <td>37</td>\n",
       "      <td>Lygon St (East)</td>\n",
       "      <td>216</td>\n",
       "    </tr>\n",
       "    <tr>\n",
       "      <th>3</th>\n",
       "      <td>2887631</td>\n",
       "      <td>November 01, 2019 05:00:00 PM</td>\n",
       "      <td>2019</td>\n",
       "      <td>November</td>\n",
       "      <td>1</td>\n",
       "      <td>Friday</td>\n",
       "      <td>17</td>\n",
       "      <td>40</td>\n",
       "      <td>Lonsdale St-Spring St (West)</td>\n",
       "      <td>627</td>\n",
       "    </tr>\n",
       "    <tr>\n",
       "      <th>4</th>\n",
       "      <td>2887632</td>\n",
       "      <td>November 01, 2019 05:00:00 PM</td>\n",
       "      <td>2019</td>\n",
       "      <td>November</td>\n",
       "      <td>1</td>\n",
       "      <td>Friday</td>\n",
       "      <td>17</td>\n",
       "      <td>36</td>\n",
       "      <td>Queen St (West)</td>\n",
       "      <td>774</td>\n",
       "    </tr>\n",
       "  </tbody>\n",
       "</table>\n",
       "</div>"
      ],
      "text/plain": [
       "        ID                      Date_Time  Year     Month  Mdate     Day  \\\n",
       "0  2887628  November 01, 2019 05:00:00 PM  2019  November      1  Friday   \n",
       "1  2887629  November 01, 2019 05:00:00 PM  2019  November      1  Friday   \n",
       "2  2887630  November 01, 2019 05:00:00 PM  2019  November      1  Friday   \n",
       "3  2887631  November 01, 2019 05:00:00 PM  2019  November      1  Friday   \n",
       "4  2887632  November 01, 2019 05:00:00 PM  2019  November      1  Friday   \n",
       "\n",
       "   Time  Sensor_ID                   Sensor_Name  Hourly_Counts  \n",
       "0    17         34          Flinders St-Spark La            300  \n",
       "1    17         39                  Alfred Place            604  \n",
       "2    17         37               Lygon St (East)            216  \n",
       "3    17         40  Lonsdale St-Spring St (West)            627  \n",
       "4    17         36               Queen St (West)            774  "
      ]
     },
     "execution_count": 3,
     "metadata": {},
     "output_type": "execute_result"
    }
   ],
   "source": [
    "df.head()"
   ]
  },
  {
   "cell_type": "code",
   "execution_count": 4,
   "id": "c6c787c8",
   "metadata": {},
   "outputs": [
    {
     "name": "stdout",
     "output_type": "stream",
     "text": [
      "<class 'pandas.core.frame.DataFrame'>\n",
      "RangeIndex: 4367455 entries, 0 to 4367454\n",
      "Data columns (total 10 columns):\n",
      " #   Column         Dtype \n",
      "---  ------         ----- \n",
      " 0   ID             int64 \n",
      " 1   Date_Time      object\n",
      " 2   Year           int64 \n",
      " 3   Month          object\n",
      " 4   Mdate          int64 \n",
      " 5   Day            object\n",
      " 6   Time           int64 \n",
      " 7   Sensor_ID      int64 \n",
      " 8   Sensor_Name    object\n",
      " 9   Hourly_Counts  int64 \n",
      "dtypes: int64(6), object(4)\n",
      "memory usage: 333.2+ MB\n"
     ]
    }
   ],
   "source": [
    "df.info()"
   ]
  },
  {
   "cell_type": "code",
   "execution_count": 8,
   "id": "ee73567a",
   "metadata": {},
   "outputs": [],
   "source": [
    "df_2022=df[df['Year']==2022]"
   ]
  },
  {
   "cell_type": "markdown",
   "id": "99e4841f",
   "metadata": {},
   "source": [
    "select 2022 records"
   ]
  },
  {
   "cell_type": "code",
   "execution_count": 9,
   "id": "7a6624be",
   "metadata": {},
   "outputs": [
    {
     "name": "stdout",
     "output_type": "stream",
     "text": [
      "<class 'pandas.core.frame.DataFrame'>\n",
      "Int64Index: 289662 entries, 112 to 4367454\n",
      "Data columns (total 10 columns):\n",
      " #   Column         Non-Null Count   Dtype \n",
      "---  ------         --------------   ----- \n",
      " 0   ID             289662 non-null  int64 \n",
      " 1   Date_Time      289662 non-null  object\n",
      " 2   Year           289662 non-null  int64 \n",
      " 3   Month          289662 non-null  object\n",
      " 4   Mdate          289662 non-null  int64 \n",
      " 5   Day            289662 non-null  object\n",
      " 6   Time           289662 non-null  int64 \n",
      " 7   Sensor_ID      289662 non-null  int64 \n",
      " 8   Sensor_Name    289662 non-null  object\n",
      " 9   Hourly_Counts  289662 non-null  int64 \n",
      "dtypes: int64(6), object(4)\n",
      "memory usage: 24.3+ MB\n"
     ]
    }
   ],
   "source": [
    "df_2022.info()"
   ]
  },
  {
   "cell_type": "code",
   "execution_count": 20,
   "id": "6d1bfc79",
   "metadata": {},
   "outputs": [],
   "source": [
    "df_2022.to_csv(r'\\\\rmit.internal\\USRHome\\sl0\\s3923410\\Dataset\\Melbourne-Test\\Pedestrian_Counting_System_-_Monthly__counts_per_hour_2022.csv')"
   ]
  },
  {
   "cell_type": "markdown",
   "id": "1d1ea39e",
   "metadata": {},
   "source": [
    "save 2022 pedestrian counts to a csv file"
   ]
  },
  {
   "cell_type": "code",
   "execution_count": 17,
   "id": "0e00c17f",
   "metadata": {},
   "outputs": [],
   "source": [
    "#df_2022['Month'].astype(str)\n",
    "df_2022_Apr=df_2022[df_2022['Month'].astype(str)==\"April\"]"
   ]
  },
  {
   "cell_type": "markdown",
   "id": "c8c96f60",
   "metadata": {},
   "source": [
    "convert month column to string and select only April month records"
   ]
  },
  {
   "cell_type": "code",
   "execution_count": 21,
   "id": "c4f0a553",
   "metadata": {},
   "outputs": [],
   "source": [
    "df_2022_Feb=df_2022[df_2022['Month'].astype(str)==\"February\"]"
   ]
  },
  {
   "cell_type": "code",
   "execution_count": 24,
   "id": "b6c058d6",
   "metadata": {},
   "outputs": [],
   "source": [
    "df_2022_Mar=df_2022[df_2022['Month'].astype(str)==\"March\"]"
   ]
  },
  {
   "cell_type": "code",
   "execution_count": 25,
   "id": "4a78a306",
   "metadata": {},
   "outputs": [],
   "source": [
    "df_2022_May=df_2022[df_2022['Month'].astype(str)==\"May\"]"
   ]
  },
  {
   "cell_type": "code",
   "execution_count": 26,
   "id": "88d4fcfd",
   "metadata": {},
   "outputs": [],
   "source": [
    "df_2022_June=df_2022[df_2022['Month'].astype(str)==\"June\"]"
   ]
  },
  {
   "cell_type": "code",
   "execution_count": 32,
   "id": "739e0109",
   "metadata": {},
   "outputs": [],
   "source": [
    "df_2022_June.to_csv(r'\\\\rmit.internal\\USRHome\\sl0\\s3923410\\Dataset\\Melbourne-Test\\Pedestrian_Counting_System_-_Monthly__counts_per_hour_2022_June.csv')"
   ]
  },
  {
   "cell_type": "markdown",
   "id": "d41eaf05",
   "metadata": {},
   "source": [
    "Save monthly records in separate csv files"
   ]
  },
  {
   "cell_type": "code",
   "execution_count": 19,
   "id": "92478151",
   "metadata": {},
   "outputs": [
    {
     "name": "stdout",
     "output_type": "stream",
     "text": [
      "<class 'pandas.core.frame.DataFrame'>\n",
      "Int64Index: 46850 entries, 112 to 4272414\n",
      "Data columns (total 10 columns):\n",
      " #   Column         Non-Null Count  Dtype \n",
      "---  ------         --------------  ----- \n",
      " 0   ID             46850 non-null  int64 \n",
      " 1   Date_Time      46850 non-null  object\n",
      " 2   Year           46850 non-null  int64 \n",
      " 3   Month          46850 non-null  object\n",
      " 4   Mdate          46850 non-null  int64 \n",
      " 5   Day            46850 non-null  object\n",
      " 6   Time           46850 non-null  int64 \n",
      " 7   Sensor_ID      46850 non-null  int64 \n",
      " 8   Sensor_Name    46850 non-null  object\n",
      " 9   Hourly_Counts  46850 non-null  int64 \n",
      "dtypes: int64(6), object(4)\n",
      "memory usage: 3.9+ MB\n"
     ]
    }
   ],
   "source": [
    "df_2022_Apr.info()"
   ]
  },
  {
   "cell_type": "code",
   "execution_count": 23,
   "id": "8cb106e9",
   "metadata": {},
   "outputs": [
    {
     "name": "stdout",
     "output_type": "stream",
     "text": [
      "<class 'pandas.core.frame.DataFrame'>\n",
      "Int64Index: 46105 entries, 4127093 to 4180163\n",
      "Data columns (total 10 columns):\n",
      " #   Column         Non-Null Count  Dtype \n",
      "---  ------         --------------  ----- \n",
      " 0   ID             46105 non-null  int64 \n",
      " 1   Date_Time      46105 non-null  object\n",
      " 2   Year           46105 non-null  int64 \n",
      " 3   Month          46105 non-null  object\n",
      " 4   Mdate          46105 non-null  int64 \n",
      " 5   Day            46105 non-null  object\n",
      " 6   Time           46105 non-null  int64 \n",
      " 7   Sensor_ID      46105 non-null  int64 \n",
      " 8   Sensor_Name    46105 non-null  object\n",
      " 9   Hourly_Counts  46105 non-null  int64 \n",
      "dtypes: int64(6), object(4)\n",
      "memory usage: 3.9+ MB\n"
     ]
    }
   ],
   "source": [
    "df_2022_Feb.info()"
   ]
  },
  {
   "cell_type": "code",
   "execution_count": null,
   "id": "87ca3797",
   "metadata": {},
   "outputs": [],
   "source": []
  }
 ],
 "metadata": {
  "kernelspec": {
   "display_name": "Python 3",
   "language": "python",
   "name": "python3"
  },
  "language_info": {
   "codemirror_mode": {
    "name": "ipython",
    "version": 3
   },
   "file_extension": ".py",
   "mimetype": "text/x-python",
   "name": "python",
   "nbconvert_exporter": "python",
   "pygments_lexer": "ipython3",
   "version": "3.8.8"
  }
 },
 "nbformat": 4,
 "nbformat_minor": 5
}
