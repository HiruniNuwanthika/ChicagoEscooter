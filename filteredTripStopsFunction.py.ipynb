{
 "cells": [
  {
   "cell_type": "code",
   "execution_count": 1,
   "id": "df0960cd",
   "metadata": {},
   "outputs": [],
   "source": [
    "import pandas as pd"
   ]
  },
  {
   "cell_type": "code",
   "execution_count": 5,
   "id": "1bea663e",
   "metadata": {},
   "outputs": [],
   "source": [
    "def filteredTripStops(day):\n",
    "    for hour in range(0,24): \n",
    "        for fileID in range(1,5):\n",
    "            try:\n",
    "                df= pd.read_csv(r'C:\\Melbourne_Escooter\\RealDataset\\Results\\July\\Stopped\\{}_{}hour_part{}.csv'.format(day,hour,fileID))\n",
    "            except FileNotFoundError:\n",
    "                continue\n",
    "            Column_num=len(df.columns)\n",
    "            value_df = df.iloc[:, 1:Column_num]\n",
    "            new_list=[]\n",
    "\n",
    "            for i in range((len(df)-1),-1,-1):\n",
    "                row=value_df.loc[i]\n",
    "                new_row=row[row.isnull().shift(3).fillna(False)]\n",
    "                new_list.append(new_row)\n",
    "\n",
    "            new_df= pd.DataFrame()\n",
    "            for item in  new_list:\n",
    "                new_df =  new_df.append(item, ignore_index=True)\n",
    "\n",
    "            first_column= df.iloc[:, 0]\n",
    "            rvs_first_column =first_column[::-1].reset_index(drop=True)\n",
    "            df_all_cols = pd.concat([rvs_first_column,new_df], axis = 1)\n",
    "            df_all_cols.to_csv(r'C:\\Melbourne_Escooter\\RealDataset\\Results\\July\\Stopped\\Filtered_stops\\{}_{}hour_part{}.csv'.format(day,hour,fileID),index=False)"
   ]
  },
  {
   "cell_type": "code",
   "execution_count": null,
   "id": "25ef7d40",
   "metadata": {},
   "outputs": [],
   "source": [
    "filteredTripStops(29)"
   ]
  },
  {
   "cell_type": "code",
   "execution_count": null,
   "id": "f9824bf2",
   "metadata": {},
   "outputs": [],
   "source": []
  }
 ],
 "metadata": {
  "kernelspec": {
   "display_name": "Python 3 (ipykernel)",
   "language": "python",
   "name": "python3"
  },
  "language_info": {
   "codemirror_mode": {
    "name": "ipython",
    "version": 3
   },
   "file_extension": ".py",
   "mimetype": "text/x-python",
   "name": "python",
   "nbconvert_exporter": "python",
   "pygments_lexer": "ipython3",
   "version": "3.7.13"
  }
 },
 "nbformat": 4,
 "nbformat_minor": 5
}
