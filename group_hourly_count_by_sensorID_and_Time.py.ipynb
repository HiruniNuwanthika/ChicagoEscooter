{
 "cells": [
  {
   "cell_type": "code",
   "execution_count": 1,
   "id": "49550655",
   "metadata": {},
   "outputs": [],
   "source": [
    "import pandas as pd"
   ]
  },
  {
   "cell_type": "code",
   "execution_count": 2,
   "id": "b7b775df",
   "metadata": {},
   "outputs": [],
   "source": [
    "df_Feb=pd.read_csv(r'\\\\rmit.internal\\USRHome\\sl0\\s3923410\\Dataset\\Melbourne-Test\\Pedestrian_Counting_System_-_Monthly__counts_per_hour_2022_Feb.csv')"
   ]
  },
  {
   "cell_type": "markdown",
   "id": "209e9b32",
   "metadata": {},
   "source": [
    "Read feb pedestrian count file"
   ]
  },
  {
   "cell_type": "code",
   "execution_count": 12,
   "id": "9be49b9c",
   "metadata": {},
   "outputs": [
    {
     "data": {
      "text/html": [
       "<div>\n",
       "<style scoped>\n",
       "    .dataframe tbody tr th:only-of-type {\n",
       "        vertical-align: middle;\n",
       "    }\n",
       "\n",
       "    .dataframe tbody tr th {\n",
       "        vertical-align: top;\n",
       "    }\n",
       "\n",
       "    .dataframe thead th {\n",
       "        text-align: right;\n",
       "    }\n",
       "</style>\n",
       "<table border=\"1\" class=\"dataframe\">\n",
       "  <thead>\n",
       "    <tr style=\"text-align: right;\">\n",
       "      <th></th>\n",
       "      <th>Unnamed: 0</th>\n",
       "      <th>ID</th>\n",
       "      <th>Date_Time</th>\n",
       "      <th>Year</th>\n",
       "      <th>Month</th>\n",
       "      <th>Mdate</th>\n",
       "      <th>Day</th>\n",
       "      <th>Time</th>\n",
       "      <th>Sensor_ID</th>\n",
       "      <th>Sensor_Name</th>\n",
       "      <th>Hourly_Counts</th>\n",
       "    </tr>\n",
       "  </thead>\n",
       "  <tbody>\n",
       "    <tr>\n",
       "      <th>0</th>\n",
       "      <td>4127093</td>\n",
       "      <td>4144486</td>\n",
       "      <td>February 07, 2022 09:00:00 PM</td>\n",
       "      <td>2022</td>\n",
       "      <td>February</td>\n",
       "      <td>7</td>\n",
       "      <td>Monday</td>\n",
       "      <td>21</td>\n",
       "      <td>10</td>\n",
       "      <td>Victoria Point</td>\n",
       "      <td>63</td>\n",
       "    </tr>\n",
       "    <tr>\n",
       "      <th>1</th>\n",
       "      <td>4127307</td>\n",
       "      <td>4144487</td>\n",
       "      <td>February 07, 2022 10:00:00 PM</td>\n",
       "      <td>2022</td>\n",
       "      <td>February</td>\n",
       "      <td>7</td>\n",
       "      <td>Monday</td>\n",
       "      <td>22</td>\n",
       "      <td>10</td>\n",
       "      <td>Victoria Point</td>\n",
       "      <td>21</td>\n",
       "    </tr>\n",
       "    <tr>\n",
       "      <th>2</th>\n",
       "      <td>4127575</td>\n",
       "      <td>4144488</td>\n",
       "      <td>February 07, 2022 11:00:00 PM</td>\n",
       "      <td>2022</td>\n",
       "      <td>February</td>\n",
       "      <td>7</td>\n",
       "      <td>Monday</td>\n",
       "      <td>23</td>\n",
       "      <td>10</td>\n",
       "      <td>Victoria Point</td>\n",
       "      <td>10</td>\n",
       "    </tr>\n",
       "    <tr>\n",
       "      <th>3</th>\n",
       "      <td>4128383</td>\n",
       "      <td>4144489</td>\n",
       "      <td>February 08, 2022 12:00:00 AM</td>\n",
       "      <td>2022</td>\n",
       "      <td>February</td>\n",
       "      <td>8</td>\n",
       "      <td>Tuesday</td>\n",
       "      <td>0</td>\n",
       "      <td>10</td>\n",
       "      <td>Victoria Point</td>\n",
       "      <td>3</td>\n",
       "    </tr>\n",
       "    <tr>\n",
       "      <th>4</th>\n",
       "      <td>4128869</td>\n",
       "      <td>4144786</td>\n",
       "      <td>February 20, 2022 09:00:00 AM</td>\n",
       "      <td>2022</td>\n",
       "      <td>February</td>\n",
       "      <td>20</td>\n",
       "      <td>Sunday</td>\n",
       "      <td>9</td>\n",
       "      <td>10</td>\n",
       "      <td>Victoria Point</td>\n",
       "      <td>67</td>\n",
       "    </tr>\n",
       "  </tbody>\n",
       "</table>\n",
       "</div>"
      ],
      "text/plain": [
       "   Unnamed: 0       ID                      Date_Time  Year     Month  Mdate  \\\n",
       "0     4127093  4144486  February 07, 2022 09:00:00 PM  2022  February      7   \n",
       "1     4127307  4144487  February 07, 2022 10:00:00 PM  2022  February      7   \n",
       "2     4127575  4144488  February 07, 2022 11:00:00 PM  2022  February      7   \n",
       "3     4128383  4144489  February 08, 2022 12:00:00 AM  2022  February      8   \n",
       "4     4128869  4144786  February 20, 2022 09:00:00 AM  2022  February     20   \n",
       "\n",
       "       Day  Time  Sensor_ID     Sensor_Name  Hourly_Counts  \n",
       "0   Monday    21         10  Victoria Point             63  \n",
       "1   Monday    22         10  Victoria Point             21  \n",
       "2   Monday    23         10  Victoria Point             10  \n",
       "3  Tuesday     0         10  Victoria Point              3  \n",
       "4   Sunday     9         10  Victoria Point             67  "
      ]
     },
     "execution_count": 12,
     "metadata": {},
     "output_type": "execute_result"
    }
   ],
   "source": [
    "df_Feb.head()"
   ]
  },
  {
   "cell_type": "code",
   "execution_count": 13,
   "id": "3fa5f750",
   "metadata": {},
   "outputs": [
    {
     "name": "stdout",
     "output_type": "stream",
     "text": [
      "<class 'pandas.core.frame.DataFrame'>\n",
      "RangeIndex: 46105 entries, 0 to 46104\n",
      "Data columns (total 11 columns):\n",
      " #   Column         Non-Null Count  Dtype \n",
      "---  ------         --------------  ----- \n",
      " 0   Unnamed: 0     46105 non-null  int64 \n",
      " 1   ID             46105 non-null  int64 \n",
      " 2   Date_Time      46105 non-null  object\n",
      " 3   Year           46105 non-null  int64 \n",
      " 4   Month          46105 non-null  object\n",
      " 5   Mdate          46105 non-null  int64 \n",
      " 6   Day            46105 non-null  object\n",
      " 7   Time           46105 non-null  int64 \n",
      " 8   Sensor_ID      46105 non-null  int64 \n",
      " 9   Sensor_Name    46105 non-null  object\n",
      " 10  Hourly_Counts  46105 non-null  int64 \n",
      "dtypes: int64(7), object(4)\n",
      "memory usage: 3.9+ MB\n"
     ]
    }
   ],
   "source": [
    "df_Feb.info()"
   ]
  },
  {
   "cell_type": "code",
   "execution_count": null,
   "id": "338742d1",
   "metadata": {},
   "outputs": [],
   "source": []
  },
  {
   "cell_type": "code",
   "execution_count": null,
   "id": "63ab79c2",
   "metadata": {},
   "outputs": [],
   "source": []
  },
  {
   "cell_type": "code",
   "execution_count": null,
   "id": "9fc05921",
   "metadata": {},
   "outputs": [],
   "source": []
  },
  {
   "cell_type": "code",
   "execution_count": null,
   "id": "8f0b90cd",
   "metadata": {},
   "outputs": [],
   "source": []
  },
  {
   "cell_type": "code",
   "execution_count": 16,
   "id": "63e6877b",
   "metadata": {},
   "outputs": [],
   "source": [
    "groupd= df_Feb.groupby(df_Feb['Sensor_ID'])"
   ]
  },
  {
   "cell_type": "markdown",
   "id": "4c722703",
   "metadata": {},
   "source": [
    "group the records based on sensor ID. resulted groups contain records of each sensor from 1st FEB to 28th FEB"
   ]
  },
  {
   "cell_type": "code",
   "execution_count": 28,
   "id": "957676ca",
   "metadata": {},
   "outputs": [],
   "source": [
    "for sensor_id,group in groupd:\n",
    "    group.to_csv(r'\\\\rmit.internal\\USRHome\\sl0\\s3923410\\Dataset\\Melbourne-Test\\PedestrianCount-MonthWise\\Feb\\Pedestrian_Counting_System_-_Monthly__counts_per_hour_2022_Feb_SensorID{}.csv'.format(sensor_id), index=False)\n",
    "    "
   ]
  },
  {
   "cell_type": "markdown",
   "id": "4a5142b5",
   "metadata": {},
   "source": [
    "save each sensor ID grouped records separately"
   ]
  },
  {
   "cell_type": "code",
   "execution_count": 29,
   "id": "2c625c44",
   "metadata": {},
   "outputs": [],
   "source": [
    "df_sensor1=pd.read_csv(r'\\\\rmit.internal\\USRHome\\sl0\\s3923410\\Dataset\\Melbourne-Test\\PedestrianCount-MonthWise\\Feb\\Pedestrian_Counting_System_-_Monthly__counts_per_hour_2022_Feb_SensorID1.csv')"
   ]
  },
  {
   "cell_type": "markdown",
   "id": "b6e1a2b7",
   "metadata": {},
   "source": [
    "Read sensor1 csv file"
   ]
  },
  {
   "cell_type": "code",
   "execution_count": 30,
   "id": "13e4020a",
   "metadata": {},
   "outputs": [
    {
     "data": {
      "text/html": [
       "<div>\n",
       "<style scoped>\n",
       "    .dataframe tbody tr th:only-of-type {\n",
       "        vertical-align: middle;\n",
       "    }\n",
       "\n",
       "    .dataframe tbody tr th {\n",
       "        vertical-align: top;\n",
       "    }\n",
       "\n",
       "    .dataframe thead th {\n",
       "        text-align: right;\n",
       "    }\n",
       "</style>\n",
       "<table border=\"1\" class=\"dataframe\">\n",
       "  <thead>\n",
       "    <tr style=\"text-align: right;\">\n",
       "      <th></th>\n",
       "      <th>Unnamed: 0</th>\n",
       "      <th>ID</th>\n",
       "      <th>Date_Time</th>\n",
       "      <th>Year</th>\n",
       "      <th>Month</th>\n",
       "      <th>Mdate</th>\n",
       "      <th>Day</th>\n",
       "      <th>Time</th>\n",
       "      <th>Sensor_ID</th>\n",
       "      <th>Sensor_Name</th>\n",
       "      <th>Hourly_Counts</th>\n",
       "    </tr>\n",
       "  </thead>\n",
       "  <tbody>\n",
       "    <tr>\n",
       "      <th>0</th>\n",
       "      <td>4138091</td>\n",
       "      <td>4139617</td>\n",
       "      <td>February 01, 2022 12:00:00 AM</td>\n",
       "      <td>2022</td>\n",
       "      <td>February</td>\n",
       "      <td>1</td>\n",
       "      <td>Tuesday</td>\n",
       "      <td>0</td>\n",
       "      <td>1</td>\n",
       "      <td>Bourke Street Mall (North)</td>\n",
       "      <td>60</td>\n",
       "    </tr>\n",
       "    <tr>\n",
       "      <th>1</th>\n",
       "      <td>4138092</td>\n",
       "      <td>4139618</td>\n",
       "      <td>February 01, 2022 01:00:00 AM</td>\n",
       "      <td>2022</td>\n",
       "      <td>February</td>\n",
       "      <td>1</td>\n",
       "      <td>Tuesday</td>\n",
       "      <td>1</td>\n",
       "      <td>1</td>\n",
       "      <td>Bourke Street Mall (North)</td>\n",
       "      <td>21</td>\n",
       "    </tr>\n",
       "    <tr>\n",
       "      <th>2</th>\n",
       "      <td>4138093</td>\n",
       "      <td>4139619</td>\n",
       "      <td>February 01, 2022 02:00:00 AM</td>\n",
       "      <td>2022</td>\n",
       "      <td>February</td>\n",
       "      <td>1</td>\n",
       "      <td>Tuesday</td>\n",
       "      <td>2</td>\n",
       "      <td>1</td>\n",
       "      <td>Bourke Street Mall (North)</td>\n",
       "      <td>44</td>\n",
       "    </tr>\n",
       "    <tr>\n",
       "      <th>3</th>\n",
       "      <td>4138094</td>\n",
       "      <td>4139620</td>\n",
       "      <td>February 01, 2022 03:00:00 AM</td>\n",
       "      <td>2022</td>\n",
       "      <td>February</td>\n",
       "      <td>1</td>\n",
       "      <td>Tuesday</td>\n",
       "      <td>3</td>\n",
       "      <td>1</td>\n",
       "      <td>Bourke Street Mall (North)</td>\n",
       "      <td>13</td>\n",
       "    </tr>\n",
       "    <tr>\n",
       "      <th>4</th>\n",
       "      <td>4138095</td>\n",
       "      <td>4139621</td>\n",
       "      <td>February 01, 2022 04:00:00 AM</td>\n",
       "      <td>2022</td>\n",
       "      <td>February</td>\n",
       "      <td>1</td>\n",
       "      <td>Tuesday</td>\n",
       "      <td>4</td>\n",
       "      <td>1</td>\n",
       "      <td>Bourke Street Mall (North)</td>\n",
       "      <td>12</td>\n",
       "    </tr>\n",
       "  </tbody>\n",
       "</table>\n",
       "</div>"
      ],
      "text/plain": [
       "   Unnamed: 0       ID                      Date_Time  Year     Month  Mdate  \\\n",
       "0     4138091  4139617  February 01, 2022 12:00:00 AM  2022  February      1   \n",
       "1     4138092  4139618  February 01, 2022 01:00:00 AM  2022  February      1   \n",
       "2     4138093  4139619  February 01, 2022 02:00:00 AM  2022  February      1   \n",
       "3     4138094  4139620  February 01, 2022 03:00:00 AM  2022  February      1   \n",
       "4     4138095  4139621  February 01, 2022 04:00:00 AM  2022  February      1   \n",
       "\n",
       "       Day  Time  Sensor_ID                 Sensor_Name  Hourly_Counts  \n",
       "0  Tuesday     0          1  Bourke Street Mall (North)             60  \n",
       "1  Tuesday     1          1  Bourke Street Mall (North)             21  \n",
       "2  Tuesday     2          1  Bourke Street Mall (North)             44  \n",
       "3  Tuesday     3          1  Bourke Street Mall (North)             13  \n",
       "4  Tuesday     4          1  Bourke Street Mall (North)             12  "
      ]
     },
     "execution_count": 30,
     "metadata": {},
     "output_type": "execute_result"
    }
   ],
   "source": [
    "df_sensor1.head()"
   ]
  },
  {
   "cell_type": "code",
   "execution_count": 31,
   "id": "81bd13fd",
   "metadata": {},
   "outputs": [
    {
     "name": "stdout",
     "output_type": "stream",
     "text": [
      "<class 'pandas.core.frame.DataFrame'>\n",
      "RangeIndex: 672 entries, 0 to 671\n",
      "Data columns (total 11 columns):\n",
      " #   Column         Non-Null Count  Dtype \n",
      "---  ------         --------------  ----- \n",
      " 0   Unnamed: 0     672 non-null    int64 \n",
      " 1   ID             672 non-null    int64 \n",
      " 2   Date_Time      672 non-null    object\n",
      " 3   Year           672 non-null    int64 \n",
      " 4   Month          672 non-null    object\n",
      " 5   Mdate          672 non-null    int64 \n",
      " 6   Day            672 non-null    object\n",
      " 7   Time           672 non-null    int64 \n",
      " 8   Sensor_ID      672 non-null    int64 \n",
      " 9   Sensor_Name    672 non-null    object\n",
      " 10  Hourly_Counts  672 non-null    int64 \n",
      "dtypes: int64(7), object(4)\n",
      "memory usage: 57.9+ KB\n"
     ]
    }
   ],
   "source": [
    "df_sensor1.info()"
   ]
  },
  {
   "cell_type": "code",
   "execution_count": 33,
   "id": "bd564940",
   "metadata": {},
   "outputs": [],
   "source": [
    "Avg_count_group_by_time=df_sensor1.groupby(['Time'])['Hourly_Counts'].mean()"
   ]
  },
  {
   "cell_type": "markdown",
   "id": "aeb52c76",
   "metadata": {},
   "source": [
    "group records by time (hours: 0-23) and then take average hourly_count."
   ]
  },
  {
   "cell_type": "code",
   "execution_count": 35,
   "id": "9f408bf9",
   "metadata": {},
   "outputs": [],
   "source": [
    "Avg_count_group_by_time.to_csv(r'\\\\rmit.internal\\USRHome\\sl0\\s3923410\\Dataset\\Melbourne-Test\\PedestrianCount-MonthWise\\Feb\\SensorID1_hourly_average_count.csv')"
   ]
  },
  {
   "cell_type": "markdown",
   "id": "099bdccc",
   "metadata": {},
   "source": [
    "Save file and plot"
   ]
  },
  {
   "cell_type": "code",
   "execution_count": null,
   "id": "50275d28",
   "metadata": {},
   "outputs": [],
   "source": []
  }
 ],
 "metadata": {
  "kernelspec": {
   "display_name": "Python 3",
   "language": "python",
   "name": "python3"
  },
  "language_info": {
   "codemirror_mode": {
    "name": "ipython",
    "version": 3
   },
   "file_extension": ".py",
   "mimetype": "text/x-python",
   "name": "python",
   "nbconvert_exporter": "python",
   "pygments_lexer": "ipython3",
   "version": "3.8.8"
  }
 },
 "nbformat": 4,
 "nbformat_minor": 5
}
