{
 "cells": [
  {
   "cell_type": "code",
   "execution_count": 2,
   "id": "a2722f69",
   "metadata": {},
   "outputs": [],
   "source": [
    "from geopy.geocoders import Nominatim\n",
    "import pandas as pd"
   ]
  },
  {
   "cell_type": "code",
   "execution_count": 3,
   "id": "f084c98a",
   "metadata": {},
   "outputs": [],
   "source": [
    "def addSuburbDaily(day):\n",
    "    for part in range (1,3):\n",
    "        df=pd.read_csv(r'C:\\Melbourne_Escooter\\RealDataset\\FinalResults\\SuburbWise\\August\\stop\\{}day_m{}.csv'.format(day,part))\n",
    "        suburb_list=[]\n",
    "        geolocator = Nominatim(user_agent=\"geoApp\")\n",
    "        for i,row in df.iterrows():\n",
    "            lat=row['latitude']\n",
    "            lon=row['longitude']\n",
    "            location = geolocator.reverse(str(lat)+\",\"+str(lon))\n",
    "            address = location.raw['address']\n",
    "            suburb=address['suburb']\n",
    "            suburb_list.append(suburb)\n",
    "        df_suburb=pd.DataFrame(suburb_list)\n",
    "        df_all=pd.concat([df,df_suburb], axis=1)\n",
    "        df_all.columns=['index','bike_id', 'latitude','longitude','range','datetime','suburb']\n",
    "        df_all.to_csv(r'C:\\Melbourne_Escooter\\RealDataset\\FinalResults\\SuburbWise\\August\\stop\\{}day_m{}WithSuburb.csv'.format(day,part), index=False)\n",
    "        ## df 2\n",
    "        df2=pd.read_csv(r'C:\\Melbourne_Escooter\\RealDataset\\FinalResults\\SuburbWise\\August\\stop\\{}day_e{}.csv'.format(day,part))\n",
    "        suburb_list2=[]\n",
    "        geolocator = Nominatim(user_agent=\"geoApp\")\n",
    "        for i,row in df2.iterrows():\n",
    "            lat=row['latitude']\n",
    "            lon=row['longitude']\n",
    "            location = geolocator.reverse(str(lat)+\",\"+str(lon))\n",
    "            address = location.raw['address']\n",
    "            suburb=address['suburb']\n",
    "            suburb_list2.append(suburb)\n",
    "        df_suburb2=pd.DataFrame(suburb_list2)\n",
    "        df_all2=pd.concat([df2,df_suburb2], axis=1)\n",
    "        df_all2.columns=['index','bike_id', 'latitude','longitude','range','datetime','suburb']\n",
    "        df_all2.to_csv(r'C:\\Melbourne_Escooter\\RealDataset\\FinalResults\\SuburbWise\\August\\stop\\{}day_e{}WithSuburb.csv'.format(day,part), index=False)\n",
    "        ## df 3\n",
    "        df3=pd.read_csv(r'C:\\Melbourne_Escooter\\RealDataset\\FinalResults\\SuburbWise\\August\\stop\\{}day_n{}.csv'.format(day,part))\n",
    "        suburb_list3=[]\n",
    "        geolocator = Nominatim(user_agent=\"geoApp\")\n",
    "        for i,row in df3.iterrows():\n",
    "            lat=row['latitude']\n",
    "            lon=row['longitude']\n",
    "            location = geolocator.reverse(str(lat)+\",\"+str(lon))\n",
    "            address = location.raw['address']\n",
    "            suburb=address['suburb']\n",
    "            suburb_list3.append(suburb)\n",
    "        df_suburb3=pd.DataFrame(suburb_list3)\n",
    "        df_all3=pd.concat([df3,df_suburb3], axis=1)\n",
    "        df_all3.columns=['index','bike_id', 'latitude','longitude','range','datetime','suburb']\n",
    "        df_all3.to_csv(r'C:\\Melbourne_Escooter\\RealDataset\\FinalResults\\SuburbWise\\August\\stop\\{}day_n{}WithSuburb.csv'.format(day,part), index=False)"
   ]
  },
  {
   "cell_type": "code",
   "execution_count": 5,
   "id": "d6d59d49",
   "metadata": {},
   "outputs": [],
   "source": [
    "addSuburbDaily(7)"
   ]
  },
  {
   "cell_type": "code",
   "execution_count": null,
   "id": "93118d99",
   "metadata": {},
   "outputs": [],
   "source": []
  }
 ],
 "metadata": {
  "kernelspec": {
   "display_name": "geo_env",
   "language": "python",
   "name": "geo_env"
  },
  "language_info": {
   "codemirror_mode": {
    "name": "ipython",
    "version": 3
   },
   "file_extension": ".py",
   "mimetype": "text/x-python",
   "name": "python",
   "nbconvert_exporter": "python",
   "pygments_lexer": "ipython3",
   "version": "3.10.5"
  }
 },
 "nbformat": 4,
 "nbformat_minor": 5
}
