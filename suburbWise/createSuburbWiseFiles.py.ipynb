{
 "cells": [
  {
   "cell_type": "code",
   "execution_count": 1,
   "id": "04dbcbf9",
   "metadata": {},
   "outputs": [],
   "source": [
    "import pandas as pd"
   ]
  },
  {
   "cell_type": "code",
   "execution_count": 2,
   "id": "907868fe",
   "metadata": {},
   "outputs": [],
   "source": [
    "df=pd.read_csv(r'C:\\Melbourne_Escooter\\RealDataset\\FinalResults\\SuburbWise\\August\\start\\1day_e1WithSuburb.csv')"
   ]
  },
  {
   "cell_type": "code",
   "execution_count": 3,
   "id": "5e1e6614",
   "metadata": {},
   "outputs": [
    {
     "data": {
      "text/plain": [
       "array(['Melbourne', 'Southbank', 'North Melbourne', 'Port Melbourne',\n",
       "       'St Kilda', 'Balaclava', 'Fitzroy North', 'East Melbourne',\n",
       "       'Docklands', 'South Wharf', 'Burnley', 'Fitzroy', 'Brunswick',\n",
       "       'Carlton', 'Richmond', 'Carlton North', 'West Melbourne',\n",
       "       'Collingwood', 'Clifton Hill', 'Abbotsford', 'St Kilda East',\n",
       "       'South Melbourne', 'Brunswick East', 'Fairfield', 'Parkville',\n",
       "       'Elwood', 'South Yarra', 'Prahran', 'Albert Park', 'Cremorne',\n",
       "       'Kensington', 'St Kilda West', 'Princes Hill'], dtype=object)"
      ]
     },
     "execution_count": 3,
     "metadata": {},
     "output_type": "execute_result"
    }
   ],
   "source": [
    "unique_values=df['suburb'].unique()\n",
    "unique_values"
   ]
  },
  {
   "cell_type": "code",
   "execution_count": 4,
   "id": "12108f00",
   "metadata": {},
   "outputs": [],
   "source": [
    "source_file=r'C:\\Melbourne_Escooter\\RealDataset\\FinalResults\\SuburbWise\\August\\start\\1day_e1WithSuburb.csv'\n",
    "df=pd.read_csv(source_file)\n",
    "target_file_remove=f\"{source_file.split('start')[1]}\"\n",
    "unique_values=df['suburb'].unique()\n",
    "for label in unique_values:\n",
    "    target_file =f\"{source_file.replace(target_file_remove, '')}\\day1\\e1\\{label}.csv\"\n",
    "    #target_file =f\"{source_file.replace('.csv', '')}_{label}.csv\"\n",
    "    df_label = df[df['suburb'] == label]\n",
    "    df_label.to_csv(target_file, index=False, header=True, mode='a')"
   ]
  },
  {
   "cell_type": "code",
   "execution_count": 14,
   "id": "00b03314",
   "metadata": {},
   "outputs": [],
   "source": [
    "def createSuburubwiseStartFiles(day,part):\n",
    "    source_file=r'C:\\Melbourne_Escooter\\RealDataset\\FinalResults\\SuburbWise\\August\\start\\{}day_{}WithSuburb.csv'.format(day,part)\n",
    "    df=pd.read_csv(source_file)\n",
    "    target_file_remove=f\"{source_file.split('start')[1]}\"\n",
    "    unique_values=df['suburb'].unique()\n",
    "    for label in unique_values:\n",
    "        target_file =f\"{source_file.replace(target_file_remove, '')}\\day{day}\\{part}\\{label}.csv\"\n",
    "        #target_file =f\"{source_file.replace('.csv', '')}_{label}.csv\"\n",
    "        df_label = df[df['suburb'] == label]\n",
    "        df_label.to_csv(target_file, index=False, header=True, mode='a')"
   ]
  },
  {
   "cell_type": "code",
   "execution_count": 17,
   "id": "77d1b3ad",
   "metadata": {},
   "outputs": [],
   "source": [
    "part_list=['m1','m2','e1','e2','n1','n2']\n",
    "for part in part_list:\n",
    "    createSuburubwiseStartFiles(7,part)"
   ]
  },
  {
   "cell_type": "code",
   "execution_count": 2,
   "id": "bf7363e5",
   "metadata": {},
   "outputs": [],
   "source": [
    "def createSuburubwiseStopFiles(day,part):\n",
    "    source_file=r'C:\\Melbourne_Escooter\\RealDataset\\FinalResults\\SuburbWise\\August\\stop\\{}day_{}WithSuburb.csv'.format(day,part)\n",
    "    df=pd.read_csv(source_file)\n",
    "    target_file_remove=f\"{source_file.split('stop')[1]}\"\n",
    "    unique_values=df['suburb'].unique()\n",
    "    for label in unique_values:\n",
    "        target_file =f\"{source_file.replace(target_file_remove, '')}\\day{day}\\{part}\\{label}.csv\"\n",
    "        #target_file =f\"{source_file.replace('.csv', '')}_{label}.csv\"\n",
    "        df_label = df[df['suburb'] == label]\n",
    "        df_label.to_csv(target_file, index=False, header=True, mode='a')"
   ]
  },
  {
   "cell_type": "code",
   "execution_count": 6,
   "id": "b0f3ed64",
   "metadata": {},
   "outputs": [],
   "source": [
    "part_list=['m1','m2','e1','e2','n1','n2']\n",
    "for part in part_list:\n",
    "    createSuburubwiseStopFiles(7,part)"
   ]
  },
  {
   "cell_type": "code",
   "execution_count": null,
   "id": "5c71bb4d",
   "metadata": {},
   "outputs": [],
   "source": []
  }
 ],
 "metadata": {
  "kernelspec": {
   "display_name": "geo_env",
   "language": "python",
   "name": "geo_env"
  },
  "language_info": {
   "codemirror_mode": {
    "name": "ipython",
    "version": 3
   },
   "file_extension": ".py",
   "mimetype": "text/x-python",
   "name": "python",
   "nbconvert_exporter": "python",
   "pygments_lexer": "ipython3",
   "version": "3.10.5"
  }
 },
 "nbformat": 4,
 "nbformat_minor": 5
}
