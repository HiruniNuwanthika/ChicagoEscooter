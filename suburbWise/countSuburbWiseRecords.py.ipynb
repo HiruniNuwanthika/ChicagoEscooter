{
 "cells": [
  {
   "cell_type": "code",
   "execution_count": 1,
   "id": "f32e169a",
   "metadata": {},
   "outputs": [],
   "source": [
    "import pandas as pd\n",
    "import os\n",
    "import glob"
   ]
  },
  {
   "cell_type": "code",
   "execution_count": 20,
   "id": "630eb5e3",
   "metadata": {},
   "outputs": [],
   "source": [
    "path =\"C:\\Melbourne_Escooter\\RealDataset\\FinalResults\\SuburbWise\\August\\start\\day1\\e1\"\n",
    "csv_files = glob.glob(os.path.join(path, \"*.csv\"))"
   ]
  },
  {
   "cell_type": "code",
   "execution_count": 33,
   "id": "45e0361d",
   "metadata": {},
   "outputs": [
    {
     "name": "stdout",
     "output_type": "stream",
     "text": [
      "['Abbotsford'] -> 8\n"
     ]
    }
   ],
   "source": [
    "df=pd.read_csv(r'C:\\Melbourne_Escooter\\RealDataset\\FinalResults\\SuburbWise\\August\\start\\day1\\e1\\Abbotsford.csv')\n",
    "#suburb=df['suburb'].unique()\n",
    "count=df['bike_id'].count()\n",
    "#print(count)\n",
    "print(str(suburb)+\" -> \"+str(count))"
   ]
  },
  {
   "cell_type": "code",
   "execution_count": 36,
   "id": "7f7c77f2",
   "metadata": {},
   "outputs": [],
   "source": [
    "suburb_list=[]\n",
    "count_list=[]\n",
    "for file in csv_files:\n",
    "    df = pd.read_csv(file)\n",
    "    suburb=df['suburb'].unique()\n",
    "    count=df['bike_id'].count()\n",
    "    suburb_list.append(suburb)\n",
    "    count_list.append(count)\n",
    "df_suburb=pd.DataFrame(suburb_list)\n",
    "df_count=pd.DataFrame(count_list)"
   ]
  },
  {
   "cell_type": "code",
   "execution_count": 47,
   "id": "e2605fa3",
   "metadata": {},
   "outputs": [],
   "source": [
    "df_all=pd.concat([df_suburb,df_count],axis=1)\n",
    "df_all.columns=['suburb','count']"
   ]
  },
  {
   "cell_type": "code",
   "execution_count": 48,
   "id": "27d75328",
   "metadata": {
    "scrolled": true
   },
   "outputs": [],
   "source": [
    "df_all.to_csv(r'C:\\Melbourne_Escooter\\RealDataset\\FinalResults\\SuburbWise\\August\\start\\day1\\e1\\__suburbWiseCount.csv',index=False)"
   ]
  },
  {
   "cell_type": "code",
   "execution_count": 2,
   "id": "ec612e8a",
   "metadata": {},
   "outputs": [],
   "source": [
    "def countSuburbwise(day,file_name):\n",
    "    path =f\"C:\\Melbourne_Escooter\\RealDataset\\FinalResults\\SuburbWise\\August\\stop\\day{day}\\{file_name}\"\n",
    "    csv_files = glob.glob(os.path.join(path, \"*.csv\"))\n",
    "    suburb_list=[]\n",
    "    count_list=[]\n",
    "    for file in csv_files:\n",
    "        df = pd.read_csv(file)\n",
    "        suburb=df['suburb'].unique()\n",
    "        count=df['bike_id'].count()\n",
    "        suburb_list.append(suburb)\n",
    "        count_list.append(count)\n",
    "    df_suburb=pd.DataFrame(suburb_list)\n",
    "    df_count=pd.DataFrame(count_list)\n",
    "    df_all=pd.concat([df_suburb,df_count],axis=1)\n",
    "    df_all.columns=['suburb','count']\n",
    "    df_all.to_csv(r'C:\\Melbourne_Escooter\\RealDataset\\FinalResults\\SuburbWise\\August\\stop\\day{}\\{}\\__suburbWiseCount.csv'.format(day,file_name),index=False)\n",
    "        "
   ]
  },
  {
   "cell_type": "code",
   "execution_count": 6,
   "id": "d6a29201",
   "metadata": {},
   "outputs": [],
   "source": [
    "part_list=['m1','m2','e1','e2','n1','n2']\n",
    "for part in part_list:\n",
    "    countSuburbwise(7,part)\n"
   ]
  },
  {
   "cell_type": "code",
   "execution_count": null,
   "id": "deedaa94",
   "metadata": {},
   "outputs": [],
   "source": []
  }
 ],
 "metadata": {
  "kernelspec": {
   "display_name": "Python 3 (ipykernel)",
   "language": "python",
   "name": "python3"
  },
  "language_info": {
   "codemirror_mode": {
    "name": "ipython",
    "version": 3
   },
   "file_extension": ".py",
   "mimetype": "text/x-python",
   "name": "python",
   "nbconvert_exporter": "python",
   "pygments_lexer": "ipython3",
   "version": "3.7.13"
  }
 },
 "nbformat": 4,
 "nbformat_minor": 5
}
