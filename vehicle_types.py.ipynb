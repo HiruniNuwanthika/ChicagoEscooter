{
 "cells": [
  {
   "cell_type": "code",
   "execution_count": 1,
   "id": "99404766",
   "metadata": {},
   "outputs": [],
   "source": [
    "import pandas as pd\n",
    "df = pd.read_json(r'\\\\rmit.internal\\USRHome\\sl0\\s3923410\\Melbourne\\vehicle_types.json')"
   ]
  },
  {
   "cell_type": "code",
   "execution_count": 5,
   "id": "113f140d",
   "metadata": {},
   "outputs": [
    {
     "data": {
      "text/plain": [
       "{'vehicle_type_id': '1',\n",
       " 'form_factor': 'scooter',\n",
       " 'propulsion_type': 'electric',\n",
       " 'max_range_meters': 24140}"
      ]
     },
     "execution_count": 5,
     "metadata": {},
     "output_type": "execute_result"
    }
   ],
   "source": [
    "df['data']['vehicle_types'][0]"
   ]
  },
  {
   "cell_type": "code",
   "execution_count": 16,
   "id": "eeda496a",
   "metadata": {},
   "outputs": [
    {
     "data": {
      "text/html": [
       "<div>\n",
       "<style scoped>\n",
       "    .dataframe tbody tr th:only-of-type {\n",
       "        vertical-align: middle;\n",
       "    }\n",
       "\n",
       "    .dataframe tbody tr th {\n",
       "        vertical-align: top;\n",
       "    }\n",
       "\n",
       "    .dataframe thead th {\n",
       "        text-align: right;\n",
       "    }\n",
       "</style>\n",
       "<table border=\"1\" class=\"dataframe\">\n",
       "  <thead>\n",
       "    <tr style=\"text-align: right;\">\n",
       "      <th></th>\n",
       "      <th>last_updated</th>\n",
       "      <th>ttl</th>\n",
       "      <th>version</th>\n",
       "      <th>data</th>\n",
       "    </tr>\n",
       "  </thead>\n",
       "  <tbody>\n",
       "    <tr>\n",
       "      <th>vehicle_types</th>\n",
       "      <td>1658830288</td>\n",
       "      <td>86400</td>\n",
       "      <td>2.2</td>\n",
       "      <td>[{'vehicle_type_id': '1', 'form_factor': 'scoo...</td>\n",
       "    </tr>\n",
       "  </tbody>\n",
       "</table>\n",
       "</div>"
      ],
      "text/plain": [
       "               last_updated    ttl  version  \\\n",
       "vehicle_types    1658830288  86400      2.2   \n",
       "\n",
       "                                                            data  \n",
       "vehicle_types  [{'vehicle_type_id': '1', 'form_factor': 'scoo...  "
      ]
     },
     "execution_count": 16,
     "metadata": {},
     "output_type": "execute_result"
    }
   ],
   "source": [
    "df"
   ]
  },
  {
   "cell_type": "code",
   "execution_count": 6,
   "id": "6169251e",
   "metadata": {},
   "outputs": [
    {
     "data": {
      "text/plain": [
       "4"
      ]
     },
     "execution_count": 6,
     "metadata": {},
     "output_type": "execute_result"
    }
   ],
   "source": [
    "len(df['data']['vehicle_types'][0])"
   ]
  },
  {
   "cell_type": "code",
   "execution_count": 8,
   "id": "f503d371",
   "metadata": {},
   "outputs": [
    {
     "name": "stdout",
     "output_type": "stream",
     "text": [
      "{'vehicle_type_id': '1', 'form_factor': 'scooter', 'propulsion_type': 'electric', 'max_range_meters': 24140}\n",
      "{'vehicle_type_id': '2', 'form_factor': 'scooter', 'propulsion_type': 'electric', 'max_range_meters': 40233}\n",
      "{'vehicle_type_id': '3', 'form_factor': 'bicycle', 'propulsion_type': 'electric_assist', 'max_range_meters': 85000}\n",
      "{'vehicle_type_id': '4', 'form_factor': 'bicycle', 'propulsion_type': 'human'}\n"
     ]
    }
   ],
   "source": [
    "for i in range(4):\n",
    "    print(df['data']['vehicle_types'][i])"
   ]
  },
  {
   "cell_type": "code",
   "execution_count": 11,
   "id": "21746867",
   "metadata": {},
   "outputs": [],
   "source": [
    "import json\n",
    "with open(r'\\\\rmit.internal\\USRHome\\sl0\\s3923410\\Melbourne\\vehicle_types.json','r') as f:\n",
    "    data = json.loads(f.read())"
   ]
  },
  {
   "cell_type": "markdown",
   "id": "1675525c",
   "metadata": {},
   "source": [
    "open json file"
   ]
  },
  {
   "cell_type": "code",
   "execution_count": 19,
   "id": "8a58a7a6",
   "metadata": {},
   "outputs": [
    {
     "name": "stdout",
     "output_type": "stream",
     "text": [
      "  vehicle_type_id form_factor  propulsion_type  max_range_meters\n",
      "0               1     scooter         electric           24140.0\n",
      "1               2     scooter         electric           40233.0\n",
      "2               3     bicycle  electric_assist           85000.0\n",
      "3               4     bicycle            human               NaN\n",
      "4               5       moped         electric           85000.0\n"
     ]
    }
   ],
   "source": [
    "df = pd.json_normalize(data, ['data', 'vehicle_types'])\n",
    "print(df)"
   ]
  },
  {
   "cell_type": "code",
   "execution_count": null,
   "id": "e38937da",
   "metadata": {},
   "outputs": [],
   "source": []
  }
 ],
 "metadata": {
  "kernelspec": {
   "display_name": "Python 3 (ipykernel)",
   "language": "python",
   "name": "python3"
  },
  "language_info": {
   "codemirror_mode": {
    "name": "ipython",
    "version": 3
   },
   "file_extension": ".py",
   "mimetype": "text/x-python",
   "name": "python",
   "nbconvert_exporter": "python",
   "pygments_lexer": "ipython3",
   "version": "3.7.13"
  }
 },
 "nbformat": 4,
 "nbformat_minor": 5
}
