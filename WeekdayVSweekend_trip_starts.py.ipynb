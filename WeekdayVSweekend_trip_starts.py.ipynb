{
 "cells": [
  {
   "cell_type": "markdown",
   "id": "20d479a7",
   "metadata": {},
   "source": [
    "### Trip starts of a whole day in map"
   ]
  },
  {
   "cell_type": "code",
   "execution_count": 1,
   "id": "545bf8e5",
   "metadata": {},
   "outputs": [],
   "source": [
    "import folium\n",
    "import pandas as pd"
   ]
  },
  {
   "cell_type": "code",
   "execution_count": 2,
   "id": "e514d29d",
   "metadata": {},
   "outputs": [],
   "source": [
    "melb_map = folium.Map(location=[-37.791107, 144.970565],width=\"%100\",height=\"%100\",zoom_start=10)"
   ]
  },
  {
   "cell_type": "code",
   "execution_count": 3,
   "id": "1c85fcb4",
   "metadata": {},
   "outputs": [],
   "source": [
    "df_hour_list=[]\n",
    "for hour in range (0,24):\n",
    "    try:\n",
    "        df=pd.read_csv(r'C:\\Melbourne_Escooter\\RealDataset\\FinalResults\\August\\Started\\Hourly\\1_{}.csv'.format(hour))\n",
    "    except FileNotFoundError:\n",
    "        continue\n",
    "    df_hour_list.append(df)\n",
    "df_day_ = pd.concat(df_hour_list, axis=0).reset_index()\n",
    "df_day_.to_csv(r'C:\\Melbourne_Escooter\\RealDataset\\FinalResults\\August\\Started\\PerDay\\1\\AllHours.csv',index=False)"
   ]
  },
  {
   "cell_type": "code",
   "execution_count": 4,
   "id": "f24d0818",
   "metadata": {},
   "outputs": [],
   "source": [
    "df=pd.read_csv(r'C:\\Melbourne_Escooter\\RealDataset\\FinalResults\\August\\Started\\PerDay\\1\\AllHours.csv')"
   ]
  },
  {
   "cell_type": "code",
   "execution_count": 6,
   "id": "7d9244fc",
   "metadata": {},
   "outputs": [],
   "source": [
    "for i,row in df.iterrows():\n",
    "   folium.CircleMarker(location=[row['latitude'], row['longitude']],popup=row['bike_id'],radius=0.4,color='red',fill=True,fill_color='red').add_to(melb_map)"
   ]
  },
  {
   "cell_type": "code",
   "execution_count": 8,
   "id": "58e612f6",
   "metadata": {},
   "outputs": [],
   "source": [
    "melb_map.save(r\"C:\\Melbourne_Escooter\\RealDataset\\FinalResults\\August\\Started\\PerDay\\1\\AllHours.html\")"
   ]
  },
  {
   "cell_type": "markdown",
   "id": "fae5af18",
   "metadata": {},
   "source": [
    "### Trip ends of a whole day in map"
   ]
  },
  {
   "cell_type": "code",
   "execution_count": 9,
   "id": "7ab808c8",
   "metadata": {},
   "outputs": [],
   "source": [
    "mel_map = folium.Map(location=[-37.791107, 144.970565],width=\"%100\",height=\"%100\",zoom_start=10)"
   ]
  },
  {
   "cell_type": "code",
   "execution_count": 10,
   "id": "1c6695d9",
   "metadata": {},
   "outputs": [],
   "source": [
    "df_hour_list=[]\n",
    "for hour in range (0,24):\n",
    "    try:\n",
    "        df=pd.read_csv(r'C:\\Melbourne_Escooter\\RealDataset\\FinalResults\\August\\Stopped\\Hourly\\1_{}.csv'.format(hour))\n",
    "    except FileNotFoundError:\n",
    "        continue\n",
    "    df_hour_list.append(df)\n",
    "df_day_ = pd.concat(df_hour_list, axis=0).reset_index()\n",
    "df_day_.to_csv(r'C:\\Melbourne_Escooter\\RealDataset\\FinalResults\\August\\Stopped\\PerDay\\1\\AllHours.csv',index=False)"
   ]
  },
  {
   "cell_type": "code",
   "execution_count": 11,
   "id": "244f22d5",
   "metadata": {},
   "outputs": [],
   "source": [
    "df=pd.read_csv(r'C:\\Melbourne_Escooter\\RealDataset\\FinalResults\\August\\Stopped\\PerDay\\1\\AllHours.csv')"
   ]
  },
  {
   "cell_type": "code",
   "execution_count": 12,
   "id": "2577ff19",
   "metadata": {},
   "outputs": [],
   "source": [
    "for i,row in df.iterrows():\n",
    "   folium.CircleMarker(location=[row['latitude'], row['longitude']],popup=row['bike_id'],radius=0.4,color='red',fill=True,fill_color='red').add_to(mel_map)"
   ]
  },
  {
   "cell_type": "code",
   "execution_count": 14,
   "id": "4788f1e2",
   "metadata": {},
   "outputs": [],
   "source": [
    "mel_map.save(r\"C:\\Melbourne_Escooter\\RealDataset\\FinalResults\\August\\Stopped\\PerDay\\1\\AllHours.html\")"
   ]
  },
  {
   "cell_type": "markdown",
   "id": "6374b541",
   "metadata": {},
   "source": [
    "# Weekday vs. weekend distribution on Map"
   ]
  },
  {
   "cell_type": "markdown",
   "id": "4198814f",
   "metadata": {},
   "source": [
    "### create 2 functions to create weekday adn weekend datasets"
   ]
  },
  {
   "cell_type": "code",
   "execution_count": 33,
   "id": "541f8546",
   "metadata": {},
   "outputs": [],
   "source": [
    "def weekdayLocations():\n",
    "    df_hour_list1=[]\n",
    "    for day in range(1,6):\n",
    "        for hour in range (0,6):\n",
    "            try:\n",
    "                df=pd.read_csv(r'C:\\Melbourne_Escooter\\RealDataset\\FinalResults\\August\\Started\\Hourly\\{}_{}.csv'.format(day,hour))\n",
    "            except FileNotFoundError:\n",
    "                continue\n",
    "            df_hour_list1.append(df)\n",
    "    df1 = pd.concat(df_hour_list1, axis=0).reset_index()\n",
    "    df1.to_csv(r'C:\\Melbourne_Escooter\\RealDataset\\FinalResults\\August\\Started\\PerDay\\Weekday_Hour0_00-5_59.csv',index=False)\n",
    "\n",
    "    df_hour_list2=[]\n",
    "    for day in range(1,6):\n",
    "        for hour in range (6,11):\n",
    "            try:\n",
    "                df=pd.read_csv(r'C:\\Melbourne_Escooter\\RealDataset\\FinalResults\\August\\Started\\Hourly\\{}_{}.csv'.format(day,hour))\n",
    "            except FileNotFoundError:\n",
    "                continue\n",
    "            df_hour_list2.append(df)\n",
    "    df2 = pd.concat(df_hour_list2, axis=0).reset_index()\n",
    "    df2.to_csv(r'C:\\Melbourne_Escooter\\RealDataset\\FinalResults\\August\\Started\\PerDay\\Weekday_Hour6_00-10_59.csv',index=False)\n",
    "\n",
    "    df_hour_list3=[]\n",
    "    for day in range(1,6):\n",
    "        for hour in range (11,16):\n",
    "            try:\n",
    "                df=pd.read_csv(r'C:\\Melbourne_Escooter\\RealDataset\\FinalResults\\August\\Started\\Hourly\\{}_{}.csv'.format(day,hour))\n",
    "            except FileNotFoundError:\n",
    "                continue\n",
    "            df_hour_list3.append(df)\n",
    "    df3 = pd.concat(df_hour_list3, axis=0).reset_index()\n",
    "    df3.to_csv(r'C:\\Melbourne_Escooter\\RealDataset\\FinalResults\\August\\Started\\PerDay\\Weekday_Hour11_00-15_59.csv',index=False)\n",
    "\n",
    "    df_hour_list4=[]\n",
    "    for day in range(1,6):\n",
    "        for hour in range (16,19):\n",
    "            try:\n",
    "                df=pd.read_csv(r'C:\\Melbourne_Escooter\\RealDataset\\FinalResults\\August\\Started\\Hourly\\{}_{}.csv'.format(day,hour))\n",
    "            except FileNotFoundError:\n",
    "                continue\n",
    "            df_hour_list4.append(df)\n",
    "    df4 = pd.concat(df_hour_list4, axis=0).reset_index()\n",
    "    df4.to_csv(r'C:\\Melbourne_Escooter\\RealDataset\\FinalResults\\August\\Started\\PerDay\\Weekday_Hour16_00-18_59.csv',index=False)\n",
    "\n",
    "    df_hour_list5=[]\n",
    "    for day in range(1,6):\n",
    "        for hour in range (19,24):\n",
    "            try:\n",
    "                df=pd.read_csv(r'C:\\Melbourne_Escooter\\RealDataset\\FinalResults\\August\\Started\\Hourly\\{}_{}.csv'.format(day,hour))\n",
    "            except FileNotFoundError:\n",
    "                continue\n",
    "            df_hour_list5.append(df)\n",
    "    df5 = pd.concat(df_hour_list5, axis=0).reset_index()\n",
    "    df5.to_csv(r'C:\\Melbourne_Escooter\\RealDataset\\FinalResults\\August\\Started\\PerDay\\Weekday_Hour19_00-23_59.csv',index=False)"
   ]
  },
  {
   "cell_type": "markdown",
   "id": "d7573bdc",
   "metadata": {},
   "source": [
    "This function create 5 csv files for time categories for weekdays."
   ]
  },
  {
   "cell_type": "code",
   "execution_count": 37,
   "id": "ea70aa12",
   "metadata": {},
   "outputs": [],
   "source": [
    "weekdayLocations()"
   ]
  },
  {
   "cell_type": "code",
   "execution_count": 38,
   "id": "bf0c1e24",
   "metadata": {},
   "outputs": [],
   "source": [
    "def weekendLocations():\n",
    "    df_hour_list1=[]\n",
    "    for day in range(6,8):\n",
    "        for hour in range (0,6):\n",
    "            try:\n",
    "                df=pd.read_csv(r'C:\\Melbourne_Escooter\\RealDataset\\FinalResults\\August\\Started\\Hourly\\{}_{}.csv'.format(day,hour))\n",
    "            except FileNotFoundError:\n",
    "                continue\n",
    "            df_hour_list1.append(df)\n",
    "    df1 = pd.concat(df_hour_list1, axis=0).reset_index()\n",
    "    df1.to_csv(r'C:\\Melbourne_Escooter\\RealDataset\\FinalResults\\August\\Started\\PerDay\\Weekend_Hour0_00-5_59.csv',index=False)\n",
    "\n",
    "    df_hour_list2=[]\n",
    "    for day in range(6,8):\n",
    "        for hour in range (6,11):\n",
    "            try:\n",
    "                df=pd.read_csv(r'C:\\Melbourne_Escooter\\RealDataset\\FinalResults\\August\\Started\\Hourly\\{}_{}.csv'.format(day,hour))\n",
    "            except FileNotFoundError:\n",
    "                continue\n",
    "            df_hour_list2.append(df)\n",
    "    df2 = pd.concat(df_hour_list2, axis=0).reset_index()\n",
    "    df2.to_csv(r'C:\\Melbourne_Escooter\\RealDataset\\FinalResults\\August\\Started\\PerDay\\Weekend_Hour6_00-10_59.csv',index=False)\n",
    "\n",
    "    df_hour_list3=[]\n",
    "    for day in range(6,8):\n",
    "        for hour in range (11,16):\n",
    "            try:\n",
    "                df=pd.read_csv(r'C:\\Melbourne_Escooter\\RealDataset\\FinalResults\\August\\Started\\Hourly\\{}_{}.csv'.format(day,hour))\n",
    "            except FileNotFoundError:\n",
    "                continue\n",
    "            df_hour_list3.append(df)\n",
    "    df3 = pd.concat(df_hour_list3, axis=0).reset_index()\n",
    "    df3.to_csv(r'C:\\Melbourne_Escooter\\RealDataset\\FinalResults\\August\\Started\\PerDay\\Weekend_Hour11_00-15_59.csv',index=False)\n",
    "\n",
    "    df_hour_list4=[]\n",
    "    for day in range(6,8):\n",
    "        for hour in range (16,19):\n",
    "            try:\n",
    "                df=pd.read_csv(r'C:\\Melbourne_Escooter\\RealDataset\\FinalResults\\August\\Started\\Hourly\\{}_{}.csv'.format(day,hour))\n",
    "            except FileNotFoundError:\n",
    "                continue\n",
    "            df_hour_list4.append(df)\n",
    "    df4 = pd.concat(df_hour_list4, axis=0).reset_index()\n",
    "    df4.to_csv(r'C:\\Melbourne_Escooter\\RealDataset\\FinalResults\\August\\Started\\PerDay\\Weekend_Hour16_00-18_59.csv',index=False)\n",
    "\n",
    "    df_hour_list5=[]\n",
    "    for day in range(6,8):\n",
    "        for hour in range (19,24):\n",
    "            try:\n",
    "                df=pd.read_csv(r'C:\\Melbourne_Escooter\\RealDataset\\FinalResults\\August\\Started\\Hourly\\{}_{}.csv'.format(day,hour))\n",
    "            except FileNotFoundError:\n",
    "                continue\n",
    "            df_hour_list5.append(df)\n",
    "    df5 = pd.concat(df_hour_list5, axis=0).reset_index()\n",
    "    df5.to_csv(r'C:\\Melbourne_Escooter\\RealDataset\\FinalResults\\August\\Started\\PerDay\\Weekend_Hour19_00-23_59.csv',index=False)"
   ]
  },
  {
   "cell_type": "markdown",
   "id": "9f762643",
   "metadata": {},
   "source": [
    "This function create 5 csv files for time categories for weekends."
   ]
  },
  {
   "cell_type": "code",
   "execution_count": 39,
   "id": "47824fc8",
   "metadata": {},
   "outputs": [],
   "source": [
    "weekendLocations()"
   ]
  },
  {
   "cell_type": "markdown",
   "id": "ec4e8f0f",
   "metadata": {},
   "source": [
    "### Steps to plot locations (weekday-> blue & weekend-> red) on the map"
   ]
  },
  {
   "cell_type": "code",
   "execution_count": 40,
   "id": "d8af266c",
   "metadata": {},
   "outputs": [],
   "source": [
    "mel_map = folium.Map(location=[-37.791107, 144.970565],width=\"%100\",height=\"%100\",zoom_start=10)"
   ]
  },
  {
   "cell_type": "code",
   "execution_count": 41,
   "id": "e346a6e6",
   "metadata": {},
   "outputs": [],
   "source": [
    "df_weekday=pd.read_csv(r'C:\\Melbourne_Escooter\\RealDataset\\FinalResults\\August\\Started\\PerDay\\Weekday_Hour0_00-5_59.csv')\n",
    "df_weekend=pd.read_csv(r'C:\\Melbourne_Escooter\\RealDataset\\FinalResults\\August\\Started\\PerDay\\Weekend_Hour0_00-5_59.csv')"
   ]
  },
  {
   "cell_type": "code",
   "execution_count": 42,
   "id": "8696f6ce",
   "metadata": {},
   "outputs": [],
   "source": [
    "for i,row in df_weekday.iterrows():\n",
    "   folium.CircleMarker(location=[row['latitude'], row['longitude']],popup=row['bike_id'],radius=0.4,color='red',fill=True,fill_color='red').add_to(mel_map)"
   ]
  },
  {
   "cell_type": "code",
   "execution_count": 43,
   "id": "820e302c",
   "metadata": {},
   "outputs": [],
   "source": [
    "for i,row in df_weekend.iterrows():\n",
    "   folium.CircleMarker(location=[row['latitude'], row['longitude']],popup=row['bike_id'],radius=0.4,color='blue',fill=True,fill_color='blue').add_to(mel_map)"
   ]
  },
  {
   "cell_type": "code",
   "execution_count": 45,
   "id": "c8730651",
   "metadata": {},
   "outputs": [],
   "source": [
    "mel_map.save(r'C:\\Melbourne_Escooter\\RealDataset\\FinalResults\\August\\Started\\PerDay\\WeekdayVSweekend_Hour0_00-5_59.html')"
   ]
  },
  {
   "cell_type": "markdown",
   "id": "898f309e",
   "metadata": {},
   "source": [
    "plot 00:00 to 05:59 hour locations"
   ]
  },
  {
   "cell_type": "code",
   "execution_count": 46,
   "id": "42476d26",
   "metadata": {},
   "outputs": [],
   "source": [
    "mel_map2 = folium.Map(location=[-37.791107, 144.970565],width=\"%100\",height=\"%100\",zoom_start=10)"
   ]
  },
  {
   "cell_type": "code",
   "execution_count": 47,
   "id": "e455c484",
   "metadata": {},
   "outputs": [],
   "source": [
    "df_weekday=pd.read_csv(r'C:\\Melbourne_Escooter\\RealDataset\\FinalResults\\August\\Started\\PerDay\\Weekday_Hour6_00-10_59.csv')\n",
    "df_weekend=pd.read_csv(r'C:\\Melbourne_Escooter\\RealDataset\\FinalResults\\August\\Started\\PerDay\\Weekend_Hour6_00-10_59.csv')"
   ]
  },
  {
   "cell_type": "code",
   "execution_count": 48,
   "id": "31b470cb",
   "metadata": {},
   "outputs": [],
   "source": [
    "for i,row in df_weekday.iterrows():\n",
    "   folium.CircleMarker(location=[row['latitude'], row['longitude']],popup=row['bike_id'],radius=0.4,color='red',fill=True,fill_color='red').add_to(mel_map2)\n",
    "\n",
    "for i,row in df_weekend.iterrows():\n",
    "   folium.CircleMarker(location=[row['latitude'], row['longitude']],popup=row['bike_id'],radius=0.4,color='blue',fill=True,fill_color='blue').add_to(mel_map2)"
   ]
  },
  {
   "cell_type": "code",
   "execution_count": 54,
   "id": "a27dabe6",
   "metadata": {},
   "outputs": [],
   "source": [
    "mel_map2.save(r'C:\\Melbourne_Escooter\\RealDataset\\FinalResults\\August\\Started\\PerDay\\WeekdayVSweekend_Hour6_00-10_59.html')"
   ]
  },
  {
   "cell_type": "markdown",
   "id": "9a8854af",
   "metadata": {},
   "source": [
    "plot 60:00 to 10:59 hour locations"
   ]
  },
  {
   "cell_type": "code",
   "execution_count": 53,
   "id": "fb0e88c0",
   "metadata": {},
   "outputs": [],
   "source": [
    "mel_map3 = folium.Map(location=[-37.791107, 144.970565],width=\"%100\",height=\"%100\",zoom_start=10)\n",
    "df_weekday=pd.read_csv(r'C:\\Melbourne_Escooter\\RealDataset\\FinalResults\\August\\Started\\PerDay\\Weekday_Hour11_00-15_59.csv')\n",
    "df_weekend=pd.read_csv(r'C:\\Melbourne_Escooter\\RealDataset\\FinalResults\\August\\Started\\PerDay\\Weekend_Hour11_00-15_59.csv')\n",
    "for i,row in df_weekday.iterrows():\n",
    "   folium.CircleMarker(location=[row['latitude'], row['longitude']],popup=row['bike_id'],radius=0.4,color='red',fill=True,fill_color='red').add_to(mel_map3)\n",
    "\n",
    "for i,row in df_weekend.iterrows():\n",
    "   folium.CircleMarker(location=[row['latitude'], row['longitude']],popup=row['bike_id'],radius=0.4,color='blue',fill=True,fill_color='blue').add_to(mel_map3)\n",
    "\n",
    "mel_map3.save(r'C:\\Melbourne_Escooter\\RealDataset\\FinalResults\\August\\Started\\PerDay\\WeekdayVSweekend_Hour11_00-15_59.html')"
   ]
  },
  {
   "cell_type": "code",
   "execution_count": 55,
   "id": "c28b7a68",
   "metadata": {},
   "outputs": [],
   "source": [
    "mel_map4 = folium.Map(location=[-37.791107, 144.970565],width=\"%100\",height=\"%100\",zoom_start=10)\n",
    "df_weekday=pd.read_csv(r'C:\\Melbourne_Escooter\\RealDataset\\FinalResults\\August\\Started\\PerDay\\Weekday_Hour16_00-18_59.csv')\n",
    "df_weekend=pd.read_csv(r'C:\\Melbourne_Escooter\\RealDataset\\FinalResults\\August\\Started\\PerDay\\Weekend_Hour16_00-18_59.csv')\n",
    "for i,row in df_weekday.iterrows():\n",
    "   folium.CircleMarker(location=[row['latitude'], row['longitude']],popup=row['bike_id'],radius=0.4,color='red',fill=True,fill_color='red').add_to(mel_map4)\n",
    "\n",
    "for i,row in df_weekend.iterrows():\n",
    "   folium.CircleMarker(location=[row['latitude'], row['longitude']],popup=row['bike_id'],radius=0.4,color='blue',fill=True,fill_color='blue').add_to(mel_map4)\n",
    "\n",
    "mel_map4.save(r'C:\\Melbourne_Escooter\\RealDataset\\FinalResults\\August\\Started\\PerDay\\WeekdayVSweekend_Hour16_00-18_59.html')"
   ]
  },
  {
   "cell_type": "code",
   "execution_count": 57,
   "id": "1d084545",
   "metadata": {},
   "outputs": [],
   "source": [
    "mel_map5 = folium.Map(location=[-37.791107, 144.970565],width=\"%100\",height=\"%100\",zoom_start=10)\n",
    "df_weekday=pd.read_csv(r'C:\\Melbourne_Escooter\\RealDataset\\FinalResults\\August\\Started\\PerDay\\Weekday_Hour19_00-23_59.csv')\n",
    "df_weekend=pd.read_csv(r'C:\\Melbourne_Escooter\\RealDataset\\FinalResults\\August\\Started\\PerDay\\Weekend_Hour19_00-23_59.csv')\n",
    "for i,row in df_weekday.iterrows():\n",
    "   folium.CircleMarker(location=[row['latitude'], row['longitude']],popup=row['bike_id'],radius=0.4,color='red',fill=True,fill_color='red').add_to(mel_map5)\n",
    "\n",
    "for i,row in df_weekend.iterrows():\n",
    "   folium.CircleMarker(location=[row['latitude'], row['longitude']],popup=row['bike_id'],radius=0.4,color='blue',fill=True,fill_color='blue').add_to(mel_map5)\n",
    "\n",
    "mel_map5.save(r'C:\\Melbourne_Escooter\\RealDataset\\FinalResults\\August\\Started\\PerDay\\WeekdayVSweekend_Hour19_00-23_59.html')"
   ]
  },
  {
   "cell_type": "code",
   "execution_count": null,
   "id": "f1ca434c",
   "metadata": {},
   "outputs": [],
   "source": []
  }
 ],
 "metadata": {
  "kernelspec": {
   "display_name": "geo_env",
   "language": "python",
   "name": "geo_env"
  },
  "language_info": {
   "codemirror_mode": {
    "name": "ipython",
    "version": 3
   },
   "file_extension": ".py",
   "mimetype": "text/x-python",
   "name": "python",
   "nbconvert_exporter": "python",
   "pygments_lexer": "ipython3",
   "version": "3.10.5"
  }
 },
 "nbformat": 4,
 "nbformat_minor": 5
}
