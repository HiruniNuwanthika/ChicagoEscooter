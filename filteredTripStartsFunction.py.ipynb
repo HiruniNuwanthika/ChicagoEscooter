{
 "cells": [
  {
   "cell_type": "code",
   "execution_count": 1,
   "id": "5db53803",
   "metadata": {},
   "outputs": [],
   "source": [
    "import pandas as pd"
   ]
  },
  {
   "cell_type": "code",
   "execution_count": 8,
   "id": "fddcd7e5",
   "metadata": {},
   "outputs": [],
   "source": [
    "def filteredTripStarts(day):\n",
    "    for hour in range(0,24): \n",
    "        for partID in range(1,5):\n",
    "            try:\n",
    "                df= pd.read_csv(r'C:\\Melbourne_Escooter\\RealDataset\\Results\\July\\Started\\{}_{}hour_part{}.csv'.format(day,hour,partID))\n",
    "            except FileNotFoundError:\n",
    "                continue\n",
    "            column_num=len(df.columns)\n",
    "            value_df = df.iloc[:, 1:column_num]\n",
    "            new_list=[]\n",
    "            for i in range(len(df)):\n",
    "                row=value_df.loc[i]\n",
    "                new_row=row[row.isnull().shift(-3).fillna(False)]\n",
    "                new_list.append(new_row)\n",
    "\n",
    "            new_df= pd.DataFrame()\n",
    "            for item in new_list:\n",
    "                new_df =  new_df.append(item, ignore_index=True)\n",
    "            first_column= df.iloc[:, 0]\n",
    "            df_all_cols = pd.concat([first_column,new_df], axis = 1)\n",
    "            df_all_cols.to_csv(r'C:\\Melbourne_Escooter\\RealDataset\\Results\\July\\Started\\Filtered_starts\\{}_{}hour_part{}.csv'.format(day,hour,partID),index=False)"
   ]
  },
  {
   "cell_type": "code",
   "execution_count": 9,
   "id": "6a54f820",
   "metadata": {},
   "outputs": [],
   "source": [
    "filteredTripStarts(30)"
   ]
  },
  {
   "cell_type": "code",
   "execution_count": null,
   "id": "6e7c489b",
   "metadata": {},
   "outputs": [],
   "source": []
  }
 ],
 "metadata": {
  "kernelspec": {
   "display_name": "Python 3 (ipykernel)",
   "language": "python",
   "name": "python3"
  },
  "language_info": {
   "codemirror_mode": {
    "name": "ipython",
    "version": 3
   },
   "file_extension": ".py",
   "mimetype": "text/x-python",
   "name": "python",
   "nbconvert_exporter": "python",
   "pygments_lexer": "ipython3",
   "version": "3.7.13"
  }
 },
 "nbformat": 4,
 "nbformat_minor": 5
}
