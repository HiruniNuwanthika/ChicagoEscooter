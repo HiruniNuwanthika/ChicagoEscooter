{
 "cells": [
  {
   "cell_type": "code",
   "execution_count": 1,
   "id": "076b1c10",
   "metadata": {},
   "outputs": [],
   "source": [
    "import pandas as pd\n",
    "import numpy as np\n",
    "\n",
    "\n",
    "from sklearn.ensemble import RandomForestRegressor\n",
    "\n",
    "from sklearn.preprocessing import StandardScaler\n",
    "from sklearn.preprocessing import scale\n",
    "from sklearn.model_selection import train_test_split\n",
    "from sklearn.model_selection import cross_val_score\n",
    "\n",
    "from sklearn.metrics import mean_absolute_error,mean_squared_error, accuracy_score,mean_absolute_percentage_error"
   ]
  },
  {
   "cell_type": "code",
   "execution_count": 2,
   "id": "5be899ac",
   "metadata": {},
   "outputs": [],
   "source": [
    "df=pd.read_csv(r'C:\\features35SA\\DF_to_models\\static_dynamic.csv')"
   ]
  },
  {
   "cell_type": "code",
   "execution_count": 5,
   "id": "9744263a",
   "metadata": {},
   "outputs": [
    {
     "data": {
      "text/plain": [
       "SA1_CODE21                   0\n",
       "date                         0\n",
       "hour                         0\n",
       "rainfall                     0\n",
       "min_temp                     0\n",
       "tripDensity                  0\n",
       "pedestrianDensity            0\n",
       "trafficDensity               0\n",
       "no_childern Sa1              0\n",
       "with u 15 children sa1       0\n",
       "with no u 15 children sa1    0\n",
       "car owner %                  0\n",
       "5-14 %                       0\n",
       "15-29 %                      0\n",
       "30-39 %                      0\n",
       "40-49 %                      0\n",
       "50-64 %                      0\n",
       "above65 %                    0\n",
       "female%                      0\n",
       "male%                        0\n",
       "Population density 2021      0\n",
       "trainDensity                 0\n",
       "busDensity                   0\n",
       "tramDensity                  0\n",
       "House perc                   0\n",
       "Cafe perc                    0\n",
       "Office perc                  0\n",
       "Shops perc                   0\n",
       "entropy                      0\n",
       "mxi                          0\n",
       "recreationCount              0\n",
       "campusCount                  0\n",
       "bike_intersection_density    0\n",
       "bike_street_density          0\n",
       "raod_intersection_density    0\n",
       "raod_street_density          0\n",
       "dtype: int64"
      ]
     },
     "execution_count": 5,
     "metadata": {},
     "output_type": "execute_result"
    }
   ],
   "source": [
    "df.isna().sum()"
   ]
  },
  {
   "cell_type": "code",
   "execution_count": 4,
   "id": "f3a4e105",
   "metadata": {},
   "outputs": [],
   "source": [
    "df=df.dropna()"
   ]
  },
  {
   "cell_type": "code",
   "execution_count": 6,
   "id": "9fdf7a9e",
   "metadata": {},
   "outputs": [
    {
     "name": "stdout",
     "output_type": "stream",
     "text": [
      "36\n"
     ]
    }
   ],
   "source": [
    "print(len(df.columns))"
   ]
  },
  {
   "cell_type": "code",
   "execution_count": 7,
   "id": "9aef9b9a",
   "metadata": {},
   "outputs": [],
   "source": [
    "##########be careful!!!! Need to remove some columns\n",
    "column=['SA1_CODE21']\n",
    "df=df.drop(column, axis=1)"
   ]
  },
  {
   "cell_type": "code",
   "execution_count": 8,
   "id": "bd0859df",
   "metadata": {},
   "outputs": [],
   "source": [
    "scale= StandardScaler()"
   ]
  },
  {
   "cell_type": "code",
   "execution_count": 9,
   "id": "6a3bc244",
   "metadata": {},
   "outputs": [],
   "source": [
    "df_sc= scale.fit_transform(df)\n",
    "df_sc=pd.DataFrame(df_sc, columns=df.columns)"
   ]
  },
  {
   "cell_type": "code",
   "execution_count": 10,
   "id": "975fe05b",
   "metadata": {},
   "outputs": [],
   "source": [
    " \n",
    "y=df_sc['tripDensity']\n",
    "X=df_sc.drop(['tripDensity'], axis=1)"
   ]
  },
  {
   "cell_type": "code",
   "execution_count": 11,
   "id": "f03ad4e1",
   "metadata": {},
   "outputs": [],
   "source": [
    "X_train, X_test, y_train, y_test = train_test_split(X, y, test_size=0.3,random_state=24)"
   ]
  },
  {
   "cell_type": "code",
   "execution_count": 12,
   "id": "a5b29eba",
   "metadata": {},
   "outputs": [
    {
     "name": "stdout",
     "output_type": "stream",
     "text": [
      "max= 16.76853104813387\n",
      "min= -0.4244964825080845\n",
      "mean= 0.007040903425943976\n",
      "std= 0.08391009132365412\n"
     ]
    }
   ],
   "source": [
    "print(\"max=\",y_test.max() )\n",
    "print(\"min=\",y_test.min() )\n",
    "print(\"mean=\",y_test.mean() )\n",
    "print(\"std=\",np.sqrt(y_test.mean()) )"
   ]
  },
  {
   "cell_type": "code",
   "execution_count": 13,
   "id": "309e1870",
   "metadata": {},
   "outputs": [],
   "source": [
    "model = RandomForestRegressor(n_estimators=800, criterion=\"squared_error\", min_samples_leaf=12, min_samples_split=20, max_depth=25, max_features=20) "
   ]
  },
  {
   "cell_type": "code",
   "execution_count": 14,
   "id": "83512920",
   "metadata": {},
   "outputs": [],
   "source": [
    "LL_rf=model.fit(X_train, y_train)"
   ]
  },
  {
   "cell_type": "code",
   "execution_count": 15,
   "id": "32be66ce",
   "metadata": {},
   "outputs": [
    {
     "data": {
      "text/plain": [
       "0.3480911133339215"
      ]
     },
     "execution_count": 15,
     "metadata": {},
     "output_type": "execute_result"
    }
   ],
   "source": [
    "score = LL_rf.score(X_train, y_train)\n",
    "score"
   ]
  },
  {
   "cell_type": "code",
   "execution_count": 16,
   "id": "a1061cd5",
   "metadata": {},
   "outputs": [],
   "source": [
    "ypred = LL_rf.predict(X_test)"
   ]
  },
  {
   "cell_type": "code",
   "execution_count": 17,
   "id": "6b25438b",
   "metadata": {},
   "outputs": [
    {
     "data": {
      "text/plain": [
       "0.17268280122979907"
      ]
     },
     "execution_count": 17,
     "metadata": {},
     "output_type": "execute_result"
    }
   ],
   "source": [
    "test_score=LL_rf.score(X_test, y_test)\n",
    "test_score"
   ]
  },
  {
   "cell_type": "code",
   "execution_count": 18,
   "id": "f9646a8a",
   "metadata": {},
   "outputs": [
    {
     "data": {
      "text/plain": [
       "0.48414134842018847"
      ]
     },
     "execution_count": 18,
     "metadata": {},
     "output_type": "execute_result"
    }
   ],
   "source": [
    "mae =mean_absolute_error(y_test, ypred)\n",
    "mae"
   ]
  },
  {
   "cell_type": "code",
   "execution_count": 19,
   "id": "534cc1f1",
   "metadata": {},
   "outputs": [
    {
     "data": {
      "text/plain": [
       "0.9020475577343986"
      ]
     },
     "execution_count": 19,
     "metadata": {},
     "output_type": "execute_result"
    }
   ],
   "source": [
    "mse =mean_squared_error(y_test, ypred)\n",
    "mse"
   ]
  },
  {
   "cell_type": "code",
   "execution_count": 20,
   "id": "25d97caa",
   "metadata": {},
   "outputs": [
    {
     "data": {
      "text/plain": [
       "0.9497618426397212"
      ]
     },
     "execution_count": 20,
     "metadata": {},
     "output_type": "execute_result"
    }
   ],
   "source": [
    "rmse=np.sqrt(mse)\n",
    "rmse"
   ]
  },
  {
   "cell_type": "code",
   "execution_count": 21,
   "id": "fab31033",
   "metadata": {},
   "outputs": [
    {
     "data": {
      "text/plain": [
       "1.2013093668068995"
      ]
     },
     "execution_count": 21,
     "metadata": {},
     "output_type": "execute_result"
    }
   ],
   "source": [
    "mape =mean_absolute_percentage_error(y_test, ypred)\n",
    "mape"
   ]
  },
  {
   "cell_type": "code",
   "execution_count": 22,
   "id": "7d77919e",
   "metadata": {},
   "outputs": [],
   "source": [
    "#Tune\n",
    "\n",
    "\n",
    "from sklearn.model_selection import RandomizedSearchCV"
   ]
  },
  {
   "cell_type": "code",
   "execution_count": null,
   "id": "0119feb5",
   "metadata": {},
   "outputs": [],
   "source": [
    "param_grid={\n",
    "    'bootstrap': [True],\n",
    "    'max_depth': [29,32],\n",
    "    'max_features': [20,25,30],\n",
    "    'min_samples_leaf': [12,13,14],\n",
    "    'min_samples_split': [32,33],\n",
    "    'max_leaf_nodes':[10,20,30],\n",
    "    'n_estimators': [500]\n",
    "}\n"
   ]
  },
  {
   "cell_type": "code",
   "execution_count": null,
   "id": "f5f8f407",
   "metadata": {},
   "outputs": [],
   "source": [
    "rf = RandomForestRegressor()"
   ]
  },
  {
   "cell_type": "code",
   "execution_count": null,
   "id": "566f0164",
   "metadata": {},
   "outputs": [],
   "source": [
    "grid_search = GridSearchCV(estimator = rf, param_grid = param_grid, cv = 5, n_jobs = -1, verbose = 2)"
   ]
  },
  {
   "cell_type": "code",
   "execution_count": null,
   "id": "4b3fe7ed",
   "metadata": {},
   "outputs": [],
   "source": [
    "grid_search.fit(X_train, y_train)"
   ]
  },
  {
   "cell_type": "code",
   "execution_count": null,
   "id": "b571dfa5",
   "metadata": {},
   "outputs": [],
   "source": [
    "grid_search.best_params_ "
   ]
  }
 ],
 "metadata": {
  "kernelspec": {
   "display_name": "Python 3 (ipykernel)",
   "language": "python",
   "name": "python3"
  },
  "language_info": {
   "codemirror_mode": {
    "name": "ipython",
    "version": 3
   },
   "file_extension": ".py",
   "mimetype": "text/x-python",
   "name": "python",
   "nbconvert_exporter": "python",
   "pygments_lexer": "ipython3",
   "version": "3.7.13"
  }
 },
 "nbformat": 4,
 "nbformat_minor": 5
}
