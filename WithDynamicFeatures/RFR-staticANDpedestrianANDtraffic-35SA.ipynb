{
 "cells": [
  {
   "cell_type": "code",
   "execution_count": 2,
   "id": "94c31070",
   "metadata": {},
   "outputs": [],
   "source": [
    "import pandas as pd\n",
    "import numpy as np\n",
    "\n",
    "\n",
    "from sklearn.ensemble import RandomForestRegressor\n",
    "\n",
    "from sklearn.preprocessing import StandardScaler\n",
    "from sklearn.preprocessing import scale\n",
    "from sklearn.model_selection import train_test_split\n",
    "from sklearn.model_selection import cross_val_score\n",
    "\n",
    "from sklearn.metrics import mean_absolute_error,mean_squared_error, accuracy_score,mean_absolute_percentage_error"
   ]
  },
  {
   "cell_type": "code",
   "execution_count": 83,
   "id": "5819ff75",
   "metadata": {},
   "outputs": [],
   "source": [
    "df=pd.read_csv(r'C:\\features35SA\\staticANDpedestrianANDtraffic_dateUpdated.csv')"
   ]
  },
  {
   "cell_type": "code",
   "execution_count": 84,
   "id": "629afc72",
   "metadata": {},
   "outputs": [
    {
     "data": {
      "text/html": [
       "<div>\n",
       "<style scoped>\n",
       "    .dataframe tbody tr th:only-of-type {\n",
       "        vertical-align: middle;\n",
       "    }\n",
       "\n",
       "    .dataframe tbody tr th {\n",
       "        vertical-align: top;\n",
       "    }\n",
       "\n",
       "    .dataframe thead th {\n",
       "        text-align: right;\n",
       "    }\n",
       "</style>\n",
       "<table border=\"1\" class=\"dataframe\">\n",
       "  <thead>\n",
       "    <tr style=\"text-align: right;\">\n",
       "      <th></th>\n",
       "      <th>SA1_CODE21</th>\n",
       "      <th>hour</th>\n",
       "      <th>traffic</th>\n",
       "      <th>Hourly_Counts</th>\n",
       "      <th>date</th>\n",
       "      <th>tripDensity</th>\n",
       "      <th>rainfall</th>\n",
       "      <th>min_temp</th>\n",
       "      <th>no_childern Sa1</th>\n",
       "      <th>with u 15 children sa1</th>\n",
       "      <th>...</th>\n",
       "      <th>Office perc</th>\n",
       "      <th>Shops perc</th>\n",
       "      <th>entropy</th>\n",
       "      <th>mxi</th>\n",
       "      <th>recreationCount</th>\n",
       "      <th>campusCount</th>\n",
       "      <th>bike_intersection_density</th>\n",
       "      <th>bike_street_density</th>\n",
       "      <th>raod_intersection_density</th>\n",
       "      <th>raod_street_density</th>\n",
       "    </tr>\n",
       "  </thead>\n",
       "  <tbody>\n",
       "    <tr>\n",
       "      <th>0</th>\n",
       "      <td>20604111704</td>\n",
       "      <td>0</td>\n",
       "      <td>52.000000</td>\n",
       "      <td>10.0</td>\n",
       "      <td>1</td>\n",
       "      <td>0.000000</td>\n",
       "      <td>0</td>\n",
       "      <td>7.4</td>\n",
       "      <td>35.488372</td>\n",
       "      <td>12.348837</td>\n",
       "      <td>...</td>\n",
       "      <td>0.004115</td>\n",
       "      <td>0.034294</td>\n",
       "      <td>0.758134</td>\n",
       "      <td>40.260631</td>\n",
       "      <td>0</td>\n",
       "      <td>0</td>\n",
       "      <td>666666666.7</td>\n",
       "      <td>39315180952</td>\n",
       "      <td>761904761.9</td>\n",
       "      <td>41335733333</td>\n",
       "    </tr>\n",
       "    <tr>\n",
       "      <th>1</th>\n",
       "      <td>20604111704</td>\n",
       "      <td>1</td>\n",
       "      <td>21.666667</td>\n",
       "      <td>6.0</td>\n",
       "      <td>1</td>\n",
       "      <td>0.000000</td>\n",
       "      <td>0</td>\n",
       "      <td>7.4</td>\n",
       "      <td>35.488372</td>\n",
       "      <td>12.348837</td>\n",
       "      <td>...</td>\n",
       "      <td>0.004115</td>\n",
       "      <td>0.034294</td>\n",
       "      <td>0.758134</td>\n",
       "      <td>40.260631</td>\n",
       "      <td>0</td>\n",
       "      <td>0</td>\n",
       "      <td>666666666.7</td>\n",
       "      <td>39315180952</td>\n",
       "      <td>761904761.9</td>\n",
       "      <td>41335733333</td>\n",
       "    </tr>\n",
       "    <tr>\n",
       "      <th>2</th>\n",
       "      <td>20604111704</td>\n",
       "      <td>2</td>\n",
       "      <td>15.000000</td>\n",
       "      <td>4.0</td>\n",
       "      <td>1</td>\n",
       "      <td>0.000000</td>\n",
       "      <td>0</td>\n",
       "      <td>7.4</td>\n",
       "      <td>35.488372</td>\n",
       "      <td>12.348837</td>\n",
       "      <td>...</td>\n",
       "      <td>0.004115</td>\n",
       "      <td>0.034294</td>\n",
       "      <td>0.758134</td>\n",
       "      <td>40.260631</td>\n",
       "      <td>0</td>\n",
       "      <td>0</td>\n",
       "      <td>666666666.7</td>\n",
       "      <td>39315180952</td>\n",
       "      <td>761904761.9</td>\n",
       "      <td>41335733333</td>\n",
       "    </tr>\n",
       "    <tr>\n",
       "      <th>3</th>\n",
       "      <td>20604111704</td>\n",
       "      <td>3</td>\n",
       "      <td>11.000000</td>\n",
       "      <td>2.0</td>\n",
       "      <td>1</td>\n",
       "      <td>0.000000</td>\n",
       "      <td>0</td>\n",
       "      <td>7.4</td>\n",
       "      <td>35.488372</td>\n",
       "      <td>12.348837</td>\n",
       "      <td>...</td>\n",
       "      <td>0.004115</td>\n",
       "      <td>0.034294</td>\n",
       "      <td>0.758134</td>\n",
       "      <td>40.260631</td>\n",
       "      <td>0</td>\n",
       "      <td>0</td>\n",
       "      <td>666666666.7</td>\n",
       "      <td>39315180952</td>\n",
       "      <td>761904761.9</td>\n",
       "      <td>41335733333</td>\n",
       "    </tr>\n",
       "    <tr>\n",
       "      <th>4</th>\n",
       "      <td>20604111704</td>\n",
       "      <td>4</td>\n",
       "      <td>14.666667</td>\n",
       "      <td>5.0</td>\n",
       "      <td>1</td>\n",
       "      <td>0.000000</td>\n",
       "      <td>0</td>\n",
       "      <td>7.4</td>\n",
       "      <td>35.488372</td>\n",
       "      <td>12.348837</td>\n",
       "      <td>...</td>\n",
       "      <td>0.004115</td>\n",
       "      <td>0.034294</td>\n",
       "      <td>0.758134</td>\n",
       "      <td>40.260631</td>\n",
       "      <td>0</td>\n",
       "      <td>0</td>\n",
       "      <td>666666666.7</td>\n",
       "      <td>39315180952</td>\n",
       "      <td>761904761.9</td>\n",
       "      <td>41335733333</td>\n",
       "    </tr>\n",
       "    <tr>\n",
       "      <th>...</th>\n",
       "      <td>...</td>\n",
       "      <td>...</td>\n",
       "      <td>...</td>\n",
       "      <td>...</td>\n",
       "      <td>...</td>\n",
       "      <td>...</td>\n",
       "      <td>...</td>\n",
       "      <td>...</td>\n",
       "      <td>...</td>\n",
       "      <td>...</td>\n",
       "      <td>...</td>\n",
       "      <td>...</td>\n",
       "      <td>...</td>\n",
       "      <td>...</td>\n",
       "      <td>...</td>\n",
       "      <td>...</td>\n",
       "      <td>...</td>\n",
       "      <td>...</td>\n",
       "      <td>...</td>\n",
       "      <td>...</td>\n",
       "      <td>...</td>\n",
       "    </tr>\n",
       "    <tr>\n",
       "      <th>23515</th>\n",
       "      <td>20604150908</td>\n",
       "      <td>19</td>\n",
       "      <td>169.000000</td>\n",
       "      <td>347.0</td>\n",
       "      <td>7</td>\n",
       "      <td>64.935065</td>\n",
       "      <td>0</td>\n",
       "      <td>7.1</td>\n",
       "      <td>78.181818</td>\n",
       "      <td>19.606061</td>\n",
       "      <td>...</td>\n",
       "      <td>0.000000</td>\n",
       "      <td>0.000000</td>\n",
       "      <td>0.678095</td>\n",
       "      <td>50.000000</td>\n",
       "      <td>0</td>\n",
       "      <td>1</td>\n",
       "      <td>284090909.1</td>\n",
       "      <td>19823254870</td>\n",
       "      <td>730519480.5</td>\n",
       "      <td>39757767857</td>\n",
       "    </tr>\n",
       "    <tr>\n",
       "      <th>23516</th>\n",
       "      <td>20604150908</td>\n",
       "      <td>20</td>\n",
       "      <td>154.500000</td>\n",
       "      <td>697.0</td>\n",
       "      <td>7</td>\n",
       "      <td>8.116883</td>\n",
       "      <td>0</td>\n",
       "      <td>7.1</td>\n",
       "      <td>78.181818</td>\n",
       "      <td>19.606061</td>\n",
       "      <td>...</td>\n",
       "      <td>0.000000</td>\n",
       "      <td>0.000000</td>\n",
       "      <td>0.678095</td>\n",
       "      <td>50.000000</td>\n",
       "      <td>0</td>\n",
       "      <td>1</td>\n",
       "      <td>284090909.1</td>\n",
       "      <td>19823254870</td>\n",
       "      <td>730519480.5</td>\n",
       "      <td>39757767857</td>\n",
       "    </tr>\n",
       "    <tr>\n",
       "      <th>23517</th>\n",
       "      <td>20604150908</td>\n",
       "      <td>21</td>\n",
       "      <td>163.250000</td>\n",
       "      <td>1076.0</td>\n",
       "      <td>7</td>\n",
       "      <td>8.116883</td>\n",
       "      <td>0</td>\n",
       "      <td>7.1</td>\n",
       "      <td>78.181818</td>\n",
       "      <td>19.606061</td>\n",
       "      <td>...</td>\n",
       "      <td>0.000000</td>\n",
       "      <td>0.000000</td>\n",
       "      <td>0.678095</td>\n",
       "      <td>50.000000</td>\n",
       "      <td>0</td>\n",
       "      <td>1</td>\n",
       "      <td>284090909.1</td>\n",
       "      <td>19823254870</td>\n",
       "      <td>730519480.5</td>\n",
       "      <td>39757767857</td>\n",
       "    </tr>\n",
       "    <tr>\n",
       "      <th>23518</th>\n",
       "      <td>20604150908</td>\n",
       "      <td>22</td>\n",
       "      <td>125.750000</td>\n",
       "      <td>173.0</td>\n",
       "      <td>7</td>\n",
       "      <td>0.000000</td>\n",
       "      <td>0</td>\n",
       "      <td>7.1</td>\n",
       "      <td>78.181818</td>\n",
       "      <td>19.606061</td>\n",
       "      <td>...</td>\n",
       "      <td>0.000000</td>\n",
       "      <td>0.000000</td>\n",
       "      <td>0.678095</td>\n",
       "      <td>50.000000</td>\n",
       "      <td>0</td>\n",
       "      <td>1</td>\n",
       "      <td>284090909.1</td>\n",
       "      <td>19823254870</td>\n",
       "      <td>730519480.5</td>\n",
       "      <td>39757767857</td>\n",
       "    </tr>\n",
       "    <tr>\n",
       "      <th>23519</th>\n",
       "      <td>20604150908</td>\n",
       "      <td>23</td>\n",
       "      <td>80.750000</td>\n",
       "      <td>51.0</td>\n",
       "      <td>7</td>\n",
       "      <td>0.000000</td>\n",
       "      <td>0</td>\n",
       "      <td>7.1</td>\n",
       "      <td>78.181818</td>\n",
       "      <td>19.606061</td>\n",
       "      <td>...</td>\n",
       "      <td>0.000000</td>\n",
       "      <td>0.000000</td>\n",
       "      <td>0.678095</td>\n",
       "      <td>50.000000</td>\n",
       "      <td>0</td>\n",
       "      <td>1</td>\n",
       "      <td>284090909.1</td>\n",
       "      <td>19823254870</td>\n",
       "      <td>730519480.5</td>\n",
       "      <td>39757767857</td>\n",
       "    </tr>\n",
       "  </tbody>\n",
       "</table>\n",
       "<p>23520 rows × 36 columns</p>\n",
       "</div>"
      ],
      "text/plain": [
       "        SA1_CODE21  hour     traffic  Hourly_Counts  date  tripDensity  \\\n",
       "0      20604111704     0   52.000000           10.0     1     0.000000   \n",
       "1      20604111704     1   21.666667            6.0     1     0.000000   \n",
       "2      20604111704     2   15.000000            4.0     1     0.000000   \n",
       "3      20604111704     3   11.000000            2.0     1     0.000000   \n",
       "4      20604111704     4   14.666667            5.0     1     0.000000   \n",
       "...            ...   ...         ...            ...   ...          ...   \n",
       "23515  20604150908    19  169.000000          347.0     7    64.935065   \n",
       "23516  20604150908    20  154.500000          697.0     7     8.116883   \n",
       "23517  20604150908    21  163.250000         1076.0     7     8.116883   \n",
       "23518  20604150908    22  125.750000          173.0     7     0.000000   \n",
       "23519  20604150908    23   80.750000           51.0     7     0.000000   \n",
       "\n",
       "       rainfall  min_temp  no_childern Sa1  with u 15 children sa1  ...  \\\n",
       "0             0       7.4        35.488372               12.348837  ...   \n",
       "1             0       7.4        35.488372               12.348837  ...   \n",
       "2             0       7.4        35.488372               12.348837  ...   \n",
       "3             0       7.4        35.488372               12.348837  ...   \n",
       "4             0       7.4        35.488372               12.348837  ...   \n",
       "...         ...       ...              ...                     ...  ...   \n",
       "23515         0       7.1        78.181818               19.606061  ...   \n",
       "23516         0       7.1        78.181818               19.606061  ...   \n",
       "23517         0       7.1        78.181818               19.606061  ...   \n",
       "23518         0       7.1        78.181818               19.606061  ...   \n",
       "23519         0       7.1        78.181818               19.606061  ...   \n",
       "\n",
       "       Office perc  Shops perc   entropy        mxi  recreationCount  \\\n",
       "0         0.004115    0.034294  0.758134  40.260631                0   \n",
       "1         0.004115    0.034294  0.758134  40.260631                0   \n",
       "2         0.004115    0.034294  0.758134  40.260631                0   \n",
       "3         0.004115    0.034294  0.758134  40.260631                0   \n",
       "4         0.004115    0.034294  0.758134  40.260631                0   \n",
       "...            ...         ...       ...        ...              ...   \n",
       "23515     0.000000    0.000000  0.678095  50.000000                0   \n",
       "23516     0.000000    0.000000  0.678095  50.000000                0   \n",
       "23517     0.000000    0.000000  0.678095  50.000000                0   \n",
       "23518     0.000000    0.000000  0.678095  50.000000                0   \n",
       "23519     0.000000    0.000000  0.678095  50.000000                0   \n",
       "\n",
       "       campusCount  bike_intersection_density  bike_street_density  \\\n",
       "0                0                666666666.7          39315180952   \n",
       "1                0                666666666.7          39315180952   \n",
       "2                0                666666666.7          39315180952   \n",
       "3                0                666666666.7          39315180952   \n",
       "4                0                666666666.7          39315180952   \n",
       "...            ...                        ...                  ...   \n",
       "23515            1                284090909.1          19823254870   \n",
       "23516            1                284090909.1          19823254870   \n",
       "23517            1                284090909.1          19823254870   \n",
       "23518            1                284090909.1          19823254870   \n",
       "23519            1                284090909.1          19823254870   \n",
       "\n",
       "       raod_intersection_density  raod_street_density  \n",
       "0                    761904761.9          41335733333  \n",
       "1                    761904761.9          41335733333  \n",
       "2                    761904761.9          41335733333  \n",
       "3                    761904761.9          41335733333  \n",
       "4                    761904761.9          41335733333  \n",
       "...                          ...                  ...  \n",
       "23515                730519480.5          39757767857  \n",
       "23516                730519480.5          39757767857  \n",
       "23517                730519480.5          39757767857  \n",
       "23518                730519480.5          39757767857  \n",
       "23519                730519480.5          39757767857  \n",
       "\n",
       "[23520 rows x 36 columns]"
      ]
     },
     "execution_count": 84,
     "metadata": {},
     "output_type": "execute_result"
    }
   ],
   "source": [
    "df"
   ]
  },
  {
   "cell_type": "code",
   "execution_count": 85,
   "id": "bb68b73b",
   "metadata": {
    "scrolled": true
   },
   "outputs": [
    {
     "data": {
      "text/plain": [
       "SA1_CODE21                    0\n",
       "hour                          0\n",
       "traffic                       0\n",
       "Hourly_Counts                96\n",
       "date                          0\n",
       "tripDensity                   0\n",
       "rainfall                      0\n",
       "min_temp                      0\n",
       "no_childern Sa1               0\n",
       "with u 15 children sa1        0\n",
       "with no u 15 children sa1     0\n",
       "car owner %                   0\n",
       "5-14 %                        0\n",
       "15-29 %                       0\n",
       "30-39 %                       0\n",
       "40-49 %                       0\n",
       "50-64 %                       0\n",
       "above65 %                     0\n",
       "female%                       0\n",
       "male%                         0\n",
       "Population density 2021       0\n",
       "trainDensity                  0\n",
       "busDensity                    0\n",
       "tramDensity                   0\n",
       "House perc                    0\n",
       "Cafe perc                     0\n",
       "Office perc                   0\n",
       "Shops perc                    0\n",
       "entropy                       0\n",
       "mxi                           0\n",
       "recreationCount               0\n",
       "campusCount                   0\n",
       "bike_intersection_density     0\n",
       "bike_street_density           0\n",
       "raod_intersection_density     0\n",
       "raod_street_density           0\n",
       "dtype: int64"
      ]
     },
     "execution_count": 85,
     "metadata": {},
     "output_type": "execute_result"
    }
   ],
   "source": [
    "df.isna().sum()"
   ]
  },
  {
   "cell_type": "code",
   "execution_count": 6,
   "id": "97e4bbb4",
   "metadata": {},
   "outputs": [],
   "source": [
    "df=df.dropna() #drop 96 records without pedestrian count"
   ]
  },
  {
   "cell_type": "code",
   "execution_count": 8,
   "id": "a992a63f",
   "metadata": {},
   "outputs": [],
   "source": [
    "column=['SA1_CODE21']\n",
    "df=df.drop(column, axis=1)"
   ]
  },
  {
   "cell_type": "code",
   "execution_count": 9,
   "id": "3efffe07",
   "metadata": {},
   "outputs": [],
   "source": [
    "scale= StandardScaler()"
   ]
  },
  {
   "cell_type": "code",
   "execution_count": 10,
   "id": "6684826e",
   "metadata": {},
   "outputs": [],
   "source": [
    "df_sc= scale.fit_transform(df)\n",
    "df_sc=pd.DataFrame(df_sc, columns=df.columns)"
   ]
  },
  {
   "cell_type": "code",
   "execution_count": 14,
   "id": "e9f9ea31",
   "metadata": {},
   "outputs": [
    {
     "data": {
      "text/plain": [
       "Index(['hour', 'traffic', 'Hourly_Counts', 'date', 'tripDensity', 'rainfall',\n",
       "       'min_temp', 'no_childern Sa1', 'with u 15 children sa1',\n",
       "       'with no u 15 children sa1', 'car owner %', '5-14 %', '15-29 %',\n",
       "       '30-39 %', '40-49 %', '50-64 %', 'above65 %', 'female%', 'male%',\n",
       "       'Population density 2021', 'trainDensity', 'busDensity', 'tramDensity',\n",
       "       'House perc', 'Cafe perc', 'Office perc', 'Shops perc', 'entropy',\n",
       "       'mxi', 'recreationCount', 'campusCount', 'bike_intersection_density',\n",
       "       'bike_street_density', 'raod_intersection_density',\n",
       "       'raod_street_density'],\n",
       "      dtype='object')"
      ]
     },
     "execution_count": 14,
     "metadata": {},
     "output_type": "execute_result"
    }
   ],
   "source": [
    "df.columns\n",
    "\n",
    "#print(len(df.columns))=35"
   ]
  },
  {
   "cell_type": "code",
   "execution_count": 15,
   "id": "c5074f2f",
   "metadata": {},
   "outputs": [],
   "source": [
    "y=df_sc['tripDensity']\n",
    "X=df_sc.drop(['tripDensity'], axis=1)"
   ]
  },
  {
   "cell_type": "code",
   "execution_count": 16,
   "id": "d18c3d9d",
   "metadata": {},
   "outputs": [],
   "source": [
    "X_train, X_test, y_train, y_test = train_test_split(X, y, test_size=0.3,random_state=24)"
   ]
  },
  {
   "cell_type": "code",
   "execution_count": 57,
   "id": "1e5635ca",
   "metadata": {},
   "outputs": [],
   "source": [
    "model = RandomForestRegressor(n_estimators=800, criterion=\"squared_error\", min_samples_leaf=15, min_samples_split=33, max_depth=17, max_features=20) \n"
   ]
  },
  {
   "cell_type": "code",
   "execution_count": 72,
   "id": "fa08dbd2",
   "metadata": {},
   "outputs": [],
   "source": [
    "LL_rf=model.fit(X_train, y_train)"
   ]
  },
  {
   "cell_type": "code",
   "execution_count": 73,
   "id": "c6b3ba2d",
   "metadata": {},
   "outputs": [
    {
     "data": {
      "text/plain": [
       "0.33421565192997615"
      ]
     },
     "execution_count": 73,
     "metadata": {},
     "output_type": "execute_result"
    }
   ],
   "source": [
    "score = LL_rf.score(X_train, y_train)\n",
    "score#0.305"
   ]
  },
  {
   "cell_type": "code",
   "execution_count": 74,
   "id": "870f160e",
   "metadata": {},
   "outputs": [],
   "source": [
    "ypred = LL_rf.predict(X_test)"
   ]
  },
  {
   "cell_type": "code",
   "execution_count": 50,
   "id": "3068a4ea",
   "metadata": {},
   "outputs": [
    {
     "data": {
      "text/plain": [
       "0.2072444249920974"
      ]
     },
     "execution_count": 50,
     "metadata": {},
     "output_type": "execute_result"
    }
   ],
   "source": [
    "test_score=LL_rf.score(X_test, y_test)\n",
    "test_score#0.211"
   ]
  },
  {
   "cell_type": "code",
   "execution_count": 75,
   "id": "8f32ff17",
   "metadata": {},
   "outputs": [
    {
     "data": {
      "text/plain": [
       "0.46048542530227593"
      ]
     },
     "execution_count": 75,
     "metadata": {},
     "output_type": "execute_result"
    }
   ],
   "source": [
    "mae =mean_absolute_error(y_test, ypred)\n",
    "mae#0.461"
   ]
  },
  {
   "cell_type": "code",
   "execution_count": 76,
   "id": "8d10c842",
   "metadata": {},
   "outputs": [
    {
     "data": {
      "text/plain": [
       "0.7617972803090162"
      ]
     },
     "execution_count": 76,
     "metadata": {},
     "output_type": "execute_result"
    }
   ],
   "source": [
    "mse =mean_squared_error(y_test, ypred)\n",
    "mse#0.759"
   ]
  },
  {
   "cell_type": "code",
   "execution_count": 79,
   "id": "b07cc039",
   "metadata": {},
   "outputs": [
    {
     "data": {
      "text/plain": [
       "0.8728099909539396"
      ]
     },
     "execution_count": 79,
     "metadata": {},
     "output_type": "execute_result"
    }
   ],
   "source": [
    "rmse=np.sqrt(mse)\n",
    "rmse"
   ]
  },
  {
   "cell_type": "code",
   "execution_count": 80,
   "id": "c688fae3",
   "metadata": {},
   "outputs": [
    {
     "data": {
      "text/plain": [
       "1.2444181812827744"
      ]
     },
     "execution_count": 80,
     "metadata": {},
     "output_type": "execute_result"
    }
   ],
   "source": [
    "mape =mean_absolute_percentage_error(y_test, ypred)\n",
    "mape"
   ]
  },
  {
   "cell_type": "code",
   "execution_count": 81,
   "id": "6dd76264",
   "metadata": {},
   "outputs": [],
   "source": [
    "from sklearn.pipeline import Pipeline"
   ]
  },
  {
   "cell_type": "code",
   "execution_count": 82,
   "id": "7aa4105f",
   "metadata": {
    "scrolled": false
   },
   "outputs": [
    {
     "name": "stdout",
     "output_type": "stream",
     "text": [
      "Hourly_Counts                0.187436\n",
      "hour                         0.180582\n",
      "traffic                      0.105293\n",
      "busDensity                   0.092924\n",
      "date                         0.078904\n",
      "min_temp                     0.049419\n",
      "Population density 2021      0.028487\n",
      "House perc                   0.027180\n",
      "Office perc                  0.025474\n",
      "raod_intersection_density    0.024713\n",
      "mxi                          0.023166\n",
      "entropy                      0.017305\n",
      "Shops perc                   0.016591\n",
      "tramDensity                  0.016551\n",
      "bike_intersection_density    0.015037\n",
      "bike_street_density          0.014495\n",
      "raod_street_density          0.013844\n",
      "car owner %                  0.013020\n",
      "Cafe perc                    0.010782\n",
      "50-64 %                      0.009704\n",
      "above65 %                    0.009282\n",
      "5-14 %                       0.008954\n",
      "rainfall                     0.008669\n",
      "male%                        0.005079\n",
      "trainDensity                 0.003676\n",
      "no_childern Sa1              0.002600\n",
      "with no u 15 children sa1    0.002175\n",
      "female%                      0.001605\n",
      "30-39 %                      0.001554\n",
      "40-49 %                      0.001539\n",
      "with u 15 children sa1       0.001534\n",
      "15-29 %                      0.001431\n",
      "recreationCount              0.000840\n",
      "campusCount                  0.000155\n",
      "dtype: float64\n"
     ]
    }
   ],
   "source": [
    "feature_list=list(X.columns)\n",
    "feature_importance = pd.Series(LL_rf.feature_importances_, index=feature_list).sort_values(ascending=False)\n",
    "print(feature_importance)"
   ]
  },
  {
   "cell_type": "code",
   "execution_count": null,
   "id": "5ac8a60c",
   "metadata": {},
   "outputs": [],
   "source": [
    "#parameter tuning"
   ]
  },
  {
   "cell_type": "code",
   "execution_count": 42,
   "id": "18f89f1c",
   "metadata": {},
   "outputs": [],
   "source": [
    "from sklearn.model_selection import GridSearchCV"
   ]
  },
  {
   "cell_type": "code",
   "execution_count": 69,
   "id": "353e72c6",
   "metadata": {},
   "outputs": [],
   "source": [
    "param_grid={\n",
    "    'bootstrap': [True],\n",
    "    'max_depth': [12,18,19],\n",
    "    'max_features': [19,20,21],\n",
    "    'min_samples_leaf': [13,14,15],\n",
    "    'min_samples_split': [33,34,35],\n",
    "    'n_estimators': [800]\n",
    "}"
   ]
  },
  {
   "cell_type": "code",
   "execution_count": 70,
   "id": "fe45e991",
   "metadata": {},
   "outputs": [],
   "source": [
    "rf = RandomForestRegressor()"
   ]
  },
  {
   "cell_type": "code",
   "execution_count": 71,
   "id": "ccc94cfd",
   "metadata": {},
   "outputs": [],
   "source": [
    "grid_search = GridSearchCV(estimator = rf, param_grid = param_grid, cv = 5, n_jobs = -1, verbose = 2)"
   ]
  },
  {
   "cell_type": "code",
   "execution_count": 67,
   "id": "84d411b4",
   "metadata": {},
   "outputs": [
    {
     "name": "stdout",
     "output_type": "stream",
     "text": [
      "Fitting 5 folds for each of 81 candidates, totalling 405 fits\n"
     ]
    },
    {
     "data": {
      "text/plain": [
       "GridSearchCV(cv=5, estimator=RandomForestRegressor(), n_jobs=-1,\n",
       "             param_grid={'bootstrap': [True], 'max_depth': [12, 15, 17],\n",
       "                         'max_features': [19, 20, 21],\n",
       "                         'min_samples_leaf': [15, 16, 18],\n",
       "                         'min_samples_split': [33, 34, 35],\n",
       "                         'n_estimators': [800]},\n",
       "             verbose=2)"
      ]
     },
     "execution_count": 67,
     "metadata": {},
     "output_type": "execute_result"
    }
   ],
   "source": [
    "grid_search.fit(X_train, y_train)"
   ]
  },
  {
   "cell_type": "code",
   "execution_count": null,
   "id": "e5f26980",
   "metadata": {},
   "outputs": [],
   "source": [
    "#tune results"
   ]
  },
  {
   "cell_type": "code",
   "execution_count": 45,
   "id": "205c81c7",
   "metadata": {},
   "outputs": [
    {
     "data": {
      "text/plain": [
       "{'bootstrap': True,\n",
       " 'max_depth': 20,\n",
       " 'max_features': 20,\n",
       " 'min_samples_leaf': 16,\n",
       " 'min_samples_split': 33,\n",
       " 'n_estimators': 800}"
      ]
     },
     "execution_count": 45,
     "metadata": {},
     "output_type": "execute_result"
    }
   ],
   "source": [
    "grid_search.best_params_ "
   ]
  },
  {
   "cell_type": "code",
   "execution_count": 56,
   "id": "f3f51c96",
   "metadata": {},
   "outputs": [
    {
     "data": {
      "text/plain": [
       "{'bootstrap': True,\n",
       " 'max_depth': 15,\n",
       " 'max_features': 20,\n",
       " 'min_samples_leaf': 16,\n",
       " 'min_samples_split': 34,\n",
       " 'n_estimators': 800}"
      ]
     },
     "execution_count": 56,
     "metadata": {},
     "output_type": "execute_result"
    }
   ],
   "source": [
    "grid_search.best_params_ "
   ]
  },
  {
   "cell_type": "code",
   "execution_count": 68,
   "id": "90a6b84b",
   "metadata": {},
   "outputs": [
    {
     "data": {
      "text/plain": [
       "{'bootstrap': True,\n",
       " 'max_depth': 17,\n",
       " 'max_features': 20,\n",
       " 'min_samples_leaf': 15,\n",
       " 'min_samples_split': 33,\n",
       " 'n_estimators': 800}"
      ]
     },
     "execution_count": 68,
     "metadata": {},
     "output_type": "execute_result"
    }
   ],
   "source": [
    "grid_search.best_params_ "
   ]
  },
  {
   "cell_type": "code",
   "execution_count": null,
   "id": "5b55a3e9",
   "metadata": {},
   "outputs": [],
   "source": []
  }
 ],
 "metadata": {
  "kernelspec": {
   "display_name": "Python 3 (ipykernel)",
   "language": "python",
   "name": "python3"
  },
  "language_info": {
   "codemirror_mode": {
    "name": "ipython",
    "version": 3
   },
   "file_extension": ".py",
   "mimetype": "text/x-python",
   "name": "python",
   "nbconvert_exporter": "python",
   "pygments_lexer": "ipython3",
   "version": "3.7.13"
  }
 },
 "nbformat": 4,
 "nbformat_minor": 5
}
