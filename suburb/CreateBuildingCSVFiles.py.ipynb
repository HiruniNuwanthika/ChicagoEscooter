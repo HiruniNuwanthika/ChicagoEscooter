{
 "cells": [
  {
   "cell_type": "code",
   "execution_count": 1,
   "id": "29b7d4cf",
   "metadata": {},
   "outputs": [],
   "source": [
    "import pandas as pd"
   ]
  },
  {
   "cell_type": "code",
   "execution_count": 2,
   "id": "573eb17c",
   "metadata": {},
   "outputs": [],
   "source": [
    "df= pd.read_csv(r'C:\\Melbourne_Escooter\\Melbourne-Buildings\\buildings.csv')"
   ]
  },
  {
   "cell_type": "code",
   "execution_count": 3,
   "id": "b43e2681",
   "metadata": {},
   "outputs": [
    {
     "data": {
      "text/html": [
       "<div>\n",
       "<style scoped>\n",
       "    .dataframe tbody tr th:only-of-type {\n",
       "        vertical-align: middle;\n",
       "    }\n",
       "\n",
       "    .dataframe tbody tr th {\n",
       "        vertical-align: top;\n",
       "    }\n",
       "\n",
       "    .dataframe thead th {\n",
       "        text-align: right;\n",
       "    }\n",
       "</style>\n",
       "<table border=\"1\" class=\"dataframe\">\n",
       "  <thead>\n",
       "    <tr style=\"text-align: right;\">\n",
       "      <th></th>\n",
       "      <th>Census year</th>\n",
       "      <th>Block ID</th>\n",
       "      <th>Property ID</th>\n",
       "      <th>Base property ID</th>\n",
       "      <th>Building name</th>\n",
       "      <th>Street address</th>\n",
       "      <th>CLUE small area</th>\n",
       "      <th>Construction year</th>\n",
       "      <th>Refurbished year</th>\n",
       "      <th>Number of floors (above ground)</th>\n",
       "      <th>Predominant space use</th>\n",
       "      <th>Accessibility type</th>\n",
       "      <th>Accessibility type description</th>\n",
       "      <th>Accessibility rating</th>\n",
       "      <th>Bicycle spaces</th>\n",
       "      <th>Has showers</th>\n",
       "      <th>x coordinate</th>\n",
       "      <th>y coordinate</th>\n",
       "      <th>Location</th>\n",
       "    </tr>\n",
       "  </thead>\n",
       "  <tbody>\n",
       "    <tr>\n",
       "      <th>0</th>\n",
       "      <td>2002</td>\n",
       "      <td>858</td>\n",
       "      <td>106736</td>\n",
       "      <td>106736</td>\n",
       "      <td>NaN</td>\n",
       "      <td>26-30 Mona Place SOUTH YARRA 3141</td>\n",
       "      <td>South Yarra</td>\n",
       "      <td>NaN</td>\n",
       "      <td>NaN</td>\n",
       "      <td>3.0</td>\n",
       "      <td>Residential Apartment</td>\n",
       "      <td>NaN</td>\n",
       "      <td>NaN</td>\n",
       "      <td>NaN</td>\n",
       "      <td>NaN</td>\n",
       "      <td>NaN</td>\n",
       "      <td>144.9857</td>\n",
       "      <td>-37.8366</td>\n",
       "      <td>POINT (144.9857 -37.8366)</td>\n",
       "    </tr>\n",
       "    <tr>\n",
       "      <th>1</th>\n",
       "      <td>2003</td>\n",
       "      <td>11</td>\n",
       "      <td>103991</td>\n",
       "      <td>103991</td>\n",
       "      <td>NaN</td>\n",
       "      <td>520-522 Flinders Street MELBOURNE 3000</td>\n",
       "      <td>Melbourne (CBD)</td>\n",
       "      <td>1910.0</td>\n",
       "      <td>NaN</td>\n",
       "      <td>2.0</td>\n",
       "      <td>Storage</td>\n",
       "      <td>NaN</td>\n",
       "      <td>NaN</td>\n",
       "      <td>NaN</td>\n",
       "      <td>NaN</td>\n",
       "      <td>NaN</td>\n",
       "      <td>144.9569</td>\n",
       "      <td>-37.8202</td>\n",
       "      <td>POINT (144.9569 -37.8202)</td>\n",
       "    </tr>\n",
       "    <tr>\n",
       "      <th>2</th>\n",
       "      <td>2003</td>\n",
       "      <td>16</td>\n",
       "      <td>104930</td>\n",
       "      <td>104930</td>\n",
       "      <td>MISTY</td>\n",
       "      <td>3-5 Hosier Lane MELBOURNE 3000</td>\n",
       "      <td>Melbourne (CBD)</td>\n",
       "      <td>1880.0</td>\n",
       "      <td>NaN</td>\n",
       "      <td>3.0</td>\n",
       "      <td>Office</td>\n",
       "      <td>NaN</td>\n",
       "      <td>NaN</td>\n",
       "      <td>NaN</td>\n",
       "      <td>NaN</td>\n",
       "      <td>NaN</td>\n",
       "      <td>144.9690</td>\n",
       "      <td>-37.8165</td>\n",
       "      <td>POINT (144.969 -37.8165)</td>\n",
       "    </tr>\n",
       "    <tr>\n",
       "      <th>3</th>\n",
       "      <td>2003</td>\n",
       "      <td>23</td>\n",
       "      <td>108063</td>\n",
       "      <td>108063</td>\n",
       "      <td>FEDSDA HOUSE</td>\n",
       "      <td>53-57 Queen Street MELBOURNE 3000</td>\n",
       "      <td>Melbourne (CBD)</td>\n",
       "      <td>1958.0</td>\n",
       "      <td>NaN</td>\n",
       "      <td>12.0</td>\n",
       "      <td>Office</td>\n",
       "      <td>NaN</td>\n",
       "      <td>NaN</td>\n",
       "      <td>NaN</td>\n",
       "      <td>NaN</td>\n",
       "      <td>NaN</td>\n",
       "      <td>144.9615</td>\n",
       "      <td>-37.8176</td>\n",
       "      <td>POINT (144.9615 -37.8176)</td>\n",
       "    </tr>\n",
       "    <tr>\n",
       "      <th>4</th>\n",
       "      <td>2003</td>\n",
       "      <td>35</td>\n",
       "      <td>105921</td>\n",
       "      <td>105921</td>\n",
       "      <td>NaN</td>\n",
       "      <td>271 Little Collins Street MELBOURNE 3000</td>\n",
       "      <td>Melbourne (CBD)</td>\n",
       "      <td>1901.0</td>\n",
       "      <td>NaN</td>\n",
       "      <td>2.0</td>\n",
       "      <td>Retail - Shop</td>\n",
       "      <td>NaN</td>\n",
       "      <td>NaN</td>\n",
       "      <td>NaN</td>\n",
       "      <td>NaN</td>\n",
       "      <td>NaN</td>\n",
       "      <td>144.9655</td>\n",
       "      <td>-37.8149</td>\n",
       "      <td>POINT (144.9655 -37.8149)</td>\n",
       "    </tr>\n",
       "  </tbody>\n",
       "</table>\n",
       "</div>"
      ],
      "text/plain": [
       "   Census year  Block ID  Property ID  Base property ID Building name  \\\n",
       "0         2002       858       106736            106736           NaN   \n",
       "1         2003        11       103991            103991           NaN   \n",
       "2         2003        16       104930            104930         MISTY   \n",
       "3         2003        23       108063            108063  FEDSDA HOUSE   \n",
       "4         2003        35       105921            105921           NaN   \n",
       "\n",
       "                             Street address  CLUE small area  \\\n",
       "0         26-30 Mona Place SOUTH YARRA 3141      South Yarra   \n",
       "1    520-522 Flinders Street MELBOURNE 3000  Melbourne (CBD)   \n",
       "2            3-5 Hosier Lane MELBOURNE 3000  Melbourne (CBD)   \n",
       "3         53-57 Queen Street MELBOURNE 3000  Melbourne (CBD)   \n",
       "4  271 Little Collins Street MELBOURNE 3000  Melbourne (CBD)   \n",
       "\n",
       "   Construction year  Refurbished year  Number of floors (above ground)  \\\n",
       "0                NaN               NaN                              3.0   \n",
       "1             1910.0               NaN                              2.0   \n",
       "2             1880.0               NaN                              3.0   \n",
       "3             1958.0               NaN                             12.0   \n",
       "4             1901.0               NaN                              2.0   \n",
       "\n",
       "   Predominant space use Accessibility type Accessibility type description  \\\n",
       "0  Residential Apartment                NaN                            NaN   \n",
       "1                Storage                NaN                            NaN   \n",
       "2                 Office                NaN                            NaN   \n",
       "3                 Office                NaN                            NaN   \n",
       "4          Retail - Shop                NaN                            NaN   \n",
       "\n",
       "   Accessibility rating  Bicycle spaces Has showers  x coordinate  \\\n",
       "0                   NaN             NaN         NaN      144.9857   \n",
       "1                   NaN             NaN         NaN      144.9569   \n",
       "2                   NaN             NaN         NaN      144.9690   \n",
       "3                   NaN             NaN         NaN      144.9615   \n",
       "4                   NaN             NaN         NaN      144.9655   \n",
       "\n",
       "   y coordinate                   Location  \n",
       "0      -37.8366  POINT (144.9857 -37.8366)  \n",
       "1      -37.8202  POINT (144.9569 -37.8202)  \n",
       "2      -37.8165   POINT (144.969 -37.8165)  \n",
       "3      -37.8176  POINT (144.9615 -37.8176)  \n",
       "4      -37.8149  POINT (144.9655 -37.8149)  "
      ]
     },
     "execution_count": 3,
     "metadata": {},
     "output_type": "execute_result"
    }
   ],
   "source": [
    "df.head(5)"
   ]
  },
  {
   "cell_type": "code",
   "execution_count": 4,
   "id": "57e23096",
   "metadata": {},
   "outputs": [],
   "source": [
    "df_new=df[df['Census year']==2020]"
   ]
  },
  {
   "cell_type": "markdown",
   "id": "fab1c89f",
   "metadata": {},
   "source": [
    "filter records of 2020"
   ]
  },
  {
   "cell_type": "code",
   "execution_count": 5,
   "id": "4e62a74c",
   "metadata": {},
   "outputs": [],
   "source": [
    "df_new_2020=df_new[['Block ID','Property ID','Predominant space use','x coordinate','y coordinate']]"
   ]
  },
  {
   "cell_type": "markdown",
   "id": "7e483e33",
   "metadata": {},
   "source": [
    "select necessary columns"
   ]
  },
  {
   "cell_type": "code",
   "execution_count": 6,
   "id": "ffc1016d",
   "metadata": {},
   "outputs": [
    {
     "data": {
      "text/html": [
       "<div>\n",
       "<style scoped>\n",
       "    .dataframe tbody tr th:only-of-type {\n",
       "        vertical-align: middle;\n",
       "    }\n",
       "\n",
       "    .dataframe tbody tr th {\n",
       "        vertical-align: top;\n",
       "    }\n",
       "\n",
       "    .dataframe thead th {\n",
       "        text-align: right;\n",
       "    }\n",
       "</style>\n",
       "<table border=\"1\" class=\"dataframe\">\n",
       "  <thead>\n",
       "    <tr style=\"text-align: right;\">\n",
       "      <th></th>\n",
       "      <th>Block ID</th>\n",
       "      <th>Property ID</th>\n",
       "      <th>Predominant space use</th>\n",
       "      <th>x coordinate</th>\n",
       "      <th>y coordinate</th>\n",
       "    </tr>\n",
       "  </thead>\n",
       "  <tbody>\n",
       "    <tr>\n",
       "      <th>190399</th>\n",
       "      <td>370</td>\n",
       "      <td>592684</td>\n",
       "      <td>House/Townhouse</td>\n",
       "      <td>144.9510</td>\n",
       "      <td>-37.8013</td>\n",
       "    </tr>\n",
       "    <tr>\n",
       "      <th>190842</th>\n",
       "      <td>2531</td>\n",
       "      <td>615616</td>\n",
       "      <td>House/Townhouse</td>\n",
       "      <td>144.9335</td>\n",
       "      <td>-37.7891</td>\n",
       "    </tr>\n",
       "    <tr>\n",
       "      <th>191970</th>\n",
       "      <td>2532</td>\n",
       "      <td>615588</td>\n",
       "      <td>House/Townhouse</td>\n",
       "      <td>144.9337</td>\n",
       "      <td>-37.7898</td>\n",
       "    </tr>\n",
       "    <tr>\n",
       "      <th>192207</th>\n",
       "      <td>2518</td>\n",
       "      <td>614612</td>\n",
       "      <td>House/Townhouse</td>\n",
       "      <td>144.9281</td>\n",
       "      <td>-37.7917</td>\n",
       "    </tr>\n",
       "    <tr>\n",
       "      <th>192261</th>\n",
       "      <td>2528</td>\n",
       "      <td>615965</td>\n",
       "      <td>House/Townhouse</td>\n",
       "      <td>144.9299</td>\n",
       "      <td>-37.7888</td>\n",
       "    </tr>\n",
       "  </tbody>\n",
       "</table>\n",
       "</div>"
      ],
      "text/plain": [
       "        Block ID  Property ID Predominant space use  x coordinate  \\\n",
       "190399       370       592684       House/Townhouse      144.9510   \n",
       "190842      2531       615616       House/Townhouse      144.9335   \n",
       "191970      2532       615588       House/Townhouse      144.9337   \n",
       "192207      2518       614612       House/Townhouse      144.9281   \n",
       "192261      2528       615965       House/Townhouse      144.9299   \n",
       "\n",
       "        y coordinate  \n",
       "190399      -37.8013  \n",
       "190842      -37.7891  \n",
       "191970      -37.7898  \n",
       "192207      -37.7917  \n",
       "192261      -37.7888  "
      ]
     },
     "execution_count": 6,
     "metadata": {},
     "output_type": "execute_result"
    }
   ],
   "source": [
    "df_new_2020.head()"
   ]
  },
  {
   "cell_type": "code",
   "execution_count": 7,
   "id": "9421c03e",
   "metadata": {},
   "outputs": [
    {
     "data": {
      "text/plain": [
       "array(['House/Townhouse', 'Unoccupied - Unused', 'Residential Apartment',\n",
       "       'Retail - Shop', 'Entertainment/Recreation - Indoor', 'Office',\n",
       "       'Workshop/Studio', 'Educational/Research',\n",
       "       'Performances, Conferences, Ceremonies',\n",
       "       'Commercial Accommodation', 'Student Accommodation',\n",
       "       'Equipment Installation', 'Storage', 'Hospital/Clinic',\n",
       "       'Community Use', 'Parking - Private Covered', 'Retail - Showroom',\n",
       "       'Wholesale', 'Public Display Area', 'Parking - Commercial Covered',\n",
       "       'Unoccupied - Under Construction', 'Manufacturing',\n",
       "       'Retail - Stall', 'Unoccupied - Under Renovation',\n",
       "       'Institutional Accommodation',\n",
       "       'Unoccupied - Under Demolition/Condemned', 'Retail - Cars',\n",
       "       'Transport'], dtype=object)"
      ]
     },
     "execution_count": 7,
     "metadata": {},
     "output_type": "execute_result"
    }
   ],
   "source": [
    "df_new_2020['Predominant space use'].unique()"
   ]
  },
  {
   "cell_type": "markdown",
   "id": "a1575af3",
   "metadata": {},
   "source": [
    "Check unique vlaues in building types"
   ]
  },
  {
   "cell_type": "markdown",
   "id": "ac44ec63",
   "metadata": {},
   "source": [
    "## apartment type  "
   ]
  },
  {
   "cell_type": "code",
   "execution_count": 32,
   "id": "cd487c04",
   "metadata": {},
   "outputs": [],
   "source": [
    "df_houses=df_new_2020[df_new_2020['Predominant space use'].isin(['House/Townhouse', 'Residential Apartment','Student Accommodation','Commercial Accommodation','Institutional Accommodation'])]"
   ]
  },
  {
   "cell_type": "markdown",
   "id": "e829481f",
   "metadata": {},
   "source": [
    "select apartment types"
   ]
  },
  {
   "cell_type": "code",
   "execution_count": 34,
   "id": "16c7a8f4",
   "metadata": {},
   "outputs": [],
   "source": [
    "df_houses.to_csv(r'C:\\Melbourne_Escooter\\Melbourne-Builings\\houses.csv')"
   ]
  },
  {
   "cell_type": "markdown",
   "id": "2fef8558",
   "metadata": {},
   "source": [
    "save apartment type records"
   ]
  },
  {
   "cell_type": "markdown",
   "id": "9f1f28c7",
   "metadata": {},
   "source": [
    "## office type "
   ]
  },
  {
   "cell_type": "code",
   "execution_count": 36,
   "id": "9c714863",
   "metadata": {},
   "outputs": [],
   "source": [
    "df_office=df_new_2020[df_new_2020['Predominant space use'].isin(['Office'])]"
   ]
  },
  {
   "cell_type": "code",
   "execution_count": 37,
   "id": "19964cf2",
   "metadata": {},
   "outputs": [],
   "source": [
    "df_office.to_csv(r'C:\\Melbourne_Escooter\\Melbourne-Builings\\offices.csv')"
   ]
  },
  {
   "cell_type": "markdown",
   "id": "e86e8cf3",
   "metadata": {},
   "source": [
    "## tram stops "
   ]
  },
  {
   "cell_type": "code",
   "execution_count": 8,
   "id": "70b47497",
   "metadata": {},
   "outputs": [],
   "source": [
    "import pandas as pd\n",
    "import json"
   ]
  },
  {
   "cell_type": "code",
   "execution_count": 40,
   "id": "65d1a90c",
   "metadata": {},
   "outputs": [],
   "source": [
    "with open(r'C:\\Melbourne_Escooter\\Melbourne-transport\\tram stops.json','r') as f:\n",
    "    data = json.loads(f.read())"
   ]
  },
  {
   "cell_type": "code",
   "execution_count": 47,
   "id": "29b5b658",
   "metadata": {},
   "outputs": [],
   "source": [
    "result=data['elements']"
   ]
  },
  {
   "cell_type": "code",
   "execution_count": 48,
   "id": "a63d2044",
   "metadata": {},
   "outputs": [],
   "source": [
    "df=pd.DataFrame(result)"
   ]
  },
  {
   "cell_type": "code",
   "execution_count": 52,
   "id": "883e687d",
   "metadata": {},
   "outputs": [
    {
     "data": {
      "text/html": [
       "<div>\n",
       "<style scoped>\n",
       "    .dataframe tbody tr th:only-of-type {\n",
       "        vertical-align: middle;\n",
       "    }\n",
       "\n",
       "    .dataframe tbody tr th {\n",
       "        vertical-align: top;\n",
       "    }\n",
       "\n",
       "    .dataframe thead th {\n",
       "        text-align: right;\n",
       "    }\n",
       "</style>\n",
       "<table border=\"1\" class=\"dataframe\">\n",
       "  <thead>\n",
       "    <tr style=\"text-align: right;\">\n",
       "      <th></th>\n",
       "      <th>type</th>\n",
       "      <th>id</th>\n",
       "      <th>lat</th>\n",
       "      <th>lon</th>\n",
       "      <th>tags</th>\n",
       "    </tr>\n",
       "  </thead>\n",
       "  <tbody>\n",
       "    <tr>\n",
       "      <th>0</th>\n",
       "      <td>node</td>\n",
       "      <td>122817630</td>\n",
       "      <td>-37.814613</td>\n",
       "      <td>144.946403</td>\n",
       "      <td>{'name': 'Stop D1: Stadium Precinct', 'network...</td>\n",
       "    </tr>\n",
       "    <tr>\n",
       "      <th>1</th>\n",
       "      <td>node</td>\n",
       "      <td>252587671</td>\n",
       "      <td>-37.824109</td>\n",
       "      <td>144.986794</td>\n",
       "      <td>{'name': 'Stop 7D: AAMI Park', 'network': 'PTV...</td>\n",
       "    </tr>\n",
       "    <tr>\n",
       "      <th>2</th>\n",
       "      <td>node</td>\n",
       "      <td>252588293</td>\n",
       "      <td>-37.818235</td>\n",
       "      <td>144.975980</td>\n",
       "      <td>{'name': 'Stop 7A: William Barak Bridge', 'net...</td>\n",
       "    </tr>\n",
       "    <tr>\n",
       "      <th>3</th>\n",
       "      <td>node</td>\n",
       "      <td>267328963</td>\n",
       "      <td>-37.855349</td>\n",
       "      <td>144.982505</td>\n",
       "      <td>{'bench': 'yes', 'name': 'Stop 30: St Kilda Ju...</td>\n",
       "    </tr>\n",
       "    <tr>\n",
       "      <th>4</th>\n",
       "      <td>node</td>\n",
       "      <td>272268719</td>\n",
       "      <td>-37.850406</td>\n",
       "      <td>145.095838</td>\n",
       "      <td>{'name': 'Stop 58: Warrigal Road', 'network': ...</td>\n",
       "    </tr>\n",
       "  </tbody>\n",
       "</table>\n",
       "</div>"
      ],
      "text/plain": [
       "   type         id        lat         lon  \\\n",
       "0  node  122817630 -37.814613  144.946403   \n",
       "1  node  252587671 -37.824109  144.986794   \n",
       "2  node  252588293 -37.818235  144.975980   \n",
       "3  node  267328963 -37.855349  144.982505   \n",
       "4  node  272268719 -37.850406  145.095838   \n",
       "\n",
       "                                                tags  \n",
       "0  {'name': 'Stop D1: Stadium Precinct', 'network...  \n",
       "1  {'name': 'Stop 7D: AAMI Park', 'network': 'PTV...  \n",
       "2  {'name': 'Stop 7A: William Barak Bridge', 'net...  \n",
       "3  {'bench': 'yes', 'name': 'Stop 30: St Kilda Ju...  \n",
       "4  {'name': 'Stop 58: Warrigal Road', 'network': ...  "
      ]
     },
     "execution_count": 52,
     "metadata": {},
     "output_type": "execute_result"
    }
   ],
   "source": [
    "df.head()"
   ]
  },
  {
   "cell_type": "code",
   "execution_count": 53,
   "id": "190d6ef0",
   "metadata": {},
   "outputs": [],
   "source": [
    "df_new=df[['id','lat','lon']]"
   ]
  },
  {
   "cell_type": "code",
   "execution_count": 55,
   "id": "d0d66a39",
   "metadata": {},
   "outputs": [],
   "source": [
    "df_new.to_csv(r'C:\\Melbourne_Escooter\\Melbourne-transport\\tram stops.csv')"
   ]
  },
  {
   "cell_type": "code",
   "execution_count": 57,
   "id": "60b7917b",
   "metadata": {},
   "outputs": [],
   "source": [
    "dd= pd.read_csv(r'C:\\Melbourne_Escooter\\Melbourne-transport\\tram stops.csv')"
   ]
  },
  {
   "cell_type": "markdown",
   "id": "95eb6694",
   "metadata": {},
   "source": [
    "## Shops "
   ]
  },
  {
   "cell_type": "code",
   "execution_count": 15,
   "id": "09b2c2d6",
   "metadata": {},
   "outputs": [],
   "source": [
    "with open(r'C:\\Melbourne_Escooter\\Melbourne-buildings\\shops.json', encoding=\"utf8\") as f:\n",
    "    data = json.load(f)"
   ]
  },
  {
   "cell_type": "code",
   "execution_count": 16,
   "id": "b635a0d3",
   "metadata": {},
   "outputs": [],
   "source": [
    "result=data['elements']"
   ]
  },
  {
   "cell_type": "code",
   "execution_count": 17,
   "id": "6f463c75",
   "metadata": {},
   "outputs": [],
   "source": [
    "df_shop=pd.DataFrame(result)"
   ]
  },
  {
   "cell_type": "code",
   "execution_count": 18,
   "id": "e34ee2cf",
   "metadata": {},
   "outputs": [
    {
     "data": {
      "text/html": [
       "<div>\n",
       "<style scoped>\n",
       "    .dataframe tbody tr th:only-of-type {\n",
       "        vertical-align: middle;\n",
       "    }\n",
       "\n",
       "    .dataframe tbody tr th {\n",
       "        vertical-align: top;\n",
       "    }\n",
       "\n",
       "    .dataframe thead th {\n",
       "        text-align: right;\n",
       "    }\n",
       "</style>\n",
       "<table border=\"1\" class=\"dataframe\">\n",
       "  <thead>\n",
       "    <tr style=\"text-align: right;\">\n",
       "      <th></th>\n",
       "      <th>type</th>\n",
       "      <th>id</th>\n",
       "      <th>lat</th>\n",
       "      <th>lon</th>\n",
       "      <th>tags</th>\n",
       "    </tr>\n",
       "  </thead>\n",
       "  <tbody>\n",
       "    <tr>\n",
       "      <th>0</th>\n",
       "      <td>node</td>\n",
       "      <td>174844923</td>\n",
       "      <td>-37.815685</td>\n",
       "      <td>144.964928</td>\n",
       "      <td>{'addr:city': 'Melbourne', 'addr:housenumber':...</td>\n",
       "    </tr>\n",
       "    <tr>\n",
       "      <th>1</th>\n",
       "      <td>node</td>\n",
       "      <td>222420863</td>\n",
       "      <td>-37.788987</td>\n",
       "      <td>144.976090</td>\n",
       "      <td>{'addr:city': 'Carlton North', 'addr:housenumb...</td>\n",
       "    </tr>\n",
       "    <tr>\n",
       "      <th>2</th>\n",
       "      <td>node</td>\n",
       "      <td>241033559</td>\n",
       "      <td>-37.787433</td>\n",
       "      <td>144.969456</td>\n",
       "      <td>{'addr:housenumber': '187', 'addr:postcode': '...</td>\n",
       "    </tr>\n",
       "    <tr>\n",
       "      <th>3</th>\n",
       "      <td>node</td>\n",
       "      <td>241367792</td>\n",
       "      <td>-37.780409</td>\n",
       "      <td>144.977907</td>\n",
       "      <td>{'addr:housenumber': '809', 'addr:street': 'Ni...</td>\n",
       "    </tr>\n",
       "    <tr>\n",
       "      <th>4</th>\n",
       "      <td>node</td>\n",
       "      <td>241367865</td>\n",
       "      <td>-37.782922</td>\n",
       "      <td>144.977814</td>\n",
       "      <td>{'addr:city': 'Fitzroy North', 'addr:country':...</td>\n",
       "    </tr>\n",
       "  </tbody>\n",
       "</table>\n",
       "</div>"
      ],
      "text/plain": [
       "   type         id        lat         lon  \\\n",
       "0  node  174844923 -37.815685  144.964928   \n",
       "1  node  222420863 -37.788987  144.976090   \n",
       "2  node  241033559 -37.787433  144.969456   \n",
       "3  node  241367792 -37.780409  144.977907   \n",
       "4  node  241367865 -37.782922  144.977814   \n",
       "\n",
       "                                                tags  \n",
       "0  {'addr:city': 'Melbourne', 'addr:housenumber':...  \n",
       "1  {'addr:city': 'Carlton North', 'addr:housenumb...  \n",
       "2  {'addr:housenumber': '187', 'addr:postcode': '...  \n",
       "3  {'addr:housenumber': '809', 'addr:street': 'Ni...  \n",
       "4  {'addr:city': 'Fitzroy North', 'addr:country':...  "
      ]
     },
     "execution_count": 18,
     "metadata": {},
     "output_type": "execute_result"
    }
   ],
   "source": [
    "df_shop.head()"
   ]
  },
  {
   "cell_type": "code",
   "execution_count": 19,
   "id": "88546337",
   "metadata": {},
   "outputs": [],
   "source": [
    "df_new_shop=df_shop[['id','lat','lon']]"
   ]
  },
  {
   "cell_type": "code",
   "execution_count": 20,
   "id": "6e7a72b8",
   "metadata": {},
   "outputs": [],
   "source": [
    "df_new_shop.to_csv(r'C:\\Melbourne_Escooter\\Melbourne-buildings\\shops.csv')"
   ]
  },
  {
   "cell_type": "markdown",
   "id": "616b60a3",
   "metadata": {},
   "source": [
    "## Restuarants"
   ]
  },
  {
   "cell_type": "code",
   "execution_count": 21,
   "id": "ff2b33f7",
   "metadata": {},
   "outputs": [],
   "source": [
    "with open(r'C:\\Melbourne_Escooter\\Melbourne-buildings\\restaurants.json', encoding=\"utf8\") as f:\n",
    "    data = json.load(f)"
   ]
  },
  {
   "cell_type": "code",
   "execution_count": 22,
   "id": "6ce8c4eb",
   "metadata": {},
   "outputs": [],
   "source": [
    "result=data['elements']"
   ]
  },
  {
   "cell_type": "code",
   "execution_count": 23,
   "id": "cb05c80f",
   "metadata": {},
   "outputs": [],
   "source": [
    "df_rest=pd.DataFrame(result)"
   ]
  },
  {
   "cell_type": "code",
   "execution_count": 24,
   "id": "99363131",
   "metadata": {},
   "outputs": [],
   "source": [
    "df_new_rest=df_rest[['id','lat','lon']]"
   ]
  },
  {
   "cell_type": "code",
   "execution_count": 25,
   "id": "e4d2159a",
   "metadata": {},
   "outputs": [],
   "source": [
    "df_new_rest.to_csv(r'C:\\Melbourne_Escooter\\Melbourne-buildings\\restaurants.csv')"
   ]
  },
  {
   "cell_type": "markdown",
   "id": "22fe3d69",
   "metadata": {},
   "source": [
    "## public transport stops "
   ]
  },
  {
   "cell_type": "code",
   "execution_count": 26,
   "id": "d1945e69",
   "metadata": {},
   "outputs": [],
   "source": [
    "with open(r'C:\\Melbourne_Escooter\\Melbourne-buildings\\publicTransport.json', encoding=\"utf8\") as f:\n",
    "    data = json.load(f)"
   ]
  },
  {
   "cell_type": "code",
   "execution_count": 27,
   "id": "3c615ad7",
   "metadata": {},
   "outputs": [],
   "source": [
    "result=data['elements']"
   ]
  },
  {
   "cell_type": "code",
   "execution_count": 29,
   "id": "9da1143f",
   "metadata": {},
   "outputs": [],
   "source": [
    "df_trans=pd.DataFrame(result)"
   ]
  },
  {
   "cell_type": "code",
   "execution_count": 30,
   "id": "29a95142",
   "metadata": {},
   "outputs": [],
   "source": [
    "df_new_trans=df_trans[['id','lat','lon']]"
   ]
  },
  {
   "cell_type": "code",
   "execution_count": 31,
   "id": "7832596f",
   "metadata": {},
   "outputs": [],
   "source": [
    "df_new_trans.to_csv(r'C:\\Melbourne_Escooter\\Melbourne-buildings\\publicTransport.csv')"
   ]
  },
  {
   "cell_type": "markdown",
   "id": "2cbfcfa0",
   "metadata": {},
   "source": [
    "## Recreation from Landmarks dataset (portal) "
   ]
  },
  {
   "cell_type": "code",
   "execution_count": 23,
   "id": "6540f575",
   "metadata": {},
   "outputs": [],
   "source": [
    "df=pd.read_csv(r'C:\\Melbourne_Escooter\\Melbourne-transport\\Landmarks_and_places_of_interest.csv')"
   ]
  },
  {
   "cell_type": "code",
   "execution_count": 24,
   "id": "0e5673d2",
   "metadata": {},
   "outputs": [
    {
     "data": {
      "text/html": [
       "<div>\n",
       "<style scoped>\n",
       "    .dataframe tbody tr th:only-of-type {\n",
       "        vertical-align: middle;\n",
       "    }\n",
       "\n",
       "    .dataframe tbody tr th {\n",
       "        vertical-align: top;\n",
       "    }\n",
       "\n",
       "    .dataframe thead th {\n",
       "        text-align: right;\n",
       "    }\n",
       "</style>\n",
       "<table border=\"1\" class=\"dataframe\">\n",
       "  <thead>\n",
       "    <tr style=\"text-align: right;\">\n",
       "      <th></th>\n",
       "      <th>Theme</th>\n",
       "      <th>Sub Theme</th>\n",
       "      <th>Feature Name</th>\n",
       "      <th>Co-ordinates</th>\n",
       "    </tr>\n",
       "  </thead>\n",
       "  <tbody>\n",
       "    <tr>\n",
       "      <th>0</th>\n",
       "      <td>Transport</td>\n",
       "      <td>Railway Station</td>\n",
       "      <td>Flemington Bridge Railway Station</td>\n",
       "      <td>(-37.7881645889621, 144.939277838304)</td>\n",
       "    </tr>\n",
       "    <tr>\n",
       "      <th>1</th>\n",
       "      <td>Mixed Use</td>\n",
       "      <td>Retail/Office/Carpark</td>\n",
       "      <td>Council House 2 (CH2)</td>\n",
       "      <td>(-37.8142591432011, 144.966638432727)</td>\n",
       "    </tr>\n",
       "    <tr>\n",
       "      <th>2</th>\n",
       "      <td>Place Of Assembly</td>\n",
       "      <td>Library</td>\n",
       "      <td>The Melbourne Athenaeum Library</td>\n",
       "      <td>(-37.8148855756416, 144.967291289941)</td>\n",
       "    </tr>\n",
       "    <tr>\n",
       "      <th>3</th>\n",
       "      <td>Leisure/Recreation</td>\n",
       "      <td>Informal Outdoor Facility (Park/Garden/Reserve)</td>\n",
       "      <td>Carlton Gardens South</td>\n",
       "      <td>(-37.8060684577258, 144.971266479841)</td>\n",
       "    </tr>\n",
       "    <tr>\n",
       "      <th>4</th>\n",
       "      <td>Place of Worship</td>\n",
       "      <td>Church</td>\n",
       "      <td>St Francis Church</td>\n",
       "      <td>(-37.8118847831837, 144.962422614541)</td>\n",
       "    </tr>\n",
       "  </tbody>\n",
       "</table>\n",
       "</div>"
      ],
      "text/plain": [
       "                Theme                                        Sub Theme  \\\n",
       "0           Transport                                  Railway Station   \n",
       "1           Mixed Use                            Retail/Office/Carpark   \n",
       "2   Place Of Assembly                                          Library   \n",
       "3  Leisure/Recreation  Informal Outdoor Facility (Park/Garden/Reserve)   \n",
       "4    Place of Worship                                           Church   \n",
       "\n",
       "                        Feature Name                           Co-ordinates  \n",
       "0  Flemington Bridge Railway Station  (-37.7881645889621, 144.939277838304)  \n",
       "1              Council House 2 (CH2)  (-37.8142591432011, 144.966638432727)  \n",
       "2    The Melbourne Athenaeum Library  (-37.8148855756416, 144.967291289941)  \n",
       "3              Carlton Gardens South  (-37.8060684577258, 144.971266479841)  \n",
       "4                  St Francis Church  (-37.8118847831837, 144.962422614541)  "
      ]
     },
     "execution_count": 24,
     "metadata": {},
     "output_type": "execute_result"
    }
   ],
   "source": [
    "df.head()"
   ]
  },
  {
   "cell_type": "code",
   "execution_count": 21,
   "id": "6aae7197",
   "metadata": {},
   "outputs": [
    {
     "data": {
      "text/plain": [
       "array(['Railway Station', 'Retail/Office/Carpark', 'Library',\n",
       "       'Informal Outdoor Facility (Park/Garden/Reserve)', 'Church',\n",
       "       'Private Hospital', 'Synagogue', 'Police Station',\n",
       "       'Visitor Centre', 'Major Sports & Recreation Facility',\n",
       "       'Transport Terminal', 'Private Sports Club/Facility', 'Cemetery',\n",
       "       'Retail', 'Primary Schools', 'Art Gallery/Museum',\n",
       "       'Secondary Schools', 'School - Primary and Secondary Education',\n",
       "       'Theatre Live', 'Tertiary (University)', 'Public Buildings',\n",
       "       'Retail/Office', 'Office', 'Government Building',\n",
       "       'Outdoor Recreation Facility (Zoo, Golf Course)',\n",
       "       'Function/Conference/Exhibition Centre',\n",
       "       'Vacant Land - Undeveloped Site', 'Casino', 'Public Hospital',\n",
       "       'Film & RV Studio', 'Current Construction Site', 'Marina',\n",
       "       'Observation Tower/Wheel', 'Further Education', 'Hostel',\n",
       "       'Current Construction Site - Commercial', 'Cinema',\n",
       "       'Indoor Recreation Facility', 'Dwelling (House)',\n",
       "       'Industrial (Manufacturing)', 'Store Yard', 'Fire Station',\n",
       "       'Retail/Office/Residential/Carpark', 'Gymnasium/Health Club',\n",
       "       'Aquarium', 'Retail/Residential', 'Bridge', 'Department Store',\n",
       "       'Medical Services'], dtype=object)"
      ]
     },
     "execution_count": 21,
     "metadata": {},
     "output_type": "execute_result"
    }
   ],
   "source": [
    "df['Sub Theme'].unique()"
   ]
  },
  {
   "cell_type": "code",
   "execution_count": 22,
   "id": "50a10edb",
   "metadata": {},
   "outputs": [
    {
     "data": {
      "text/plain": [
       "array(['Transport', 'Mixed Use', 'Place Of Assembly',\n",
       "       'Leisure/Recreation', 'Place of Worship', 'Health Services',\n",
       "       'Community Use', 'Retail', 'Education Centre', 'Office',\n",
       "       'Vacant Land', 'Purpose Built',\n",
       "       'Specialist Residential Accommodation',\n",
       "       'Residential Accommodation', 'Industrial', 'Warehouse/Store'],\n",
       "      dtype=object)"
      ]
     },
     "execution_count": 22,
     "metadata": {},
     "output_type": "execute_result"
    }
   ],
   "source": [
    "df['Theme'].unique()"
   ]
  },
  {
   "cell_type": "code",
   "execution_count": null,
   "id": "26aec381",
   "metadata": {},
   "outputs": [],
   "source": []
  },
  {
   "cell_type": "code",
   "execution_count": 27,
   "id": "2462a81e",
   "metadata": {},
   "outputs": [],
   "source": [
    "df_recreation=df[df['Theme'].isin(['Leisure/Recreation'])]"
   ]
  },
  {
   "cell_type": "code",
   "execution_count": 28,
   "id": "622afa9f",
   "metadata": {},
   "outputs": [],
   "source": [
    "df_recreation.to_csv(r'C:\\Melbourne_Escooter\\Melbourne-buildings\\recreation.csv')"
   ]
  },
  {
   "cell_type": "markdown",
   "id": "4eb9ff29",
   "metadata": {},
   "source": [
    "# Campus"
   ]
  },
  {
   "cell_type": "code",
   "execution_count": 30,
   "id": "6cc0ae2c",
   "metadata": {},
   "outputs": [],
   "source": [
    "df_campus=df[df['Sub Theme'].isin(['Tertiary (University)'])]"
   ]
  },
  {
   "cell_type": "code",
   "execution_count": 31,
   "id": "98ca762d",
   "metadata": {},
   "outputs": [
    {
     "data": {
      "text/html": [
       "<div>\n",
       "<style scoped>\n",
       "    .dataframe tbody tr th:only-of-type {\n",
       "        vertical-align: middle;\n",
       "    }\n",
       "\n",
       "    .dataframe tbody tr th {\n",
       "        vertical-align: top;\n",
       "    }\n",
       "\n",
       "    .dataframe thead th {\n",
       "        text-align: right;\n",
       "    }\n",
       "</style>\n",
       "<table border=\"1\" class=\"dataframe\">\n",
       "  <thead>\n",
       "    <tr style=\"text-align: right;\">\n",
       "      <th></th>\n",
       "      <th>Theme</th>\n",
       "      <th>Sub Theme</th>\n",
       "      <th>Feature Name</th>\n",
       "      <th>Co-ordinates</th>\n",
       "    </tr>\n",
       "  </thead>\n",
       "  <tbody>\n",
       "    <tr>\n",
       "      <th>57</th>\n",
       "      <td>Education Centre</td>\n",
       "      <td>Tertiary (University)</td>\n",
       "      <td>University of Melbourne (VCA and Music)</td>\n",
       "      <td>(-37.8241137662047, 144.96933253996)</td>\n",
       "    </tr>\n",
       "    <tr>\n",
       "      <th>183</th>\n",
       "      <td>Education Centre</td>\n",
       "      <td>Tertiary (University)</td>\n",
       "      <td>BIO 21 Institute</td>\n",
       "      <td>(-37.7978743305343, 144.953780325865)</td>\n",
       "    </tr>\n",
       "    <tr>\n",
       "      <th>196</th>\n",
       "      <td>Education Centre</td>\n",
       "      <td>Tertiary (University)</td>\n",
       "      <td>University of Melbourne</td>\n",
       "      <td>(-37.7982892284927, 144.96099520158)</td>\n",
       "    </tr>\n",
       "    <tr>\n",
       "      <th>199</th>\n",
       "      <td>Education Centre</td>\n",
       "      <td>Tertiary (University)</td>\n",
       "      <td>RMIT University</td>\n",
       "      <td>(-37.8080795360545, 144.964452974798)</td>\n",
       "    </tr>\n",
       "  </tbody>\n",
       "</table>\n",
       "</div>"
      ],
      "text/plain": [
       "                Theme              Sub Theme  \\\n",
       "57   Education Centre  Tertiary (University)   \n",
       "183  Education Centre  Tertiary (University)   \n",
       "196  Education Centre  Tertiary (University)   \n",
       "199  Education Centre  Tertiary (University)   \n",
       "\n",
       "                                Feature Name  \\\n",
       "57   University of Melbourne (VCA and Music)   \n",
       "183                         BIO 21 Institute   \n",
       "196                  University of Melbourne   \n",
       "199                          RMIT University   \n",
       "\n",
       "                              Co-ordinates  \n",
       "57    (-37.8241137662047, 144.96933253996)  \n",
       "183  (-37.7978743305343, 144.953780325865)  \n",
       "196   (-37.7982892284927, 144.96099520158)  \n",
       "199  (-37.8080795360545, 144.964452974798)  "
      ]
     },
     "execution_count": 31,
     "metadata": {},
     "output_type": "execute_result"
    }
   ],
   "source": [
    "df_campus"
   ]
  },
  {
   "cell_type": "code",
   "execution_count": 32,
   "id": "25e2d9ed",
   "metadata": {},
   "outputs": [],
   "source": [
    "df_campus.to_csv(r'C:\\Melbourne_Escooter\\Melbourne-buildings\\Campus\\campus.csv')"
   ]
  },
  {
   "cell_type": "markdown",
   "id": "18572402",
   "metadata": {},
   "source": [
    "## Cafe and Restaurant from Cafes and restaurants, with seating capacity dataset (portal) "
   ]
  },
  {
   "cell_type": "code",
   "execution_count": 10,
   "id": "6fa1fa8e",
   "metadata": {},
   "outputs": [],
   "source": [
    "df=pd.read_csv(r'C:\\Melbourne_Escooter\\Melbourne-buildings\\Cafes_and_restaurants.csv')"
   ]
  },
  {
   "cell_type": "code",
   "execution_count": 11,
   "id": "5ace0c7f",
   "metadata": {},
   "outputs": [
    {
     "data": {
      "text/html": [
       "<div>\n",
       "<style scoped>\n",
       "    .dataframe tbody tr th:only-of-type {\n",
       "        vertical-align: middle;\n",
       "    }\n",
       "\n",
       "    .dataframe tbody tr th {\n",
       "        vertical-align: top;\n",
       "    }\n",
       "\n",
       "    .dataframe thead th {\n",
       "        text-align: right;\n",
       "    }\n",
       "</style>\n",
       "<table border=\"1\" class=\"dataframe\">\n",
       "  <thead>\n",
       "    <tr style=\"text-align: right;\">\n",
       "      <th></th>\n",
       "      <th>Census year</th>\n",
       "      <th>Block ID</th>\n",
       "      <th>Property ID</th>\n",
       "      <th>Base property ID</th>\n",
       "      <th>Building address</th>\n",
       "      <th>CLUE small area</th>\n",
       "      <th>Business address</th>\n",
       "      <th>Industry (ANZSIC4) code</th>\n",
       "      <th>Industry (ANZSIC4) description</th>\n",
       "      <th>Seating type</th>\n",
       "      <th>Number of seats</th>\n",
       "      <th>x coordinate</th>\n",
       "      <th>y coordinate</th>\n",
       "      <th>Location</th>\n",
       "    </tr>\n",
       "  </thead>\n",
       "  <tbody>\n",
       "    <tr>\n",
       "      <th>0</th>\n",
       "      <td>2002</td>\n",
       "      <td>2</td>\n",
       "      <td>111467</td>\n",
       "      <td>103973</td>\n",
       "      <td>0 King Street MELBOURNE 3000</td>\n",
       "      <td>Melbourne (CBD)</td>\n",
       "      <td>469-479 King Street MELBOURNE 3000</td>\n",
       "      <td>8921</td>\n",
       "      <td>Zoological and Botanical Gardens Operation</td>\n",
       "      <td>Seats - Indoor</td>\n",
       "      <td>113</td>\n",
       "      <td>144.9595</td>\n",
       "      <td>-37.8206</td>\n",
       "      <td>POINT (144.9595 -37.8206)</td>\n",
       "    </tr>\n",
       "    <tr>\n",
       "      <th>1</th>\n",
       "      <td>2002</td>\n",
       "      <td>2</td>\n",
       "      <td>111467</td>\n",
       "      <td>103973</td>\n",
       "      <td>0 King Street MELBOURNE 3000</td>\n",
       "      <td>Melbourne (CBD)</td>\n",
       "      <td>469-479 King Street MELBOURNE 3000</td>\n",
       "      <td>8921</td>\n",
       "      <td>Zoological and Botanical Gardens Operation</td>\n",
       "      <td>Seats - Outdoor</td>\n",
       "      <td>38</td>\n",
       "      <td>144.9595</td>\n",
       "      <td>-37.8206</td>\n",
       "      <td>POINT (144.9595 -37.8206)</td>\n",
       "    </tr>\n",
       "    <tr>\n",
       "      <th>2</th>\n",
       "      <td>2002</td>\n",
       "      <td>4</td>\n",
       "      <td>103972</td>\n",
       "      <td>103972</td>\n",
       "      <td>363-397 Flinders Street MELBOURNE 3000</td>\n",
       "      <td>Melbourne (CBD)</td>\n",
       "      <td>Vault 12, 387 Flinders Street MELBOURNE 3000</td>\n",
       "      <td>9539</td>\n",
       "      <td>Other Personal Services n.e.c.</td>\n",
       "      <td>Seats - Indoor</td>\n",
       "      <td>15</td>\n",
       "      <td>144.9623</td>\n",
       "      <td>-37.8195</td>\n",
       "      <td>POINT (144.9623 -37.8195)</td>\n",
       "    </tr>\n",
       "    <tr>\n",
       "      <th>3</th>\n",
       "      <td>2002</td>\n",
       "      <td>4</td>\n",
       "      <td>103972</td>\n",
       "      <td>103972</td>\n",
       "      <td>363-397 Flinders Street MELBOURNE 3000</td>\n",
       "      <td>Melbourne (CBD)</td>\n",
       "      <td>Vault 1, 363-367 Flinders Street MELBOURNE 3000</td>\n",
       "      <td>9111</td>\n",
       "      <td>Health and Fitness Centres and Gymnasia Operation</td>\n",
       "      <td>Seats - Indoor</td>\n",
       "      <td>20</td>\n",
       "      <td>144.9623</td>\n",
       "      <td>-37.8195</td>\n",
       "      <td>POINT (144.9623 -37.8195)</td>\n",
       "    </tr>\n",
       "    <tr>\n",
       "      <th>4</th>\n",
       "      <td>2002</td>\n",
       "      <td>4</td>\n",
       "      <td>103972</td>\n",
       "      <td>103972</td>\n",
       "      <td>363-397 Flinders Street MELBOURNE 3000</td>\n",
       "      <td>Melbourne (CBD)</td>\n",
       "      <td>Vault 1, 363-367 Flinders Street MELBOURNE 3000</td>\n",
       "      <td>9111</td>\n",
       "      <td>Health and Fitness Centres and Gymnasia Operation</td>\n",
       "      <td>Seats - Outdoor</td>\n",
       "      <td>18</td>\n",
       "      <td>144.9623</td>\n",
       "      <td>-37.8195</td>\n",
       "      <td>POINT (144.9623 -37.8195)</td>\n",
       "    </tr>\n",
       "  </tbody>\n",
       "</table>\n",
       "</div>"
      ],
      "text/plain": [
       "   Census year  Block ID  Property ID  Base property ID  \\\n",
       "0         2002         2       111467            103973   \n",
       "1         2002         2       111467            103973   \n",
       "2         2002         4       103972            103972   \n",
       "3         2002         4       103972            103972   \n",
       "4         2002         4       103972            103972   \n",
       "\n",
       "                         Building address  CLUE small area  \\\n",
       "0            0 King Street MELBOURNE 3000  Melbourne (CBD)   \n",
       "1            0 King Street MELBOURNE 3000  Melbourne (CBD)   \n",
       "2  363-397 Flinders Street MELBOURNE 3000  Melbourne (CBD)   \n",
       "3  363-397 Flinders Street MELBOURNE 3000  Melbourne (CBD)   \n",
       "4  363-397 Flinders Street MELBOURNE 3000  Melbourne (CBD)   \n",
       "\n",
       "                                  Business address  Industry (ANZSIC4) code  \\\n",
       "0               469-479 King Street MELBOURNE 3000                     8921   \n",
       "1               469-479 King Street MELBOURNE 3000                     8921   \n",
       "2     Vault 12, 387 Flinders Street MELBOURNE 3000                     9539   \n",
       "3  Vault 1, 363-367 Flinders Street MELBOURNE 3000                     9111   \n",
       "4  Vault 1, 363-367 Flinders Street MELBOURNE 3000                     9111   \n",
       "\n",
       "                      Industry (ANZSIC4) description     Seating type  \\\n",
       "0         Zoological and Botanical Gardens Operation   Seats - Indoor   \n",
       "1         Zoological and Botanical Gardens Operation  Seats - Outdoor   \n",
       "2                     Other Personal Services n.e.c.   Seats - Indoor   \n",
       "3  Health and Fitness Centres and Gymnasia Operation   Seats - Indoor   \n",
       "4  Health and Fitness Centres and Gymnasia Operation  Seats - Outdoor   \n",
       "\n",
       "   Number of seats  x coordinate  y coordinate                   Location  \n",
       "0              113      144.9595      -37.8206  POINT (144.9595 -37.8206)  \n",
       "1               38      144.9595      -37.8206  POINT (144.9595 -37.8206)  \n",
       "2               15      144.9623      -37.8195  POINT (144.9623 -37.8195)  \n",
       "3               20      144.9623      -37.8195  POINT (144.9623 -37.8195)  \n",
       "4               18      144.9623      -37.8195  POINT (144.9623 -37.8195)  "
      ]
     },
     "execution_count": 11,
     "metadata": {},
     "output_type": "execute_result"
    }
   ],
   "source": [
    "df.head()"
   ]
  },
  {
   "cell_type": "code",
   "execution_count": 18,
   "id": "c5bd5a23",
   "metadata": {},
   "outputs": [],
   "source": [
    "df_new=df[df['Census year']==2020]"
   ]
  },
  {
   "cell_type": "code",
   "execution_count": 19,
   "id": "3055e373",
   "metadata": {},
   "outputs": [
    {
     "data": {
      "text/plain": [
       "array(['Cafes and Restaurants', 'Takeaway Food Services',\n",
       "       'Zoological and Botanical Gardens Operation',\n",
       "       'Other Specialised Food Retailing', 'Pubs, Taverns and Bars',\n",
       "       'Non-Residential Property Operators',\n",
       "       'Bakery Product Manufacturing (Non-factory based)',\n",
       "       'Accommodation', 'Clubs (Hospitality)',\n",
       "       'Other Interest Group Services n.e.c.',\n",
       "       'Newspaper and Book Retailing',\n",
       "       'Sports and Physical Recreation Venues, Grounds and Facilities Operation',\n",
       "       'Health and Fitness Centres and Gymnasia Operation',\n",
       "       'Performing Arts Operation', 'Catering Services',\n",
       "       'Performing Arts Venue Operation',\n",
       "       'Other Store-Based Retailing n.e.c.',\n",
       "       'Amusement and Other Recreational Activities n.e.c.',\n",
       "       'Motion Picture Exhibition',\n",
       "       'Automotive Body, Paint and Interior Repair',\n",
       "       'Other Gambling Activities',\n",
       "       'Horse and Dog Racing Administration and Track Operation',\n",
       "       'Religious Services', 'Supermarket and Grocery Stores',\n",
       "       'Flower Retailing', 'Other Personal Services n.e.c.',\n",
       "       'Other Food Product Manufacturing n.e.c.', 'Car Retailing',\n",
       "       'Casino Operation', 'Other Administrative Services n.e.c.',\n",
       "       'Fruit and Vegetable Retailing',\n",
       "       'Telecommunication Goods Wholesaling'], dtype=object)"
      ]
     },
     "execution_count": 19,
     "metadata": {},
     "output_type": "execute_result"
    }
   ],
   "source": [
    "df_new['Industry (ANZSIC4) description'].unique()"
   ]
  },
  {
   "cell_type": "code",
   "execution_count": 20,
   "id": "f84fad4e",
   "metadata": {},
   "outputs": [],
   "source": [
    "df_cafe=df_new[df_new['Industry (ANZSIC4) description'].isin(['Cafes and Restaurants','Pubs, Taverns and Bars','Takeaway Food Services','Supermarket and Grocery Stores'])]"
   ]
  },
  {
   "cell_type": "code",
   "execution_count": 22,
   "id": "5e89938a",
   "metadata": {},
   "outputs": [],
   "source": [
    "df_cafe.to_csv(r'C:\\Melbourne_Escooter\\Melbourne-buildings\\cafe.csv')"
   ]
  },
  {
   "cell_type": "code",
   "execution_count": 23,
   "id": "7bd0a6e7",
   "metadata": {},
   "outputs": [
    {
     "data": {
      "text/plain": [
       "Census year                       3082\n",
       "Block ID                          3082\n",
       "Property ID                       3082\n",
       "Base property ID                  3082\n",
       "Building address                  3082\n",
       "CLUE small area                   3082\n",
       "Business address                  3082\n",
       "Industry (ANZSIC4) code           3082\n",
       "Industry (ANZSIC4) description    3082\n",
       "Seating type                      3082\n",
       "Number of seats                   3082\n",
       "x coordinate                      3082\n",
       "y coordinate                      3082\n",
       "Location                          3082\n",
       "dtype: int64"
      ]
     },
     "execution_count": 23,
     "metadata": {},
     "output_type": "execute_result"
    }
   ],
   "source": [
    "df_cafe.count()"
   ]
  },
  {
   "cell_type": "markdown",
   "id": "4aa1f7b8",
   "metadata": {},
   "source": [
    "# Shops"
   ]
  },
  {
   "cell_type": "code",
   "execution_count": 8,
   "id": "babe450d",
   "metadata": {},
   "outputs": [],
   "source": [
    "df= pd.read_csv(r'C:\\Melbourne_Escooter\\Melbourne-Buildings\\buildings.csv')"
   ]
  },
  {
   "cell_type": "code",
   "execution_count": 9,
   "id": "19283de6",
   "metadata": {},
   "outputs": [],
   "source": [
    "df_new=df[df['Census year']==2020]"
   ]
  },
  {
   "cell_type": "code",
   "execution_count": 13,
   "id": "c0915e67",
   "metadata": {},
   "outputs": [],
   "source": [
    "df_shops=df_new_2020[df_new_2020['Predominant space use'].isin(['Retail - Shop'])]"
   ]
  },
  {
   "cell_type": "code",
   "execution_count": 15,
   "id": "823b0890",
   "metadata": {},
   "outputs": [],
   "source": [
    "df_shops.to_csv(r'C:\\Melbourne_Escooter\\Melbourne-buildings\\shops.csv',index=False)"
   ]
  },
  {
   "cell_type": "markdown",
   "id": "1b780953",
   "metadata": {},
   "source": [
    "# Hospitals"
   ]
  },
  {
   "cell_type": "code",
   "execution_count": 16,
   "id": "533af965",
   "metadata": {},
   "outputs": [],
   "source": [
    "df_hospital=df_new_2020[df_new_2020['Predominant space use'].isin(['Hospital/Clinic'])]"
   ]
  },
  {
   "cell_type": "code",
   "execution_count": 17,
   "id": "a458bab5",
   "metadata": {},
   "outputs": [],
   "source": [
    "df_hospital.to_csv(r'C:\\Melbourne_Escooter\\Melbourne-buildings\\hospital.csv',index=False)"
   ]
  },
  {
   "cell_type": "code",
   "execution_count": null,
   "id": "a55becbf",
   "metadata": {},
   "outputs": [],
   "source": []
  }
 ],
 "metadata": {
  "kernelspec": {
   "display_name": "Python 3 (ipykernel)",
   "language": "python",
   "name": "python3"
  },
  "language_info": {
   "codemirror_mode": {
    "name": "ipython",
    "version": 3
   },
   "file_extension": ".py",
   "mimetype": "text/x-python",
   "name": "python",
   "nbconvert_exporter": "python",
   "pygments_lexer": "ipython3",
   "version": "3.7.13"
  }
 },
 "nbformat": 4,
 "nbformat_minor": 5
}
