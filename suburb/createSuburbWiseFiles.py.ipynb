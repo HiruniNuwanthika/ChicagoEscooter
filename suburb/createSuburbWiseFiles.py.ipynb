{
 "cells": [
  {
   "cell_type": "code",
   "execution_count": 1,
   "id": "04dbcbf9",
   "metadata": {},
   "outputs": [],
   "source": [
    "import pandas as pd"
   ]
  },
  {
   "cell_type": "code",
   "execution_count": 2,
   "id": "907868fe",
   "metadata": {},
   "outputs": [],
   "source": [
    "df=pd.read_csv(r'C:\\Melbourne_Escooter\\RealDataset\\FinalResults\\SuburbWise\\August\\start\\1day_e1WithSuburb.csv')"
   ]
  },
  {
   "cell_type": "code",
   "execution_count": 3,
   "id": "5e1e6614",
   "metadata": {},
   "outputs": [
    {
     "data": {
      "text/plain": [
       "array(['Melbourne', 'Southbank', 'North Melbourne', 'Port Melbourne',\n",
       "       'St Kilda', 'Balaclava', 'Fitzroy North', 'East Melbourne',\n",
       "       'Docklands', 'South Wharf', 'Burnley', 'Fitzroy', 'Brunswick',\n",
       "       'Carlton', 'Richmond', 'Carlton North', 'West Melbourne',\n",
       "       'Collingwood', 'Clifton Hill', 'Abbotsford', 'St Kilda East',\n",
       "       'South Melbourne', 'Brunswick East', 'Fairfield', 'Parkville',\n",
       "       'Elwood', 'South Yarra', 'Prahran', 'Albert Park', 'Cremorne',\n",
       "       'Kensington', 'St Kilda West', 'Princes Hill'], dtype=object)"
      ]
     },
     "execution_count": 3,
     "metadata": {},
     "output_type": "execute_result"
    }
   ],
   "source": [
    "unique_values=df['suburb'].unique()\n",
    "unique_values"
   ]
  },
  {
   "cell_type": "code",
   "execution_count": 4,
   "id": "12108f00",
   "metadata": {},
   "outputs": [],
   "source": [
    "source_file=r'C:\\Melbourne_Escooter\\RealDataset\\FinalResults\\SuburbWise\\August\\start\\1day_e1WithSuburb.csv'\n",
    "df=pd.read_csv(source_file)\n",
    "target_file_remove=f\"{source_file.split('start')[1]}\"\n",
    "unique_values=df['suburb'].unique()\n",
    "for label in unique_values:\n",
    "    target_file =f\"{source_file.replace(target_file_remove, '')}\\day1\\e1\\{label}.csv\"\n",
    "    #target_file =f\"{source_file.replace('.csv', '')}_{label}.csv\"\n",
    "    df_label = df[df['suburb'] == label]\n",
    "    df_label.to_csv(target_file, index=False, header=True, mode='a')"
   ]
  },
  {
   "cell_type": "code",
   "execution_count": 14,
   "id": "00b03314",
   "metadata": {},
   "outputs": [],
   "source": [
    "def createSuburubwiseStartFiles(day,part):\n",
    "    source_file=r'C:\\Melbourne_Escooter\\RealDataset\\FinalResults\\SuburbWise\\August\\start\\{}day_{}WithSuburb.csv'.format(day,part)\n",
    "    df=pd.read_csv(source_file)\n",
    "    target_file_remove=f\"{source_file.split('start')[1]}\"\n",
    "    unique_values=df['suburb'].unique()\n",
    "    for label in unique_values:\n",
    "        target_file =f\"{source_file.replace(target_file_remove, '')}\\day{day}\\{part}\\{label}.csv\"\n",
    "        #target_file =f\"{source_file.replace('.csv', '')}_{label}.csv\"\n",
    "        df_label = df[df['suburb'] == label].format(day,part)\n",
    "        df_label.to_csv(target_file, index=False, header=True, mode='a')"
   ]
  },
  {
   "cell_type": "code",
   "execution_count": 17,
   "id": "77d1b3ad",
   "metadata": {},
   "outputs": [],
   "source": [
    "part_list=['m1','m2','e1','e2','n1','n2']\n",
    "for part in part_list:\n",
    "    createSuburubwiseStartFiles(7,part)"
   ]
  },
  {
   "cell_type": "code",
   "execution_count": null,
   "id": "5c71bb4d",
   "metadata": {},
   "outputs": [],
   "source": [
    "def createSuburubwiseStopFiles(day,part):\n",
    "    source_file=r'C:\\Melbourne_Escooter\\RealDataset\\FinalResults\\SuburbWise\\August\\stop\\{}day_{}WithSuburb.csv'.format(day,part)\n",
    "    df=pd.read_csv(source_file)\n",
    "    target_file_remove=f\"{source_file.split('stop')[1]}\"\n",
    "    unique_values=df['suburb'].unique()\n",
    "    for label in unique_values:\n",
    "        target_file =f\"{source_file.replace(target_file_remove, '')}\\day{day}\\{part}\\{label}.csv\"\n",
    "        #target_file =f\"{source_file.replace('.csv', '')}_{label}.csv\"\n",
    "        df_label = df[df['suburb'] == label]\n",
    "        df_label.to_csv(target_file, index=False, header=True, mode='a')"
   ]
  },
  {
   "cell_type": "code",
   "execution_count": 6,
   "id": "b0f3ed64",
   "metadata": {},
   "outputs": [],
   "source": [
    "part_list=['m1','m2','e1','e2','n1','n2']\n",
    "for part in part_list:\n",
    "    createSuburubwiseStopFiles(7,part)"
   ]
  },
  {
   "cell_type": "code",
   "execution_count": 3,
   "id": "bf7363e5",
   "metadata": {},
   "outputs": [],
   "source": [
    "def createSuburubwiseHouseFiles(part):\n",
    "    source_file=r'C:\\Melbourne_Escooter\\Melbourne-buildings\\housesWithSuburb{}.csv'.format(part)\n",
    "    df=pd.read_csv(source_file)\n",
    "    target_file_remove=f\"{source_file.split('Melbourne-buildings')[1]}\"\n",
    "    unique_values=df['suburb'].unique()\n",
    "    for label in unique_values:\n",
    "        target_file =f\"{source_file.replace(target_file_remove, '')}\\house\\{label}.csv\"\n",
    "        #target_file =f\"{source_file.replace('.csv', '')}_{label}.csv\"\n",
    "        df_label = df[df['suburb'] == label]\n",
    "        df_label.to_csv(target_file, index=False, header=True, mode='a')"
   ]
  },
  {
   "cell_type": "code",
   "execution_count": 13,
   "id": "1f8a5f00",
   "metadata": {},
   "outputs": [],
   "source": [
    "createSuburubwiseHouseFiles(10)"
   ]
  },
  {
   "cell_type": "code",
   "execution_count": 14,
   "id": "89f422b8",
   "metadata": {},
   "outputs": [],
   "source": [
    "def createSuburubwiseOfficesFiles(part):\n",
    "    source_file=r'C:\\Melbourne_Escooter\\Melbourne-buildings\\office\\officesWithSuburb{}.csv'.format(part)\n",
    "    df=pd.read_csv(source_file)\n",
    "    target_file_remove=f\"{source_file.split('Melbourne-buildings')[1]}\"\n",
    "    unique_values=df['suburb'].unique()\n",
    "    for label in unique_values:\n",
    "        target_file =f\"{source_file.replace(target_file_remove, '')}\\office\\SuburbWise\\{label}.csv\"\n",
    "        #target_file =f\"{source_file.replace('.csv', '')}_{label}.csv\"\n",
    "        df_label = df[df['suburb'] == label]\n",
    "        df_label.to_csv(target_file, index=False, header=True, mode='a')"
   ]
  },
  {
   "cell_type": "code",
   "execution_count": 16,
   "id": "001ca243",
   "metadata": {},
   "outputs": [],
   "source": [
    "createSuburubwiseOfficesFiles(2)"
   ]
  },
  {
   "cell_type": "code",
   "execution_count": 4,
   "id": "2a849862",
   "metadata": {},
   "outputs": [],
   "source": [
    "def createSuburubwiseTramsFiles():\n",
    "    source_file=r'C:\\Melbourne_Escooter\\Melbourne-transport\\Trams\\tramStopsWithSuburb.csv'\n",
    "    df=pd.read_csv(source_file)\n",
    "    target_file_remove=f\"{source_file.split('Trams')[1]}\"\n",
    "    unique_values=df['suburb'].unique()\n",
    "    for label in unique_values:\n",
    "        target_file =f\"{source_file.replace(target_file_remove, '')}\\Suburbwise\\{label}.csv\"\n",
    "        #target_file =f\"{source_file.replace('.csv', '')}_{label}.csv\"\n",
    "        df_label = df[df['suburb'] == label]\n",
    "        df_label.to_csv(target_file, index=False, header=True, mode='a')"
   ]
  },
  {
   "cell_type": "code",
   "execution_count": 5,
   "id": "531563a6",
   "metadata": {},
   "outputs": [],
   "source": [
    "createSuburubwiseTramsFiles()"
   ]
  },
  {
   "cell_type": "code",
   "execution_count": 4,
   "id": "1fe2c9c4",
   "metadata": {},
   "outputs": [],
   "source": [
    "def createSuburubwiseCafeFiles():\n",
    "    source_file=r'C:\\Melbourne_Escooter\\Melbourne-buildings\\Cafe\\cafeWithSuburb.csv'\n",
    "    df=pd.read_csv(source_file)\n",
    "    target_file_remove=f\"{source_file.split('Cafe')[1]}\"\n",
    "    unique_values=df['suburb'].unique()\n",
    "    for label in unique_values:\n",
    "        target_file =f\"{source_file.replace(target_file_remove, '')}\\Suburb wise\\{label}.csv\"\n",
    "        #target_file =f\"{source_file.replace('.csv', '')}_{label}.csv\"\n",
    "        df_label = df[df['suburb'] == label]\n",
    "        df_label.to_csv(target_file, index=False, header=True, mode='a')"
   ]
  },
  {
   "cell_type": "code",
   "execution_count": 5,
   "id": "e2225058",
   "metadata": {},
   "outputs": [],
   "source": [
    "createSuburubwiseCafeFiles()"
   ]
  },
  {
   "cell_type": "code",
   "execution_count": 2,
   "id": "062f408e",
   "metadata": {},
   "outputs": [],
   "source": [
    "def createSuburubwiseRecreationFiles():\n",
    "    source_file=r'C:\\Melbourne_Escooter\\Melbourne-buildings\\Recreation\\recreationsWithSuburb.csv'\n",
    "    df=pd.read_csv(source_file)\n",
    "    target_file_remove=f\"{source_file.split('Recreation')[1]}\"\n",
    "    unique_values=df['suburb'].unique()\n",
    "    for label in unique_values:\n",
    "        target_file =f\"{source_file.replace(target_file_remove, '')}\\Suburb wise\\{label}.csv\"\n",
    "        #target_file =f\"{source_file.replace('.csv', '')}_{label}.csv\"\n",
    "        df_label = df[df['suburb'] == label]\n",
    "        df_label.to_csv(target_file, index=False, header=True, mode='a')"
   ]
  },
  {
   "cell_type": "code",
   "execution_count": 3,
   "id": "4b37f881",
   "metadata": {},
   "outputs": [],
   "source": [
    "createSuburubwiseRecreationFiles()"
   ]
  },
  {
   "cell_type": "code",
   "execution_count": 1,
   "id": "63212571",
   "metadata": {},
   "outputs": [],
   "source": [
    "def createSuburubwiseTrainStopFiles():\n",
    "    source_file=r'C:\\Melbourne_Escooter\\Melbourne-transport\\Trainstops\\trainstopsWithSuburb.csv'\n",
    "    df=pd.read_csv(source_file)\n",
    "    target_file_remove=f\"{source_file.split('Trainstops')[1]}\"\n",
    "    unique_values=df['suburb'].unique()\n",
    "    for label in unique_values:\n",
    "        target_file =f\"{source_file.replace(target_file_remove, '')}\\Suburb wise\\{label}.csv\"\n",
    "        #target_file =f\"{source_file.replace('.csv', '')}_{label}.csv\"\n",
    "        df_label = df[df['suburb'] == label]\n",
    "        df_label.to_csv(target_file, index=False, header=True, mode='a')"
   ]
  },
  {
   "cell_type": "code",
   "execution_count": 5,
   "id": "12ea5778",
   "metadata": {},
   "outputs": [],
   "source": [
    "createSuburubwiseTrainStopFiles()"
   ]
  },
  {
   "cell_type": "code",
   "execution_count": 8,
   "id": "449058cf",
   "metadata": {},
   "outputs": [],
   "source": [
    "def createSuburubwiseBusStopsFiles():\n",
    "    source_file=r'C:\\Melbourne_Escooter\\Melbourne-transport\\Bus Stops\\BusStopsWithSuburb.csv'\n",
    "    df=pd.read_csv(source_file)\n",
    "    target_file_remove=f\"{source_file.split('Bus Stops')[1]}\"\n",
    "    unique_values=df['suburb'].unique()\n",
    "    for label in unique_values:\n",
    "        target_file =f\"{source_file.replace(target_file_remove, '')}\\Suburb wise\\{label}.csv\"\n",
    "        #target_file =f\"{source_file.replace('.csv', '')}_{label}.csv\"\n",
    "        df_label = df[df['suburb'] == label]\n",
    "        df_label.to_csv(target_file, index=False, header=True, mode='a')"
   ]
  },
  {
   "cell_type": "code",
   "execution_count": 9,
   "id": "2ad6ed70",
   "metadata": {},
   "outputs": [],
   "source": [
    "createSuburubwiseBusStopsFiles()"
   ]
  },
  {
   "cell_type": "code",
   "execution_count": 5,
   "id": "9f4d7683",
   "metadata": {},
   "outputs": [],
   "source": [
    "def createSuburubwiseShopsFiles():\n",
    "    source_file=r'C:\\Melbourne_Escooter\\Melbourne-buildings\\Shops\\shopsWithSuburb.csv'\n",
    "    df=pd.read_csv(source_file)\n",
    "    target_file_remove=f\"{source_file.split('Shops')[1]}\"\n",
    "    unique_values=df['suburb'].unique()\n",
    "    for label in unique_values:\n",
    "        target_file =f\"{source_file.replace(target_file_remove, '')}\\Suburb wise\\{label}.csv\"\n",
    "        #target_file =f\"{source_file.replace('.csv', '')}_{label}.csv\"\n",
    "        df_label = df[df['suburb'] == label]\n",
    "        df_label.to_csv(target_file, index=False, header=True, mode='a')"
   ]
  },
  {
   "cell_type": "code",
   "execution_count": 6,
   "id": "1548ff6a",
   "metadata": {},
   "outputs": [],
   "source": [
    "createSuburubwiseShopsFiles()"
   ]
  },
  {
   "cell_type": "code",
   "execution_count": 7,
   "id": "9b691d48",
   "metadata": {},
   "outputs": [],
   "source": [
    "def createSuburubwiseCampus():\n",
    "    source_file=r'C:\\Melbourne_Escooter\\Melbourne-buildings\\Campus\\campusWithSuburb.csv'\n",
    "    df=pd.read_csv(source_file)\n",
    "    target_file_remove=f\"{source_file.split('Campus')[1]}\"\n",
    "    unique_values=df['suburb'].unique()\n",
    "    for label in unique_values:\n",
    "        target_file =f\"{source_file.replace(target_file_remove, '')}\\Suburb wise\\{label}.csv\"\n",
    "        #target_file =f\"{source_file.replace('.csv', '')}_{label}.csv\"\n",
    "        df_label = df[df['suburb'] == label]\n",
    "        df_label.to_csv(target_file, index=False, header=True, mode='a')"
   ]
  },
  {
   "cell_type": "code",
   "execution_count": 10,
   "id": "546c4dc6",
   "metadata": {},
   "outputs": [],
   "source": [
    "createSuburubwiseCampus()"
   ]
  },
  {
   "cell_type": "code",
   "execution_count": 15,
   "id": "25bc1bfd",
   "metadata": {},
   "outputs": [],
   "source": [
    "def createSuburubwiseHospital():\n",
    "    source_file=r'C:\\Melbourne_Escooter\\Melbourne-buildings\\Hospital\\hospitalsWithSuburb.csv'\n",
    "    df=pd.read_csv(source_file)\n",
    "    target_file_remove=f\"{source_file.split('Hospital')[1]}\"\n",
    "    unique_values=df['suburb'].unique()\n",
    "    for label in unique_values:\n",
    "        target_file =f\"{source_file.replace(target_file_remove, '')}\\Suburb wise\\{label}.csv\"\n",
    "        #target_file =f\"{source_file.replace('.csv', '')}_{label}.csv\"\n",
    "        df_label = df[df['suburb'] == label]\n",
    "        df_label.to_csv(target_file, index=False, header=True, mode='a')"
   ]
  },
  {
   "cell_type": "code",
   "execution_count": 16,
   "id": "2dbb77d0",
   "metadata": {},
   "outputs": [],
   "source": [
    "createSuburubwiseHospital()"
   ]
  },
  {
   "cell_type": "code",
   "execution_count": null,
   "id": "30b26189",
   "metadata": {},
   "outputs": [],
   "source": []
  }
 ],
 "metadata": {
  "kernelspec": {
   "display_name": "geo_env",
   "language": "python",
   "name": "geo_env"
  },
  "language_info": {
   "codemirror_mode": {
    "name": "ipython",
    "version": 3
   },
   "file_extension": ".py",
   "mimetype": "text/x-python",
   "name": "python",
   "nbconvert_exporter": "python",
   "pygments_lexer": "ipython3",
   "version": "3.10.5"
  }
 },
 "nbformat": 4,
 "nbformat_minor": 5
}
