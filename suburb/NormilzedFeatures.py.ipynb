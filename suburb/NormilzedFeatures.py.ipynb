{
 "cells": [
  {
   "cell_type": "markdown",
   "id": "90be3b51",
   "metadata": {},
   "source": [
    "## Tram stop count "
   ]
  },
  {
   "cell_type": "code",
   "execution_count": 2,
   "id": "6d6d91f8",
   "metadata": {},
   "outputs": [],
   "source": [
    "import pandas as pd"
   ]
  },
  {
   "cell_type": "code",
   "execution_count": 2,
   "id": "050d83a8",
   "metadata": {},
   "outputs": [],
   "source": [
    "df_tram=pd.read_csv(r'C:\\Melbourne_Escooter\\Melbourne-transport\\Trams\\__suburbWiseCount.csv')"
   ]
  },
  {
   "cell_type": "code",
   "execution_count": 3,
   "id": "9f1c6346",
   "metadata": {},
   "outputs": [
    {
     "data": {
      "text/html": [
       "<div>\n",
       "<style scoped>\n",
       "    .dataframe tbody tr th:only-of-type {\n",
       "        vertical-align: middle;\n",
       "    }\n",
       "\n",
       "    .dataframe tbody tr th {\n",
       "        vertical-align: top;\n",
       "    }\n",
       "\n",
       "    .dataframe thead th {\n",
       "        text-align: right;\n",
       "    }\n",
       "</style>\n",
       "<table border=\"1\" class=\"dataframe\">\n",
       "  <thead>\n",
       "    <tr style=\"text-align: right;\">\n",
       "      <th></th>\n",
       "      <th>suburb</th>\n",
       "      <th>tram stop count</th>\n",
       "    </tr>\n",
       "  </thead>\n",
       "  <tbody>\n",
       "    <tr>\n",
       "      <th>0</th>\n",
       "      <td>Abbotsford</td>\n",
       "      <td>12</td>\n",
       "    </tr>\n",
       "    <tr>\n",
       "      <th>1</th>\n",
       "      <td>Airport West</td>\n",
       "      <td>11</td>\n",
       "    </tr>\n",
       "    <tr>\n",
       "      <th>2</th>\n",
       "      <td>Albert Park</td>\n",
       "      <td>20</td>\n",
       "    </tr>\n",
       "    <tr>\n",
       "      <th>3</th>\n",
       "      <td>Armadale</td>\n",
       "      <td>28</td>\n",
       "    </tr>\n",
       "    <tr>\n",
       "      <th>4</th>\n",
       "      <td>Ascot Vale</td>\n",
       "      <td>25</td>\n",
       "    </tr>\n",
       "  </tbody>\n",
       "</table>\n",
       "</div>"
      ],
      "text/plain": [
       "         suburb  tram stop count\n",
       "0    Abbotsford               12\n",
       "1  Airport West               11\n",
       "2   Albert Park               20\n",
       "3      Armadale               28\n",
       "4    Ascot Vale               25"
      ]
     },
     "execution_count": 3,
     "metadata": {},
     "output_type": "execute_result"
    }
   ],
   "source": [
    "df_tram.head()"
   ]
  },
  {
   "cell_type": "code",
   "execution_count": 4,
   "id": "80267d9a",
   "metadata": {},
   "outputs": [],
   "source": [
    "area=pd.read_csv(r'C:\\Melbourne_Escooter\\Melbourne-population\\population.csv')"
   ]
  },
  {
   "cell_type": "code",
   "execution_count": 5,
   "id": "7ab9fe36",
   "metadata": {},
   "outputs": [
    {
     "data": {
      "text/html": [
       "<div>\n",
       "<style scoped>\n",
       "    .dataframe tbody tr th:only-of-type {\n",
       "        vertical-align: middle;\n",
       "    }\n",
       "\n",
       "    .dataframe tbody tr th {\n",
       "        vertical-align: top;\n",
       "    }\n",
       "\n",
       "    .dataframe thead th {\n",
       "        text-align: right;\n",
       "    }\n",
       "</style>\n",
       "<table border=\"1\" class=\"dataframe\">\n",
       "  <thead>\n",
       "    <tr style=\"text-align: right;\">\n",
       "      <th></th>\n",
       "      <th>SA2 name</th>\n",
       "      <th>2021</th>\n",
       "      <th>Area</th>\n",
       "      <th>Population density 2021</th>\n",
       "    </tr>\n",
       "  </thead>\n",
       "  <tbody>\n",
       "    <tr>\n",
       "      <th>0</th>\n",
       "      <td>Abbotsford</td>\n",
       "      <td>9262</td>\n",
       "      <td>1.7</td>\n",
       "      <td>5321.5</td>\n",
       "    </tr>\n",
       "    <tr>\n",
       "      <th>1</th>\n",
       "      <td>Airport West</td>\n",
       "      <td>8237</td>\n",
       "      <td>3.7</td>\n",
       "      <td>2214.6</td>\n",
       "    </tr>\n",
       "    <tr>\n",
       "      <th>2</th>\n",
       "      <td>Albert Park</td>\n",
       "      <td>16023</td>\n",
       "      <td>4.7</td>\n",
       "      <td>3427.6</td>\n",
       "    </tr>\n",
       "    <tr>\n",
       "      <th>3</th>\n",
       "      <td>Alexandra</td>\n",
       "      <td>6768</td>\n",
       "      <td>2119.0</td>\n",
       "      <td>3.2</td>\n",
       "    </tr>\n",
       "    <tr>\n",
       "      <th>4</th>\n",
       "      <td>Alfredton</td>\n",
       "      <td>16823</td>\n",
       "      <td>52.7</td>\n",
       "      <td>319.2</td>\n",
       "    </tr>\n",
       "  </tbody>\n",
       "</table>\n",
       "</div>"
      ],
      "text/plain": [
       "       SA2 name   2021    Area  Population density 2021\n",
       "0    Abbotsford   9262     1.7                   5321.5\n",
       "1  Airport West   8237     3.7                   2214.6\n",
       "2   Albert Park  16023     4.7                   3427.6\n",
       "3     Alexandra   6768  2119.0                      3.2\n",
       "4     Alfredton  16823    52.7                    319.2"
      ]
     },
     "execution_count": 5,
     "metadata": {},
     "output_type": "execute_result"
    }
   ],
   "source": [
    "area.head()"
   ]
  },
  {
   "cell_type": "code",
   "execution_count": 6,
   "id": "bd86c6f2",
   "metadata": {},
   "outputs": [],
   "source": [
    "tram_area=pd.merge(df_tram, area[['SA2 name','Area']], left_on='suburb', right_on='SA2 name' )"
   ]
  },
  {
   "cell_type": "code",
   "execution_count": 7,
   "id": "b1266de8",
   "metadata": {},
   "outputs": [
    {
     "data": {
      "text/html": [
       "<div>\n",
       "<style scoped>\n",
       "    .dataframe tbody tr th:only-of-type {\n",
       "        vertical-align: middle;\n",
       "    }\n",
       "\n",
       "    .dataframe tbody tr th {\n",
       "        vertical-align: top;\n",
       "    }\n",
       "\n",
       "    .dataframe thead th {\n",
       "        text-align: right;\n",
       "    }\n",
       "</style>\n",
       "<table border=\"1\" class=\"dataframe\">\n",
       "  <thead>\n",
       "    <tr style=\"text-align: right;\">\n",
       "      <th></th>\n",
       "      <th>suburb</th>\n",
       "      <th>tram stop count</th>\n",
       "      <th>SA2 name</th>\n",
       "      <th>Area</th>\n",
       "    </tr>\n",
       "  </thead>\n",
       "  <tbody>\n",
       "    <tr>\n",
       "      <th>0</th>\n",
       "      <td>Abbotsford</td>\n",
       "      <td>12</td>\n",
       "      <td>Abbotsford</td>\n",
       "      <td>1.7</td>\n",
       "    </tr>\n",
       "    <tr>\n",
       "      <th>1</th>\n",
       "      <td>Airport West</td>\n",
       "      <td>11</td>\n",
       "      <td>Airport West</td>\n",
       "      <td>3.7</td>\n",
       "    </tr>\n",
       "    <tr>\n",
       "      <th>2</th>\n",
       "      <td>Albert Park</td>\n",
       "      <td>20</td>\n",
       "      <td>Albert Park</td>\n",
       "      <td>4.7</td>\n",
       "    </tr>\n",
       "    <tr>\n",
       "      <th>3</th>\n",
       "      <td>Armadale</td>\n",
       "      <td>28</td>\n",
       "      <td>Armadale</td>\n",
       "      <td>2.2</td>\n",
       "    </tr>\n",
       "    <tr>\n",
       "      <th>4</th>\n",
       "      <td>Ascot Vale</td>\n",
       "      <td>25</td>\n",
       "      <td>Ascot Vale</td>\n",
       "      <td>3.8</td>\n",
       "    </tr>\n",
       "  </tbody>\n",
       "</table>\n",
       "</div>"
      ],
      "text/plain": [
       "         suburb  tram stop count      SA2 name  Area\n",
       "0    Abbotsford               12    Abbotsford   1.7\n",
       "1  Airport West               11  Airport West   3.7\n",
       "2   Albert Park               20   Albert Park   4.7\n",
       "3      Armadale               28      Armadale   2.2\n",
       "4    Ascot Vale               25    Ascot Vale   3.8"
      ]
     },
     "execution_count": 7,
     "metadata": {},
     "output_type": "execute_result"
    }
   ],
   "source": [
    "tram_area.head()"
   ]
  },
  {
   "cell_type": "code",
   "execution_count": 8,
   "id": "c5fafe92",
   "metadata": {},
   "outputs": [],
   "source": [
    "tram_area['norm_tramStops']=tram_area['tram stop count']/tram_area['Area']"
   ]
  },
  {
   "cell_type": "code",
   "execution_count": 9,
   "id": "1663d617",
   "metadata": {},
   "outputs": [],
   "source": [
    "df_new=tram_area[['suburb','norm_tramStops']]"
   ]
  },
  {
   "cell_type": "code",
   "execution_count": 10,
   "id": "3505bad7",
   "metadata": {},
   "outputs": [],
   "source": [
    "df_new.to_csv(r'C:\\Melbourne_Escooter\\RealDataset\\FinalResults\\SuburbWise_Normalized\\Tram Stops\\normalizedTramStopCount.csv',index=False)"
   ]
  },
  {
   "cell_type": "markdown",
   "id": "96364535",
   "metadata": {},
   "source": [
    "## Recreation Count "
   ]
  },
  {
   "cell_type": "code",
   "execution_count": 11,
   "id": "4fd52ae4",
   "metadata": {},
   "outputs": [],
   "source": [
    "df_recrea=pd.read_csv(r'C:\\Melbourne_Escooter\\Melbourne-buildings\\Recreation\\__suburbWiseCount.csv')"
   ]
  },
  {
   "cell_type": "code",
   "execution_count": 12,
   "id": "9f46cb14",
   "metadata": {},
   "outputs": [
    {
     "data": {
      "text/html": [
       "<div>\n",
       "<style scoped>\n",
       "    .dataframe tbody tr th:only-of-type {\n",
       "        vertical-align: middle;\n",
       "    }\n",
       "\n",
       "    .dataframe tbody tr th {\n",
       "        vertical-align: top;\n",
       "    }\n",
       "\n",
       "    .dataframe thead th {\n",
       "        text-align: right;\n",
       "    }\n",
       "</style>\n",
       "<table border=\"1\" class=\"dataframe\">\n",
       "  <thead>\n",
       "    <tr style=\"text-align: right;\">\n",
       "      <th></th>\n",
       "      <th>suburb</th>\n",
       "      <th>count</th>\n",
       "    </tr>\n",
       "  </thead>\n",
       "  <tbody>\n",
       "    <tr>\n",
       "      <th>0</th>\n",
       "      <td>Carlton North</td>\n",
       "      <td>3</td>\n",
       "    </tr>\n",
       "    <tr>\n",
       "      <th>1</th>\n",
       "      <td>Carlton</td>\n",
       "      <td>8</td>\n",
       "    </tr>\n",
       "    <tr>\n",
       "      <th>2</th>\n",
       "      <td>Docklands</td>\n",
       "      <td>7</td>\n",
       "    </tr>\n",
       "    <tr>\n",
       "      <th>3</th>\n",
       "      <td>East Melbourne</td>\n",
       "      <td>8</td>\n",
       "    </tr>\n",
       "    <tr>\n",
       "      <th>4</th>\n",
       "      <td>Flemington</td>\n",
       "      <td>2</td>\n",
       "    </tr>\n",
       "  </tbody>\n",
       "</table>\n",
       "</div>"
      ],
      "text/plain": [
       "           suburb  count\n",
       "0   Carlton North      3\n",
       "1         Carlton      8\n",
       "2       Docklands      7\n",
       "3  East Melbourne      8\n",
       "4      Flemington      2"
      ]
     },
     "execution_count": 12,
     "metadata": {},
     "output_type": "execute_result"
    }
   ],
   "source": [
    "df_recrea.head()"
   ]
  },
  {
   "cell_type": "code",
   "execution_count": null,
   "id": "a93b459b",
   "metadata": {},
   "outputs": [],
   "source": [
    "area=pd.read_csv(r'C:\\Melbourne_Escooter\\Melbourne-population\\population.csv')"
   ]
  },
  {
   "cell_type": "code",
   "execution_count": 13,
   "id": "d3beacdb",
   "metadata": {},
   "outputs": [],
   "source": [
    "recrea_area=pd.merge(df_recrea, area[['SA2 name','Area']], left_on='suburb', right_on='SA2 name' )"
   ]
  },
  {
   "cell_type": "code",
   "execution_count": 14,
   "id": "cab80199",
   "metadata": {},
   "outputs": [],
   "source": [
    "recrea_area['norm_recreations']=recrea_area['count']/recrea_area['Area']"
   ]
  },
  {
   "cell_type": "code",
   "execution_count": 15,
   "id": "e1c87097",
   "metadata": {},
   "outputs": [],
   "source": [
    "df_new=recrea_area[['suburb','norm_recreations']]"
   ]
  },
  {
   "cell_type": "code",
   "execution_count": 16,
   "id": "c0ced064",
   "metadata": {},
   "outputs": [],
   "source": [
    "df_new.to_csv(r'C:\\Melbourne_Escooter\\RealDataset\\FinalResults\\SuburbWise_Normalized\\Recreation\\normalizedRecreationsCount.csv',index=False)"
   ]
  },
  {
   "cell_type": "markdown",
   "id": "fab31cce",
   "metadata": {},
   "source": [
    "## Office Count "
   ]
  },
  {
   "cell_type": "code",
   "execution_count": 17,
   "id": "a69f61dd",
   "metadata": {},
   "outputs": [],
   "source": [
    "df_office=pd.read_csv(r'C:\\Melbourne_Escooter\\Melbourne-buildings\\office\\__suburbWiseCount.csv')"
   ]
  },
  {
   "cell_type": "code",
   "execution_count": 18,
   "id": "dc3b618d",
   "metadata": {},
   "outputs": [
    {
     "data": {
      "text/html": [
       "<div>\n",
       "<style scoped>\n",
       "    .dataframe tbody tr th:only-of-type {\n",
       "        vertical-align: middle;\n",
       "    }\n",
       "\n",
       "    .dataframe tbody tr th {\n",
       "        vertical-align: top;\n",
       "    }\n",
       "\n",
       "    .dataframe thead th {\n",
       "        text-align: right;\n",
       "    }\n",
       "</style>\n",
       "<table border=\"1\" class=\"dataframe\">\n",
       "  <thead>\n",
       "    <tr style=\"text-align: right;\">\n",
       "      <th></th>\n",
       "      <th>suburb</th>\n",
       "      <th>count</th>\n",
       "    </tr>\n",
       "  </thead>\n",
       "  <tbody>\n",
       "    <tr>\n",
       "      <th>0</th>\n",
       "      <td>Carlton North</td>\n",
       "      <td>1</td>\n",
       "    </tr>\n",
       "    <tr>\n",
       "      <th>1</th>\n",
       "      <td>Carlton</td>\n",
       "      <td>117</td>\n",
       "    </tr>\n",
       "    <tr>\n",
       "      <th>2</th>\n",
       "      <td>Docklands</td>\n",
       "      <td>40</td>\n",
       "    </tr>\n",
       "    <tr>\n",
       "      <th>3</th>\n",
       "      <td>East Melbourne</td>\n",
       "      <td>62</td>\n",
       "    </tr>\n",
       "    <tr>\n",
       "      <th>4</th>\n",
       "      <td>Flemington</td>\n",
       "      <td>3</td>\n",
       "    </tr>\n",
       "  </tbody>\n",
       "</table>\n",
       "</div>"
      ],
      "text/plain": [
       "           suburb  count\n",
       "0   Carlton North      1\n",
       "1         Carlton    117\n",
       "2       Docklands     40\n",
       "3  East Melbourne     62\n",
       "4      Flemington      3"
      ]
     },
     "execution_count": 18,
     "metadata": {},
     "output_type": "execute_result"
    }
   ],
   "source": [
    "df_office.head()"
   ]
  },
  {
   "cell_type": "code",
   "execution_count": 19,
   "id": "982683eb",
   "metadata": {},
   "outputs": [],
   "source": [
    "area=pd.read_csv(r'C:\\Melbourne_Escooter\\Melbourne-population\\population.csv')"
   ]
  },
  {
   "cell_type": "code",
   "execution_count": 20,
   "id": "73385dad",
   "metadata": {},
   "outputs": [],
   "source": [
    "office_area=pd.merge(df_office, area[['SA2 name','Area']], left_on='suburb', right_on='SA2 name' )"
   ]
  },
  {
   "cell_type": "code",
   "execution_count": 21,
   "id": "649ae3b2",
   "metadata": {},
   "outputs": [],
   "source": [
    "office_area['norm_offices']=office_area['count']/office_area['Area']"
   ]
  },
  {
   "cell_type": "code",
   "execution_count": 22,
   "id": "7dfcc62c",
   "metadata": {},
   "outputs": [],
   "source": [
    "df_new=office_area[['suburb','norm_offices']]"
   ]
  },
  {
   "cell_type": "code",
   "execution_count": 23,
   "id": "8579f331",
   "metadata": {},
   "outputs": [],
   "source": [
    "df_new.to_csv(r'C:\\Melbourne_Escooter\\RealDataset\\FinalResults\\SuburbWise_Normalized\\Office\\normalizedOfficesCount.csv',index=False)"
   ]
  },
  {
   "cell_type": "markdown",
   "id": "a61ccfae",
   "metadata": {},
   "source": [
    "## Cafe Count "
   ]
  },
  {
   "cell_type": "code",
   "execution_count": 24,
   "id": "4635e772",
   "metadata": {},
   "outputs": [],
   "source": [
    "df_cafe=pd.read_csv(r'C:\\Melbourne_Escooter\\Melbourne-buildings\\Cafe\\__suburbWiseCount.csv')"
   ]
  },
  {
   "cell_type": "code",
   "execution_count": 25,
   "id": "c6e060a2",
   "metadata": {},
   "outputs": [
    {
     "data": {
      "text/html": [
       "<div>\n",
       "<style scoped>\n",
       "    .dataframe tbody tr th:only-of-type {\n",
       "        vertical-align: middle;\n",
       "    }\n",
       "\n",
       "    .dataframe tbody tr th {\n",
       "        vertical-align: top;\n",
       "    }\n",
       "\n",
       "    .dataframe thead th {\n",
       "        text-align: right;\n",
       "    }\n",
       "</style>\n",
       "<table border=\"1\" class=\"dataframe\">\n",
       "  <thead>\n",
       "    <tr style=\"text-align: right;\">\n",
       "      <th></th>\n",
       "      <th>suburb</th>\n",
       "      <th>count</th>\n",
       "    </tr>\n",
       "  </thead>\n",
       "  <tbody>\n",
       "    <tr>\n",
       "      <th>0</th>\n",
       "      <td>Ascot Vale</td>\n",
       "      <td>10</td>\n",
       "    </tr>\n",
       "    <tr>\n",
       "      <th>1</th>\n",
       "      <td>Carlton North</td>\n",
       "      <td>1</td>\n",
       "    </tr>\n",
       "    <tr>\n",
       "      <th>2</th>\n",
       "      <td>Carlton</td>\n",
       "      <td>358</td>\n",
       "    </tr>\n",
       "    <tr>\n",
       "      <th>3</th>\n",
       "      <td>Docklands</td>\n",
       "      <td>346</td>\n",
       "    </tr>\n",
       "    <tr>\n",
       "      <th>4</th>\n",
       "      <td>East Melbourne</td>\n",
       "      <td>67</td>\n",
       "    </tr>\n",
       "  </tbody>\n",
       "</table>\n",
       "</div>"
      ],
      "text/plain": [
       "           suburb  count\n",
       "0      Ascot Vale     10\n",
       "1   Carlton North      1\n",
       "2         Carlton    358\n",
       "3       Docklands    346\n",
       "4  East Melbourne     67"
      ]
     },
     "execution_count": 25,
     "metadata": {},
     "output_type": "execute_result"
    }
   ],
   "source": [
    "df_cafe.head()"
   ]
  },
  {
   "cell_type": "code",
   "execution_count": 26,
   "id": "e6b5c872",
   "metadata": {},
   "outputs": [],
   "source": [
    "area=pd.read_csv(r'C:\\Melbourne_Escooter\\Melbourne-population\\population.csv')"
   ]
  },
  {
   "cell_type": "code",
   "execution_count": 27,
   "id": "78f22985",
   "metadata": {},
   "outputs": [],
   "source": [
    "cafe_area=pd.merge(df_cafe, area[['SA2 name','Area']], left_on='suburb', right_on='SA2 name' )"
   ]
  },
  {
   "cell_type": "code",
   "execution_count": 28,
   "id": "b17e5092",
   "metadata": {},
   "outputs": [],
   "source": [
    "cafe_area['norm_cafe']=cafe_area['count']/cafe_area['Area']"
   ]
  },
  {
   "cell_type": "code",
   "execution_count": 29,
   "id": "f1de7704",
   "metadata": {},
   "outputs": [],
   "source": [
    "df_new=cafe_area[['suburb','norm_cafe']]"
   ]
  },
  {
   "cell_type": "code",
   "execution_count": 30,
   "id": "b08e35cc",
   "metadata": {},
   "outputs": [],
   "source": [
    "df_new.to_csv(r'C:\\Melbourne_Escooter\\RealDataset\\FinalResults\\SuburbWise_Normalized\\Cafe\\normalizedCafesCount.csv',index=False)"
   ]
  },
  {
   "cell_type": "markdown",
   "id": "e1390fae",
   "metadata": {},
   "source": [
    "## House Count"
   ]
  },
  {
   "cell_type": "code",
   "execution_count": 31,
   "id": "17f82505",
   "metadata": {},
   "outputs": [],
   "source": [
    "df_house=pd.read_csv(r'C:\\Melbourne_Escooter\\Melbourne-buildings\\House\\__suburbWiseCount.csv')"
   ]
  },
  {
   "cell_type": "code",
   "execution_count": 32,
   "id": "57605c12",
   "metadata": {},
   "outputs": [
    {
     "data": {
      "text/html": [
       "<div>\n",
       "<style scoped>\n",
       "    .dataframe tbody tr th:only-of-type {\n",
       "        vertical-align: middle;\n",
       "    }\n",
       "\n",
       "    .dataframe tbody tr th {\n",
       "        vertical-align: top;\n",
       "    }\n",
       "\n",
       "    .dataframe thead th {\n",
       "        text-align: right;\n",
       "    }\n",
       "</style>\n",
       "<table border=\"1\" class=\"dataframe\">\n",
       "  <thead>\n",
       "    <tr style=\"text-align: right;\">\n",
       "      <th></th>\n",
       "      <th>suburb</th>\n",
       "      <th>count</th>\n",
       "    </tr>\n",
       "  </thead>\n",
       "  <tbody>\n",
       "    <tr>\n",
       "      <th>0</th>\n",
       "      <td>Brunswick West</td>\n",
       "      <td>28</td>\n",
       "    </tr>\n",
       "    <tr>\n",
       "      <th>1</th>\n",
       "      <td>Carlton North</td>\n",
       "      <td>1</td>\n",
       "    </tr>\n",
       "    <tr>\n",
       "      <th>2</th>\n",
       "      <td>Carlton</td>\n",
       "      <td>1601</td>\n",
       "    </tr>\n",
       "    <tr>\n",
       "      <th>3</th>\n",
       "      <td>Docklands</td>\n",
       "      <td>187</td>\n",
       "    </tr>\n",
       "    <tr>\n",
       "      <th>4</th>\n",
       "      <td>East Melbourne</td>\n",
       "      <td>715</td>\n",
       "    </tr>\n",
       "  </tbody>\n",
       "</table>\n",
       "</div>"
      ],
      "text/plain": [
       "           suburb  count\n",
       "0  Brunswick West     28\n",
       "1   Carlton North      1\n",
       "2         Carlton   1601\n",
       "3       Docklands    187\n",
       "4  East Melbourne    715"
      ]
     },
     "execution_count": 32,
     "metadata": {},
     "output_type": "execute_result"
    }
   ],
   "source": [
    "df_house.head()"
   ]
  },
  {
   "cell_type": "code",
   "execution_count": 33,
   "id": "6fa5dd81",
   "metadata": {},
   "outputs": [],
   "source": [
    "area=pd.read_csv(r'C:\\Melbourne_Escooter\\Melbourne-population\\population.csv')"
   ]
  },
  {
   "cell_type": "code",
   "execution_count": 34,
   "id": "27fca0df",
   "metadata": {},
   "outputs": [],
   "source": [
    "house_area=pd.merge(df_house, area[['SA2 name','Area']], left_on='suburb', right_on='SA2 name' )"
   ]
  },
  {
   "cell_type": "code",
   "execution_count": 35,
   "id": "84d5af5f",
   "metadata": {},
   "outputs": [],
   "source": [
    "house_area['norm_house']=house_area['count']/house_area['Area']"
   ]
  },
  {
   "cell_type": "code",
   "execution_count": 37,
   "id": "58025fd2",
   "metadata": {},
   "outputs": [],
   "source": [
    "df_new=house_area[['suburb','norm_house']]"
   ]
  },
  {
   "cell_type": "code",
   "execution_count": 39,
   "id": "7b8b19aa",
   "metadata": {},
   "outputs": [],
   "source": [
    "df_new.to_csv(r'C:\\Melbourne_Escooter\\RealDataset\\FinalResults\\SuburbWise_Normalized\\House\\normalizedHousesCount.csv',index=False)"
   ]
  },
  {
   "cell_type": "markdown",
   "id": "4196f834",
   "metadata": {},
   "source": [
    "## Bus stops"
   ]
  },
  {
   "cell_type": "code",
   "execution_count": 5,
   "id": "7c370c94",
   "metadata": {},
   "outputs": [],
   "source": [
    "df_bus=pd.read_csv(r'C:\\Melbourne_Escooter\\Melbourne-transport\\Bus Stops\\__suburbWiseCount.csv')"
   ]
  },
  {
   "cell_type": "code",
   "execution_count": 7,
   "id": "4d7e9f56",
   "metadata": {},
   "outputs": [],
   "source": [
    "area=pd.read_csv(r'C:\\Melbourne_Escooter\\Melbourne-population\\population.csv')"
   ]
  },
  {
   "cell_type": "code",
   "execution_count": 8,
   "id": "85e3726b",
   "metadata": {},
   "outputs": [],
   "source": [
    "bus_area=pd.merge(df_bus, area[['SA2 name','Area']], left_on='suburb', right_on='SA2 name' )"
   ]
  },
  {
   "cell_type": "code",
   "execution_count": 9,
   "id": "80bf1c29",
   "metadata": {},
   "outputs": [],
   "source": [
    "bus_area['norm_bus']=bus_area['count']/bus_area['Area']"
   ]
  },
  {
   "cell_type": "code",
   "execution_count": 10,
   "id": "95b7e11d",
   "metadata": {},
   "outputs": [],
   "source": [
    "df_new=bus_area[['suburb','norm_bus']]"
   ]
  },
  {
   "cell_type": "code",
   "execution_count": 11,
   "id": "f35cf810",
   "metadata": {},
   "outputs": [],
   "source": [
    "df_new.to_csv(r'C:\\Melbourne_Escooter\\RealDataset\\FinalResults\\SuburbWise_Normalized\\Bus Stops\\normalizedBusStopCount.csv',index=False)"
   ]
  },
  {
   "cell_type": "markdown",
   "id": "30bff588",
   "metadata": {},
   "source": [
    "## Train stops"
   ]
  },
  {
   "cell_type": "code",
   "execution_count": 12,
   "id": "816ae1c6",
   "metadata": {},
   "outputs": [],
   "source": [
    "df_train=pd.read_csv(r'C:\\Melbourne_Escooter\\Melbourne-transport\\Trainstops\\__suburbWiseCount.csv')"
   ]
  },
  {
   "cell_type": "code",
   "execution_count": 13,
   "id": "a4d8d0f7",
   "metadata": {},
   "outputs": [],
   "source": [
    "area=pd.read_csv(r'C:\\Melbourne_Escooter\\Melbourne-population\\population.csv')"
   ]
  },
  {
   "cell_type": "code",
   "execution_count": 14,
   "id": "4011f485",
   "metadata": {},
   "outputs": [],
   "source": [
    "train_area=pd.merge(df_train, area[['SA2 name','Area']], left_on='suburb', right_on='SA2 name' )"
   ]
  },
  {
   "cell_type": "code",
   "execution_count": 15,
   "id": "b98460b0",
   "metadata": {},
   "outputs": [],
   "source": [
    "train_area['norm_train']=train_area['count']/train_area['Area']"
   ]
  },
  {
   "cell_type": "code",
   "execution_count": 16,
   "id": "bf7d77c0",
   "metadata": {},
   "outputs": [],
   "source": [
    "df_new=train_area[['suburb','norm_train']]"
   ]
  },
  {
   "cell_type": "code",
   "execution_count": 17,
   "id": "c4067891",
   "metadata": {},
   "outputs": [],
   "source": [
    "df_new.to_csv(r'C:\\Melbourne_Escooter\\RealDataset\\FinalResults\\SuburbWise_Normalized\\TrainStops\\normalizedTrainStopCount.csv',index=False)"
   ]
  },
  {
   "cell_type": "markdown",
   "id": "1c6fa8b0",
   "metadata": {},
   "source": [
    "# Hospital"
   ]
  },
  {
   "cell_type": "code",
   "execution_count": 3,
   "id": "d0678ef7",
   "metadata": {},
   "outputs": [],
   "source": [
    "df_hos=pd.read_csv(r'C:\\Melbourne_Escooter\\Melbourne-buildings\\Hospital\\__suburbWiseCount.csv')"
   ]
  },
  {
   "cell_type": "code",
   "execution_count": 4,
   "id": "e8109a5d",
   "metadata": {},
   "outputs": [],
   "source": [
    "area=pd.read_csv(r'C:\\Melbourne_Escooter\\Melbourne-population\\population.csv')"
   ]
  },
  {
   "cell_type": "code",
   "execution_count": 6,
   "id": "8f10021f",
   "metadata": {},
   "outputs": [],
   "source": [
    "hos_area=pd.merge(df_hos, area[['SA2 name','Area']], left_on='suburb', right_on='SA2 name' )"
   ]
  },
  {
   "cell_type": "code",
   "execution_count": 7,
   "id": "7fde4a3e",
   "metadata": {},
   "outputs": [],
   "source": [
    "hos_area['norm_hospital']=hos_area['count']/hos_area['Area']"
   ]
  },
  {
   "cell_type": "code",
   "execution_count": 9,
   "id": "fb334c2b",
   "metadata": {},
   "outputs": [],
   "source": [
    "df_new=hos_area[['suburb','norm_hospital']]"
   ]
  },
  {
   "cell_type": "code",
   "execution_count": 11,
   "id": "11404c67",
   "metadata": {},
   "outputs": [],
   "source": [
    "df_new.to_csv(r'C:\\Melbourne_Escooter\\RealDataset\\FinalResults\\SuburbWise_Normalized\\Hospital\\normalizedHospitalCount.csv',index=False)"
   ]
  },
  {
   "cell_type": "markdown",
   "id": "5ea6dc27",
   "metadata": {},
   "source": [
    "# Shops"
   ]
  },
  {
   "cell_type": "code",
   "execution_count": 18,
   "id": "dc184cdf",
   "metadata": {},
   "outputs": [],
   "source": [
    "df_shop=pd.read_csv(r'C:\\Melbourne_Escooter\\Melbourne-buildings\\Shops\\__suburbWiseCount.csv')"
   ]
  },
  {
   "cell_type": "code",
   "execution_count": 19,
   "id": "40ab37a3",
   "metadata": {},
   "outputs": [],
   "source": [
    "area=pd.read_csv(r'C:\\Melbourne_Escooter\\Melbourne-population\\population.csv')"
   ]
  },
  {
   "cell_type": "code",
   "execution_count": 20,
   "id": "ad19813b",
   "metadata": {},
   "outputs": [],
   "source": [
    "shop_area=pd.merge(df_shop, area[['SA2 name','Area']], left_on='suburb', right_on='SA2 name' )"
   ]
  },
  {
   "cell_type": "code",
   "execution_count": 21,
   "id": "729b24fa",
   "metadata": {},
   "outputs": [],
   "source": [
    "shop_area['norm_shop']=shop_area['count']/shop_area['Area']"
   ]
  },
  {
   "cell_type": "code",
   "execution_count": 24,
   "id": "c4a98ff0",
   "metadata": {},
   "outputs": [],
   "source": [
    "df_new=shop_area[['suburb','norm_shop']]"
   ]
  },
  {
   "cell_type": "code",
   "execution_count": 26,
   "id": "465f4ba3",
   "metadata": {},
   "outputs": [],
   "source": [
    "df_new.to_csv(r'C:\\Melbourne_Escooter\\RealDataset\\FinalResults\\SuburbWise_Normalized\\Shop\\normalizedShopCount.csv',index=False)"
   ]
  },
  {
   "cell_type": "code",
   "execution_count": null,
   "id": "643f5809",
   "metadata": {},
   "outputs": [],
   "source": []
  }
 ],
 "metadata": {
  "kernelspec": {
   "display_name": "Python 3 (ipykernel)",
   "language": "python",
   "name": "python3"
  },
  "language_info": {
   "codemirror_mode": {
    "name": "ipython",
    "version": 3
   },
   "file_extension": ".py",
   "mimetype": "text/x-python",
   "name": "python",
   "nbconvert_exporter": "python",
   "pygments_lexer": "ipython3",
   "version": "3.7.13"
  }
 },
 "nbformat": 4,
 "nbformat_minor": 5
}
