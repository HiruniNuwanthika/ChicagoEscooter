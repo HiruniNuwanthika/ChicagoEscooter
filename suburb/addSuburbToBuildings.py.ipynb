{
 "cells": [
  {
   "cell_type": "code",
   "execution_count": 1,
   "id": "b981086a",
   "metadata": {},
   "outputs": [],
   "source": [
    "from geopy.geocoders import Nominatim\n",
    "import pandas as pd"
   ]
  },
  {
   "cell_type": "code",
   "execution_count": 11,
   "id": "f98de238",
   "metadata": {},
   "outputs": [],
   "source": [
    "df=pd.read_csv(r'C:\\Melbourne_Escooter\\Melbourne-transport\\Bus Stops.csv')"
   ]
  },
  {
   "cell_type": "code",
   "execution_count": 12,
   "id": "b764b66a",
   "metadata": {},
   "outputs": [
    {
     "data": {
      "text/html": [
       "<div>\n",
       "<style scoped>\n",
       "    .dataframe tbody tr th:only-of-type {\n",
       "        vertical-align: middle;\n",
       "    }\n",
       "\n",
       "    .dataframe tbody tr th {\n",
       "        vertical-align: top;\n",
       "    }\n",
       "\n",
       "    .dataframe thead th {\n",
       "        text-align: right;\n",
       "    }\n",
       "</style>\n",
       "<table border=\"1\" class=\"dataframe\">\n",
       "  <thead>\n",
       "    <tr style=\"text-align: right;\">\n",
       "      <th></th>\n",
       "      <th>stop_id</th>\n",
       "      <th>latitude</th>\n",
       "      <th>longitude</th>\n",
       "    </tr>\n",
       "  </thead>\n",
       "  <tbody>\n",
       "    <tr>\n",
       "      <th>0</th>\n",
       "      <td>303</td>\n",
       "      <td>37.787445</td>\n",
       "      <td>144.921855</td>\n",
       "    </tr>\n",
       "    <tr>\n",
       "      <th>1</th>\n",
       "      <td>355</td>\n",
       "      <td>37.803842</td>\n",
       "      <td>144.932393</td>\n",
       "    </tr>\n",
       "    <tr>\n",
       "      <th>2</th>\n",
       "      <td>434</td>\n",
       "      <td>37.816247</td>\n",
       "      <td>144.963813</td>\n",
       "    </tr>\n",
       "    <tr>\n",
       "      <th>3</th>\n",
       "      <td>519</td>\n",
       "      <td>37.796769</td>\n",
       "      <td>144.951340</td>\n",
       "    </tr>\n",
       "    <tr>\n",
       "      <th>4</th>\n",
       "      <td>600</td>\n",
       "      <td>37.815487</td>\n",
       "      <td>144.958179</td>\n",
       "    </tr>\n",
       "  </tbody>\n",
       "</table>\n",
       "</div>"
      ],
      "text/plain": [
       "   stop_id   latitude   longitude\n",
       "0      303  37.787445  144.921855\n",
       "1      355  37.803842  144.932393\n",
       "2      434  37.816247  144.963813\n",
       "3      519  37.796769  144.951340\n",
       "4      600  37.815487  144.958179"
      ]
     },
     "execution_count": 12,
     "metadata": {},
     "output_type": "execute_result"
    }
   ],
   "source": [
    "df.head()"
   ]
  },
  {
   "cell_type": "code",
   "execution_count": 10,
   "id": "afceb688",
   "metadata": {},
   "outputs": [],
   "source": [
    "def addSuburbToHouses(part):\n",
    "    df=pd.read_csv(r'C:\\Melbourne_Escooter\\Melbourne-buildings\\houses{}.csv'.format(part))\n",
    "    suburb_list=[]\n",
    "    geolocator = Nominatim(user_agent=\"geoApp\")\n",
    "    for i,row in df.iterrows():\n",
    "        lat=row['y coordinate']\n",
    "        lon=row['x coordinate']\n",
    "        try:\n",
    "            location = geolocator.reverse(str(lat)+\",\"+str(lon))\n",
    "            address = location.raw['address']\n",
    "            suburb=address['suburb']\n",
    "        except:\n",
    "            suburb='No_suburb'\n",
    "        suburb_list.append(suburb)\n",
    "    df_suburb=pd.DataFrame(suburb_list)\n",
    "    df_all=pd.concat([df,df_suburb], axis=1)\n",
    "    df_all.columns=['Block ID','Property ID', 'Predominant space use','longitude', 'latitude','suburb']\n",
    "    df_all.to_csv(r'C:\\Melbourne_Escooter\\Melbourne-buildings\\housesWithSuburb{}.csv'.format(part), index=False)"
   ]
  },
  {
   "cell_type": "markdown",
   "id": "1baffa20",
   "metadata": {},
   "source": [
    "add suburb column into the houses file"
   ]
  },
  {
   "cell_type": "code",
   "execution_count": 17,
   "id": "b6c2007c",
   "metadata": {},
   "outputs": [],
   "source": [
    "addSuburbToHouses(10)"
   ]
  },
  {
   "cell_type": "code",
   "execution_count": 20,
   "id": "206f9d22",
   "metadata": {},
   "outputs": [],
   "source": [
    "def addSuburbToOffices():\n",
    "    df=pd.read_csv(r'C:\\Melbourne_Escooter\\Melbourne-buildings\\office\\offices2.csv')\n",
    "    suburb_list=[]\n",
    "    geolocator = Nominatim(user_agent=\"geoApp\")\n",
    "    for i,row in df.iterrows():\n",
    "        lat=row['y coordinate']\n",
    "        lon=row['x coordinate']\n",
    "        try:\n",
    "            location = geolocator.reverse(str(lat)+\",\"+str(lon))\n",
    "            address = location.raw['address']\n",
    "            suburb=address['suburb']\n",
    "        except:\n",
    "            suburb='No_suburb'\n",
    "        suburb_list.append(suburb)\n",
    "    df_suburb=pd.DataFrame(suburb_list)\n",
    "    df_all=pd.concat([df,df_suburb], axis=1)\n",
    "    df_all.columns=['Block ID','Property ID', 'Predominant space use','longitude', 'latitude','suburb']\n",
    "    df_all.to_csv(r'C:\\Melbourne_Escooter\\Melbourne-buildings\\office\\officesWithSuburb2.csv', index=False)"
   ]
  },
  {
   "cell_type": "code",
   "execution_count": 21,
   "id": "0a1fd79b",
   "metadata": {},
   "outputs": [],
   "source": [
    "addSuburbToOffices()"
   ]
  },
  {
   "cell_type": "code",
   "execution_count": 7,
   "id": "96412314",
   "metadata": {},
   "outputs": [],
   "source": [
    "def addSuburbToTramStops():\n",
    "    df=pd.read_csv(r'C:\\Melbourne_Escooter\\Melbourne-transport\\tram stops2.csv')\n",
    "    suburb_list=[]\n",
    "    geolocator = Nominatim(user_agent=\"geoApp\")\n",
    "    for i,row in df.iterrows():\n",
    "        lat=row['lat']\n",
    "        lon=row['lon']\n",
    "        try:\n",
    "            location = geolocator.reverse(str(lat)+\",\"+str(lon))\n",
    "            address = location.raw['address']\n",
    "            suburb=address['suburb']\n",
    "        except:\n",
    "            suburb='No_suburb'\n",
    "        suburb_list.append(suburb)\n",
    "    df_suburb=pd.DataFrame(suburb_list)\n",
    "    df_all=pd.concat([df,df_suburb], axis=1)\n",
    "    df_all.columns=['id','longitude', 'latitude','suburb']\n",
    "    df_all.to_csv(r'C:\\Melbourne_Escooter\\Melbourne-transport\\tramStopsWithSuburb2.csv', index=False)"
   ]
  },
  {
   "cell_type": "code",
   "execution_count": 8,
   "id": "70456691",
   "metadata": {},
   "outputs": [],
   "source": [
    "addSuburbToTramStops()"
   ]
  },
  {
   "cell_type": "code",
   "execution_count": 13,
   "id": "5cf65045",
   "metadata": {},
   "outputs": [],
   "source": [
    "def addSuburbToCafe(part):\n",
    "    df=pd.read_csv(r'C:\\Melbourne_Escooter\\Melbourne-buildings\\Cafe\\cafe{}.csv'.format(part))\n",
    "    suburb_list=[]\n",
    "    geolocator = Nominatim(user_agent=\"geoApp\")\n",
    "    for i,row in df.iterrows():\n",
    "        lat=row['y coordinate']\n",
    "        lon=row['x coordinate']\n",
    "        try:\n",
    "            location = geolocator.reverse(str(lat)+\",\"+str(lon))\n",
    "            address = location.raw['address']\n",
    "            suburb=address['suburb']\n",
    "        except:\n",
    "            suburb='No_suburb'\n",
    "        suburb_list.append(suburb)\n",
    "    df_suburb=pd.DataFrame(suburb_list)\n",
    "    df_all=pd.concat([df,df_suburb], axis=1)\n",
    "    df_all.columns=['id','Property ID','longitude', 'latitude','suburb']\n",
    "    df_all.to_csv(r'C:\\Melbourne_Escooter\\Melbourne-buildings\\Cafe\\cafeWithSuburb{}.csv'.format(part), index=False)"
   ]
  },
  {
   "cell_type": "code",
   "execution_count": 16,
   "id": "b7f55921",
   "metadata": {},
   "outputs": [],
   "source": [
    "addSuburbToCafe(3)"
   ]
  },
  {
   "cell_type": "code",
   "execution_count": 6,
   "id": "021ae29c",
   "metadata": {},
   "outputs": [],
   "source": [
    "def addSuburbToRecreation():\n",
    "    df=pd.read_csv(r'C:\\Melbourne_Escooter\\Melbourne-buildings\\recreation.csv')\n",
    "    suburb_list=[]\n",
    "    geolocator = Nominatim(user_agent=\"geoApp\")\n",
    "    for i,row in df.iterrows():\n",
    "        lat=row['Latitude']\n",
    "        lon=row['Longitude']\n",
    "        try:\n",
    "            location = geolocator.reverse(str(lat)+\",\"+str(lon))\n",
    "            address = location.raw['address']\n",
    "            suburb=address['suburb']\n",
    "        except:\n",
    "            suburb='No_suburb'\n",
    "        suburb_list.append(suburb)\n",
    "    df_suburb=pd.DataFrame(suburb_list)\n",
    "    df_all=pd.concat([df,df_suburb], axis=1)\n",
    "    df_all.columns=['id','Theme', 'Sub Theme','Feature Name','longitude', 'latitude','suburb']\n",
    "    df_all.to_csv(r'C:\\Melbourne_Escooter\\Melbourne-buildings\\Recreation\\recreationsWithSuburb.csv', index=False)"
   ]
  },
  {
   "cell_type": "code",
   "execution_count": 7,
   "id": "369ae391",
   "metadata": {},
   "outputs": [],
   "source": [
    "addSuburbToRecreation()"
   ]
  },
  {
   "cell_type": "code",
   "execution_count": 9,
   "id": "646f5e4e",
   "metadata": {},
   "outputs": [],
   "source": [
    "def addSuburbToTrainStops():\n",
    "    df=pd.read_csv(r'C:\\Melbourne_Escooter\\Melbourne-transport\\Train Stops.csv')\n",
    "    suburb_list=[]\n",
    "    geolocator = Nominatim(user_agent=\"geoApp\")\n",
    "    for i,row in df.iterrows():\n",
    "        lat=row['latitude']\n",
    "        lon=row['longitude']\n",
    "        try:\n",
    "            location = geolocator.reverse(str(lat)+\",\"+str(lon))\n",
    "            address = location.raw['address']\n",
    "            suburb=address['suburb']\n",
    "        except:\n",
    "            suburb='No_suburb'\n",
    "        suburb_list.append(suburb)\n",
    "    df_suburb=pd.DataFrame(suburb_list)\n",
    "    df_all=pd.concat([df,df_suburb], axis=1)\n",
    "    df_all.columns=['stop_id','station_name', 'latitude','longitude','suburb']\n",
    "    df_all.to_csv(r'C:\\Melbourne_Escooter\\Melbourne-transport\\TrainStops\\trainstopsWithSuburb.csv', index=False)"
   ]
  },
  {
   "cell_type": "code",
   "execution_count": 10,
   "id": "2bba535f",
   "metadata": {},
   "outputs": [],
   "source": [
    "addSuburbToTrainStops()"
   ]
  },
  {
   "cell_type": "code",
   "execution_count": 17,
   "id": "eaa0aa4b",
   "metadata": {},
   "outputs": [],
   "source": [
    "def addSuburbToBusStops():\n",
    "    df=pd.read_csv(r'C:\\Melbourne_Escooter\\Melbourne-transport\\Bus Stops.csv')\n",
    "    suburb_list=[]\n",
    "    geolocator = Nominatim(user_agent=\"geoApp\")\n",
    "    for i,row in df.iterrows():\n",
    "        lat=row['latitude']\n",
    "        lon=row['longitude']\n",
    "        try:\n",
    "            location = geolocator.reverse(str(lat)+\",\"+str(lon))\n",
    "            address = location.raw['address']\n",
    "            suburb=address['suburb']\n",
    "        except:\n",
    "            suburb='No_suburb'\n",
    "        suburb_list.append(suburb)\n",
    "    df_suburb=pd.DataFrame(suburb_list)\n",
    "    df_all=pd.concat([df,df_suburb], axis=1)\n",
    "    df_all.columns=['stop_id', 'latitude','longitude','suburb']\n",
    "    df_all.to_csv(r'C:\\Melbourne_Escooter\\Melbourne-transport\\BusStops\\BusStopsWithSuburb.csv', index=False)"
   ]
  },
  {
   "cell_type": "code",
   "execution_count": 18,
   "id": "5c4493e7",
   "metadata": {},
   "outputs": [],
   "source": [
    "addSuburbToBusStops()"
   ]
  },
  {
   "cell_type": "code",
   "execution_count": 7,
   "id": "2e667edb",
   "metadata": {},
   "outputs": [],
   "source": [
    "def addSuburbToShops():\n",
    "    df=pd.read_csv(r'C:\\Melbourne_Escooter\\Melbourne-buildings\\Shops\\shops.csv')\n",
    "    suburb_list=[]\n",
    "    geolocator = Nominatim(user_agent=\"geoApp\")\n",
    "    for i,row in df.iterrows():\n",
    "        lat=row['y coordinate']\n",
    "        lon=row['x coordinate']\n",
    "        try:\n",
    "            location = geolocator.reverse(str(lat)+\",\"+str(lon))\n",
    "            address = location.raw['address']\n",
    "            suburb=address['suburb']\n",
    "        except:\n",
    "            suburb='No_suburb'\n",
    "        suburb_list.append(suburb)\n",
    "    df_suburb=pd.DataFrame(suburb_list)\n",
    "    df_all=pd.concat([df,df_suburb], axis=1)\n",
    "    df_all.columns=['id', 'Property ID','longitude','latitude','suburb']\n",
    "    df_all.to_csv(r'C:\\Melbourne_Escooter\\Melbourne-buildings\\Shops\\ShopsWithSuburb.csv', index=False)"
   ]
  },
  {
   "cell_type": "code",
   "execution_count": 8,
   "id": "b3213574",
   "metadata": {},
   "outputs": [],
   "source": [
    "addSuburbToShops()"
   ]
  },
  {
   "cell_type": "code",
   "execution_count": 9,
   "id": "b5d9e29d",
   "metadata": {},
   "outputs": [],
   "source": [
    "def addSuburbToHospital():\n",
    "    df=pd.read_csv(r'C:\\Melbourne_Escooter\\Melbourne-buildings\\Hospital\\hospital.csv')\n",
    "    suburb_list=[]\n",
    "    geolocator = Nominatim(user_agent=\"geoApp\")\n",
    "    for i,row in df.iterrows():\n",
    "        lat=row['y coordinate']\n",
    "        lon=row['x coordinate']\n",
    "        try:\n",
    "            location = geolocator.reverse(str(lat)+\",\"+str(lon))\n",
    "            address = location.raw['address']\n",
    "            suburb=address['suburb']\n",
    "        except:\n",
    "            suburb='No_suburb'\n",
    "        suburb_list.append(suburb)\n",
    "    df_suburb=pd.DataFrame(suburb_list)\n",
    "    df_all=pd.concat([df,df_suburb], axis=1)\n",
    "    df_all.columns=['id', 'Property ID','longitude','latitude','suburb']\n",
    "    df_all.to_csv(r'C:\\Melbourne_Escooter\\Melbourne-buildings\\Hospital\\hospitalsWithSuburb.csv', index=False)"
   ]
  },
  {
   "cell_type": "code",
   "execution_count": 10,
   "id": "13d0e3f4",
   "metadata": {},
   "outputs": [],
   "source": [
    "addSuburbToHospital()"
   ]
  },
  {
   "cell_type": "code",
   "execution_count": 13,
   "id": "c8178341",
   "metadata": {},
   "outputs": [],
   "source": [
    "def addSuburbToCampus():\n",
    "    df=pd.read_csv(r'C:\\Melbourne_Escooter\\Melbourne-buildings\\Campus\\campus.csv')\n",
    "    suburb_list=[]\n",
    "    geolocator = Nominatim(user_agent=\"geoApp\")\n",
    "    for i,row in df.iterrows():\n",
    "        lat=row['latitude']\n",
    "        lon=row['longitude']\n",
    "        try:\n",
    "            location = geolocator.reverse(str(lat)+\",\"+str(lon))\n",
    "            address = location.raw['address']\n",
    "            suburb=address['suburb']\n",
    "        except:\n",
    "            suburb='No_suburb'\n",
    "        suburb_list.append(suburb)\n",
    "    df_suburb=pd.DataFrame(suburb_list)\n",
    "    df_all=pd.concat([df,df_suburb], axis=1)\n",
    "    df_all.columns=['id', 'Property ID','longitude','latitude','suburb']\n",
    "    df_all.to_csv(r'C:\\Melbourne_Escooter\\Melbourne-buildings\\Campus\\campusWithSuburb.csv', index=False)"
   ]
  },
  {
   "cell_type": "code",
   "execution_count": 14,
   "id": "b8418df9",
   "metadata": {},
   "outputs": [],
   "source": [
    "addSuburbToCampus()"
   ]
  },
  {
   "cell_type": "code",
   "execution_count": null,
   "id": "b5db968d",
   "metadata": {},
   "outputs": [],
   "source": []
  }
 ],
 "metadata": {
  "kernelspec": {
   "display_name": "Python 3 (ipykernel)",
   "language": "python",
   "name": "python3"
  },
  "language_info": {
   "codemirror_mode": {
    "name": "ipython",
    "version": 3
   },
   "file_extension": ".py",
   "mimetype": "text/x-python",
   "name": "python",
   "nbconvert_exporter": "python",
   "pygments_lexer": "ipython3",
   "version": "3.7.13"
  }
 },
 "nbformat": 4,
 "nbformat_minor": 5
}
