{
 "cells": [
  {
   "cell_type": "code",
   "execution_count": 2,
   "id": "f32e169a",
   "metadata": {},
   "outputs": [],
   "source": [
    "import pandas as pd\n",
    "import os\n",
    "import glob"
   ]
  },
  {
   "cell_type": "code",
   "execution_count": 20,
   "id": "630eb5e3",
   "metadata": {},
   "outputs": [],
   "source": [
    "path =\"C:\\Melbourne_Escooter\\RealDataset\\FinalResults\\SuburbWise\\August\\start\\day1\\e1\"\n",
    "csv_files = glob.glob(os.path.join(path, \"*.csv\"))"
   ]
  },
  {
   "cell_type": "code",
   "execution_count": 33,
   "id": "45e0361d",
   "metadata": {},
   "outputs": [
    {
     "name": "stdout",
     "output_type": "stream",
     "text": [
      "['Abbotsford'] -> 8\n"
     ]
    }
   ],
   "source": [
    "df=pd.read_csv(r'C:\\Melbourne_Escooter\\RealDataset\\FinalResults\\SuburbWise\\August\\start\\day1\\e1\\Abbotsford.csv')\n",
    "#suburb=df['suburb'].unique()\n",
    "count=df['bike_id'].count()\n",
    "#print(count)\n",
    "print(str(suburb)+\" -> \"+str(count))"
   ]
  },
  {
   "cell_type": "code",
   "execution_count": 36,
   "id": "7f7c77f2",
   "metadata": {},
   "outputs": [],
   "source": [
    "suburb_list=[]\n",
    "count_list=[]\n",
    "for file in csv_files:\n",
    "    df = pd.read_csv(file)\n",
    "    suburb=df['suburb'].unique()\n",
    "    count=df['bike_id'].count()\n",
    "    suburb_list.append(suburb)\n",
    "    count_list.append(count)\n",
    "df_suburb=pd.DataFrame(suburb_list)\n",
    "df_count=pd.DataFrame(count_list)"
   ]
  },
  {
   "cell_type": "code",
   "execution_count": 47,
   "id": "e2605fa3",
   "metadata": {},
   "outputs": [],
   "source": [
    "df_all=pd.concat([df_suburb,df_count],axis=1)\n",
    "df_all.columns=['suburb','count']"
   ]
  },
  {
   "cell_type": "code",
   "execution_count": 48,
   "id": "27d75328",
   "metadata": {
    "scrolled": true
   },
   "outputs": [],
   "source": [
    "df_all.to_csv(r'C:\\Melbourne_Escooter\\RealDataset\\FinalResults\\SuburbWise\\August\\start\\day1\\e1\\__suburbWiseCount.csv',index=False)"
   ]
  },
  {
   "cell_type": "code",
   "execution_count": 2,
   "id": "ec612e8a",
   "metadata": {},
   "outputs": [],
   "source": [
    "def countSuburbwise(day,file_name):\n",
    "    path =f\"C:\\Melbourne_Escooter\\RealDataset\\FinalResults\\SuburbWise\\August\\stop\\day{day}\\{file_name}\"\n",
    "    csv_files = glob.glob(os.path.join(path, \"*.csv\"))\n",
    "    suburb_list=[]\n",
    "    count_list=[]\n",
    "    for file in csv_files:\n",
    "        df = pd.read_csv(file)\n",
    "        suburb=df['suburb'].unique()\n",
    "        count=df['bike_id'].count()\n",
    "        suburb_list.append(suburb)\n",
    "        count_list.append(count)\n",
    "    df_suburb=pd.DataFrame(suburb_list)\n",
    "    df_count=pd.DataFrame(count_list)\n",
    "    df_all=pd.concat([df_suburb,df_count],axis=1)\n",
    "    df_all.columns=['suburb','count']\n",
    "    df_all.to_csv(r'C:\\Melbourne_Escooter\\RealDataset\\FinalResults\\SuburbWise\\August\\stop\\day{}\\{}\\__suburbWiseCount.csv'.format(day,file_name),index=False)\n",
    "        "
   ]
  },
  {
   "cell_type": "code",
   "execution_count": 6,
   "id": "d6a29201",
   "metadata": {},
   "outputs": [],
   "source": [
    "part_list=['m1','m2','e1','e2','n1','n2']\n",
    "for part in part_list:\n",
    "    countSuburbwise(7,part)\n"
   ]
  },
  {
   "cell_type": "code",
   "execution_count": 29,
   "id": "deedaa94",
   "metadata": {},
   "outputs": [],
   "source": [
    "def countSuburbwiseHouses():\n",
    "    path =f\"C:\\Melbourne_Escooter\\Melbourne-buildings\\house\"\n",
    "    csv_files = glob.glob(os.path.join(path, \"*.csv\"))\n",
    "    suburb_list=[]\n",
    "    count_list=[]\n",
    "    for file in csv_files:\n",
    "        df = pd.read_csv(file,encoding='latin1')\n",
    "        suburb=df['suburb'].unique()\n",
    "        count=df['Property ID'].count()\n",
    "        suburb_list.append(suburb)\n",
    "        count_list.append(count)\n",
    "    df_suburb=pd.DataFrame(suburb_list)\n",
    "    df_count=pd.DataFrame(count_list)\n",
    "    df_all=pd.concat([df_suburb,df_count],axis=1)\n",
    "    #print(df_all)\n",
    "    #df_all.columns=['suburb','count'] -----> had 2 columns mistakenly. So added it in the download and remoced in csv\n",
    "    df_all.columns=['suburb','1','2','count']\n",
    "    df_all.to_csv(r'C:\\Melbourne_Escooter\\Melbourne-buildings\\house\\__suburbWiseCount.csv',index=False)\n",
    "    \n",
    "        "
   ]
  },
  {
   "cell_type": "code",
   "execution_count": 30,
   "id": "f7f9310f",
   "metadata": {},
   "outputs": [],
   "source": [
    "countSuburbwiseHouses()"
   ]
  },
  {
   "cell_type": "code",
   "execution_count": 7,
   "id": "d76b90c8",
   "metadata": {},
   "outputs": [],
   "source": [
    "def countSuburbwiseTrams():\n",
    "    path =f\"C:\\Melbourne_Escooter\\Melbourne-transport\\Trams\\Suburbwise\"\n",
    "    csv_files = glob.glob(os.path.join(path, \"*.csv\"))\n",
    "    suburb_list=[]\n",
    "    count_list=[]\n",
    "    for file in csv_files:\n",
    "        df = pd.read_csv(file,encoding='latin1')\n",
    "        suburb=df['suburb'].unique()\n",
    "        count=df['id'].count()\n",
    "        suburb_list.append(suburb)\n",
    "        count_list.append(count)\n",
    "    df_suburb=pd.DataFrame(suburb_list)\n",
    "    df_count=pd.DataFrame(count_list)\n",
    "    df_all=pd.concat([df_suburb,df_count],axis=1)\n",
    "    #print(df_all)\n",
    "    #df_all.columns=['suburb','count'] -----> had 2 columns mistakenly. So added it in the download and remoced in csv\n",
    "    df_all.columns=['suburb','count']\n",
    "    df_all.to_csv(r'C:\\Melbourne_Escooter\\Melbourne-transport\\Trams\\__suburbWiseCount.csv',index=False)\n",
    "    \n",
    "        "
   ]
  },
  {
   "cell_type": "code",
   "execution_count": 8,
   "id": "5a9ee1ce",
   "metadata": {},
   "outputs": [],
   "source": [
    "countSuburbwiseTrams()"
   ]
  },
  {
   "cell_type": "code",
   "execution_count": 7,
   "id": "40b74008",
   "metadata": {},
   "outputs": [],
   "source": [
    "def countSuburbwiseCafe():\n",
    "    path =f\"C:\\Melbourne_Escooter\\Melbourne-buildings\\Cafe\\Suburb wise\"\n",
    "    csv_files = glob.glob(os.path.join(path, \"*.csv\"))\n",
    "    suburb_list=[]\n",
    "    count_list=[]\n",
    "    for file in csv_files:\n",
    "        df = pd.read_csv(file,encoding='latin1')\n",
    "        suburb=df['suburb'].unique()\n",
    "        count=df['id'].count()\n",
    "        suburb_list.append(suburb)\n",
    "        count_list.append(count)\n",
    "    df_suburb=pd.DataFrame(suburb_list)\n",
    "    df_count=pd.DataFrame(count_list)\n",
    "    df_all=pd.concat([df_suburb,df_count],axis=1)\n",
    "    #print(df_all)\n",
    "    #df_all.columns=['suburb','count'] -----> had 2 columns mistakenly. So added it in the download and remoced in csv\n",
    "    df_all.columns=['suburb','count']\n",
    "    df_all.to_csv(r'C:\\Melbourne_Escooter\\Melbourne-buildings\\Cafe\\__suburbWiseCount.csv',index=False)\n",
    "    \n",
    "        "
   ]
  },
  {
   "cell_type": "code",
   "execution_count": 8,
   "id": "adf62ff6",
   "metadata": {},
   "outputs": [],
   "source": [
    "countSuburbwiseCafe()"
   ]
  },
  {
   "cell_type": "code",
   "execution_count": 1,
   "id": "3f8b02a5",
   "metadata": {},
   "outputs": [],
   "source": [
    "def countSuburbwiseRecreation():\n",
    "    path =f\"C:\\Melbourne_Escooter\\Melbourne-buildings\\Recreation\\Suburb wise\"\n",
    "    csv_files = glob.glob(os.path.join(path, \"*.csv\"))\n",
    "    suburb_list=[]\n",
    "    count_list=[]\n",
    "    for file in csv_files:\n",
    "        df = pd.read_csv(file,encoding='latin1')\n",
    "        suburb=df['suburb'].unique()\n",
    "        count=df['id'].count()\n",
    "        suburb_list.append(suburb)\n",
    "        count_list.append(count)\n",
    "    df_suburb=pd.DataFrame(suburb_list)\n",
    "    df_count=pd.DataFrame(count_list)\n",
    "    df_all=pd.concat([df_suburb,df_count],axis=1)\n",
    "    #print(df_all)\n",
    "    #df_all.columns=['suburb','count'] -----> had 2 columns mistakenly. So added it in the download and remoced in csv\n",
    "    df_all.columns=['suburb','count']\n",
    "    df_all.to_csv(r'C:\\Melbourne_Escooter\\Melbourne-buildings\\Recreation\\__suburbWiseCount.csv',index=False)\n",
    "    \n",
    "        "
   ]
  },
  {
   "cell_type": "code",
   "execution_count": 4,
   "id": "ed52ffcd",
   "metadata": {},
   "outputs": [],
   "source": [
    "countSuburbwiseRecreation()"
   ]
  },
  {
   "cell_type": "code",
   "execution_count": 5,
   "id": "bfdad119",
   "metadata": {},
   "outputs": [],
   "source": [
    "def countSuburbwiseOffice():\n",
    "    path =f\"C:\\Melbourne_Escooter\\Melbourne-buildings\\Office\\SuburbWise\"\n",
    "    csv_files = glob.glob(os.path.join(path, \"*.csv\"))\n",
    "    suburb_list=[]\n",
    "    count_list=[]\n",
    "    for file in csv_files:\n",
    "        df = pd.read_csv(file,encoding='latin1')\n",
    "        suburb=df['suburb'].unique()\n",
    "        count=df['Property ID'].count()\n",
    "        suburb_list.append(suburb)\n",
    "        count_list.append(count)\n",
    "    df_suburb=pd.DataFrame(suburb_list)\n",
    "    df_count=pd.DataFrame(count_list)\n",
    "    df_all=pd.concat([df_suburb,df_count],axis=1)\n",
    "    #print(df_all)\n",
    "    #df_all.columns=['suburb','count'] -----> had 2 columns mistakenly. So added it in the download and remoced in csv\n",
    "    df_all.columns=['suburb','count']\n",
    "    df_all.to_csv(r'C:\\Melbourne_Escooter\\Melbourne-buildings\\Office\\__suburbWiseCount.csv',index=False)\n",
    "    \n",
    "        "
   ]
  },
  {
   "cell_type": "code",
   "execution_count": 6,
   "id": "3212c6c7",
   "metadata": {},
   "outputs": [],
   "source": [
    "countSuburbwiseOffice()"
   ]
  },
  {
   "cell_type": "code",
   "execution_count": 4,
   "id": "1e959518",
   "metadata": {},
   "outputs": [],
   "source": [
    "def countSuburbwiseTrainStop():\n",
    "    path =f\"C:\\Melbourne_Escooter\\Melbourne-transport\\Trainstops\\Suburb Wise\"\n",
    "    csv_files = glob.glob(os.path.join(path, \"*.csv\"))\n",
    "    suburb_list=[]\n",
    "    count_list=[]\n",
    "    for file in csv_files:\n",
    "        df = pd.read_csv(file,encoding='latin1')\n",
    "        suburb=df['suburb'].unique()\n",
    "        count=df['stop_id'].count()\n",
    "        suburb_list.append(suburb)\n",
    "        count_list.append(count)\n",
    "    df_suburb=pd.DataFrame(suburb_list)\n",
    "    df_count=pd.DataFrame(count_list)\n",
    "    df_all=pd.concat([df_suburb,df_count],axis=1)\n",
    "    #print(df_all)\n",
    "    #df_all.columns=['suburb','count'] -----> had 2 columns mistakenly. So added it in the download and remoced in csv\n",
    "    df_all.columns=['suburb','count']\n",
    "    df_all.to_csv(r'C:\\Melbourne_Escooter\\Melbourne-transport\\Trainstops\\__suburbWiseCount.csv',index=False)\n",
    "    \n",
    "        "
   ]
  },
  {
   "cell_type": "code",
   "execution_count": 5,
   "id": "fbb5c95c",
   "metadata": {},
   "outputs": [],
   "source": [
    "countSuburbwiseTrainStop()"
   ]
  },
  {
   "cell_type": "code",
   "execution_count": 6,
   "id": "029c12bb",
   "metadata": {},
   "outputs": [],
   "source": [
    "def countSuburbwiseBusStop():\n",
    "    path =f\"C:\\Melbourne_Escooter\\Melbourne-transport\\Bus Stops\\Suburb Wise\"\n",
    "    csv_files = glob.glob(os.path.join(path, \"*.csv\"))\n",
    "    suburb_list=[]\n",
    "    count_list=[]\n",
    "    for file in csv_files:\n",
    "        df = pd.read_csv(file,encoding='latin1')\n",
    "        suburb=df['suburb'].unique()\n",
    "        count=df['stop_id'].count()\n",
    "        suburb_list.append(suburb)\n",
    "        count_list.append(count)\n",
    "    df_suburb=pd.DataFrame(suburb_list)\n",
    "    df_count=pd.DataFrame(count_list)\n",
    "    df_all=pd.concat([df_suburb,df_count],axis=1)\n",
    "    #print(df_all)\n",
    "    #df_all.columns=['suburb','count'] -----> had 2 columns mistakenly. So added it in the download and remoced in csv\n",
    "    df_all.columns=['suburb','count']\n",
    "    df_all.to_csv(r'C:\\Melbourne_Escooter\\Melbourne-transport\\Bus Stops\\__suburbWiseCount.csv',index=False)\n",
    "    \n",
    "        "
   ]
  },
  {
   "cell_type": "code",
   "execution_count": 7,
   "id": "7b621102",
   "metadata": {},
   "outputs": [],
   "source": [
    "countSuburbwiseBusStop()"
   ]
  },
  {
   "cell_type": "code",
   "execution_count": 1,
   "id": "ee5c0a3b",
   "metadata": {},
   "outputs": [],
   "source": [
    "def countSuburbwiseShops():\n",
    "    path =f\"C:\\Melbourne_Escooter\\Melbourne-buildings\\Shops\\Suburb wise\"\n",
    "    csv_files = glob.glob(os.path.join(path, \"*.csv\"))\n",
    "    suburb_list=[]\n",
    "    count_list=[]\n",
    "    for file in csv_files:\n",
    "        df = pd.read_csv(file,encoding='latin1')\n",
    "        suburb=df['suburb'].unique()\n",
    "        count=df['id'].count()\n",
    "        suburb_list.append(suburb)\n",
    "        count_list.append(count)\n",
    "    df_suburb=pd.DataFrame(suburb_list)\n",
    "    df_count=pd.DataFrame(count_list)\n",
    "    df_all=pd.concat([df_suburb,df_count],axis=1)\n",
    "    #print(df_all)\n",
    "    #df_all.columns=['suburb','count'] -----> had 2 columns mistakenly. So added it in the download and remoced in csv\n",
    "    df_all.columns=['suburb','count']\n",
    "    df_all.to_csv(r'C:\\Melbourne_Escooter\\Melbourne-buildings\\Shops\\__suburbWiseCount.csv',index=False)\n",
    "    \n",
    "        "
   ]
  },
  {
   "cell_type": "code",
   "execution_count": 3,
   "id": "0f801ec7",
   "metadata": {},
   "outputs": [],
   "source": [
    "countSuburbwiseShops()"
   ]
  },
  {
   "cell_type": "code",
   "execution_count": 4,
   "id": "ae0999c7",
   "metadata": {},
   "outputs": [],
   "source": [
    "def countSuburbwiseCampus():\n",
    "    path =f\"C:\\Melbourne_Escooter\\Melbourne-buildings\\Campus\\Suburb wise\"\n",
    "    csv_files = glob.glob(os.path.join(path, \"*.csv\"))\n",
    "    suburb_list=[]\n",
    "    count_list=[]\n",
    "    for file in csv_files:\n",
    "        df = pd.read_csv(file,encoding='latin1')\n",
    "        suburb=df['suburb'].unique()\n",
    "        count=df['id'].count()\n",
    "        suburb_list.append(suburb)\n",
    "        count_list.append(count)\n",
    "    df_suburb=pd.DataFrame(suburb_list)\n",
    "    df_count=pd.DataFrame(count_list)\n",
    "    df_all=pd.concat([df_suburb,df_count],axis=1)\n",
    "    #print(df_all)\n",
    "    #df_all.columns=['suburb','count'] -----> had 2 columns mistakenly. So added it in the download and remoced in csv\n",
    "    df_all.columns=['suburb','count']\n",
    "    df_all.to_csv(r'C:\\Melbourne_Escooter\\Melbourne-buildings\\Campus\\__suburbWiseCount.csv',index=False)\n",
    "    \n",
    "        "
   ]
  },
  {
   "cell_type": "code",
   "execution_count": 5,
   "id": "4a59c6b1",
   "metadata": {},
   "outputs": [],
   "source": [
    "countSuburbwiseCampus()"
   ]
  },
  {
   "cell_type": "code",
   "execution_count": 6,
   "id": "a614cee6",
   "metadata": {},
   "outputs": [],
   "source": [
    "def countSuburbwiseHospital():\n",
    "    path =f\"C:\\Melbourne_Escooter\\Melbourne-buildings\\Hospital\\Suburb wise\"\n",
    "    csv_files = glob.glob(os.path.join(path, \"*.csv\"))\n",
    "    suburb_list=[]\n",
    "    count_list=[]\n",
    "    for file in csv_files:\n",
    "        df = pd.read_csv(file,encoding='latin1')\n",
    "        suburb=df['suburb'].unique()\n",
    "        count=df['id'].count()\n",
    "        suburb_list.append(suburb)\n",
    "        count_list.append(count)\n",
    "    df_suburb=pd.DataFrame(suburb_list)\n",
    "    df_count=pd.DataFrame(count_list)\n",
    "    df_all=pd.concat([df_suburb,df_count],axis=1)\n",
    "    #print(df_all)\n",
    "    #df_all.columns=['suburb','count'] -----> had 2 columns mistakenly. So added it in the download and remoced in csv\n",
    "    df_all.columns=['suburb','count']\n",
    "    df_all.to_csv(r'C:\\Melbourne_Escooter\\Melbourne-buildings\\Hospital\\__suburbWiseCount.csv',index=False)\n",
    "    \n",
    "        "
   ]
  },
  {
   "cell_type": "code",
   "execution_count": 7,
   "id": "099118e3",
   "metadata": {},
   "outputs": [],
   "source": [
    "countSuburbwiseHospital()"
   ]
  },
  {
   "cell_type": "code",
   "execution_count": null,
   "id": "4186739a",
   "metadata": {},
   "outputs": [],
   "source": []
  }
 ],
 "metadata": {
  "kernelspec": {
   "display_name": "Python 3 (ipykernel)",
   "language": "python",
   "name": "python3"
  },
  "language_info": {
   "codemirror_mode": {
    "name": "ipython",
    "version": 3
   },
   "file_extension": ".py",
   "mimetype": "text/x-python",
   "name": "python",
   "nbconvert_exporter": "python",
   "pygments_lexer": "ipython3",
   "version": "3.7.13"
  }
 },
 "nbformat": 4,
 "nbformat_minor": 5
}
