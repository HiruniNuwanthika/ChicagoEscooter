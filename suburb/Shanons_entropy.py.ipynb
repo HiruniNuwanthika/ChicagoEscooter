{
 "cells": [
  {
   "cell_type": "markdown",
   "id": "76c748ba",
   "metadata": {},
   "source": [
    "## With Public Transport"
   ]
  },
  {
   "cell_type": "code",
   "execution_count": 4,
   "id": "988d3268",
   "metadata": {},
   "outputs": [],
   "source": [
    "import pandas as pd\n",
    "from scipy.stats import entropy"
   ]
  },
  {
   "cell_type": "code",
   "execution_count": 2,
   "id": "e9c03652",
   "metadata": {},
   "outputs": [],
   "source": [
    "df=pd.read_csv(r'C:\\Melbourne_Escooter\\RealDataset\\FinalResults\\SuburbWise\\Venue Distribution.csv')"
   ]
  },
  {
   "cell_type": "code",
   "execution_count": 3,
   "id": "da5f845a",
   "metadata": {},
   "outputs": [
    {
     "data": {
      "text/html": [
       "<div>\n",
       "<style scoped>\n",
       "    .dataframe tbody tr th:only-of-type {\n",
       "        vertical-align: middle;\n",
       "    }\n",
       "\n",
       "    .dataframe tbody tr th {\n",
       "        vertical-align: top;\n",
       "    }\n",
       "\n",
       "    .dataframe thead th {\n",
       "        text-align: right;\n",
       "    }\n",
       "</style>\n",
       "<table border=\"1\" class=\"dataframe\">\n",
       "  <thead>\n",
       "    <tr style=\"text-align: right;\">\n",
       "      <th></th>\n",
       "      <th>suburb</th>\n",
       "      <th>House</th>\n",
       "      <th>Office</th>\n",
       "      <th>Restaurant</th>\n",
       "      <th>Public Transport</th>\n",
       "    </tr>\n",
       "  </thead>\n",
       "  <tbody>\n",
       "    <tr>\n",
       "      <th>0</th>\n",
       "      <td>Carlton</td>\n",
       "      <td>0.749883</td>\n",
       "      <td>0.054801</td>\n",
       "      <td>0.167681</td>\n",
       "      <td>0.027635</td>\n",
       "    </tr>\n",
       "    <tr>\n",
       "      <th>1</th>\n",
       "      <td>Carlton North</td>\n",
       "      <td>0.041667</td>\n",
       "      <td>0.041667</td>\n",
       "      <td>0.041667</td>\n",
       "      <td>0.875000</td>\n",
       "    </tr>\n",
       "    <tr>\n",
       "      <th>2</th>\n",
       "      <td>Docklands</td>\n",
       "      <td>0.307061</td>\n",
       "      <td>0.065681</td>\n",
       "      <td>0.568144</td>\n",
       "      <td>0.059113</td>\n",
       "    </tr>\n",
       "    <tr>\n",
       "      <th>3</th>\n",
       "      <td>East Melbourne</td>\n",
       "      <td>0.823733</td>\n",
       "      <td>0.071429</td>\n",
       "      <td>0.077189</td>\n",
       "      <td>0.027650</td>\n",
       "    </tr>\n",
       "    <tr>\n",
       "      <th>4</th>\n",
       "      <td>Flemington</td>\n",
       "      <td>0.000000</td>\n",
       "      <td>0.150000</td>\n",
       "      <td>0.000000</td>\n",
       "      <td>0.850000</td>\n",
       "    </tr>\n",
       "  </tbody>\n",
       "</table>\n",
       "</div>"
      ],
      "text/plain": [
       "           suburb     House    Office  Restaurant  Public Transport\n",
       "0         Carlton  0.749883  0.054801    0.167681          0.027635\n",
       "1   Carlton North  0.041667  0.041667    0.041667          0.875000\n",
       "2       Docklands  0.307061  0.065681    0.568144          0.059113\n",
       "3  East Melbourne  0.823733  0.071429    0.077189          0.027650\n",
       "4      Flemington  0.000000  0.150000    0.000000          0.850000"
      ]
     },
     "execution_count": 3,
     "metadata": {},
     "output_type": "execute_result"
    }
   ],
   "source": [
    "df.head()"
   ]
  },
  {
   "cell_type": "code",
   "execution_count": 29,
   "id": "c780834f",
   "metadata": {},
   "outputs": [],
   "source": [
    "venue_dist=[]\n",
    "ls = df.values.tolist()\n",
    "for element in ls:\n",
    "    venue_dist.append(element[1:])"
   ]
  },
  {
   "cell_type": "code",
   "execution_count": 30,
   "id": "7ebfa6dc",
   "metadata": {},
   "outputs": [
    {
     "data": {
      "text/plain": [
       "[[0.749882904, 0.054800937, 0.167681499, 0.02763466],\n",
       " [0.041666667, 0.041666667, 0.041666667, 0.875],\n",
       " [0.307060755, 0.065681445, 0.568144499, 0.0591133],\n",
       " [0.823732719, 0.071428571, 0.07718894, 0.02764977],\n",
       " [0.0, 0.15, 0.0, 0.85],\n",
       " [0.967223448, 0.009769934, 0.015757958, 0.007248661],\n",
       " [0.149834741, 0.130738156, 0.645611458, 0.073815645],\n",
       " [0.866777685, 0.048709409, 0.054121565, 0.030391341],\n",
       " [0.894736842, 0.013463892, 0.028151775, 0.063647491],\n",
       " [0.084210526, 0.263157895, 0.326315789, 0.326315789],\n",
       " [0.051282051, 0.025641026, 0.897435897, 0.025641026],\n",
       " [0.922305764, 0.001253133, 0.007518797, 0.068922306],\n",
       " [0.203856749, 0.123966942, 0.520661157, 0.151515152],\n",
       " [0.753588517, 0.110047847, 0.093301435, 0.043062201]]"
      ]
     },
     "execution_count": 30,
     "metadata": {},
     "output_type": "execute_result"
    }
   ],
   "source": [
    "venue_dist"
   ]
  },
  {
   "cell_type": "code",
   "execution_count": 19,
   "id": "2b798e3f",
   "metadata": {},
   "outputs": [],
   "source": [
    "carlton=[0.749883,0.054801,0.167681,0.027635]"
   ]
  },
  {
   "cell_type": "code",
   "execution_count": 20,
   "id": "2478a938",
   "metadata": {},
   "outputs": [
    {
     "data": {
      "text/plain": [
       "1.1160531857403904"
      ]
     },
     "execution_count": 20,
     "metadata": {},
     "output_type": "execute_result"
    }
   ],
   "source": [
    "entropy(carlton, base=2)"
   ]
  },
  {
   "cell_type": "code",
   "execution_count": 46,
   "id": "c7e1f0be",
   "metadata": {},
   "outputs": [],
   "source": [
    "entropy_category_ls=[]\n",
    "for category in venue_dist:\n",
    "    entropy_category=entropy(category, base=2)\n",
    "    entropy_category_ls.append(entropy_category)\n"
   ]
  },
  {
   "cell_type": "code",
   "execution_count": 47,
   "id": "f15664fc",
   "metadata": {},
   "outputs": [
    {
     "data": {
      "text/plain": [
       "[1.1160524071488023,\n",
       " 0.7416847596330187,\n",
       " 1.485692415695328,\n",
       " 0.9307749185209295,\n",
       " 0.6098403047164005,\n",
       " 0.25762022489136405,\n",
       " 1.4791712573578943,\n",
       " 0.7720461472929103,\n",
       " 0.6251672855583253,\n",
       " 1.8618916502695828,\n",
       " 0.6309174625833761,\n",
       " 0.4387083987726945,\n",
       " 1.74384904167551,\n",
       " 1.1726134080556558]"
      ]
     },
     "execution_count": 47,
     "metadata": {},
     "output_type": "execute_result"
    }
   ],
   "source": [
    "entropy_category_ls"
   ]
  },
  {
   "cell_type": "code",
   "execution_count": 48,
   "id": "1cfc3573",
   "metadata": {},
   "outputs": [],
   "source": [
    "entrpy=pd.DataFrame(entropy_category_ls)"
   ]
  },
  {
   "cell_type": "code",
   "execution_count": 49,
   "id": "7f957f58",
   "metadata": {},
   "outputs": [],
   "source": [
    "df_new=pd.concat([df,entrpy], axis=1)"
   ]
  },
  {
   "cell_type": "code",
   "execution_count": 53,
   "id": "6cf50836",
   "metadata": {},
   "outputs": [
    {
     "data": {
      "text/html": [
       "<div>\n",
       "<style scoped>\n",
       "    .dataframe tbody tr th:only-of-type {\n",
       "        vertical-align: middle;\n",
       "    }\n",
       "\n",
       "    .dataframe tbody tr th {\n",
       "        vertical-align: top;\n",
       "    }\n",
       "\n",
       "    .dataframe thead th {\n",
       "        text-align: right;\n",
       "    }\n",
       "</style>\n",
       "<table border=\"1\" class=\"dataframe\">\n",
       "  <thead>\n",
       "    <tr style=\"text-align: right;\">\n",
       "      <th></th>\n",
       "      <th>suburb</th>\n",
       "      <th>House</th>\n",
       "      <th>Office</th>\n",
       "      <th>Restaurant</th>\n",
       "      <th>Public Transport</th>\n",
       "      <th>0</th>\n",
       "    </tr>\n",
       "  </thead>\n",
       "  <tbody>\n",
       "    <tr>\n",
       "      <th>0</th>\n",
       "      <td>Carlton</td>\n",
       "      <td>0.749883</td>\n",
       "      <td>0.054801</td>\n",
       "      <td>0.167681</td>\n",
       "      <td>0.027635</td>\n",
       "      <td>1.116052</td>\n",
       "    </tr>\n",
       "    <tr>\n",
       "      <th>1</th>\n",
       "      <td>Carlton North</td>\n",
       "      <td>0.041667</td>\n",
       "      <td>0.041667</td>\n",
       "      <td>0.041667</td>\n",
       "      <td>0.875000</td>\n",
       "      <td>0.741685</td>\n",
       "    </tr>\n",
       "    <tr>\n",
       "      <th>2</th>\n",
       "      <td>Docklands</td>\n",
       "      <td>0.307061</td>\n",
       "      <td>0.065681</td>\n",
       "      <td>0.568144</td>\n",
       "      <td>0.059113</td>\n",
       "      <td>1.485692</td>\n",
       "    </tr>\n",
       "    <tr>\n",
       "      <th>3</th>\n",
       "      <td>East Melbourne</td>\n",
       "      <td>0.823733</td>\n",
       "      <td>0.071429</td>\n",
       "      <td>0.077189</td>\n",
       "      <td>0.027650</td>\n",
       "      <td>0.930775</td>\n",
       "    </tr>\n",
       "    <tr>\n",
       "      <th>4</th>\n",
       "      <td>Flemington</td>\n",
       "      <td>0.000000</td>\n",
       "      <td>0.150000</td>\n",
       "      <td>0.000000</td>\n",
       "      <td>0.850000</td>\n",
       "      <td>0.609840</td>\n",
       "    </tr>\n",
       "  </tbody>\n",
       "</table>\n",
       "</div>"
      ],
      "text/plain": [
       "           suburb     House    Office  Restaurant  Public Transport         0\n",
       "0         Carlton  0.749883  0.054801    0.167681          0.027635  1.116052\n",
       "1   Carlton North  0.041667  0.041667    0.041667          0.875000  0.741685\n",
       "2       Docklands  0.307061  0.065681    0.568144          0.059113  1.485692\n",
       "3  East Melbourne  0.823733  0.071429    0.077189          0.027650  0.930775\n",
       "4      Flemington  0.000000  0.150000    0.000000          0.850000  0.609840"
      ]
     },
     "execution_count": 53,
     "metadata": {},
     "output_type": "execute_result"
    }
   ],
   "source": [
    "df_new.head()"
   ]
  },
  {
   "cell_type": "code",
   "execution_count": 52,
   "id": "f5fb66a0",
   "metadata": {},
   "outputs": [],
   "source": [
    "df_new.to_csv(r'C:\\Melbourne_Escooter\\RealDataset\\FinalResults\\SuburbWise\\Entropy.csv',index=False)"
   ]
  },
  {
   "cell_type": "markdown",
   "id": "01dc6659",
   "metadata": {},
   "source": [
    "## Without public transport "
   ]
  },
  {
   "cell_type": "code",
   "execution_count": 54,
   "id": "8ef3be88",
   "metadata": {},
   "outputs": [],
   "source": [
    "df=pd.read_csv(r'C:\\Melbourne_Escooter\\RealDataset\\FinalResults\\SuburbWise\\Venue Distribution-Without transport.csv')"
   ]
  },
  {
   "cell_type": "code",
   "execution_count": 55,
   "id": "b7ef69a6",
   "metadata": {},
   "outputs": [],
   "source": [
    "venue_dist=[]\n",
    "ls = df.values.tolist()\n",
    "for element in ls:\n",
    "    venue_dist.append(element[1:])"
   ]
  },
  {
   "cell_type": "code",
   "execution_count": 56,
   "id": "e330882a",
   "metadata": {},
   "outputs": [
    {
     "data": {
      "text/plain": [
       "[[0.771194605, 0.056358382, 0.172447013],\n",
       " [0.333333333, 0.333333333, 0.333333333],\n",
       " [0.326352531, 0.069808028, 0.603839442],\n",
       " [0.847156398, 0.073459716, 0.079383886],\n",
       " [0.0, 1.0, 0.0],\n",
       " [0.974285714, 0.00984127, 0.015873016],\n",
       " [0.161776368, 0.141157811, 0.697065821],\n",
       " [0.8939459, 0.050236153, 0.055817948],\n",
       " [0.955555556, 0.014379085, 0.030065359],\n",
       " [0.125, 0.390625, 0.484375],\n",
       " [0.052631579, 0.026315789, 0.921052632],\n",
       " [0.990578735, 0.001345895, 0.00807537],\n",
       " [0.24025974, 0.146103896, 0.613636364],\n",
       " [0.7875, 0.115, 0.0975]]"
      ]
     },
     "execution_count": 56,
     "metadata": {},
     "output_type": "execute_result"
    }
   ],
   "source": [
    "venue_dist"
   ]
  },
  {
   "cell_type": "code",
   "execution_count": 57,
   "id": "262d6079",
   "metadata": {},
   "outputs": [],
   "source": [
    "entropy_category_ls=[]\n",
    "for category in venue_dist:\n",
    "    entropy_category=entropy(category, base=2)\n",
    "    entropy_category_ls.append(entropy_category)"
   ]
  },
  {
   "cell_type": "code",
   "execution_count": 59,
   "id": "75922072",
   "metadata": {},
   "outputs": [],
   "source": [
    "entrpy=pd.DataFrame(entropy_category_ls)"
   ]
  },
  {
   "cell_type": "code",
   "execution_count": 60,
   "id": "cde9faa1",
   "metadata": {},
   "outputs": [],
   "source": [
    "df_new=pd.concat([df,entrpy], axis=1)"
   ]
  },
  {
   "cell_type": "code",
   "execution_count": 61,
   "id": "d2affb88",
   "metadata": {},
   "outputs": [],
   "source": [
    "df_new.to_csv(r'C:\\Melbourne_Escooter\\RealDataset\\FinalResults\\SuburbWise\\Entropy_withoutTransport.csv',index=False)"
   ]
  },
  {
   "cell_type": "code",
   "execution_count": null,
   "id": "2c0883d4",
   "metadata": {},
   "outputs": [],
   "source": []
  }
 ],
 "metadata": {
  "kernelspec": {
   "display_name": "Python 3 (ipykernel)",
   "language": "python",
   "name": "python3"
  },
  "language_info": {
   "codemirror_mode": {
    "name": "ipython",
    "version": 3
   },
   "file_extension": ".py",
   "mimetype": "text/x-python",
   "name": "python",
   "nbconvert_exporter": "python",
   "pygments_lexer": "ipython3",
   "version": "3.7.13"
  }
 },
 "nbformat": 4,
 "nbformat_minor": 5
}
