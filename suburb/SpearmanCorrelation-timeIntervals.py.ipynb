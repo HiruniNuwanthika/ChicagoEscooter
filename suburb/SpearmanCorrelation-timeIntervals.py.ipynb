{
 "cells": [
  {
   "cell_type": "code",
   "execution_count": 1,
   "id": "6a2c6e1d",
   "metadata": {},
   "outputs": [],
   "source": [
    "import pandas as pd"
   ]
  },
  {
   "cell_type": "code",
   "execution_count": 42,
   "id": "bdcfca93",
   "metadata": {},
   "outputs": [
    {
     "data": {
      "text/html": [
       "<div>\n",
       "<style scoped>\n",
       "    .dataframe tbody tr th:only-of-type {\n",
       "        vertical-align: middle;\n",
       "    }\n",
       "\n",
       "    .dataframe tbody tr th {\n",
       "        vertical-align: top;\n",
       "    }\n",
       "\n",
       "    .dataframe thead th {\n",
       "        text-align: right;\n",
       "    }\n",
       "</style>\n",
       "<table border=\"1\" class=\"dataframe\">\n",
       "  <thead>\n",
       "    <tr style=\"text-align: right;\">\n",
       "      <th></th>\n",
       "      <th>count_x</th>\n",
       "      <th>count_y</th>\n",
       "    </tr>\n",
       "  </thead>\n",
       "  <tbody>\n",
       "    <tr>\n",
       "      <th>count_x</th>\n",
       "      <td>1.000000</td>\n",
       "      <td>0.708288</td>\n",
       "    </tr>\n",
       "    <tr>\n",
       "      <th>count_y</th>\n",
       "      <td>0.708288</td>\n",
       "      <td>1.000000</td>\n",
       "    </tr>\n",
       "  </tbody>\n",
       "</table>\n",
       "</div>"
      ],
      "text/plain": [
       "          count_x   count_y\n",
       "count_x  1.000000  0.708288\n",
       "count_y  0.708288  1.000000"
      ]
     },
     "execution_count": 42,
     "metadata": {},
     "output_type": "execute_result"
    }
   ],
   "source": [
    "df_cafe=pd.read_csv(r'C:\\Melbourne_Escooter\\Melbourne-transport\\Bus Stops\\__suburbWiseCount.csv')\n",
    "df_start_m1=pd.read_csv(r'C:\\Melbourne_Escooter\\RealDataset\\FinalResults\\SuburbWise\\August\\start\\__m1.csv')\n",
    "cafe_start_m1=df_cafe.merge(df_start_m1, how='left', on='suburb')\n",
    "r_m1 = cafe_start_m1.corr(method=\"spearman\")\n",
    "r_m1"
   ]
  },
  {
   "cell_type": "code",
   "execution_count": 43,
   "id": "5686be34",
   "metadata": {},
   "outputs": [
    {
     "data": {
      "text/html": [
       "<div>\n",
       "<style scoped>\n",
       "    .dataframe tbody tr th:only-of-type {\n",
       "        vertical-align: middle;\n",
       "    }\n",
       "\n",
       "    .dataframe tbody tr th {\n",
       "        vertical-align: top;\n",
       "    }\n",
       "\n",
       "    .dataframe thead th {\n",
       "        text-align: right;\n",
       "    }\n",
       "</style>\n",
       "<table border=\"1\" class=\"dataframe\">\n",
       "  <thead>\n",
       "    <tr style=\"text-align: right;\">\n",
       "      <th></th>\n",
       "      <th>count_x</th>\n",
       "      <th>count_y</th>\n",
       "    </tr>\n",
       "  </thead>\n",
       "  <tbody>\n",
       "    <tr>\n",
       "      <th>count_x</th>\n",
       "      <td>1.000000</td>\n",
       "      <td>0.738703</td>\n",
       "    </tr>\n",
       "    <tr>\n",
       "      <th>count_y</th>\n",
       "      <td>0.738703</td>\n",
       "      <td>1.000000</td>\n",
       "    </tr>\n",
       "  </tbody>\n",
       "</table>\n",
       "</div>"
      ],
      "text/plain": [
       "          count_x   count_y\n",
       "count_x  1.000000  0.738703\n",
       "count_y  0.738703  1.000000"
      ]
     },
     "execution_count": 43,
     "metadata": {},
     "output_type": "execute_result"
    }
   ],
   "source": [
    "df_cafe=pd.read_csv(r'C:\\Melbourne_Escooter\\Melbourne-transport\\Bus Stops\\__suburbWiseCount.csv')\n",
    "df_start_m1=pd.read_csv(r'C:\\Melbourne_Escooter\\RealDataset\\FinalResults\\SuburbWise\\August\\start\\__m2.csv')\n",
    "cafe_start_m1=df_cafe.merge(df_start_m1, how='left', on='suburb')\n",
    "r_m1 = cafe_start_m1.corr(method=\"spearman\")\n",
    "r_m1"
   ]
  },
  {
   "cell_type": "code",
   "execution_count": 44,
   "id": "f02fd2a1",
   "metadata": {},
   "outputs": [
    {
     "data": {
      "text/html": [
       "<div>\n",
       "<style scoped>\n",
       "    .dataframe tbody tr th:only-of-type {\n",
       "        vertical-align: middle;\n",
       "    }\n",
       "\n",
       "    .dataframe tbody tr th {\n",
       "        vertical-align: top;\n",
       "    }\n",
       "\n",
       "    .dataframe thead th {\n",
       "        text-align: right;\n",
       "    }\n",
       "</style>\n",
       "<table border=\"1\" class=\"dataframe\">\n",
       "  <thead>\n",
       "    <tr style=\"text-align: right;\">\n",
       "      <th></th>\n",
       "      <th>count_x</th>\n",
       "      <th>count_y</th>\n",
       "    </tr>\n",
       "  </thead>\n",
       "  <tbody>\n",
       "    <tr>\n",
       "      <th>count_x</th>\n",
       "      <td>1.000000</td>\n",
       "      <td>0.723267</td>\n",
       "    </tr>\n",
       "    <tr>\n",
       "      <th>count_y</th>\n",
       "      <td>0.723267</td>\n",
       "      <td>1.000000</td>\n",
       "    </tr>\n",
       "  </tbody>\n",
       "</table>\n",
       "</div>"
      ],
      "text/plain": [
       "          count_x   count_y\n",
       "count_x  1.000000  0.723267\n",
       "count_y  0.723267  1.000000"
      ]
     },
     "execution_count": 44,
     "metadata": {},
     "output_type": "execute_result"
    }
   ],
   "source": [
    "df_cafe=pd.read_csv(r'C:\\Melbourne_Escooter\\Melbourne-transport\\Bus Stops\\__suburbWiseCount.csv')\n",
    "df_start_m1=pd.read_csv(r'C:\\Melbourne_Escooter\\RealDataset\\FinalResults\\SuburbWise\\August\\start\\__e1.csv')\n",
    "cafe_start_m1=df_cafe.merge(df_start_m1, how='left', on='suburb')\n",
    "r_m1 = cafe_start_m1.corr(method=\"spearman\")\n",
    "r_m1"
   ]
  },
  {
   "cell_type": "code",
   "execution_count": 45,
   "id": "5e9f1a39",
   "metadata": {},
   "outputs": [
    {
     "data": {
      "text/html": [
       "<div>\n",
       "<style scoped>\n",
       "    .dataframe tbody tr th:only-of-type {\n",
       "        vertical-align: middle;\n",
       "    }\n",
       "\n",
       "    .dataframe tbody tr th {\n",
       "        vertical-align: top;\n",
       "    }\n",
       "\n",
       "    .dataframe thead th {\n",
       "        text-align: right;\n",
       "    }\n",
       "</style>\n",
       "<table border=\"1\" class=\"dataframe\">\n",
       "  <thead>\n",
       "    <tr style=\"text-align: right;\">\n",
       "      <th></th>\n",
       "      <th>count_x</th>\n",
       "      <th>count_y</th>\n",
       "    </tr>\n",
       "  </thead>\n",
       "  <tbody>\n",
       "    <tr>\n",
       "      <th>count_x</th>\n",
       "      <td>1.000000</td>\n",
       "      <td>0.703422</td>\n",
       "    </tr>\n",
       "    <tr>\n",
       "      <th>count_y</th>\n",
       "      <td>0.703422</td>\n",
       "      <td>1.000000</td>\n",
       "    </tr>\n",
       "  </tbody>\n",
       "</table>\n",
       "</div>"
      ],
      "text/plain": [
       "          count_x   count_y\n",
       "count_x  1.000000  0.703422\n",
       "count_y  0.703422  1.000000"
      ]
     },
     "execution_count": 45,
     "metadata": {},
     "output_type": "execute_result"
    }
   ],
   "source": [
    "df_cafe=pd.read_csv(r'C:\\Melbourne_Escooter\\Melbourne-transport\\Bus Stops\\__suburbWiseCount.csv')\n",
    "df_start_m1=pd.read_csv(r'C:\\Melbourne_Escooter\\RealDataset\\FinalResults\\SuburbWise\\August\\start\\__e2.csv')\n",
    "cafe_start_m1=df_cafe.merge(df_start_m1, how='left', on='suburb')\n",
    "r_m1 = cafe_start_m1.corr(method=\"spearman\")\n",
    "r_m1"
   ]
  },
  {
   "cell_type": "code",
   "execution_count": 46,
   "id": "9819e6f4",
   "metadata": {},
   "outputs": [
    {
     "data": {
      "text/html": [
       "<div>\n",
       "<style scoped>\n",
       "    .dataframe tbody tr th:only-of-type {\n",
       "        vertical-align: middle;\n",
       "    }\n",
       "\n",
       "    .dataframe tbody tr th {\n",
       "        vertical-align: top;\n",
       "    }\n",
       "\n",
       "    .dataframe thead th {\n",
       "        text-align: right;\n",
       "    }\n",
       "</style>\n",
       "<table border=\"1\" class=\"dataframe\">\n",
       "  <thead>\n",
       "    <tr style=\"text-align: right;\">\n",
       "      <th></th>\n",
       "      <th>count_x</th>\n",
       "      <th>count_y</th>\n",
       "    </tr>\n",
       "  </thead>\n",
       "  <tbody>\n",
       "    <tr>\n",
       "      <th>count_x</th>\n",
       "      <td>1.000000</td>\n",
       "      <td>0.637269</td>\n",
       "    </tr>\n",
       "    <tr>\n",
       "      <th>count_y</th>\n",
       "      <td>0.637269</td>\n",
       "      <td>1.000000</td>\n",
       "    </tr>\n",
       "  </tbody>\n",
       "</table>\n",
       "</div>"
      ],
      "text/plain": [
       "          count_x   count_y\n",
       "count_x  1.000000  0.637269\n",
       "count_y  0.637269  1.000000"
      ]
     },
     "execution_count": 46,
     "metadata": {},
     "output_type": "execute_result"
    }
   ],
   "source": [
    "df_cafe=pd.read_csv(r'C:\\Melbourne_Escooter\\Melbourne-transport\\Bus Stops\\__suburbWiseCount.csv')\n",
    "df_start_m1=pd.read_csv(r'C:\\Melbourne_Escooter\\RealDataset\\FinalResults\\SuburbWise\\August\\start\\__n1.csv')\n",
    "cafe_start_m1=df_cafe.merge(df_start_m1, how='left', on='suburb')\n",
    "r_m1 = cafe_start_m1.corr(method=\"spearman\")\n",
    "r_m1"
   ]
  },
  {
   "cell_type": "code",
   "execution_count": 47,
   "id": "4a20c702",
   "metadata": {},
   "outputs": [
    {
     "data": {
      "text/html": [
       "<div>\n",
       "<style scoped>\n",
       "    .dataframe tbody tr th:only-of-type {\n",
       "        vertical-align: middle;\n",
       "    }\n",
       "\n",
       "    .dataframe tbody tr th {\n",
       "        vertical-align: top;\n",
       "    }\n",
       "\n",
       "    .dataframe thead th {\n",
       "        text-align: right;\n",
       "    }\n",
       "</style>\n",
       "<table border=\"1\" class=\"dataframe\">\n",
       "  <thead>\n",
       "    <tr style=\"text-align: right;\">\n",
       "      <th></th>\n",
       "      <th>count_x</th>\n",
       "      <th>count_y</th>\n",
       "    </tr>\n",
       "  </thead>\n",
       "  <tbody>\n",
       "    <tr>\n",
       "      <th>count_x</th>\n",
       "      <td>1.000000</td>\n",
       "      <td>0.595373</td>\n",
       "    </tr>\n",
       "    <tr>\n",
       "      <th>count_y</th>\n",
       "      <td>0.595373</td>\n",
       "      <td>1.000000</td>\n",
       "    </tr>\n",
       "  </tbody>\n",
       "</table>\n",
       "</div>"
      ],
      "text/plain": [
       "          count_x   count_y\n",
       "count_x  1.000000  0.595373\n",
       "count_y  0.595373  1.000000"
      ]
     },
     "execution_count": 47,
     "metadata": {},
     "output_type": "execute_result"
    }
   ],
   "source": [
    "df_cafe=pd.read_csv(r'C:\\Melbourne_Escooter\\Melbourne-transport\\Bus Stops\\__suburbWiseCount.csv')\n",
    "df_start_m1=pd.read_csv(r'C:\\Melbourne_Escooter\\RealDataset\\FinalResults\\SuburbWise\\August\\start\\__n2.csv')\n",
    "cafe_start_m1=df_cafe.merge(df_start_m1, how='left', on='suburb')\n",
    "r_m1 = cafe_start_m1.corr(method=\"spearman\")\n",
    "r_m1"
   ]
  },
  {
   "cell_type": "code",
   "execution_count": null,
   "id": "e197ec2d",
   "metadata": {},
   "outputs": [],
   "source": []
  }
 ],
 "metadata": {
  "kernelspec": {
   "display_name": "Python 3 (ipykernel)",
   "language": "python",
   "name": "python3"
  },
  "language_info": {
   "codemirror_mode": {
    "name": "ipython",
    "version": 3
   },
   "file_extension": ".py",
   "mimetype": "text/x-python",
   "name": "python",
   "nbconvert_exporter": "python",
   "pygments_lexer": "ipython3",
   "version": "3.7.13"
  }
 },
 "nbformat": 4,
 "nbformat_minor": 5
}
