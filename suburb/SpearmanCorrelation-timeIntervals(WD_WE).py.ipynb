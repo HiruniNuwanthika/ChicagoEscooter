{
 "cells": [
  {
   "cell_type": "code",
   "execution_count": 2,
   "id": "6a2c6e1d",
   "metadata": {},
   "outputs": [],
   "source": [
    "import pandas as pd"
   ]
  },
  {
   "cell_type": "code",
   "execution_count": 84,
   "id": "bdcfca93",
   "metadata": {},
   "outputs": [
    {
     "data": {
      "text/html": [
       "<div>\n",
       "<style scoped>\n",
       "    .dataframe tbody tr th:only-of-type {\n",
       "        vertical-align: middle;\n",
       "    }\n",
       "\n",
       "    .dataframe tbody tr th {\n",
       "        vertical-align: top;\n",
       "    }\n",
       "\n",
       "    .dataframe thead th {\n",
       "        text-align: right;\n",
       "    }\n",
       "</style>\n",
       "<table border=\"1\" class=\"dataframe\">\n",
       "  <thead>\n",
       "    <tr style=\"text-align: right;\">\n",
       "      <th></th>\n",
       "      <th>count_x</th>\n",
       "      <th>count_y</th>\n",
       "    </tr>\n",
       "  </thead>\n",
       "  <tbody>\n",
       "    <tr>\n",
       "      <th>count_x</th>\n",
       "      <td>1.000000</td>\n",
       "      <td>0.329175</td>\n",
       "    </tr>\n",
       "    <tr>\n",
       "      <th>count_y</th>\n",
       "      <td>0.329175</td>\n",
       "      <td>1.000000</td>\n",
       "    </tr>\n",
       "  </tbody>\n",
       "</table>\n",
       "</div>"
      ],
      "text/plain": [
       "          count_x   count_y\n",
       "count_x  1.000000  0.329175\n",
       "count_y  0.329175  1.000000"
      ]
     },
     "execution_count": 84,
     "metadata": {},
     "output_type": "execute_result"
    }
   ],
   "source": [
    "df_cafe=pd.read_csv(r'C:\\Melbourne_Escooter\\Melbourne-buildings\\Recreation\\__suburbWiseCount.csv')\n",
    "df_start_m1=pd.read_csv(r'C:\\Melbourne_Escooter\\RealDataset\\FinalResults\\SuburbWise\\August\\start\\__weekend__m1.csv')\n",
    "cafe_start_m1=df_cafe.merge(df_start_m1, how='left', on='suburb')\n",
    "r_m1 = cafe_start_m1.corr(method=\"spearman\")\n",
    "r_m1"
   ]
  },
  {
   "cell_type": "code",
   "execution_count": 85,
   "id": "5686be34",
   "metadata": {},
   "outputs": [
    {
     "data": {
      "text/html": [
       "<div>\n",
       "<style scoped>\n",
       "    .dataframe tbody tr th:only-of-type {\n",
       "        vertical-align: middle;\n",
       "    }\n",
       "\n",
       "    .dataframe tbody tr th {\n",
       "        vertical-align: top;\n",
       "    }\n",
       "\n",
       "    .dataframe thead th {\n",
       "        text-align: right;\n",
       "    }\n",
       "</style>\n",
       "<table border=\"1\" class=\"dataframe\">\n",
       "  <thead>\n",
       "    <tr style=\"text-align: right;\">\n",
       "      <th></th>\n",
       "      <th>count_x</th>\n",
       "      <th>count_y</th>\n",
       "    </tr>\n",
       "  </thead>\n",
       "  <tbody>\n",
       "    <tr>\n",
       "      <th>count_x</th>\n",
       "      <td>1.000000</td>\n",
       "      <td>0.446339</td>\n",
       "    </tr>\n",
       "    <tr>\n",
       "      <th>count_y</th>\n",
       "      <td>0.446339</td>\n",
       "      <td>1.000000</td>\n",
       "    </tr>\n",
       "  </tbody>\n",
       "</table>\n",
       "</div>"
      ],
      "text/plain": [
       "          count_x   count_y\n",
       "count_x  1.000000  0.446339\n",
       "count_y  0.446339  1.000000"
      ]
     },
     "execution_count": 85,
     "metadata": {},
     "output_type": "execute_result"
    }
   ],
   "source": [
    "df_cafe=pd.read_csv(r'C:\\Melbourne_Escooter\\Melbourne-buildings\\Recreation\\__suburbWiseCount.csv')\n",
    "df_start_m1=pd.read_csv(r'C:\\Melbourne_Escooter\\RealDataset\\FinalResults\\SuburbWise\\August\\start\\__weekend__m2.csv')\n",
    "cafe_start_m1=df_cafe.merge(df_start_m1, how='left', on='suburb')\n",
    "r_m1 = cafe_start_m1.corr(method=\"spearman\")\n",
    "r_m1"
   ]
  },
  {
   "cell_type": "code",
   "execution_count": 86,
   "id": "f02fd2a1",
   "metadata": {},
   "outputs": [
    {
     "data": {
      "text/html": [
       "<div>\n",
       "<style scoped>\n",
       "    .dataframe tbody tr th:only-of-type {\n",
       "        vertical-align: middle;\n",
       "    }\n",
       "\n",
       "    .dataframe tbody tr th {\n",
       "        vertical-align: top;\n",
       "    }\n",
       "\n",
       "    .dataframe thead th {\n",
       "        text-align: right;\n",
       "    }\n",
       "</style>\n",
       "<table border=\"1\" class=\"dataframe\">\n",
       "  <thead>\n",
       "    <tr style=\"text-align: right;\">\n",
       "      <th></th>\n",
       "      <th>count_x</th>\n",
       "      <th>count_y</th>\n",
       "    </tr>\n",
       "  </thead>\n",
       "  <tbody>\n",
       "    <tr>\n",
       "      <th>count_x</th>\n",
       "      <td>1.00000</td>\n",
       "      <td>0.39001</td>\n",
       "    </tr>\n",
       "    <tr>\n",
       "      <th>count_y</th>\n",
       "      <td>0.39001</td>\n",
       "      <td>1.00000</td>\n",
       "    </tr>\n",
       "  </tbody>\n",
       "</table>\n",
       "</div>"
      ],
      "text/plain": [
       "         count_x  count_y\n",
       "count_x  1.00000  0.39001\n",
       "count_y  0.39001  1.00000"
      ]
     },
     "execution_count": 86,
     "metadata": {},
     "output_type": "execute_result"
    }
   ],
   "source": [
    "df_cafe=pd.read_csv(r'C:\\Melbourne_Escooter\\Melbourne-buildings\\Recreation\\__suburbWiseCount.csv')\n",
    "df_start_m1=pd.read_csv(r'C:\\Melbourne_Escooter\\RealDataset\\FinalResults\\SuburbWise\\August\\start\\__weekend__e1.csv')\n",
    "cafe_start_m1=df_cafe.merge(df_start_m1, how='left', on='suburb')\n",
    "r_m1 = cafe_start_m1.corr(method=\"spearman\")\n",
    "r_m1"
   ]
  },
  {
   "cell_type": "code",
   "execution_count": 87,
   "id": "5e9f1a39",
   "metadata": {},
   "outputs": [
    {
     "data": {
      "text/html": [
       "<div>\n",
       "<style scoped>\n",
       "    .dataframe tbody tr th:only-of-type {\n",
       "        vertical-align: middle;\n",
       "    }\n",
       "\n",
       "    .dataframe tbody tr th {\n",
       "        vertical-align: top;\n",
       "    }\n",
       "\n",
       "    .dataframe thead th {\n",
       "        text-align: right;\n",
       "    }\n",
       "</style>\n",
       "<table border=\"1\" class=\"dataframe\">\n",
       "  <thead>\n",
       "    <tr style=\"text-align: right;\">\n",
       "      <th></th>\n",
       "      <th>count_x</th>\n",
       "      <th>count_y</th>\n",
       "    </tr>\n",
       "  </thead>\n",
       "  <tbody>\n",
       "    <tr>\n",
       "      <th>count_x</th>\n",
       "      <td>1.000000</td>\n",
       "      <td>0.338939</td>\n",
       "    </tr>\n",
       "    <tr>\n",
       "      <th>count_y</th>\n",
       "      <td>0.338939</td>\n",
       "      <td>1.000000</td>\n",
       "    </tr>\n",
       "  </tbody>\n",
       "</table>\n",
       "</div>"
      ],
      "text/plain": [
       "          count_x   count_y\n",
       "count_x  1.000000  0.338939\n",
       "count_y  0.338939  1.000000"
      ]
     },
     "execution_count": 87,
     "metadata": {},
     "output_type": "execute_result"
    }
   ],
   "source": [
    "df_cafe=pd.read_csv(r'C:\\Melbourne_Escooter\\Melbourne-buildings\\Recreation\\__suburbWiseCount.csv')\n",
    "df_start_m1=pd.read_csv(r'C:\\Melbourne_Escooter\\RealDataset\\FinalResults\\SuburbWise\\August\\start\\__weekend__e2.csv')\n",
    "cafe_start_m1=df_cafe.merge(df_start_m1, how='left', on='suburb')\n",
    "r_m1 = cafe_start_m1.corr(method=\"spearman\")\n",
    "r_m1"
   ]
  },
  {
   "cell_type": "code",
   "execution_count": 88,
   "id": "9819e6f4",
   "metadata": {},
   "outputs": [
    {
     "data": {
      "text/html": [
       "<div>\n",
       "<style scoped>\n",
       "    .dataframe tbody tr th:only-of-type {\n",
       "        vertical-align: middle;\n",
       "    }\n",
       "\n",
       "    .dataframe tbody tr th {\n",
       "        vertical-align: top;\n",
       "    }\n",
       "\n",
       "    .dataframe thead th {\n",
       "        text-align: right;\n",
       "    }\n",
       "</style>\n",
       "<table border=\"1\" class=\"dataframe\">\n",
       "  <thead>\n",
       "    <tr style=\"text-align: right;\">\n",
       "      <th></th>\n",
       "      <th>count_x</th>\n",
       "      <th>count_y</th>\n",
       "    </tr>\n",
       "  </thead>\n",
       "  <tbody>\n",
       "    <tr>\n",
       "      <th>count_x</th>\n",
       "      <td>1.00000</td>\n",
       "      <td>0.36109</td>\n",
       "    </tr>\n",
       "    <tr>\n",
       "      <th>count_y</th>\n",
       "      <td>0.36109</td>\n",
       "      <td>1.00000</td>\n",
       "    </tr>\n",
       "  </tbody>\n",
       "</table>\n",
       "</div>"
      ],
      "text/plain": [
       "         count_x  count_y\n",
       "count_x  1.00000  0.36109\n",
       "count_y  0.36109  1.00000"
      ]
     },
     "execution_count": 88,
     "metadata": {},
     "output_type": "execute_result"
    }
   ],
   "source": [
    "df_cafe=pd.read_csv(r'C:\\Melbourne_Escooter\\Melbourne-buildings\\Recreation\\__suburbWiseCount.csv')\n",
    "df_start_m1=pd.read_csv(r'C:\\Melbourne_Escooter\\RealDataset\\FinalResults\\SuburbWise\\August\\start\\__weekend__n1.csv')\n",
    "cafe_start_m1=df_cafe.merge(df_start_m1, how='left', on='suburb')\n",
    "r_m1 = cafe_start_m1.corr(method=\"spearman\")\n",
    "r_m1"
   ]
  },
  {
   "cell_type": "code",
   "execution_count": 89,
   "id": "4a20c702",
   "metadata": {},
   "outputs": [
    {
     "data": {
      "text/html": [
       "<div>\n",
       "<style scoped>\n",
       "    .dataframe tbody tr th:only-of-type {\n",
       "        vertical-align: middle;\n",
       "    }\n",
       "\n",
       "    .dataframe tbody tr th {\n",
       "        vertical-align: top;\n",
       "    }\n",
       "\n",
       "    .dataframe thead th {\n",
       "        text-align: right;\n",
       "    }\n",
       "</style>\n",
       "<table border=\"1\" class=\"dataframe\">\n",
       "  <thead>\n",
       "    <tr style=\"text-align: right;\">\n",
       "      <th></th>\n",
       "      <th>count_x</th>\n",
       "      <th>count_y</th>\n",
       "    </tr>\n",
       "  </thead>\n",
       "  <tbody>\n",
       "    <tr>\n",
       "      <th>count_x</th>\n",
       "      <td>1.000000</td>\n",
       "      <td>0.342652</td>\n",
       "    </tr>\n",
       "    <tr>\n",
       "      <th>count_y</th>\n",
       "      <td>0.342652</td>\n",
       "      <td>1.000000</td>\n",
       "    </tr>\n",
       "  </tbody>\n",
       "</table>\n",
       "</div>"
      ],
      "text/plain": [
       "          count_x   count_y\n",
       "count_x  1.000000  0.342652\n",
       "count_y  0.342652  1.000000"
      ]
     },
     "execution_count": 89,
     "metadata": {},
     "output_type": "execute_result"
    }
   ],
   "source": [
    "df_cafe=pd.read_csv(r'C:\\Melbourne_Escooter\\Melbourne-buildings\\Recreation\\__suburbWiseCount.csv')\n",
    "df_start_m1=pd.read_csv(r'C:\\Melbourne_Escooter\\RealDataset\\FinalResults\\SuburbWise\\August\\start\\__weekend__n2.csv')\n",
    "cafe_start_m1=df_cafe.merge(df_start_m1, how='left', on='suburb')\n",
    "r_m1 = cafe_start_m1.corr(method=\"spearman\")\n",
    "r_m1"
   ]
  },
  {
   "cell_type": "code",
   "execution_count": null,
   "id": "e197ec2d",
   "metadata": {},
   "outputs": [],
   "source": []
  }
 ],
 "metadata": {
  "kernelspec": {
   "display_name": "Python 3 (ipykernel)",
   "language": "python",
   "name": "python3"
  },
  "language_info": {
   "codemirror_mode": {
    "name": "ipython",
    "version": 3
   },
   "file_extension": ".py",
   "mimetype": "text/x-python",
   "name": "python",
   "nbconvert_exporter": "python",
   "pygments_lexer": "ipython3",
   "version": "3.7.13"
  }
 },
 "nbformat": 4,
 "nbformat_minor": 5
}
