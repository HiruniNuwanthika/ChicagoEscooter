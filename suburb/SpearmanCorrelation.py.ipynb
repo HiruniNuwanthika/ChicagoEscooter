{
 "cells": [
  {
   "cell_type": "markdown",
   "id": "8b8436f4",
   "metadata": {},
   "source": [
    "## Cafe VS. trips "
   ]
  },
  {
   "cell_type": "code",
   "execution_count": 1,
   "id": "06d70b69",
   "metadata": {},
   "outputs": [],
   "source": [
    "import pandas as pd"
   ]
  },
  {
   "cell_type": "code",
   "execution_count": 40,
   "id": "b8eda984",
   "metadata": {},
   "outputs": [],
   "source": [
    "df_cafe=pd.read_csv(r'C:\\Melbourne_Escooter\\Melbourne-buildings\\Cafe\\__suburbWiseCount.csv')\n",
    "df_start=pd.read_csv(r'C:\\Melbourne_Escooter\\RealDataset\\FinalResults\\SuburbWise\\August\\start\\__1to7.csv')"
   ]
  },
  {
   "cell_type": "code",
   "execution_count": 41,
   "id": "dc9d1b66",
   "metadata": {},
   "outputs": [],
   "source": [
    "cafe_start=df_cafe.merge(df_start, how='left', on='suburb')\n",
    "cafe_start.rename(columns = {'suburb':'suburb', 'count_x':'restaurant count', 'count_y':'trip start count'}, inplace = True)\n",
    "cafe_start.to_csv(r'C:\\Melbourne_Escooter\\RealDataset\\FinalResults\\SuburbWise\\August\\__1to7Start_Cafe.csv',index=False)"
   ]
  },
  {
   "cell_type": "code",
   "execution_count": 42,
   "id": "94245598",
   "metadata": {},
   "outputs": [
    {
     "data": {
      "text/html": [
       "<div>\n",
       "<style scoped>\n",
       "    .dataframe tbody tr th:only-of-type {\n",
       "        vertical-align: middle;\n",
       "    }\n",
       "\n",
       "    .dataframe tbody tr th {\n",
       "        vertical-align: top;\n",
       "    }\n",
       "\n",
       "    .dataframe thead th {\n",
       "        text-align: right;\n",
       "    }\n",
       "</style>\n",
       "<table border=\"1\" class=\"dataframe\">\n",
       "  <thead>\n",
       "    <tr style=\"text-align: right;\">\n",
       "      <th></th>\n",
       "      <th>restaurant count</th>\n",
       "      <th>trip start count</th>\n",
       "    </tr>\n",
       "  </thead>\n",
       "  <tbody>\n",
       "    <tr>\n",
       "      <th>restaurant count</th>\n",
       "      <td>1.000000</td>\n",
       "      <td>0.868132</td>\n",
       "    </tr>\n",
       "    <tr>\n",
       "      <th>trip start count</th>\n",
       "      <td>0.868132</td>\n",
       "      <td>1.000000</td>\n",
       "    </tr>\n",
       "  </tbody>\n",
       "</table>\n",
       "</div>"
      ],
      "text/plain": [
       "                  restaurant count  trip start count\n",
       "restaurant count          1.000000          0.868132\n",
       "trip start count          0.868132          1.000000"
      ]
     },
     "execution_count": 42,
     "metadata": {},
     "output_type": "execute_result"
    }
   ],
   "source": [
    "my_r = cafe_start.corr(method=\"spearman\")\n",
    "my_r"
   ]
  },
  {
   "cell_type": "code",
   "execution_count": 62,
   "id": "78c3245d",
   "metadata": {},
   "outputs": [],
   "source": [
    "df_cafe=pd.read_csv(r'C:\\Melbourne_Escooter\\Melbourne-buildings\\Cafe\\__suburbWiseCount.csv')\n",
    "df_stop=pd.read_csv(r'C:\\Melbourne_Escooter\\RealDataset\\FinalResults\\SuburbWise\\August\\stop\\__1to7.csv')"
   ]
  },
  {
   "cell_type": "code",
   "execution_count": 63,
   "id": "2c092ad5",
   "metadata": {},
   "outputs": [],
   "source": [
    "cafe_stop=df_cafe.merge(df_stop, how='left', on='suburb')\n",
    "cafe_stop.rename(columns = {'suburb':'suburb', 'count_x':'restaurant count', 'count_y':'trip stop count'}, inplace = True)\n",
    "cafe_stop.to_csv(r'C:\\Melbourne_Escooter\\RealDataset\\FinalResults\\SuburbWise\\August\\__1to7Stop_Cafe.csv',index=False)"
   ]
  },
  {
   "cell_type": "code",
   "execution_count": 64,
   "id": "3b9df7b1",
   "metadata": {},
   "outputs": [
    {
     "data": {
      "text/html": [
       "<div>\n",
       "<style scoped>\n",
       "    .dataframe tbody tr th:only-of-type {\n",
       "        vertical-align: middle;\n",
       "    }\n",
       "\n",
       "    .dataframe tbody tr th {\n",
       "        vertical-align: top;\n",
       "    }\n",
       "\n",
       "    .dataframe thead th {\n",
       "        text-align: right;\n",
       "    }\n",
       "</style>\n",
       "<table border=\"1\" class=\"dataframe\">\n",
       "  <thead>\n",
       "    <tr style=\"text-align: right;\">\n",
       "      <th></th>\n",
       "      <th>restaurant count</th>\n",
       "      <th>trip stop count</th>\n",
       "    </tr>\n",
       "  </thead>\n",
       "  <tbody>\n",
       "    <tr>\n",
       "      <th>restaurant count</th>\n",
       "      <td>1.000000</td>\n",
       "      <td>0.868132</td>\n",
       "    </tr>\n",
       "    <tr>\n",
       "      <th>trip stop count</th>\n",
       "      <td>0.868132</td>\n",
       "      <td>1.000000</td>\n",
       "    </tr>\n",
       "  </tbody>\n",
       "</table>\n",
       "</div>"
      ],
      "text/plain": [
       "                  restaurant count  trip stop count\n",
       "restaurant count          1.000000         0.868132\n",
       "trip stop count           0.868132         1.000000"
      ]
     },
     "execution_count": 64,
     "metadata": {},
     "output_type": "execute_result"
    }
   ],
   "source": [
    "my_r = cafe_stop.corr(method=\"spearman\")\n",
    "my_r"
   ]
  },
  {
   "cell_type": "markdown",
   "id": "b6e7aa38",
   "metadata": {},
   "source": [
    "## Tram Stop Vs. Trips "
   ]
  },
  {
   "cell_type": "code",
   "execution_count": 52,
   "id": "fd23071e",
   "metadata": {},
   "outputs": [],
   "source": [
    "df_cafe=pd.read_csv(r'C:\\Melbourne_Escooter\\Melbourne-transport\\Trams\\__suburbWiseCount.csv')\n",
    "df_start=pd.read_csv(r'C:\\Melbourne_Escooter\\RealDataset\\FinalResults\\SuburbWise\\August\\start\\__1to7.csv')"
   ]
  },
  {
   "cell_type": "code",
   "execution_count": 47,
   "id": "72ef2900",
   "metadata": {},
   "outputs": [],
   "source": [
    "cafe_start=df_cafe.merge(df_start, how='left', on='suburb')\n",
    "cafe_start.rename(columns = {'suburb':'suburb', 'count_x':'restaurant count', 'count_y':'trip start count'}, inplace = True)\n",
    "cafe_start.to_csv(r'C:\\Melbourne_Escooter\\RealDataset\\FinalResults\\SuburbWise\\August\\__1to7Start_Tramstops.csv',index=False)"
   ]
  },
  {
   "cell_type": "code",
   "execution_count": 55,
   "id": "e457efda",
   "metadata": {},
   "outputs": [
    {
     "data": {
      "text/html": [
       "<div>\n",
       "<style scoped>\n",
       "    .dataframe tbody tr th:only-of-type {\n",
       "        vertical-align: middle;\n",
       "    }\n",
       "\n",
       "    .dataframe tbody tr th {\n",
       "        vertical-align: top;\n",
       "    }\n",
       "\n",
       "    .dataframe thead th {\n",
       "        text-align: right;\n",
       "    }\n",
       "</style>\n",
       "<table border=\"1\" class=\"dataframe\">\n",
       "  <thead>\n",
       "    <tr style=\"text-align: right;\">\n",
       "      <th></th>\n",
       "      <th>tram stop count</th>\n",
       "      <th>count</th>\n",
       "    </tr>\n",
       "  </thead>\n",
       "  <tbody>\n",
       "    <tr>\n",
       "      <th>tram stop count</th>\n",
       "      <td>1.000000</td>\n",
       "      <td>0.426843</td>\n",
       "    </tr>\n",
       "    <tr>\n",
       "      <th>count</th>\n",
       "      <td>0.426843</td>\n",
       "      <td>1.000000</td>\n",
       "    </tr>\n",
       "  </tbody>\n",
       "</table>\n",
       "</div>"
      ],
      "text/plain": [
       "                 tram stop count     count\n",
       "tram stop count         1.000000  0.426843\n",
       "count                   0.426843  1.000000"
      ]
     },
     "execution_count": 55,
     "metadata": {},
     "output_type": "execute_result"
    }
   ],
   "source": [
    "cafe_start=pd.read_csv(r'C:\\Melbourne_Escooter\\RealDataset\\FinalResults\\SuburbWise\\August\\__1to7Start_Tramstops.csv')\n",
    "my_r = cafe_start.corr(method=\"spearman\")\n",
    "my_r"
   ]
  },
  {
   "cell_type": "code",
   "execution_count": 54,
   "id": "3fab7947",
   "metadata": {},
   "outputs": [
    {
     "data": {
      "text/html": [
       "<div>\n",
       "<style scoped>\n",
       "    .dataframe tbody tr th:only-of-type {\n",
       "        vertical-align: middle;\n",
       "    }\n",
       "\n",
       "    .dataframe tbody tr th {\n",
       "        vertical-align: top;\n",
       "    }\n",
       "\n",
       "    .dataframe thead th {\n",
       "        text-align: right;\n",
       "    }\n",
       "</style>\n",
       "<table border=\"1\" class=\"dataframe\">\n",
       "  <thead>\n",
       "    <tr style=\"text-align: right;\">\n",
       "      <th></th>\n",
       "      <th>suburb</th>\n",
       "      <th>tram stop count</th>\n",
       "      <th>count</th>\n",
       "    </tr>\n",
       "  </thead>\n",
       "  <tbody>\n",
       "    <tr>\n",
       "      <th>0</th>\n",
       "      <td>Abbotsford</td>\n",
       "      <td>12</td>\n",
       "      <td>372.0</td>\n",
       "    </tr>\n",
       "    <tr>\n",
       "      <th>1</th>\n",
       "      <td>Airport West</td>\n",
       "      <td>11</td>\n",
       "      <td>NaN</td>\n",
       "    </tr>\n",
       "    <tr>\n",
       "      <th>2</th>\n",
       "      <td>Albert Park</td>\n",
       "      <td>20</td>\n",
       "      <td>154.0</td>\n",
       "    </tr>\n",
       "    <tr>\n",
       "      <th>3</th>\n",
       "      <td>Armadale</td>\n",
       "      <td>28</td>\n",
       "      <td>3.0</td>\n",
       "    </tr>\n",
       "    <tr>\n",
       "      <th>4</th>\n",
       "      <td>Ascot Vale</td>\n",
       "      <td>25</td>\n",
       "      <td>3.0</td>\n",
       "    </tr>\n",
       "    <tr>\n",
       "      <th>...</th>\n",
       "      <td>...</td>\n",
       "      <td>...</td>\n",
       "      <td>...</td>\n",
       "    </tr>\n",
       "    <tr>\n",
       "      <th>72</th>\n",
       "      <td>Thornbury</td>\n",
       "      <td>18</td>\n",
       "      <td>NaN</td>\n",
       "    </tr>\n",
       "    <tr>\n",
       "      <th>73</th>\n",
       "      <td>Toorak</td>\n",
       "      <td>28</td>\n",
       "      <td>NaN</td>\n",
       "    </tr>\n",
       "    <tr>\n",
       "      <th>74</th>\n",
       "      <td>Travancore</td>\n",
       "      <td>9</td>\n",
       "      <td>NaN</td>\n",
       "    </tr>\n",
       "    <tr>\n",
       "      <th>75</th>\n",
       "      <td>West Melbourne</td>\n",
       "      <td>6</td>\n",
       "      <td>618.0</td>\n",
       "    </tr>\n",
       "    <tr>\n",
       "      <th>76</th>\n",
       "      <td>Windsor</td>\n",
       "      <td>12</td>\n",
       "      <td>47.0</td>\n",
       "    </tr>\n",
       "  </tbody>\n",
       "</table>\n",
       "<p>77 rows × 3 columns</p>\n",
       "</div>"
      ],
      "text/plain": [
       "            suburb  tram stop count  count\n",
       "0       Abbotsford               12  372.0\n",
       "1     Airport West               11    NaN\n",
       "2      Albert Park               20  154.0\n",
       "3         Armadale               28    3.0\n",
       "4       Ascot Vale               25    3.0\n",
       "..             ...              ...    ...\n",
       "72       Thornbury               18    NaN\n",
       "73          Toorak               28    NaN\n",
       "74      Travancore                9    NaN\n",
       "75  West Melbourne                6  618.0\n",
       "76         Windsor               12   47.0\n",
       "\n",
       "[77 rows x 3 columns]"
      ]
     },
     "execution_count": 54,
     "metadata": {},
     "output_type": "execute_result"
    }
   ],
   "source": [
    "cafe_start"
   ]
  },
  {
   "cell_type": "code",
   "execution_count": 65,
   "id": "576e566d",
   "metadata": {},
   "outputs": [],
   "source": [
    "df_cafe=pd.read_csv(r'C:\\Melbourne_Escooter\\Melbourne-transport\\Trams\\__suburbWiseCount.csv')\n",
    "df_stop=pd.read_csv(r'C:\\Melbourne_Escooter\\RealDataset\\FinalResults\\SuburbWise\\August\\stop\\__1to7.csv')"
   ]
  },
  {
   "cell_type": "code",
   "execution_count": 66,
   "id": "3e754859",
   "metadata": {},
   "outputs": [],
   "source": [
    "cafe_stop=df_cafe.merge(df_stop, how='left', on='suburb')\n",
    "cafe_stop.rename(columns = {'suburb':'suburb', 'count_x':'restaurant count', 'count_y':'trip stop count'}, inplace = True)\n",
    "cafe_stop.to_csv(r'C:\\Melbourne_Escooter\\RealDataset\\FinalResults\\SuburbWise\\August\\__1to7Stop_Tramstops.csv',index=False)"
   ]
  },
  {
   "cell_type": "code",
   "execution_count": 68,
   "id": "49e62a3e",
   "metadata": {},
   "outputs": [
    {
     "data": {
      "text/html": [
       "<div>\n",
       "<style scoped>\n",
       "    .dataframe tbody tr th:only-of-type {\n",
       "        vertical-align: middle;\n",
       "    }\n",
       "\n",
       "    .dataframe tbody tr th {\n",
       "        vertical-align: top;\n",
       "    }\n",
       "\n",
       "    .dataframe thead th {\n",
       "        text-align: right;\n",
       "    }\n",
       "</style>\n",
       "<table border=\"1\" class=\"dataframe\">\n",
       "  <thead>\n",
       "    <tr style=\"text-align: right;\">\n",
       "      <th></th>\n",
       "      <th>tram stop count</th>\n",
       "      <th>count</th>\n",
       "    </tr>\n",
       "  </thead>\n",
       "  <tbody>\n",
       "    <tr>\n",
       "      <th>tram stop count</th>\n",
       "      <td>1.000000</td>\n",
       "      <td>0.426843</td>\n",
       "    </tr>\n",
       "    <tr>\n",
       "      <th>count</th>\n",
       "      <td>0.426843</td>\n",
       "      <td>1.000000</td>\n",
       "    </tr>\n",
       "  </tbody>\n",
       "</table>\n",
       "</div>"
      ],
      "text/plain": [
       "                 tram stop count     count\n",
       "tram stop count         1.000000  0.426843\n",
       "count                   0.426843  1.000000"
      ]
     },
     "execution_count": 68,
     "metadata": {},
     "output_type": "execute_result"
    }
   ],
   "source": [
    "cafe_stop=pd.read_csv(r'C:\\Melbourne_Escooter\\RealDataset\\FinalResults\\SuburbWise\\August\\__1to7Stop_Tramstops.csv')\n",
    "my_r = cafe_stop.corr(method=\"spearman\")\n",
    "my_r"
   ]
  },
  {
   "cell_type": "markdown",
   "id": "80db5efe",
   "metadata": {},
   "source": [
    "## Recreation Vs. Trips "
   ]
  },
  {
   "cell_type": "code",
   "execution_count": 69,
   "id": "a812bb37",
   "metadata": {},
   "outputs": [],
   "source": [
    "df_cafe=pd.read_csv(r'C:\\Melbourne_Escooter\\Melbourne-buildings\\Recreation\\__suburbWiseCount.csv')\n",
    "df_start=pd.read_csv(r'C:\\Melbourne_Escooter\\RealDataset\\FinalResults\\SuburbWise\\August\\start\\__1to7.csv')"
   ]
  },
  {
   "cell_type": "code",
   "execution_count": 70,
   "id": "583ef307",
   "metadata": {},
   "outputs": [],
   "source": [
    "cafe_start=df_cafe.merge(df_start, how='left', on='suburb')\n",
    "cafe_start.rename(columns = {'suburb':'suburb', 'count_x':'restaurant count', 'count_y':'trip start count'}, inplace = True)\n",
    "cafe_start.to_csv(r'C:\\Melbourne_Escooter\\RealDataset\\FinalResults\\SuburbWise\\August\\__1to7Start_Recreation.csv',index=False)"
   ]
  },
  {
   "cell_type": "code",
   "execution_count": 71,
   "id": "2284b032",
   "metadata": {},
   "outputs": [
    {
     "data": {
      "text/html": [
       "<div>\n",
       "<style scoped>\n",
       "    .dataframe tbody tr th:only-of-type {\n",
       "        vertical-align: middle;\n",
       "    }\n",
       "\n",
       "    .dataframe tbody tr th {\n",
       "        vertical-align: top;\n",
       "    }\n",
       "\n",
       "    .dataframe thead th {\n",
       "        text-align: right;\n",
       "    }\n",
       "</style>\n",
       "<table border=\"1\" class=\"dataframe\">\n",
       "  <thead>\n",
       "    <tr style=\"text-align: right;\">\n",
       "      <th></th>\n",
       "      <th>restaurant count</th>\n",
       "      <th>trip start count</th>\n",
       "    </tr>\n",
       "  </thead>\n",
       "  <tbody>\n",
       "    <tr>\n",
       "      <th>restaurant count</th>\n",
       "      <td>1.000000</td>\n",
       "      <td>0.373295</td>\n",
       "    </tr>\n",
       "    <tr>\n",
       "      <th>trip start count</th>\n",
       "      <td>0.373295</td>\n",
       "      <td>1.000000</td>\n",
       "    </tr>\n",
       "  </tbody>\n",
       "</table>\n",
       "</div>"
      ],
      "text/plain": [
       "                  restaurant count  trip start count\n",
       "restaurant count          1.000000          0.373295\n",
       "trip start count          0.373295          1.000000"
      ]
     },
     "execution_count": 71,
     "metadata": {},
     "output_type": "execute_result"
    }
   ],
   "source": [
    "my_r = cafe_start.corr(method=\"spearman\")\n",
    "my_r"
   ]
  },
  {
   "cell_type": "code",
   "execution_count": 72,
   "id": "a167ffd7",
   "metadata": {},
   "outputs": [],
   "source": [
    "df_cafe=pd.read_csv(r'C:\\Melbourne_Escooter\\Melbourne-buildings\\Recreation\\__suburbWiseCount.csv')\n",
    "df_stop=pd.read_csv(r'C:\\Melbourne_Escooter\\RealDataset\\FinalResults\\SuburbWise\\August\\stop\\__1to7.csv')"
   ]
  },
  {
   "cell_type": "code",
   "execution_count": 73,
   "id": "7c40d728",
   "metadata": {},
   "outputs": [],
   "source": [
    "cafe_stop=df_cafe.merge(df_stop, how='left', on='suburb')\n",
    "cafe_stop.rename(columns = {'suburb':'suburb', 'count_x':'restaurant count', 'count_y':'trip stop count'}, inplace = True)\n",
    "cafe_stop.to_csv(r'C:\\Melbourne_Escooter\\RealDataset\\FinalResults\\SuburbWise\\August\\__1to7Stop_Recreation.csv',index=False)"
   ]
  },
  {
   "cell_type": "code",
   "execution_count": 74,
   "id": "6d3afdef",
   "metadata": {},
   "outputs": [
    {
     "data": {
      "text/html": [
       "<div>\n",
       "<style scoped>\n",
       "    .dataframe tbody tr th:only-of-type {\n",
       "        vertical-align: middle;\n",
       "    }\n",
       "\n",
       "    .dataframe tbody tr th {\n",
       "        vertical-align: top;\n",
       "    }\n",
       "\n",
       "    .dataframe thead th {\n",
       "        text-align: right;\n",
       "    }\n",
       "</style>\n",
       "<table border=\"1\" class=\"dataframe\">\n",
       "  <thead>\n",
       "    <tr style=\"text-align: right;\">\n",
       "      <th></th>\n",
       "      <th>restaurant count</th>\n",
       "      <th>trip stop count</th>\n",
       "    </tr>\n",
       "  </thead>\n",
       "  <tbody>\n",
       "    <tr>\n",
       "      <th>restaurant count</th>\n",
       "      <td>1.000000</td>\n",
       "      <td>0.373295</td>\n",
       "    </tr>\n",
       "    <tr>\n",
       "      <th>trip stop count</th>\n",
       "      <td>0.373295</td>\n",
       "      <td>1.000000</td>\n",
       "    </tr>\n",
       "  </tbody>\n",
       "</table>\n",
       "</div>"
      ],
      "text/plain": [
       "                  restaurant count  trip stop count\n",
       "restaurant count          1.000000         0.373295\n",
       "trip stop count           0.373295         1.000000"
      ]
     },
     "execution_count": 74,
     "metadata": {},
     "output_type": "execute_result"
    }
   ],
   "source": [
    "my_r = cafe_stop.corr(method=\"spearman\")\n",
    "my_r"
   ]
  },
  {
   "cell_type": "markdown",
   "id": "eeb1784e",
   "metadata": {},
   "source": [
    "# Office Vs. trips"
   ]
  },
  {
   "cell_type": "code",
   "execution_count": 75,
   "id": "2c6ce965",
   "metadata": {},
   "outputs": [],
   "source": [
    "df_cafe=pd.read_csv(r'C:\\Melbourne_Escooter\\Melbourne-buildings\\office\\__suburbWiseCount.csv')\n",
    "df_start=pd.read_csv(r'C:\\Melbourne_Escooter\\RealDataset\\FinalResults\\SuburbWise\\August\\start\\__1to7.csv')"
   ]
  },
  {
   "cell_type": "code",
   "execution_count": 76,
   "id": "5cb2adf6",
   "metadata": {},
   "outputs": [],
   "source": [
    "cafe_start=df_cafe.merge(df_start, how='left', on='suburb')\n",
    "cafe_start.rename(columns = {'suburb':'suburb', 'count_x':'restaurant count', 'count_y':'trip start count'}, inplace = True)\n",
    "cafe_start.to_csv(r'C:\\Melbourne_Escooter\\RealDataset\\FinalResults\\SuburbWise\\August\\__1to7Start_Office.csv',index=False)"
   ]
  },
  {
   "cell_type": "code",
   "execution_count": 77,
   "id": "807bb3dc",
   "metadata": {},
   "outputs": [
    {
     "data": {
      "text/html": [
       "<div>\n",
       "<style scoped>\n",
       "    .dataframe tbody tr th:only-of-type {\n",
       "        vertical-align: middle;\n",
       "    }\n",
       "\n",
       "    .dataframe tbody tr th {\n",
       "        vertical-align: top;\n",
       "    }\n",
       "\n",
       "    .dataframe thead th {\n",
       "        text-align: right;\n",
       "    }\n",
       "</style>\n",
       "<table border=\"1\" class=\"dataframe\">\n",
       "  <thead>\n",
       "    <tr style=\"text-align: right;\">\n",
       "      <th></th>\n",
       "      <th>restaurant count</th>\n",
       "      <th>trip start count</th>\n",
       "    </tr>\n",
       "  </thead>\n",
       "  <tbody>\n",
       "    <tr>\n",
       "      <th>restaurant count</th>\n",
       "      <td>1.000000</td>\n",
       "      <td>0.764653</td>\n",
       "    </tr>\n",
       "    <tr>\n",
       "      <th>trip start count</th>\n",
       "      <td>0.764653</td>\n",
       "      <td>1.000000</td>\n",
       "    </tr>\n",
       "  </tbody>\n",
       "</table>\n",
       "</div>"
      ],
      "text/plain": [
       "                  restaurant count  trip start count\n",
       "restaurant count          1.000000          0.764653\n",
       "trip start count          0.764653          1.000000"
      ]
     },
     "execution_count": 77,
     "metadata": {},
     "output_type": "execute_result"
    }
   ],
   "source": [
    "my_r = cafe_start.corr(method=\"spearman\")\n",
    "my_r"
   ]
  },
  {
   "cell_type": "code",
   "execution_count": 78,
   "id": "f3707945",
   "metadata": {},
   "outputs": [],
   "source": [
    "df_cafe=pd.read_csv(r'C:\\Melbourne_Escooter\\Melbourne-buildings\\office\\__suburbWiseCount.csv')\n",
    "df_stop=pd.read_csv(r'C:\\Melbourne_Escooter\\RealDataset\\FinalResults\\SuburbWise\\August\\stop\\__1to7.csv')"
   ]
  },
  {
   "cell_type": "code",
   "execution_count": 79,
   "id": "2193aa2d",
   "metadata": {},
   "outputs": [],
   "source": [
    "cafe_stop=df_cafe.merge(df_stop, how='left', on='suburb')\n",
    "cafe_stop.rename(columns = {'suburb':'suburb', 'count_x':'restaurant count', 'count_y':'trip stop count'}, inplace = True)\n",
    "cafe_stop.to_csv(r'C:\\Melbourne_Escooter\\RealDataset\\FinalResults\\SuburbWise\\August\\__1to7Stop_Office.csv',index=False)"
   ]
  },
  {
   "cell_type": "code",
   "execution_count": 80,
   "id": "543a7496",
   "metadata": {},
   "outputs": [
    {
     "data": {
      "text/html": [
       "<div>\n",
       "<style scoped>\n",
       "    .dataframe tbody tr th:only-of-type {\n",
       "        vertical-align: middle;\n",
       "    }\n",
       "\n",
       "    .dataframe tbody tr th {\n",
       "        vertical-align: top;\n",
       "    }\n",
       "\n",
       "    .dataframe thead th {\n",
       "        text-align: right;\n",
       "    }\n",
       "</style>\n",
       "<table border=\"1\" class=\"dataframe\">\n",
       "  <thead>\n",
       "    <tr style=\"text-align: right;\">\n",
       "      <th></th>\n",
       "      <th>restaurant count</th>\n",
       "      <th>trip stop count</th>\n",
       "    </tr>\n",
       "  </thead>\n",
       "  <tbody>\n",
       "    <tr>\n",
       "      <th>restaurant count</th>\n",
       "      <td>1.000000</td>\n",
       "      <td>0.764653</td>\n",
       "    </tr>\n",
       "    <tr>\n",
       "      <th>trip stop count</th>\n",
       "      <td>0.764653</td>\n",
       "      <td>1.000000</td>\n",
       "    </tr>\n",
       "  </tbody>\n",
       "</table>\n",
       "</div>"
      ],
      "text/plain": [
       "                  restaurant count  trip stop count\n",
       "restaurant count          1.000000         0.764653\n",
       "trip stop count           0.764653         1.000000"
      ]
     },
     "execution_count": 80,
     "metadata": {},
     "output_type": "execute_result"
    }
   ],
   "source": [
    "my_r = cafe_stop.corr(method=\"spearman\")\n",
    "my_r"
   ]
  },
  {
   "cell_type": "markdown",
   "id": "6ff07e2f",
   "metadata": {},
   "source": [
    "# House Vs. Trips"
   ]
  },
  {
   "cell_type": "code",
   "execution_count": 89,
   "id": "7265b4bc",
   "metadata": {},
   "outputs": [],
   "source": [
    "df_cafe=pd.read_csv(r'C:\\Melbourne_Escooter\\Melbourne-buildings\\House\\__suburbWiseCount.csv')\n",
    "df_start=pd.read_csv(r'C:\\Melbourne_Escooter\\RealDataset\\FinalResults\\SuburbWise\\August\\start\\__1to7.csv')"
   ]
  },
  {
   "cell_type": "code",
   "execution_count": 90,
   "id": "30ff42e1",
   "metadata": {},
   "outputs": [],
   "source": [
    "cafe_start=df_cafe.merge(df_start, how='left', on='suburb')\n",
    "cafe_start.rename(columns = {'suburb':'suburb', 'count_x':'restaurant count', 'count_y':'trip start count'}, inplace = True)\n",
    "cafe_start.to_csv(r'C:\\Melbourne_Escooter\\RealDataset\\FinalResults\\SuburbWise\\August\\__1to7Start_House.csv',index=False)"
   ]
  },
  {
   "cell_type": "code",
   "execution_count": 83,
   "id": "f2ce5988",
   "metadata": {},
   "outputs": [
    {
     "data": {
      "text/html": [
       "<div>\n",
       "<style scoped>\n",
       "    .dataframe tbody tr th:only-of-type {\n",
       "        vertical-align: middle;\n",
       "    }\n",
       "\n",
       "    .dataframe tbody tr th {\n",
       "        vertical-align: top;\n",
       "    }\n",
       "\n",
       "    .dataframe thead th {\n",
       "        text-align: right;\n",
       "    }\n",
       "</style>\n",
       "<table border=\"1\" class=\"dataframe\">\n",
       "  <thead>\n",
       "    <tr style=\"text-align: right;\">\n",
       "      <th></th>\n",
       "      <th>restaurant count</th>\n",
       "      <th>trip start count</th>\n",
       "    </tr>\n",
       "  </thead>\n",
       "  <tbody>\n",
       "    <tr>\n",
       "      <th>restaurant count</th>\n",
       "      <td>1.000000</td>\n",
       "      <td>0.021448</td>\n",
       "    </tr>\n",
       "    <tr>\n",
       "      <th>trip start count</th>\n",
       "      <td>0.021448</td>\n",
       "      <td>1.000000</td>\n",
       "    </tr>\n",
       "  </tbody>\n",
       "</table>\n",
       "</div>"
      ],
      "text/plain": [
       "                  restaurant count  trip start count\n",
       "restaurant count          1.000000          0.021448\n",
       "trip start count          0.021448          1.000000"
      ]
     },
     "execution_count": 83,
     "metadata": {},
     "output_type": "execute_result"
    }
   ],
   "source": [
    "my_r = cafe_start.corr(method=\"spearman\")\n",
    "my_r"
   ]
  },
  {
   "cell_type": "code",
   "execution_count": 84,
   "id": "9a103744",
   "metadata": {},
   "outputs": [],
   "source": [
    "df_cafe=pd.read_csv(r'C:\\Melbourne_Escooter\\Melbourne-buildings\\House\\__suburbWiseCount.csv')\n",
    "df_stop=pd.read_csv(r'C:\\Melbourne_Escooter\\RealDataset\\FinalResults\\SuburbWise\\August\\stop\\__1to7.csv')"
   ]
  },
  {
   "cell_type": "code",
   "execution_count": 85,
   "id": "3cdedda8",
   "metadata": {},
   "outputs": [],
   "source": [
    "cafe_stop=df_cafe.merge(df_stop, how='left', on='suburb')\n",
    "cafe_stop.rename(columns = {'suburb':'suburb', 'count_x':'restaurant count', 'count_y':'trip stop count'}, inplace = True)\n",
    "cafe_stop.to_csv(r'C:\\Melbourne_Escooter\\RealDataset\\FinalResults\\SuburbWise\\August\\__1to7Stop_House.csv',index=False)"
   ]
  },
  {
   "cell_type": "code",
   "execution_count": 86,
   "id": "c6324531",
   "metadata": {},
   "outputs": [
    {
     "data": {
      "text/html": [
       "<div>\n",
       "<style scoped>\n",
       "    .dataframe tbody tr th:only-of-type {\n",
       "        vertical-align: middle;\n",
       "    }\n",
       "\n",
       "    .dataframe tbody tr th {\n",
       "        vertical-align: top;\n",
       "    }\n",
       "\n",
       "    .dataframe thead th {\n",
       "        text-align: right;\n",
       "    }\n",
       "</style>\n",
       "<table border=\"1\" class=\"dataframe\">\n",
       "  <thead>\n",
       "    <tr style=\"text-align: right;\">\n",
       "      <th></th>\n",
       "      <th>restaurant count</th>\n",
       "      <th>trip stop count</th>\n",
       "    </tr>\n",
       "  </thead>\n",
       "  <tbody>\n",
       "    <tr>\n",
       "      <th>restaurant count</th>\n",
       "      <td>1.000000</td>\n",
       "      <td>0.021448</td>\n",
       "    </tr>\n",
       "    <tr>\n",
       "      <th>trip stop count</th>\n",
       "      <td>0.021448</td>\n",
       "      <td>1.000000</td>\n",
       "    </tr>\n",
       "  </tbody>\n",
       "</table>\n",
       "</div>"
      ],
      "text/plain": [
       "                  restaurant count  trip stop count\n",
       "restaurant count          1.000000         0.021448\n",
       "trip stop count           0.021448         1.000000"
      ]
     },
     "execution_count": 86,
     "metadata": {},
     "output_type": "execute_result"
    }
   ],
   "source": [
    "my_r = cafe_stop.corr(method=\"spearman\")\n",
    "my_r"
   ]
  },
  {
   "cell_type": "markdown",
   "id": "2990908d",
   "metadata": {},
   "source": [
    "## Train Stop Vs. Trips "
   ]
  },
  {
   "cell_type": "code",
   "execution_count": 100,
   "id": "6f03bc61",
   "metadata": {},
   "outputs": [],
   "source": [
    "df_cafe=pd.read_csv(r'C:\\Melbourne_Escooter\\Melbourne-transport\\Trainstops\\__suburbWiseCount - Melb.csv')\n",
    "df_start=pd.read_csv(r'C:\\Melbourne_Escooter\\RealDataset\\FinalResults\\SuburbWise\\August\\start\\__1to7.csv')"
   ]
  },
  {
   "cell_type": "code",
   "execution_count": 101,
   "id": "e8cdbad7",
   "metadata": {},
   "outputs": [],
   "source": [
    "cafe_start=df_cafe.merge(df_start, how='left', on='suburb')\n",
    "cafe_start.rename(columns = {'suburb':'suburb', 'count_x':'restaurant count', 'count_y':'trip start count'}, inplace = True)\n",
    "cafe_start.to_csv(r'C:\\Melbourne_Escooter\\RealDataset\\FinalResults\\SuburbWise\\August\\__1to7Start_TrainStop.csv',index=False)"
   ]
  },
  {
   "cell_type": "code",
   "execution_count": 102,
   "id": "1ac77a4f",
   "metadata": {},
   "outputs": [
    {
     "data": {
      "text/html": [
       "<div>\n",
       "<style scoped>\n",
       "    .dataframe tbody tr th:only-of-type {\n",
       "        vertical-align: middle;\n",
       "    }\n",
       "\n",
       "    .dataframe tbody tr th {\n",
       "        vertical-align: top;\n",
       "    }\n",
       "\n",
       "    .dataframe thead th {\n",
       "        text-align: right;\n",
       "    }\n",
       "</style>\n",
       "<table border=\"1\" class=\"dataframe\">\n",
       "  <thead>\n",
       "    <tr style=\"text-align: right;\">\n",
       "      <th></th>\n",
       "      <th>suburb</th>\n",
       "      <th>restaurant count</th>\n",
       "      <th>trip start count</th>\n",
       "    </tr>\n",
       "  </thead>\n",
       "  <tbody>\n",
       "    <tr>\n",
       "      <th>0</th>\n",
       "      <td>Docklands</td>\n",
       "      <td>1</td>\n",
       "      <td>2020.0</td>\n",
       "    </tr>\n",
       "    <tr>\n",
       "      <th>1</th>\n",
       "      <td>East Melbourne</td>\n",
       "      <td>2</td>\n",
       "      <td>510.0</td>\n",
       "    </tr>\n",
       "    <tr>\n",
       "      <th>2</th>\n",
       "      <td>Flemington</td>\n",
       "      <td>3</td>\n",
       "      <td>37.0</td>\n",
       "    </tr>\n",
       "    <tr>\n",
       "      <th>3</th>\n",
       "      <td>Kensington</td>\n",
       "      <td>2</td>\n",
       "      <td>134.0</td>\n",
       "    </tr>\n",
       "    <tr>\n",
       "      <th>4</th>\n",
       "      <td>Melbourne</td>\n",
       "      <td>3</td>\n",
       "      <td>7357.0</td>\n",
       "    </tr>\n",
       "    <tr>\n",
       "      <th>5</th>\n",
       "      <td>North Melbourne</td>\n",
       "      <td>2</td>\n",
       "      <td>730.0</td>\n",
       "    </tr>\n",
       "    <tr>\n",
       "      <th>6</th>\n",
       "      <td>Parkville</td>\n",
       "      <td>1</td>\n",
       "      <td>469.0</td>\n",
       "    </tr>\n",
       "    <tr>\n",
       "      <th>7</th>\n",
       "      <td>South Yarra</td>\n",
       "      <td>2</td>\n",
       "      <td>256.0</td>\n",
       "    </tr>\n",
       "    <tr>\n",
       "      <th>8</th>\n",
       "      <td>West Melbourne</td>\n",
       "      <td>1</td>\n",
       "      <td>618.0</td>\n",
       "    </tr>\n",
       "  </tbody>\n",
       "</table>\n",
       "</div>"
      ],
      "text/plain": [
       "            suburb  restaurant count  trip start count\n",
       "0        Docklands                 1            2020.0\n",
       "1   East Melbourne                 2             510.0\n",
       "2       Flemington                 3              37.0\n",
       "3       Kensington                 2             134.0\n",
       "4        Melbourne                 3            7357.0\n",
       "5  North Melbourne                 2             730.0\n",
       "6        Parkville                 1             469.0\n",
       "7      South Yarra                 2             256.0\n",
       "8   West Melbourne                 1             618.0"
      ]
     },
     "execution_count": 102,
     "metadata": {},
     "output_type": "execute_result"
    }
   ],
   "source": [
    "cafe_start"
   ]
  },
  {
   "cell_type": "code",
   "execution_count": 103,
   "id": "e857d4b4",
   "metadata": {},
   "outputs": [
    {
     "data": {
      "text/html": [
       "<div>\n",
       "<style scoped>\n",
       "    .dataframe tbody tr th:only-of-type {\n",
       "        vertical-align: middle;\n",
       "    }\n",
       "\n",
       "    .dataframe tbody tr th {\n",
       "        vertical-align: top;\n",
       "    }\n",
       "\n",
       "    .dataframe thead th {\n",
       "        text-align: right;\n",
       "    }\n",
       "</style>\n",
       "<table border=\"1\" class=\"dataframe\">\n",
       "  <thead>\n",
       "    <tr style=\"text-align: right;\">\n",
       "      <th></th>\n",
       "      <th>restaurant count</th>\n",
       "      <th>trip start count</th>\n",
       "    </tr>\n",
       "  </thead>\n",
       "  <tbody>\n",
       "    <tr>\n",
       "      <th>restaurant count</th>\n",
       "      <td>1.000000</td>\n",
       "      <td>-0.187083</td>\n",
       "    </tr>\n",
       "    <tr>\n",
       "      <th>trip start count</th>\n",
       "      <td>-0.187083</td>\n",
       "      <td>1.000000</td>\n",
       "    </tr>\n",
       "  </tbody>\n",
       "</table>\n",
       "</div>"
      ],
      "text/plain": [
       "                  restaurant count  trip start count\n",
       "restaurant count          1.000000         -0.187083\n",
       "trip start count         -0.187083          1.000000"
      ]
     },
     "execution_count": 103,
     "metadata": {},
     "output_type": "execute_result"
    }
   ],
   "source": [
    "my_r = cafe_start.corr(method=\"spearman\")\n",
    "my_r"
   ]
  },
  {
   "cell_type": "code",
   "execution_count": 104,
   "id": "456628dc",
   "metadata": {},
   "outputs": [],
   "source": [
    "df_cafe=pd.read_csv(r'C:\\Melbourne_Escooter\\Melbourne-transport\\Trainstops\\__suburbWiseCount - Melb.csv')\n",
    "df_stop=pd.read_csv(r'C:\\Melbourne_Escooter\\RealDataset\\FinalResults\\SuburbWise\\August\\stop\\__1to7.csv')"
   ]
  },
  {
   "cell_type": "code",
   "execution_count": 105,
   "id": "45021099",
   "metadata": {},
   "outputs": [],
   "source": [
    "cafe_stop=df_cafe.merge(df_stop, how='left', on='suburb')\n",
    "cafe_stop.rename(columns = {'suburb':'suburb', 'count_x':'restaurant count', 'count_y':'trip stop count'}, inplace = True)\n",
    "cafe_stop.to_csv(r'C:\\Melbourne_Escooter\\RealDataset\\FinalResults\\SuburbWise\\August\\__1to7Stop_TrainStop.csv',index=False)"
   ]
  },
  {
   "cell_type": "code",
   "execution_count": 106,
   "id": "7e363cd4",
   "metadata": {},
   "outputs": [
    {
     "data": {
      "text/html": [
       "<div>\n",
       "<style scoped>\n",
       "    .dataframe tbody tr th:only-of-type {\n",
       "        vertical-align: middle;\n",
       "    }\n",
       "\n",
       "    .dataframe tbody tr th {\n",
       "        vertical-align: top;\n",
       "    }\n",
       "\n",
       "    .dataframe thead th {\n",
       "        text-align: right;\n",
       "    }\n",
       "</style>\n",
       "<table border=\"1\" class=\"dataframe\">\n",
       "  <thead>\n",
       "    <tr style=\"text-align: right;\">\n",
       "      <th></th>\n",
       "      <th>suburb</th>\n",
       "      <th>restaurant count</th>\n",
       "      <th>trip stop count</th>\n",
       "    </tr>\n",
       "  </thead>\n",
       "  <tbody>\n",
       "    <tr>\n",
       "      <th>0</th>\n",
       "      <td>Docklands</td>\n",
       "      <td>1</td>\n",
       "      <td>1914.0</td>\n",
       "    </tr>\n",
       "    <tr>\n",
       "      <th>1</th>\n",
       "      <td>East Melbourne</td>\n",
       "      <td>2</td>\n",
       "      <td>471.0</td>\n",
       "    </tr>\n",
       "    <tr>\n",
       "      <th>2</th>\n",
       "      <td>Flemington</td>\n",
       "      <td>3</td>\n",
       "      <td>30.0</td>\n",
       "    </tr>\n",
       "    <tr>\n",
       "      <th>3</th>\n",
       "      <td>Kensington</td>\n",
       "      <td>2</td>\n",
       "      <td>122.0</td>\n",
       "    </tr>\n",
       "    <tr>\n",
       "      <th>4</th>\n",
       "      <td>Melbourne</td>\n",
       "      <td>3</td>\n",
       "      <td>6907.0</td>\n",
       "    </tr>\n",
       "    <tr>\n",
       "      <th>5</th>\n",
       "      <td>North Melbourne</td>\n",
       "      <td>2</td>\n",
       "      <td>703.0</td>\n",
       "    </tr>\n",
       "    <tr>\n",
       "      <th>6</th>\n",
       "      <td>Parkville</td>\n",
       "      <td>1</td>\n",
       "      <td>449.0</td>\n",
       "    </tr>\n",
       "    <tr>\n",
       "      <th>7</th>\n",
       "      <td>South Yarra</td>\n",
       "      <td>2</td>\n",
       "      <td>257.0</td>\n",
       "    </tr>\n",
       "    <tr>\n",
       "      <th>8</th>\n",
       "      <td>West Melbourne</td>\n",
       "      <td>1</td>\n",
       "      <td>563.0</td>\n",
       "    </tr>\n",
       "  </tbody>\n",
       "</table>\n",
       "</div>"
      ],
      "text/plain": [
       "            suburb  restaurant count  trip stop count\n",
       "0        Docklands                 1           1914.0\n",
       "1   East Melbourne                 2            471.0\n",
       "2       Flemington                 3             30.0\n",
       "3       Kensington                 2            122.0\n",
       "4        Melbourne                 3           6907.0\n",
       "5  North Melbourne                 2            703.0\n",
       "6        Parkville                 1            449.0\n",
       "7      South Yarra                 2            257.0\n",
       "8   West Melbourne                 1            563.0"
      ]
     },
     "execution_count": 106,
     "metadata": {},
     "output_type": "execute_result"
    }
   ],
   "source": [
    "cafe_stop"
   ]
  },
  {
   "cell_type": "code",
   "execution_count": 107,
   "id": "4d44d7b4",
   "metadata": {},
   "outputs": [
    {
     "data": {
      "text/html": [
       "<div>\n",
       "<style scoped>\n",
       "    .dataframe tbody tr th:only-of-type {\n",
       "        vertical-align: middle;\n",
       "    }\n",
       "\n",
       "    .dataframe tbody tr th {\n",
       "        vertical-align: top;\n",
       "    }\n",
       "\n",
       "    .dataframe thead th {\n",
       "        text-align: right;\n",
       "    }\n",
       "</style>\n",
       "<table border=\"1\" class=\"dataframe\">\n",
       "  <thead>\n",
       "    <tr style=\"text-align: right;\">\n",
       "      <th></th>\n",
       "      <th>restaurant count</th>\n",
       "      <th>trip stop count</th>\n",
       "    </tr>\n",
       "  </thead>\n",
       "  <tbody>\n",
       "    <tr>\n",
       "      <th>restaurant count</th>\n",
       "      <td>1.000000</td>\n",
       "      <td>-0.187083</td>\n",
       "    </tr>\n",
       "    <tr>\n",
       "      <th>trip stop count</th>\n",
       "      <td>-0.187083</td>\n",
       "      <td>1.000000</td>\n",
       "    </tr>\n",
       "  </tbody>\n",
       "</table>\n",
       "</div>"
      ],
      "text/plain": [
       "                  restaurant count  trip stop count\n",
       "restaurant count          1.000000        -0.187083\n",
       "trip stop count          -0.187083         1.000000"
      ]
     },
     "execution_count": 107,
     "metadata": {},
     "output_type": "execute_result"
    }
   ],
   "source": [
    "my_r = cafe_stop.corr(method=\"spearman\")\n",
    "my_r"
   ]
  },
  {
   "cell_type": "markdown",
   "id": "55c537bd",
   "metadata": {},
   "source": [
    "## Bus stop Vs. Trips "
   ]
  },
  {
   "cell_type": "code",
   "execution_count": 109,
   "id": "6832c0da",
   "metadata": {},
   "outputs": [],
   "source": [
    "df_cafe=pd.read_csv(r'C:\\Melbourne_Escooter\\Melbourne-transport\\Bus Stops\\__suburbWiseCount - Melb.csv')\n",
    "df_start=pd.read_csv(r'C:\\Melbourne_Escooter\\RealDataset\\FinalResults\\SuburbWise\\August\\start\\__1to7.csv')"
   ]
  },
  {
   "cell_type": "code",
   "execution_count": 110,
   "id": "7afecdea",
   "metadata": {},
   "outputs": [],
   "source": [
    "cafe_start=df_cafe.merge(df_start, how='left', on='suburb')\n",
    "cafe_start.rename(columns = {'suburb':'suburb', 'count_x':'restaurant count', 'count_y':'trip start count'}, inplace = True)\n",
    "cafe_start.to_csv(r'C:\\Melbourne_Escooter\\RealDataset\\FinalResults\\SuburbWise\\August\\__1to7Start_BusStop.csv',index=False)"
   ]
  },
  {
   "cell_type": "code",
   "execution_count": 111,
   "id": "d5bde356",
   "metadata": {},
   "outputs": [
    {
     "data": {
      "text/html": [
       "<div>\n",
       "<style scoped>\n",
       "    .dataframe tbody tr th:only-of-type {\n",
       "        vertical-align: middle;\n",
       "    }\n",
       "\n",
       "    .dataframe tbody tr th {\n",
       "        vertical-align: top;\n",
       "    }\n",
       "\n",
       "    .dataframe thead th {\n",
       "        text-align: right;\n",
       "    }\n",
       "</style>\n",
       "<table border=\"1\" class=\"dataframe\">\n",
       "  <thead>\n",
       "    <tr style=\"text-align: right;\">\n",
       "      <th></th>\n",
       "      <th>restaurant count</th>\n",
       "      <th>trip start count</th>\n",
       "    </tr>\n",
       "  </thead>\n",
       "  <tbody>\n",
       "    <tr>\n",
       "      <th>restaurant count</th>\n",
       "      <td>1.000000</td>\n",
       "      <td>0.666669</td>\n",
       "    </tr>\n",
       "    <tr>\n",
       "      <th>trip start count</th>\n",
       "      <td>0.666669</td>\n",
       "      <td>1.000000</td>\n",
       "    </tr>\n",
       "  </tbody>\n",
       "</table>\n",
       "</div>"
      ],
      "text/plain": [
       "                  restaurant count  trip start count\n",
       "restaurant count          1.000000          0.666669\n",
       "trip start count          0.666669          1.000000"
      ]
     },
     "execution_count": 111,
     "metadata": {},
     "output_type": "execute_result"
    }
   ],
   "source": [
    "my_r = cafe_start.corr(method=\"spearman\")\n",
    "my_r"
   ]
  },
  {
   "cell_type": "code",
   "execution_count": 113,
   "id": "f199d428",
   "metadata": {},
   "outputs": [],
   "source": [
    "df_cafe=pd.read_csv(r'C:\\Melbourne_Escooter\\Melbourne-transport\\Bus Stops\\__suburbWiseCount - Melb.csv')\n",
    "df_stop=pd.read_csv(r'C:\\Melbourne_Escooter\\RealDataset\\FinalResults\\SuburbWise\\August\\stop\\__1to7.csv')"
   ]
  },
  {
   "cell_type": "code",
   "execution_count": 114,
   "id": "f9b7b7bd",
   "metadata": {},
   "outputs": [],
   "source": [
    "cafe_stop=df_cafe.merge(df_stop, how='left', on='suburb')\n",
    "cafe_stop.rename(columns = {'suburb':'suburb', 'count_x':'restaurant count', 'count_y':'trip stop count'}, inplace = True)\n",
    "cafe_stop.to_csv(r'C:\\Melbourne_Escooter\\RealDataset\\FinalResults\\SuburbWise\\August\\__1to7Stop_BusStop.csv',index=False)"
   ]
  },
  {
   "cell_type": "code",
   "execution_count": 115,
   "id": "3dbae732",
   "metadata": {},
   "outputs": [
    {
     "data": {
      "text/html": [
       "<div>\n",
       "<style scoped>\n",
       "    .dataframe tbody tr th:only-of-type {\n",
       "        vertical-align: middle;\n",
       "    }\n",
       "\n",
       "    .dataframe tbody tr th {\n",
       "        vertical-align: top;\n",
       "    }\n",
       "\n",
       "    .dataframe thead th {\n",
       "        text-align: right;\n",
       "    }\n",
       "</style>\n",
       "<table border=\"1\" class=\"dataframe\">\n",
       "  <thead>\n",
       "    <tr style=\"text-align: right;\">\n",
       "      <th></th>\n",
       "      <th>restaurant count</th>\n",
       "      <th>trip stop count</th>\n",
       "    </tr>\n",
       "  </thead>\n",
       "  <tbody>\n",
       "    <tr>\n",
       "      <th>restaurant count</th>\n",
       "      <td>1.000000</td>\n",
       "      <td>0.666669</td>\n",
       "    </tr>\n",
       "    <tr>\n",
       "      <th>trip stop count</th>\n",
       "      <td>0.666669</td>\n",
       "      <td>1.000000</td>\n",
       "    </tr>\n",
       "  </tbody>\n",
       "</table>\n",
       "</div>"
      ],
      "text/plain": [
       "                  restaurant count  trip stop count\n",
       "restaurant count          1.000000         0.666669\n",
       "trip stop count           0.666669         1.000000"
      ]
     },
     "execution_count": 115,
     "metadata": {},
     "output_type": "execute_result"
    }
   ],
   "source": [
    "my_r = cafe_stop.corr(method=\"spearman\")\n",
    "my_r"
   ]
  },
  {
   "cell_type": "markdown",
   "id": "30fb3c6b",
   "metadata": {},
   "source": [
    "# Population Vs. Trips"
   ]
  },
  {
   "cell_type": "code",
   "execution_count": 10,
   "id": "71296d2c",
   "metadata": {},
   "outputs": [],
   "source": [
    "df_cafe=pd.read_csv(r'C:\\Melbourne_Escooter\\Melbourne-population\\2021Population - Melb.csv')\n",
    "df_start=pd.read_csv(r'C:\\Melbourne_Escooter\\RealDataset\\FinalResults\\SuburbWise\\August\\start\\__1to7.csv')"
   ]
  },
  {
   "cell_type": "code",
   "execution_count": 11,
   "id": "a20b1a46",
   "metadata": {},
   "outputs": [],
   "source": [
    "cafe_start=df_cafe.merge(df_start, how='left', on='suburb')\n",
    "cafe_start.rename(columns = {'suburb':'suburb', 'count_x':'population', 'count_y':'trip start count'}, inplace = True)\n",
    "cafe_start.to_csv(r'C:\\Melbourne_Escooter\\RealDataset\\FinalResults\\SuburbWise\\August\\__1to7Start_Population.csv',index=False)"
   ]
  },
  {
   "cell_type": "code",
   "execution_count": 12,
   "id": "bf822643",
   "metadata": {},
   "outputs": [
    {
     "data": {
      "text/html": [
       "<div>\n",
       "<style scoped>\n",
       "    .dataframe tbody tr th:only-of-type {\n",
       "        vertical-align: middle;\n",
       "    }\n",
       "\n",
       "    .dataframe tbody tr th {\n",
       "        vertical-align: top;\n",
       "    }\n",
       "\n",
       "    .dataframe thead th {\n",
       "        text-align: right;\n",
       "    }\n",
       "</style>\n",
       "<table border=\"1\" class=\"dataframe\">\n",
       "  <thead>\n",
       "    <tr style=\"text-align: right;\">\n",
       "      <th></th>\n",
       "      <th>Population density 2021</th>\n",
       "      <th>count</th>\n",
       "    </tr>\n",
       "  </thead>\n",
       "  <tbody>\n",
       "    <tr>\n",
       "      <th>Population density 2021</th>\n",
       "      <td>1.000000</td>\n",
       "      <td>0.643956</td>\n",
       "    </tr>\n",
       "    <tr>\n",
       "      <th>count</th>\n",
       "      <td>0.643956</td>\n",
       "      <td>1.000000</td>\n",
       "    </tr>\n",
       "  </tbody>\n",
       "</table>\n",
       "</div>"
      ],
      "text/plain": [
       "                         Population density 2021     count\n",
       "Population density 2021                 1.000000  0.643956\n",
       "count                                   0.643956  1.000000"
      ]
     },
     "execution_count": 12,
     "metadata": {},
     "output_type": "execute_result"
    }
   ],
   "source": [
    "my_r = cafe_start.corr(method=\"spearman\")\n",
    "my_r"
   ]
  },
  {
   "cell_type": "code",
   "execution_count": 14,
   "id": "eb8a83eb",
   "metadata": {},
   "outputs": [],
   "source": [
    "df_cafe=pd.read_csv(r'C:\\Melbourne_Escooter\\Melbourne-population\\2021Population - Melb.csv')\n",
    "df_stop=pd.read_csv(r'C:\\Melbourne_Escooter\\RealDataset\\FinalResults\\SuburbWise\\August\\stop\\__1to7.csv')"
   ]
  },
  {
   "cell_type": "code",
   "execution_count": 15,
   "id": "37103301",
   "metadata": {},
   "outputs": [],
   "source": [
    "cafe_stop=df_cafe.merge(df_stop, how='left', on='suburb')\n",
    "cafe_stop.rename(columns = {'suburb':'suburb', 'count_x':'population', 'count_y':'trip stop count'}, inplace = True)\n",
    "cafe_stop.to_csv(r'C:\\Melbourne_Escooter\\RealDataset\\FinalResults\\SuburbWise\\August\\__1to7Stop_Population.csv',index=False)"
   ]
  },
  {
   "cell_type": "code",
   "execution_count": 16,
   "id": "9dfcd406",
   "metadata": {},
   "outputs": [
    {
     "data": {
      "text/html": [
       "<div>\n",
       "<style scoped>\n",
       "    .dataframe tbody tr th:only-of-type {\n",
       "        vertical-align: middle;\n",
       "    }\n",
       "\n",
       "    .dataframe tbody tr th {\n",
       "        vertical-align: top;\n",
       "    }\n",
       "\n",
       "    .dataframe thead th {\n",
       "        text-align: right;\n",
       "    }\n",
       "</style>\n",
       "<table border=\"1\" class=\"dataframe\">\n",
       "  <thead>\n",
       "    <tr style=\"text-align: right;\">\n",
       "      <th></th>\n",
       "      <th>Population density 2021</th>\n",
       "      <th>count</th>\n",
       "    </tr>\n",
       "  </thead>\n",
       "  <tbody>\n",
       "    <tr>\n",
       "      <th>Population density 2021</th>\n",
       "      <td>1.000000</td>\n",
       "      <td>0.643956</td>\n",
       "    </tr>\n",
       "    <tr>\n",
       "      <th>count</th>\n",
       "      <td>0.643956</td>\n",
       "      <td>1.000000</td>\n",
       "    </tr>\n",
       "  </tbody>\n",
       "</table>\n",
       "</div>"
      ],
      "text/plain": [
       "                         Population density 2021     count\n",
       "Population density 2021                 1.000000  0.643956\n",
       "count                                   0.643956  1.000000"
      ]
     },
     "execution_count": 16,
     "metadata": {},
     "output_type": "execute_result"
    }
   ],
   "source": [
    "my_r = cafe_stop.corr(method=\"spearman\")\n",
    "my_r"
   ]
  },
  {
   "cell_type": "markdown",
   "id": "fa62c421",
   "metadata": {},
   "source": [
    "# Shops Vs Trips"
   ]
  },
  {
   "cell_type": "code",
   "execution_count": 19,
   "id": "ce9fef31",
   "metadata": {},
   "outputs": [],
   "source": [
    "df_cafe=pd.read_csv(r'C:\\Melbourne_Escooter\\Melbourne-buildings\\Shops\\__suburbWiseCount.csv')\n",
    "df_start=pd.read_csv(r'C:\\Melbourne_Escooter\\RealDataset\\FinalResults\\SuburbWise\\August\\start\\__1to7.csv')"
   ]
  },
  {
   "cell_type": "code",
   "execution_count": null,
   "id": "1379fffd",
   "metadata": {},
   "outputs": [],
   "source": [
    "cafe_start=df_cafe.merge(df_start, how='left', on='suburb')\n",
    "cafe_start.rename(columns = {'suburb':'suburb', 'count_x':'population', 'count_y':'trip start count'}, inplace = True)\n",
    "cafe_start.to_csv(r'C:\\Melbourne_Escooter\\RealDataset\\FinalResults\\SuburbWise\\August\\__1to7Start_Shops.csv',index=False)"
   ]
  },
  {
   "cell_type": "code",
   "execution_count": 21,
   "id": "abc0b6a1",
   "metadata": {},
   "outputs": [
    {
     "data": {
      "text/html": [
       "<div>\n",
       "<style scoped>\n",
       "    .dataframe tbody tr th:only-of-type {\n",
       "        vertical-align: middle;\n",
       "    }\n",
       "\n",
       "    .dataframe tbody tr th {\n",
       "        vertical-align: top;\n",
       "    }\n",
       "\n",
       "    .dataframe thead th {\n",
       "        text-align: right;\n",
       "    }\n",
       "</style>\n",
       "<table border=\"1\" class=\"dataframe\">\n",
       "  <thead>\n",
       "    <tr style=\"text-align: right;\">\n",
       "      <th></th>\n",
       "      <th>population</th>\n",
       "      <th>trip start count</th>\n",
       "    </tr>\n",
       "  </thead>\n",
       "  <tbody>\n",
       "    <tr>\n",
       "      <th>population</th>\n",
       "      <td>1.00000</td>\n",
       "      <td>0.57247</td>\n",
       "    </tr>\n",
       "    <tr>\n",
       "      <th>trip start count</th>\n",
       "      <td>0.57247</td>\n",
       "      <td>1.00000</td>\n",
       "    </tr>\n",
       "  </tbody>\n",
       "</table>\n",
       "</div>"
      ],
      "text/plain": [
       "                  population  trip start count\n",
       "population           1.00000           0.57247\n",
       "trip start count     0.57247           1.00000"
      ]
     },
     "execution_count": 21,
     "metadata": {},
     "output_type": "execute_result"
    }
   ],
   "source": [
    "my_r = cafe_start.corr(method=\"spearman\")\n",
    "my_r"
   ]
  },
  {
   "cell_type": "code",
   "execution_count": 22,
   "id": "c185c1da",
   "metadata": {},
   "outputs": [],
   "source": [
    "df_cafe=pd.read_csv(r'C:\\Melbourne_Escooter\\Melbourne-buildings\\Shops\\__suburbWiseCount.csv')\n",
    "df_stop=pd.read_csv(r'C:\\Melbourne_Escooter\\RealDataset\\FinalResults\\SuburbWise\\August\\stop\\__1to7.csv')"
   ]
  },
  {
   "cell_type": "code",
   "execution_count": 23,
   "id": "882a45b2",
   "metadata": {},
   "outputs": [],
   "source": [
    "cafe_stop=df_cafe.merge(df_stop, how='left', on='suburb')\n",
    "cafe_stop.rename(columns = {'suburb':'suburb', 'count_x':'population', 'count_y':'trip stop count'}, inplace = True)\n",
    "cafe_stop.to_csv(r'C:\\Melbourne_Escooter\\RealDataset\\FinalResults\\SuburbWise\\August\\__1to7Stop_Shops.csv',index=False)"
   ]
  },
  {
   "cell_type": "code",
   "execution_count": 24,
   "id": "62c67ec8",
   "metadata": {},
   "outputs": [
    {
     "data": {
      "text/html": [
       "<div>\n",
       "<style scoped>\n",
       "    .dataframe tbody tr th:only-of-type {\n",
       "        vertical-align: middle;\n",
       "    }\n",
       "\n",
       "    .dataframe tbody tr th {\n",
       "        vertical-align: top;\n",
       "    }\n",
       "\n",
       "    .dataframe thead th {\n",
       "        text-align: right;\n",
       "    }\n",
       "</style>\n",
       "<table border=\"1\" class=\"dataframe\">\n",
       "  <thead>\n",
       "    <tr style=\"text-align: right;\">\n",
       "      <th></th>\n",
       "      <th>population</th>\n",
       "      <th>trip stop count</th>\n",
       "    </tr>\n",
       "  </thead>\n",
       "  <tbody>\n",
       "    <tr>\n",
       "      <th>population</th>\n",
       "      <td>1.00000</td>\n",
       "      <td>0.57247</td>\n",
       "    </tr>\n",
       "    <tr>\n",
       "      <th>trip stop count</th>\n",
       "      <td>0.57247</td>\n",
       "      <td>1.00000</td>\n",
       "    </tr>\n",
       "  </tbody>\n",
       "</table>\n",
       "</div>"
      ],
      "text/plain": [
       "                 population  trip stop count\n",
       "population          1.00000          0.57247\n",
       "trip stop count     0.57247          1.00000"
      ]
     },
     "execution_count": 24,
     "metadata": {},
     "output_type": "execute_result"
    }
   ],
   "source": [
    "my_r = cafe_stop.corr(method=\"spearman\")\n",
    "my_r"
   ]
  },
  {
   "cell_type": "markdown",
   "id": "03a5af5e",
   "metadata": {},
   "source": [
    "# Hospitals vs trips"
   ]
  },
  {
   "cell_type": "code",
   "execution_count": 33,
   "id": "e76dd8ef",
   "metadata": {},
   "outputs": [],
   "source": [
    "df_cafe=pd.read_csv(r'C:\\Melbourne_Escooter\\Melbourne-buildings\\Hospital\\__suburbWiseCount.csv')\n",
    "df_start=pd.read_csv(r'C:\\Melbourne_Escooter\\RealDataset\\FinalResults\\SuburbWise\\August\\start\\__1to7.csv')"
   ]
  },
  {
   "cell_type": "code",
   "execution_count": 34,
   "id": "81d2edc8",
   "metadata": {},
   "outputs": [],
   "source": [
    "cafe_start=df_cafe.merge(df_start, how='left', on='suburb')\n",
    "cafe_start.rename(columns = {'suburb':'suburb', 'count_x':'count', 'count_y':'trip start count'}, inplace = True)\n",
    "cafe_start.to_csv(r'C:\\Melbourne_Escooter\\RealDataset\\FinalResults\\SuburbWise\\August\\__1to7Start_Hospital.csv',index=False)"
   ]
  },
  {
   "cell_type": "code",
   "execution_count": 35,
   "id": "26a029ab",
   "metadata": {},
   "outputs": [
    {
     "data": {
      "text/html": [
       "<div>\n",
       "<style scoped>\n",
       "    .dataframe tbody tr th:only-of-type {\n",
       "        vertical-align: middle;\n",
       "    }\n",
       "\n",
       "    .dataframe tbody tr th {\n",
       "        vertical-align: top;\n",
       "    }\n",
       "\n",
       "    .dataframe thead th {\n",
       "        text-align: right;\n",
       "    }\n",
       "</style>\n",
       "<table border=\"1\" class=\"dataframe\">\n",
       "  <thead>\n",
       "    <tr style=\"text-align: right;\">\n",
       "      <th></th>\n",
       "      <th>count</th>\n",
       "      <th>trip start count</th>\n",
       "    </tr>\n",
       "  </thead>\n",
       "  <tbody>\n",
       "    <tr>\n",
       "      <th>count</th>\n",
       "      <td>1.000000</td>\n",
       "      <td>0.360375</td>\n",
       "    </tr>\n",
       "    <tr>\n",
       "      <th>trip start count</th>\n",
       "      <td>0.360375</td>\n",
       "      <td>1.000000</td>\n",
       "    </tr>\n",
       "  </tbody>\n",
       "</table>\n",
       "</div>"
      ],
      "text/plain": [
       "                     count  trip start count\n",
       "count             1.000000          0.360375\n",
       "trip start count  0.360375          1.000000"
      ]
     },
     "execution_count": 35,
     "metadata": {},
     "output_type": "execute_result"
    }
   ],
   "source": [
    "my_r = cafe_start.corr(method=\"spearman\")\n",
    "my_r"
   ]
  },
  {
   "cell_type": "code",
   "execution_count": 28,
   "id": "bfcf92d6",
   "metadata": {},
   "outputs": [],
   "source": [
    "df_cafe=pd.read_csv(r'C:\\Melbourne_Escooter\\Melbourne-buildings\\Hospital\\__suburbWiseCount.csv')\n",
    "df_stop=pd.read_csv(r'C:\\Melbourne_Escooter\\RealDataset\\FinalResults\\SuburbWise\\August\\stop\\__1to7.csv')"
   ]
  },
  {
   "cell_type": "code",
   "execution_count": 29,
   "id": "fab3b6a2",
   "metadata": {},
   "outputs": [],
   "source": [
    "cafe_stop=df_cafe.merge(df_stop, how='left', on='suburb')\n",
    "cafe_stop.rename(columns = {'suburb':'suburb', 'count_x':'population', 'count_y':'trip stop count'}, inplace = True)\n",
    "cafe_stop.to_csv(r'C:\\Melbourne_Escooter\\RealDataset\\FinalResults\\SuburbWise\\August\\__1to7Stop_Hospital.csv',index=False)"
   ]
  },
  {
   "cell_type": "code",
   "execution_count": 30,
   "id": "b6e096f1",
   "metadata": {},
   "outputs": [
    {
     "data": {
      "text/html": [
       "<div>\n",
       "<style scoped>\n",
       "    .dataframe tbody tr th:only-of-type {\n",
       "        vertical-align: middle;\n",
       "    }\n",
       "\n",
       "    .dataframe tbody tr th {\n",
       "        vertical-align: top;\n",
       "    }\n",
       "\n",
       "    .dataframe thead th {\n",
       "        text-align: right;\n",
       "    }\n",
       "</style>\n",
       "<table border=\"1\" class=\"dataframe\">\n",
       "  <thead>\n",
       "    <tr style=\"text-align: right;\">\n",
       "      <th></th>\n",
       "      <th>population</th>\n",
       "      <th>trip stop count</th>\n",
       "    </tr>\n",
       "  </thead>\n",
       "  <tbody>\n",
       "    <tr>\n",
       "      <th>population</th>\n",
       "      <td>1.000000</td>\n",
       "      <td>0.360375</td>\n",
       "    </tr>\n",
       "    <tr>\n",
       "      <th>trip stop count</th>\n",
       "      <td>0.360375</td>\n",
       "      <td>1.000000</td>\n",
       "    </tr>\n",
       "  </tbody>\n",
       "</table>\n",
       "</div>"
      ],
      "text/plain": [
       "                 population  trip stop count\n",
       "population         1.000000         0.360375\n",
       "trip stop count    0.360375         1.000000"
      ]
     },
     "execution_count": 30,
     "metadata": {},
     "output_type": "execute_result"
    }
   ],
   "source": [
    "my_r = cafe_stop.corr(method=\"spearman\")\n",
    "my_r"
   ]
  },
  {
   "cell_type": "markdown",
   "id": "6b3e28c0",
   "metadata": {},
   "source": [
    "# Campus VS trips"
   ]
  },
  {
   "cell_type": "code",
   "execution_count": 41,
   "id": "bad40444",
   "metadata": {},
   "outputs": [],
   "source": [
    "df_cafe=pd.read_csv(r'C:\\Melbourne_Escooter\\Melbourne-buildings\\Campus\\__suburbWiseCount.csv')\n",
    "df_start=pd.read_csv(r'C:\\Melbourne_Escooter\\RealDataset\\FinalResults\\SuburbWise\\August\\start\\__1to7.csv')"
   ]
  },
  {
   "cell_type": "code",
   "execution_count": 42,
   "id": "c5a8bcf3",
   "metadata": {},
   "outputs": [],
   "source": [
    "cafe_start=df_cafe.merge(df_start, how='left', on='suburb')\n",
    "cafe_start.rename(columns = {'suburb':'suburb', 'count_x':'count', 'count_y':'trip start count'}, inplace = True)\n",
    "cafe_start.to_csv(r'C:\\Melbourne_Escooter\\RealDataset\\FinalResults\\SuburbWise\\August\\__1to7Start_Campus.csv',index=False)"
   ]
  },
  {
   "cell_type": "code",
   "execution_count": 44,
   "id": "3bc039d0",
   "metadata": {},
   "outputs": [
    {
     "data": {
      "text/html": [
       "<div>\n",
       "<style scoped>\n",
       "    .dataframe tbody tr th:only-of-type {\n",
       "        vertical-align: middle;\n",
       "    }\n",
       "\n",
       "    .dataframe tbody tr th {\n",
       "        vertical-align: top;\n",
       "    }\n",
       "\n",
       "    .dataframe thead th {\n",
       "        text-align: right;\n",
       "    }\n",
       "</style>\n",
       "<table border=\"1\" class=\"dataframe\">\n",
       "  <thead>\n",
       "    <tr style=\"text-align: right;\">\n",
       "      <th></th>\n",
       "      <th>suburb</th>\n",
       "      <th>count</th>\n",
       "      <th>trip start count</th>\n",
       "    </tr>\n",
       "  </thead>\n",
       "  <tbody>\n",
       "    <tr>\n",
       "      <th>0</th>\n",
       "      <td>Carlton</td>\n",
       "      <td>1</td>\n",
       "      <td>1209.0</td>\n",
       "    </tr>\n",
       "    <tr>\n",
       "      <th>1</th>\n",
       "      <td>Melbourne</td>\n",
       "      <td>1</td>\n",
       "      <td>7357.0</td>\n",
       "    </tr>\n",
       "    <tr>\n",
       "      <th>2</th>\n",
       "      <td>Parkville</td>\n",
       "      <td>1</td>\n",
       "      <td>469.0</td>\n",
       "    </tr>\n",
       "    <tr>\n",
       "      <th>3</th>\n",
       "      <td>Southbank</td>\n",
       "      <td>1</td>\n",
       "      <td>2207.0</td>\n",
       "    </tr>\n",
       "  </tbody>\n",
       "</table>\n",
       "</div>"
      ],
      "text/plain": [
       "      suburb  count  trip start count\n",
       "0    Carlton      1            1209.0\n",
       "1  Melbourne      1            7357.0\n",
       "2  Parkville      1             469.0\n",
       "3  Southbank      1            2207.0"
      ]
     },
     "execution_count": 44,
     "metadata": {},
     "output_type": "execute_result"
    }
   ],
   "source": [
    "cafe_start"
   ]
  },
  {
   "cell_type": "code",
   "execution_count": 46,
   "id": "4ef6e8d0",
   "metadata": {},
   "outputs": [
    {
     "data": {
      "text/html": [
       "<div>\n",
       "<style scoped>\n",
       "    .dataframe tbody tr th:only-of-type {\n",
       "        vertical-align: middle;\n",
       "    }\n",
       "\n",
       "    .dataframe tbody tr th {\n",
       "        vertical-align: top;\n",
       "    }\n",
       "\n",
       "    .dataframe thead th {\n",
       "        text-align: right;\n",
       "    }\n",
       "</style>\n",
       "<table border=\"1\" class=\"dataframe\">\n",
       "  <thead>\n",
       "    <tr style=\"text-align: right;\">\n",
       "      <th></th>\n",
       "      <th>count</th>\n",
       "      <th>trip start count</th>\n",
       "    </tr>\n",
       "  </thead>\n",
       "  <tbody>\n",
       "    <tr>\n",
       "      <th>count</th>\n",
       "      <td>NaN</td>\n",
       "      <td>NaN</td>\n",
       "    </tr>\n",
       "    <tr>\n",
       "      <th>trip start count</th>\n",
       "      <td>NaN</td>\n",
       "      <td>1.0</td>\n",
       "    </tr>\n",
       "  </tbody>\n",
       "</table>\n",
       "</div>"
      ],
      "text/plain": [
       "                  count  trip start count\n",
       "count               NaN               NaN\n",
       "trip start count    NaN               1.0"
      ]
     },
     "execution_count": 46,
     "metadata": {},
     "output_type": "execute_result"
    }
   ],
   "source": [
    "cafe_start=pd.read_csv(r'C:\\Melbourne_Escooter\\RealDataset\\FinalResults\\SuburbWise\\August\\__1to7Start_Campus.csv')\n",
    "my_r = cafe_start.corr(method=\"spearman\")\n",
    "my_r"
   ]
  },
  {
   "cell_type": "code",
   "execution_count": null,
   "id": "8a79f64f",
   "metadata": {},
   "outputs": [],
   "source": []
  }
 ],
 "metadata": {
  "kernelspec": {
   "display_name": "Python 3 (ipykernel)",
   "language": "python",
   "name": "python3"
  },
  "language_info": {
   "codemirror_mode": {
    "name": "ipython",
    "version": 3
   },
   "file_extension": ".py",
   "mimetype": "text/x-python",
   "name": "python",
   "nbconvert_exporter": "python",
   "pygments_lexer": "ipython3",
   "version": "3.7.13"
  }
 },
 "nbformat": 4,
 "nbformat_minor": 5
}
