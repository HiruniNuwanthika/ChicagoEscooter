{
 "cells": [
  {
   "cell_type": "code",
   "execution_count": 1,
   "id": "e434f24d",
   "metadata": {},
   "outputs": [],
   "source": [
    "import pandas as pd"
   ]
  },
  {
   "cell_type": "code",
   "execution_count": 77,
   "id": "1576c05e",
   "metadata": {},
   "outputs": [],
   "source": [
    "df=pd.read_csv(r'C:\\Melbourne_Escooter\\RealDataset\\FinalResults\\August\\Stopped\\PerDay\\7\\AllHoursWithSuburb.csv')"
   ]
  },
  {
   "cell_type": "code",
   "execution_count": 47,
   "id": "53335ce2",
   "metadata": {},
   "outputs": [
    {
     "data": {
      "text/html": [
       "<div>\n",
       "<style scoped>\n",
       "    .dataframe tbody tr th:only-of-type {\n",
       "        vertical-align: middle;\n",
       "    }\n",
       "\n",
       "    .dataframe tbody tr th {\n",
       "        vertical-align: top;\n",
       "    }\n",
       "\n",
       "    .dataframe thead th {\n",
       "        text-align: right;\n",
       "    }\n",
       "</style>\n",
       "<table border=\"1\" class=\"dataframe\">\n",
       "  <thead>\n",
       "    <tr style=\"text-align: right;\">\n",
       "      <th></th>\n",
       "      <th>bike_id</th>\n",
       "      <th>latitude</th>\n",
       "      <th>longitude</th>\n",
       "      <th>range</th>\n",
       "      <th>datetime</th>\n",
       "      <th>suburb</th>\n",
       "    </tr>\n",
       "  </thead>\n",
       "  <tbody>\n",
       "    <tr>\n",
       "      <th>0</th>\n",
       "      <td>27c606f0-c9c0-49bd-b3bd-b5a3d3ddb00f</td>\n",
       "      <td>-37.814807</td>\n",
       "      <td>144.952815</td>\n",
       "      <td>19153</td>\n",
       "      <td>1:00:03</td>\n",
       "      <td>Melbourne</td>\n",
       "    </tr>\n",
       "    <tr>\n",
       "      <th>1</th>\n",
       "      <td>e5ec0baa-3388-4292-b4a9-811682352e9d</td>\n",
       "      <td>-37.841504</td>\n",
       "      <td>144.933781</td>\n",
       "      <td>1796</td>\n",
       "      <td>1:00:05</td>\n",
       "      <td>Port Melbourne</td>\n",
       "    </tr>\n",
       "    <tr>\n",
       "      <th>2</th>\n",
       "      <td>7a38d0d5-aa12-431d-adfc-df356a5f13ad</td>\n",
       "      <td>-37.817551</td>\n",
       "      <td>144.949955</td>\n",
       "      <td>18053</td>\n",
       "      <td>1:00:05</td>\n",
       "      <td>Docklands</td>\n",
       "    </tr>\n",
       "    <tr>\n",
       "      <th>3</th>\n",
       "      <td>bfca4a77-ede4-41d6-b2d8-4563e2237154</td>\n",
       "      <td>-37.816113</td>\n",
       "      <td>144.964254</td>\n",
       "      <td>6183</td>\n",
       "      <td>1:00:05</td>\n",
       "      <td>Melbourne</td>\n",
       "    </tr>\n",
       "    <tr>\n",
       "      <th>4</th>\n",
       "      <td>ca37ec6b-6c26-43a6-8d4c-48383e53ffb1</td>\n",
       "      <td>-37.779599</td>\n",
       "      <td>144.983877</td>\n",
       "      <td>14414</td>\n",
       "      <td>1:00:05</td>\n",
       "      <td>Fitzroy North</td>\n",
       "    </tr>\n",
       "  </tbody>\n",
       "</table>\n",
       "</div>"
      ],
      "text/plain": [
       "                                bike_id   latitude   longitude  range  \\\n",
       "0  27c606f0-c9c0-49bd-b3bd-b5a3d3ddb00f -37.814807  144.952815  19153   \n",
       "1  e5ec0baa-3388-4292-b4a9-811682352e9d -37.841504  144.933781   1796   \n",
       "2  7a38d0d5-aa12-431d-adfc-df356a5f13ad -37.817551  144.949955  18053   \n",
       "3  bfca4a77-ede4-41d6-b2d8-4563e2237154 -37.816113  144.964254   6183   \n",
       "4  ca37ec6b-6c26-43a6-8d4c-48383e53ffb1 -37.779599  144.983877  14414   \n",
       "\n",
       "  datetime          suburb  \n",
       "0  1:00:03       Melbourne  \n",
       "1  1:00:05  Port Melbourne  \n",
       "2  1:00:05       Docklands  \n",
       "3  1:00:05       Melbourne  \n",
       "4  1:00:05   Fitzroy North  "
      ]
     },
     "execution_count": 47,
     "metadata": {},
     "output_type": "execute_result"
    }
   ],
   "source": [
    "df.head()"
   ]
  },
  {
   "cell_type": "code",
   "execution_count": 78,
   "id": "724eba40",
   "metadata": {},
   "outputs": [],
   "source": [
    "counts=df.groupby(['suburb'])['suburb'].count()"
   ]
  },
  {
   "cell_type": "code",
   "execution_count": 79,
   "id": "3f0b81dd",
   "metadata": {},
   "outputs": [],
   "source": [
    "df_count=pd.DataFrame(counts)"
   ]
  },
  {
   "cell_type": "code",
   "execution_count": 80,
   "id": "8b89a6d2",
   "metadata": {},
   "outputs": [],
   "source": [
    "df_count.columns=['count']"
   ]
  },
  {
   "cell_type": "code",
   "execution_count": 81,
   "id": "124d1c83",
   "metadata": {},
   "outputs": [],
   "source": [
    "df_count.to_csv(r'C:\\Melbourne_Escooter\\RealDataset\\FinalResults\\August\\Stopped\\PerDay\\7\\TripCountsbySuburb.csv')"
   ]
  },
  {
   "cell_type": "code",
   "execution_count": null,
   "id": "2c9c090e",
   "metadata": {},
   "outputs": [],
   "source": []
  }
 ],
 "metadata": {
  "kernelspec": {
   "display_name": "Python 3 (ipykernel)",
   "language": "python",
   "name": "python3"
  },
  "language_info": {
   "codemirror_mode": {
    "name": "ipython",
    "version": 3
   },
   "file_extension": ".py",
   "mimetype": "text/x-python",
   "name": "python",
   "nbconvert_exporter": "python",
   "pygments_lexer": "ipython3",
   "version": "3.7.13"
  }
 },
 "nbformat": 4,
 "nbformat_minor": 5
}
