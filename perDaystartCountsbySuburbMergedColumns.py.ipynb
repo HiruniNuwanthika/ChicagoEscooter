{
 "cells": [
  {
   "cell_type": "code",
   "execution_count": 3,
   "id": "a514a856",
   "metadata": {},
   "outputs": [],
   "source": [
    "import pandas as pd\n",
    "import matplotlib.pyplot as plt"
   ]
  },
  {
   "cell_type": "code",
   "execution_count": 18,
   "id": "d1792647",
   "metadata": {},
   "outputs": [],
   "source": [
    "df1=pd.read_csv(r'C:\\Melbourne_Escooter\\RealDataset\\FinalResults\\August\\Started\\PerDay\\1\\withSuburb\\start_1Aug_0_00-5_59.csv')"
   ]
  },
  {
   "cell_type": "code",
   "execution_count": 19,
   "id": "e62d8f35",
   "metadata": {},
   "outputs": [],
   "source": [
    "df2=pd.read_csv(r'C:\\Melbourne_Escooter\\RealDataset\\FinalResults\\August\\Started\\PerDay\\1\\withSuburb\\start_1Aug_6_00-10_59.csv')"
   ]
  },
  {
   "cell_type": "code",
   "execution_count": 20,
   "id": "98fa94b8",
   "metadata": {},
   "outputs": [],
   "source": [
    "df3=pd.read_csv(r'C:\\Melbourne_Escooter\\RealDataset\\FinalResults\\August\\Started\\PerDay\\1\\withSuburb\\start_1Aug_11_00-15_59.csv')"
   ]
  },
  {
   "cell_type": "code",
   "execution_count": 21,
   "id": "0bfd7d92",
   "metadata": {},
   "outputs": [],
   "source": [
    "df4=pd.read_csv(r'C:\\Melbourne_Escooter\\RealDataset\\FinalResults\\August\\Started\\PerDay\\1\\withSuburb\\start_1Aug_16_00-18_59.csv')"
   ]
  },
  {
   "cell_type": "code",
   "execution_count": 22,
   "id": "4226a9df",
   "metadata": {},
   "outputs": [],
   "source": [
    "df5=pd.read_csv(r'C:\\Melbourne_Escooter\\RealDataset\\FinalResults\\August\\Started\\PerDay\\1\\withSuburb\\start_1Aug_19_00-23_59.csv')"
   ]
  },
  {
   "cell_type": "code",
   "execution_count": 23,
   "id": "44eab10a",
   "metadata": {},
   "outputs": [],
   "source": [
    "df1_ =df1.groupby(['suburb'])['suburb'].count()"
   ]
  },
  {
   "cell_type": "code",
   "execution_count": 24,
   "id": "78cb2e1c",
   "metadata": {},
   "outputs": [],
   "source": [
    "df2_ =df2.groupby(['suburb'])['suburb'].count()"
   ]
  },
  {
   "cell_type": "code",
   "execution_count": 28,
   "id": "2dfd4f88",
   "metadata": {},
   "outputs": [],
   "source": [
    "df_day=pd.concat([df1_,df2_,df3_,df4_,df5_], axis=1)"
   ]
  },
  {
   "cell_type": "code",
   "execution_count": 30,
   "id": "2d69aaed",
   "metadata": {},
   "outputs": [],
   "source": [
    "day=pd.DataFrame(df_day)"
   ]
  },
  {
   "cell_type": "code",
   "execution_count": 36,
   "id": "40f0b869",
   "metadata": {},
   "outputs": [],
   "source": [
    "day.columns=['0:00-5:59','6:00-10:59','11:00-15:59','16:00-18:59','19:00-23:59']"
   ]
  },
  {
   "cell_type": "code",
   "execution_count": 37,
   "id": "75528d28",
   "metadata": {},
   "outputs": [],
   "source": [
    "day.to_csv(r'C:\\Melbourne_Escooter\\RealDataset\\FinalResults\\August\\Started\\PerDay\\1\\withSuburb\\start_counts_by_suburb-columnwise.csv')"
   ]
  },
  {
   "cell_type": "code",
   "execution_count": 25,
   "id": "b2e8552b",
   "metadata": {},
   "outputs": [],
   "source": [
    "df3_ =df3.groupby(['suburb'])['suburb'].count()"
   ]
  },
  {
   "cell_type": "code",
   "execution_count": 26,
   "id": "85ce0dcc",
   "metadata": {},
   "outputs": [],
   "source": [
    "df4_ =df4.groupby(['suburb'])['suburb'].count()"
   ]
  },
  {
   "cell_type": "code",
   "execution_count": 27,
   "id": "bd9ec14c",
   "metadata": {},
   "outputs": [],
   "source": [
    "df5_ =df5.groupby(['suburb'])['suburb'].count()"
   ]
  },
  {
   "cell_type": "code",
   "execution_count": 78,
   "id": "73242345",
   "metadata": {},
   "outputs": [],
   "source": [
    "s1=df1_.add(df2_, fill_value=0, axis=0)"
   ]
  },
  {
   "cell_type": "code",
   "execution_count": 82,
   "id": "753fa810",
   "metadata": {},
   "outputs": [],
   "source": [
    "s2=(df1_.add(df2_, fill_value=0, axis=0)).add(df3_, fill_value=0, axis=0)"
   ]
  },
  {
   "cell_type": "code",
   "execution_count": 85,
   "id": "0001f083",
   "metadata": {},
   "outputs": [],
   "source": [
    "s3=s2.add(df4_, fill_value=0, axis=0)"
   ]
  },
  {
   "cell_type": "code",
   "execution_count": 84,
   "id": "cfff309d",
   "metadata": {},
   "outputs": [],
   "source": [
    "s3=((df1_.add(df2_, fill_value=0, axis=0)).add(df3_, fill_value=0, axis=0)).add(df4_, fill_value=0, axis=0)"
   ]
  },
  {
   "cell_type": "code",
   "execution_count": 86,
   "id": "60d60b9f",
   "metadata": {},
   "outputs": [],
   "source": [
    "s4=(((df1_.add(df2_, fill_value=0, axis=0)).add(df3_, fill_value=0, axis=0)).add(df4_, fill_value=0, axis=0)).add(df5_, fill_value=0, axis=0)"
   ]
  },
  {
   "cell_type": "code",
   "execution_count": 94,
   "id": "77bfeb66",
   "metadata": {},
   "outputs": [],
   "source": [
    "s4.to_csv(r'C:\\Melbourne_Escooter\\RealDataset\\FinalResults\\August\\Started\\PerDay\\1\\withSuburb\\start_counts_by_suburb.csv')"
   ]
  },
  {
   "cell_type": "code",
   "execution_count": 100,
   "id": "1f46ab28",
   "metadata": {},
   "outputs": [],
   "source": [
    "def startCountsBySuburb():\n",
    "    df1=pd.read_csv(r'C:\\Melbourne_Escooter\\RealDataset\\FinalResults\\August\\Started\\PerDay\\1\\withSuburb\\start_1Aug_0_00-5_59.csv')\n",
    "    df2=pd.read_csv(r'C:\\Melbourne_Escooter\\RealDataset\\FinalResults\\August\\Started\\PerDay\\1\\withSuburb\\start_1Aug_6_00-10_59.csv')\n",
    "    df3=pd.read_csv(r'C:\\Melbourne_Escooter\\RealDataset\\FinalResults\\August\\Started\\PerDay\\1\\withSuburb\\start_1Aug_11_00-15_59.csv')\n",
    "    df4=pd.read_csv(r'C:\\Melbourne_Escooter\\RealDataset\\FinalResults\\August\\Started\\PerDay\\1\\withSuburb\\start_1Aug_16_00-18_59.csv')\n",
    "    df5=pd.read_csv(r'C:\\Melbourne_Escooter\\RealDataset\\FinalResults\\August\\Started\\PerDay\\1\\withSuburb\\start_1Aug_19_00-23_59.csv')\n",
    "    df1_ =df1.groupby(['suburb'])['suburb'].count()\n",
    "    df2_ =df2.groupby(['suburb'])['suburb'].count()\n",
    "    df3_ =df3.groupby(['suburb'])['suburb'].count()\n",
    "    df4_ =df4.groupby(['suburb'])['suburb'].count()\n",
    "    df5_ =df5.groupby(['suburb'])['suburb'].count()\n",
    "    s=(((df1_.add(df2_, fill_value=0, axis=0)).add(df3_, fill_value=0, axis=0)).add(df4_, fill_value=0, axis=0)).add(df5_, fill_value=0, axis=0)\n",
    "    #df_all=pd.DataFrame(s, columns=['suburbName', 'count'])\n",
    "    s.to_csv(r'C:\\Melbourne_Escooter\\RealDataset\\FinalResults\\August\\Started\\PerDay\\1\\withSuburb\\start_counts_by_suburb.csv')"
   ]
  },
  {
   "cell_type": "markdown",
   "id": "df10ae32",
   "metadata": {},
   "source": [
    "read csv files having time framed data.\n",
    "group by suburbs and count records.\n",
    "sumup all counts into a single number for each suburb\n"
   ]
  },
  {
   "cell_type": "code",
   "execution_count": 101,
   "id": "4f55cbe3",
   "metadata": {},
   "outputs": [],
   "source": [
    "startCountsBySuburb()"
   ]
  },
  {
   "cell_type": "code",
   "execution_count": null,
   "id": "f45ac2eb",
   "metadata": {},
   "outputs": [],
   "source": [
    "def startCountsbySuburbMergedColumns(day):\n",
    "    df1=pd.read_csv(r'C:\\Melbourne_Escooter\\RealDataset\\FinalResults\\August\\Started\\PerDay\\1\\withSuburb\\start_{}Aug_0_00-5_59.csv'.format(day))\n",
    "    df2=pd.read_csv(r'C:\\Melbourne_Escooter\\RealDataset\\FinalResults\\August\\Started\\PerDay\\1\\withSuburb\\start_{}Aug_6_00-10_59.csv'.format(day))\n",
    "    df3=pd.read_csv(r'C:\\Melbourne_Escooter\\RealDataset\\FinalResults\\August\\Started\\PerDay\\1\\withSuburb\\start_{}Aug_11_00-15_59.csv'.format(day))\n",
    "    df4=pd.read_csv(r'C:\\Melbourne_Escooter\\RealDataset\\FinalResults\\August\\Started\\PerDay\\1\\withSuburb\\start_{}Aug_16_00-18_59.csv'.format(day))\n",
    "    df5=pd.read_csv(r'C:\\Melbourne_Escooter\\RealDataset\\FinalResults\\August\\Started\\PerDay\\1\\withSuburb\\start_{}Aug_19_00-23_59.csv'.format(day))\n",
    "    df1_ =df1.groupby(['suburb'])['suburb'].count()\n",
    "    df2_ =df2.groupby(['suburb'])['suburb'].count()\n",
    "    df3_ =df3.groupby(['suburb'])['suburb'].count()\n",
    "    df4_ =df4.groupby(['suburb'])['suburb'].count()\n",
    "    df5_ =df5.groupby(['suburb'])['suburb'].count()\n",
    "    df_day=pd.concat([df1_,df2_,df3_,df4_,df5_], axis=1)\n",
    "    day=pd.DataFrame(df_day)\n",
    "    day.columns=['0:00-5:59','6:00-10:59','11:00-15:59','16:00-18:59','19:00-23:59']\n",
    "    day.to_csv(r'C:\\Melbourne_Escooter\\RealDataset\\FinalResults\\August\\Started\\PerDay\\1\\withSuburb\\start_counts_by_suburb-columnwise.csv')"
   ]
  },
  {
   "cell_type": "markdown",
   "id": "f5105bd3",
   "metadata": {},
   "source": [
    "read csv files having time framed data.\n",
    "group by suburbs and count records.\n",
    "merge record counts given for timeframe column wise\n",
    "change column names\n",
    "save\n"
   ]
  },
  {
   "cell_type": "code",
   "execution_count": 38,
   "id": "068f9914",
   "metadata": {},
   "outputs": [],
   "source": [
    "def stopCountsbySuburbMergedColumns(day):\n",
    "    df1=pd.read_csv(r'C:\\Melbourne_Escooter\\RealDataset\\FinalResults\\August\\Stopped\\PerDay\\1\\withSuburb\\stop_{}Aug_0_00-5_59.csv'.format(day))\n",
    "    df2=pd.read_csv(r'C:\\Melbourne_Escooter\\RealDataset\\FinalResults\\August\\Stopped\\PerDay\\1\\withSuburb\\stop_{}Aug_6_00-10_59.csv'.format(day))\n",
    "    df3=pd.read_csv(r'C:\\Melbourne_Escooter\\RealDataset\\FinalResults\\August\\Stopped\\PerDay\\1\\withSuburb\\stop_{}Aug_11_00-15_59.csv'.format(day))\n",
    "    df4=pd.read_csv(r'C:\\Melbourne_Escooter\\RealDataset\\FinalResults\\August\\Stopped\\PerDay\\1\\withSuburb\\stop_{}Aug_16_00-18_59.csv'.format(day))\n",
    "    df5=pd.read_csv(r'C:\\Melbourne_Escooter\\RealDataset\\FinalResults\\August\\Stopped\\PerDay\\1\\withSuburb\\stop_{}Aug_19_00-23_59.csv'.format(day))\n",
    "    df1_ =df1.groupby(['suburb'])['suburb'].count()\n",
    "    df2_ =df2.groupby(['suburb'])['suburb'].count()\n",
    "    df3_ =df3.groupby(['suburb'])['suburb'].count()\n",
    "    df4_ =df4.groupby(['suburb'])['suburb'].count()\n",
    "    df5_ =df5.groupby(['suburb'])['suburb'].count()\n",
    "    df_day=pd.concat([df1_,df2_,df3_,df4_,df5_], axis=1)\n",
    "    day=pd.DataFrame(df_day)\n",
    "    day.columns=['0:00-5:59','6:00-10:59','11:00-15:59','16:00-18:59','19:00-23:59']\n",
    "    day.to_csv(r'C:\\Melbourne_Escooter\\RealDataset\\FinalResults\\August\\Stopped\\PerDay\\1\\withSuburb\\stop_counts_by_suburb-columnwise.csv')"
   ]
  },
  {
   "cell_type": "code",
   "execution_count": 39,
   "id": "3992a940",
   "metadata": {},
   "outputs": [],
   "source": [
    "stopCountsbySuburbMergedColumns(1)"
   ]
  },
  {
   "cell_type": "code",
   "execution_count": 32,
   "id": "6171b394",
   "metadata": {},
   "outputs": [],
   "source": [
    "def perDaystartCountsbySuburbMergedColumns():\n",
    "    #read csv files\n",
    "    df1=pd.read_csv(r'C:\\Melbourne_Escooter\\RealDataset\\FinalResults\\August\\Started\\PerDay\\1\\TripCountsbySuburb.csv')\n",
    "    df2=pd.read_csv(r'C:\\Melbourne_Escooter\\RealDataset\\FinalResults\\August\\Started\\PerDay\\2\\TripCountsbySuburb.csv')\n",
    "    df3=pd.read_csv(r'C:\\Melbourne_Escooter\\RealDataset\\FinalResults\\August\\Started\\PerDay\\3\\TripCountsbySuburb.csv')\n",
    "    df4=pd.read_csv(r'C:\\Melbourne_Escooter\\RealDataset\\FinalResults\\August\\Started\\PerDay\\4\\TripCountsbySuburb.csv')\n",
    "    df5=pd.read_csv(r'C:\\Melbourne_Escooter\\RealDataset\\FinalResults\\August\\Started\\PerDay\\5\\TripCountsbySuburb.csv')\n",
    "    df6=pd.read_csv(r'C:\\Melbourne_Escooter\\RealDataset\\FinalResults\\August\\Started\\PerDay\\6\\TripCountsbySuburb.csv')\n",
    "    df7=pd.read_csv(r'C:\\Melbourne_Escooter\\RealDataset\\FinalResults\\August\\Started\\PerDay\\7\\TripCountsbySuburb.csv')\n",
    "    #set index of each file to 1st volumn\n",
    "    df1.set_index('LOC_NAME',inplace=True)\n",
    "    df2.set_index('LOC_NAME',inplace=True)\n",
    "    df3.set_index('LOC_NAME',inplace=True)\n",
    "    df4.set_index('LOC_NAME',inplace=True)\n",
    "    df5.set_index('LOC_NAME',inplace=True)\n",
    "    df6.set_index('LOC_NAME',inplace=True)\n",
    "    df7.set_index('LOC_NAME',inplace=True)\n",
    "    df_week = pd.concat([df1,df2,df3,df4,df5,df6,df7],axis=1,sort=False).reset_index()\n",
    "    week=pd.DataFrame(df_week)\n",
    "    week.columns=['Suburb','Monday_count','Tuesday_count','Wednesday_count','Thursday_count','Friday_count','Saturday_count','Sunday_count']\n",
    "    week.to_csv(r'C:\\Melbourne_Escooter\\RealDataset\\FinalResults\\August\\Started\\week1\\per_week_start_counts_by_suburb-columnwise.csv', index=False)"
   ]
  },
  {
   "cell_type": "code",
   "execution_count": 33,
   "id": "11710b43",
   "metadata": {},
   "outputs": [],
   "source": [
    "perDaystartCountsbySuburbMergedColumns()"
   ]
  },
  {
   "cell_type": "code",
   "execution_count": 34,
   "id": "bf53469a",
   "metadata": {},
   "outputs": [],
   "source": [
    "def perDaystopCountsbySuburbMergedColumns():\n",
    "    #read csv files\n",
    "    df1=pd.read_csv(r'C:\\Melbourne_Escooter\\RealDataset\\FinalResults\\August\\Stopped\\PerDay\\1\\TripCountsbySuburb.csv')\n",
    "    df2=pd.read_csv(r'C:\\Melbourne_Escooter\\RealDataset\\FinalResults\\August\\Stopped\\PerDay\\2\\TripCountsbySuburb.csv')\n",
    "    df3=pd.read_csv(r'C:\\Melbourne_Escooter\\RealDataset\\FinalResults\\August\\Stopped\\PerDay\\3\\TripCountsbySuburb.csv')\n",
    "    df4=pd.read_csv(r'C:\\Melbourne_Escooter\\RealDataset\\FinalResults\\August\\Stopped\\PerDay\\4\\TripCountsbySuburb.csv')\n",
    "    df5=pd.read_csv(r'C:\\Melbourne_Escooter\\RealDataset\\FinalResults\\August\\Stopped\\PerDay\\5\\TripCountsbySuburb.csv')\n",
    "    df6=pd.read_csv(r'C:\\Melbourne_Escooter\\RealDataset\\FinalResults\\August\\Stopped\\PerDay\\6\\TripCountsbySuburb.csv')\n",
    "    df7=pd.read_csv(r'C:\\Melbourne_Escooter\\RealDataset\\FinalResults\\August\\Stopped\\PerDay\\7\\TripCountsbySuburb.csv')\n",
    "    #set index of each file to 1st volumn\n",
    "    df1.set_index('LOC_NAME',inplace=True)\n",
    "    df2.set_index('LOC_NAME',inplace=True)\n",
    "    df3.set_index('LOC_NAME',inplace=True)\n",
    "    df4.set_index('LOC_NAME',inplace=True)\n",
    "    df5.set_index('LOC_NAME',inplace=True)\n",
    "    df6.set_index('LOC_NAME',inplace=True)\n",
    "    df7.set_index('LOC_NAME',inplace=True)\n",
    "    df_week = pd.concat([df1,df2,df3,df4,df5,df6,df7],axis=1,sort=False).reset_index()\n",
    "    week=pd.DataFrame(df_week)\n",
    "    week.columns=['Suburb','Monday_count','Tuesday_count','Wednesday_count','Thursday_count','Friday_count','Saturday_count','Sunday_count']\n",
    "    week.to_csv(r'C:\\Melbourne_Escooter\\RealDataset\\FinalResults\\August\\Stopped\\week1\\per_week_end_counts_by_suburb-columnwise.csv', index=False)"
   ]
  },
  {
   "cell_type": "code",
   "execution_count": 35,
   "id": "e712ae36",
   "metadata": {},
   "outputs": [],
   "source": [
    "perDaystopCountsbySuburbMergedColumns()"
   ]
  },
  {
   "cell_type": "code",
   "execution_count": null,
   "id": "7518b4f9",
   "metadata": {},
   "outputs": [],
   "source": []
  }
 ],
 "metadata": {
  "kernelspec": {
   "display_name": "geo_env",
   "language": "python",
   "name": "geo_env"
  },
  "language_info": {
   "codemirror_mode": {
    "name": "ipython",
    "version": 3
   },
   "file_extension": ".py",
   "mimetype": "text/x-python",
   "name": "python",
   "nbconvert_exporter": "python",
   "pygments_lexer": "ipython3",
   "version": "3.10.5"
  }
 },
 "nbformat": 4,
 "nbformat_minor": 5
}
