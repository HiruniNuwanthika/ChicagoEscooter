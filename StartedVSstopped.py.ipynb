{
 "cells": [
  {
   "cell_type": "markdown",
   "id": "4cb4e1be",
   "metadata": {},
   "source": [
    "## Aug 1 Monday starts VS stops for all hour categories"
   ]
  },
  {
   "cell_type": "code",
   "execution_count": 1,
   "id": "1347020c",
   "metadata": {},
   "outputs": [],
   "source": [
    "import folium\n",
    "import pandas as pd"
   ]
  },
  {
   "cell_type": "code",
   "execution_count": 2,
   "id": "39c021ec",
   "metadata": {},
   "outputs": [],
   "source": [
    "melb_map = folium.Map(location=[-37.791107, 144.970565],width=\"%100\",height=\"%100\",zoom_start=10)"
   ]
  },
  {
   "cell_type": "code",
   "execution_count": 3,
   "id": "a804814c",
   "metadata": {},
   "outputs": [],
   "source": [
    "df_start=pd.read_csv(r'C:\\Melbourne_Escooter\\RealDataset\\FinalResults\\August\\Started\\PerDay\\1\\1AugHour0_00-5_59.csv')\n",
    "df_stop=pd.read_csv(r'C:\\Melbourne_Escooter\\RealDataset\\FinalResults\\August\\Stopped\\PerDay\\1\\1AugHour0_00-5_59.csv')"
   ]
  },
  {
   "cell_type": "code",
   "execution_count": 5,
   "id": "82e5e493",
   "metadata": {},
   "outputs": [],
   "source": [
    "for i,row in df_start.iterrows():\n",
    "   folium.Marker(location=[row['latitude'], row['longitude']],popup=row['bike_id'],icon=folium.Icon(color=\"blue\",icon=\"circle\")).add_to(melb_map)"
   ]
  },
  {
   "cell_type": "code",
   "execution_count": 6,
   "id": "b3aceaa6",
   "metadata": {},
   "outputs": [],
   "source": [
    "for i,row in df_stop.iterrows():\n",
    "   folium.Marker(location=[row['latitude'], row['longitude']],popup=row['bike_id'],icon=folium.Icon(color=\"red\",icon=\"circle\")).add_to(melb_map)"
   ]
  },
  {
   "cell_type": "code",
   "execution_count": 8,
   "id": "f0f6db2d",
   "metadata": {},
   "outputs": [],
   "source": [
    "melb_map.save(r'C:\\Melbourne_Escooter\\RealDataset\\FinalResults\\August\\1-monday\\1_startedVSstopped_Hour0_00-5_59.html')"
   ]
  },
  {
   "cell_type": "code",
   "execution_count": 9,
   "id": "7019dc78",
   "metadata": {},
   "outputs": [],
   "source": [
    "melb_map2 = folium.Map(location=[-37.791107, 144.970565],width=\"%100\",height=\"%100\",zoom_start=10)"
   ]
  },
  {
   "cell_type": "code",
   "execution_count": 10,
   "id": "564b7504",
   "metadata": {},
   "outputs": [],
   "source": [
    "df_start=pd.read_csv(r'C:\\Melbourne_Escooter\\RealDataset\\FinalResults\\August\\Started\\PerDay\\1\\1AugHour6_00-10_59.csv')\n",
    "df_stop=pd.read_csv(r'C:\\Melbourne_Escooter\\RealDataset\\FinalResults\\August\\Stopped\\PerDay\\1\\1AugHour6_00-10_59.csv')"
   ]
  },
  {
   "cell_type": "code",
   "execution_count": 12,
   "id": "14cde1c4",
   "metadata": {},
   "outputs": [],
   "source": [
    "for i,row in df_start.iterrows():\n",
    "   folium.Marker(location=[row['latitude'], row['longitude']],popup=row['bike_id'],icon=folium.Icon(color=\"blue\",icon=\"circle\")).add_to(melb_map2)\n",
    "\n",
    "for i,row in df_stop.iterrows():\n",
    "   folium.Marker(location=[row['latitude'], row['longitude']],popup=row['bike_id'],icon=folium.Icon(color=\"red\",icon=\"circle\")).add_to(melb_map2)"
   ]
  },
  {
   "cell_type": "code",
   "execution_count": 14,
   "id": "ca91102a",
   "metadata": {},
   "outputs": [],
   "source": [
    "melb_map2.save(r'C:\\Melbourne_Escooter\\RealDataset\\FinalResults\\August\\1-monday\\1_startedVSstopped_Hour6_00-10_59.html')"
   ]
  },
  {
   "cell_type": "code",
   "execution_count": 15,
   "id": "a89e5126",
   "metadata": {},
   "outputs": [],
   "source": [
    "melb_map3 = folium.Map(location=[-37.791107, 144.970565],width=\"%100\",height=\"%100\",zoom_start=10)\n",
    "df_start=pd.read_csv(r'C:\\Melbourne_Escooter\\RealDataset\\FinalResults\\August\\Started\\PerDay\\1\\1AugHour11_00-15_59.csv')\n",
    "df_stop=pd.read_csv(r'C:\\Melbourne_Escooter\\RealDataset\\FinalResults\\August\\Stopped\\PerDay\\1\\1AugHour11_00-15_59.csv')\n",
    "for i,row in df_start.iterrows():\n",
    "   folium.Marker(location=[row['latitude'], row['longitude']],popup=row['bike_id'],icon=folium.Icon(color=\"blue\",icon=\"circle\")).add_to(melb_map3)\n",
    "\n",
    "for i,row in df_stop.iterrows():\n",
    "   folium.Marker(location=[row['latitude'], row['longitude']],popup=row['bike_id'],icon=folium.Icon(color=\"red\",icon=\"circle\")).add_to(melb_map3)"
   ]
  },
  {
   "cell_type": "code",
   "execution_count": 17,
   "id": "9426d422",
   "metadata": {},
   "outputs": [],
   "source": [
    "melb_map3.save(r'C:\\Melbourne_Escooter\\RealDataset\\FinalResults\\August\\1-monday\\1_startedVSstopped_Hour11_00-15_59.html')"
   ]
  },
  {
   "cell_type": "code",
   "execution_count": 18,
   "id": "37465073",
   "metadata": {},
   "outputs": [],
   "source": [
    "melb_map4 = folium.Map(location=[-37.791107, 144.970565],width=\"%100\",height=\"%100\",zoom_start=10)\n",
    "df_start=pd.read_csv(r'C:\\Melbourne_Escooter\\RealDataset\\FinalResults\\August\\Started\\PerDay\\1\\1AugHour16_00-18_59.csv')\n",
    "df_stop=pd.read_csv(r'C:\\Melbourne_Escooter\\RealDataset\\FinalResults\\August\\Stopped\\PerDay\\1\\1AugHour16_00-18_59.csv')\n",
    "for i,row in df_start.iterrows():\n",
    "   folium.Marker(location=[row['latitude'], row['longitude']],popup=row['bike_id'],icon=folium.Icon(color=\"blue\",icon=\"circle\")).add_to(melb_map4)\n",
    "\n",
    "for i,row in df_stop.iterrows():\n",
    "   folium.Marker(location=[row['latitude'], row['longitude']],popup=row['bike_id'],icon=folium.Icon(color=\"red\",icon=\"circle\")).add_to(melb_map4)"
   ]
  },
  {
   "cell_type": "code",
   "execution_count": 21,
   "id": "a885d35e",
   "metadata": {},
   "outputs": [],
   "source": [
    "melb_map4.save(r'C:\\Melbourne_Escooter\\RealDataset\\FinalResults\\August\\1-monday\\1_startedVSstopped_Hour16_00-18_59.html')"
   ]
  },
  {
   "cell_type": "code",
   "execution_count": 22,
   "id": "5f0de398",
   "metadata": {},
   "outputs": [],
   "source": [
    "melb_map5 = folium.Map(location=[-37.791107, 144.970565],width=\"%100\",height=\"%100\",zoom_start=10)\n",
    "df_start=pd.read_csv(r'C:\\Melbourne_Escooter\\RealDataset\\FinalResults\\August\\Started\\PerDay\\1\\1AugHour19_00-23_59.csv')\n",
    "df_stop=pd.read_csv(r'C:\\Melbourne_Escooter\\RealDataset\\FinalResults\\August\\Stopped\\PerDay\\1\\1AugHour19_00-23_59.csv')\n",
    "for i,row in df_start.iterrows():\n",
    "   folium.Marker(location=[row['latitude'], row['longitude']],popup=row['bike_id'],icon=folium.Icon(color=\"blue\",icon=\"circle\")).add_to(melb_map5)\n",
    "\n",
    "for i,row in df_stop.iterrows():\n",
    "   folium.Marker(location=[row['latitude'], row['longitude']],popup=row['bike_id'],icon=folium.Icon(color=\"red\",icon=\"circle\")).add_to(melb_map5)"
   ]
  },
  {
   "cell_type": "code",
   "execution_count": 24,
   "id": "065a470f",
   "metadata": {},
   "outputs": [],
   "source": [
    "melb_map5.save(r'C:\\Melbourne_Escooter\\RealDataset\\FinalResults\\August\\1-monday\\1_startedVSstopped_Hour19_00-23_59.html')"
   ]
  },
  {
   "cell_type": "code",
   "execution_count": null,
   "id": "e56a41fc",
   "metadata": {},
   "outputs": [],
   "source": []
  }
 ],
 "metadata": {
  "kernelspec": {
   "display_name": "geo_env",
   "language": "python",
   "name": "geo_env"
  },
  "language_info": {
   "codemirror_mode": {
    "name": "ipython",
    "version": 3
   },
   "file_extension": ".py",
   "mimetype": "text/x-python",
   "name": "python",
   "nbconvert_exporter": "python",
   "pygments_lexer": "ipython3",
   "version": "3.10.5"
  }
 },
 "nbformat": 4,
 "nbformat_minor": 5
}
